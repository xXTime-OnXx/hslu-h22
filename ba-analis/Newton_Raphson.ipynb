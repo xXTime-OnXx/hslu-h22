{
 "cells": [
  {
   "cell_type": "code",
   "execution_count": 5,
   "id": "bef45098-5b13-4bcc-a284-da111ebd5588",
   "metadata": {},
   "outputs": [],
   "source": [
    "import numpy as np\n",
    "import matplotlib.pyplot as pl\n",
    "import matplotlib.ticker as tk\n",
    "import math"
   ]
  },
  {
   "cell_type": "code",
   "execution_count": 4,
   "id": "cbd22a23-1612-42ff-898b-ec12cf863b35",
   "metadata": {},
   "outputs": [
    {
     "name": "stdout",
     "output_type": "stream",
     "text": [
      "2.25\n",
      "2.236111111111111\n",
      "2.236067977915804\n",
      "2.23606797749979\n",
      "2.23606797749979\n",
      "2.23606797749979\n",
      "2.23606797749979\n",
      "2.23606797749979\n",
      "2.23606797749979\n",
      "2.23606797749979\n"
     ]
    }
   ],
   "source": [
    "def f(x):\n",
    "    return x**2-5\n",
    "\n",
    "def dfx(x):\n",
    "    return 2*x\n",
    "\n",
    "def newton_raphson(x_guess, iterates):\n",
    "    for i in range(iterates):\n",
    "        x_neu = x_guess - f(x_guess) / dfx(x_guess)\n",
    "        print(x_neu)\n",
    "        x_guess = x_neu\n",
    "\n",
    "\n",
    "newton_raphson(2, 10)"
   ]
  },
  {
   "cell_type": "code",
   "execution_count": null,
   "id": "6c285999-8762-4972-865f-2dfce56269c8",
   "metadata": {},
   "outputs": [],
   "source": []
  }
 ],
 "metadata": {
  "kernelspec": {
   "display_name": "venv",
   "language": "python",
   "name": "python3"
  },
  "language_info": {
   "codemirror_mode": {
    "name": "ipython",
    "version": 3
   },
   "file_extension": ".py",
   "mimetype": "text/x-python",
   "name": "python",
   "nbconvert_exporter": "python",
   "pygments_lexer": "ipython3",
   "version": "3.10.8 (tags/v3.10.8:aaaf517, Oct 11 2022, 16:50:30) [MSC v.1933 64 bit (AMD64)]"
  },
  "vscode": {
   "interpreter": {
    "hash": "d80cc920d25c1d92593b6aac86af4433dd7b5970d464c24070744c11223ad8fd"
   }
  }
 },
 "nbformat": 4,
 "nbformat_minor": 5
}
