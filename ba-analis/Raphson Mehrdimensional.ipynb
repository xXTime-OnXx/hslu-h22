{
 "cells": [
  {
   "cell_type": "code",
   "execution_count": 1,
   "id": "cb68ef65",
   "metadata": {},
   "outputs": [],
   "source": [
    "import numpy as np"
   ]
  },
  {
   "cell_type": "markdown",
   "id": "2c0b3347-1e26-4cc1-b23e-6be0da95ccfa",
   "metadata": {},
   "source": [
    "F (also Funktionsmatrix) definieren - Wichtig zu beachten, x ist ein Vektor und die Funktion ist auf zwei Variabeln eingestellt, ansonsten müsste noch auf ein x3 erweitert werden. x2 ist in diesem Fall der Y Wert"
   ]
  },
  {
   "cell_type": "code",
   "execution_count": 15,
   "id": "3044431a",
   "metadata": {},
   "outputs": [],
   "source": [
    "def F (x):\n",
    "    x1 = x [0, 0]\n",
    "    x2 = x [1, 0]\n",
    "    # Untenstehend F1 = x-y+1\n",
    "    F1 = x1-x2+1\n",
    "    # Untenstehend F2 = x^2 - y - 1\n",
    "    F2 = x1**2-x2-1\n",
    "    return np.array ([[F1], [F2]])"
   ]
  },
  {
   "cell_type": "markdown",
   "id": "a06ce198-0034-494e-aedb-44f0528e3d04",
   "metadata": {},
   "source": [
    "x0 Definieren"
   ]
  },
  {
   "cell_type": "code",
   "execution_count": 21,
   "id": "734baee2",
   "metadata": {},
   "outputs": [
    {
     "name": "stdout",
     "output_type": "stream",
     "text": [
      "[[-2.]\n",
      " [-1.]]\n"
     ]
    }
   ],
   "source": [
    "x0 = np.array ([[-2.0], [-1.0]])\n",
    "print (x0)"
   ]
  },
  {
   "cell_type": "code",
   "execution_count": 22,
   "id": "de8f2716",
   "metadata": {},
   "outputs": [
    {
     "data": {
      "text/plain": [
       "array([[0.],\n",
       "       [4.]])"
      ]
     },
     "execution_count": 22,
     "metadata": {},
     "output_type": "execute_result"
    }
   ],
   "source": [
    "F (x0)"
   ]
  },
  {
   "cell_type": "markdown",
   "id": "0a4ce043-c18a-416e-b9c2-e7ec6ef135d6",
   "metadata": {},
   "source": [
    "Jacobi Matrix definieren - hier auch wieder gleiches Spiel, x1 = x , x2 = y, alles weitere müsste noch nacherfasst werden. F12 ist erste Zeile, zweite Spalte."
   ]
  },
  {
   "cell_type": "code",
   "execution_count": 23,
   "id": "d57c9357",
   "metadata": {},
   "outputs": [],
   "source": [
    "def J (x):\n",
    "    x1 = x [0, 0]\n",
    "    x2 = x [1, 0]\n",
    "    F11 = 1\n",
    "    F12 = -1\n",
    "    F21 = 2*x1\n",
    "    F22 = -1\n",
    "    return np.array ([[F11, F12], [F21, F22]])"
   ]
  },
  {
   "cell_type": "code",
   "execution_count": 24,
   "id": "4917bea5",
   "metadata": {},
   "outputs": [
    {
     "data": {
      "text/plain": [
       "array([[ 1., -1.],\n",
       "       [-4., -1.]])"
      ]
     },
     "execution_count": 24,
     "metadata": {},
     "output_type": "execute_result"
    }
   ],
   "source": [
    "J (x0)"
   ]
  },
  {
   "cell_type": "markdown",
   "id": "55e040c9-0761-4dba-af7a-8c9f2a07f1bc",
   "metadata": {},
   "source": [
    "Fehler definieren und durchlaufen lassen"
   ]
  },
  {
   "cell_type": "code",
   "execution_count": 25,
   "id": "d7435c4c",
   "metadata": {},
   "outputs": [
    {
     "name": "stdout",
     "output_type": "stream",
     "text": [
      "[[-1.2 -0.2]]\n",
      "[[-1.01176471 -0.01176471]]\n",
      "[[-1.00004578e+00 -4.57770657e-05]]\n",
      "[[-1.00000000e+00 -6.98491959e-10]]\n",
      "[[-1.00000000e+00 -2.87313576e-17]]\n"
     ]
    }
   ],
   "source": [
    "xk = x0\n",
    "eps = 5E-6\n",
    "while 1:\n",
    "    dx = np.linalg.solve (J (xk), F (xk))\n",
    "    xk = xk - dx\n",
    "    print (xk.T)\n",
    "    if np.sqrt (dx.T @ dx) < eps:\n",
    "        break"
   ]
  },
  {
   "cell_type": "code",
   "execution_count": 2,
   "id": "b437f91a-4828-4ec0-9259-2ae393d4e254",
   "metadata": {},
   "outputs": [
    {
     "data": {
      "text/plain": [
       "array([[0.2       ],\n",
       "       [0.16666667]])"
      ]
     },
     "execution_count": 2,
     "metadata": {},
     "output_type": "execute_result"
    }
   ],
   "source": [
    "A = np.array([\n",
    "    [20,12],\n",
    "    [10,12]\n",
    "])\n",
    "b = np.array([\n",
    "    [6],\n",
    "    [4]\n",
    "])\n",
    "np.linalg.solve(A,b)"
   ]
  },
  {
   "cell_type": "code",
   "execution_count": null,
   "id": "293dc4fc-0908-4867-9a11-31eab4b2da06",
   "metadata": {},
   "outputs": [],
   "source": []
  }
 ],
 "metadata": {
  "kernelspec": {
   "display_name": "venv",
   "language": "python",
   "name": "python3"
  },
  "language_info": {
   "codemirror_mode": {
    "name": "ipython",
    "version": 3
   },
   "file_extension": ".py",
   "mimetype": "text/x-python",
   "name": "python",
   "nbconvert_exporter": "python",
   "pygments_lexer": "ipython3",
   "version": "3.10.8 (tags/v3.10.8:aaaf517, Oct 11 2022, 16:50:30) [MSC v.1933 64 bit (AMD64)]"
  },
  "vscode": {
   "interpreter": {
    "hash": "d80cc920d25c1d92593b6aac86af4433dd7b5970d464c24070744c11223ad8fd"
   }
  }
 },
 "nbformat": 4,
 "nbformat_minor": 5
}
