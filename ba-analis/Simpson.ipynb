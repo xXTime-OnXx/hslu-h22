{
 "cells": [
  {
   "cell_type": "code",
   "execution_count": 1,
   "id": "ab377165",
   "metadata": {},
   "outputs": [],
   "source": [
    "import numpy as np"
   ]
  },
  {
   "cell_type": "code",
   "execution_count": 12,
   "id": "cafcc928",
   "metadata": {},
   "outputs": [],
   "source": [
    "def f (x):\n",
    "    return np.e**-x**2"
   ]
  },
  {
   "cell_type": "code",
   "execution_count": 13,
   "id": "1f1f2e87",
   "metadata": {},
   "outputs": [],
   "source": [
    "a = -1"
   ]
  },
  {
   "cell_type": "code",
   "execution_count": 14,
   "id": "a70a3e4b",
   "metadata": {},
   "outputs": [],
   "source": [
    "b = 2"
   ]
  },
  {
   "cell_type": "code",
   "execution_count": 15,
   "id": "cde7d0ac",
   "metadata": {},
   "outputs": [],
   "source": [
    "def Rechteck (f, a, b, n):\n",
    "    h = (b - a) / n\n",
    "    x = np.linspace (a, b, n + 1)\n",
    "    y = f (x)\n",
    "    return h * np.sum (y [:-1])"
   ]
  },
  {
   "cell_type": "code",
   "execution_count": 16,
   "id": "00c6af86",
   "metadata": {},
   "outputs": [],
   "source": [
    "def Trapez (f, a, b, n):\n",
    "    h = (b - a) / n\n",
    "    x = np.linspace (a, b, n + 1)\n",
    "    y = f (x)\n",
    "    return h * ((y [0] + y [-1]) / 2 + np.sum (y [1:-1]))"
   ]
  },
  {
   "cell_type": "code",
   "execution_count": 17,
   "id": "3d0d6022",
   "metadata": {},
   "outputs": [],
   "source": [
    "def Simpson (f, a, b, N):\n",
    "    n = N // 2\n",
    "    N = 2 * n\n",
    "    h = (b - a) / N\n",
    "    x = np.linspace (a, b, N + 1)\n",
    "    y = f (x)\n",
    "    return (b - a) / (6 * n) * (y [0] + 4 * np.sum (y [1:-1:2]) + 2 * np.sum (y [2:-1:2]) + y [-1])"
   ]
  },
  {
   "cell_type": "code",
   "execution_count": 23,
   "id": "72533a88",
   "metadata": {},
   "outputs": [
    {
     "data": {
      "text/plain": [
       "1.6349736115153202"
      ]
     },
     "execution_count": 23,
     "metadata": {},
     "output_type": "execute_result"
    }
   ],
   "source": [
    "Simpson (f, a, b, 4)"
   ]
  },
  {
   "cell_type": "code",
   "execution_count": 36,
   "id": "d8205988",
   "metadata": {},
   "outputs": [
    {
     "data": {
      "text/plain": [
       "3.3823588374559677e-10"
      ]
     },
     "execution_count": 36,
     "metadata": {},
     "output_type": "execute_result"
    }
   ],
   "source": [
    "Simpson (f, a, b, 100) - 1"
   ]
  },
  {
   "cell_type": "code",
   "execution_count": 37,
   "id": "3d94ff67",
   "metadata": {},
   "outputs": [
    {
     "data": {
      "text/plain": [
       "3.375077994860476e-14"
      ]
     },
     "execution_count": 37,
     "metadata": {},
     "output_type": "execute_result"
    }
   ],
   "source": [
    "Simpson (f, a, b, 1000) - 1"
   ]
  },
  {
   "cell_type": "code",
   "execution_count": 25,
   "id": "845318a6",
   "metadata": {},
   "outputs": [
    {
     "name": "stdout",
     "output_type": "stream",
     "text": [
      "[ 0.  1.  2.  3.  4.  5.  6.  7.  8.  9. 10.]\n",
      "0.0\n",
      "[1. 3. 5. 7. 9.]\n",
      "[2. 4. 6. 8.]\n",
      "10.0\n"
     ]
    }
   ],
   "source": [
    "a = np.linspace (0, 10, 11)\n",
    "print (a)\n",
    "print (a [0])\n",
    "print (a [1:-1:2])\n",
    "print (a [2:-1:2])\n",
    "print (a [-1])"
   ]
  },
  {
   "cell_type": "code",
   "execution_count": 7,
   "id": "2445e887",
   "metadata": {},
   "outputs": [
    {
     "data": {
      "text/plain": [
       "0.9194031700146124"
      ]
     },
     "execution_count": 7,
     "metadata": {},
     "output_type": "execute_result"
    }
   ],
   "source": [
    "Rechteck (f, a, b, 10)"
   ]
  },
  {
   "cell_type": "code",
   "execution_count": 8,
   "id": "5e9fa79a",
   "metadata": {},
   "outputs": [
    {
     "data": {
      "text/plain": [
       "0.9921254566056329"
      ]
     },
     "execution_count": 8,
     "metadata": {},
     "output_type": "execute_result"
    }
   ],
   "source": [
    "Rechteck (f, a, b, 100)"
   ]
  },
  {
   "cell_type": "code",
   "execution_count": 9,
   "id": "dc44a072",
   "metadata": {},
   "outputs": [
    {
     "data": {
      "text/plain": [
       "0.9992143962198358"
      ]
     },
     "execution_count": 9,
     "metadata": {},
     "output_type": "execute_result"
    }
   ],
   "source": [
    "Rechteck (f, a, b, 1000)"
   ]
  },
  {
   "cell_type": "code",
   "execution_count": 18,
   "id": "4d80276a",
   "metadata": {},
   "outputs": [
    {
     "data": {
      "text/plain": [
       "1.6283128993750746"
      ]
     },
     "execution_count": 18,
     "metadata": {},
     "output_type": "execute_result"
    }
   ],
   "source": [
    "Trapez (f, a, b, 32)"
   ]
  },
  {
   "cell_type": "code",
   "execution_count": 11,
   "id": "1f798ebe",
   "metadata": {},
   "outputs": [
    {
     "data": {
      "text/plain": [
       "0.9999794382396073"
      ]
     },
     "execution_count": 11,
     "metadata": {},
     "output_type": "execute_result"
    }
   ],
   "source": [
    "Trapez (f, a, b, 100)"
   ]
  },
  {
   "cell_type": "code",
   "execution_count": 12,
   "id": "0aa40b72",
   "metadata": {},
   "outputs": [
    {
     "data": {
      "text/plain": [
       "0.9999997943832332"
      ]
     },
     "execution_count": 12,
     "metadata": {},
     "output_type": "execute_result"
    }
   ],
   "source": [
    "Trapez (f, a, b, 1000)"
   ]
  },
  {
   "cell_type": "code",
   "execution_count": 13,
   "id": "51e77154",
   "metadata": {},
   "outputs": [],
   "source": [
    "def g (x):\n",
    "    return x ** 2"
   ]
  },
  {
   "cell_type": "code",
   "execution_count": 14,
   "id": "d56ad75f",
   "metadata": {},
   "outputs": [
    {
     "data": {
      "text/plain": [
       "0.3333333533298884"
      ]
     },
     "execution_count": 14,
     "metadata": {},
     "output_type": "execute_result"
    }
   ],
   "source": [
    "Trapez (g, 0, 1, 2887)"
   ]
  },
  {
   "cell_type": "code",
   "execution_count": 15,
   "id": "42408f27",
   "metadata": {},
   "outputs": [],
   "source": [
    "def h (x):\n",
    "    return np.exp (- x ** 2)"
   ]
  },
  {
   "cell_type": "code",
   "execution_count": 16,
   "id": "3c9944fa",
   "metadata": {},
   "outputs": [
    {
     "data": {
      "text/plain": [
       "1.6288448461358307"
      ]
     },
     "execution_count": 16,
     "metadata": {},
     "output_type": "execute_result"
    }
   ],
   "source": [
    "Trapez (h, -1, 2, 100)"
   ]
  },
  {
   "cell_type": "code",
   "execution_count": null,
   "id": "607ed7a5",
   "metadata": {},
   "outputs": [],
   "source": []
  }
 ],
 "metadata": {
  "kernelspec": {
   "display_name": "venv",
   "language": "python",
   "name": "python3"
  },
  "language_info": {
   "codemirror_mode": {
    "name": "ipython",
    "version": 3
   },
   "file_extension": ".py",
   "mimetype": "text/x-python",
   "name": "python",
   "nbconvert_exporter": "python",
   "pygments_lexer": "ipython3",
   "version": "3.10.8 (tags/v3.10.8:aaaf517, Oct 11 2022, 16:50:30) [MSC v.1933 64 bit (AMD64)]"
  },
  "vscode": {
   "interpreter": {
    "hash": "d80cc920d25c1d92593b6aac86af4433dd7b5970d464c24070744c11223ad8fd"
   }
  }
 },
 "nbformat": 4,
 "nbformat_minor": 5
}
