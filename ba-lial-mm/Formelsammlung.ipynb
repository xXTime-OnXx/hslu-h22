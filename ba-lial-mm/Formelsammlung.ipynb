{
 "cells": [
  {
   "cell_type": "markdown",
   "id": "d8c97f2e-1583-4f9e-9425-8fc51d11bf29",
   "metadata": {},
   "source": [
    "# Formelsammlung Lineare Algebra"
   ]
  },
  {
   "cell_type": "code",
   "execution_count": null,
   "id": "f774d928-6e12-47ee-8f84-c440ba0a6159",
   "metadata": {},
   "outputs": [],
   "source": [
    "import numpy as np"
   ]
  },
  {
   "cell_type": "markdown",
   "id": "8ad35746-983f-4be0-a5ad-c36ca2fb4df6",
   "metadata": {},
   "source": [
    "## Vektorgeometrie"
   ]
  },
  {
   "cell_type": "markdown",
   "id": "733c469e-c80b-4fab-a288-2848ee2c5c8a",
   "metadata": {},
   "source": [
    "// TODO !!!"
   ]
  },
  {
   "cell_type": "markdown",
   "id": "7720c420-28b4-4e11-8509-9a0dba2e256c",
   "metadata": {
    "tags": []
   },
   "source": [
    "## Lineare Gleichungssysteme"
   ]
  },
  {
   "cell_type": "markdown",
   "id": "ff56015c-9ceb-4476-8caa-047eb0cf2514",
   "metadata": {},
   "source": [
    "### Multiplikation zweier Matrizen"
   ]
  },
  {
   "cell_type": "code",
   "execution_count": 5,
   "id": "427b1680-31f5-4394-96cd-3559bae5c3a0",
   "metadata": {},
   "outputs": [
    {
     "data": {
      "text/plain": [
       "array([[ -2, -26],\n",
       "       [-11,   5],\n",
       "       [ -9,  -6]])"
      ]
     },
     "execution_count": 5,
     "metadata": {},
     "output_type": "execute_result"
    }
   ],
   "source": [
    "import numpy as np\n",
    "\n",
    "A = np.array([\n",
    "    [4, -2, -2, 0],\n",
    "    [-2, -7, 3, 8],\n",
    "    [0, 1, -2, -1]\n",
    "])\n",
    "B = np.array([\n",
    "    [4, -5],\n",
    "    [3, -1],\n",
    "    [6, 4],\n",
    "    [0, -3]\n",
    "])\n",
    "A @ B"
   ]
  },
  {
   "cell_type": "markdown",
   "id": "848d9bc7-ee46-4f7a-bea4-bd979a01f940",
   "metadata": {},
   "source": [
    "### Gleichungssystem anhand einer Koeffizientenmatrix lösen\n",
    "#### Definition\n",
    "<strong>A</strong> = Matrix der Koeffizienten<br>\n",
    "<strong>b</strong> = Matrix der Konstanten\n",
    "\n",
    "#### Beispiel\n",
    "<strong>Gleichungssystem:</strong><br>\n",
    "6x − y −   z =  4<br>\n",
    " x + y + 10z = −6<br>\n",
    "2x − y +   z = −2<br>\n",
    "<br>\n",
    "<strong>Erweiterte Koeffizientenmatrix:</strong><br>\n",
    "\\[6, -1, -1|4\\]<br>\n",
    "\\[1, 1, 10|-6\\]<br>\n",
    "\\[2, -1, 1|-2\\]<br>\n",
    "\n",
    "#### Einsetzen\n",
    "```python\n",
    "A = np.array([\n",
    "    [6, -1, -1],\n",
    "    [1, 1, 10],\n",
    "    [2, -1, 1],\n",
    "])\n",
    "b = np.array([\n",
    "    [4],\n",
    "    [-6],\n",
    "    [-2],\n",
    "])\n",
    "```\n",
    "\n",
    "#### Lösung\n",
    "Die funktion ```np.linalg.solve()``` gibt ein Array mit den Werten für \\[x, y, z\\] zurück.\n",
    "```python\n",
    "[[ 1.]\n",
    " [ 3.]\n",
    " [-1.]]\n",
    "```"
   ]
  },
  {
   "cell_type": "code",
   "execution_count": null,
   "id": "36bcbe94-8452-4dc1-9e34-cfb5fb215266",
   "metadata": {},
   "outputs": [
    {
     "name": "stdout",
     "output_type": "stream",
     "text": [
      "[[ 7. -3.]\n",
      " [-2.  1.]]\n"
     ]
    }
   ],
   "source": [
    "A = np.array([\n",
    "    [3, 2, -1],\n",
    "    [5, 3, 2],\n",
    "    [3, 1, 3],\n",
    "])\n",
    "b = np.array([\n",
    "    [-15],\n",
    "    [0],\n",
    "    [11],\n",
    "])\n",
    "x = np.linalg.solve(A, b)\n",
    "print(x)"
   ]
  }
 ],
 "metadata": {
  "kernelspec": {
   "display_name": "Python 3 (ipykernel)",
   "language": "python",
   "name": "python3"
  },
  "language_info": {
   "codemirror_mode": {
    "name": "ipython",
    "version": 3
   },
   "file_extension": ".py",
   "mimetype": "text/x-python",
   "name": "python",
   "nbconvert_exporter": "python",
   "pygments_lexer": "ipython3",
   "version": "3.10.7"
  }
 },
 "nbformat": 4,
 "nbformat_minor": 5
}
