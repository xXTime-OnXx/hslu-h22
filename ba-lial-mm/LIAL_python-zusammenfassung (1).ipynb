{
 "cells": [
  {
   "cell_type": "markdown",
   "id": "481323ec-887a-4133-8199-12e39f57ce00",
   "metadata": {},
   "source": [
    "# Imports"
   ]
  },
  {
   "cell_type": "code",
   "execution_count": 3,
   "id": "88088d2f-0b00-4407-9cb1-51832733109e",
   "metadata": {},
   "outputs": [],
   "source": [
    "# Info:\n",
    "# Zusammengestellt aus den Notebooks von Joachim Wirth und eigenen Übungen\n",
    "import numpy as np\n",
    "import matplotlib.pyplot as pl"
   ]
  },
  {
   "cell_type": "markdown",
   "id": "48390e6a-aa23-40c1-a219-c5889cd995f0",
   "metadata": {},
   "source": [
    "# Matrix erstellen"
   ]
  },
  {
   "cell_type": "code",
   "execution_count": 2,
   "id": "89f1e8ed-b50b-45fd-882d-bae20f9b2129",
   "metadata": {},
   "outputs": [],
   "source": [
    "Matrix = np.array([\n",
    "    [1, 1, 2],\n",
    "    [3, 1, 1],\n",
    "    [3, 2, 4]\n",
    "])"
   ]
  },
  {
   "cell_type": "markdown",
   "id": "f70f7831-2941-4b5d-98f7-df92874ad051",
   "metadata": {},
   "source": [
    "# Inverse"
   ]
  },
  {
   "cell_type": "code",
   "execution_count": 3,
   "id": "3f925254-9401-4284-a359-fff5c35bab2e",
   "metadata": {},
   "outputs": [
    {
     "data": {
      "text/plain": [
       "array([[-2.00000000e+00,  2.22044605e-16,  1.00000000e+00],\n",
       "       [ 9.00000000e+00,  2.00000000e+00, -5.00000000e+00],\n",
       "       [-3.00000000e+00, -1.00000000e+00,  2.00000000e+00]])"
      ]
     },
     "execution_count": 3,
     "metadata": {},
     "output_type": "execute_result"
    }
   ],
   "source": [
    "np.linalg.inv(Matrix)"
   ]
  },
  {
   "cell_type": "markdown",
   "id": "3bcd756d-e6d9-4e52-96da-9603f53c713a",
   "metadata": {},
   "source": [
    "# Determinante"
   ]
  },
  {
   "cell_type": "code",
   "execution_count": 4,
   "id": "7353648c-fbc6-491d-997a-30c1b2d4f992",
   "metadata": {},
   "outputs": [
    {
     "data": {
      "text/plain": [
       "-1.0000000000000004"
      ]
     },
     "execution_count": 4,
     "metadata": {},
     "output_type": "execute_result"
    }
   ],
   "source": [
    "np.linalg.det(Matrix)"
   ]
  },
  {
   "cell_type": "markdown",
   "id": "137f83d5-91fb-4dc4-b03b-b01ed85be0b6",
   "metadata": {},
   "source": [
    "# Rang einer Matrix"
   ]
  },
  {
   "cell_type": "code",
   "execution_count": 5,
   "id": "d9be1fa6-5d01-4a54-b060-b139daf9c918",
   "metadata": {},
   "outputs": [
    {
     "data": {
      "text/plain": [
       "3"
      ]
     },
     "execution_count": 5,
     "metadata": {},
     "output_type": "execute_result"
    }
   ],
   "source": [
    "# https://mxncalc.com/de/rank\n",
    "np.linalg.matrix_rank(Matrix)"
   ]
  },
  {
   "cell_type": "markdown",
   "id": "ed547d7c-d0d0-470d-a39e-6387ff9e915e",
   "metadata": {},
   "source": [
    "# Einheitsmatrix"
   ]
  },
  {
   "cell_type": "code",
   "execution_count": 30,
   "id": "e90534b6-f588-4c86-baa2-83122a9fecd5",
   "metadata": {},
   "outputs": [
    {
     "name": "stdout",
     "output_type": "stream",
     "text": [
      "[[1. 0. 0. 0.]\n",
      " [0. 1. 0. 0.]\n",
      " [0. 0. 1. 0.]\n",
      " [0. 0. 0. 1.]]\n"
     ]
    }
   ],
   "source": [
    "n = Matrix.shape [0]\n",
    "I = np.eye (n)\n",
    "print(I)"
   ]
  },
  {
   "cell_type": "markdown",
   "id": "2e38ee32-a89b-4deb-b6f3-0f54999c6a20",
   "metadata": {},
   "source": [
    "# LU Zerlegung"
   ]
  },
  {
   "cell_type": "code",
   "execution_count": 7,
   "id": "e196906c-c893-468d-b451-8355a92a4cef",
   "metadata": {},
   "outputs": [],
   "source": [
    "# https://mxncalc.com/de/lu-factorization\n",
    "\n",
    "def LU (A):\n",
    "    n = A.shape [0]\n",
    "    L = np.eye (n)\n",
    "    U = np.copy (A)\n",
    "    \n",
    "    for i in range (n - 1):\n",
    "        L [i + 1 : n, i] = U [i + 1 : n, i] / U [i, i]\n",
    "        for k in range (i + 1, n):\n",
    "            U [k, i : n] = U [k, i : n] - (L [k, i] * U [i, i : n])\n",
    "                                           \n",
    "    return (L, U)"
   ]
  },
  {
   "cell_type": "markdown",
   "id": "ed805eab-a9a2-42f5-b5a8-32bc062b7cbe",
   "metadata": {},
   "source": [
    "# Gauss"
   ]
  },
  {
   "cell_type": "code",
   "execution_count": 8,
   "id": "cfdcccf6-feac-4953-9b78-8487a217e552",
   "metadata": {},
   "outputs": [],
   "source": [
    "# https://matrixcalc.org/de/slu.html \n",
    "\n",
    "\n",
    "def Gauss (A0, b0):\n",
    "    n = A0.shape [0]\n",
    "    A = np.copy (A0)\n",
    "    b = np.copy (b0)\n",
    "    for i in range (n - 1):\n",
    "        k = i + 1 + np.argmax (abs (A [i + 1 : n, i]))\n",
    "        tmp = np.copy (A [i]); A [i] = A [k]; A [k] = tmp\n",
    "        tmp = np.copy (b [i]); b [i] = b [k]; b [k] = tmp\n",
    "        for k in range (i + 1, n):\n",
    "            s = A [k, i] / A [i, i]\n",
    "            A [k] = A [k] - s * A [i]\n",
    "            b [k] = b [k] - s * b [i]\n",
    "    x = np.zeros ((n, 1))\n",
    "    for i in range (n - 1, -1, -1):\n",
    "        s = b [i]\n",
    "        for k in range (i + 1, n):\n",
    "            s = s - A [i, k] * x [k]\n",
    "        x [i] = s / A [i, i]\n",
    "    return x\n",
    "\n",
    "def gauss (A):\n",
    "    m, n = A.shape # m: anzahl der Zeilen + n: Anzahl der Spalten\n",
    "    for i in range (m - 1): # Diagonalelement A [i, i]\n",
    "        for j in range(i + 1, n): # Alle Elemente unterhalb von A [i, i]\n",
    "            f = A[j, i] / A[i, i] # Faktor zu Multiplikation der oberen Zeile\n",
    "            A[j, :] -= f * A[i, :] # Vielfaches der i-ten Zeile von der j-ten subtrahieren"
   ]
  },
  {
   "cell_type": "markdown",
   "id": "e07e1dfa-7b9d-4043-9a44-1bee50e166fc",
   "metadata": {},
   "source": [
    "# Eigenwerte & Vektoren"
   ]
  },
  {
   "cell_type": "code",
   "execution_count": 7,
   "id": "ad8859d2-b422-4689-93e6-3615c98e1263",
   "metadata": {},
   "outputs": [
    {
     "name": "stdout",
     "output_type": "stream",
     "text": [
      "[ 9.51783442 -4.51783442]\n",
      "[[ 0.73186305 -0.68145174]\n",
      " [ 0.68145174  0.73186305]]\n"
     ]
    }
   ],
   "source": [
    "#https://matrixcalc.org/de/vectors.html\n",
    "\n",
    "Matrix = np.array([\n",
    "    [3, 7],\n",
    "    [7, 2],\n",
    "])\n",
    "\n",
    "eigenwert, eigenvektor = np.linalg.eig(Matrix)\n",
    "print(eigenwert)\n",
    "print(eigenvektor)"
   ]
  },
  {
   "cell_type": "markdown",
   "id": "a53a0978-6dbe-474a-894b-6ba63a741dc3",
   "metadata": {},
   "source": [
    "# SVD | Zerlegung von beliebigen Matrizen"
   ]
  },
  {
   "cell_type": "code",
   "execution_count": 9,
   "id": "83a05741-6338-41c2-877e-4abc0a9d4a97",
   "metadata": {},
   "outputs": [
    {
     "name": "stdout",
     "output_type": "stream",
     "text": [
      "U\n",
      "[[-0.73186305 -0.68145174]\n",
      " [-0.68145174  0.73186305]]\n",
      "D\n",
      "[9.51783442 4.51783442]\n",
      "V\n",
      "[[-0.73186305 -0.68145174]\n",
      " [ 0.68145174 -0.73186305]]\n"
     ]
    }
   ],
   "source": [
    "U, D, V = np.linalg.svd (Matrix)\n",
    "Sigma = np.diag (D)\n",
    "print('U')\n",
    "print(U)\n",
    "print('D')\n",
    "print(D)\n",
    "print('V')\n",
    "print(V)"
   ]
  },
  {
   "cell_type": "markdown",
   "id": "923dfa65-7424-4911-9d00-fddc7cea3dbd",
   "metadata": {},
   "source": [
    "# Transformation"
   ]
  },
  {
   "cell_type": "code",
   "execution_count": 11,
   "id": "b5af3861-eb9d-4bf2-86cb-7c7325f17dd2",
   "metadata": {},
   "outputs": [
    {
     "data": {
      "text/plain": [
       "(-0.16830127018922192,\n",
       " 3.53432667397366,\n",
       " -0.2616025403784439,\n",
       " 5.493653347947322)"
      ]
     },
     "execution_count": 11,
     "metadata": {},
     "output_type": "execute_result"
    },
    {
     "data": {
      "image/png": "[encoded data removed]",
      "text/plain": [
       "<Figure size 432x288 with 1 Axes>"
      ]
     },
     "metadata": {
      "needs_background": "light"
     },
     "output_type": "display_data"
    }
   ],
   "source": [
    "def Rot (phi):\n",
    "    t = phi * np.pi / 180\n",
    "    c = np.cos (t)\n",
    "    s = np.sin (t)\n",
    "    return np.array ([\n",
    "        [c, -s, 0],\n",
    "        [s,  c, 0],\n",
    "        [0,  0, 1]\n",
    "    ])\n",
    "\n",
    "def Trans (u, v):\n",
    "    return np.array ([\n",
    "        [1, 0, u],\n",
    "        [0, 1, v],\n",
    "        [0, 0, 1]\n",
    "    ])\n",
    "\n",
    "p = np.array ([\n",
    "    [1, 2, 2, 3, 3, 2, 2, 3, 3, 1, 1],\n",
    "    [1, 1, 2, 2, 3, 3, 4, 4, 5, 5, 1],\n",
    "    [1, 1, 1, 1, 1, 1, 1, 1, 1, 1, 1]\n",
    "])\n",
    "\n",
    "R = Rot (30)\n",
    "T = Trans (2, 3)\n",
    "M = T @ R @ np.linalg.inv (T)\n",
    "\n",
    "q = M @ p\n",
    "pl.plot ([0], [0], 'o')\n",
    "pl.plot (p [0, :], p [1, :], 'blue')\n",
    "pl.plot (q [0, :], q [1, :], 'red')\n",
    "pl.axis ('scaled')"
   ]
  },
  {
   "cell_type": "markdown",
   "id": "08d29916-6c3b-4dfd-a588-b22bfa02f08a",
   "metadata": {},
   "source": [
    "# Matrix Zentrieren"
   ]
  },
  {
   "cell_type": "code",
   "execution_count": 15,
   "id": "cffad516-e997-4c4a-9b76-5e6506217efd",
   "metadata": {},
   "outputs": [
    {
     "name": "stdout",
     "output_type": "stream",
     "text": [
      "[[-2.5 -2.5]\n",
      " [-0.5 -1.5]\n",
      " [ 0.5  0.5]\n",
      " [ 2.5  3.5]]\n"
     ]
    }
   ],
   "source": [
    "Matrix = np.array([\n",
    "    [1, 1],\n",
    "    [3, 2],\n",
    "    [4, 4],\n",
    "    [6, 7],\n",
    "])\n",
    "\n",
    "m, n = Matrix.shape\n",
    "M = np.eye (m) - np.ones ((m, m)) / m\n",
    "X = M @ Matrix\n",
    "print(X)"
   ]
  },
  {
   "cell_type": "markdown",
   "id": "5def3088-9b9c-41e7-838f-051e94572da1",
   "metadata": {},
   "source": [
    "# Kovarianzmatrix"
   ]
  },
  {
   "cell_type": "code",
   "execution_count": 16,
   "id": "90b5b9d7-d0a9-4de2-8a13-839c7645c7c1",
   "metadata": {},
   "outputs": [
    {
     "name": "stdout",
     "output_type": "stream",
     "text": [
      "[[4.33333333 5.33333333]\n",
      " [5.33333333 7.        ]]\n"
     ]
    }
   ],
   "source": [
    "C  = X.T @ X / (m - 1)\n",
    "print(C)"
   ]
  },
  {
   "cell_type": "markdown",
   "id": "619777a2-c06c-4967-b32e-9e21ae004ae1",
   "metadata": {},
   "source": [
    "# Hauptkomponentenanalyse | SVD / PCA"
   ]
  },
  {
   "cell_type": "code",
   "execution_count": 29,
   "id": "7ac42795-8d94-4ed8-86aa-3fccd6c57f30",
   "metadata": {},
   "outputs": [
    {
     "name": "stdout",
     "output_type": "stream",
     "text": [
      "U\n",
      "[[-0.61541221 -0.78820544]\n",
      " [-0.78820544  0.61541221]]\n",
      "Sigma\n",
      "[11.16414083  0.1691925 ]\n",
      "VT\n",
      "[[-0.61541221 -0.78820544]\n",
      " [-0.78820544  0.61541221]]\n",
      "[[4.33333333 5.33333333]\n",
      " [5.33333333 7.        ]]\n"
     ]
    }
   ],
   "source": [
    "U, Sigma, VT = np.linalg.svd (C)\n",
    "print('U')\n",
    "print(U)\n",
    "print('Sigma')\n",
    "print(Sigma)\n",
    "print('VT')\n",
    "print(VT)"
   ]
  },
  {
   "cell_type": "markdown",
   "id": "bfae830d-9431-42fb-a0c4-209563ed466f",
   "metadata": {},
   "source": [
    "# Runden"
   ]
  },
  {
   "cell_type": "code",
   "execution_count": 15,
   "id": "02f10cc7-95be-4550-ba65-a8ed3a793362",
   "metadata": {},
   "outputs": [
    {
     "data": {
      "text/plain": [
       "array([[1, 1, 2],\n",
       "       [3, 1, 1],\n",
       "       [3, 2, 4]])"
      ]
     },
     "execution_count": 15,
     "metadata": {},
     "output_type": "execute_result"
    }
   ],
   "source": [
    "np.round (Matrix, 4)"
   ]
  },
  {
   "attachments": {},
   "cell_type": "markdown",
   "id": "28daced6-29ff-42c0-9ee9-4561be0bd2c1",
   "metadata": {},
   "source": [
    "# Regressionskoeffizienten"
   ]
  },
  {
   "cell_type": "code",
   "execution_count": 3,
   "id": "067674c2-1309-4cbf-9fb0-ce1157cb9933",
   "metadata": {},
   "outputs": [
    {
     "name": "stdout",
     "output_type": "stream",
     "text": [
      "[[0.66666667]\n",
      " [1.        ]]\n"
     ]
    }
   ],
   "source": [
    "# Datenpunkte sind (0,1), (1,1), (2,3)\n",
    "# X = erste Spalte 1er\n",
    "# X = 2. Spalte 1. Punkt von den Datensätzen\n",
    "# y = 2. punkt von den Datensätzen\n",
    "\n",
    "X = np.array([\n",
    "    [1, 0],\n",
    "    [1, 1],\n",
    "    [1, 2]\n",
    "])\n",
    "\n",
    "y = np.array([\n",
    "    [1],\n",
    "    [1],\n",
    "    [3]\n",
    "])\n",
    "\n",
    "b = (np.linalg.inv(X.T @ X) @ X.T @ y)\n",
    "print(b)"
   ]
  },
  {
   "cell_type": "markdown",
   "id": "d46ddc83-3658-460d-81a9-6a6e08450958",
   "metadata": {},
   "source": [
    "# Projektionsmatrix / Prädiktionsmatrix"
   ]
  },
  {
   "cell_type": "code",
   "execution_count": 17,
   "id": "9003ae92-626b-4d56-a5b6-5a6dfaa8638b",
   "metadata": {},
   "outputs": [
    {
     "name": "stdout",
     "output_type": "stream",
     "text": [
      "[[ 0.83333333  0.33333333 -0.16666667]\n",
      " [ 0.33333333  0.33333333  0.33333333]\n",
      " [-0.16666667  0.33333333  0.83333333]]\n"
     ]
    }
   ],
   "source": [
    "P = X @ np.linalg.inv(X.T @ X) @ X.T\n",
    "print(P)"
   ]
  },
  {
   "cell_type": "markdown",
   "id": "1546f742-d92b-416c-b421-cc55715f51a6",
   "metadata": {},
   "source": [
    "# Residualmatrix"
   ]
  },
  {
   "cell_type": "code",
   "execution_count": 18,
   "id": "10c27c13-e5e5-492b-84ab-4207d7e340a1",
   "metadata": {},
   "outputs": [
    {
     "name": "stdout",
     "output_type": "stream",
     "text": [
      "[[ 0.16666667 -0.33333333  0.16666667]\n",
      " [-0.33333333  0.66666667 -0.33333333]\n",
      " [ 0.16666667 -0.33333333  0.16666667]]\n"
     ]
    }
   ],
   "source": [
    "n = X.shape [0]\n",
    "I = np.eye (n) # Einheitsmatrix\n",
    "\n",
    "Q = I - P\n",
    "print(Q)"
   ]
  },
  {
   "cell_type": "markdown",
   "id": "b4331f1c-6c5c-415c-9f4b-7dab2ac8e12f",
   "metadata": {},
   "source": [
    "# Regressionshyperebene | ˆy"
   ]
  },
  {
   "cell_type": "code",
   "execution_count": 19,
   "id": "80def429-9033-46a0-afa1-fe1b4a6e4076",
   "metadata": {},
   "outputs": [
    {
     "name": "stdout",
     "output_type": "stream",
     "text": [
      "[[0.66666667]\n",
      " [1.66666667]\n",
      " [2.66666667]]\n"
     ]
    }
   ],
   "source": [
    "yDach = P @ y\n",
    "print(yDach)"
   ]
  },
  {
   "cell_type": "markdown",
   "id": "88cb75e6-651b-4dcf-b02c-dcc353ea6455",
   "metadata": {},
   "source": [
    "# Fehlervektor"
   ]
  },
  {
   "cell_type": "code",
   "execution_count": 20,
   "id": "7ffdf300-d96b-4bca-a23c-94855a00cc37",
   "metadata": {},
   "outputs": [
    {
     "name": "stdout",
     "output_type": "stream",
     "text": [
      "y - yDach\n",
      " [[ 0.33333333]\n",
      " [-0.66666667]\n",
      " [ 0.33333333]]\n",
      "Q * y\n",
      " [[ 0.33333333]\n",
      " [-0.66666667]\n",
      " [ 0.33333333]]\n"
     ]
    }
   ],
   "source": [
    "e = y - yDach\n",
    "print('y - yDach\\n', e)\n",
    "#oder\n",
    "\n",
    "e = Q @ y\n",
    "print('Q * y\\n', e)"
   ]
  },
  {
   "cell_type": "markdown",
   "id": "65ed4c62-a5e9-4504-9600-5d50c4f57e04",
   "metadata": {},
   "source": [
    "# SQR"
   ]
  },
  {
   "cell_type": "code",
   "execution_count": 21,
   "id": "c23c917c-7321-456b-a430-a74d6e5f7424",
   "metadata": {},
   "outputs": [
    {
     "name": "stdout",
     "output_type": "stream",
     "text": [
      "[[0.66666667]]\n"
     ]
    }
   ],
   "source": [
    "sqr = e.T @ e\n",
    "print(sqr)"
   ]
  },
  {
   "cell_type": "markdown",
   "id": "cdf8e0a0-01a4-4248-8904-eaea337cf4d3",
   "metadata": {},
   "source": [
    "# SQT"
   ]
  },
  {
   "cell_type": "code",
   "execution_count": 15,
   "id": "bc91362e-073b-4223-a0e4-fef79e31a80c",
   "metadata": {},
   "outputs": [
    {
     "name": "stdout",
     "output_type": "stream",
     "text": [
      "[[2.66666667]]\n"
     ]
    }
   ],
   "source": [
    "# Matrix zentrieren\n",
    "m = X.shape [0]\n",
    "M = np.eye (m) - np.ones ((m, m)) / m\n",
    "\n",
    "sqt = y.T @ M @ y\n",
    "print(sqt)"
   ]
  },
  {
   "cell_type": "markdown",
   "id": "92dc2fcb-8138-42e5-add9-b2e2aae061c1",
   "metadata": {},
   "source": [
    "# Bestimmheitsmass"
   ]
  },
  {
   "cell_type": "code",
   "execution_count": 22,
   "id": "2cc6077d-b71b-4850-ae22-7504469a7f4a",
   "metadata": {},
   "outputs": [
    {
     "name": "stdout",
     "output_type": "stream",
     "text": [
      "[[0.75]]\n"
     ]
    }
   ],
   "source": [
    "R2 = 1 - sqr / sqt\n",
    "print(R2)"
   ]
  }
 ],
 "metadata": {
  "kernelspec": {
   "display_name": "venv",
   "language": "python",
   "name": "python3"
  },
  "language_info": {
   "codemirror_mode": {
    "name": "ipython",
    "version": 3
   },
   "file_extension": ".py",
   "mimetype": "text/x-python",
   "name": "python",
   "nbconvert_exporter": "python",
   "pygments_lexer": "ipython3",
   "version": "3.10.8"
  },
  "vscode": {
   "interpreter": {
    "hash": "d80cc920d25c1d92593b6aac86af4433dd7b5970d464c24070744c11223ad8fd"
   }
  }
 },
 "nbformat": 4,
 "nbformat_minor": 5
}
