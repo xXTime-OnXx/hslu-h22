{
 "cells": [
  {
   "cell_type": "code",
   "execution_count": 3,
   "id": "a73c3d8a-f38b-4e8b-8739-60c9b8735d37",
   "metadata": {},
   "outputs": [],
   "source": [
    "import numpy as np"
   ]
  },
  {
   "cell_type": "code",
   "execution_count": 19,
   "id": "5951b469-0788-4be0-8aaf-f622a52aeaa0",
   "metadata": {},
   "outputs": [
    {
     "name": "stdout",
     "output_type": "stream",
     "text": [
      "[[ 2.]\n",
      " [ 1.]\n",
      " [-1.]]\n"
     ]
    }
   ],
   "source": [
    "a = np.array([\n",
    "    [1, -4, -3],\n",
    "    [2, -2, -1],\n",
    "    [1, -9, -6],\n",
    "])\n",
    "b = np.array([\n",
    "    [1],\n",
    "    [3],\n",
    "    [-1],\n",
    "])\n",
    "x = np.linalg.solve(a, b)\n",
    "print(x)"
   ]
  },
  {
   "cell_type": "code",
   "execution_count": 18,
   "id": "293f9737-cda5-4dbc-a3e8-27782c2a87b6",
   "metadata": {},
   "outputs": [
    {
     "data": {
      "text/plain": [
       "array([[ 1.],\n",
       "       [ 3.],\n",
       "       [-1.]])"
      ]
     },
     "execution_count": 18,
     "metadata": {},
     "output_type": "execute_result"
    }
   ],
   "source": [
    "a @ x"
   ]
  },
  {
   "cell_type": "code",
   "execution_count": 20,
   "id": "049f53d4-02d9-4658-9d90-2b30a3cd5f61",
   "metadata": {},
   "outputs": [],
   "source": [
    "A = np.array([\n",
    "    [6, -1, -1, 4],\n",
    "    [1, 1, 10, -6],\n",
    "    [2, -1, 1, -2],\n",
    "])\n",
    "A[1] = 6 * A[1] - A[0]\n",
    "A[2] = 3 * A[2] - A[0]"
   ]
  }
 ],
 "metadata": {
  "kernelspec": {
   "display_name": "Python 3 (ipykernel)",
   "language": "python",
   "name": "python3"
  },
  "language_info": {
   "codemirror_mode": {
    "name": "ipython",
    "version": 3
   },
   "file_extension": ".py",
   "mimetype": "text/x-python",
   "name": "python",
   "nbconvert_exporter": "python",
   "pygments_lexer": "ipython3",
   "version": "3.10.7"
  }
 },
 "nbformat": 4,
 "nbformat_minor": 5
}
