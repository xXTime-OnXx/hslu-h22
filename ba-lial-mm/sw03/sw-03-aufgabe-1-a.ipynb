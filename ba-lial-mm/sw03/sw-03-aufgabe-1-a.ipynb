{
 "cells": [
  {
   "cell_type": "code",
   "execution_count": 1,
   "id": "8162c32f",
   "metadata": {},
   "outputs": [],
   "source": [
    "import numpy as np\n",
    "import numpy.linalg as la"
   ]
  },
  {
   "cell_type": "code",
   "execution_count": 2,
   "id": "72d2f937",
   "metadata": {},
   "outputs": [
    {
     "name": "stdout",
     "output_type": "stream",
     "text": [
      "[[ 3 -6  0]\n",
      " [-2  5  1]]\n"
     ]
    }
   ],
   "source": [
    "M = np.array ([\n",
    "    [ 3, -6, 0],\n",
    "    [-2, 5, 1]\n",
    "])\n",
    "print (M)"
   ]
  },
  {
   "cell_type": "code",
   "execution_count": 3,
   "id": "adf16c6c",
   "metadata": {},
   "outputs": [
    {
     "name": "stdout",
     "output_type": "stream",
     "text": [
      "[[ 3 -6]\n",
      " [-2  5]]\n"
     ]
    }
   ],
   "source": [
    "A = M [:, 0:2]\n",
    "print (A)"
   ]
  },
  {
   "cell_type": "code",
   "execution_count": 4,
   "id": "3c7659ff",
   "metadata": {},
   "outputs": [
    {
     "name": "stdout",
     "output_type": "stream",
     "text": [
      "[[0]\n",
      " [1]]\n"
     ]
    }
   ],
   "source": [
    "b = M [:, 2:3]\n",
    "print (b)"
   ]
  },
  {
   "cell_type": "code",
   "execution_count": 5,
   "id": "af10a086",
   "metadata": {},
   "outputs": [
    {
     "name": "stdout",
     "output_type": "stream",
     "text": [
      "[[1.         0.        ]\n",
      " [0.66666667 1.        ]]\n"
     ]
    }
   ],
   "source": [
    "E21 = np.array ([\n",
    "    [  1, 0],\n",
    "    [2/3, 1]\n",
    "])\n",
    "print (E21)"
   ]
  },
  {
   "cell_type": "code",
   "execution_count": 6,
   "id": "9c4858a3",
   "metadata": {},
   "outputs": [
    {
     "name": "stdout",
     "output_type": "stream",
     "text": [
      "[[ 3. -6.]\n",
      " [ 0.  1.]]\n"
     ]
    }
   ],
   "source": [
    "R = E21 @ A\n",
    "print (R)"
   ]
  },
  {
   "cell_type": "code",
   "execution_count": 7,
   "id": "0652f3c0",
   "metadata": {},
   "outputs": [
    {
     "name": "stdout",
     "output_type": "stream",
     "text": [
      "[[ 1.          0.        ]\n",
      " [-0.66666667  1.        ]]\n"
     ]
    }
   ],
   "source": [
    "L = la.inv (E21)\n",
    "print (L)"
   ]
  },
  {
   "cell_type": "code",
   "execution_count": 8,
   "id": "91611fdd",
   "metadata": {},
   "outputs": [
    {
     "data": {
      "text/plain": [
       "array([[ 3., -6.],\n",
       "       [-2.,  5.]])"
      ]
     },
     "execution_count": 8,
     "metadata": {},
     "output_type": "execute_result"
    }
   ],
   "source": [
    "L @ R"
   ]
  },
  {
   "cell_type": "code",
   "execution_count": 9,
   "id": "d7434f3a",
   "metadata": {},
   "outputs": [
    {
     "data": {
      "text/plain": [
       "array([[0., 0.],\n",
       "       [0., 0.]])"
      ]
     },
     "execution_count": 9,
     "metadata": {},
     "output_type": "execute_result"
    }
   ],
   "source": [
    "L @ R - A"
   ]
  },
  {
   "cell_type": "code",
   "execution_count": null,
   "id": "b265979e",
   "metadata": {},
   "outputs": [],
   "source": []
  }
 ],
 "metadata": {
  "kernelspec": {
   "display_name": "Python 3 (ipykernel)",
   "language": "python",
   "name": "python3"
  },
  "language_info": {
   "codemirror_mode": {
    "name": "ipython",
    "version": 3
   },
   "file_extension": ".py",
   "mimetype": "text/x-python",
   "name": "python",
   "nbconvert_exporter": "python",
   "pygments_lexer": "ipython3",
   "version": "3.10.7"
  }
 },
 "nbformat": 4,
 "nbformat_minor": 5
}
