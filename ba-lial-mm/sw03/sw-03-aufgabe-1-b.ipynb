{
 "cells": [
  {
   "cell_type": "code",
   "execution_count": 1,
   "id": "d6b4d7f2",
   "metadata": {},
   "outputs": [],
   "source": [
    "import numpy as np\n",
    "import numpy.linalg as la"
   ]
  },
  {
   "cell_type": "code",
   "execution_count": 2,
   "id": "087952c8",
   "metadata": {},
   "outputs": [
    {
     "name": "stdout",
     "output_type": "stream",
     "text": [
      "[[ 2  6  2  2]\n",
      " [-3 -8  0  2]\n",
      " [ 4  9  2  3]]\n"
     ]
    }
   ],
   "source": [
    "M = np.array ([\n",
    "    [ 2,  6, 2, 2],\n",
    "    [-3, -8, 0, 2],\n",
    "    [ 4,  9, 2, 3]\n",
    "])\n",
    "print (M)"
   ]
  },
  {
   "cell_type": "code",
   "execution_count": 3,
   "id": "a3f2969a",
   "metadata": {},
   "outputs": [
    {
     "name": "stdout",
     "output_type": "stream",
     "text": [
      "[[ 2  6  2]\n",
      " [-3 -8  0]\n",
      " [ 4  9  2]]\n"
     ]
    }
   ],
   "source": [
    "A = M [:, 0:3]\n",
    "print (A)"
   ]
  },
  {
   "cell_type": "code",
   "execution_count": 4,
   "id": "f6d99077",
   "metadata": {},
   "outputs": [
    {
     "name": "stdout",
     "output_type": "stream",
     "text": [
      "[[2]\n",
      " [2]\n",
      " [3]]\n"
     ]
    }
   ],
   "source": [
    "b = M [:, 3:4]\n",
    "print (b)"
   ]
  },
  {
   "cell_type": "code",
   "execution_count": 5,
   "id": "474c5e46",
   "metadata": {},
   "outputs": [
    {
     "name": "stdout",
     "output_type": "stream",
     "text": [
      "[[1.  0.  0. ]\n",
      " [1.5 1.  0. ]\n",
      " [0.  0.  1. ]]\n"
     ]
    }
   ],
   "source": [
    "E21 = np.array ([\n",
    "    [  1, 0, 0],\n",
    "    [3/2, 1, 0],\n",
    "    [  0, 0, 1]\n",
    "])\n",
    "print (E21)"
   ]
  },
  {
   "cell_type": "code",
   "execution_count": 6,
   "id": "86e40060",
   "metadata": {},
   "outputs": [
    {
     "data": {
      "text/plain": [
       "array([[2., 6., 2.],\n",
       "       [0., 1., 3.],\n",
       "       [4., 9., 2.]])"
      ]
     },
     "execution_count": 6,
     "metadata": {},
     "output_type": "execute_result"
    }
   ],
   "source": [
    "E21 @ A"
   ]
  },
  {
   "cell_type": "code",
   "execution_count": 7,
   "id": "ad61996a",
   "metadata": {},
   "outputs": [
    {
     "name": "stdout",
     "output_type": "stream",
     "text": [
      "[[ 1  0  0]\n",
      " [ 0  1  0]\n",
      " [-2  0  1]]\n"
     ]
    }
   ],
   "source": [
    "E31 = np.array ([\n",
    "    [ 1, 0, 0],\n",
    "    [ 0, 1, 0],\n",
    "    [-2, 0, 1]\n",
    "])\n",
    "print (E31)"
   ]
  },
  {
   "cell_type": "code",
   "execution_count": 8,
   "id": "fa03c6e8",
   "metadata": {},
   "outputs": [
    {
     "data": {
      "text/plain": [
       "array([[ 2.,  6.,  2.],\n",
       "       [ 0.,  1.,  3.],\n",
       "       [ 0., -3., -2.]])"
      ]
     },
     "execution_count": 8,
     "metadata": {},
     "output_type": "execute_result"
    }
   ],
   "source": [
    "E31 @ E21 @ A"
   ]
  },
  {
   "cell_type": "code",
   "execution_count": 9,
   "id": "f6d9f7db",
   "metadata": {},
   "outputs": [
    {
     "name": "stdout",
     "output_type": "stream",
     "text": [
      "[[1 0 0]\n",
      " [0 1 0]\n",
      " [0 3 1]]\n"
     ]
    }
   ],
   "source": [
    "E32 = np.array ([\n",
    "    [1, 0, 0],\n",
    "    [0, 1, 0],\n",
    "    [0, 3, 1]\n",
    "])\n",
    "print (E32)"
   ]
  },
  {
   "cell_type": "code",
   "execution_count": 10,
   "id": "39c684f5",
   "metadata": {},
   "outputs": [
    {
     "name": "stdout",
     "output_type": "stream",
     "text": [
      "[[2. 6. 2.]\n",
      " [0. 1. 3.]\n",
      " [0. 0. 7.]]\n"
     ]
    }
   ],
   "source": [
    "R = E32 @ E31 @ E21 @ A\n",
    "print (R)"
   ]
  },
  {
   "cell_type": "code",
   "execution_count": 11,
   "id": "ac8d65e8",
   "metadata": {},
   "outputs": [
    {
     "name": "stdout",
     "output_type": "stream",
     "text": [
      "[[ 1.   0.   0. ]\n",
      " [-1.5  1.   0. ]\n",
      " [ 2.  -3.   1. ]]\n"
     ]
    }
   ],
   "source": [
    "L = la.inv (E21) @ la.inv (E31) @ la.inv (E32)\n",
    "print (L)"
   ]
  },
  {
   "cell_type": "code",
   "execution_count": 12,
   "id": "97a40abb",
   "metadata": {},
   "outputs": [
    {
     "data": {
      "text/plain": [
       "array([[ 2.,  6.,  2.],\n",
       "       [-3., -8.,  0.],\n",
       "       [ 4.,  9.,  2.]])"
      ]
     },
     "execution_count": 12,
     "metadata": {},
     "output_type": "execute_result"
    }
   ],
   "source": [
    "L @ R"
   ]
  },
  {
   "cell_type": "code",
   "execution_count": 13,
   "id": "a4dea448",
   "metadata": {},
   "outputs": [
    {
     "data": {
      "text/plain": [
       "array([[0., 0., 0.],\n",
       "       [0., 0., 0.],\n",
       "       [0., 0., 0.]])"
      ]
     },
     "execution_count": 13,
     "metadata": {},
     "output_type": "execute_result"
    }
   ],
   "source": [
    "L @ R - A"
   ]
  }
 ],
 "metadata": {
  "kernelspec": {
   "display_name": "Python 3 (ipykernel)",
   "language": "python",
   "name": "python3"
  },
  "language_info": {
   "codemirror_mode": {
    "name": "ipython",
    "version": 3
   },
   "file_extension": ".py",
   "mimetype": "text/x-python",
   "name": "python",
   "nbconvert_exporter": "python",
   "pygments_lexer": "ipython3",
   "version": "3.10.7"
  }
 },
 "nbformat": 4,
 "nbformat_minor": 5
}
