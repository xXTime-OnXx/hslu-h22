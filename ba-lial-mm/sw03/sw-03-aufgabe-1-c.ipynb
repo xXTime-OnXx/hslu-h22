{
 "cells": [
  {
   "cell_type": "code",
   "execution_count": 1,
   "id": "5e995558",
   "metadata": {},
   "outputs": [],
   "source": [
    "import numpy as np\n",
    "import numpy.linalg as la"
   ]
  },
  {
   "cell_type": "code",
   "execution_count": 2,
   "id": "355a9082",
   "metadata": {},
   "outputs": [
    {
     "name": "stdout",
     "output_type": "stream",
     "text": [
      "[[ 2. -1.  3.  4.  9.]\n",
      " [ 1.  0. -2.  7. 11.]\n",
      " [ 3. -3.  1.  5.  8.]\n",
      " [ 2.  1.  4.  4. 10.]]\n"
     ]
    }
   ],
   "source": [
    "M = np.array ([\n",
    "    [2, -1,  3, 4,  9],\n",
    "    [1,  0, -2, 7, 11],\n",
    "    [3, -3,  1, 5,  8],\n",
    "    [2,  1, 4 , 4, 10]\n",
    "]) .astype (float)\n",
    "print (M)"
   ]
  },
  {
   "cell_type": "code",
   "execution_count": 3,
   "id": "38bbc7fd",
   "metadata": {},
   "outputs": [
    {
     "name": "stdout",
     "output_type": "stream",
     "text": [
      "[[ 2. -1.  3.  4.]\n",
      " [ 1.  0. -2.  7.]\n",
      " [ 3. -3.  1.  5.]\n",
      " [ 2.  1.  4.  4.]]\n"
     ]
    }
   ],
   "source": [
    "A = M [0:4, 0:4]\n",
    "print (A)"
   ]
  },
  {
   "cell_type": "code",
   "execution_count": 4,
   "id": "78732ba2",
   "metadata": {},
   "outputs": [
    {
     "name": "stdout",
     "output_type": "stream",
     "text": [
      "[[ 9.]\n",
      " [11.]\n",
      " [ 8.]\n",
      " [10.]]\n"
     ]
    }
   ],
   "source": [
    "b = M [0:4, 4:5]\n",
    "print (b)"
   ]
  },
  {
   "cell_type": "code",
   "execution_count": 5,
   "id": "baa8daf2",
   "metadata": {},
   "outputs": [
    {
     "name": "stdout",
     "output_type": "stream",
     "text": [
      "[[ 2. -1.  3.  4.]\n",
      " [ 1.  0. -2.  7.]\n",
      " [ 3. -3.  1.  5.]\n",
      " [ 2.  1.  4.  4.]]\n"
     ]
    }
   ],
   "source": [
    "R = A\n",
    "print (R)"
   ]
  },
  {
   "cell_type": "code",
   "execution_count": 6,
   "id": "355ddd94",
   "metadata": {},
   "outputs": [
    {
     "name": "stdout",
     "output_type": "stream",
     "text": [
      "[[ 1.   0.   0.   0. ]\n",
      " [-0.5  1.   0.   0. ]\n",
      " [ 0.   0.   1.   0. ]\n",
      " [ 0.   0.   0.   1. ]]\n",
      "[[ 2.  -1.   3.   4. ]\n",
      " [ 0.   0.5 -3.5  5. ]\n",
      " [ 3.  -3.   1.   5. ]\n",
      " [ 2.   1.   4.   4. ]]\n"
     ]
    }
   ],
   "source": [
    "f = R [1, 0] / R [0, 0]\n",
    "E21 = np.array ([\n",
    "    [ 1, 0, 0, 0],\n",
    "    [-f, 1, 0, 0],\n",
    "    [ 0, 0, 1, 0],\n",
    "    [ 0, 0, 0, 1]\n",
    "])\n",
    "print (E21)\n",
    "R = E21 @ R\n",
    "print (R)"
   ]
  },
  {
   "cell_type": "code",
   "execution_count": 7,
   "id": "06e8539b",
   "metadata": {},
   "outputs": [
    {
     "name": "stdout",
     "output_type": "stream",
     "text": [
      "[[ 1.   0.   0.   0. ]\n",
      " [ 0.   1.   0.   0. ]\n",
      " [-1.5  0.   1.   0. ]\n",
      " [ 0.   0.   0.   1. ]]\n",
      "[[ 2.  -1.   3.   4. ]\n",
      " [ 0.   0.5 -3.5  5. ]\n",
      " [ 0.  -1.5 -3.5 -1. ]\n",
      " [ 2.   1.   4.   4. ]]\n"
     ]
    }
   ],
   "source": [
    "f = R [2, 0] / R [0, 0]\n",
    "E31 = np.array ([\n",
    "    [ 1, 0, 0, 0],\n",
    "    [ 0, 1, 0, 0],\n",
    "    [-f, 0, 1, 0],\n",
    "    [ 0, 0, 0, 1]\n",
    "])\n",
    "print (E31)\n",
    "R = E31 @ R\n",
    "print (R)"
   ]
  },
  {
   "cell_type": "code",
   "execution_count": 8,
   "id": "6029d803",
   "metadata": {},
   "outputs": [
    {
     "name": "stdout",
     "output_type": "stream",
     "text": [
      "[[ 1.  0.  0.  0.]\n",
      " [ 0.  1.  0.  0.]\n",
      " [ 0.  0.  1.  0.]\n",
      " [-1.  0.  0.  1.]]\n",
      "[[ 2.  -1.   3.   4. ]\n",
      " [ 0.   0.5 -3.5  5. ]\n",
      " [ 0.  -1.5 -3.5 -1. ]\n",
      " [ 0.   2.   1.   0. ]]\n"
     ]
    }
   ],
   "source": [
    "f = R [3, 0] / R [0, 0]\n",
    "E41 = np.array ([\n",
    "    [ 1, 0, 0, 0],\n",
    "    [ 0, 1, 0, 0],\n",
    "    [ 0, 0, 1, 0],\n",
    "    [-f, 0, 0, 1]\n",
    "])\n",
    "print (E41)\n",
    "R = E41 @ R\n",
    "print (R)"
   ]
  },
  {
   "cell_type": "code",
   "execution_count": 9,
   "id": "fb187cad",
   "metadata": {},
   "outputs": [
    {
     "name": "stdout",
     "output_type": "stream",
     "text": [
      "[[1. 0. 0. 0.]\n",
      " [0. 1. 0. 0.]\n",
      " [0. 3. 1. 0.]\n",
      " [0. 0. 0. 1.]]\n",
      "[[  2.   -1.    3.    4. ]\n",
      " [  0.    0.5  -3.5   5. ]\n",
      " [  0.    0.  -14.   14. ]\n",
      " [  0.    2.    1.    0. ]]\n"
     ]
    }
   ],
   "source": [
    "f = R [2, 1] / R [1, 1]\n",
    "E32 = np.array ([\n",
    "    [1,  0, 0, 0],\n",
    "    [0,  1, 0, 0],\n",
    "    [0, -f, 1, 0],\n",
    "    [0,  0, 0, 1]\n",
    "])\n",
    "print (E32)\n",
    "R = E32 @ R\n",
    "print (R)"
   ]
  },
  {
   "cell_type": "code",
   "execution_count": 10,
   "id": "6cbfc155",
   "metadata": {},
   "outputs": [
    {
     "name": "stdout",
     "output_type": "stream",
     "text": [
      "[[ 1.  0.  0.  0.]\n",
      " [ 0.  1.  0.  0.]\n",
      " [ 0.  0.  1.  0.]\n",
      " [ 0. -4.  0.  1.]]\n",
      "[[  2.   -1.    3.    4. ]\n",
      " [  0.    0.5  -3.5   5. ]\n",
      " [  0.    0.  -14.   14. ]\n",
      " [  0.    0.   15.  -20. ]]\n"
     ]
    }
   ],
   "source": [
    "f = R [3, 1] / R [1, 1]\n",
    "E42 = np.array ([\n",
    "    [1,  0, 0, 0],\n",
    "    [0,  1, 0, 0],\n",
    "    [0,  0, 1, 0],\n",
    "    [0, -f, 0, 1]\n",
    "])\n",
    "print (E42)\n",
    "R = E42 @ R\n",
    "print (R)"
   ]
  },
  {
   "cell_type": "code",
   "execution_count": 11,
   "id": "8f938b45",
   "metadata": {},
   "outputs": [
    {
     "name": "stdout",
     "output_type": "stream",
     "text": [
      "[[1.         0.         0.         0.        ]\n",
      " [0.         1.         0.         0.        ]\n",
      " [0.         0.         1.         0.        ]\n",
      " [0.         0.         1.07142857 1.        ]]\n",
      "[[  2.   -1.    3.    4. ]\n",
      " [  0.    0.5  -3.5   5. ]\n",
      " [  0.    0.  -14.   14. ]\n",
      " [  0.    0.    0.   -5. ]]\n"
     ]
    }
   ],
   "source": [
    "f = R [3, 2] / R [2, 2]\n",
    "E43 = np.array ([\n",
    "    [1, 0,  0, 0],\n",
    "    [0, 1,  0, 0],\n",
    "    [0, 0,  1, 0],\n",
    "    [0, 0, -f, 1]\n",
    "])\n",
    "print (E43)\n",
    "R = E43 @ R\n",
    "print (R)"
   ]
  },
  {
   "cell_type": "code",
   "execution_count": 12,
   "id": "ed4d3bae",
   "metadata": {},
   "outputs": [
    {
     "name": "stdout",
     "output_type": "stream",
     "text": [
      "[[ 1.          0.          0.          0.        ]\n",
      " [ 0.5         1.          0.          0.        ]\n",
      " [ 1.5        -3.          1.          0.        ]\n",
      " [ 1.          4.         -1.07142857  1.        ]]\n"
     ]
    }
   ],
   "source": [
    "L = la.inv (E21) @ la.inv (E31) @ la.inv (E41) @ la.inv (E32) @ la.inv (E42) @ la.inv (E43)\n",
    "print (L)"
   ]
  },
  {
   "cell_type": "code",
   "execution_count": 13,
   "id": "83ba4133",
   "metadata": {},
   "outputs": [
    {
     "data": {
      "text/plain": [
       "array([[ 2., -1.,  3.,  4.],\n",
       "       [ 1.,  0., -2.,  7.],\n",
       "       [ 3., -3.,  1.,  5.],\n",
       "       [ 2.,  1.,  4.,  4.]])"
      ]
     },
     "execution_count": 13,
     "metadata": {},
     "output_type": "execute_result"
    }
   ],
   "source": [
    "L @ R"
   ]
  },
  {
   "cell_type": "code",
   "execution_count": 14,
   "id": "41433f3b",
   "metadata": {},
   "outputs": [
    {
     "data": {
      "text/plain": [
       "array([[0., 0., 0., 0.],\n",
       "       [0., 0., 0., 0.],\n",
       "       [0., 0., 0., 0.],\n",
       "       [0., 0., 0., 0.]])"
      ]
     },
     "execution_count": 14,
     "metadata": {},
     "output_type": "execute_result"
    }
   ],
   "source": [
    "L @ R - A"
   ]
  },
  {
   "cell_type": "code",
   "execution_count": 15,
   "id": "79c395ee",
   "metadata": {},
   "outputs": [
    {
     "name": "stdout",
     "output_type": "stream",
     "text": [
      "[[  9. ]\n",
      " [  6.5]\n",
      " [ 14. ]\n",
      " [-10. ]]\n"
     ]
    }
   ],
   "source": [
    "y = la.solve (L, b)\n",
    "print (y)"
   ]
  },
  {
   "cell_type": "code",
   "execution_count": 16,
   "id": "78796514",
   "metadata": {},
   "outputs": [
    {
     "name": "stdout",
     "output_type": "stream",
     "text": [
      "[[-1.00000000e+00]\n",
      " [-1.33226763e-15]\n",
      " [ 1.00000000e+00]\n",
      " [ 2.00000000e+00]]\n"
     ]
    }
   ],
   "source": [
    "x = la.solve (R, y)\n",
    "print (x)"
   ]
  },
  {
   "cell_type": "code",
   "execution_count": 17,
   "id": "3109ee4a",
   "metadata": {},
   "outputs": [
    {
     "data": {
      "text/plain": [
       "array([[ 9.],\n",
       "       [11.],\n",
       "       [ 8.],\n",
       "       [10.]])"
      ]
     },
     "execution_count": 17,
     "metadata": {},
     "output_type": "execute_result"
    }
   ],
   "source": [
    "A @ x"
   ]
  },
  {
   "cell_type": "code",
   "execution_count": 18,
   "id": "9a8fcca3",
   "metadata": {},
   "outputs": [
    {
     "data": {
      "text/plain": [
       "array([[ 0.00000000e+00],\n",
       "       [ 1.77635684e-15],\n",
       "       [-8.88178420e-16],\n",
       "       [-1.77635684e-15]])"
      ]
     },
     "execution_count": 18,
     "metadata": {},
     "output_type": "execute_result"
    }
   ],
   "source": [
    "A @ x - b"
   ]
  }
 ],
 "metadata": {
  "kernelspec": {
   "display_name": "Python 3 (ipykernel)",
   "language": "python",
   "name": "python3"
  },
  "language_info": {
   "codemirror_mode": {
    "name": "ipython",
    "version": 3
   },
   "file_extension": ".py",
   "mimetype": "text/x-python",
   "name": "python",
   "nbconvert_exporter": "python",
   "pygments_lexer": "ipython3",
   "version": "3.10.7"
  }
 },
 "nbformat": 4,
 "nbformat_minor": 5
}
