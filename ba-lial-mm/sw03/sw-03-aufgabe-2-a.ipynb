{
 "cells": [
  {
   "cell_type": "code",
   "execution_count": 1,
   "id": "5a2c7269",
   "metadata": {},
   "outputs": [],
   "source": [
    "import numpy as np\n",
    "import numpy.linalg as la"
   ]
  },
  {
   "cell_type": "code",
   "execution_count": 2,
   "id": "7f0f4979",
   "metadata": {},
   "outputs": [
    {
     "name": "stdout",
     "output_type": "stream",
     "text": [
      "[[ 6. -1. -1.  4.]\n",
      " [ 1.  1. 10. -6.]\n",
      " [ 2. -1.  1. -2.]]\n"
     ]
    }
   ],
   "source": [
    "M = np.array ([\n",
    "    [6, -1, -1,  4],\n",
    "    [1,  1, 10, -6],\n",
    "    [2, -1,  1, -2]\n",
    "]) .astype (float)\n",
    "print (M)"
   ]
  },
  {
   "cell_type": "code",
   "execution_count": 3,
   "id": "e1d7fdd1",
   "metadata": {},
   "outputs": [
    {
     "name": "stdout",
     "output_type": "stream",
     "text": [
      "[[ 6. -1. -1.]\n",
      " [ 1.  1. 10.]\n",
      " [ 2. -1.  1.]]\n"
     ]
    }
   ],
   "source": [
    "A = M [0:3, 0:3]\n",
    "print (A)"
   ]
  },
  {
   "cell_type": "code",
   "execution_count": 4,
   "id": "fcfeb77f",
   "metadata": {},
   "outputs": [
    {
     "name": "stdout",
     "output_type": "stream",
     "text": [
      "[[ 4.]\n",
      " [-6.]\n",
      " [-2.]]\n"
     ]
    }
   ],
   "source": [
    "b = M [0:3, 3:4]\n",
    "print (b)"
   ]
  },
  {
   "cell_type": "code",
   "execution_count": 5,
   "id": "2827468f",
   "metadata": {},
   "outputs": [
    {
     "name": "stdout",
     "output_type": "stream",
     "text": [
      "[[ 6. -1. -1.]\n",
      " [ 1.  1. 10.]\n",
      " [ 2. -1.  1.]]\n"
     ]
    }
   ],
   "source": [
    "R = A\n",
    "print (R)"
   ]
  },
  {
   "cell_type": "code",
   "execution_count": 6,
   "id": "4de3a687",
   "metadata": {},
   "outputs": [
    {
     "name": "stdout",
     "output_type": "stream",
     "text": [
      "[[ 1.          0.          0.        ]\n",
      " [-0.16666667  1.          0.        ]\n",
      " [ 0.          0.          1.        ]]\n",
      "[[ 6.         -1.         -1.        ]\n",
      " [ 0.          1.16666667 10.16666667]\n",
      " [ 2.         -1.          1.        ]]\n"
     ]
    }
   ],
   "source": [
    "f = R [1, 0] / R [0, 0]\n",
    "E21 = np.array ([\n",
    "    [ 1, 0, 0],\n",
    "    [-f, 1, 0],\n",
    "    [ 0, 0, 1]\n",
    "])\n",
    "print (E21)\n",
    "R = E21 @ R\n",
    "print (R)"
   ]
  },
  {
   "cell_type": "code",
   "execution_count": 7,
   "id": "4d0819ed",
   "metadata": {},
   "outputs": [
    {
     "name": "stdout",
     "output_type": "stream",
     "text": [
      "[[ 1.          0.          0.        ]\n",
      " [ 0.          1.          0.        ]\n",
      " [-0.33333333  0.          1.        ]]\n",
      "[[ 6.         -1.         -1.        ]\n",
      " [ 0.          1.16666667 10.16666667]\n",
      " [ 0.         -0.66666667  1.33333333]]\n"
     ]
    }
   ],
   "source": [
    "f = R [2, 0] / R [0, 0]\n",
    "E31 = np.array ([\n",
    "    [ 1, 0, 0],\n",
    "    [ 0, 1, 0],\n",
    "    [-f, 0, 1]\n",
    "])\n",
    "print (E31)\n",
    "R = E31 @ R\n",
    "print (R)"
   ]
  },
  {
   "cell_type": "code",
   "execution_count": 8,
   "id": "506ea036",
   "metadata": {},
   "outputs": [
    {
     "name": "stdout",
     "output_type": "stream",
     "text": [
      "[[1.         0.         0.        ]\n",
      " [0.         1.         0.        ]\n",
      " [0.         0.57142857 1.        ]]\n",
      "[[ 6.00000000e+00 -1.00000000e+00 -1.00000000e+00]\n",
      " [ 0.00000000e+00  1.16666667e+00  1.01666667e+01]\n",
      " [ 0.00000000e+00  1.11022302e-16  7.14285714e+00]]\n"
     ]
    }
   ],
   "source": [
    "f = R [2, 1] / R [1, 1]\n",
    "E32 = np.array ([\n",
    "    [1,  0, 0],\n",
    "    [0,  1, 0],\n",
    "    [0, -f, 1]\n",
    "])\n",
    "print (E32)\n",
    "R = E32 @ R\n",
    "print (R)"
   ]
  },
  {
   "cell_type": "code",
   "execution_count": 9,
   "id": "ff261f32",
   "metadata": {},
   "outputs": [
    {
     "name": "stdout",
     "output_type": "stream",
     "text": [
      "[[ 1.          0.          0.        ]\n",
      " [ 0.16666667  1.          0.        ]\n",
      " [ 0.33333333 -0.57142857  1.        ]]\n"
     ]
    }
   ],
   "source": [
    "L = la.inv (E21) @ la.inv (E31) @ la.inv (E32)\n",
    "print (L)"
   ]
  },
  {
   "cell_type": "code",
   "execution_count": 10,
   "id": "c722607e",
   "metadata": {},
   "outputs": [
    {
     "data": {
      "text/plain": [
       "array([[ 6., -1., -1.],\n",
       "       [ 1.,  1., 10.],\n",
       "       [ 2., -1.,  1.]])"
      ]
     },
     "execution_count": 10,
     "metadata": {},
     "output_type": "execute_result"
    }
   ],
   "source": [
    "L @ R"
   ]
  },
  {
   "cell_type": "code",
   "execution_count": 11,
   "id": "8f68f43b",
   "metadata": {},
   "outputs": [
    {
     "data": {
      "text/plain": [
       "array([[0., 0., 0.],\n",
       "       [0., 0., 0.],\n",
       "       [0., 0., 0.]])"
      ]
     },
     "execution_count": 11,
     "metadata": {},
     "output_type": "execute_result"
    }
   ],
   "source": [
    "L @ R - A"
   ]
  },
  {
   "cell_type": "code",
   "execution_count": 12,
   "id": "388c15db",
   "metadata": {},
   "outputs": [
    {
     "name": "stdout",
     "output_type": "stream",
     "text": [
      "[[ 4.        ]\n",
      " [-6.66666667]\n",
      " [-7.14285714]]\n"
     ]
    }
   ],
   "source": [
    "y = la.solve (L, b)\n",
    "print (y)"
   ]
  },
  {
   "cell_type": "code",
   "execution_count": 13,
   "id": "fa9bf142",
   "metadata": {},
   "outputs": [
    {
     "name": "stdout",
     "output_type": "stream",
     "text": [
      "[[ 1.]\n",
      " [ 3.]\n",
      " [-1.]]\n"
     ]
    }
   ],
   "source": [
    "x = la.solve (R, y)\n",
    "print (x)"
   ]
  },
  {
   "cell_type": "code",
   "execution_count": 14,
   "id": "cb6f689b",
   "metadata": {},
   "outputs": [
    {
     "data": {
      "text/plain": [
       "array([[ 4.],\n",
       "       [-6.],\n",
       "       [-2.]])"
      ]
     },
     "execution_count": 14,
     "metadata": {},
     "output_type": "execute_result"
    }
   ],
   "source": [
    "A @ x"
   ]
  },
  {
   "cell_type": "code",
   "execution_count": 15,
   "id": "3635514c",
   "metadata": {},
   "outputs": [
    {
     "data": {
      "text/plain": [
       "array([[ 0.00000000e+00],\n",
       "       [-8.88178420e-16],\n",
       "       [ 6.66133815e-16]])"
      ]
     },
     "execution_count": 15,
     "metadata": {},
     "output_type": "execute_result"
    }
   ],
   "source": [
    "A @ x - b"
   ]
  }
 ],
 "metadata": {
  "kernelspec": {
   "display_name": "Python 3 (ipykernel)",
   "language": "python",
   "name": "python3"
  },
  "language_info": {
   "codemirror_mode": {
    "name": "ipython",
    "version": 3
   },
   "file_extension": ".py",
   "mimetype": "text/x-python",
   "name": "python",
   "nbconvert_exporter": "python",
   "pygments_lexer": "ipython3",
   "version": "3.9.12"
  }
 },
 "nbformat": 4,
 "nbformat_minor": 5
}
