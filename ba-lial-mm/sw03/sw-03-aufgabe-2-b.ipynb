{
 "cells": [
  {
   "cell_type": "code",
   "execution_count": 1,
   "id": "daa1f7f5",
   "metadata": {},
   "outputs": [],
   "source": [
    "import numpy as np\n",
    "import numpy.linalg as la"
   ]
  },
  {
   "cell_type": "code",
   "execution_count": 2,
   "id": "24b1b662",
   "metadata": {},
   "outputs": [
    {
     "name": "stdout",
     "output_type": "stream",
     "text": [
      "[[ 1.  1.  2.  8.]\n",
      " [-1. -2.  3.  1.]\n",
      " [ 3. -7.  4. 10.]]\n"
     ]
    }
   ],
   "source": [
    "M = np.array ([\n",
    "    [ 1,  1, 2,  8],\n",
    "    [-1, -2, 3,  1],\n",
    "    [ 3, -7, 4, 10]\n",
    "]) .astype (float)\n",
    "print (M)"
   ]
  },
  {
   "cell_type": "code",
   "execution_count": 3,
   "id": "a706a067",
   "metadata": {},
   "outputs": [
    {
     "name": "stdout",
     "output_type": "stream",
     "text": [
      "[[ 1.  1.  2.]\n",
      " [-1. -2.  3.]\n",
      " [ 3. -7.  4.]]\n"
     ]
    }
   ],
   "source": [
    "A = M [0:3, 0:3]\n",
    "print (A)"
   ]
  },
  {
   "cell_type": "code",
   "execution_count": 4,
   "id": "c20b6be1",
   "metadata": {},
   "outputs": [
    {
     "name": "stdout",
     "output_type": "stream",
     "text": [
      "[[ 8.]\n",
      " [ 1.]\n",
      " [10.]]\n"
     ]
    }
   ],
   "source": [
    "b = M [0:3, 3:4]\n",
    "print (b)"
   ]
  },
  {
   "cell_type": "code",
   "execution_count": 5,
   "id": "eef4bb52",
   "metadata": {},
   "outputs": [
    {
     "name": "stdout",
     "output_type": "stream",
     "text": [
      "[[ 1.  1.  2.]\n",
      " [-1. -2.  3.]\n",
      " [ 3. -7.  4.]]\n"
     ]
    }
   ],
   "source": [
    "R = A\n",
    "print (R)"
   ]
  },
  {
   "cell_type": "code",
   "execution_count": 6,
   "id": "1fe3e023",
   "metadata": {},
   "outputs": [
    {
     "name": "stdout",
     "output_type": "stream",
     "text": [
      "[[1. 0. 0.]\n",
      " [1. 1. 0.]\n",
      " [0. 0. 1.]]\n",
      "[[ 1.  1.  2.]\n",
      " [ 0. -1.  5.]\n",
      " [ 3. -7.  4.]]\n"
     ]
    }
   ],
   "source": [
    "f = R [1, 0] / R [0, 0]\n",
    "E21 = np.array ([\n",
    "    [ 1, 0, 0],\n",
    "    [-f, 1, 0],\n",
    "    [ 0, 0, 1]\n",
    "])\n",
    "print (E21)\n",
    "R = E21 @ R\n",
    "print (R)"
   ]
  },
  {
   "cell_type": "code",
   "execution_count": 7,
   "id": "bb6a74ea",
   "metadata": {},
   "outputs": [
    {
     "name": "stdout",
     "output_type": "stream",
     "text": [
      "[[ 1.  0.  0.]\n",
      " [ 0.  1.  0.]\n",
      " [-3.  0.  1.]]\n",
      "[[  1.   1.   2.]\n",
      " [  0.  -1.   5.]\n",
      " [  0. -10.  -2.]]\n"
     ]
    }
   ],
   "source": [
    "f = R [2, 0] / R [0, 0]\n",
    "E31 = np.array ([\n",
    "    [ 1, 0, 0],\n",
    "    [ 0, 1, 0],\n",
    "    [-f, 0, 1]\n",
    "])\n",
    "print (E31)\n",
    "R = E31 @ R\n",
    "print (R)"
   ]
  },
  {
   "cell_type": "code",
   "execution_count": 8,
   "id": "2c20cddd",
   "metadata": {},
   "outputs": [
    {
     "name": "stdout",
     "output_type": "stream",
     "text": [
      "[[  1.   0.   0.]\n",
      " [  0.   1.   0.]\n",
      " [  0. -10.   1.]]\n",
      "[[  1.   1.   2.]\n",
      " [  0.  -1.   5.]\n",
      " [  0.   0. -52.]]\n"
     ]
    }
   ],
   "source": [
    "f = R [2, 1] / R [1, 1]\n",
    "E32 = np.array ([\n",
    "    [1,  0, 0],\n",
    "    [0,  1, 0],\n",
    "    [0, -f, 1]\n",
    "])\n",
    "print (E32)\n",
    "R = E32 @ R\n",
    "print (R)"
   ]
  },
  {
   "cell_type": "code",
   "execution_count": 9,
   "id": "9e6037da",
   "metadata": {},
   "outputs": [
    {
     "name": "stdout",
     "output_type": "stream",
     "text": [
      "[[ 1.  0.  0.]\n",
      " [-1.  1.  0.]\n",
      " [ 3. 10.  1.]]\n"
     ]
    }
   ],
   "source": [
    "L = la.inv (E21) @ la.inv (E31) @ la.inv (E32)\n",
    "print (L)"
   ]
  },
  {
   "cell_type": "code",
   "execution_count": 10,
   "id": "632561a6",
   "metadata": {},
   "outputs": [
    {
     "data": {
      "text/plain": [
       "array([[ 1.,  1.,  2.],\n",
       "       [-1., -2.,  3.],\n",
       "       [ 3., -7.,  4.]])"
      ]
     },
     "execution_count": 10,
     "metadata": {},
     "output_type": "execute_result"
    }
   ],
   "source": [
    "L @ R"
   ]
  },
  {
   "cell_type": "code",
   "execution_count": 11,
   "id": "068c79f9",
   "metadata": {},
   "outputs": [
    {
     "data": {
      "text/plain": [
       "array([[0., 0., 0.],\n",
       "       [0., 0., 0.],\n",
       "       [0., 0., 0.]])"
      ]
     },
     "execution_count": 11,
     "metadata": {},
     "output_type": "execute_result"
    }
   ],
   "source": [
    "L @ R - A"
   ]
  },
  {
   "cell_type": "code",
   "execution_count": 12,
   "id": "62070720",
   "metadata": {},
   "outputs": [
    {
     "name": "stdout",
     "output_type": "stream",
     "text": [
      "[[   8.]\n",
      " [   9.]\n",
      " [-104.]]\n"
     ]
    }
   ],
   "source": [
    "y = la.solve (L, b)\n",
    "print (y)"
   ]
  },
  {
   "cell_type": "code",
   "execution_count": 13,
   "id": "65a65175",
   "metadata": {},
   "outputs": [
    {
     "name": "stdout",
     "output_type": "stream",
     "text": [
      "[[3.]\n",
      " [1.]\n",
      " [2.]]\n"
     ]
    }
   ],
   "source": [
    "x = la.solve (R, y)\n",
    "print (x)"
   ]
  },
  {
   "cell_type": "code",
   "execution_count": 14,
   "id": "c98d5ed6",
   "metadata": {},
   "outputs": [
    {
     "data": {
      "text/plain": [
       "array([[ 8.],\n",
       "       [ 1.],\n",
       "       [10.]])"
      ]
     },
     "execution_count": 14,
     "metadata": {},
     "output_type": "execute_result"
    }
   ],
   "source": [
    "A @ x"
   ]
  },
  {
   "cell_type": "code",
   "execution_count": 15,
   "id": "eb8e09d7",
   "metadata": {},
   "outputs": [
    {
     "data": {
      "text/plain": [
       "array([[ 1.77635684e-15],\n",
       "       [-5.32907052e-15],\n",
       "       [-7.10542736e-15]])"
      ]
     },
     "execution_count": 15,
     "metadata": {},
     "output_type": "execute_result"
    }
   ],
   "source": [
    "A @ x - b"
   ]
  }
 ],
 "metadata": {
  "kernelspec": {
   "display_name": "Python 3 (ipykernel)",
   "language": "python",
   "name": "python3"
  },
  "language_info": {
   "codemirror_mode": {
    "name": "ipython",
    "version": 3
   },
   "file_extension": ".py",
   "mimetype": "text/x-python",
   "name": "python",
   "nbconvert_exporter": "python",
   "pygments_lexer": "ipython3",
   "version": "3.9.12"
  }
 },
 "nbformat": 4,
 "nbformat_minor": 5
}
