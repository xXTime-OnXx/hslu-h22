{
 "cells": [
  {
   "cell_type": "code",
   "execution_count": 1,
   "id": "997d34b4",
   "metadata": {},
   "outputs": [],
   "source": [
    "import numpy as np"
   ]
  },
  {
   "cell_type": "code",
   "execution_count": 2,
   "id": "14e91dff",
   "metadata": {},
   "outputs": [
    {
     "name": "stdout",
     "output_type": "stream",
     "text": [
      "[[ 0.  2.  0.  1.]\n",
      " [ 2.  2.  3.  2.]\n",
      " [ 4. -3.  0.  1.]\n",
      " [ 6.  1. -6.  1.]]\n"
     ]
    }
   ],
   "source": [
    "A = np.array ([\n",
    "    [0.,  2,  0, 1],\n",
    "    [2,   2,  3, 2],\n",
    "    [4,  -3,  0, 1],\n",
    "    [6,   1, -6, 1]\n",
    "])\n",
    "print (A)"
   ]
  },
  {
   "cell_type": "code",
   "execution_count": 3,
   "id": "1f3196ba",
   "metadata": {},
   "outputs": [
    {
     "name": "stdout",
     "output_type": "stream",
     "text": [
      "[[ 0.]\n",
      " [-2.]\n",
      " [-7.]\n",
      " [ 6.]]\n"
     ]
    }
   ],
   "source": [
    "b = np.array  ([\n",
    "    [ 0.],\n",
    "    [-2 ],\n",
    "    [-7 ],\n",
    "    [ 6 ]\n",
    "])\n",
    "print (b)"
   ]
  },
  {
   "cell_type": "code",
   "execution_count": 4,
   "id": "674d11d5",
   "metadata": {},
   "outputs": [
    {
     "name": "stdout",
     "output_type": "stream",
     "text": [
      "[[ 0.  2.  0.  1.  0.]\n",
      " [ 2.  2.  3.  2. -2.]\n",
      " [ 4. -3.  0.  1. -7.]\n",
      " [ 6.  1. -6.  1.  6.]]\n"
     ]
    }
   ],
   "source": [
    "M = np.concatenate ((A, b), axis = 1)\n",
    "print (M)"
   ]
  },
  {
   "cell_type": "code",
   "execution_count": 5,
   "id": "8b4af3b8",
   "metadata": {},
   "outputs": [
    {
     "name": "stdout",
     "output_type": "stream",
     "text": [
      "[[0. 0. 0. 1.]\n",
      " [0. 1. 0. 0.]\n",
      " [0. 0. 1. 0.]\n",
      " [1. 0. 0. 0.]]\n"
     ]
    }
   ],
   "source": [
    "P = np.array ([\n",
    "    [0., 0, 0, 1],\n",
    "    [0 , 1, 0, 0],\n",
    "    [0 , 0, 1, 0],\n",
    "    [1 , 0, 0, 0]\n",
    "])\n",
    "print (P)"
   ]
  },
  {
   "cell_type": "code",
   "execution_count": 6,
   "id": "3b7b1146",
   "metadata": {},
   "outputs": [
    {
     "name": "stdout",
     "output_type": "stream",
     "text": [
      "[[ 6.  1. -6.  1.  6.]\n",
      " [ 2.  2.  3.  2. -2.]\n",
      " [ 4. -3.  0.  1. -7.]\n",
      " [ 0.  2.  0.  1.  0.]]\n"
     ]
    }
   ],
   "source": [
    "M = P @ M\n",
    "print (M)"
   ]
  },
  {
   "cell_type": "code",
   "execution_count": 7,
   "id": "6995ed3e",
   "metadata": {},
   "outputs": [
    {
     "name": "stdout",
     "output_type": "stream",
     "text": [
      "4\n"
     ]
    }
   ],
   "source": [
    "n = M.shape [0]\n",
    "print (n)"
   ]
  },
  {
   "cell_type": "code",
   "execution_count": 8,
   "id": "60c57929",
   "metadata": {},
   "outputs": [
    {
     "name": "stdout",
     "output_type": "stream",
     "text": [
      "[[ 6.  1. -6.  1.  6.]\n",
      " [ 2.  2.  3.  2. -2.]\n",
      " [ 4. -3.  0.  1. -7.]\n",
      " [ 0.  2.  0.  1.  0.]]\n",
      "[[ 6.       1.      -6.       1.       6.     ]\n",
      " [ 0.       1.66667  5.       1.66667 -4.     ]\n",
      " [ 4.      -3.       0.       1.      -7.     ]\n",
      " [ 0.       2.       0.       1.       0.     ]]\n",
      "[[  6.        1.       -6.        1.        6.     ]\n",
      " [  0.        1.66667   5.        1.66667  -4.     ]\n",
      " [  0.       -3.66667   4.        0.33333 -11.     ]\n",
      " [  0.        2.        0.        1.        0.     ]]\n",
      "[[  6.        1.       -6.        1.        6.     ]\n",
      " [  0.        1.66667   5.        1.66667  -4.     ]\n",
      " [  0.       -3.66667   4.        0.33333 -11.     ]\n",
      " [  0.        2.        0.        1.        0.     ]]\n",
      "[[  6.        1.       -6.        1.        6.     ]\n",
      " [  0.        1.66667   5.        1.66667  -4.     ]\n",
      " [  0.        0.       15.        4.      -19.8    ]\n",
      " [  0.        2.        0.        1.        0.     ]]\n",
      "[[  6.        1.       -6.        1.        6.     ]\n",
      " [  0.        1.66667   5.        1.66667  -4.     ]\n",
      " [  0.        0.       15.        4.      -19.8    ]\n",
      " [  0.        0.       -6.       -1.        4.8    ]]\n",
      "[[  6.        1.       -6.        1.        6.     ]\n",
      " [  0.        1.66667   5.        1.66667  -4.     ]\n",
      " [  0.        0.       15.        4.      -19.8    ]\n",
      " [  0.        0.        0.        0.6      -3.12   ]]\n"
     ]
    }
   ],
   "source": [
    "# Gauss\n",
    "print (np.round (M, 5))\n",
    "for i in range (n):\n",
    "    for k in range (i + 1, n):\n",
    "        M [k] = M [k] - M [k, i] / M [i, i] * M [i]\n",
    "        print (np.round (M, 5))"
   ]
  },
  {
   "cell_type": "code",
   "execution_count": 9,
   "id": "e6bcc5d9",
   "metadata": {},
   "outputs": [
    {
     "name": "stdout",
     "output_type": "stream",
     "text": [
      "[[  6.        1.       -6.        1.        6.     ]\n",
      " [  0.        1.66667   5.        1.66667  -4.     ]\n",
      " [  0.        0.       15.        4.      -19.8    ]\n",
      " [  0.        0.        0.        0.6      -3.12   ]]\n",
      "[[ 6.       1.      -6.       1.       6.     ]\n",
      " [ 0.       1.66667  5.       1.66667 -4.     ]\n",
      " [ 0.       0.      15.       0.       1.     ]\n",
      " [ 0.       0.       0.       0.6     -3.12   ]]\n",
      "[[ 6.       1.      -6.       1.       6.     ]\n",
      " [ 0.       1.66667  5.      -0.       4.66667]\n",
      " [ 0.       0.      15.       0.       1.     ]\n",
      " [ 0.       0.       0.       0.6     -3.12   ]]\n",
      "[[ 6.       1.      -6.       0.      11.2    ]\n",
      " [ 0.       1.66667  5.      -0.       4.66667]\n",
      " [ 0.       0.      15.       0.       1.     ]\n",
      " [ 0.       0.       0.       0.6     -3.12   ]]\n",
      "[[ 6.       1.      -6.       0.      11.2    ]\n",
      " [ 0.       1.66667  0.      -0.       4.33333]\n",
      " [ 0.       0.      15.       0.       1.     ]\n",
      " [ 0.       0.       0.       0.6     -3.12   ]]\n",
      "[[ 6.       1.       0.       0.      11.6    ]\n",
      " [ 0.       1.66667  0.      -0.       4.33333]\n",
      " [ 0.       0.      15.       0.       1.     ]\n",
      " [ 0.       0.       0.       0.6     -3.12   ]]\n",
      "[[ 6.       0.       0.       0.       9.     ]\n",
      " [ 0.       1.66667  0.      -0.       4.33333]\n",
      " [ 0.       0.      15.       0.       1.     ]\n",
      " [ 0.       0.       0.       0.6     -3.12   ]]\n"
     ]
    }
   ],
   "source": [
    "# Jordan\n",
    "print (np.round (M, 5))\n",
    "for i in range (n - 1, 0, -1):\n",
    "    for k in range (i - 1, -1, -1):\n",
    "        M [k] = M [k] - M [k, i] / M [i, i] * M [i]\n",
    "        print (np.round (M, 5))"
   ]
  },
  {
   "cell_type": "code",
   "execution_count": 10,
   "id": "8884000d",
   "metadata": {},
   "outputs": [
    {
     "name": "stdout",
     "output_type": "stream",
     "text": [
      "[[ 1.       0.       0.       0.       1.5    ]\n",
      " [ 0.       1.       0.      -0.       2.6    ]\n",
      " [ 0.       0.       1.       0.       0.06667]\n",
      " [ 0.       0.       0.       1.      -5.2    ]]\n"
     ]
    }
   ],
   "source": [
    "# Einheitsmatrix erzeugen\n",
    "for i in range (n):\n",
    "    M [i] = M[i] / M [i, i]\n",
    "print (np.round (M, 5))"
   ]
  },
  {
   "cell_type": "code",
   "execution_count": 11,
   "id": "9357df2e",
   "metadata": {},
   "outputs": [
    {
     "name": "stdout",
     "output_type": "stream",
     "text": [
      "[[ 1.5       ]\n",
      " [ 2.6       ]\n",
      " [ 0.06666667]\n",
      " [-5.2       ]]\n"
     ]
    }
   ],
   "source": [
    "x = M [0:4, 4:5]\n",
    "print (x)"
   ]
  },
  {
   "cell_type": "code",
   "execution_count": 12,
   "id": "89ee9918",
   "metadata": {},
   "outputs": [
    {
     "name": "stdout",
     "output_type": "stream",
     "text": [
      "[[ 8.8817842e-16]\n",
      " [-2.0000000e+00]\n",
      " [-7.0000000e+00]\n",
      " [ 6.0000000e+00]]\n"
     ]
    }
   ],
   "source": [
    "print (A @ x)"
   ]
  },
  {
   "cell_type": "code",
   "execution_count": 13,
   "id": "db0c3a75",
   "metadata": {},
   "outputs": [
    {
     "name": "stdout",
     "output_type": "stream",
     "text": [
      "[[ 0.]\n",
      " [-2.]\n",
      " [-7.]\n",
      " [ 6.]]\n"
     ]
    }
   ],
   "source": [
    "print (b)"
   ]
  }
 ],
 "metadata": {
  "kernelspec": {
   "display_name": "Python 3 (ipykernel)",
   "language": "python",
   "name": "python3"
  },
  "language_info": {
   "codemirror_mode": {
    "name": "ipython",
    "version": 3
   },
   "file_extension": ".py",
   "mimetype": "text/x-python",
   "name": "python",
   "nbconvert_exporter": "python",
   "pygments_lexer": "ipython3",
   "version": "3.9.12"
  }
 },
 "nbformat": 4,
 "nbformat_minor": 5
}
