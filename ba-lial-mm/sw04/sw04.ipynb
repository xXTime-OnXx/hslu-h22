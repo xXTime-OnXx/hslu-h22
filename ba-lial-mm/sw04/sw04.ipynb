{
 "cells": [
  {
   "cell_type": "markdown",
   "metadata": {},
   "source": [
    "## LU-Zerlegung Gleichungssystem lösen"
   ]
  },
  {
   "cell_type": "code",
   "execution_count": 7,
   "metadata": {},
   "outputs": [
    {
     "name": "stdout",
     "output_type": "stream",
     "text": [
      "[[0 1 1]\n",
      " [1 2 1]\n",
      " [2 7 9]]\n",
      "[[0]\n",
      " [0]\n",
      " [4]]\n"
     ]
    },
    {
     "data": {
      "text/plain": [
       "array([[4.],\n",
       "       [0.],\n",
       "       [0.]])"
      ]
     },
     "execution_count": 7,
     "metadata": {},
     "output_type": "execute_result"
    }
   ],
   "source": [
    "import numpy as np\n",
    "import numpy.linalg as la\n",
    "\n",
    "A = np.array ([\n",
    "    [0, 1, 1],\n",
    "    [1, 2, 1],\n",
    "    [2, 7, 9]\n",
    "])\n",
    "b = np.array([\n",
    "    [0],\n",
    "    [0],\n",
    "    [4]\n",
    "])\n",
    "P = np.array([\n",
    "    [0, 0, 1],\n",
    "    [0, 1, 0],\n",
    "    [1, 0, 0]\n",
    "])\n",
    "\n",
    "A = P @ A\n",
    "b = P @ b\n",
    "\n",
    "E21 = np.array([\n",
    "    [1, 0, 0],\n",
    "    [-1/2, 1, 0],\n",
    "    [0, 0, 1]\n",
    "])\n",
    "E32 = np.array([\n",
    "    [1, 0, 0],\n",
    "    [0, 1, 0],\n",
    "    [0, 2/3, 1]\n",
    "])\n",
    "\n",
    "R = E32 @ E21 @ A\n",
    "L = la.inv(E21) @ la.inv(E32)\n",
    "\n",
    "L @ R\n",
    "\n",
    "y = np.array([\n",
    "    [4],\n",
    "    [-2],\n",
    "    [-4/3]\n",
    "])\n",
    "\n",
    "L @ y"
   ]
  },
  {
   "cell_type": "markdown",
   "metadata": {},
   "source": [
    "## Gauss - Jordan Zerlegung"
   ]
  },
  {
   "cell_type": "code",
   "execution_count": 19,
   "metadata": {},
   "outputs": [
    {
     "name": "stdout",
     "output_type": "stream",
     "text": [
      "[[ 1.  0.  0.  1.]\n",
      " [ 0.  1.  0.  3.]\n",
      " [ 0.  0.  1. -1.]]\n"
     ]
    }
   ],
   "source": [
    "import numpy as np\n",
    "\n",
    "M = np.array([\n",
    "    [6., -1, -1, 4],\n",
    "    [1, 1, 10, -6],\n",
    "    [2, -1, 1, -2]\n",
    "])\n",
    "\n",
    "M[1] = M[1] - M[0] / 6\n",
    "M[2] = M[2] - M[0] / 3\n",
    "M[2] = M[2] - M[2, 1] / M[1, 1] * M[1]\n",
    "\n",
    "M[1] = M[1] - M[1, 2] / M[2, 2] * M[2]\n",
    "M[0] = M[0] - M[0, 2] / M[2, 2] * M[2]\n",
    "M[0] = M[0] - M[0, 1] / M[1, 1] * M[1]\n",
    "\n",
    "M[0] = M[0] / M[0, 0]\n",
    "M[1] = M[1] / M[1, 1]\n",
    "M[2] = M[2] / M[2, 2]\n",
    "\n",
    "print(np.round(M, 5))"
   ]
  },
  {
   "cell_type": "code",
   "execution_count": 20,
   "metadata": {},
   "outputs": [
    {
     "ename": "ValueError",
     "evalue": "matmul: Input operand 1 has a mismatch in its core dimension 0, with gufunc signature (n?,k),(k,m?)->(n?,m?) (size 4 is different from 5)",
     "output_type": "error",
     "traceback": [
      "\u001b[0;31m---------------------------------------------------------------------------\u001b[0m",
      "\u001b[0;31mValueError\u001b[0m                                Traceback (most recent call last)",
      "Cell \u001b[0;32mIn [20], line 15\u001b[0m\n\u001b[1;32m      3\u001b[0m M \u001b[39m=\u001b[39m np\u001b[39m.\u001b[39marray([\n\u001b[1;32m      4\u001b[0m     [\u001b[39m0.\u001b[39m, \u001b[39m2\u001b[39m, \u001b[39m0\u001b[39m, \u001b[39m1\u001b[39m, \u001b[39m0\u001b[39m],\n\u001b[1;32m      5\u001b[0m     [\u001b[39m2\u001b[39m, \u001b[39m2\u001b[39m, \u001b[39m3\u001b[39m, \u001b[39m2\u001b[39m, \u001b[39m-\u001b[39m\u001b[39m2\u001b[39m],\n\u001b[1;32m      6\u001b[0m     [\u001b[39m4\u001b[39m, \u001b[39m-\u001b[39m\u001b[39m3\u001b[39m, \u001b[39m0\u001b[39m, \u001b[39m1\u001b[39m, \u001b[39m-\u001b[39m\u001b[39m7\u001b[39m],\n\u001b[1;32m      7\u001b[0m     [\u001b[39m6\u001b[39m, \u001b[39m1\u001b[39m, \u001b[39m-\u001b[39m\u001b[39m6\u001b[39m, \u001b[39m1\u001b[39m, \u001b[39m6\u001b[39m]\n\u001b[1;32m      8\u001b[0m ])\n\u001b[1;32m      9\u001b[0m P \u001b[39m=\u001b[39m np\u001b[39m.\u001b[39marray([\n\u001b[1;32m     10\u001b[0m     [\u001b[39m0\u001b[39m, \u001b[39m0\u001b[39m, \u001b[39m0\u001b[39m, \u001b[39m1\u001b[39m],\n\u001b[1;32m     11\u001b[0m     [\u001b[39m0\u001b[39m, \u001b[39m1\u001b[39m, \u001b[39m0\u001b[39m, \u001b[39m0\u001b[39m],\n\u001b[1;32m     12\u001b[0m     [\u001b[39m0\u001b[39m, \u001b[39m0\u001b[39m, \u001b[39m1\u001b[39m, \u001b[39m0\u001b[39m],\n\u001b[1;32m     13\u001b[0m     [\u001b[39m1\u001b[39m, \u001b[39m0\u001b[39m, \u001b[39m0\u001b[39m, \u001b[39m0\u001b[39m]\n\u001b[1;32m     14\u001b[0m ])\n\u001b[0;32m---> 15\u001b[0m M \u001b[39m=\u001b[39m M \u001b[39m@\u001b[39m P\n",
      "\u001b[0;31mValueError\u001b[0m: matmul: Input operand 1 has a mismatch in its core dimension 0, with gufunc signature (n?,k),(k,m?)->(n?,m?) (size 4 is different from 5)"
     ]
    }
   ],
   "source": [
    "import numpy as np\n",
    "\n",
    "M = np.array([\n",
    "    [0., 2, 0, 1, 0],\n",
    "    [2, 2, 3, 2, -2],\n",
    "    [4, -3, 0, 1, -7],\n",
    "    [6, 1, -6, 1, 6]\n",
    "])\n",
    "P = np.array([\n",
    "    [0, 0, 0, 1],\n",
    "    [0, 1, 0, 0],\n",
    "    [0, 0, 1, 0],\n",
    "    [1, 0, 0, 0]\n",
    "])\n",
    "M = M @ P"
   ]
  }
 ],
 "metadata": {
  "kernelspec": {
   "display_name": "Python 3.10.7 ('venv': venv)",
   "language": "python",
   "name": "python3"
  },
  "language_info": {
   "codemirror_mode": {
    "name": "ipython",
    "version": 3
   },
   "file_extension": ".py",
   "mimetype": "text/x-python",
   "name": "python",
   "nbconvert_exporter": "python",
   "pygments_lexer": "ipython3",
   "version": "3.10.7"
  },
  "orig_nbformat": 4,
  "vscode": {
   "interpreter": {
    "hash": "023e4eadc93684ac1c8050cfafbde284d504370f1252686768eedecb22e3f812"
   }
  }
 },
 "nbformat": 4,
 "nbformat_minor": 2
}
