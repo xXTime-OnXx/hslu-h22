{
 "cells": [
  {
   "cell_type": "markdown",
   "metadata": {},
   "source": [
    "## LU-Zerlegung Gleichungssystem lösen"
   ]
  },
  {
   "cell_type": "code",
   "execution_count": 7,
   "metadata": {},
   "outputs": [
    {
     "name": "stdout",
     "output_type": "stream",
     "text": [
      "[[0 1 1]\n",
      " [1 2 1]\n",
      " [2 7 9]]\n",
      "[[0]\n",
      " [0]\n",
      " [4]]\n"
     ]
    },
    {
     "data": {
      "text/plain": [
       "array([[4.],\n",
       "       [0.],\n",
       "       [0.]])"
      ]
     },
     "execution_count": 7,
     "metadata": {},
     "output_type": "execute_result"
    }
   ],
   "source": [
    "import numpy as np\n",
    "import numpy.linalg as la\n",
    "\n",
    "A = np.array ([\n",
    "    [0, 1, 1],\n",
    "    [1, 2, 1],\n",
    "    [2, 7, 9]\n",
    "])\n",
    "b = np.array([\n",
    "    [0],\n",
    "    [0],\n",
    "    [4]\n",
    "])\n",
    "P = np.array([\n",
    "    [0, 0, 1],\n",
    "    [0, 1, 0],\n",
    "    [1, 0, 0]\n",
    "])\n",
    "\n",
    "A = P @ A\n",
    "b = P @ b\n",
    "\n",
    "E21 = np.array([\n",
    "    [1, 0, 0],\n",
    "    [-1/2, 1, 0],\n",
    "    [0, 0, 1]\n",
    "])\n",
    "E32 = np.array([\n",
    "    [1, 0, 0],\n",
    "    [0, 1, 0],\n",
    "    [0, 2/3, 1]\n",
    "])\n",
    "\n",
    "R = E32 @ E21 @ A\n",
    "L = la.inv(E21) @ la.inv(E32)\n",
    "\n",
    "L @ R\n",
    "\n",
    "y = np.array([\n",
    "    [4],\n",
    "    [-2],\n",
    "    [-4/3]\n",
    "])\n",
    "\n",
    "L @ y"
   ]
  },
  {
   "cell_type": "code",
   "execution_count": 14,
   "metadata": {},
   "outputs": [
    {
     "name": "stdout",
     "output_type": "stream",
     "text": [
      "[[ 1  0  0  4]\n",
      " [ 0  1  0 24]\n",
      " [ 0  0  1 -3]]\n"
     ]
    }
   ],
   "source": [
    "import numpy as np\n",
    "\n",
    "M = np.array([\n",
    "    [6., -1, -1, 4],\n",
    "    [1, 1, 10, -6],\n",
    "    [2, -1, 1, -2]\n",
    "])\n",
    "\n",
    "M[1] = M[1] - M[0] / 6\n",
    "M[2] = M[2] - M[0] / 3\n",
    "\n",
    "M[1] = M[1] - M[2] * 10\n",
    "M[0] = M[0] + M[2]\n",
    "M[0] = M[0] + M[1]\n",
    "M[0] = M[0] / 6\n",
    "\n",
    "print(M)"
   ]
  }
 ],
 "metadata": {
  "kernelspec": {
   "display_name": "Python 3.10.7 ('venv': venv)",
   "language": "python",
   "name": "python3"
  },
  "language_info": {
   "codemirror_mode": {
    "name": "ipython",
    "version": 3
   },
   "file_extension": ".py",
   "mimetype": "text/x-python",
   "name": "python",
   "nbconvert_exporter": "python",
   "pygments_lexer": "ipython3",
   "version": "3.10.7"
  },
  "orig_nbformat": 4,
  "vscode": {
   "interpreter": {
    "hash": "023e4eadc93684ac1c8050cfafbde284d504370f1252686768eedecb22e3f812"
   }
  }
 },
 "nbformat": 4,
 "nbformat_minor": 2
}
