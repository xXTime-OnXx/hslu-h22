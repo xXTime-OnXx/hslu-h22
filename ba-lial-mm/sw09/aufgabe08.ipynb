{
 "cells": [
  {
   "cell_type": "code",
   "execution_count": 1,
   "metadata": {},
   "outputs": [],
   "source": [
    "import numpy as np\n",
    "import numpy.linalg as la"
   ]
  },
  {
   "cell_type": "code",
   "execution_count": 13,
   "metadata": {},
   "outputs": [
    {
     "name": "stdout",
     "output_type": "stream",
     "text": [
      "[[1. 1. 1.]\n",
      " [1. 2. 1.]\n",
      " [1. 2. 2.]\n",
      " [1. 1. 2.]]\n"
     ]
    }
   ],
   "source": [
    "X = np.array([\n",
    "    [1, 1, 1.0],\n",
    "    [1, 2, 1.0],\n",
    "    [1, 2, 2.0],\n",
    "    [1, 1, 2.0]\n",
    "])\n",
    "print (X)"
   ]
  },
  {
   "cell_type": "code",
   "execution_count": 14,
   "metadata": {},
   "outputs": [],
   "source": [
    "y = np.array([\n",
    "    [1.0],\n",
    "    [2.0],\n",
    "    [3.0],\n",
    "    [3.0]\n",
    "])"
   ]
  },
  {
   "cell_type": "code",
   "execution_count": 15,
   "metadata": {},
   "outputs": [
    {
     "name": "stdout",
     "output_type": "stream",
     "text": [
      "[[ 4.  6.  6.]\n",
      " [ 6. 10.  9.]\n",
      " [ 6.  9. 10.]]\n"
     ]
    }
   ],
   "source": [
    "XTX = X.T @ X\n",
    "print(XTX)"
   ]
  },
  {
   "cell_type": "markdown",
   "metadata": {},
   "source": [
    "<strong>Regressionskoeffizienten</strong>"
   ]
  },
  {
   "cell_type": "code",
   "execution_count": 17,
   "metadata": {},
   "outputs": [
    {
     "name": "stdout",
     "output_type": "stream",
     "text": [
      "[[-0.75]\n",
      " [ 0.5 ]\n",
      " [ 1.5 ]]\n"
     ]
    }
   ],
   "source": [
    "bHat = la.inv(XTX) @ X.T @ y\n",
    "print(bHat)"
   ]
  },
  {
   "cell_type": "markdown",
   "metadata": {},
   "source": [
    "<strong>Projektionsmatrix P</strong>"
   ]
  },
  {
   "cell_type": "code",
   "execution_count": 18,
   "metadata": {},
   "outputs": [
    {
     "name": "stdout",
     "output_type": "stream",
     "text": [
      "[[ 0.75  0.25 -0.25  0.25]\n",
      " [ 0.25  0.75  0.25 -0.25]\n",
      " [-0.25  0.25  0.75  0.25]\n",
      " [ 0.25 -0.25  0.25  0.75]]\n"
     ]
    }
   ],
   "source": [
    "P = X @ la.inv(XTX) @ X.T\n",
    "print(P)"
   ]
  },
  {
   "cell_type": "markdown",
   "metadata": {},
   "source": [
    "<strong>Residualmatrix Q</strong>"
   ]
  },
  {
   "cell_type": "code",
   "execution_count": 21,
   "metadata": {},
   "outputs": [
    {
     "name": "stdout",
     "output_type": "stream",
     "text": [
      "[[ 0.25 -0.25  0.25 -0.25]\n",
      " [-0.25  0.25 -0.25  0.25]\n",
      " [ 0.25 -0.25  0.25 -0.25]\n",
      " [-0.25  0.25 -0.25  0.25]]\n"
     ]
    }
   ],
   "source": [
    "Q = np.identity(len(P)) - P\n",
    "print(Q)"
   ]
  },
  {
   "cell_type": "markdown",
   "metadata": {},
   "source": [
    "<strong>Zentrierende Matrix M</strong>"
   ]
  },
  {
   "cell_type": "code",
   "execution_count": 39,
   "metadata": {},
   "outputs": [
    {
     "name": "stdout",
     "output_type": "stream",
     "text": [
      "[[ 0.75 -0.25 -0.25 -0.25]\n",
      " [-0.25  0.75 -0.25 -0.25]\n",
      " [-0.25 -0.25  0.75 -0.25]\n",
      " [-0.25 -0.25 -0.25  0.75]]\n"
     ]
    }
   ],
   "source": [
    "M = np.identity(len(P)) - 1/len(P) * np.ones((len(P), len(P)))\n",
    "print(M)"
   ]
  },
  {
   "cell_type": "markdown",
   "metadata": {},
   "source": [
    "<strong>Praedikationsvektor yHat</strong>"
   ]
  },
  {
   "cell_type": "code",
   "execution_count": 40,
   "metadata": {},
   "outputs": [
    {
     "name": "stdout",
     "output_type": "stream",
     "text": [
      "[[1.25]\n",
      " [1.75]\n",
      " [3.25]\n",
      " [2.75]]\n"
     ]
    }
   ],
   "source": [
    "yHat = P @ y\n",
    "print(yHat)"
   ]
  },
  {
   "cell_type": "markdown",
   "metadata": {},
   "source": [
    "<strong>Fehlervektor e</strong>"
   ]
  },
  {
   "cell_type": "code",
   "execution_count": 41,
   "metadata": {},
   "outputs": [
    {
     "name": "stdout",
     "output_type": "stream",
     "text": [
      "y - yHat:\n",
      " [[-0.25]\n",
      " [ 0.25]\n",
      " [-0.25]\n",
      " [ 0.25]]\n",
      "Q @ y:\n",
      " [[-0.25]\n",
      " [ 0.25]\n",
      " [-0.25]\n",
      " [ 0.25]]\n"
     ]
    }
   ],
   "source": [
    "e = y - yHat\n",
    "print('y - yHat:\\n', e)\n",
    "e2 = Q @ y\n",
    "print('Q @ y:\\n', e2)"
   ]
  },
  {
   "cell_type": "markdown",
   "metadata": {},
   "source": [
    "<strong>Bestimmtheitsmass R^2</strong>"
   ]
  },
  {
   "cell_type": "code",
   "execution_count": 44,
   "metadata": {},
   "outputs": [
    {
     "name": "stdout",
     "output_type": "stream",
     "text": [
      "[[0.25]]\n",
      "[[2.75]]\n",
      "R^2: [[0.90909091]]\n"
     ]
    }
   ],
   "source": [
    "SQR = y.T @ Q @ y\n",
    "print(SQR)\n",
    "SQT = y.T @ M @ y\n",
    "print(SQT)\n",
    "R2 = 1 - SQR / SQT\n",
    "print('R^2:', R2)"
   ]
  }
 ],
 "metadata": {
  "kernelspec": {
   "display_name": "Python 3.10.8 ('venv': venv)",
   "language": "python",
   "name": "python3"
  },
  "language_info": {
   "codemirror_mode": {
    "name": "ipython",
    "version": 3
   },
   "file_extension": ".py",
   "mimetype": "text/x-python",
   "name": "python",
   "nbconvert_exporter": "python",
   "pygments_lexer": "ipython3",
   "version": "3.10.8"
  },
  "orig_nbformat": 4,
  "vscode": {
   "interpreter": {
    "hash": "d80cc920d25c1d92593b6aac86af4433dd7b5970d464c24070744c11223ad8fd"
   }
  }
 },
 "nbformat": 4,
 "nbformat_minor": 2
}
