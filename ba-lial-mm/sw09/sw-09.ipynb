{
 "cells": [
  {
   "cell_type": "code",
   "execution_count": 1,
   "id": "9ae49a3d",
   "metadata": {},
   "outputs": [],
   "source": [
    "import numpy as np\n",
    "import numpy.linalg as la"
   ]
  },
  {
   "cell_type": "code",
   "execution_count": 2,
   "id": "4af6a2d6",
   "metadata": {},
   "outputs": [
    {
     "name": "stdout",
     "output_type": "stream",
     "text": [
      "[[1.  2.  1.1]\n",
      " [1.  2.  1.9]\n",
      " [1.  4.  2. ]\n",
      " [1.  5.  1.5]\n",
      " [1.  7.  2.1]]\n"
     ]
    }
   ],
   "source": [
    "X = np.array ([\n",
    "    [1, 2, 1.1],\n",
    "    [1, 2, 1.9],\n",
    "    [1, 4, 2.0],\n",
    "    [1, 5, 1.5],\n",
    "    [1, 7, 2.1]\n",
    "])\n",
    "print (X)"
   ]
  },
  {
   "cell_type": "code",
   "execution_count": 3,
   "id": "9d53c119",
   "metadata": {},
   "outputs": [
    {
     "name": "stdout",
     "output_type": "stream",
     "text": [
      "[[ 93.]\n",
      " [106.]\n",
      " [146.]\n",
      " [140.]\n",
      " [158.]]\n"
     ]
    }
   ],
   "source": [
    "b = np.array ([\n",
    "    [ 93.0],\n",
    "    [106.0],\n",
    "    [146.0],\n",
    "    [140.0],\n",
    "    [158.0]\n",
    "])\n",
    "print (b)"
   ]
  },
  {
   "cell_type": "code",
   "execution_count": 4,
   "id": "037f3763",
   "metadata": {},
   "outputs": [
    {
     "name": "stdout",
     "output_type": "stream",
     "text": [
      "[[54.77165354]\n",
      " [10.04330709]\n",
      " [19.56692913]]\n"
     ]
    }
   ],
   "source": [
    "bhat = la.solve (X.T @ X, X.T @ b)\n",
    "print (bhat)"
   ]
  },
  {
   "cell_type": "code",
   "execution_count": 5,
   "id": "05b877bc",
   "metadata": {},
   "outputs": [
    {
     "name": "stdout",
     "output_type": "stream",
     "text": [
      "[[ 96.38188976]\n",
      " [112.03543307]\n",
      " [134.07874016]\n",
      " [134.33858268]\n",
      " [166.16535433]]\n"
     ]
    }
   ],
   "source": [
    "yhat = X @ bhat\n",
    "print (yhat)"
   ]
  },
  {
   "cell_type": "code",
   "execution_count": 6,
   "id": "d76896e4",
   "metadata": {},
   "outputs": [
    {
     "name": "stdout",
     "output_type": "stream",
     "text": [
      "[[-3.38188976]\n",
      " [-6.03543307]\n",
      " [11.92125984]\n",
      " [ 5.66141732]\n",
      " [-8.16535433]]\n"
     ]
    }
   ],
   "source": [
    "e = b - yhat\n",
    "print (e)"
   ]
  },
  {
   "cell_type": "code",
   "execution_count": 7,
   "id": "e9d6ba17",
   "metadata": {},
   "outputs": [
    {
     "name": "stdout",
     "output_type": "stream",
     "text": [
      "[[ 0.76946632  0.10804899 -0.03149606  0.35345582 -0.19947507]\n",
      " [ 0.10804899  0.70647419  0.40944882 -0.15048119 -0.07349081]\n",
      " [-0.03149606  0.40944882  0.35433071  0.02362205  0.24409449]\n",
      " [ 0.35345582 -0.15048119  0.02362205  0.45713036  0.31627297]\n",
      " [-0.19947507 -0.07349081  0.24409449  0.31627297  0.71259843]]\n"
     ]
    }
   ],
   "source": [
    "P = X @ la.inv (X.T @ X) @ X.T\n",
    "print (P)"
   ]
  },
  {
   "cell_type": "code",
   "execution_count": 8,
   "id": "2d17e3f5",
   "metadata": {},
   "outputs": [
    {
     "data": {
      "text/plain": [
       "array([[ 96.38188976],\n",
       "       [112.03543307],\n",
       "       [134.07874016],\n",
       "       [134.33858268],\n",
       "       [166.16535433]])"
      ]
     },
     "execution_count": 8,
     "metadata": {},
     "output_type": "execute_result"
    }
   ],
   "source": [
    "P @ b"
   ]
  },
  {
   "cell_type": "code",
   "execution_count": 9,
   "id": "71ee07b7",
   "metadata": {},
   "outputs": [
    {
     "data": {
      "text/plain": [
       "array([[ 96.38188976],\n",
       "       [112.03543307],\n",
       "       [134.07874016],\n",
       "       [134.33858268],\n",
       "       [166.16535433]])"
      ]
     },
     "execution_count": 9,
     "metadata": {},
     "output_type": "execute_result"
    }
   ],
   "source": [
    "yhat"
   ]
  },
  {
   "cell_type": "code",
   "execution_count": 10,
   "id": "bbf80952",
   "metadata": {},
   "outputs": [
    {
     "name": "stdout",
     "output_type": "stream",
     "text": [
      "[[ 0.23053368 -0.10804899  0.03149606 -0.35345582  0.19947507]\n",
      " [-0.10804899  0.29352581 -0.40944882  0.15048119  0.07349081]\n",
      " [ 0.03149606 -0.40944882  0.64566929 -0.02362205 -0.24409449]\n",
      " [-0.35345582  0.15048119 -0.02362205  0.54286964 -0.31627297]\n",
      " [ 0.19947507  0.07349081 -0.24409449 -0.31627297  0.28740157]]\n"
     ]
    }
   ],
   "source": [
    "Q = np.eye (5) - X @ la.inv (X.T @ X) @ X.T\n",
    "print (Q)"
   ]
  },
  {
   "cell_type": "code",
   "execution_count": 11,
   "id": "41cf5977",
   "metadata": {},
   "outputs": [
    {
     "data": {
      "text/plain": [
       "array([[-3.38188976],\n",
       "       [-6.03543307],\n",
       "       [11.92125984],\n",
       "       [ 5.66141732],\n",
       "       [-8.16535433]])"
      ]
     },
     "execution_count": 11,
     "metadata": {},
     "output_type": "execute_result"
    }
   ],
   "source": [
    "Q @ b"
   ]
  },
  {
   "cell_type": "code",
   "execution_count": 12,
   "id": "21aa8a4f",
   "metadata": {},
   "outputs": [
    {
     "data": {
      "text/plain": [
       "array([[-3.38188976],\n",
       "       [-6.03543307],\n",
       "       [11.92125984],\n",
       "       [ 5.66141732],\n",
       "       [-8.16535433]])"
      ]
     },
     "execution_count": 12,
     "metadata": {},
     "output_type": "execute_result"
    }
   ],
   "source": [
    "e"
   ]
  },
  {
   "cell_type": "code",
   "execution_count": 13,
   "id": "42a5f72a",
   "metadata": {},
   "outputs": [
    {
     "data": {
      "text/plain": [
       "array([[ 0.76946632,  0.10804899, -0.03149606,  0.35345582, -0.19947507],\n",
       "       [ 0.10804899,  0.70647419,  0.40944882, -0.15048119, -0.07349081],\n",
       "       [-0.03149606,  0.40944882,  0.35433071,  0.02362205,  0.24409449],\n",
       "       [ 0.35345582, -0.15048119,  0.02362205,  0.45713036,  0.31627297],\n",
       "       [-0.19947507, -0.07349081,  0.24409449,  0.31627297,  0.71259843]])"
      ]
     },
     "execution_count": 13,
     "metadata": {},
     "output_type": "execute_result"
    }
   ],
   "source": [
    "P"
   ]
  },
  {
   "cell_type": "code",
   "execution_count": 14,
   "id": "56451683",
   "metadata": {},
   "outputs": [
    {
     "data": {
      "text/plain": [
       "array([[ 0.76946632,  0.10804899, -0.03149606,  0.35345582, -0.19947507],\n",
       "       [ 0.10804899,  0.70647419,  0.40944882, -0.15048119, -0.07349081],\n",
       "       [-0.03149606,  0.40944882,  0.35433071,  0.02362205,  0.24409449],\n",
       "       [ 0.35345582, -0.15048119,  0.02362205,  0.45713036,  0.31627297],\n",
       "       [-0.19947507, -0.07349081,  0.24409449,  0.31627297,  0.71259843]])"
      ]
     },
     "execution_count": 14,
     "metadata": {},
     "output_type": "execute_result"
    }
   ],
   "source": [
    "P @ P"
   ]
  },
  {
   "cell_type": "code",
   "execution_count": 15,
   "id": "f4ff7207",
   "metadata": {},
   "outputs": [
    {
     "data": {
      "text/plain": [
       "array([[ 1.47104551e-15,  1.66533454e-16,  7.63278329e-17,\n",
       "         9.43689571e-16,  5.55111512e-17],\n",
       "       [-2.49800181e-16, -5.55111512e-17,  2.22044605e-16,\n",
       "         2.49800181e-16,  6.10622664e-16],\n",
       "       [-4.30211422e-16,  1.66533454e-16,  3.33066907e-16,\n",
       "        -2.77555756e-17,  5.55111512e-16],\n",
       "       [ 6.66133815e-16,  4.16333634e-16,  2.60208521e-16,\n",
       "         3.33066907e-16,  1.11022302e-16],\n",
       "       [-6.38378239e-16,  4.71844785e-16,  4.44089210e-16,\n",
       "        -2.77555756e-16,  3.33066907e-16]])"
      ]
     },
     "execution_count": 15,
     "metadata": {},
     "output_type": "execute_result"
    }
   ],
   "source": [
    "Q - Q @ Q"
   ]
  },
  {
   "cell_type": "code",
   "execution_count": 16,
   "id": "0b5d6e42",
   "metadata": {},
   "outputs": [
    {
     "name": "stdout",
     "output_type": "stream",
     "text": [
      "128.6\n"
     ]
    }
   ],
   "source": [
    "ybar = np.average (b)\n",
    "print (ybar)"
   ]
  },
  {
   "cell_type": "code",
   "execution_count": 17,
   "id": "1b3903c4",
   "metadata": {},
   "outputs": [
    {
     "data": {
      "text/plain": [
       "array([[ 93.],\n",
       "       [106.],\n",
       "       [146.],\n",
       "       [140.],\n",
       "       [158.]])"
      ]
     },
     "execution_count": 17,
     "metadata": {},
     "output_type": "execute_result"
    }
   ],
   "source": [
    "b"
   ]
  },
  {
   "cell_type": "code",
   "execution_count": 18,
   "id": "03a65c3f",
   "metadata": {},
   "outputs": [],
   "source": [
    "def SQ (x):\n",
    "    return x.T @ x"
   ]
  },
  {
   "cell_type": "code",
   "execution_count": 19,
   "id": "047f1847",
   "metadata": {},
   "outputs": [
    {
     "name": "stdout",
     "output_type": "stream",
     "text": [
      "[[3075.2]]\n"
     ]
    }
   ],
   "source": [
    "SQT = (b - ybar) .T @ (b - ybar)\n",
    "print (SQT)"
   ]
  },
  {
   "cell_type": "code",
   "execution_count": 20,
   "id": "437a920d",
   "metadata": {},
   "outputs": [
    {
     "data": {
      "text/plain": [
       "array([[3075.2]])"
      ]
     },
     "execution_count": 20,
     "metadata": {},
     "output_type": "execute_result"
    }
   ],
   "source": [
    "SQ (b - ybar)"
   ]
  },
  {
   "cell_type": "code",
   "execution_count": 21,
   "id": "a9ad9646",
   "metadata": {},
   "outputs": [
    {
     "name": "stdout",
     "output_type": "stream",
     "text": [
      "[[2786.49527559]]\n"
     ]
    }
   ],
   "source": [
    "SQE = (yhat - ybar) .T @ (yhat - ybar)\n",
    "print (SQE)"
   ]
  },
  {
   "cell_type": "code",
   "execution_count": 22,
   "id": "1c4d72fc",
   "metadata": {},
   "outputs": [
    {
     "data": {
      "text/plain": [
       "array([[2786.49527559]])"
      ]
     },
     "execution_count": 22,
     "metadata": {},
     "output_type": "execute_result"
    }
   ],
   "source": [
    "SQ (yhat - ybar)"
   ]
  },
  {
   "cell_type": "code",
   "execution_count": 23,
   "id": "17246c40",
   "metadata": {},
   "outputs": [
    {
     "data": {
      "text/plain": [
       "array([[0.90611839]])"
      ]
     },
     "execution_count": 23,
     "metadata": {},
     "output_type": "execute_result"
    }
   ],
   "source": [
    "SQE / SQT"
   ]
  },
  {
   "cell_type": "code",
   "execution_count": 24,
   "id": "c7be1f19",
   "metadata": {},
   "outputs": [
    {
     "name": "stdout",
     "output_type": "stream",
     "text": [
      "[[288.70472441]]\n"
     ]
    }
   ],
   "source": [
    "SQR = (b - yhat) .T @ (b - yhat)\n",
    "print (SQR)"
   ]
  },
  {
   "cell_type": "code",
   "execution_count": 25,
   "id": "c0416e3a",
   "metadata": {},
   "outputs": [
    {
     "data": {
      "text/plain": [
       "array([[288.70472441]])"
      ]
     },
     "execution_count": 25,
     "metadata": {},
     "output_type": "execute_result"
    }
   ],
   "source": [
    "SQ (b - yhat)"
   ]
  },
  {
   "cell_type": "code",
   "execution_count": 26,
   "id": "4d3b5991",
   "metadata": {},
   "outputs": [
    {
     "data": {
      "text/plain": [
       "array([[3075.2]])"
      ]
     },
     "execution_count": 26,
     "metadata": {},
     "output_type": "execute_result"
    }
   ],
   "source": [
    "SQT"
   ]
  },
  {
   "cell_type": "code",
   "execution_count": 27,
   "id": "1b334b3d",
   "metadata": {},
   "outputs": [
    {
     "data": {
      "text/plain": [
       "array([[3075.2]])"
      ]
     },
     "execution_count": 27,
     "metadata": {},
     "output_type": "execute_result"
    }
   ],
   "source": [
    "SQE + SQR"
   ]
  },
  {
   "cell_type": "code",
   "execution_count": null,
   "id": "fae3925b",
   "metadata": {},
   "outputs": [],
   "source": []
  }
 ],
 "metadata": {
  "kernelspec": {
   "display_name": "Python 3.10.8 ('venv': venv)",
   "language": "python",
   "name": "python3"
  },
  "language_info": {
   "codemirror_mode": {
    "name": "ipython",
    "version": 3
   },
   "file_extension": ".py",
   "mimetype": "text/x-python",
   "name": "python",
   "nbconvert_exporter": "python",
   "pygments_lexer": "ipython3",
   "version": "3.10.8"
  },
  "vscode": {
   "interpreter": {
    "hash": "d80cc920d25c1d92593b6aac86af4433dd7b5970d464c24070744c11223ad8fd"
   }
  }
 },
 "nbformat": 4,
 "nbformat_minor": 5
}
