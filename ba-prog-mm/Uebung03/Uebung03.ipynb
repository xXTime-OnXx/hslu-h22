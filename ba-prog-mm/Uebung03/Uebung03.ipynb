{
 "cells": [
  {
   "cell_type": "markdown",
   "metadata": {},
   "source": [
    "# Übung 3"
   ]
  },
  {
   "cell_type": "markdown",
   "metadata": {},
   "source": [
    "## Aufgabe 1\n",
    "Modifizieren Sie das folgende Skript, um seine Eingaben zu validieren.\n",
    "Falls der Benutzer andere Werte als 1 oder 2 eingibt, soll die Eingabe ignoriert und der Benutzer zu einer neuen Eingabe aufgefordert werden.\n",
    "Verwenden Sie einen Zähler, um die Anzahl der Fehleingaben zu verfolgen.\n",
    "Geben Sie beim Beenden des Programms neben den bisherigen Ausgaben auch die Anzahl\n",
    "Fehleingaben auf dem Bildschirm aus.\n",
    "```\n",
    "passes = 0\n",
    "failures = 0\n",
    "\n",
    "for student in range(10):\n",
    "    result = int(input('Enter the result (1 = passed, 2 = failed): '))\n",
    "    if result == 1:\n",
    "        passes += 1\n",
    "    else:\n",
    "        failures += 1\n",
    "print('passes:', passes)\n",
    "print('failures:', failures)\n",
    "```"
   ]
  },
  {
   "cell_type": "code",
   "execution_count": 1,
   "metadata": {},
   "outputs": [
    {
     "name": "stdin",
     "output_type": "stream",
     "text": [
      "Enter the result (1 = passed, 2 = failed):  0\n",
      "Enter the result (1 = passed, 2 = failed):  1\n",
      "Enter the result (1 = passed, 2 = failed):  2\n",
      "Enter the result (1 = passed, 2 = failed):  1\n",
      "Enter the result (1 = passed, 2 = failed):  2\n",
      "Enter the result (1 = passed, 2 = failed):  1\n",
      "Enter the result (1 = passed, 2 = failed):  2\n",
      "Enter the result (1 = passed, 2 = failed):  1\n",
      "Enter the result (1 = passed, 2 = failed):  2\n",
      "Enter the result (1 = passed, 2 = failed):  1\n",
      "Enter the result (1 = passed, 2 = failed):  2\n"
     ]
    },
    {
     "name": "stdout",
     "output_type": "stream",
     "text": [
      "passes: 5\n",
      "failures: 5\n"
     ]
    }
   ],
   "source": [
    "passes = 0\n",
    "failures = 0\n",
    "\n",
    "for student in range(10):\n",
    "    valid = False\n",
    "    result = 0\n",
    "    while not valid:\n",
    "        result = int(input('Enter the result (1 = passed, 2 = failed): '))\n",
    "        if result in [1, 2]:\n",
    "            valid = True\n",
    "    if result == 1:\n",
    "        passes += 1\n",
    "    else:\n",
    "        failures += 1\n",
    "print('passes:', passes)\n",
    "print('failures:', failures)"
   ]
  },
  {
   "cell_type": "markdown",
   "metadata": {},
   "source": [
    "## Aufgabe 2\n",
    "Erstellen Sie für die Zahlen 0 – 5 eine Tabelle, welche die Zahl, die 2. Potenz und die 3. Potenz der Zahl ausgibt.\n",
    "Verwenden Sie eine for-Schleife und f-Strings, um die folgende Tabelle zu erstellen, wobei die Zahlen in jeder Spalte rechtsbündig angeordnet sind. \n",
    "\n",
    "```\n",
    "number  square  cube\n",
    "     0       0     0\n",
    "     1       1     1\n",
    "     2       4     8\n",
    "     3       9    27\n",
    "     4      16    64\n",
    "     5      25   125\n",
    "```\n",
    "\n",
    "Tipp: Die Ausgabe können Sie wie folgt rechts ausrichten: print(f'{value:>6}')\n",
    "\n",
    "f'{value:>6}' bedeutet, dass der Wert, der in der Variable value gespeichert ist, in einem Feld der\n",
    "Breite von 6 Zeichen, rechts ausgerichtet werden soll. "
   ]
  },
  {
   "cell_type": "code",
   "execution_count": 2,
   "metadata": {},
   "outputs": [
    {
     "name": "stdout",
     "output_type": "stream",
     "text": [
      "number square cube\n",
      "     0      0    0\n",
      "     1      1    1\n",
      "     2      4    8\n",
      "     3      9   27\n",
      "     4     16   64\n",
      "     5     25  125\n"
     ]
    }
   ],
   "source": [
    "print(f'number square cube')\n",
    "for number in range(6):\n",
    "    print(f'{number:>6} {number ** 2:>6} {number ** 3:>4}')"
   ]
  },
  {
   "cell_type": "markdown",
   "metadata": {
    "tags": []
   },
   "source": [
    "## Aufgabe 3\n",
    "Schreiben Sie das folgende Skript so um, dass es drei if…else Anweisungen verwendet, anstelle der sechs if-Anweisungen.\n",
    "\n",
    "```python\n",
    "print('Enter two integers, and I will tell you',\n",
    "      'the relationships they satisfy.')\n",
    "\n",
    "# read first integer\n",
    "number1 = int(input('Enter first integer: '))\n",
    "\n",
    "# read second integer\n",
    "number2 = int(input('Enter second integer: '))\n",
    "\n",
    "if number1 == number2:\n",
    "    print(number1, 'is equal to', number2)\n",
    "    \n",
    "if number1 != number2:\n",
    "    print(number1, 'is not equal to', number2)\n",
    "    \n",
    "if number1 < number2:\n",
    "    print(number1, 'is less than', number2)\n",
    "\n",
    "if number1 > number2:\n",
    "    print(number1, 'is greater than', number2)\n",
    "\n",
    "if number1 <= number2:\n",
    "    print(number1, 'is less than or equal to', number2)\n",
    "\n",
    "if number1 >= number2:\n",
    " print(number1, 'is greater than or equal to', number2)\n",
    "```"
   ]
  },
  {
   "cell_type": "code",
   "execution_count": 3,
   "metadata": {},
   "outputs": [
    {
     "name": "stdout",
     "output_type": "stream",
     "text": [
      "Enter two integers, and I will tell you the relationships they satisfy.\n"
     ]
    },
    {
     "name": "stdin",
     "output_type": "stream",
     "text": [
      "Enter first integer:  2\n",
      "Enter second integer:  5\n"
     ]
    },
    {
     "name": "stdout",
     "output_type": "stream",
     "text": [
      "2 is not equal to 5\n",
      "2 is less than 5\n",
      "2 is less than or equal to 5\n"
     ]
    }
   ],
   "source": [
    "print('Enter two integers, and I will tell you',\n",
    "      'the relationships they satisfy.')\n",
    "\n",
    "# read first integer\n",
    "number1 = int(input('Enter first integer: '))\n",
    "\n",
    "# read second integer\n",
    "number2 = int(input('Enter second integer: '))\n",
    "\n",
    "if number1 == number2:\n",
    "    print(number1, 'is equal to', number2)\n",
    "else:\n",
    "    print(number1, 'is not equal to', number2)\n",
    "    \n",
    "if number1 < number2:\n",
    "    print(number1, 'is less than', number2)\n",
    "else:\n",
    "    print(number1, 'is greater than', number2)\n",
    "\n",
    "if number1 <= number2:\n",
    "    print(number1, 'is less than or equal to', number2)\n",
    "else:\n",
    "    print(number1, 'is greater than or equal to', number2)"
   ]
  },
  {
   "cell_type": "markdown",
   "metadata": {},
   "source": [
    "## Aufgabe 4\n",
    "Schreiben Sie ein Skript, welches eine fünfstellige positive ganze Zahl einliest und\n",
    "anschliessend jede einzelne Ziffer auf einer eigenen Zeile anzeigt.\n",
    "Zum Beispiel soll die Zahl 54823 wie folgt auf dem Bildschirm ausgegeben werden:\n",
    "```\n",
    "5\n",
    "4\n",
    "8\n",
    "2\n",
    "3\n",
    "```\n",
    "Leiten Sie die einzelnen Ziffern mit Hilfe der Operatoren // und % her."
   ]
  },
  {
   "cell_type": "code",
   "execution_count": 5,
   "metadata": {},
   "outputs": [
    {
     "name": "stdin",
     "output_type": "stream",
     "text": [
      "Fünfstellige positive Zahl:  12345\n"
     ]
    },
    {
     "name": "stdout",
     "output_type": "stream",
     "text": [
      "1\n",
      "2\n",
      "3\n",
      "4\n",
      "5\n"
     ]
    }
   ],
   "source": [
    "numbers = input('Fünfstellige positive Zahl: ')\n",
    "for number in [*numbers]:\n",
    "    print(number)"
   ]
  },
  {
   "cell_type": "markdown",
   "metadata": {},
   "source": [
    "## Aufgabe 5\n",
    "Schreiben Sie ein Skript, welches 4 ganze Zahlen einliest und anschliessend die Summe, den\n",
    "Durchschnitt, das Produkt, den kleinsten und grössten der Werte auf dem Bildschirm ausgibt.\n",
    "Verwenden Sie eine Schlaufe für das Einlesen der Benutzereingaben."
   ]
  },
  {
   "cell_type": "code",
   "execution_count": 10,
   "metadata": {},
   "outputs": [
    {
     "name": "stdin",
     "output_type": "stream",
     "text": [
      "Ganze Zahl eingeben:  2\n",
      "Ganze Zahl eingeben:  2\n",
      "Ganze Zahl eingeben:  2\n",
      "Ganze Zahl eingeben:  2\n"
     ]
    },
    {
     "name": "stdout",
     "output_type": "stream",
     "text": [
      "Summe: 8\n",
      "Durchschnitt: 2.0\n",
      "Produkt: 16\n",
      "Summe: 8\n",
      "Kleinste Zahl: 2\n",
      "Grösste Zahl: 2\n"
     ]
    }
   ],
   "source": [
    "numbers = []\n",
    "for count in range(4):\n",
    "    numbers.append(int(input('Ganze Zahl eingeben: ')))\n",
    "    \n",
    "product = 1\n",
    "for number in numbers:\n",
    "    product = product * number\n",
    "    \n",
    "print('Summe:', sum(numbers))\n",
    "print('Durchschnitt:', sum(numbers) / len(numbers))\n",
    "print('Produkt:', product)\n",
    "print('Summe:', sum(numbers))\n",
    "print('Kleinste Zahl:', min(numbers))\n",
    "print('Grösste Zahl:', max(numbers))"
   ]
  },
  {
   "cell_type": "markdown",
   "metadata": {},
   "source": [
    "## Aufgabe 6\n",
    "Schreiben Sie ein Script, welches dynamisch ein Muster wie z.B. das folgende am Bildschirm ausgibt.\n",
    "\n",
    "```\n",
    "@@@@@@@\n",
    "@@@@@@@\n",
    "```\n",
    "\n",
    "Die Anzahl Zeilen, sowie die Anzahl `@` Zeichen, welche in jeder Zeile ausgegeben werden, soll von der Benuterin beim Start des Programms eingelesen werden.\n",
    "\n",
    "\n",
    "Tipp: Arbeiten Sie mit verschachtelten Schlaufen"
   ]
  },
  {
   "cell_type": "code",
   "execution_count": 11,
   "metadata": {},
   "outputs": [
    {
     "name": "stdin",
     "output_type": "stream",
     "text": [
      "Rows: 2\n",
      "Columns: 6\n"
     ]
    },
    {
     "name": "stdout",
     "output_type": "stream",
     "text": [
      "@@@@@@\n",
      "@@@@@@\n"
     ]
    }
   ],
   "source": [
    "rows = int(input('Rows:'))\n",
    "columns = int(input('Columns:'))\n",
    "\n",
    "for row in range(rows):\n",
    "    print('@' * columns)"
   ]
  },
  {
   "cell_type": "markdown",
   "metadata": {},
   "source": [
    "## Aufgabe 7\n",
    "Ein Fahrer hat mehrere Tankfüllungen von Benzin im Auge behalten, indem er die gefahrenen\n",
    "Kilometer und die verbrauchten Liter Benzin aufgezeichnet hat.\n",
    "Entwickeln Sie ein Skript, welches den Benutzer auffordert, die gefahrenen Kilometer und die für jede Tankfüllung verbrauchten Liter Benzin einzugeben. Das Skript sollte dann für die jeweilige Tankfüllung den Benzinverbrauch in Liter pro Kilometer berechnen und ausgeben.\n",
    "Das Skript soll Sentinel-gesteuert beendet werden können. Beim Abschluss soll dann zusätzlich der Durchschnittsverbrauch in Liter pro Kilometer über alle erfassten Tankfüllungen ausgegeben werden."
   ]
  },
  {
   "cell_type": "code",
   "execution_count": 13,
   "metadata": {},
   "outputs": [
    {
     "name": "stdin",
     "output_type": "stream",
     "text": [
      "Anzahl Kilometer:  22\n",
      "Anzahl Liter getankt:  33\n"
     ]
    },
    {
     "name": "stdout",
     "output_type": "stream",
     "text": [
      "Letzter verbrauch: 1.5 L/Km\n"
     ]
    },
    {
     "name": "stdin",
     "output_type": "stream",
     "text": [
      "Ende? y/n n\n",
      "Anzahl Kilometer:  55\n",
      "Anzahl Liter getankt:  22\n"
     ]
    },
    {
     "name": "stdout",
     "output_type": "stream",
     "text": [
      "Letzter verbrauch: 0.4 L/Km\n"
     ]
    },
    {
     "name": "stdin",
     "output_type": "stream",
     "text": [
      "Ende? y/n y\n"
     ]
    },
    {
     "name": "stdout",
     "output_type": "stream",
     "text": [
      "Durchschnittsverbrauch: 0.7142857142857143 L/Km\n"
     ]
    }
   ],
   "source": [
    "kilometers = 0\n",
    "liters = 0\n",
    "\n",
    "while True:\n",
    "    kilometer = int(input('Anzahl Kilometer: '))\n",
    "    liter = int(input('Anzahl Liter getankt: '))\n",
    "    kilometers += kilometer\n",
    "    liters += liter\n",
    "    print(f'Letzter verbrauch: {liter/kilometer} L/Km')\n",
    "    \n",
    "    end = input('Ende? y/n')\n",
    "    if end == 'y':\n",
    "        print(f'Durchschnittsverbrauch: {liters/kilometers} L/Km')\n",
    "        break"
   ]
  },
  {
   "cell_type": "markdown",
   "metadata": {},
   "source": [
    "##  Aufgabe 8 - Fakultät\n",
    "Die Fakultät einer nicht-negativen Zahl n wird mit n! geschrieben (ausgesprochen: \"n-Fakultät\") und ist wie folgt definiert:\n",
    "```\n",
    "n! = n · (n - 1) · (n - 2) · … · 1\n",
    "```\n",
    "Dabei ist für die Null-Fakultät das Resultat 1 definiert (0! = 1).\n",
    "\n",
    "Schreiben Sie ein Skript, das für eine nicht-negative ganze Zahl deren Fakultät berechnet und\n",
    "anzeigt. Sind Sie sich bewusst, dass die Fakultät sehr schnell sehr grosse Werte annehmen kann."
   ]
  },
  {
   "cell_type": "code",
   "execution_count": 18,
   "metadata": {},
   "outputs": [
    {
     "name": "stdin",
     "output_type": "stream",
     "text": [
      "Ganze positive Zahl:  5\n"
     ]
    },
    {
     "name": "stdout",
     "output_type": "stream",
     "text": [
      "Fakultät:  120\n"
     ]
    }
   ],
   "source": [
    "number = int(input('Ganze positive Zahl: '))\n",
    "factorial = 1\n",
    "\n",
    "for count in range(number):\n",
    "    factorial *= count + 1\n",
    "    \n",
    "print('Fakultät: ', factorial)"
   ]
  },
  {
   "cell_type": "markdown",
   "metadata": {},
   "source": [
    "## Aufgabe 9\n",
    "Schreiben Sie ein Skript, das das folgende Dreiecksmuster anzeigt.\n",
    "Verwenden Sie für die Erzeugung der Sterne das folgendes print-Statement:\n",
    "```\n",
    "print('*', end='')\n",
    "\n",
    "*\n",
    "**\n",
    "***\n",
    "****\n",
    "*****\n",
    "******\n",
    "*******\n",
    "********\n",
    "*********\n",
    "**********\n",
    "```"
   ]
  },
  {
   "cell_type": "code",
   "execution_count": 1,
   "metadata": {},
   "outputs": [
    {
     "name": "stdin",
     "output_type": "stream",
     "text": [
      "Rows:  4\n"
     ]
    },
    {
     "name": "stdout",
     "output_type": "stream",
     "text": [
      "*\n",
      "**\n",
      "***\n",
      "****\n"
     ]
    }
   ],
   "source": [
    "rows = int(input('Rows: '))\n",
    "\n",
    "for row in range(rows):\n",
    "    print('*' * (row + 1) + '\\n', end='')"
   ]
  }
 ],
 "metadata": {
  "kernelspec": {
   "display_name": "Python 3 (ipykernel)",
   "language": "python",
   "name": "python3"
  },
  "language_info": {
   "codemirror_mode": {
    "name": "ipython",
    "version": 3
   },
   "file_extension": ".py",
   "mimetype": "text/x-python",
   "name": "python",
   "nbconvert_exporter": "python",
   "pygments_lexer": "ipython3",
   "version": "3.10.7"
  }
 },
 "nbformat": 4,
 "nbformat_minor": 4
}
