{
 "cells": [
  {
   "cell_type": "markdown",
   "metadata": {},
   "source": [
    "# Übung 4"
   ]
  },
  {
   "cell_type": "markdown",
   "metadata": {},
   "source": [
    "## Aufgabe 1\n",
    "Was stimmt mit der Definition der folgenden Würfelfunktion nicht?\n",
    "\n",
    "```\n",
    "def cube(x):\n",
    "    \"\"\"Calculate the cube of x.\"\"\"\n",
    "    x ** 3\n",
    "```"
   ]
  },
  {
   "cell_type": "markdown",
   "metadata": {},
   "source": [
    "Es wird kein Wert zurück gegeben"
   ]
  },
  {
   "cell_type": "markdown",
   "metadata": {},
   "source": [
    "## Aufgabe 2\n",
    "Was bewirkt die folgende Rätselfunktion? Angenommen, Sie übergeben die Liste [1, 2, 3, 4, 5] als Argument.\n",
    "\n",
    "```\n",
    "def mystery(x):\n",
    "    y = 0\n",
    "    for value in x:\n",
    "        y += value ** 2\n",
    "    return y\n",
    "```"
   ]
  },
  {
   "cell_type": "markdown",
   "metadata": {},
   "source": [
    "Es rechnet das quadrat aller elemente in der liste zusammen und gibt die summer zurück"
   ]
  },
  {
   "cell_type": "markdown",
   "metadata": {},
   "source": [
    "## Aufgabe 3\n",
    "Ersetzen Sie die `***` in der Funktion `seconds_since_midnight`, so dass sie die Anzahl der Sekunden seit Mitternacht zurückgibt. Die Funktion sollte drei ganze Zahlen erhalten, die die aktuelle Tageszeit repräsentieren. Nehmen Sie an, dass die Stunde ein Wert von 0 (Mitternacht) bis 23 (23 Uhr) ist und dass die Minute und die Sekunde Werte von 0 bis 59 sind. Testen Sie Ihre Funktion mit tatsächlichen Zeiten. Wenn Sie die Funktion z. B. für 13:30:45 Uhr aufrufen, indem Sie 13, 30 und 45 übergeben, sollte die Funktion 48645 zurückgeben.\n",
    "\n",
    "```\n",
    "def seconds_since_midnight(***):\n",
    "    hour_in_seconds = ***\n",
    "    minute_in_seconds = ***\n",
    "    return ***\n",
    "```"
   ]
  },
  {
   "cell_type": "code",
   "execution_count": 6,
   "metadata": {},
   "outputs": [
    {
     "data": {
      "text/plain": [
       "48645"
      ]
     },
     "execution_count": 6,
     "metadata": {},
     "output_type": "execute_result"
    }
   ],
   "source": [
    "def seconds_since_midnight(hours, minutes, seconds):\n",
    "    hour_in_seconds = hours * 60 * 60\n",
    "    minute_in_seconds = minutes * 60\n",
    "    return hour_in_seconds + minute_in_seconds + seconds\n",
    "\n",
    "seconds_since_midnight(13, 30, 45)"
   ]
  },
  {
   "cell_type": "markdown",
   "metadata": {},
   "source": [
    "## Aufgabe 4\n",
    "Die untenstehende Durchschnittsfunktion kann eine beliebige Anzahl von Argumenten erhalten. Wenn Sie sie jedoch ohne Argumente aufrufen, verursacht die Funktion einen ZeroDivisionError. \n",
    "Korrigieren Sie die Funktion so, dass immer mindestens ein Argument benötigt wird.\n",
    "\n",
    "```\n",
    "def average(*args):\n",
    "    return sum(args) / len(args)\n",
    "```"
   ]
  },
  {
   "cell_type": "code",
   "execution_count": 10,
   "metadata": {},
   "outputs": [
    {
     "data": {
      "text/plain": [
       "3.0"
      ]
     },
     "execution_count": 10,
     "metadata": {},
     "output_type": "execute_result"
    }
   ],
   "source": [
    "def average(arg_1, *args):\n",
    "    numbers = list(args)\n",
    "    numbers.insert(0, arg_1)\n",
    "    return sum(numbers) / len(numbers)\n",
    "\n",
    "average(2, 4)"
   ]
  },
  {
   "cell_type": "markdown",
   "metadata": {},
   "source": [
    "## Aufgabe 5\n",
    "Das `datetime`-Modul von Python enthält einen `datetime`-Typ mit einer Methode `today`, die das aktuelle Datum und die aktuelle Uhrzeit als `datetime`-Objekt zurückgibt. Schreiben Sie eine parameterlose `date_and_time`-Funktion, die die folgende Anweisung enthält, und rufen Sie dann diese Funktion auf, um das aktuelle Datum und die aktuelle Zeit anzuzeigen:\n",
    "\n",
    "```\n",
    "print(datetime.datetime.today())\n",
    "```"
   ]
  },
  {
   "cell_type": "code",
   "execution_count": 12,
   "metadata": {},
   "outputs": [
    {
     "name": "stdout",
     "output_type": "stream",
     "text": [
      "2022-10-03 09:29:33.888944\n"
     ]
    }
   ],
   "source": [
    "from datetime import datetime\n",
    "\n",
    "def date_and_time():\n",
    "    print(datetime.today())\n",
    "    \n",
    "date_and_time()"
   ]
  },
  {
   "cell_type": "markdown",
   "metadata": {},
   "source": [
    "## Aufgabe 6\n",
    "Recherchieren Sie die Funktion `round` in der Python Standard Bibliothek.\n",
    "\n",
    "https://docs.python.org/3/library/functions.html#round\n",
    "\n",
    "Schreiben Sie ein kurzes Script, welches die Funktion `round` verwendet, um die Fliesskommazahl 13.56449 auf die nächste Ganzzahl,  sowie Zehntel-, Hundertstel- und Tausendstel-Position zu runden."
   ]
  },
  {
   "cell_type": "code",
   "execution_count": 13,
   "metadata": {},
   "outputs": [
    {
     "name": "stdout",
     "output_type": "stream",
     "text": [
      "14\n",
      "13.6\n",
      "13.56\n",
      "13.564\n"
     ]
    }
   ],
   "source": [
    "def round_float(number):\n",
    "    print(round(number))\n",
    "    print(round(number, 1))\n",
    "    print(round(number, 2))\n",
    "    print(round(number, 3))\n",
    "    \n",
    "round_float(13.56449)"
   ]
  },
  {
   "cell_type": "markdown",
   "metadata": {},
   "source": [
    "## Aufgabe 7\n",
    "Implementieren Sie eine Fahrenheit-Funktion, die das Fahrenheit-Äquivalent einer Celsius-Temperatur zurückgibt. Verwenden Sie die folgende Formel:\n",
    "\n",
    "F = (9 / 5) * C + 32\n",
    "\n",
    "Verwenden Sie diese Funktion, um eine Tabelle auszugeben, welche die Fahrenheit-Äquivalente aller Celsius-Temperaturen im Bereich von 0-100 Grad anzeigt. Die Ergebnisse sollen auf eine Ziffer nach dem Komma gerundet sein.\n"
   ]
  },
  {
   "cell_type": "code",
   "execution_count": 15,
   "metadata": {},
   "outputs": [
    {
     "name": "stdout",
     "output_type": "stream",
     "text": [
      "Celsius Fahrenheit\n",
      "      0       32.0\n",
      "      1       33.8\n",
      "      2       35.6\n",
      "      3       37.4\n",
      "      4       39.2\n",
      "      5       41.0\n",
      "      6       42.8\n",
      "      7       44.6\n",
      "      8       46.4\n",
      "      9       48.2\n",
      "     10       50.0\n",
      "     11       51.8\n",
      "     12       53.6\n",
      "     13       55.4\n",
      "     14       57.2\n",
      "     15       59.0\n",
      "     16       60.8\n",
      "     17       62.6\n",
      "     18       64.4\n",
      "     19       66.2\n",
      "     20       68.0\n",
      "     21       69.8\n",
      "     22       71.6\n",
      "     23       73.4\n",
      "     24       75.2\n",
      "     25       77.0\n",
      "     26       78.8\n",
      "     27       80.6\n",
      "     28       82.4\n",
      "     29       84.2\n",
      "     30       86.0\n",
      "     31       87.8\n",
      "     32       89.6\n",
      "     33       91.4\n",
      "     34       93.2\n",
      "     35       95.0\n",
      "     36       96.8\n",
      "     37       98.6\n",
      "     38      100.4\n",
      "     39      102.2\n",
      "     40      104.0\n",
      "     41      105.8\n",
      "     42      107.6\n",
      "     43      109.4\n",
      "     44      111.2\n",
      "     45      113.0\n",
      "     46      114.8\n",
      "     47      116.6\n",
      "     48      118.4\n",
      "     49      120.2\n",
      "     50      122.0\n",
      "     51      123.8\n",
      "     52      125.6\n",
      "     53      127.4\n",
      "     54      129.2\n",
      "     55      131.0\n",
      "     56      132.8\n",
      "     57      134.6\n",
      "     58      136.4\n",
      "     59      138.2\n",
      "     60      140.0\n",
      "     61      141.8\n",
      "     62      143.6\n",
      "     63      145.4\n",
      "     64      147.2\n",
      "     65      149.0\n",
      "     66      150.8\n",
      "     67      152.6\n",
      "     68      154.4\n",
      "     69      156.2\n",
      "     70      158.0\n",
      "     71      159.8\n",
      "     72      161.6\n",
      "     73      163.4\n",
      "     74      165.2\n",
      "     75      167.0\n",
      "     76      168.8\n",
      "     77      170.6\n",
      "     78      172.4\n",
      "     79      174.2\n",
      "     80      176.0\n",
      "     81      177.8\n",
      "     82      179.6\n",
      "     83      181.4\n",
      "     84      183.2\n",
      "     85      185.0\n",
      "     86      186.8\n",
      "     87      188.6\n",
      "     88      190.4\n",
      "     89      192.2\n",
      "     90      194.0\n",
      "     91      195.8\n",
      "     92      197.6\n",
      "     93      199.4\n",
      "     94      201.2\n",
      "     95      203.0\n",
      "     96      204.8\n",
      "     97      206.6\n",
      "     98      208.4\n",
      "     99      210.2\n",
      "    100      212.0\n"
     ]
    }
   ],
   "source": [
    "def calculate_fahrenheit(celsius):\n",
    "    return (9 / 5) * celsius + 32\n",
    "\n",
    "print('Celsius Fahrenheit')\n",
    "for celsius in range(101):\n",
    "    fahrenheit = calculate_fahrenheit(celsius)\n",
    "    print(f'{celsius:>7} {round(fahrenheit, 1):>10}')"
   ]
  },
  {
   "cell_type": "markdown",
   "metadata": {
    "tags": []
   },
   "source": [
    "## Aufgabe 8\n",
    "Schreiben Sie ein Script, das \"Errate die Zahl\" spielt. \n",
    "\n",
    "Wählen Sie die zu erratende Zahl, indem Sie eine zufällige ganze Zahl im Bereich von 1 bis 1000 wählen. Geben Sie diese Zahl der Spielerin oder dem Spieler nicht preis. Zeigen Sie die Eingabeaufforderung \"Erraten Sie meine Zahl zwischen 1 bis 1000\" an. \n",
    "\n",
    "Die Spielerin oder der Spieler gibt nun eine erste Schätzung ein. Wenn die Schätzung falsch ist, zeigen Sie entweder \"Zu hoch. Versuchen Sie es noch einmal.\", oder \"Zu tief. Versuchen Sie es noch einmal.\" an und fordern zur nächsten Schätzung auf. \n",
    "\n",
    "Wenn die Spielerin oder der Spieler die richtige Antwort eingibt, zeigen Sie \"Gratulation, Sie haben meine Zahl erraten!\" an und lassen Sie die Spielerin oder den Spieler wählen, ob sie oder er erneut spielen möchte."
   ]
  },
  {
   "cell_type": "code",
   "execution_count": 58,
   "metadata": {},
   "outputs": [
    {
     "name": "stdin",
     "output_type": "stream",
     "text": [
      "Geben sie eine Zahl im Bereich von 1 bis 1000 ein:  500\n"
     ]
    },
    {
     "name": "stdout",
     "output_type": "stream",
     "text": [
      "Zu tief. Versuchen Sie es noch einmal.\n"
     ]
    },
    {
     "name": "stdin",
     "output_type": "stream",
     "text": [
      "Geben sie eine Zahl im Bereich von 1 bis 1000 ein:  750\n"
     ]
    },
    {
     "name": "stdout",
     "output_type": "stream",
     "text": [
      "Zu hoch. Versuchen Sie es noch einmal.\n"
     ]
    },
    {
     "name": "stdin",
     "output_type": "stream",
     "text": [
      "Geben sie eine Zahl im Bereich von 1 bis 1000 ein:  625\n"
     ]
    },
    {
     "name": "stdout",
     "output_type": "stream",
     "text": [
      "Zu tief. Versuchen Sie es noch einmal.\n"
     ]
    },
    {
     "name": "stdin",
     "output_type": "stream",
     "text": [
      "Geben sie eine Zahl im Bereich von 1 bis 1000 ein:  700\n"
     ]
    },
    {
     "name": "stdout",
     "output_type": "stream",
     "text": [
      "Zu hoch. Versuchen Sie es noch einmal.\n"
     ]
    },
    {
     "name": "stdin",
     "output_type": "stream",
     "text": [
      "Geben sie eine Zahl im Bereich von 1 bis 1000 ein:  680\n"
     ]
    },
    {
     "name": "stdout",
     "output_type": "stream",
     "text": [
      "Zu hoch. Versuchen Sie es noch einmal.\n"
     ]
    },
    {
     "name": "stdin",
     "output_type": "stream",
     "text": [
      "Geben sie eine Zahl im Bereich von 1 bis 1000 ein:  670\n"
     ]
    },
    {
     "name": "stdout",
     "output_type": "stream",
     "text": [
      "Zu tief. Versuchen Sie es noch einmal.\n"
     ]
    },
    {
     "name": "stdin",
     "output_type": "stream",
     "text": [
      "Geben sie eine Zahl im Bereich von 1 bis 1000 ein:  675\n"
     ]
    },
    {
     "name": "stdout",
     "output_type": "stream",
     "text": [
      "Zu tief. Versuchen Sie es noch einmal.\n"
     ]
    },
    {
     "name": "stdin",
     "output_type": "stream",
     "text": [
      "Geben sie eine Zahl im Bereich von 1 bis 1000 ein:  677\n"
     ]
    },
    {
     "name": "stdout",
     "output_type": "stream",
     "text": [
      "Zu hoch. Versuchen Sie es noch einmal.\n"
     ]
    },
    {
     "name": "stdin",
     "output_type": "stream",
     "text": [
      "Geben sie eine Zahl im Bereich von 1 bis 1000 ein:  676\n"
     ]
    },
    {
     "name": "stdout",
     "output_type": "stream",
     "text": [
      "Gratulation, Sie haben meine Zahl erraten!\n"
     ]
    }
   ],
   "source": [
    "from random import randrange\n",
    "\n",
    "random_number = randrange(1000) + 1\n",
    "guessed_number = -1\n",
    "while True:\n",
    "    guessed_number = int(input('Geben sie eine Zahl im Bereich von 1 bis 1000 ein: '))\n",
    "    \n",
    "    if guessed_number == random_number:\n",
    "        print('Gratulation, Sie haben meine Zahl erraten!')\n",
    "        break\n",
    "    \n",
    "    if guessed_number < random_number:\n",
    "        print('Zu tief. Versuchen Sie es noch einmal.')\n",
    "        continue\n",
    "    \n",
    "    print('Zu hoch. Versuchen Sie es noch einmal.')"
   ]
  },
  {
   "cell_type": "markdown",
   "metadata": {},
   "source": [
    "## Aufgabe 9\n",
    "Schreiben Sie ein Script, das einen Würfel simuliert, der eine beliebige Anzahl mal gewürfelt wird. Dabei soll gezählt werden, wie oft die jeweiligen Augenzahlen gewürfelt wurden. Das Schlussresultat soll dann ausgegeben werden und könnte z.B. wie folgt aussehen:\n",
    "\n",
    "\n",
    "```\n",
    "Rolling a die 6000000 times.\n",
    "\n",
    "Face    Frequency\n",
    "   1       999764\n",
    "   2       998521\n",
    "   3       999797\n",
    "   4      1000539\n",
    "   5      1001022\n",
    "   6      1000357\n",
    "```\n"
   ]
  },
  {
   "cell_type": "code",
   "execution_count": 66,
   "metadata": {},
   "outputs": [
    {
     "name": "stdout",
     "output_type": "stream",
     "text": [
      "Face    Frequency\n",
      "   1      1000164\n",
      "   2      1000291\n",
      "   3       999999\n",
      "   4      1000030\n",
      "   5       999855\n",
      "   6       999661\n"
     ]
    }
   ],
   "source": [
    "from random import randrange\n",
    "\n",
    "def random_dice_face():\n",
    "    return randrange(6) + 1\n",
    "\n",
    "dice_face_counts = {1: 0, 2: 0, 3: 0, 4: 0, 5: 0, 6: 0}\n",
    "\n",
    "for count in range(6000000):\n",
    "    dice_face = random_dice_face()\n",
    "    dice_face_counts[dice_face] += 1\n",
    "    \n",
    "print('Face    Frequency')\n",
    "for key, value in dice_face_counts.items():\n",
    "    print(f'{key:>4}{value:>13}')"
   ]
  }
 ],
 "metadata": {
  "kernelspec": {
   "display_name": "Python 3 (ipykernel)",
   "language": "python",
   "name": "python3"
  },
  "language_info": {
   "codemirror_mode": {
    "name": "ipython",
    "version": 3
   },
   "file_extension": ".py",
   "mimetype": "text/x-python",
   "name": "python",
   "nbconvert_exporter": "python",
   "pygments_lexer": "ipython3",
   "version": "3.10.7"
  }
 },
 "nbformat": 4,
 "nbformat_minor": 4
}
