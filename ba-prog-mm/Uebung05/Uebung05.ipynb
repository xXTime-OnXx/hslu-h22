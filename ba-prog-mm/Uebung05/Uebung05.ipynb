{
 "cells": [
  {
   "cell_type": "markdown",
   "metadata": {},
   "source": [
    "# Übung 5"
   ]
  },
  {
   "cell_type": "markdown",
   "metadata": {},
   "source": [
    "## Aufgabe 1\n",
    "Was, wenn überhaupt, stimmt mit den folgenden Snippets nicht?"
   ]
  },
  {
   "cell_type": "markdown",
   "metadata": {},
   "source": [
    "a)\n",
    "```\n",
    "day, high_temperature = ('Monday', 87, 65)\n",
    "```"
   ]
  },
  {
   "cell_type": "markdown",
   "metadata": {},
   "source": [
    "Error: es wurden nicht alle Werte zugewiesen"
   ]
  },
  {
   "cell_type": "markdown",
   "metadata": {},
   "source": [
    "b)\n",
    "```\n",
    "numbers = [1, 2, 3, 4, 5]\n",
    "numbers[10]\n",
    "```"
   ]
  },
  {
   "cell_type": "markdown",
   "metadata": {},
   "source": [
    "Error: index out of range"
   ]
  },
  {
   "cell_type": "markdown",
   "metadata": {},
   "source": [
    "c)\n",
    "```\n",
    "name = 'amanda'\n",
    "name[0] = 'A'\n",
    "```"
   ]
  },
  {
   "cell_type": "markdown",
   "metadata": {},
   "source": [
    "str objekt unterstützt keine item zuweisung"
   ]
  },
  {
   "cell_type": "markdown",
   "metadata": {},
   "source": [
    "d)\n",
    "```\n",
    "numbers = [1, 2, 3, 4, 5]\n",
    "numbers[3.4]\n",
    "```"
   ]
  },
  {
   "cell_type": "markdown",
   "metadata": {},
   "source": [
    "Error: index darf kein float sein"
   ]
  },
  {
   "cell_type": "markdown",
   "metadata": {},
   "source": [
    "e)\n",
    "```\n",
    "student_tuple = ('Amanda', 'Blue', [98, 75, 87])\n",
    "student_tuple[0] = 'Ariana' \n",
    "```"
   ]
  },
  {
   "cell_type": "markdown",
   "metadata": {},
   "source": [
    "Error: tuple item kann nicht geändert werden"
   ]
  },
  {
   "cell_type": "markdown",
   "metadata": {},
   "source": [
    "f)\n",
    "```\n",
    "('Monday', 87, 65) + 'Tuesday'\n",
    "```"
   ]
  },
  {
   "cell_type": "markdown",
   "metadata": {},
   "source": [
    "string kann nicht addiert werden"
   ]
  },
  {
   "cell_type": "markdown",
   "metadata": {},
   "source": [
    "g)\n",
    "```\n",
    "'A' += ('B', 'C')\n",
    "```"
   ]
  },
  {
   "cell_type": "markdown",
   "metadata": {},
   "source": [
    "'A' ist keine Variable"
   ]
  },
  {
   "cell_type": "markdown",
   "metadata": {},
   "source": [
    "h)\n",
    "```\n",
    "x = 7\n",
    "del x\n",
    "print(x)\n",
    "```"
   ]
  },
  {
   "cell_type": "markdown",
   "metadata": {},
   "source": [
    "Error: x ist bei print nicht mehr definiert"
   ]
  },
  {
   "cell_type": "markdown",
   "metadata": {},
   "source": [
    "i)\n",
    "```\n",
    "numbers = [1, 2, 3, 4, 5]\n",
    "numbers.index(10)\n",
    "```"
   ]
  },
  {
   "cell_type": "markdown",
   "metadata": {},
   "source": [
    "Error: wert 10 ist nicht in der liste vorhanden"
   ]
  },
  {
   "cell_type": "markdown",
   "metadata": {},
   "source": [
    "j)\n",
    "```\n",
    "numbers = [1, 2, 3, 4, 5]\n",
    "numbers.extend(6, 7, 8)\n",
    "```"
   ]
  },
  {
   "cell_type": "markdown",
   "metadata": {},
   "source": [
    "Error: .extend() erwartet gneau 1 Argument"
   ]
  },
  {
   "cell_type": "markdown",
   "metadata": {},
   "source": [
    "k)\n",
    "```\n",
    "numbers = [1, 2, 3, 4, 5]\n",
    "numbers.remove(10)\n",
    "```"
   ]
  },
  {
   "cell_type": "markdown",
   "metadata": {},
   "source": [
    "Error: Wert 10 ist nicht in der liste"
   ]
  },
  {
   "cell_type": "markdown",
   "metadata": {},
   "source": [
    "l)\n",
    "```\n",
    "values = []\n",
    "values.pop()\n",
    "```"
   ]
  },
  {
   "cell_type": "markdown",
   "metadata": {},
   "source": [
    "Error: es hat kein letztes element in der liste"
   ]
  },
  {
   "cell_type": "markdown",
   "metadata": {},
   "source": [
    "\n",
    "\n",
    "## Aufgabe 2\n",
    "Fordern Sie den oder die Benutzer:in wiederholt auf, eine Zahl einzugeben. Wenn der oder die Benutzer:in eine leere Zeichenkette eingibt, wird die Eingabeaufforderung abgebrochen und die Summe und der Mittelwert aller bisher eingegebenen Zahlen ausgeben."
   ]
  },
  {
   "cell_type": "code",
   "execution_count": 3,
   "metadata": {},
   "outputs": [
    {
     "name": "stdout",
     "output_type": "stream",
     "text": [
      "Summe 7\n",
      "Mittelwert 3.5\n"
     ]
    }
   ],
   "source": [
    "from statistics import mean\n",
    "\n",
    "numbers = []\n",
    "\n",
    "while True:\n",
    "    number = input('Geben sie eine Zahl ein')\n",
    "    if len(number) == 0:\n",
    "        break\n",
    "    numbers.append(int(number))\n",
    "    \n",
    "print(f'Summe {sum(numbers)}')\n",
    "print(f'Mittelwert {mean(numbers)}')"
   ]
  },
  {
   "cell_type": "markdown",
   "metadata": {},
   "source": [
    "\n",
    "\n",
    "## Aufgabe 3\n",
    "Gegeben die folgende Zeichenfolge:\n"
   ]
  },
  {
   "cell_type": "code",
   "execution_count": 25,
   "metadata": {
    "tags": []
   },
   "outputs": [],
   "source": [
    "alphabet = 'abcdefghijklmnopqrstuvwxyz'"
   ]
  },
  {
   "cell_type": "markdown",
   "metadata": {},
   "source": [
    "Führen Sie die folgenden Slice-Operationen durch:"
   ]
  },
  {
   "cell_type": "markdown",
   "metadata": {},
   "source": [
    "1.\tDie erste Hälfte der Zeichenfolge unter Verwendung von Anfangs- und Endindizes."
   ]
  },
  {
   "cell_type": "code",
   "execution_count": 6,
   "metadata": {},
   "outputs": [
    {
     "data": {
      "text/plain": [
       "'abcdefghijklmn'"
      ]
     },
     "execution_count": 6,
     "metadata": {},
     "output_type": "execute_result"
    }
   ],
   "source": [
    "alphabet[0:14]"
   ]
  },
  {
   "cell_type": "markdown",
   "metadata": {},
   "source": [
    "2.\tDie erste Hälfte der Zeichenfolge, die nur den Endindex verwendet."
   ]
  },
  {
   "cell_type": "code",
   "execution_count": 7,
   "metadata": {},
   "outputs": [
    {
     "data": {
      "text/plain": [
       "'abcdefghijklmn'"
      ]
     },
     "execution_count": 7,
     "metadata": {},
     "output_type": "execute_result"
    }
   ],
   "source": [
    "alphabet[:14]"
   ]
  },
  {
   "cell_type": "markdown",
   "metadata": {},
   "source": [
    "3.\tDie zweite Hälfte der Zeichenfolge unter Verwendung von Anfangs- und Endindizes."
   ]
  },
  {
   "cell_type": "code",
   "execution_count": 10,
   "metadata": {},
   "outputs": [
    {
     "data": {
      "text/plain": [
       "'opqrstuvwxyz'"
      ]
     },
     "execution_count": 10,
     "metadata": {},
     "output_type": "execute_result"
    }
   ],
   "source": [
    "alphabet[14:27]"
   ]
  },
  {
   "cell_type": "markdown",
   "metadata": {},
   "source": [
    "4.\tDie zweite Hälfte der Zeichenfolge, die nur den Startindex verwendet."
   ]
  },
  {
   "cell_type": "code",
   "execution_count": 11,
   "metadata": {},
   "outputs": [
    {
     "data": {
      "text/plain": [
       "'opqrstuvwxyz'"
      ]
     },
     "execution_count": 11,
     "metadata": {},
     "output_type": "execute_result"
    }
   ],
   "source": [
    "alphabet[14:]"
   ]
  },
  {
   "cell_type": "markdown",
   "metadata": {},
   "source": [
    "5.\tJeder zweite Buchstabe in der Zeichenfolge, die mit 'a' beginnt."
   ]
  },
  {
   "cell_type": "code",
   "execution_count": 13,
   "metadata": {},
   "outputs": [
    {
     "data": {
      "text/plain": [
       "'acegikmoqsuwy'"
      ]
     },
     "execution_count": 13,
     "metadata": {},
     "output_type": "execute_result"
    }
   ],
   "source": [
    "alphabet[::2]"
   ]
  },
  {
   "cell_type": "markdown",
   "metadata": {},
   "source": [
    "6.\tDie gesamte Zeichenfolge in umgekehrter Richtung."
   ]
  },
  {
   "cell_type": "code",
   "execution_count": 12,
   "metadata": {},
   "outputs": [
    {
     "data": {
      "text/plain": [
       "'zyxwvutsrqponmlkjihgfedcba'"
      ]
     },
     "execution_count": 12,
     "metadata": {},
     "output_type": "execute_result"
    }
   ],
   "source": [
    "alphabet[::-1]"
   ]
  },
  {
   "cell_type": "markdown",
   "metadata": {},
   "source": [
    "7.\tJeder dritte Buchstabe der Zeichenfolge umgekehrt, beginnend mit 'z'."
   ]
  },
  {
   "cell_type": "code",
   "execution_count": 14,
   "metadata": {},
   "outputs": [
    {
     "data": {
      "text/plain": [
       "'zwtqnkheb'"
      ]
     },
     "execution_count": 14,
     "metadata": {},
     "output_type": "execute_result"
    }
   ],
   "source": [
    "alphabet[::-1][::3]"
   ]
  },
  {
   "cell_type": "markdown",
   "metadata": {},
   "source": [
    "## Aufgabe 4\n",
    "Implementieren Sie eine Funktion `rotate`, die drei Argumente empfängt und ein Tupel zurückgibt, in dem das erste Argument auf Index 1, das zweite Argument auf Index 2 und das dritte Argument auf Index 0 steht.\n",
    "\n",
    "Definieren Sie die Variablen a, b und c, die 'Doug', 22 und 1984 enthalten. Rufen Sie die Funktion dann dreimal auf. Entpacken Sie für jeden Aufruf das Ergebnis in a, b und c und zeigen Sie dann deren Werte an."
   ]
  },
  {
   "cell_type": "code",
   "execution_count": 15,
   "metadata": {},
   "outputs": [
    {
     "name": "stdout",
     "output_type": "stream",
     "text": [
      "1984 Doug 22\n",
      "22 1984 Doug\n",
      "Doug 22 1984\n"
     ]
    }
   ],
   "source": [
    "def rotate(arg1, arg2, arg3):\n",
    "    return (arg3, arg1, arg2)\n",
    "\n",
    "a, b, c = ('Doug', 22, 1984)\n",
    "for iteration in range(3):\n",
    "    a, b, c = rotate(a, b, c)\n",
    "    print(a, b, c)"
   ]
  },
  {
   "cell_type": "markdown",
   "metadata": {},
   "source": [
    "## Aufgabe 5\n",
    "Erstellen Sie eine Funktion, die eine Liste empfängt und eine (möglicherweise kürzere) sortierte Liste zurückgibt, die keine Duplikate enthält. \n",
    "Testen Sie Ihre Funktion mit einer Liste von Zahlen und einer Liste von Zeichenketten."
   ]
  },
  {
   "cell_type": "code",
   "execution_count": 16,
   "metadata": {},
   "outputs": [
    {
     "name": "stdout",
     "output_type": "stream",
     "text": [
      "[1, 2, 3, 4, 6, 9]\n",
      "['c', 'h', 'k', 'x']\n"
     ]
    }
   ],
   "source": [
    "def shorten_list(any_list):\n",
    "    return sorted(set(any_list))\n",
    "\n",
    "print(shorten_list([1, 3, 9, 4, 1, 3, 2, 6]))\n",
    "print(shorten_list(['c', 'x', 'h', 'k', 'x']))"
   ]
  },
  {
   "cell_type": "markdown",
   "metadata": {
    "tags": []
   },
   "source": [
    "## Aufgabe 6\n",
    "Standard-Telefontastaturen enthalten die Ziffern 0 bis 9. Den Ziffern 2 bis 9 sind jeweils Buchstaben zugeordnet, wie in der folgenden Tabelle dargestellt:\n",
    "\n",
    "| Ziffer | Buchstaben |\n",
    "| ------ | ---------- |\n",
    "|   2    | A B C      |\n",
    "|   3    | D E F      |\n",
    "|   4    | G H I      |\n",
    "|   5    | J K L      |\n",
    "|   6    | M N O      |\n",
    "|   7    | P Q R S    |\n",
    "|   8    | T U V      |\n",
    "|   9    | W X Y Z    |\n",
    "\n",
    "Vielen Menschen fällt es schwer, sich Telefonnummern zu merken, deshalb verwenden sie die Entsprechung zwischen Ziffern und Buchstaben, um Wörter (oder Sätze) mit sieben Buchstaben zu entwickeln, die ihren Telefonnummern entsprechen. Zum Beispiel könnte eine Person das Wort \"NUMBERS\" verwenden, um die Telefonnummer 686 23 77 zu codieren.\n",
    "\n",
    "Nehmen Sie an, Sie wollen die Telefonnummer finden, die zu einem siebenstelligen Wort passt.\n",
    "Schreiben Sie ein Script, welches die Telefonnummer für die gegebene Zeichenfolge mit sieben Buchstaben am Bildschirm ausgibt.\n"
   ]
  },
  {
   "cell_type": "code",
   "execution_count": 24,
   "metadata": {},
   "outputs": [
    {
     "data": {
      "text/plain": [
       "'6862377'"
      ]
     },
     "execution_count": 24,
     "metadata": {},
     "output_type": "execute_result"
    }
   ],
   "source": [
    "caracter_number_map = {\n",
    "    'A': 2, 'B': 2, 'C': 2,\n",
    "\t'D': 3, 'E': 3, 'F': 3,\n",
    "\t'G': 4, 'H': 4, 'I': 4,\n",
    "\t'J': 5, 'K': 5, 'L': 5,\n",
    "\t'M': 6, 'N': 6, 'O': 6,\n",
    "\t'P': 7, 'Q': 7, 'R': 7, 'S': 7, \n",
    "    'T': 8, 'U': 8, 'V': 8,\n",
    "\t'W': 9, 'X': 9, 'Y': 9, 'Z': 9\n",
    "}\n",
    "\n",
    "def map_phone_number(text):\n",
    "    phone_number_list = list(map(lambda n: str(caracter_number_map[n]), text))\n",
    "    return ''.join(phone_number_list)\n",
    "\n",
    "map_phone_number('NUMBERS')"
   ]
  },
  {
   "cell_type": "markdown",
   "metadata": {},
   "source": [
    "## Aufgabe 7\n",
    "Erstellen Sie eine Funktion `is_ordered`, die eine Sequenz empfängt und True zurückgibt, wenn die Elemente in aufsteigender, sortierter Reihenfolge sind. Testen Sie Ihre Funktion mit sortierten und unsortierten Listen, Tupeln und Zeichenketten."
   ]
  },
  {
   "cell_type": "code",
   "execution_count": 37,
   "metadata": {},
   "outputs": [
    {
     "name": "stdout",
     "output_type": "stream",
     "text": [
      "Sorted List: [1, 3, 6, 7] => True\n",
      "Unsorted List: [1, 7, 3, 2] => False\n",
      "Sorted Tuple: (2, 3, 6, 7) => True\n",
      "Unsorted Tuple: (2, 22, 4, 16) => False\n",
      "Sorted String: abcdefg => True\n",
      "Unsorted String: wvutsrqponml => False\n"
     ]
    }
   ],
   "source": [
    "def is_ordered(any_list):\n",
    "    return list(any_list) == sorted(list(any_list))\n",
    "\n",
    "sorted_list = [1, 3, 6, 7]\n",
    "unsorted_list = [1, 7, 3, 2]\n",
    "sorted_tuple = (2, 3, 6, 7)\n",
    "unsorted_tuple = (2, 22, 4, 16)\n",
    "sorted_string = 'abcdefg'\n",
    "unsorted_string = 'wvutsrqponml'\n",
    "print(f'Sorted List: {sorted_list} => {is_ordered(sorted_list)}')\n",
    "print(f'Unsorted List: {unsorted_list} => {is_ordered(unsorted_list)}')\n",
    "print(f'Sorted Tuple: {sorted_tuple} => {is_ordered(sorted_tuple)}')\n",
    "print(f'Unsorted Tuple: {unsorted_tuple} => {is_ordered(unsorted_tuple)}')\n",
    "print(f'Sorted String: {sorted_string} => {is_ordered(sorted_string)}')\n",
    "print(f'Unsorted String: {unsorted_string} => {is_ordered(unsorted_string)}')"
   ]
  }
 ],
 "metadata": {
  "kernelspec": {
   "display_name": "Python 3.10.7 ('venv': venv)",
   "language": "python",
   "name": "python3"
  },
  "language_info": {
   "codemirror_mode": {
    "name": "ipython",
    "version": 3
   },
   "file_extension": ".py",
   "mimetype": "text/x-python",
   "name": "python",
   "nbconvert_exporter": "python",
   "pygments_lexer": "ipython3",
   "version": "3.10.7"
  },
  "vscode": {
   "interpreter": {
    "hash": "023e4eadc93684ac1c8050cfafbde284d504370f1252686768eedecb22e3f812"
   }
  }
 },
 "nbformat": 4,
 "nbformat_minor": 4
}
