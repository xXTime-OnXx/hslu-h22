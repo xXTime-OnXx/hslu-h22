{
 "cells": [
  {
   "cell_type": "markdown",
   "metadata": {},
   "source": [
    "# Übung 6"
   ]
  },
  {
   "cell_type": "markdown",
   "metadata": {},
   "source": [
    "## Aufgabe 1\n",
    "Ersetzen Sie die *** in der folgenden List Comprehension, sowie dem Map Funktionsaufruf, so dass Sie für die gegebenen Inch-Werte in der Originalliste eine neue Liste erzeugen, die Tupel mit dem Originalwert in Inch und dem zugehörigen Wert in Meter enthalten.\n",
    "\n",
    "```\n",
    "[*** for x in [69, 77, 54]]\n",
    "\n",
    "list(map(lambda ***, [69, 77, 54]))\n",
    "```\n",
    "\n",
    "Zum Beispiel soll für das Element in der Originalliste, welches den Wert 69 hat, in der neu zu bildenden Liste das Tupel (69, 1.7526) eingefügt werden.\n",
    "\n",
    "Umrechnung `1 Inch =  0.0254 Meter`.\n"
   ]
  },
  {
   "cell_type": "code",
   "execution_count": 1,
   "metadata": {},
   "outputs": [
    {
     "data": {
      "text/plain": [
       "[69, 77, 54]"
      ]
     },
     "execution_count": 1,
     "metadata": {},
     "output_type": "execute_result"
    }
   ],
   "source": [
    "[x for x in [69, 77, 54]]\n",
    "\n",
    "list(map(lambda x: x, [69, 77, 54]))"
   ]
  },
  {
   "cell_type": "markdown",
   "metadata": {},
   "source": [
    "## Aufgabe 2\n",
    "Erstellen Sie eine 2-mal-3-Liste, welche nur Nullen (0) enthält.\n",
    "Verwenden Sie dann eine verschachtelte Schleife, um jedem Element in der 2 x 3 Liste diejenige ganze Zahl zuzuweisen, welche die Reihenfolge angibt, in der es von der geschachtelten Schlaufe verarbeitet wurde.\n",
    "Zeigen Sie anschliessend die Elemente der 2 x 3 Liste in tabellarischer Form an. Verwenden Sie die Spaltenindizes als Überschriften oben und die Zeilenindizes links von jeder Zeile.\n"
   ]
  },
  {
   "cell_type": "code",
   "execution_count": 9,
   "metadata": {},
   "outputs": [
    {
     "name": "stdout",
     "output_type": "stream",
     "text": [
      "   1  2  3\n",
      "1  1  2  3\n",
      "2  4  5  6"
     ]
    }
   ],
   "source": [
    "null_list = [[0, 0, 0], [0, 0, 0]]\n",
    "\n",
    "for row in range(len(null_list)):\n",
    "    for column in range(len(null_list[row])):\n",
    "        null_list[row][column] = (row) * len(null_list[row]) + column + 1\n",
    "\n",
    "print(f'{\"\":2}{\"1\":>2}{\"2\":>3}{\"3\":>3}', end=\"\")\n",
    "for row in range(len(null_list)):\n",
    "    print(f'\\n{row + 1}', end=\"\")\n",
    "    for column in null_list[row]:\n",
    "        print(f'{\"\":1}{column:2}', end=\"\")"
   ]
  },
  {
   "cell_type": "markdown",
   "metadata": {},
   "source": [
    "## Aufgabe 3\n",
    "Eine Primzahl ist eine ganze Zahl grösser als 1, die nur durch sich selbst und 1 teilbar ist. Das Sieb der Eratosthenes ist eine elegante, einfache Methode, um Primzahlen zu finden. Das Verfahren zum Auffinden aller Primzahlen, z.B. kleiner als 1000, ist wie folgt:\n",
    "\n",
    "1. Erstellen Sie eine 1000-Element-Liste `primes` in der alle Elemente auf `True` initialisiert sind. Listenelemente mit Primindizes (wie 2, 3, 5, 7, 11, ...) bleiben `True`. Alle anderen Listenelemente werden schliesslich auf `False` gesetzt.\n",
    "\n",
    "2. Beginnend mit Index 2, wenn ein gegebenes Element `True` ist, iterieren Sie durch den Rest der Liste und setzen Sie jedes Element, dessen Index ein Vielfaches des Index für das Element ist, das wir gerade verarbeiten, auf `False`. D.h., für den Listenindex 2 werden alle Elemente jenseits von Element 2 in der Liste, deren Index ein Vielfaches von 2 ist (d.h. 4, 6, 8, 10, ..., 998) auf `False` gesetzt.\n",
    "\n",
    "3. Wiederholen Sie Schritt 2 für das nächste wahre Element. D.h., für Listenindex 3 (der auf `True` initialisiert wurde) werden alle Elemente jenseits von Element 3 in der Liste, die Indizes haben, die Vielfache von 3 sind (d.h. 6, 9, 12, 15, ..., 999), auf False gesetzt; und so weiter. \n",
    "\n",
    "Wenn dieser Prozess abgeschlossen ist, zeigen die Listenelemente, die immer noch `True` sind, an, dass der Index eine Primzahl ist. Zeigen Sie die Primzahlen an. Sie können dabei die Listenelemente 0 und 1 ignorieren.\n",
    "\n",
    "\n",
    "Bitte beachten Sie folgendes:\n",
    "Die Quadratwurzel von 999 ist 31,6. Sie müssen nur alle Vielfachen von 2, 3, 5, 7, 9, 11, 13, 17, 19, 23, 29 und 31 testen und auf False setzen. Dies wird die Leistung Ihres Algorithmus erheblich verbessern, insbesondere wenn Sie sich entscheiden, nach grossen Primzahlen zu suchen."
   ]
  },
  {
   "cell_type": "code",
   "execution_count": 21,
   "metadata": {},
   "outputs": [
    {
     "data": {
      "text/plain": [
       "[1,\n",
       " 2,\n",
       " 3,\n",
       " 5,\n",
       " 7,\n",
       " 11,\n",
       " 13,\n",
       " 17,\n",
       " 19,\n",
       " 23,\n",
       " 29,\n",
       " 31,\n",
       " 37,\n",
       " 41,\n",
       " 43,\n",
       " 47,\n",
       " 53,\n",
       " 59,\n",
       " 61,\n",
       " 67,\n",
       " 71,\n",
       " 73,\n",
       " 79,\n",
       " 83,\n",
       " 89,\n",
       " 97,\n",
       " 101,\n",
       " 103,\n",
       " 107,\n",
       " 109,\n",
       " 113,\n",
       " 127,\n",
       " 131,\n",
       " 137,\n",
       " 139,\n",
       " 149,\n",
       " 151,\n",
       " 157,\n",
       " 163,\n",
       " 167,\n",
       " 173,\n",
       " 179,\n",
       " 181,\n",
       " 191,\n",
       " 193,\n",
       " 197,\n",
       " 199,\n",
       " 211,\n",
       " 223,\n",
       " 227,\n",
       " 229,\n",
       " 233,\n",
       " 239,\n",
       " 241,\n",
       " 251,\n",
       " 257,\n",
       " 263,\n",
       " 269,\n",
       " 271,\n",
       " 277,\n",
       " 281,\n",
       " 283,\n",
       " 293,\n",
       " 307,\n",
       " 311,\n",
       " 313,\n",
       " 317,\n",
       " 331,\n",
       " 337,\n",
       " 347,\n",
       " 349,\n",
       " 353,\n",
       " 359,\n",
       " 367,\n",
       " 373,\n",
       " 379,\n",
       " 383,\n",
       " 389,\n",
       " 397,\n",
       " 401,\n",
       " 409,\n",
       " 419,\n",
       " 421,\n",
       " 431,\n",
       " 433,\n",
       " 439,\n",
       " 443,\n",
       " 449,\n",
       " 457,\n",
       " 461,\n",
       " 463,\n",
       " 467,\n",
       " 479,\n",
       " 487,\n",
       " 491,\n",
       " 499,\n",
       " 503,\n",
       " 509,\n",
       " 521,\n",
       " 523,\n",
       " 541,\n",
       " 547,\n",
       " 557,\n",
       " 563,\n",
       " 569,\n",
       " 571,\n",
       " 577,\n",
       " 587,\n",
       " 593,\n",
       " 599,\n",
       " 601,\n",
       " 607,\n",
       " 613,\n",
       " 617,\n",
       " 619,\n",
       " 631,\n",
       " 641,\n",
       " 643,\n",
       " 647,\n",
       " 653,\n",
       " 659,\n",
       " 661,\n",
       " 673,\n",
       " 677,\n",
       " 683,\n",
       " 691,\n",
       " 701,\n",
       " 709,\n",
       " 719,\n",
       " 727,\n",
       " 733,\n",
       " 739,\n",
       " 743,\n",
       " 751,\n",
       " 757,\n",
       " 761,\n",
       " 769,\n",
       " 773,\n",
       " 787,\n",
       " 797,\n",
       " 809,\n",
       " 811,\n",
       " 821,\n",
       " 823,\n",
       " 827,\n",
       " 829,\n",
       " 839,\n",
       " 853,\n",
       " 857,\n",
       " 859,\n",
       " 863,\n",
       " 877,\n",
       " 881,\n",
       " 883,\n",
       " 887,\n",
       " 907,\n",
       " 911,\n",
       " 919,\n",
       " 929,\n",
       " 937,\n",
       " 941,\n",
       " 947,\n",
       " 953,\n",
       " 967,\n",
       " 971,\n",
       " 977,\n",
       " 983,\n",
       " 991,\n",
       " 997,\n",
       " 1000]"
      ]
     },
     "execution_count": 21,
     "metadata": {},
     "output_type": "execute_result"
    }
   ],
   "source": [
    "primes = [True for item in range(1000)]\n",
    "\n",
    "for number in range(2, 1000):\n",
    "    for multiple in range(2 * number, 1000, number):\n",
    "        primes[multiple - 1] = False\n",
    "\n",
    "[index for index, prime in enumerate(primes, 1) if prime]"
   ]
  },
  {
   "cell_type": "markdown",
   "metadata": {},
   "source": [
    "## Aufgabe 4\n",
    "Schreiben Sie eine Funktion `summarize_letters`, die eine Zeichenfolge empfängt und eine Liste von Tupeln zurückgibt, die die eindeutigen Buchstaben und ihre Häufigkeit in der Zeichenfolge enthält.<br>\n",
    "Testen Sie Ihre Funktion und zeigen Sie jeden Buchstaben mit seiner Häufigkeit an. Ihre Funktion sollte die Gross- und Kleinschreibung ignorieren (d.h. 'a' und 'A' sind gleich). Leerzeichen und Interpunktion sollen ebenfalls ignoriert werden.<br>\n",
    "Als Abschluss soll eine Aussage ausgegeben werden, die besagt, ob die Zeichenfolge alle Buchstaben des Alphabets enthält."
   ]
  },
  {
   "cell_type": "code",
   "execution_count": null,
   "metadata": {},
   "outputs": [],
   "source": [
    "def summarize_letters(text):\n",
    "    zip()"
   ]
  },
  {
   "cell_type": "markdown",
   "metadata": {},
   "source": [
    "## Aufgabe 5\n",
    "Erstellen Sie eine beliebige Liste von Tupeln mit Vor- und Nachnamen. Stellen Sie dabei sicher, dass mehrere Tupel in Ihrer Liste den Nachnamen 'Jones' enthalten.<br>\n",
    "Verwenden Sie die Funktion `filter`, um die Tupel zu finden, die den Nachnamen Jones enthalten. "
   ]
  },
  {
   "cell_type": "code",
   "execution_count": null,
   "metadata": {},
   "outputs": [],
   "source": []
  },
  {
   "cell_type": "markdown",
   "metadata": {},
   "source": [
    "## Aufgabe 6\n",
    "Analysiseren Sie den folgenden Code:\n",
    "\n",
    "```\n",
    "numbers = [10, 3, 7, 1, 9, 4, 2, 8, 5, 6]\n",
    "\n",
    "list(map(lambda x: x ** 2,\n",
    "    filter(lambda x: x % 2 != 0, numbers)))\n",
    "```\n",
    "1. Wie oft ruft die Filteroperation ihr Lambda-Argument auf?\n",
    "\n",
    "2. Wie oft ruft die Map-Operation ihr Lambda-Argument auf?\n",
    "\n",
    "3. Wenn Sie die Filter- und Map-Operationen umkehren, wie oft ruft dann die Map-Operation ihr Lambda-Argument auf?\n",
    "\n",
    "\n",
    "Um die Beantwortung der Fragen von oben zu überprüfen, können Sie Funktionen implementieren, welche die gleichen Aufgaben wie die Lambdas erfüllen. Fügen Sie in diesen Funktionen eine `print` Anweisung ein, damit Sie jeden Aufruf der Funktion sehen können.\n",
    "Ersetzen Sie schliesslich die Lambdas im vorhergehenden Code durch die Namen Ihrer Funktionen."
   ]
  },
  {
   "cell_type": "code",
   "execution_count": null,
   "metadata": {},
   "outputs": [],
   "source": []
  }
 ],
 "metadata": {
  "kernelspec": {
   "display_name": "Python 3.10.7 ('venv': venv)",
   "language": "python",
   "name": "python3"
  },
  "language_info": {
   "codemirror_mode": {
    "name": "ipython",
    "version": 3
   },
   "file_extension": ".py",
   "mimetype": "text/x-python",
   "name": "python",
   "nbconvert_exporter": "python",
   "pygments_lexer": "ipython3",
   "version": "3.10.7"
  },
  "vscode": {
   "interpreter": {
    "hash": "023e4eadc93684ac1c8050cfafbde284d504370f1252686768eedecb22e3f812"
   }
  }
 },
 "nbformat": 4,
 "nbformat_minor": 4
}
