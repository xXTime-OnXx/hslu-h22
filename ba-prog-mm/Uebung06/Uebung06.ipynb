{
 "cells": [
  {
   "cell_type": "markdown",
   "metadata": {},
   "source": [
    "# Übung 6"
   ]
  },
  {
   "cell_type": "markdown",
   "metadata": {},
   "source": [
    "## Aufgabe 1\n",
    "Ersetzen Sie die *** in der folgenden List Comprehension, sowie dem Map Funktionsaufruf, so dass Sie für die gegebenen Inch-Werte in der Originalliste eine neue Liste erzeugen, die Tupel mit dem Originalwert in Inch und dem zugehörigen Wert in Meter enthalten.\n",
    "\n",
    "```\n",
    "[*** for x in [69, 77, 54]]\n",
    "\n",
    "list(map(lambda ***, [69, 77, 54]))\n",
    "```\n",
    "\n",
    "Zum Beispiel soll für das Element in der Originalliste, welches den Wert 69 hat, in der neu zu bildenden Liste das Tupel (69, 1.7526) eingefügt werden.\n",
    "\n",
    "Umrechnung `1 Inch =  0.0254 Meter`.\n"
   ]
  },
  {
   "cell_type": "code",
   "execution_count": null,
   "metadata": {},
   "outputs": [],
   "source": []
  },
  {
   "cell_type": "markdown",
   "metadata": {},
   "source": [
    "## Aufgabe 2\n",
    "Erstellen Sie eine 2-mal-3-Liste, welche nur Nullen (0) enthält.\n",
    "Verwenden Sie dann eine verschachtelte Schleife, um jedem Element in der 2 x 3 Liste diejenige ganze Zahl zuzuweisen, welche die Reihenfolge angibt, in der es von der geschachtelten Schlaufe verarbeitet wurde.\n",
    "Zeigen Sie anschliessend die Elemente der 2 x 3 Liste in tabellarischer Form an. Verwenden Sie die Spaltenindizes als Überschriften oben und die Zeilenindizes links von jeder Zeile.\n"
   ]
  },
  {
   "cell_type": "code",
   "execution_count": null,
   "metadata": {},
   "outputs": [],
   "source": []
  },
  {
   "cell_type": "markdown",
   "metadata": {},
   "source": [
    "## Aufgabe 3\n",
    "Eine Primzahl ist eine ganze Zahl grösser als 1, die nur durch sich selbst und 1 teilbar ist. Das Sieb der Eratosthenes ist eine elegante, einfache Methode, um Primzahlen zu finden. Das Verfahren zum Auffinden aller Primzahlen, z.B. kleiner als 1000, ist wie folgt:\n",
    "\n",
    "1. Erstellen Sie eine 1000-Element-Liste `primes` in der alle Elemente auf `True` initialisiert sind. Listenelemente mit Primindizes (wie 2, 3, 5, 7, 11, ...) bleiben `True`. Alle anderen Listenelemente werden schliesslich auf `False` gesetzt.\n",
    "\n",
    "2. Beginnend mit Index 2, wenn ein gegebenes Element `True` ist, iterieren Sie durch den Rest der Liste und setzen Sie jedes Element, dessen Index ein Vielfaches des Index für das Element ist, das wir gerade verarbeiten, auf `False`. D.h., für den Listenindex 2 werden alle Elemente jenseits von Element 2 in der Liste, deren Index ein Vielfaches von 2 ist (d.h. 4, 6, 8, 10, ..., 998) auf `False` gesetzt.\n",
    "\n",
    "3. Wiederholen Sie Schritt 2 für das nächste wahre Element. D.h., für Listenindex 3 (der auf `True` initialisiert wurde) werden alle Elemente jenseits von Element 3 in der Liste, die Indizes haben, die Vielfache von 3 sind (d.h. 6, 9, 12, 15, ..., 999), auf False gesetzt; und so weiter. \n",
    "\n",
    "Wenn dieser Prozess abgeschlossen ist, zeigen die Listenelemente, die immer noch `True` sind, an, dass der Index eine Primzahl ist. Zeigen Sie die Primzahlen an. Sie können dabei die Listenelemente 0 und 1 ignorieren.\n",
    "\n",
    "\n",
    "Bitte beachten Sie folgendes:\n",
    "Die Quadratwurzel von 999 ist 31,6. Sie müssen nur alle Vielfachen von 2, 3, 5, 7, 9, 11, 13, 17, 19, 23, 29 und 31 testen und auf False setzen. Dies wird die Leistung Ihres Algorithmus erheblich verbessern, insbesondere wenn Sie sich entscheiden, nach grossen Primzahlen zu suchen."
   ]
  },
  {
   "cell_type": "code",
   "execution_count": null,
   "metadata": {},
   "outputs": [],
   "source": []
  },
  {
   "cell_type": "markdown",
   "metadata": {},
   "source": [
    "## Aufgabe 4\n",
    "Schreiben Sie eine Funktion `summarize_letters`, die eine Zeichenfolge empfängt und eine Liste von Tupeln zurückgibt, die die eindeutigen Buchstaben und ihre Häufigkeit in der Zeichenfolge enthält.<br>\n",
    "Testen Sie Ihre Funktion und zeigen Sie jeden Buchstaben mit seiner Häufigkeit an. Ihre Funktion sollte die Gross- und Kleinschreibung ignorieren (d.h. 'a' und 'A' sind gleich). Leerzeichen und Interpunktion sollen ebenfalls ignoriert werden.<br>\n",
    "Als Abschluss soll eine Aussage ausgegeben werden, die besagt, ob die Zeichenfolge alle Buchstaben des Alphabets enthält."
   ]
  },
  {
   "cell_type": "code",
   "execution_count": null,
   "metadata": {},
   "outputs": [],
   "source": []
  },
  {
   "cell_type": "markdown",
   "metadata": {},
   "source": [
    "## Aufgabe 5\n",
    "Erstellen Sie eine beliebige Liste von Tupeln mit Vor- und Nachnamen. Stellen Sie dabei sicher, dass mehrere Tupel in Ihrer Liste den Nachnamen 'Jones' enthalten.<br>\n",
    "Verwenden Sie die Funktion `filter`, um die Tupel zu finden, die den Nachnamen Jones enthalten. "
   ]
  },
  {
   "cell_type": "code",
   "execution_count": null,
   "metadata": {},
   "outputs": [],
   "source": []
  },
  {
   "cell_type": "markdown",
   "metadata": {},
   "source": [
    "## Aufgabe 6\n",
    "Analysiseren Sie den folgenden Code:\n",
    "\n",
    "```\n",
    "numbers = [10, 3, 7, 1, 9, 4, 2, 8, 5, 6]\n",
    "\n",
    "list(map(lambda x: x ** 2,\n",
    "    filter(lambda x: x % 2 != 0, numbers)))\n",
    "```\n",
    "1. Wie oft ruft die Filteroperation ihr Lambda-Argument auf?\n",
    "\n",
    "2. Wie oft ruft die Map-Operation ihr Lambda-Argument auf?\n",
    "\n",
    "3. Wenn Sie die Filter- und Map-Operationen umkehren, wie oft ruft dann die Map-Operation ihr Lambda-Argument auf?\n",
    "\n",
    "\n",
    "Um die Beantwortung der Fragen von oben zu überprüfen, können Sie Funktionen implementieren, welche die gleichen Aufgaben wie die Lambdas erfüllen. Fügen Sie in diesen Funktionen eine `print` Anweisung ein, damit Sie jeden Aufruf der Funktion sehen können.\n",
    "Ersetzen Sie schliesslich die Lambdas im vorhergehenden Code durch die Namen Ihrer Funktionen."
   ]
  },
  {
   "cell_type": "code",
   "execution_count": null,
   "metadata": {},
   "outputs": [],
   "source": []
  }
 ],
 "metadata": {
  "kernelspec": {
   "display_name": "Python 3 (ipykernel)",
   "language": "python",
   "name": "python3"
  },
  "language_info": {
   "codemirror_mode": {
    "name": "ipython",
    "version": 3
   },
   "file_extension": ".py",
   "mimetype": "text/x-python",
   "name": "python",
   "nbconvert_exporter": "python",
   "pygments_lexer": "ipython3",
   "version": "3.10.5"
  }
 },
 "nbformat": 4,
 "nbformat_minor": 4
}
