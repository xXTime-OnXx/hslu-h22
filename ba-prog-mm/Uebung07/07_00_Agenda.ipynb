{
 "cells": [
  {
   "cell_type": "markdown",
   "id": "1923759d-77b8-46d6-a883-80fad41dafaa",
   "metadata": {
    "slideshow": {
     "slide_type": "slide"
    }
   },
   "source": [
    "# 7. Dictionaries und Sets"
   ]
  },
  {
   "cell_type": "markdown",
   "id": "a4655c24-38bf-4a91-84df-66d9e84d1365",
   "metadata": {},
   "source": [
    "## Agenda\n",
    "1. Dictionaries\n",
    "2. Sets\n",
    "    * Sets vergleichen\n",
    "    * Mathematische Set-Operationen\n",
    "\n"
   ]
  }
 ],
 "metadata": {
  "kernelspec": {
   "display_name": "Python 3 (ipykernel)",
   "language": "python",
   "name": "python3"
  },
  "language_info": {
   "codemirror_mode": {
    "name": "ipython",
    "version": 3
   },
   "file_extension": ".py",
   "mimetype": "text/x-python",
   "name": "python",
   "nbconvert_exporter": "python",
   "pygments_lexer": "ipython3",
   "version": "3.10.5"
  }
 },
 "nbformat": 4,
 "nbformat_minor": 5
}
