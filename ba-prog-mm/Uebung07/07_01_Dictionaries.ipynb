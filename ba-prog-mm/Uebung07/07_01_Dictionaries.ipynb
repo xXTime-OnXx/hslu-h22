{
 "cells": [
  {
   "cell_type": "markdown",
   "id": "cacd86f0-8282-4170-b1c0-d9d75a9fb06d",
   "metadata": {},
   "source": [
    "# 7.1 Dictionaries\n",
    "* Speichern **Schlüssel-Wert-Paare**;\n",
    "* Sind **geordnet** (seit Python 3.7);\n",
    "* Sind **modifizierbar** (Hinzufügen, Löschen, Verändern von Werten);\n",
    "* Schlüssel sind **eindeutig** und unveränderlich;\n",
    "* Der Schlüssel- und Werttyp müssen nicht gleich sein.\n",
    "\n",
    "Beispiele:\n",
    "\n",
    "| Schlüssel | Schlüssel-Typ | Werte | Werttyp\n",
    "| :-------- | :-------- | :-------- | :--------\n",
    "| Länder' | `str` | Internet Länder-Codes | `str` \n",
    "| Decimalzahlen | `int` | Römische Zahlen | `str` \n",
    "| Staaten | `str` | Landwirtschaftliche Produkte | Liste von `str` \n",
    "| Krankenhaus-Patienten | `str`  | Lebenszeichen | Tupel von `int`s und `float`s \n",
    "| Metrische Abmessungen | `str`  | Abkürzungen | `str` \n",
    "| Inventar-Codes | `str`  | Menge auf Lager | `int` "
   ]
  },
  {
   "cell_type": "markdown",
   "id": "0065223b-7a2a-4280-a8c2-82c2800d2cc9",
   "metadata": {},
   "source": [
    "<br>\n",
    "\n",
    "## Erstellen eines Dictionary\n",
    "* Ein Dictionary besteht aus Schlüssel-Wert-Paaren der Form `key: value`, die in geschweiften Klammern `{}` eingeschlossen werden\n",
    "* Ein leeres Dictionary erstellen Sie durch Angabe von geschweiften Klammern, ohne Inhalt: `{}`"
   ]
  },
  {
   "cell_type": "code",
   "execution_count": null,
   "id": "919d0e79-8eb2-41f0-bf40-2004bdbaa067",
   "metadata": {},
   "outputs": [],
   "source": [
    "{} # Leeres Dict"
   ]
  },
  {
   "cell_type": "code",
   "execution_count": null,
   "id": "e3aa5d1d-95ae-472c-94da-d1288343813d",
   "metadata": {},
   "outputs": [],
   "source": [
    "type({})"
   ]
  },
  {
   "cell_type": "code",
   "execution_count": null,
   "id": "2d3ee23e-3427-4fe5-97ea-67c3cabc5296",
   "metadata": {},
   "outputs": [],
   "source": [
    "# Dict mit key:values\n",
    "country_codes = {'Finnland': 'fi', 'South Africa': 'za', 'Nepal': 'np'}"
   ]
  },
  {
   "cell_type": "code",
   "execution_count": null,
   "id": "4783711a-19ca-4dce-8e86-53ec941f8856",
   "metadata": {},
   "outputs": [],
   "source": [
    "country_codes"
   ]
  },
  {
   "cell_type": "markdown",
   "id": "68b081c0-8b02-4315-9b0e-3a84dc8e440d",
   "metadata": {
    "tags": []
   },
   "source": [
    "<br>\n",
    "\n",
    "## Ermitteln, ob ein Dictionary leer ist"
   ]
  },
  {
   "cell_type": "code",
   "execution_count": null,
   "id": "41d0a63c-42e6-4b6d-87a2-a9cd91b9dc0c",
   "metadata": {},
   "outputs": [],
   "source": [
    "# Var 1: Länge des Dictionaries\n",
    "len(country_codes)"
   ]
  },
  {
   "cell_type": "code",
   "execution_count": null,
   "id": "38e247d2-8779-4718-a40e-af6178e734af",
   "metadata": {},
   "outputs": [],
   "source": [
    "# Var 2: Dict als Bedingung - True, falls Dict nicht leer ist\n",
    "if country_codes:\n",
    "    print('not empty')\n",
    "else:\n",
    "    print('empty')"
   ]
  },
  {
   "cell_type": "code",
   "execution_count": null,
   "id": "3cb8870c-33f9-4fce-bac2-f1b0f2fab8f5",
   "metadata": {},
   "outputs": [],
   "source": [
    "country_codes.clear()"
   ]
  },
  {
   "cell_type": "code",
   "execution_count": null,
   "id": "f142e8c0-69d0-433b-8e42-a0d36538c7c5",
   "metadata": {},
   "outputs": [],
   "source": [
    "'not empty' if country_codes else 'empty'"
   ]
  },
  {
   "cell_type": "markdown",
   "id": "7abfa1b6-4ec1-4b47-bae4-7a4a2c90f7f0",
   "metadata": {},
   "source": [
    "<br>\n",
    "\n",
    "## Iterieren"
   ]
  },
  {
   "cell_type": "code",
   "execution_count": null,
   "id": "13531d17-4b65-4f54-80c5-0bd3d0389605",
   "metadata": {},
   "outputs": [],
   "source": [
    "days_per_month = {'January': 31, 'February': 28, 'March': 31}"
   ]
  },
  {
   "cell_type": "code",
   "execution_count": null,
   "id": "36609c65-23ee-449b-b9ee-0d6279fbe8c6",
   "metadata": {},
   "outputs": [],
   "source": [
    "days_per_month"
   ]
  },
  {
   "cell_type": "code",
   "execution_count": null,
   "id": "5a15fa11-b542-4bb9-9dd0-1827e9570ab1",
   "metadata": {},
   "outputs": [],
   "source": [
    "for month in days_per_month:\n",
    "    print(month)"
   ]
  },
  {
   "cell_type": "markdown",
   "id": "9dbd5361-6d68-4ebd-9673-72c023563ccb",
   "metadata": {},
   "source": [
    "Die Dictionary_Methode `items` gibt jedes Schlüssel-Wert-Paar als Tupel zurück:"
   ]
  },
  {
   "cell_type": "code",
   "execution_count": null,
   "id": "2531627f-add2-43c1-9db2-b185e677133e",
   "metadata": {},
   "outputs": [],
   "source": [
    "days_per_month.items()   # dict_items([('January', 31), ('February', 28), ('March', 31)])"
   ]
  },
  {
   "cell_type": "code",
   "execution_count": null,
   "id": "860079e9-8efb-433d-8376-13d7473cb6d4",
   "metadata": {
    "tags": []
   },
   "outputs": [],
   "source": [
    "for month, days in days_per_month.items():\n",
    "    print(f'{month} has {days} days')"
   ]
  },
  {
   "cell_type": "markdown",
   "id": "7aebfa32-a3da-47dd-92c7-b8c2bf247f1d",
   "metadata": {},
   "source": [
    "<br>\n",
    "\n",
    "## Zugriff auf den mit einem Schlüssel verknüpften Wert"
   ]
  },
  {
   "cell_type": "code",
   "execution_count": null,
   "id": "34eef157-8584-4394-9a5f-22e44682b060",
   "metadata": {},
   "outputs": [],
   "source": [
    "# Dictionary mit Zuordnung Römische Zahlen zu Ganzzahlen\n",
    "# Absichtlich falschen Wert für den Schlüssel 'X'\n",
    "roman_numerals = {'I': 1, 'II': 2, 'III': 3, 'V': 5, 'X': 100}"
   ]
  },
  {
   "cell_type": "code",
   "execution_count": null,
   "id": "ff9e0c6e-ee71-443b-a7ce-492a833d1fd5",
   "metadata": {},
   "outputs": [],
   "source": [
    "roman_numerals"
   ]
  },
  {
   "cell_type": "code",
   "execution_count": null,
   "id": "926f5065-492a-4bcb-8512-1e994cf0a12c",
   "metadata": {},
   "outputs": [],
   "source": [
    "# Zugriff auf Wert mit Schlüssel 'V' (Subscript-Operator)\n",
    "roman_numerals['V']"
   ]
  },
  {
   "cell_type": "code",
   "execution_count": null,
   "id": "2f3950b4-f516-454d-84bd-a9d5c366ef53",
   "metadata": {},
   "outputs": [],
   "source": [
    "# nicht existierender Schlüssel --> KeyError\n",
    "roman_numerals['IV']"
   ]
  },
  {
   "cell_type": "markdown",
   "id": "7fbf38a0-b8fd-4e97-9c09-52e2888f6b34",
   "metadata": {},
   "source": [
    "<br>\n",
    "\n",
    "## Aktualisieren des Wertes eines bestehenden Schlüssel-Wert-Paares"
   ]
  },
  {
   "cell_type": "code",
   "execution_count": null,
   "id": "9a021ffc-fc3c-42de-89ad-cdd9afc30536",
   "metadata": {},
   "outputs": [],
   "source": [
    "roman_numerals"
   ]
  },
  {
   "cell_type": "code",
   "execution_count": null,
   "id": "644be7c0-41a3-4716-a600-9056147fc0a8",
   "metadata": {},
   "outputs": [],
   "source": [
    "roman_numerals['X'] = 10"
   ]
  },
  {
   "cell_type": "code",
   "execution_count": null,
   "id": "20b2cc0b-a496-4a25-a264-ce21afb92965",
   "metadata": {},
   "outputs": [],
   "source": [
    "roman_numerals"
   ]
  },
  {
   "cell_type": "markdown",
   "id": "6ed1de9d-9612-4940-a2ca-236b83905dad",
   "metadata": {},
   "source": [
    "<br>\n",
    "\n",
    "## Hinzufügen eines neuen Schlüssel-Wert-Paares\n",
    "Das Zuweisen zu einem nicht vorhandenem Schlüssel fügt eine neues Schlüssel-Wert-Paar ein."
   ]
  },
  {
   "cell_type": "code",
   "execution_count": null,
   "id": "2a2d3885-8214-4dc5-acfd-605bda77b248",
   "metadata": {},
   "outputs": [],
   "source": [
    "roman_numerals['L'] = 50"
   ]
  },
  {
   "cell_type": "code",
   "execution_count": null,
   "id": "afadb34d-f73c-4a55-a452-2d483eed8507",
   "metadata": {},
   "outputs": [],
   "source": [
    "roman_numerals"
   ]
  },
  {
   "cell_type": "markdown",
   "id": "b27681b0-7fd2-41fd-9dce-f3d1a0e2c945",
   "metadata": {},
   "source": [
    "<br>\n",
    "\n",
    "## Entfernen eines Schlüssel-Wert-Paares"
   ]
  },
  {
   "cell_type": "code",
   "execution_count": null,
   "id": "6f35cc0f-bc32-4a91-a452-4e8e92b6c662",
   "metadata": {},
   "outputs": [],
   "source": [
    "del roman_numerals['III']  # KeyError, falls key nicht vorhanden"
   ]
  },
  {
   "cell_type": "code",
   "execution_count": null,
   "id": "d63bf215-687d-4160-ab90-97c3b23c2c5e",
   "metadata": {},
   "outputs": [],
   "source": [
    "roman_numerals"
   ]
  },
  {
   "cell_type": "markdown",
   "id": "0d7ac18c-e19f-493e-9b5b-823b6a49d35a",
   "metadata": {},
   "source": [
    "Die Methode `pop` entfernt ein Schlüssel-Wert-Paar und gibt dne Wert des entfernten Schlüssels zurück."
   ]
  },
  {
   "cell_type": "code",
   "execution_count": null,
   "id": "9168a40f-375b-4f12-871a-c6c1f1bd85c4",
   "metadata": {},
   "outputs": [],
   "source": [
    "roman_numerals.pop('X')  # pop erwartet mind. 1 argument, sonst gibt es eienen TypeError. KeyError, falls Schlüssel nicht ex!"
   ]
  },
  {
   "cell_type": "code",
   "execution_count": null,
   "id": "09ca68a1-d907-4d06-accd-7e20a256669c",
   "metadata": {},
   "outputs": [],
   "source": [
    "roman_numerals"
   ]
  },
  {
   "cell_type": "code",
   "execution_count": null,
   "id": "075412f5-9d09-4369-92cf-f10efb945cb4",
   "metadata": {},
   "outputs": [],
   "source": [
    "roman_numerals.pop('II')"
   ]
  },
  {
   "cell_type": "markdown",
   "id": "1a1d6936-6da5-4ec4-926d-7cd1d7f0fa53",
   "metadata": {},
   "source": [
    "<br>\n",
    "\n",
    "## Zugriff auf Werte mittels get-Methode\n",
    "* `get` gibt entweder den **Wert des Arguments** zurück, oder **`None`**, wenn der Schlüssel nicht gefunden wird\n",
    "* `get` mit einem **zweiten Argument** gibt das zweite Arg zurück, falls der Schlüssel nicht gefunden wird"
   ]
  },
  {
   "cell_type": "code",
   "execution_count": null,
   "id": "8509c156-32b8-43d0-a337-8c8758694ed5",
   "metadata": {},
   "outputs": [],
   "source": [
    "roman_numerals.get('III')  # None, wird in iPython nicht angezeigt"
   ]
  },
  {
   "cell_type": "code",
   "execution_count": null,
   "id": "9aafd280-b617-47c2-abb0-6f2058ae1f88",
   "metadata": {},
   "outputs": [],
   "source": [
    "print(roman_numerals.get('III'))"
   ]
  },
  {
   "cell_type": "code",
   "execution_count": null,
   "id": "64a1cf50-b485-4a5f-9762-0f0fc548a123",
   "metadata": {},
   "outputs": [],
   "source": [
    "roman_numerals.get('III', 'III not in dict')"
   ]
  },
  {
   "cell_type": "code",
   "execution_count": null,
   "id": "14560626-29a4-4f6b-a083-ee637c2f9d1f",
   "metadata": {},
   "outputs": [],
   "source": [
    "roman_numberals.get('V')"
   ]
  },
  {
   "cell_type": "markdown",
   "id": "a5df840e-e41c-4fcc-bce5-63316380fdb7",
   "metadata": {},
   "source": [
    "<br>\n",
    "\n",
    "## Testen, ob ein geg. Schlüssel im Dictionary enthalten ist "
   ]
  },
  {
   "cell_type": "code",
   "execution_count": null,
   "id": "553133d4-ab11-4c3c-a992-1fa48cf2b165",
   "metadata": {},
   "outputs": [],
   "source": [
    "roman_numerals"
   ]
  },
  {
   "cell_type": "code",
   "execution_count": null,
   "id": "93285259-0663-44b5-8ab7-f1bc327362ff",
   "metadata": {},
   "outputs": [],
   "source": [
    "'V' in roman_numerals"
   ]
  },
  {
   "cell_type": "code",
   "execution_count": null,
   "id": "e80d99de-b6d6-49f2-ad58-09e02ae69d57",
   "metadata": {},
   "outputs": [],
   "source": [
    "'III' in roman_numerals"
   ]
  },
  {
   "cell_type": "code",
   "execution_count": null,
   "id": "004dd087-4387-46bb-988e-6a5a9c1ae6e6",
   "metadata": {},
   "outputs": [],
   "source": [
    "'III' not in roman_numerals"
   ]
  },
  {
   "cell_type": "markdown",
   "id": "651c06a3-45dc-41b9-8df4-3c6d9fee61bd",
   "metadata": {},
   "source": [
    "<br>\n",
    "\n",
    "## Dictionary Methoden `keys` und `values`"
   ]
  },
  {
   "cell_type": "code",
   "execution_count": null,
   "id": "d280daa1-f783-4fdf-8ee9-2240b5cac9d4",
   "metadata": {},
   "outputs": [],
   "source": [
    "months = {'Jan': 1, 'Feb': 2, 'Mar': 3}"
   ]
  },
  {
   "cell_type": "markdown",
   "id": "c57c6b91-1fd2-4ead-81f3-4447a12bd19f",
   "metadata": {},
   "source": [
    "Die Dictionary-Mehtode **`keys`** gibt jeden Schlüssel zurück:"
   ]
  },
  {
   "cell_type": "code",
   "execution_count": null,
   "id": "6c9f656e-e59d-4093-aef3-ccf08ef1b929",
   "metadata": {},
   "outputs": [],
   "source": [
    "months.keys()"
   ]
  },
  {
   "cell_type": "code",
   "execution_count": null,
   "id": "902ed8a7-91a8-460b-9f53-1ed66fcdc779",
   "metadata": {},
   "outputs": [],
   "source": [
    "list(months.keys())"
   ]
  },
  {
   "cell_type": "markdown",
   "id": "e7e15550-97bd-4365-8189-1a8510e6d544",
   "metadata": {},
   "source": [
    "Die Dictionary-Mehtode **`values`** gibt jeden Wert zurück:"
   ]
  },
  {
   "cell_type": "code",
   "execution_count": null,
   "id": "7d875807-0907-4b82-82d9-4a399462e712",
   "metadata": {},
   "outputs": [],
   "source": [
    "months.values()"
   ]
  },
  {
   "cell_type": "code",
   "execution_count": null,
   "id": "859e59c9-d62f-4453-800d-dc6c4a2f8228",
   "metadata": {},
   "outputs": [],
   "source": [
    "list(months.values())"
   ]
  },
  {
   "cell_type": "markdown",
   "id": "d269ab1c-aadb-4a42-a2f9-01e64da22960",
   "metadata": {},
   "source": [
    "NB: Die Methoden `items`, `keys` und `values` geben eine View der Daten zurück. Eine View ist eine Sicht auf den aktuellen Inhalt des Dict. D.h., die View hat keine eignene Kopie der Daten."
   ]
  },
  {
   "cell_type": "markdown",
   "id": "2dc2fcd7-1390-4a46-9a79-6b406aec9af5",
   "metadata": {},
   "source": [
    "<br>\n",
    "\n",
    "## Vergleichen von Dictionaries\n",
    "Der Vergleich von zwei Dict gibt True zurück, falls beide Dict dieselben Schlüssel-Wert-Paare enthalten. Die Reihenfolge der Schlüssel-Wert-Paare spielt keine Rolle."
   ]
  },
  {
   "cell_type": "code",
   "execution_count": null,
   "id": "e5f75b7e-ccf6-46c1-9567-5e4fb55315c2",
   "metadata": {},
   "outputs": [],
   "source": [
    "country_capitals1 = {'Belgium': 'Brussels', 'Haitiy': 'Port-au-Prince'}"
   ]
  },
  {
   "cell_type": "code",
   "execution_count": null,
   "id": "42c8bc92-7360-426c-8663-6d7eb00dcc9d",
   "metadata": {},
   "outputs": [],
   "source": [
    "country_capitals2 = {'Nepal': 'Kathmandu', 'Uruguay': 'Monteviedeo'}"
   ]
  },
  {
   "cell_type": "code",
   "execution_count": null,
   "id": "6917885b-f00a-4687-8af7-5918bf9c20dc",
   "metadata": {},
   "outputs": [],
   "source": [
    "country_capitals3 = {'Haitiy': 'Port-au-Prince', 'Belgium': 'Brussels'}"
   ]
  },
  {
   "cell_type": "code",
   "execution_count": null,
   "id": "abee8a6c-68d2-4faf-becb-e587d3789b5d",
   "metadata": {},
   "outputs": [],
   "source": [
    "country_capitals1 == country_capitals2"
   ]
  },
  {
   "cell_type": "code",
   "execution_count": null,
   "id": "d3ce6b12-4c65-4696-a436-183f013817d4",
   "metadata": {},
   "outputs": [],
   "source": [
    "country_capitals1 == country_capitals3"
   ]
  },
  {
   "cell_type": "code",
   "execution_count": null,
   "id": "78870366-2430-40f3-a768-65fe5a60f9a0",
   "metadata": {},
   "outputs": [],
   "source": [
    "country_capitals1 != country_capitals2"
   ]
  },
  {
   "cell_type": "markdown",
   "id": "264cb835-16fb-4112-97d4-09caec401218",
   "metadata": {},
   "source": [
    "<br>\n",
    "\n",
    "## Dictionary Methode `update`\n",
    "`update` kann Schlüssel-Wert-Paare einfügen und aktualisieren"
   ]
  },
  {
   "cell_type": "code",
   "execution_count": null,
   "id": "8086e69a-bd83-4ffc-9ccf-877e03cc3a32",
   "metadata": {},
   "outputs": [],
   "source": [
    "country_codes = {}"
   ]
  },
  {
   "cell_type": "code",
   "execution_count": null,
   "id": "36fdfd1b-1079-4a41-86ab-87cd7fd5a287",
   "metadata": {},
   "outputs": [],
   "source": [
    "# Einfügen eines Dictionary\n",
    "country_codes.update({'South Africa': 'za', 'Switzerland': 'ch'})"
   ]
  },
  {
   "cell_type": "code",
   "execution_count": null,
   "id": "d95e2565-8b28-46d3-9ae7-57457620f526",
   "metadata": {},
   "outputs": [],
   "source": [
    "country_codes"
   ]
  },
  {
   "cell_type": "code",
   "execution_count": null,
   "id": "64939792-6415-4f8e-988e-c339bfa5eb30",
   "metadata": {},
   "outputs": [],
   "source": [
    "# Absichtliches Einfügen eines falschen Schlüssel-Wert Paares\n",
    "country_codes.update(Australia='ar')"
   ]
  },
  {
   "cell_type": "code",
   "execution_count": null,
   "id": "aa011385-2607-4116-a0f1-7b5c91ff87e7",
   "metadata": {},
   "outputs": [],
   "source": [
    "country_codes"
   ]
  },
  {
   "cell_type": "code",
   "execution_count": null,
   "id": "a9313cd0-3f5d-4934-8052-98735ee33e10",
   "metadata": {},
   "outputs": [],
   "source": [
    "# Korrektur des falschen Wertes\n",
    "country_codes.update(Australia='au')"
   ]
  },
  {
   "cell_type": "code",
   "execution_count": null,
   "id": "bfd50860-2438-4848-b98d-4694af38b866",
   "metadata": {},
   "outputs": [],
   "source": [
    "country_codes"
   ]
  },
  {
   "cell_type": "code",
   "execution_count": null,
   "id": "ba569ecb-649c-4515-b9f3-87d77fb3d480",
   "metadata": {},
   "outputs": [],
   "source": [
    "# Einfügen von Schlüssel-Wert-Paaren, als Liste von Tupeln\n",
    "country_codes.update([('Italy', 'it'), ('Germany', 'ge')])"
   ]
  },
  {
   "cell_type": "code",
   "execution_count": null,
   "id": "e09e7450-efec-4051-b630-9fca403f3402",
   "metadata": {},
   "outputs": [],
   "source": [
    "country_codes"
   ]
  },
  {
   "cell_type": "markdown",
   "id": "084c2306-42c1-4e19-8b60-250d872d010e",
   "metadata": {},
   "source": [
    "<br>\n",
    "\n",
    "## Dictionary Comprehensions"
   ]
  },
  {
   "cell_type": "code",
   "execution_count": null,
   "id": "aa5b659d-0f48-47f1-a191-a2b8921610da",
   "metadata": {},
   "outputs": [],
   "source": [
    "months"
   ]
  },
  {
   "cell_type": "markdown",
   "id": "1be485d2-969f-4644-ad76-8220cbfa0a34",
   "metadata": {},
   "source": [
    "Bsp.1: In einem Dictionary mit **eindeutigen Werten** können Sie die Zuordnung von Schlüssel-Wert-Paaren **umkehren**."
   ]
  },
  {
   "cell_type": "code",
   "execution_count": null,
   "id": "543e3e3c-0953-4379-9b06-60a56e581d15",
   "metadata": {},
   "outputs": [],
   "source": [
    "months2 = {value: key for key, value in months.items()}"
   ]
  },
  {
   "cell_type": "code",
   "execution_count": null,
   "id": "c6268920-63f3-4f8a-b6b2-8f2e85b4cdf7",
   "metadata": {},
   "outputs": [],
   "source": [
    "months2"
   ]
  },
  {
   "cell_type": "markdown",
   "id": "acc8e2d7-a6e1-4066-b97c-17ee74d33433",
   "metadata": {},
   "source": [
    "Bsp.2: Mapping in einem Dictionary (Berechnung des Durchschnitts)"
   ]
  },
  {
   "cell_type": "code",
   "execution_count": null,
   "id": "1f5b2281-0d48-4ee8-a5e7-70a516842908",
   "metadata": {},
   "outputs": [],
   "source": [
    "grades = {'Sue': [98, 87, 94], 'Bob': [84, 95, 91]}"
   ]
  },
  {
   "cell_type": "code",
   "execution_count": null,
   "id": "39143464-0a34-4a13-a58d-16bae43b548b",
   "metadata": {},
   "outputs": [],
   "source": [
    "grades2 = {k: sum(v)/len(v) for k, v in grades.items()}"
   ]
  },
  {
   "cell_type": "code",
   "execution_count": null,
   "id": "bef540ce-ddf8-42e6-9d2e-74ee7c54199d",
   "metadata": {},
   "outputs": [],
   "source": [
    "grades2"
   ]
  },
  {
   "cell_type": "code",
   "execution_count": null,
   "id": "840c688a-59ba-4d9f-8a52-9f1bf38faa24",
   "metadata": {},
   "outputs": [],
   "source": [
    "# Verwendung der mean Methode, anstelle der eigenen Berechnung\n",
    "from statistics import mean\n",
    "grades3 = {k: mean(v) for k, v in grades.items()}"
   ]
  },
  {
   "cell_type": "code",
   "execution_count": null,
   "id": "4aa578df-f0cf-46f1-bffc-0f37ab16437f",
   "metadata": {},
   "outputs": [],
   "source": [
    "grades3"
   ]
  }
 ],
 "metadata": {
  "kernelspec": {
   "display_name": "Python 3 (ipykernel)",
   "language": "python",
   "name": "python3"
  },
  "language_info": {
   "codemirror_mode": {
    "name": "ipython",
    "version": 3
   },
   "file_extension": ".py",
   "mimetype": "text/x-python",
   "name": "python",
   "nbconvert_exporter": "python",
   "pygments_lexer": "ipython3",
   "version": "3.10.5"
  }
 },
 "nbformat": 4,
 "nbformat_minor": 5
}
