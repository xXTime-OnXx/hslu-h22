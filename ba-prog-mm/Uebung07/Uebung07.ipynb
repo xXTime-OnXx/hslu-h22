{
 "cells": [
  {
   "cell_type": "markdown",
   "metadata": {},
   "source": [
    "# Übung 7"
   ]
  },
  {
   "cell_type": "markdown",
   "metadata": {},
   "source": [
    "## Aufgabe 1\n",
    "Der folgende Code sollte die eindeutigen Wörter von `text` und die Anzahl der Vorkommnisse jedes Wortes anzeigen. Was ist falsch an diesem Code? \n",
    "\n",
    "``` python\n",
    "from collections import Counter\n",
    "text = ('to be or not to be that is the question')\n",
    "counter = Counter(text.split())\n",
    "for word, count in sorted(counter):\n",
    "    print(f'{word:<12}{count}')\n",
    "```"
   ]
  },
  {
   "cell_type": "code",
   "execution_count": 9,
   "metadata": {},
   "outputs": [
    {
     "name": "stdout",
     "output_type": "stream",
     "text": [
      "be          2\n",
      "is          1\n",
      "not         1\n",
      "or          1\n",
      "question    1\n",
      "that        1\n",
      "the         1\n",
      "to          2\n"
     ]
    }
   ],
   "source": [
    "from collections import Counter\n",
    "text = ('to be or not to be that is the question')\n",
    "counter = Counter(text.split())\n",
    "for word, count in sorted(counter.items()):\n",
    "    print(f'{word:<12}{count}')"
   ]
  },
  {
   "cell_type": "markdown",
   "metadata": {},
   "source": [
    "## Aufgabe 2\n",
    "Gegeben ist das folgende Dictionary eines Dozenten, in welchem für die Studentinnen und Studenten die erreichten Punktzahlen an verschiedenen Prüfungen gespeichert sind.\n",
    "\n",
    "```\n",
    "    grade_book = {            \n",
    "        'Susan': [92, 85, 100], \n",
    "        'Eduardo': [83, 95, 79],\n",
    "        'Azizi': [91, 89, 82],  \n",
    "        'Pantipa': [97, 91, 92] \n",
    "    }\n",
    "```\n",
    "\n",
    "Schreiben Sie ein Script, welches die Durchschnittspunkzahl pro Student:in, sowie den Klassendurchschnitt berechnet und ausgibt."
   ]
  },
  {
   "cell_type": "code",
   "execution_count": 13,
   "metadata": {},
   "outputs": [
    {
     "name": "stdout",
     "output_type": "stream",
     "text": [
      "Susan       92.33333333333333\n",
      "Eduardo     85.66666666666667\n",
      "Azizi       87.33333333333333\n",
      "Pantipa     93.33333333333333\n",
      "Class average: 89.66666666666666\n"
     ]
    }
   ],
   "source": [
    "grade_book = {            \n",
    "    'Susan': [92, 85, 100], \n",
    "    'Eduardo': [83, 95, 79],\n",
    "    'Azizi': [91, 89, 82],  \n",
    "    'Pantipa': [97, 91, 92] \n",
    "}\n",
    "average_grade_book = dict([(student, sum(grades) / len(grades)) for student, grades in grade_book.items()])\n",
    "\n",
    "for student, average in average_grade_book.items():\n",
    "    print(f'{student:<12}{average}')\n",
    "\n",
    "print(f'Class average: {sum(average_grade_book.values()) / len(average_grade_book.keys())}')"
   ]
  },
  {
   "cell_type": "markdown",
   "metadata": {},
   "source": [
    "## Aufgabe 3\n",
    "Ersetzen Sie in jedem der folgenden Ausdrücke die *** durch einen Set-Operator, der das im Kommentar angezeigte Ergebnis erzeugt. \n",
    "Geben Sie für jeden der ersten vier Ausdrücke den Namen der Mengenoperation an, die das angegebene Ergebnis liefert.\n",
    "\n",
    "Die letzte Operation in Teilaufgabe e) sollte prüfen, ob der linke Operand eine unechte Teilmenge des rechten Operanden ist. \n",
    "\n",
    "\n",
    "``` python\n",
    "a) {1, 2, 4, 8, 16} *** {1, 4, 16, 64, 256} # {1,2,4,8,16,64,256}\n",
    "b) {1, 2, 4, 8, 16} *** {1, 4, 16, 64, 256} # {1,4,16}\n",
    "c) {1, 2, 4, 8, 16} *** {1, 4, 16, 64, 256} # {2,8}\n",
    "d) {1, 2, 4, 8, 16} *** {1, 4, 16, 64, 256} # {2,8,64,256}\n",
    "e) {1, 2, 4, 8, 16} *** {1, 4, 16, 64, 256} # False\n",
    "```"
   ]
  },
  {
   "cell_type": "code",
   "execution_count": 18,
   "metadata": {},
   "outputs": [],
   "source": [
    "assert ({1, 2, 4, 8, 16} | {1, 4, 16, 64, 256}) == {1,2,4,8,16,64,256}\n",
    "assert ({1, 2, 4, 8, 16} & {1, 4, 16, 64, 256}) == {1,4,16}\n",
    "assert ({1, 2, 4, 8, 16} - {1, 4, 16, 64, 256}) == {2,8}\n",
    "assert ({1, 2, 4, 8, 16} ^ {1, 4, 16, 64, 256}) == {2,8,64,256}\n",
    "assert ({1, 2, 4, 8, 16}.isdisjoint({1, 4, 16, 64, 256})) == False"
   ]
  },
  {
   "cell_type": "markdown",
   "metadata": {},
   "source": [
    "## Aufgabe 4\n",
    "Schreiben Sie ein Script, welches die Wörter die Duplikate in einem Text enthalten evaluiert und mit Angabe der Anzahl Vorkommen ausgibt.<br>\n",
    "Behandeln Sie Gross- und Kleinbuchstaben gleich und gehen Sie davon aus, dass es im Satz keine Interpunktion gibt. Tipp: Wörter, deren Anzahl grösser als 1 ist, haben Duplikate."
   ]
  },
  {
   "cell_type": "code",
   "execution_count": null,
   "metadata": {},
   "outputs": [],
   "source": []
  },
  {
   "cell_type": "markdown",
   "metadata": {},
   "source": [
    "## Aufgabe 5\n",
    "Schreiben Sie ein Skript, das einen Satz vom Benutzer einliest und dann ein Dictionary verwendet, um die Anzahl der Vorkommen jedes Buchstabens zusammenzufassen. Ignorieren Sie Gross- und Kleinschreibung, ignorieren Sie Leerzeichen und gehen Sie davon aus, dass der Benutzer keine Interpunktion eingibt. Zeigen Sie eine zweispaltige Tabelle der Buchstaben und ihrer Anzahl an, wobei die Buchstaben in sortierter Reihenfolge angezeigt werden. \n",
    "\n",
    "Zusatzherausforderung: Verwenden Sie eine Mengenoperation, um festzustellen, welche Buchstaben des Alphabets in der ursprünglichen Zeichenfolge nicht vorkamen."
   ]
  },
  {
   "cell_type": "code",
   "execution_count": null,
   "metadata": {},
   "outputs": [],
   "source": []
  },
  {
   "cell_type": "markdown",
   "metadata": {},
   "source": [
    "## Aufgabe 6\n",
    "Modifizieren Sie das Skript `craps.py`, um 1'000'000 Craps-Spiele zu spielen. Verwenden Sie ein Gewinn-Dictionary, um die Anzahl der gewonnenen Spiele für eine bestimmte Anzahl von Würfen zu verfolgen. Verwenden Sie in analog ein Verlust-Dictionary, um die Anzahl der verlorenen Spiele für eine bestimmte Anzahl von Würfen zu verfolgen. Aktualisieren Sie die Dictionaries im Laufe der Simulation immer wieder.\n",
    "\n",
    "Ein typisches Schlüssel-Werte-Paar im Gewinn-Dictionary könnte so aussehen `4: 50217` und darauf hindeuten, dass 50217 Spiele im 4. Wurf gewonnen wurden.\n",
    "\n",
    "Zeigen Sie am Schluss eine Zusammenfassung an, die folgende Informationen enthält:\n",
    "1. Die Anzahl der gewonnen Spiele, sowie die Anzahl der verlorenen Spiele pro Wurf\n",
    "2. Die Gewinnchance als prozentualer Anteil aller gewonnener Spiele im Vergleich zur Geamtzahl der gespielten Spiele\n",
    "\n",
    "\n",
    "Die Zusammenfassung könnte z.B. so aussehen:\n",
    "```\n",
    " 222353 games won and  110749 games lost on roll #1\n",
    "  77056 games won and  111262 games lost on roll #2\n",
    "  55346 games won and   79861 games lost on roll #3\n",
    "  39329 games won and   57492 games lost on roll #4\n",
    "  27926 games won and   41220 games lost on roll #5\n",
    "  19919 games won and   29442 games lost on roll #6\n",
    "  14477 games won and   21255 games lost on roll #7\n",
    "  10280 games won and   15366 games lost on roll #8\n",
    "   7315 games won and   10966 games lost on roll #9\n",
    "   5272 games won and    7975 games lost on roll #10\n",
    "   3881 games won and    5787 games lost on roll #11\n",
    "   2709 games won and    4220 games lost on roll #12\n",
    "   1916 games won and    3131 games lost on roll #13\n",
    "   1471 games won and    2220 games lost on roll #14\n",
    "   1028 games won and    1635 games lost on roll #15\n",
    "    753 games won and    1179 games lost on roll #16\n",
    "    543 games won and     884 games lost on roll #17\n",
    "    404 games won and     641 games lost on roll #18\n",
    "    265 games won and     474 games lost on roll #19\n",
    "    218 games won and     337 games lost on roll #20\n",
    "    510 games won and     933 games lost after the 20th roll\n",
    "\n",
    "The chances of winning are 492971 / 1000000 = 49.30%\n",
    "\n",
    "```\n",
    "\n"
   ]
  },
  {
   "cell_type": "code",
   "execution_count": null,
   "metadata": {},
   "outputs": [],
   "source": []
  }
 ],
 "metadata": {
  "kernelspec": {
   "display_name": "Python 3.10.8 64-bit",
   "language": "python",
   "name": "python3"
  },
  "language_info": {
   "codemirror_mode": {
    "name": "ipython",
    "version": 3
   },
   "file_extension": ".py",
   "mimetype": "text/x-python",
   "name": "python",
   "nbconvert_exporter": "python",
   "pygments_lexer": "ipython3",
   "version": "3.10.8"
  },
  "vscode": {
   "interpreter": {
    "hash": "2a25f7898dcb93b15063d42d1a10a2f667f608ad0f4d3573cd3e9a8335df93c5"
   }
  }
 },
 "nbformat": 4,
 "nbformat_minor": 4
}
