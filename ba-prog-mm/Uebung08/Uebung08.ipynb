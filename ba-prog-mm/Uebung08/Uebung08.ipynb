{
 "cells": [
  {
   "cell_type": "markdown",
   "metadata": {},
   "source": [
    "# Übung 8"
   ]
  },
  {
   "cell_type": "markdown",
   "metadata": {},
   "source": [
    "## Aufgabe 1\n",
    "Schreiben Sie ein Skript, das eine Textzeile liest, die Leerzeichen als Delimiter verwendet um die Wörter zu tokenisieren und anschliessend nur diejenigen Wörter ausgibt, die mit dem Buchstaben 'B' oder 'b' beginnen."
   ]
  },
  {
   "cell_type": "code",
   "execution_count": null,
   "metadata": {},
   "outputs": [],
   "source": []
  },
  {
   "cell_type": "markdown",
   "metadata": {},
   "source": [
    "## Aufgabe 2\n",
    "Verwenden Sie den Präsentationstyp `c`, um eine Tabelle mit den Zeichencodes im Bereich von 0 bis 255 und den entsprechenden Zeichen anzuzeigen."
   ]
  },
  {
   "cell_type": "code",
   "execution_count": null,
   "metadata": {},
   "outputs": [],
   "source": []
  },
  {
   "cell_type": "markdown",
   "metadata": {},
   "source": [
    "## Aufgabe 3"
   ]
  },
  {
   "cell_type": "markdown",
   "metadata": {},
   "source": [
    "Verwenden Sie reguläre Ausdrücke und die `findall`-Funktion, um die Anzahl der Ziffern, Anzahl der Nicht-Ziffern, die Anzahl Leerzeichen, sowie die Anzahl Wörter in einer Zeichenkette zu zählen. Geben Sie die gefundenen Resulate am Bildschirm aus. "
   ]
  },
  {
   "cell_type": "code",
   "execution_count": null,
   "metadata": {},
   "outputs": [],
   "source": []
  },
  {
   "cell_type": "markdown",
   "metadata": {},
   "source": [
    "## Aufgabe 4\n",
    "Prüfen Sie, ob ein Satz mehr als ein Leerzeichen zwischen den Wörtern enthält. Wenn ja, entfernen Sie die zusätzlichen Leerzeichen und zeigen Sie das Resultat an. Zum Beispiel sollte `'Hello` &nbsp;&nbsp;&nbsp;&nbsp;&nbsp;    `World'` zu ```'Hello World'``` umgeformt werden."
   ]
  },
  {
   "cell_type": "code",
   "execution_count": null,
   "metadata": {},
   "outputs": [],
   "source": []
  },
  {
   "cell_type": "markdown",
   "metadata": {},
   "source": [
    "## Aufgabe 5\n",
    "Implementieren Sie die Aufgabe 1 noch einmal unter Verwendung von regulären Ausdrücken, um die Wörter, die mit 'b' oder 'B' beginnen zu erfassen und anzuzeigen.\n",
    "\n",
    "Tipp: Verwenden Sie `\\b` in der RE um den Beginn eines Wortes zu kennzeichnen."
   ]
  },
  {
   "cell_type": "code",
   "execution_count": null,
   "metadata": {},
   "outputs": [],
   "source": []
  },
  {
   "cell_type": "markdown",
   "metadata": {},
   "source": [
    "## Aufgabe 6\n",
    "Verwenden Sie einen regulären Ausdruck, um eine Zeichenfolge zu durchsuchen und alle gültigen URLs zu finden. Nehmen Sie für diese Übung an, dass eine gültige URL die Form https://www.domain_name.extension hat, wobei die Extension zwei oder mehr Zeichen betragen muss."
   ]
  },
  {
   "cell_type": "code",
   "execution_count": null,
   "metadata": {},
   "outputs": [],
   "source": []
  }
 ],
 "metadata": {
  "kernelspec": {
   "display_name": "Python 3.10.7 ('venv': venv)",
   "language": "python",
   "name": "python3"
  },
  "language_info": {
   "codemirror_mode": {
    "name": "ipython",
    "version": 3
   },
   "file_extension": ".py",
   "mimetype": "text/x-python",
   "name": "python",
   "nbconvert_exporter": "python",
   "pygments_lexer": "ipython3",
   "version": "3.10.7"
  },
  "vscode": {
   "interpreter": {
    "hash": "023e4eadc93684ac1c8050cfafbde284d504370f1252686768eedecb22e3f812"
   }
  }
 },
 "nbformat": 4,
 "nbformat_minor": 4
}
