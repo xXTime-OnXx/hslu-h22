{
 "cells": [
  {
   "cell_type": "markdown",
   "id": "82828b1c-0173-419a-a366-121a2b89dc31",
   "metadata": {},
   "source": [
    "# 9. Objekt-orientierte Programmierung\n",
    "\n"
   ]
  },
  {
   "cell_type": "markdown",
   "id": "db8fd048-2e60-4e0b-96fe-639145d5dab0",
   "metadata": {},
   "source": [
    "* 9.1 Einführung in die Objekt-orientierte Programmierung\n",
    "* 9.2 Benutzerdefinierte Klasse `Account`\n",
    "* 9.3 Benutzerdefinierte Klasse `Time` mit Properties\n",
    "* 9.4 Klassen Attribute"
   ]
  }
 ],
 "metadata": {
  "kernelspec": {
   "display_name": "Python 3 (ipykernel)",
   "language": "python",
   "name": "python3"
  },
  "language_info": {
   "codemirror_mode": {
    "name": "ipython",
    "version": 3
   },
   "file_extension": ".py",
   "mimetype": "text/x-python",
   "name": "python",
   "nbconvert_exporter": "python",
   "pygments_lexer": "ipython3",
   "version": "3.10.5"
  },
  "vscode": {
   "interpreter": {
    "hash": "aee8b7b246df8f9039afb4144a1f6fd8d2ca17a180786b69acc140d282b71a49"
   }
  }
 },
 "nbformat": 4,
 "nbformat_minor": 5
}
