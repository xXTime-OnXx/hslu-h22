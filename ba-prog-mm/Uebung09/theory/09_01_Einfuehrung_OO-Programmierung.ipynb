{
 "cells": [
  {
   "cell_type": "markdown",
   "id": "ecc87893-2b4f-4d8e-b5f2-f3cbfda66f0a",
   "metadata": {},
   "source": [
    "# 9.1 Einführung in die Objekt-orientierte Programmierung"
   ]
  },
  {
   "cell_type": "markdown",
   "id": "c084ac3a-b777-4697-b8a7-638e215a13df",
   "metadata": {},
   "source": [
    "## Objekte in Software\n",
    "* Ähnlich wie in der realen Welt können wir in Software **Objekte** erstellen, die ein bestimmtes **Verhalten** haben und die miteinander **interagieren** können.\n",
    "* Wir modellieren Objekte in sog. Klassen. Eine **Klasse** ist der **Konstruktionsplan (Blaupause) für Objekte**. \n",
    "* Es können **beliebig viele Objekte** aus einer Klasse erzeugt werden.\n",
    "* Eine **Klasse definiert den Datentyp** eines Objekts.\n",
    "\n",
    "&nbsp;\n",
    "\n",
    "\n",
    "&nbsp;\n",
    "![Klasse_und_Objekte](img/Class_and_Objects.png)"
   ]
  },
  {
   "cell_type": "markdown",
   "id": "6c3146f0-6082-4bfa-9ab3-7436f71ea948",
   "metadata": {},
   "source": [
    "<br>\n",
    "\n",
    "\n",
    "## Objekte haben einen Zustand und ein Verhalten\n",
    "Wenn Sie ein Objekt modellieren wollen, sollten Sie sich folgende Frage stellen:\n",
    "* Was für **Attribute** hat das Objekt? Welche **Werte** können gespeichert werden?\n",
    "* Welches **Verhalten** hat das Objekt? Welche **Aktionen** kann das Objekt ausführen?\n",
    "\n",
    "&nbsp;    \n",
    "Die **Werte** werden in **Attributen** gespeichert.\n",
    "\n",
    "Das **Verhalten** wird mit **Methoden** implementiert.\n",
    "\n",
    "\n",
    "Die Werte eines Objekts zu einem konkreten Zeitpunkt werden als **Zustand (State)** bezeichnet."
   ]
  },
  {
   "cell_type": "markdown",
   "id": "4bd8b8a5-0b6f-450b-a17c-cbd7a3a7a83a",
   "metadata": {},
   "source": [
    "<br>\n",
    "\n",
    "<img src=\"img/Car.png\" width=\"640\">"
   ]
  },
  {
   "cell_type": "markdown",
   "id": "a44752fa-a52f-456b-837d-7da673f91edd",
   "metadata": {},
   "source": [
    "<br>\n",
    "\n",
    "\n",
    "## Abstraktion und Modularisierung\n",
    "* **Abstraktion** ist die Fähigkeit, Details von Teilen zu ignorieren, um die Aufmerksamkeit auf eine höhere Ebene eines Problems zu lenken.\n",
    "\n",
    "* **Modularisierung** ist der Prozess der Unterteilung eines Ganzen in wohldefinierte Teile, die separat aufgebaut und untersucht werden können und die in wohldefinierter Weise zusammenwirken."
   ]
  },
  {
   "cell_type": "markdown",
   "id": "70be7cdc-737e-4139-affc-1aa728cf7a29",
   "metadata": {},
   "source": [
    "&nbsp;\n",
    "\n",
    "### Beispiel Abstraktion und Modularisierung bei einem Auto\n",
    "<img src=\"img/Car_Construction_Modularization.png\" width='750'>"
   ]
  },
  {
   "cell_type": "markdown",
   "id": "a697dd7b-081b-4a8f-81d0-034f44a2c49a",
   "metadata": {},
   "source": [
    "<br>\n",
    "\n",
    "### Beispiel Abstraktion und Modularisierung bei einer digitalen Uhr\n",
    "![ClockDisplay](img/ClockDisplay.png)\n",
    "\n",
    "\n",
    "* `ClockDisplay` kann aus zwei `NumberDisplay` zusammengesetzt werden.\n",
    "* Das nennt man **Komposition**\n",
    "\n",
    "\n",
    "![NumberDisplay](img/NumberDisplay.png)\n",
    "\n",
    "* Die beien 2-stelligen Anzeigen (`NumberDisplay`) haben ähnliches Verhalten:\n",
    "    * eine Instanz zeigt 00 - 23\n",
    "    * die andere Instanz zeigt 00 - 59\n",
    "    * beide inkrementieren um 1\n",
    "    * beide beginnen wieder bei 00, wenn die Obergrenze erreicht ist"
   ]
  },
  {
   "cell_type": "markdown",
   "id": "8b107bbe-3d48-4317-adf7-26970a5bd7d0",
   "metadata": {},
   "source": [
    "<br>\n",
    "\n",
    "## Modellierung mit UML Klassendiagrammen\n",
    "\n",
    "### Beispiel Klasse `Song`\n",
    "![Song](img/Song.png)"
   ]
  },
  {
   "cell_type": "markdown",
   "id": "96624c8b-f356-4bfa-a339-15a8ea0dc58d",
   "metadata": {},
   "source": [
    "&nbsp;\n",
    "### Beispiel-Klassendiagramm\n",
    "![UML_Klassendiagramm](img/UML_class_diagram.jpg)\n"
   ]
  }
 ],
 "metadata": {
  "kernelspec": {
   "display_name": "Python 3.10.8 ('venv': venv)",
   "language": "python",
   "name": "python3"
  },
  "language_info": {
   "codemirror_mode": {
    "name": "ipython",
    "version": 3
   },
   "file_extension": ".py",
   "mimetype": "text/x-python",
   "name": "python",
   "nbconvert_exporter": "python",
   "pygments_lexer": "ipython3",
   "version": "3.10.8"
  },
  "vscode": {
   "interpreter": {
    "hash": "d80cc920d25c1d92593b6aac86af4433dd7b5970d464c24070744c11223ad8fd"
   }
  }
 },
 "nbformat": 4,
 "nbformat_minor": 5
}
