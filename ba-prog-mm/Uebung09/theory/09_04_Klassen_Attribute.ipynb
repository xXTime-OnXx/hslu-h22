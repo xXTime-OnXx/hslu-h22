{
 "cells": [
  {
   "cell_type": "markdown",
   "id": "b5f14629-228e-4009-8ce7-37a8a3c0daed",
   "metadata": {},
   "source": [
    "# 9.4 Klassen Attribute"
   ]
  },
  {
   "cell_type": "markdown",
   "id": "edb041b4-0608-441d-9a92-9e846e7f17dc",
   "metadata": {},
   "source": [
    "Wir wollen z.B. wissen, wie viele Intanzen von `Person` erstellt wurden. Dazu definieren wir eine Klassen-Attribut, welches diese Information speichert.\n",
    "\n",
    "Ein Klassen-Attribut wird direkt in der Klasse definiert (d.h., ausserhalb von `__init__`)und ist für alle Instanzen der Klasse zugänglich.\n",
    "\n",
    "Der Zugriff auf ein Klassen-Attribut erfolgt über den Klassennamen, wie z.B. `Person.population`."
   ]
  },
  {
   "cell_type": "code",
   "execution_count": null,
   "id": "a14181cd-e7f9-4c1b-88f7-7b9698527985",
   "metadata": {},
   "outputs": [],
   "source": [
    "class Person:\n",
    "    population = 0  # this defines the Person.population = 0 class attribute\n",
    "    \n",
    "    def __init__(self, name):\n",
    "        Person.population += 1\n",
    "        self.name = name"
   ]
  },
  {
   "cell_type": "code",
   "execution_count": null,
   "id": "a2a2f603-73d6-4440-9e1a-f3fd476e30a0",
   "metadata": {},
   "outputs": [],
   "source": [
    "print(f'Before: population = {Person.population}')\n",
    "p1 = Person('Peter')\n",
    "p2 = Person('Anna')\n",
    "print(f'After: population = {Person.population}')"
   ]
  }
 ],
 "metadata": {
  "kernelspec": {
   "display_name": "Python 3 (ipykernel)",
   "language": "python",
   "name": "python3"
  },
  "language_info": {
   "codemirror_mode": {
    "name": "ipython",
    "version": 3
   },
   "file_extension": ".py",
   "mimetype": "text/x-python",
   "name": "python",
   "nbconvert_exporter": "python",
   "pygments_lexer": "ipython3",
   "version": "3.10.5"
  },
  "vscode": {
   "interpreter": {
    "hash": "aee8b7b246df8f9039afb4144a1f6fd8d2ca17a180786b69acc140d282b71a49"
   }
  }
 },
 "nbformat": 4,
 "nbformat_minor": 5
}
