{
 "cells": [
  {
   "cell_type": "markdown",
   "metadata": {},
   "source": [
    "# 10.1 Einführung in die Vererbung"
   ]
  },
  {
   "cell_type": "markdown",
   "metadata": {},
   "source": [
    "## Einleitendes Beispiel: `NewsFeed` Prototyp\n",
    "* `NewsFeed`:  speichert Beiträge und simuliert die Anzeige von Beiträgen durch Ausdrucken im Terminal\n",
    "* `MessagePost`: mehrzeilige Textnachricht\n",
    "* `PhotoPost`: Nachricht mit Photo und Bildunterschrift\n",
    "\n",
    "<img src=\"img/NewsFeed.png\" width=600>\n",
    "\n",
    "&nbsp;\n",
    "\n",
    "<img src=\"img/MessagePost_PhotoPost_Class_Diagram.png\" width=600>\n"
   ]
  },
  {
   "cell_type": "markdown",
   "metadata": {
    "tags": []
   },
   "source": [
    "&nbsp;\n",
    "### Code Duplikate\n",
    "<img src=\"img/Duplicates_MessagePost_PhotoPost_Class_Diagram.png\" width=600>\n",
    "\n",
    "* Bedeuten mehr Schreibarbeit\n",
    "* Erschweren den Unterhalt (Fehlerkorrektur, Erweiterungen, etc.) des Programms\n",
    "* Birgt ein grosses Risiko, dass sich Fehler im Unterhalt einschleichen"
   ]
  },
  {
   "cell_type": "markdown",
   "metadata": {
    "tags": []
   },
   "source": [
    "&nbsp;\n",
    "### Lösung: Vererbung verwenden\n",
    "* eine Basisklasse (Oberklasse) definieren: `Post`\n",
    "* Subklassen (Unterklassen) für `MessagePost` und `PhotoPost` definieren\n",
    "\n",
    "\n",
    "<img src=\"img/Post_Inheritance_Hierarchy.png\" width=\"600\">\n",
    "\n"
   ]
  },
  {
   "cell_type": "markdown",
   "metadata": {},
   "source": [
    "* Die Basisklasse definiert alle gemeinsamen Attribute\n",
    "* Die Subklassen **erben** die Eigenschaften der Basisklasse\n",
    "* In den Subklassen werden zusätzliche Eigenschaften hinzugefügt"
   ]
  },
  {
   "cell_type": "markdown",
   "metadata": {},
   "source": [
    "## Beispiele von Basisklassen und Subklassen\n",
    "\n",
    "<table align=\"left\">\n",
    "    <tr>\n",
    "        <th>Basisklasse</th>\n",
    "        <th>Subklassen</th>\n",
    "    </tr>\n",
    "    <tr>\n",
    "        <td>Shape</td>\n",
    "        <td>Circle, Triangle, Rectangle, Sphere, Cube</td>\n",
    "    </tr>\n",
    "    <tr>\n",
    "        <td>Loan</td>\n",
    "        <td>CarLoan, HomeImprovementLoan, MortgageLoan</td>\n",
    "    </tr>\n",
    "    <tr>\n",
    "        <td>Employee</td>\n",
    "        <td>Faculty, Staff</td>\n",
    "    </tr>\n",
    "    <tr>\n",
    "        <td>BankAccount</td>\n",
    "        <td>CheckingAccount, SavingsAccount</td>\n",
    "    </tr>\n",
    "</table>"
   ]
  },
  {
   "cell_type": "markdown",
   "metadata": {},
   "source": [
    "## Vererbungshierarchie\n",
    "* Vererbungsbeziehungen bilden baumartige _hierarchische_ Strukturen\n",
    "* Bei der **Einfachvererbung** (single inheritance) wird eine Klasse von _einer_ Basisklasse abgeleitet\n",
    "* Bei einer **Mehrfachvererbung** (Multiple Inheritance) erbt eine Unterklasse von _zwei oder mehr_ Basisklassen"
   ]
  },
  {
   "cell_type": "markdown",
   "metadata": {},
   "source": [
    "### `CommunityMember`Vererbungshierarchie\n",
    "Beispielklassenhierarchie einer Universitätsgemeinschaft\n",
    "\n",
    "\n",
    "<img src=\"img/CommunityMember_Inheritance_Hierarchy.png\" width=400>\n",
    "\n",
    "* Jeder Pfeil in der Hierarchie stellt eine **ist ein** Beziehung dar:\n",
    "    * ein `Employee` _ist ein_ `CommunityMember`\n",
    "    * ein `Faculty`-Member _ist ein_ `Employee`\n",
    "    * ein `Faculty`-Member _ist auch ein_ `CommunityMember`\n",
    "    \n",
    "    \n",
    "* `CommunityMember` ist die **direkte** Basisklasse von `Employee`, `Student` und `Alumn`, und ist die **indirekte** Basisklasse für alle anderen Klassen im Diagramm\n",
    "\n",
    "* Von unten beginnend, können Sie den Pfeilen folgen und die **ist ein**-Beziehung bis zur obersten Oberklasse anwenden"
   ]
  },
  {
   "cell_type": "markdown",
   "metadata": {},
   "source": [
    "### `Shape` Vererbungshierarchie\n",
    "\n",
    "<img src=\"img/Shape_Inheritance_Hierarchy.png\" width=600>"
   ]
  },
  {
   "cell_type": "markdown",
   "metadata": {},
   "source": [
    "## \"ist ein\"- vs. \"hat ein\"-Beziehungen\n",
    "* **Vererbung** erzeugt **\"ist ein\"-Beziehungen**, in denen ein Objekt eines Subklassentyps auch als Objekt des Basisklassentyps behandelt werden kann.\n",
    "\n",
    "* **Assoziation** erzeugt **\"hat ein\"-Beziehungen**, in denen eine Klasse Referenzen auf ein oder mehrere Objekte anderer Klassen als Mitglieder hat."
   ]
  },
  {
   "cell_type": "markdown",
   "metadata": {},
   "source": [
    "<img src=\"img/class_diagram_example.png\" width=\"600\"/>"
   ]
  }
 ],
 "metadata": {
  "kernelspec": {
   "display_name": "Python 3 (ipykernel)",
   "language": "python",
   "name": "python3"
  },
  "language_info": {
   "codemirror_mode": {
    "name": "ipython",
    "version": 3
   },
   "file_extension": ".py",
   "mimetype": "text/x-python",
   "name": "python",
   "nbconvert_exporter": "python",
   "pygments_lexer": "ipython3",
   "version": "3.10.5"
  },
  "vscode": {
   "interpreter": {
    "hash": "aee8b7b246df8f9039afb4144a1f6fd8d2ca17a180786b69acc140d282b71a49"
   }
  }
 },
 "nbformat": 4,
 "nbformat_minor": 4
}
