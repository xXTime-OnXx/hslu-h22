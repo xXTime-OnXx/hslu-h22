{
 "cells": [
  {
   "cell_type": "markdown",
   "id": "429c2f5d-4f36-4fe2-b08c-661c7a5aec31",
   "metadata": {},
   "source": [
    "# 10.2 Aufbau einer Vererbungshierarchie"
   ]
  },
  {
   "cell_type": "markdown",
   "id": "c19d5f21-e1d6-480a-9fdf-251e1332e1dd",
   "metadata": {},
   "source": [
    "## Möglichkeiten zur Nutzung der Vererbung\n",
    "1. **Attribute** und **bestehende Funktionalität** einer Klasse **wiederverwenden** und **erweitern**;\n",
    "2. Die **Funktionalität** einer bestehenden Methode **ersetzen** (**überschreiben**);\n",
    "3. Eine **neue Funktionalität** zur Subklasse **hinzufügen**.\n",
    "\n",
    "<br>\n",
    "\n"
   ]
  },
  {
   "cell_type": "markdown",
   "id": "83207ade-f219-4850-9dd0-9413111698ef",
   "metadata": {},
   "source": [
    "## Attribute und bestehende Funktionalität wiederverwenden und erweitern\n",
    "\n",
    "Wir haben eine `Person` modeliert. In unserem Modell hat eine Person einen **Namen** und sie kann **gegrüsst** werden."
   ]
  },
  {
   "cell_type": "code",
   "execution_count": null,
   "id": "afdfa556-cad2-49b9-b58a-ef5500fc7fcc",
   "metadata": {},
   "outputs": [],
   "source": [
    "class Person:\n",
    "    def __init__(self, name):\n",
    "        self.name = name\n",
    "        \n",
    "    def greet(self):\n",
    "        print(f'Hallo {self.name}.')"
   ]
  },
  {
   "cell_type": "code",
   "execution_count": null,
   "id": "e5050377-de9a-4cc2-b38c-641c86a7501c",
   "metadata": {},
   "outputs": [],
   "source": [
    "p1 = Person('Anna')\n",
    "p2 = Person('Thomas')\n",
    "\n",
    "p1.greet()\n",
    "p2.greet()"
   ]
  },
  {
   "cell_type": "markdown",
   "id": "c0b38f76-8a4c-4152-ae22-4cfd42da2865",
   "metadata": {},
   "source": [
    "<br>\n",
    "\n",
    "Nun wollen wir eine Klasse `Employee` modellieren. Ein Mitarbeiter hat einen **Namen**, eine **Sozialversicherungsnummer**, sowie ein **Salär**.\n",
    "\n",
    "Arbeitnehmende (`Employee`) sind Personen (`Person`), die zusätzliche Attribute, wie z.B. Sozialversicherungsnummer und Salär, haben.\n",
    "Wir können von `Person` erben, d.h. das bestehende Attribut und die bestehende Funktionalität wiederwerwenden und erweitern."
   ]
  },
  {
   "cell_type": "code",
   "execution_count": null,
   "id": "96bb9be1-583e-4a99-8496-35195ee070b7",
   "metadata": {},
   "outputs": [],
   "source": [
    "class Employee(Person):\n",
    "    def __init__(self, name, ssn, salary):\n",
    "        super().__init__(name)\n",
    "        self.ssn = ssn\n",
    "        self.salary = salary"
   ]
  },
  {
   "cell_type": "markdown",
   "id": "788b793f-a1fd-4598-8a82-afc9311d3790",
   "metadata": {},
   "source": [
    "#### Die Deklaration der Klasse `Employee`\n",
    "```python\n",
    "class Employee(Person):\n",
    "```\n",
    "spezifiziert, dass `Employee` von `Person` erbt.\n",
    "\n",
    "Das bedeutet, dass Employee das Attribut `name`, sowie die besthende Methode `greet` von `Person` erbt und somit zur Verfügung hat.\n",
    "\n",
    "\n",
    "#### Methode `__init__` und die Funktion `super()`\n",
    "* Wenn eine Subklasse eine Initialisierungs-Methode implementiert, um subklassenspezifische Attribute zu initialisieren, dann muss zusätzlich  explizit die `__init__`-Methode der Basisklasse aufgerufen werden, um die von der Basisklasse geerbten Datenattribute zu initialisieren.\n",
    "* Mit der Methode `super()` wird die Superklasse (Basisklasse) adressiert. Daher ruft die Anweisung `super().__init__` die Initialisierungs-Methode der Superklasse auf.\n",
    "\n"
   ]
  },
  {
   "cell_type": "code",
   "execution_count": null,
   "id": "525a1d43-657e-4182-9dea-01c6218eba4d",
   "metadata": {},
   "outputs": [],
   "source": [
    "e1 = Employee('Emma', '111-1111', 100_000)\n",
    "e2 = Employee('Peter', '222-2222', 93_000)"
   ]
  },
  {
   "cell_type": "code",
   "execution_count": null,
   "id": "8bce65c8-630b-4498-a575-18e154a64d0c",
   "metadata": {},
   "outputs": [],
   "source": [
    "e1.greet()"
   ]
  },
  {
   "cell_type": "markdown",
   "id": "ab4c5b09-e88d-4964-ac6e-846385c552b9",
   "metadata": {},
   "source": [
    "## Die Funktionaliät einer bestehenden Methode überschreiben (ersetzen)"
   ]
  },
  {
   "cell_type": "code",
   "execution_count": null,
   "id": "e175db2a-a1f0-4cb8-9254-a09deb521088",
   "metadata": {},
   "outputs": [],
   "source": [
    "class Person:\n",
    "    def __init__(self, name):\n",
    "        self.name = name\n",
    "        \n",
    "    def greet(self):\n",
    "        print(f'Hallo {self.name}.')"
   ]
  },
  {
   "cell_type": "code",
   "execution_count": null,
   "id": "bb8eb1bc-a0ec-4a2b-a6f3-266c1538ecd2",
   "metadata": {},
   "outputs": [],
   "source": [
    "p = Person('Peter')\n",
    "p.greet()\n"
   ]
  },
  {
   "cell_type": "code",
   "execution_count": null,
   "id": "339ce830-d996-428f-b7a2-6852d9a78ceb",
   "metadata": {
    "tags": []
   },
   "outputs": [],
   "source": [
    "class CoolPerson(Person):\n",
    "    \n",
    "    def greet(self):\n",
    "        \"\"\"Override the greet method of the superclass Person, to greet more verbously.\"\"\"\n",
    "        print(f'Hi {self.name}. Was geht ab?')"
   ]
  },
  {
   "cell_type": "code",
   "execution_count": null,
   "id": "c6a7c0d5-88f4-4a7d-ab9b-fd43858cd02b",
   "metadata": {},
   "outputs": [],
   "source": [
    "c = CoolPerson('Mike')\n",
    "c.greet()\n"
   ]
  },
  {
   "cell_type": "markdown",
   "id": "6244d70b-7074-4d87-a9d6-64cd86a0a27d",
   "metadata": {},
   "source": [
    "## Neue Funktionalität einer Subklasse hinzufügen"
   ]
  },
  {
   "cell_type": "code",
   "execution_count": null,
   "id": "6b993a0a-db52-4ad1-ba46-a8b8eb8fda81",
   "metadata": {},
   "outputs": [],
   "source": [
    "class Person:\n",
    "    def __init__(self, name):\n",
    "        self.name = name\n",
    "        \n",
    "    def greet(self):\n",
    "        print(f'Hello {self.name}.')"
   ]
  },
  {
   "cell_type": "code",
   "execution_count": null,
   "id": "7126a21f-125e-43d2-9c49-870282e72e72",
   "metadata": {},
   "outputs": [],
   "source": [
    "class Employee(Person):\n",
    "    \n",
    "    def __init__(self, name, ssn, salary):\n",
    "        super().__init__(name)\n",
    "        self.ssn = ssn\n",
    "        self.salary = salary\n",
    "        \n",
    "    def net_monthly_salary(self, tax=0.1):\n",
    "        \"\"\"Calculate and return the net monthly salary after tax.\"\"\"\n",
    "        return self.salary * (1 - tax) / 12"
   ]
  },
  {
   "cell_type": "code",
   "execution_count": null,
   "id": "502e6109-fa53-474d-a997-d3f6a4f8af14",
   "metadata": {},
   "outputs": [],
   "source": [
    "e = Employee('Maria', '444-4444', 60_000)\n",
    "e.greet()\n",
    "e.net_monthly_salary()"
   ]
  },
  {
   "cell_type": "markdown",
   "id": "55e2c36b-0aef-4362-abcc-5d62661b5562",
   "metadata": {},
   "source": [
    "## Alle Klassen erben direkt oder indirekt von der Klasse `object`\n",
    "* Jede Python-Klasse erbt von einer bestehenden Klasse;\n",
    "* Zuoberst in der Klassenhierarchie ist die Klasse `object`;\n",
    "* Unsere benutzerdefinierte Klasse `Person` erbt direkt von `object`. Daher hätte die Klassendefinition von `Person` auch wie folgt aussehen können:\n",
    "```python\n",
    "class Person(object):\n",
    "```\n",
    "* Unsere benutzerdefinierte Klasse `Employee` erbt direkt von `Person` und indirekt von `object`."
   ]
  },
  {
   "cell_type": "markdown",
   "id": "2fd70616-2612-43f7-aa80-8f44905684a0",
   "metadata": {},
   "source": [
    "## Die Spezialmethoden `__repr__`,  `__str__` und andere\n",
    "Die Spezialmehtoden `__repr__`, `__str__` und andere, sind in der Klasse `object` in einer Basisimplementation enthalten und können von jeder beliebigen Subklasse überschrieben werden."
   ]
  },
  {
   "cell_type": "code",
   "execution_count": null,
   "id": "50584a6c-d262-42ad-bf79-524fadfa9364",
   "metadata": {},
   "outputs": [],
   "source": [
    "dir(object)"
   ]
  },
  {
   "cell_type": "code",
   "execution_count": null,
   "id": "101e4ff3-0d91-4077-b1e9-feb76a3daf3b",
   "metadata": {},
   "outputs": [],
   "source": [
    "class Person:\n",
    "    def __init__(self, name):\n",
    "        self.name = name\n",
    "        \n",
    "    def greet(self):\n",
    "        print(f'Hello {self.name}.')"
   ]
  },
  {
   "cell_type": "code",
   "execution_count": null,
   "id": "8d819e9a-5daa-4599-9f92-1349accd91cd",
   "metadata": {},
   "outputs": [],
   "source": [
    "p1 = Person('Elisabeth')"
   ]
  },
  {
   "cell_type": "code",
   "execution_count": null,
   "id": "d8823b5b-423e-4d2f-abd4-00b6ece16171",
   "metadata": {
    "tags": []
   },
   "outputs": [],
   "source": [
    "p1"
   ]
  },
  {
   "cell_type": "code",
   "execution_count": null,
   "id": "3d43821d-de51-42af-a4bb-aac81a253a82",
   "metadata": {},
   "outputs": [],
   "source": [
    "print(p1)"
   ]
  },
  {
   "cell_type": "markdown",
   "id": "67df5b1e-2c14-4cca-929d-46e4166d589c",
   "metadata": {},
   "source": [
    "#### Überschreiben von `__repr__` und `__str__`"
   ]
  },
  {
   "cell_type": "code",
   "execution_count": null,
   "id": "de163713-24a1-4031-b61e-fb63e05f9cd6",
   "metadata": {},
   "outputs": [],
   "source": [
    "class Person:\n",
    "    def __init__(self, name):\n",
    "        self.name = name\n",
    "        \n",
    "    def greet(self):\n",
    "        print(f'Hello {self.name}.')\n",
    "        \n",
    "    def __repr__(self):\n",
    "        return f'Person(name={self.name})'\n",
    "    \n",
    "    def __str__(self):\n",
    "        return f'I am a Person. My name is {self.name}'"
   ]
  },
  {
   "cell_type": "code",
   "execution_count": null,
   "id": "77b75ed7-ef69-4f49-94b0-10e159508d7d",
   "metadata": {},
   "outputs": [],
   "source": [
    "p2 = Person('Elisabeth')"
   ]
  },
  {
   "cell_type": "code",
   "execution_count": null,
   "id": "3141d5ed-a86c-4ed4-a46e-499e29f31d5d",
   "metadata": {},
   "outputs": [],
   "source": [
    "p2"
   ]
  },
  {
   "cell_type": "code",
   "execution_count": null,
   "id": "a4a62784-0ec5-4f50-81f1-382e6b26bb6c",
   "metadata": {},
   "outputs": [],
   "source": [
    "print(p2)"
   ]
  },
  {
   "cell_type": "code",
   "execution_count": null,
   "id": "78652ed3-196d-47cb-bc46-5969e2c6be96",
   "metadata": {},
   "outputs": [],
   "source": [
    "class CoolPerson(Person):\n",
    "    \n",
    "    def greet(self):\n",
    "        \"\"\"Override the greet method of the superclass Person, to greet more verbously.\"\"\"\n",
    "        print(f'Hi {self.name}. Was geht ab?')"
   ]
  },
  {
   "cell_type": "code",
   "execution_count": null,
   "id": "cf9c65ac-a6cf-427f-b9bd-a59ca68b40a9",
   "metadata": {},
   "outputs": [],
   "source": [
    "cp = CoolPerson('James') "
   ]
  },
  {
   "cell_type": "code",
   "execution_count": null,
   "id": "09a18af9-abc5-4cde-bfc4-cff43108bc3d",
   "metadata": {},
   "outputs": [],
   "source": [
    "cp"
   ]
  },
  {
   "cell_type": "code",
   "execution_count": null,
   "id": "35d317a8-417c-4116-a5e3-03e1e77386a2",
   "metadata": {},
   "outputs": [],
   "source": [
    "class CoolPerson(Person):\n",
    "    \n",
    "    def greet(self):\n",
    "        \"\"\"Override the greet method of the superclass Person, to greet more verbously.\"\"\"\n",
    "        print(f'Hi {self.name}. Was geht ab?')\n",
    "        \n",
    "    def __repr__(self):\n",
    "        return f'Cool{super().__repr__()}'\n",
    "    \n",
    "    "
   ]
  },
  {
   "cell_type": "code",
   "execution_count": null,
   "id": "78f4f91b-2164-47e8-9921-44c7dd9d7bd4",
   "metadata": {},
   "outputs": [],
   "source": [
    "cp2 = CoolPerson('Joe')"
   ]
  },
  {
   "cell_type": "code",
   "execution_count": null,
   "id": "fb5bbb14-854f-4736-ba01-020ccc06bde4",
   "metadata": {},
   "outputs": [],
   "source": [
    "cp2"
   ]
  },
  {
   "cell_type": "code",
   "execution_count": null,
   "id": "1508e3f3-9f46-434b-8edb-e8715aacc6ea",
   "metadata": {},
   "outputs": [],
   "source": [
    "print(cp2)  # ruft __str__ von Person auf, da es keine __str__ implementation in CoolPerson gibt"
   ]
  },
  {
   "cell_type": "markdown",
   "id": "2aa4ffa4-5075-426d-933f-244ac982176e",
   "metadata": {
    "tags": []
   },
   "source": [
    "#### Variante 2: Person's `__repr__` und `__str__` wird generisch implementiert\n",
    "Wenn eine Subklasse keine `__repr__` und `__str__` implementiert, dann wird automatische der Reihe nach in den Oberklassen nach einer `__repr__`, oder `__str__` Implementation gesucht. Ist die entsprechende Methode vorhanden, wird sie ausgeführt. Ist sie zudem generisch implementiert, kann bei der Ausführung der Name der aufrufenden (Sub-)Klasse ausgegeben werden.\n",
    "\n",
    "`self.__class__.__name__` gibt den Namen der zugrunde liegenden Klasse zurück. "
   ]
  },
  {
   "cell_type": "code",
   "execution_count": null,
   "id": "d4f0a83b-0f24-4ffb-b653-0f1fe528d1dd",
   "metadata": {},
   "outputs": [],
   "source": [
    "class Person:\n",
    "    def __init__(self, name):\n",
    "        self.name = name\n",
    "        \n",
    "    def greet(self):\n",
    "        print(f'Hello {self.name}.')\n",
    "        \n",
    "    def __repr__(self):\n",
    "        return f'{self.__class__.__name__}(name={self.name})'\n",
    "    \n",
    "    def __str__(self):\n",
    "        return f'I am a {self.__class__.__name__}. My name is {self.name}'"
   ]
  },
  {
   "cell_type": "code",
   "execution_count": null,
   "id": "85f155c1-3e56-4093-8cdc-e770cecc3245",
   "metadata": {},
   "outputs": [],
   "source": [
    "class CoolPerson(Person):\n",
    "    \n",
    "    def greet(self):\n",
    "        \"\"\"Override the greet method of the superclass Person, to greet more verbously.\"\"\"\n",
    "        print(f'Hi {self.name}. Was geht ab?')"
   ]
  },
  {
   "cell_type": "code",
   "execution_count": null,
   "id": "c93e4bcc-2fa1-4abe-ba4c-86d134c56dc2",
   "metadata": {},
   "outputs": [],
   "source": [
    "p = Person('Roger')\n",
    "cp = CoolPerson('Zora')"
   ]
  },
  {
   "cell_type": "code",
   "execution_count": null,
   "id": "21bd675c-9a03-4877-9c70-5e56fcd12885",
   "metadata": {},
   "outputs": [],
   "source": [
    "p"
   ]
  },
  {
   "cell_type": "code",
   "execution_count": null,
   "id": "184a119f-a3df-4220-b3ee-4d1c1d4c6507",
   "metadata": {},
   "outputs": [],
   "source": [
    "cp"
   ]
  },
  {
   "cell_type": "code",
   "execution_count": null,
   "id": "55436cf0-94b7-4227-b8f4-f1452452b360",
   "metadata": {},
   "outputs": [],
   "source": [
    "print(p)"
   ]
  },
  {
   "cell_type": "code",
   "execution_count": null,
   "id": "938be2b3-11c7-4ea2-b2da-ea37d6bf6afb",
   "metadata": {
    "tags": []
   },
   "outputs": [],
   "source": [
    "print(cp)"
   ]
  },
  {
   "cell_type": "markdown",
   "id": "38d66a62-5ac3-4321-b99c-68fb89e3cfea",
   "metadata": {},
   "source": [
    "## Prüfen der _'ist-ein'_ Beziehung"
   ]
  },
  {
   "cell_type": "code",
   "execution_count": null,
   "id": "57bc4ece-bb56-49cc-b04e-e379a535cee3",
   "metadata": {},
   "outputs": [],
   "source": [
    "class Person:\n",
    "    def __init__(self, name):\n",
    "        self.name = name\n",
    "        \n",
    "    def greet(self):\n",
    "        print(f\"Hello {self.name}.\")"
   ]
  },
  {
   "cell_type": "code",
   "execution_count": null,
   "id": "ba21f09b-92a5-421e-a568-2c76d21cd383",
   "metadata": {},
   "outputs": [],
   "source": [
    "class Employee(Person):\n",
    "    def __init__(self, name, ssn, salary):\n",
    "        super().__init__(name)\n",
    "        self.ssn = ssn\n",
    "        self.salary = salary"
   ]
  },
  {
   "cell_type": "code",
   "execution_count": null,
   "id": "994a4a99-3294-46c7-9000-23ec130c534c",
   "metadata": {
    "tags": []
   },
   "outputs": [],
   "source": [
    "p = Person('Peter')\n",
    "e = Employee('Anna', '111-1111', 80000)"
   ]
  },
  {
   "cell_type": "code",
   "execution_count": null,
   "id": "1b5035ad-adf0-4bbf-9362-869c61598939",
   "metadata": {},
   "outputs": [],
   "source": [
    "issubclass(Employee, Person)"
   ]
  },
  {
   "cell_type": "code",
   "execution_count": null,
   "id": "a0b8ce2f-2389-41b1-9bda-99744d99fe3a",
   "metadata": {},
   "outputs": [],
   "source": [
    "issubclass(Employee, object)"
   ]
  },
  {
   "cell_type": "code",
   "execution_count": null,
   "id": "529c13ad-da3c-46ba-80ec-66b1f7387dae",
   "metadata": {},
   "outputs": [],
   "source": [
    "issubclass(Person, Employee)"
   ]
  },
  {
   "cell_type": "code",
   "execution_count": null,
   "id": "5864fff3-a9e7-4dfc-97b2-64952ccd2344",
   "metadata": {},
   "outputs": [],
   "source": [
    "isinstance(p, Employee)"
   ]
  },
  {
   "cell_type": "code",
   "execution_count": null,
   "id": "288a6a37-d242-4559-b3e0-4a85d489b6e4",
   "metadata": {},
   "outputs": [],
   "source": [
    "isinstance(p, Person)"
   ]
  },
  {
   "cell_type": "code",
   "execution_count": null,
   "id": "df2b839f-1adc-4f00-b869-be68ad4d9cfe",
   "metadata": {},
   "outputs": [],
   "source": [
    "isinstance(p, object)"
   ]
  }
 ],
 "metadata": {
  "kernelspec": {
   "display_name": "Python 3 (ipykernel)",
   "language": "python",
   "name": "python3"
  },
  "language_info": {
   "codemirror_mode": {
    "name": "ipython",
    "version": 3
   },
   "file_extension": ".py",
   "mimetype": "text/x-python",
   "name": "python",
   "nbconvert_exporter": "python",
   "pygments_lexer": "ipython3",
   "version": "3.10.5"
  },
  "vscode": {
   "interpreter": {
    "hash": "aee8b7b246df8f9039afb4144a1f6fd8d2ca17a180786b69acc140d282b71a49"
   }
  }
 },
 "nbformat": 4,
 "nbformat_minor": 5
}
