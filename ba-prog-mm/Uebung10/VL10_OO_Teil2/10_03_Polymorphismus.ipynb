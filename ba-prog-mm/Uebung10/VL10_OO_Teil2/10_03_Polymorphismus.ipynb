{
 "cells": [
  {
   "cell_type": "markdown",
   "metadata": {},
   "source": [
    "# 10.3 Polymorphismus \n",
    "* Bei der Vererbung kann jedes Objekt einer Unterklasse auch als ein Objekt der Basisklasse dieser Unterklasse behandelt werden.\n",
    "\n",
    "* Sie können diese Beziehung nutzen, um Objekte, die durch Vererbung miteinander verbunden sind, in einer Liste zu platzieren, dann durch die Liste zu iterieren und jedes Element als ein Objekt der Basisklasse zu behandeln.\n",
    "\n",
    "* Das ermöglicht die Verarbeitung einer Vielzahl von Objekten auf eine _allgemeine_ Weise"
   ]
  },
  {
   "cell_type": "code",
   "execution_count": null,
   "metadata": {},
   "outputs": [],
   "source": [
    "class Person:\n",
    "    def __init__(self, name):\n",
    "        self.name = name\n",
    "        \n",
    "    def greet(self):\n",
    "        print(f'Hello {self.name}.')\n",
    "        \n",
    "    def __repr__(self):\n",
    "        return f'{self.__class__.__name__}(name={self.name})'\n",
    "    \n",
    "    def __str__(self):\n",
    "        return f'I am a {self.__class__.__name__}. My name is {self.name}.'"
   ]
  },
  {
   "cell_type": "code",
   "execution_count": null,
   "metadata": {},
   "outputs": [],
   "source": [
    "class CoolPerson(Person):\n",
    "    \n",
    "    def greet(self):\n",
    "        \"\"\"Override the greet method of the superclass Person, to greet more verbously.\"\"\"\n",
    "        print(f'Hi {self.name}. Was geht ab?')"
   ]
  },
  {
   "cell_type": "code",
   "execution_count": null,
   "metadata": {},
   "outputs": [],
   "source": [
    "class Employee(Person):\n",
    "    \n",
    "    def __init__(self, name, ssn, salary):\n",
    "        super().__init__(name)\n",
    "        self.ssn = ssn\n",
    "        self.salary = salary\n",
    "        \n",
    "    def net_monthly_salary(self, tax=0.1):\n",
    "        \"\"\"Calculate and return the net monthly salary after tax.\"\"\"\n",
    "        return self.salary * (1 - tax) / 12\n",
    "    \n",
    "    def __str__(self):\n",
    "        return f'Employee: {self.name}'"
   ]
  },
  {
   "cell_type": "code",
   "execution_count": null,
   "metadata": {},
   "outputs": [],
   "source": [
    "p1 = Person('Anna')\n",
    "cp1 = CoolPerson('James')\n",
    "e1 = Employee('Peter', '123-1234', 84_000)\n",
    "p2 = Person('Berta')\n",
    "cp2 = CoolPerson('Zora')"
   ]
  },
  {
   "cell_type": "code",
   "execution_count": null,
   "metadata": {},
   "outputs": [],
   "source": [
    "persons = [p1, cp1, e1, p2, cp2]"
   ]
  },
  {
   "cell_type": "code",
   "execution_count": null,
   "metadata": {},
   "outputs": [],
   "source": [
    "for person in persons:\n",
    "    print(person)"
   ]
  },
  {
   "cell_type": "markdown",
   "metadata": {},
   "source": [
    "* Für jede Person wird die spezifische Repräsentation angezeigt.\n",
    "* Das wird **Polymorphismus** genannt und ist eine Schlüsselfähigkeit der objektorientierten Programmierung (OOP)"
   ]
  }
 ],
 "metadata": {
  "kernelspec": {
   "display_name": "Python 3 (ipykernel)",
   "language": "python",
   "name": "python3"
  },
  "language_info": {
   "codemirror_mode": {
    "name": "ipython",
    "version": 3
   },
   "file_extension": ".py",
   "mimetype": "text/x-python",
   "name": "python",
   "nbconvert_exporter": "python",
   "pygments_lexer": "ipython3",
   "version": "3.10.5"
  },
  "vscode": {
   "interpreter": {
    "hash": "aee8b7b246df8f9039afb4144a1f6fd8d2ca17a180786b69acc140d282b71a49"
   }
  }
 },
 "nbformat": 4,
 "nbformat_minor": 4
}
