{
 "cells": [
  {
   "cell_type": "markdown",
   "id": "015df6a3-40d0-40be-ab9e-70a81c55461e",
   "metadata": {},
   "source": [
    "# 10.5 Tipps zur Uebung 10"
   ]
  },
  {
   "cell_type": "markdown",
   "id": "fe8747c9-d0cb-435a-9272-bd12f94fef10",
   "metadata": {
    "tags": []
   },
   "source": [
    "## Die Klasse `Decimal` vom Modul `decimal`"
   ]
  },
  {
   "cell_type": "markdown",
   "id": "6f374d44-c6a6-4fa5-985f-5f41b7b385c6",
   "metadata": {},
   "source": [
    "Der Datentyp `float` ist ungenau. Es können Rechenfehler auftreten. Das ist kein Python-spezifisches Problem, sondern eine Einschränkung der Gleitkommadarstellung in Computer. "
   ]
  },
  {
   "cell_type": "code",
   "execution_count": null,
   "id": "f80709b4-571e-499f-bcbe-bc1f14f960bb",
   "metadata": {},
   "outputs": [],
   "source": [
    "0.1 + 0.1 + 0.1"
   ]
  },
  {
   "cell_type": "code",
   "execution_count": null,
   "id": "cda5adbb-1049-41ce-921b-250429f7864b",
   "metadata": {},
   "outputs": [],
   "source": [
    "0.1 + 0.1 + 0.1 - 0.3"
   ]
  },
  {
   "cell_type": "markdown",
   "id": "13bd1ef7-c2da-43cb-b082-823e8927600a",
   "metadata": {},
   "source": [
    "Das Modul `decimal` enthält eine Klasse `Decimal`, die es erlaubt, Dezimalzahlen mit beliebiger Genauigkeit zu speichern.\n",
    "\n",
    "Siehe https://docs.python.org/3/library/decimal.html"
   ]
  },
  {
   "cell_type": "code",
   "execution_count": null,
   "id": "bbf11f38-b662-4789-8cf2-88d113111b4d",
   "metadata": {},
   "outputs": [],
   "source": [
    "from decimal import Decimal\n",
    "\n",
    "Decimal('0.1') + Decimal('0.1') + Decimal('0.1')"
   ]
  },
  {
   "cell_type": "code",
   "execution_count": null,
   "id": "01028326-4cf2-4c0d-88b5-fdd5010c37ae",
   "metadata": {},
   "outputs": [],
   "source": [
    "Decimal('0.1') + Decimal('0.1') + Decimal('0.1') - Decimal('0.3')"
   ]
  },
  {
   "cell_type": "code",
   "execution_count": null,
   "id": "0ba4d057-1ab8-41ec-955d-3689bd7028c5",
   "metadata": {},
   "outputs": [],
   "source": [
    "print(Decimal('0.0'))"
   ]
  },
  {
   "cell_type": "markdown",
   "id": "bc744a8d-1c1c-4fed-9eb5-f5f6029a76ac",
   "metadata": {},
   "source": [
    "Bei Applikationen, bei denen ein exaktes Resultat wichtig ist, wie z.B. beim Rechnen mit Geldbeträgen in Bankapplikationen, kommt die Klasse `Decimal` vom Modul `decimal` zum Einsatz. "
   ]
  },
  {
   "cell_type": "markdown",
   "id": "03134927-0ddd-4d8d-b9cf-3bc1cd68fb7b",
   "metadata": {},
   "source": [
    "## Klassendefinition in Python files\n",
    "Python source files, z.B. `employees.py` können mehrere Klassendefinitionen enthalten.\n",
    "Wenn Sie diese in Ihrem Jupyter Notebook, oder in einem andereren Python Script verwenden wollen, können Sie diese Klassen importieren."
   ]
  },
  {
   "cell_type": "code",
   "execution_count": null,
   "id": "4843d920-f355-4763-ae3f-84edfaa9940e",
   "metadata": {},
   "outputs": [],
   "source": [
    "from employees import ComissionEmployee, SalariedComissionEmployee\n",
    "from decimal import Decimal"
   ]
  },
  {
   "cell_type": "code",
   "execution_count": null,
   "id": "486599b7-36da-424c-a774-04d97446fd89",
   "metadata": {},
   "outputs": [],
   "source": [
    "peter = ComissionEmployee('Peter Müller', Decimal('1_850_000.25'), Decimal('0.025'))\n",
    "print(f'{peter.earnings():,.2f}')"
   ]
  },
  {
   "cell_type": "code",
   "execution_count": null,
   "id": "8ab79467-3514-4a0d-8394-964c353cc225",
   "metadata": {},
   "outputs": [],
   "source": [
    "sarah = SalariedComissionEmployee('Sarah Andermatten', Decimal('1_850_000.25'), Decimal('0.02'), Decimal('20_000.00'))\n",
    "print(f'{sarah.earnings():,.2f}')"
   ]
  },
  {
   "cell_type": "markdown",
   "id": "24bb60fd-2881-4979-98ac-1aac7e6cb361",
   "metadata": {},
   "source": [
    "**Achtung**: Wenn Sie den Sourcecode im Python-File ändern, dann müssen Sie den Kernel neu starten und neu importieren."
   ]
  }
 ],
 "metadata": {
  "kernelspec": {
   "display_name": "Python 3 (ipykernel)",
   "language": "python",
   "name": "python3"
  },
  "language_info": {
   "codemirror_mode": {
    "name": "ipython",
    "version": 3
   },
   "file_extension": ".py",
   "mimetype": "text/x-python",
   "name": "python",
   "nbconvert_exporter": "python",
   "pygments_lexer": "ipython3",
   "version": "3.10.5"
  }
 },
 "nbformat": 4,
 "nbformat_minor": 5
}
