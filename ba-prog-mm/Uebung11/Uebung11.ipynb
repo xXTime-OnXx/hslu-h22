{
 "cells": [
  {
   "cell_type": "markdown",
   "metadata": {},
   "source": [
    "# Übung 11"
   ]
  },
  {
   "cell_type": "markdown",
   "metadata": {},
   "source": [
    "## Aufgabe 1\n",
    "a ) Erstellen Sie eine Datei `grades.txt` und schreiben Sie die folgenden drei Datensätze, bestehend aus Studenten-ID, Nachname und Note, in diese Datei.\n",
    "\n",
    "```\n",
    "1 Weber 5.5\n",
    "2 Meier 4.5\n",
    "3 Sanders 6.0\n",
    "```"
   ]
  },
  {
   "cell_type": "code",
   "execution_count": null,
   "metadata": {},
   "outputs": [],
   "source": []
  },
  {
   "cell_type": "markdown",
   "metadata": {},
   "source": [
    "b) Lesen Sie die Datei `grades.txt` und zeigen Sie sie in Spalten mit den Spaltenüberschriften 'ID', 'Name' und 'Note' an."
   ]
  },
  {
   "cell_type": "code",
   "execution_count": null,
   "metadata": {},
   "outputs": [],
   "source": []
  },
  {
   "cell_type": "markdown",
   "metadata": {},
   "source": [
    "## Aufgabe 2\n",
    "Aktualisieren Sie in der Datei `accounts.txt` den Nachnamen 'Doe' auf 'Smith'."
   ]
  },
  {
   "cell_type": "code",
   "execution_count": null,
   "metadata": {},
   "outputs": [],
   "source": []
  },
  {
   "cell_type": "markdown",
   "metadata": {},
   "source": [
    "## Aufgabe 3\n",
    "a) Serialisieren Sie das folgende Dictionary in die Datei `grades.json`:\n",
    "\n",
    "```python:\n",
    "grades_dict = {'gradesbook':\n",
    "    [{'ID': 1, 'Name': 'Weber', 'Note': '5.5'}, \n",
    "     {'ID': 2, 'Name': 'Meier', 'Note': '4.5'},\n",
    "     {'ID': 3, 'Name': 'Sanders', 'Note': '6.0'}]}\n",
    "```"
   ]
  },
  {
   "cell_type": "code",
   "execution_count": null,
   "metadata": {},
   "outputs": [],
   "source": []
  },
  {
   "cell_type": "markdown",
   "metadata": {},
   "source": [
    "b) Lesen Sie die Datei `grades.json` und zeigen Sie die JSON-Daten formatiert (pretty-printed)  an."
   ]
  },
  {
   "cell_type": "code",
   "execution_count": null,
   "metadata": {},
   "outputs": [],
   "source": []
  },
  {
   "cell_type": "markdown",
   "metadata": {},
   "source": [
    "## Aufgabe 4\n",
    "a) Erstellen Sie eine Datei `grades.csv` und schreiben Sie die folgenden drei Datensätze, bestehend aus Studenten-ID, Nachname und Note, in diese Datei.\n",
    "\n",
    "```\n",
    "1 Weber 5.5\n",
    "2 Meier 4.5\n",
    "3 Sanders 6.0\n",
    "```"
   ]
  },
  {
   "cell_type": "code",
   "execution_count": null,
   "metadata": {},
   "outputs": [],
   "source": []
  },
  {
   "cell_type": "markdown",
   "metadata": {},
   "source": [
    "b) Lesen Sie die Datei `grades.csv` und zeigen Sie sie in Spalten mit den Spaltenüberschriften 'ID', 'Name' und 'Note' an."
   ]
  },
  {
   "cell_type": "code",
   "execution_count": null,
   "metadata": {},
   "outputs": [],
   "source": []
  },
  {
   "cell_type": "markdown",
   "metadata": {},
   "source": [
    "## Aufgabe 5\n",
    "a) Ein Dozent unterrichtet eine Klasse, in der jeder Studierende drei Prüfungen ablegt. Der Dozent möchte diese Informationen zur späteren Verwendung in einer Datei mit dem Namen `grades2.csv` speichern. Schreiben Sie ein Skript, das es dem Dozenten ermöglicht, den Vor- und Nachnamen jedes Studierenden als String und die drei Prüfungsnoten des Studierenden als Fliesskommazahlen einzugeben. Verwenden Sie das `csv`-Modul, um jeden Datensatz in die Datei `grades2.csv` zu schreiben.\n",
    "Jeder Datensatz sollte aus einer einzigen Textzeile im folgenden CSV-Format bestehen:\n",
    "\n",
    "```\n",
    "    Vorname,Nachname,Note1,Note2,Note3\n",
    "```"
   ]
  },
  {
   "cell_type": "code",
   "execution_count": null,
   "metadata": {},
   "outputs": [],
   "source": []
  },
  {
   "cell_type": "markdown",
   "metadata": {},
   "source": [
    "b) Lesen Sie das File `grades2.csv` uns stellen Sie die Daten als Tabelle dar."
   ]
  },
  {
   "cell_type": "code",
   "execution_count": null,
   "metadata": {},
   "outputs": [],
   "source": []
  },
  {
   "cell_type": "markdown",
   "metadata": {},
   "source": [
    "## Aufgabe 6\n",
    "a) Bestimmen Sie vor der Ausführung des Codes, was die folgende Funktion anzeigt, wenn Sie sie mit dem Wert 10.7, dann mit dem Wert 'Python' und mit dem Wert 0 aufrufen.\n",
    "\n",
    "\n",
    "```python\n",
    "def try_it(value):\n",
    "    try:\n",
    "        x = int(value)\n",
    "        y = value / value\n",
    "    except ValueError:\n",
    "        print(f'{value} could not be converted to an integer')\n",
    "    else:\n",
    "        print(f'int({value}) is {int(value)}')\n",
    "```"
   ]
  },
  {
   "cell_type": "code",
   "execution_count": null,
   "metadata": {},
   "outputs": [],
   "source": []
  },
  {
   "cell_type": "markdown",
   "metadata": {},
   "source": [
    "b) Was müssen Sie im Fall von try_it(0) tun, damit Ihr Programm nicht unplanmässig beendet und ein Traceback geworfen wird?"
   ]
  },
  {
   "cell_type": "code",
   "execution_count": null,
   "metadata": {},
   "outputs": [],
   "source": []
  },
  {
   "cell_type": "markdown",
   "metadata": {},
   "source": [
    "## Aufgabe 7\n",
    "a) Schreiben Sie eine Datei `phone_numbers.txt`, die Datensätze mit folgenden Attributen enthält: Name, Telefonnummer.\n",
    "Verwenden Sie `print`-Statements, um die Datensätze einzufügen."
   ]
  },
  {
   "cell_type": "code",
   "execution_count": null,
   "metadata": {},
   "outputs": [],
   "source": []
  },
  {
   "cell_type": "markdown",
   "metadata": {},
   "source": [
    "b) Schreiben Sie ein Script, das den Inhalt der Datei `phone_numbers.txt` einliest und tabellarisch ausgibt."
   ]
  },
  {
   "cell_type": "code",
   "execution_count": null,
   "metadata": {},
   "outputs": [],
   "source": []
  },
  {
   "cell_type": "markdown",
   "metadata": {},
   "source": [
    "c) Versuchen Sie nun das File `phone_numberz.txt`, anstelle von `phone_numbers.txt` einzulesen und die Datensätze auszugeben."
   ]
  },
  {
   "cell_type": "code",
   "execution_count": null,
   "metadata": {},
   "outputs": [],
   "source": []
  },
  {
   "cell_type": "markdown",
   "metadata": {},
   "source": [
    "d) Stellen Sie mittels Ausnahmebehandlung sicher, dass Ihr Script nicht abgebrochen wird, wenn die Datei, die Sie referenzieren nicht gefunden wird."
   ]
  },
  {
   "cell_type": "markdown",
   "metadata": {},
   "source": [
    "# Aufgabe 8\n",
    "«Hangman» ist ein einfaches Buchstabenspiel. Häufig wird es von zwei Personen gespielt. Die erste, spieleröffnende Person überlegt sich ein längeres Wort, von dem jedoch lediglich der Anfangsbuchstabe hingeschrieben wird. Alle weiteren Buchstaben des angedachten Wortes werden durch Striche markiert. Die zweite Person muss nun das Wort erraten. Sie nennt nun in beliebiger Reihenfolge nacheinander einzelne Buchstaben des Alphabets. Die erste Person muss nun jeweils ansagen, wie oft und an welcher Stelle des gesuchten Wortes der genannte Buchstabe vorkommt. So ergibt sich nach und nach das gesuchte Wort. \n",
    "Kommt ein genannter Buchstabe nicht vor, wird das als Fehlversuch gewertet. Die ratende Person hat je nach Schwierigkeitsgrad etwa 10 bis 15 Fehlversuche zugute. Wird das gesuchte Wort bis dahin nicht erraten, hat die ratende Person das Spiel verloren, andernfalls gewonnen.\n",
    "Schreiben Sie ein «Hangman» Programm, wo der Spieler versucht, das vom Computer per Zufall gewählte Wort zu erraten. Der Computer liest dazu das gegebenes File \"words.txt\" ein, welches mehrere Wörter für das Spiel enthält, wählt ein Wort per Zufall aus und gibt das maskierte Wort, sowie die Eingabeaufforderug im Terminal aus.\n",
    "Der Spieler versucht nun das Wort zu erraten, wobei maximal 10 Fehlversuche erlaubt sind. Wird das Wort erraten, bevor die 10 Fehlversuche erreicht sind, hat der Spieler gewonnen, andernfalls verloren.\n",
    "\n",
    "\n",
    "Der Spielverlauf könnte beispielsweise wie folgt aussehen (Auszug aus dem Terminal):\n",
    "\n",
    "Beisiel 1:\n",
    "\n",
    "```\n",
    "F_____ \n",
    "\n",
    "Wählen Sie Ihr Zeichen:  e\n",
    "Fe__e_ \n",
    "\n",
    "Wählen Sie Ihr Zeichen:  m\n",
    "Ihre Wahl ist falsch.\n",
    "Fehlversuche: 1 of 10.\n",
    "\n",
    "Fe__e_ \n",
    "\n",
    "Wählen Sie Ihr Zeichen:  i\n",
    "Fe_ie_ \n",
    "\n",
    "Wählen Sie Ihr Zeichen:  r\n",
    "Ferie_ \n",
    "\n",
    "Wählen Sie Ihr Zeichen:  n\n",
    "Ferien \n",
    "\n",
    "Gratuliere, Sie haben gewonnen!\n",
    "Sie hatten 1 Fehlversuch.\n",
    "```\n",
    "\n",
    "Beispiel 2:\n",
    "\n",
    "```\n",
    "P______\n",
    "\n",
    "Wählen Sie Ihr Zeichen:  i\n",
    "P_____i \n",
    "\n",
    "Wählen Sie Ihr Zeichen:  e\n",
    "P____ei \n",
    "\n",
    "Wählen Sie Ihr Zeichen:  u\n",
    "Ihre Wahl ist falsch.\n",
    "Fehlversuche: 1 of 10.\n",
    "\n",
    "P____ei \n",
    "\n",
    "Wählen Sie Ihr Zeichen:  n\n",
    "Ihre Wahl ist falsch.\n",
    "Fehlversuche: 2 of 10.\n",
    "\n",
    ". . .\n",
    "\n",
    "Wählen Sie Ihr Zeichen:  m\n",
    "Ihre Wahl ist falsch.\n",
    "Fehlversuche: 10 of 10.\n",
    "\n",
    "Sie haben verloren!\n",
    "Das gesuchte Wort wäre Papagei gewesen.\n",
    "```"
   ]
  },
  {
   "cell_type": "code",
   "execution_count": null,
   "metadata": {},
   "outputs": [],
   "source": []
  }
 ],
 "metadata": {
  "kernelspec": {
   "display_name": "Python 3.10.5 64-bit",
   "language": "python",
   "name": "python3"
  },
  "language_info": {
   "codemirror_mode": {
    "name": "ipython",
    "version": 3
   },
   "file_extension": ".py",
   "mimetype": "text/x-python",
   "name": "python",
   "nbconvert_exporter": "python",
   "pygments_lexer": "ipython3",
   "version": "3.10.5"
  },
  "vscode": {
   "interpreter": {
    "hash": "aee8b7b246df8f9039afb4144a1f6fd8d2ca17a180786b69acc140d282b71a49"
   }
  }
 },
 "nbformat": 4,
 "nbformat_minor": 4
}
