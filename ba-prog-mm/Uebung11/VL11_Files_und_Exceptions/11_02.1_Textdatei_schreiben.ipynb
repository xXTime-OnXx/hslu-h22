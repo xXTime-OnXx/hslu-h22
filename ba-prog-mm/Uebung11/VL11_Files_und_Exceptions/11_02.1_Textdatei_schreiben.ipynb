{
 "cells": [
  {
   "cell_type": "markdown",
   "id": "b944dc04",
   "metadata": {},
   "source": [
    "# 11.2.1 Schreiben in eine Textdatei\n",
    "Wir erstellen eine einfache Textdatei, die die Datensätze eines Debitorenbuchhaltungssystems enthält.\n",
    "\n",
    "<br>\n",
    "\n",
    "Für jeden Kunden werden folgende Daten gespeichert:\n",
    "   * Kontonummer\n",
    "   * Nachname\n",
    "   * Kontostand"
   ]
  },
  {
   "cell_type": "code",
   "execution_count": null,
   "id": "7fb5dcf4",
   "metadata": {},
   "outputs": [],
   "source": [
    "with open('accounts.txt', mode='w') as accounts:\n",
    "    # Variant 1: using the write function\n",
    "    accounts.write('100 Jones 24.98\\n')\n",
    "    accounts.write('200 Doe 345.67\\n')\n",
    "    accounts.write('300 White 0.00\\n')\n",
    "    \n",
    "    # Variant 2: using the print function\n",
    "    print('400 Stone -42.16', file=accounts)\n",
    "    print('500 Rich 224.62', file=accounts)"
   ]
  },
  {
   "cell_type": "markdown",
   "id": "6959d5b4",
   "metadata": {},
   "source": [
    "Wir können auch mit der `print`-Fuktion in ein File schreiben. In diesem Fall wird automatisch der Zeilenumbruch `\\n` eingefügt."
   ]
  },
  {
   "cell_type": "code",
   "execution_count": null,
   "id": "7512fa30",
   "metadata": {},
   "outputs": [],
   "source": [
    "# macOS/Linux Users: View file contents\n",
    "!cat accounts.txt"
   ]
  },
  {
   "cell_type": "code",
   "execution_count": null,
   "id": "781b26e4",
   "metadata": {},
   "outputs": [],
   "source": [
    "# Windows Users: View file contents\n",
    "!more accounts.txt"
   ]
  },
  {
   "cell_type": "markdown",
   "id": "19459972",
   "metadata": {},
   "source": [
    "Viele Anwendungen nutzen Ressourcen, z. B. Dateien, Netzwerkverbindungen, Datenbankverbindungen, etc. Die Ressourcen sollten _freigeben_ werden, sobald sie nicht mehr benötigt werden. Das stellt sicher, dass andere Anwendungen die Ressourcen nutzen können.\n",
    "\n",
    "### `with` Anweisung \n",
    " * Bezieht eine Ressource und weist das Resourcenobjekt einer Variablen zu;\n",
    " * Erlaubt der Anwendung, die Ressource über diese Variable zu verwenden;\n",
    " * Ruft die **`close`-Methode** des Ressourcenobjekts implizit auf, um die Ressource wieder freizugeben."
   ]
  },
  {
   "cell_type": "markdown",
   "id": "e38571ca",
   "metadata": {},
   "source": [
    "### Funktion `open` \n",
    "* Öffnet die Datei `accounts.txt` und ordnet sie einem Dateiobjekt zu;\n",
    "* Das Argument `mode` spezifiziert den **file-open mode**, d.h. ob eine Datei zum Lesen aus der Datei, zum Schreiben in die Datei oder für beides geöffnet werden soll; \n",
    "* Modus `w` öffnet die Datei zum _Schreiben_ und erzeugt die Datei, wenn sie nicht existiert;\n",
    "* Wenn Sie keinen Pfad zu der Datei angeben, legt Python sie im aktuellen Ordner an;\n",
    "* **Seien Sie vorsichtig** - Öffnen einer Datei zum Schreiben **_löscht_** alle vorhandenen Daten in der Datei;\n",
    "* Gemäss Konvention bezeichnet die Dateierweiterung **`.txt`** eine reine Textdatei."
   ]
  },
  {
   "cell_type": "markdown",
   "id": "e143a4f0",
   "metadata": {},
   "source": [
    "### Schreiben in eine Datei \n",
    "* Die `with`- Anweisung weist das von `open` zurückgegebene Objekt der Variablen `accounts` zu;\n",
    "* Die Suite der `with`- Anweisungen benutzt die Variable `accounts`, um mit der Datei zu interagieren;\n",
    "* Die **`write`- Methode** des Dateiobjekts schreibt einen Datensatz nach dem anderen in die Datei;\n",
    "* Am Ende der Suite der `with`-Anweisung ruft die `with`-Anweisung _implizit_ die **`close`**-Methode des Dateiobjekts auf, um die Datei zu schliessen."
   ]
  }
 ],
 "metadata": {
  "kernelspec": {
   "display_name": "Python 3.10.5 64-bit",
   "language": "python",
   "name": "python3"
  },
  "language_info": {
   "codemirror_mode": {
    "name": "ipython",
    "version": 3
   },
   "file_extension": ".py",
   "mimetype": "text/x-python",
   "name": "python",
   "nbconvert_exporter": "python",
   "pygments_lexer": "ipython3",
   "version": "3.10.5"
  },
  "vscode": {
   "interpreter": {
    "hash": "aee8b7b246df8f9039afb4144a1f6fd8d2ca17a180786b69acc140d282b71a49"
   }
  }
 },
 "nbformat": 4,
 "nbformat_minor": 5
}
