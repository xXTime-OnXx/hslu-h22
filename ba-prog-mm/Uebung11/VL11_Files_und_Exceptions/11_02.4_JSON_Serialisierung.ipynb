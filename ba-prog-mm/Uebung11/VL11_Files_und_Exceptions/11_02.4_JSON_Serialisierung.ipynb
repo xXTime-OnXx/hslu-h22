{
 "cells": [
  {
   "cell_type": "markdown",
   "id": "0e56bc6d",
   "metadata": {},
   "source": [
    "# 11.2.4 Serialisierung mit JSON\n",
    "* **JSON (JavaScript Object Notation)** ist ein textbasiertes, von Menschen und Computern lesbares Datenaustauschformat, das zur Darstellung von Objekten als Sammlungen von Name-Wert-Paaren verwendet wird. \n",
    "* Das ist das bevorzugte Datenformat für die plattformübergreifende Übertragung von Objekten. "
   ]
  },
  {
   "cell_type": "markdown",
   "id": "9b09bd72",
   "metadata": {},
   "source": [
    "### JSON Datenformat \n",
    "* Ähnlich wie Python-Dictionaries\n",
    "* Jedes JSON-Objekt enthält eine durch Kommas getrennte Liste von **Eigenschaftsnamen** und **Werten**, in geschweiften Klammern: \n",
    "    > ```Python\n",
    "    {\"account\": 100, \"name\": \"Jones\", \"balance\": 24.98}\n",
    "    ```\n",
    "* JSON-Arrays sind, wie Python-Listen, kommagetrennte Werte in eckigen Klammern: \n",
    "    > ```Python\n",
    "    [100, 200, 300]\n",
    "    ```\n",
    "* JSON-Objekten und -Arrays können folgende Werte enthalten: \n",
    "    * **Strings** in **doppelten Anführungszeichen**;\n",
    "    * **Zahlen**;\n",
    "    * Boolesche JSON-Werte **`true`** oder **`false`**;\n",
    "    * **`null`** (wie `None` in Python);\n",
    "    * **arrays**  (wie Listen in Python); \n",
    "    * andere **JSON-Objekte**."
   ]
  },
  {
   "cell_type": "markdown",
   "id": "a461de26",
   "metadata": {},
   "source": [
    "### Python Standard Library Modul `json` \n",
    "Mit dem Modul **`json`** können Sie Objekte in das Textformat JSON (JavaScript Object Notation) konvertieren. Das ist bekannt als **Serialisierung** der Daten.\n"
   ]
  },
  {
   "cell_type": "markdown",
   "id": "41d11816",
   "metadata": {},
   "source": [
    "### Serialisierung eines Objekts zu JSON\n",
    "Gegeben das folgende Dictionary:"
   ]
  },
  {
   "cell_type": "code",
   "execution_count": null,
   "id": "1a6052cc",
   "metadata": {},
   "outputs": [],
   "source": [
    "accounts_dict = {'accounts': [\n",
    "    {'account': 100, 'name': 'Jones', 'balance': 24.98},\n",
    "    {'account': 200, 'name': 'Doe', 'balance': 345.67}]}"
   ]
  },
  {
   "cell_type": "markdown",
   "id": "2b79b111",
   "metadata": {},
   "source": [
    "Das Dictionary wird nun serialisiert, d.h. in eine JSON Datei geschrieben:"
   ]
  },
  {
   "cell_type": "code",
   "execution_count": null,
   "id": "b96c254a",
   "metadata": {},
   "outputs": [],
   "source": [
    "import json"
   ]
  },
  {
   "cell_type": "code",
   "execution_count": null,
   "id": "484a541c",
   "metadata": {},
   "outputs": [],
   "source": [
    "with open('accounts.json', 'w') as accounts:\n",
    "    json.dump(accounts_dict, accounts)"
   ]
  },
  {
   "cell_type": "markdown",
   "id": "3766df6d",
   "metadata": {},
   "source": [
    "Die Funktion **`dump`** des Moduls **`json`** serialisiert das Dictionary `accounts_dict` in die Datei `accounts` (i.e., accounts.json)"
   ]
  },
  {
   "cell_type": "code",
   "execution_count": null,
   "id": "c5f8b2ed",
   "metadata": {},
   "outputs": [],
   "source": [
    "# macOS/Linux Users: View file contents\n",
    "!cat accounts.json"
   ]
  },
  {
   "cell_type": "code",
   "execution_count": null,
   "id": "affbb18d",
   "metadata": {},
   "outputs": [],
   "source": [
    "# Windows Users: View file contents\n",
    "!more accounts.json"
   ]
  },
  {
   "cell_type": "markdown",
   "id": "c63ae7e4",
   "metadata": {},
   "source": [
    "Die resultierende Datei enthält den folgenden Text, der hier zwecks lesbarkeit etwas formatiert wurde: \n",
    "\n",
    "  ```python\n",
    "  {\"accounts\": \n",
    "    [{\"account\": 100, \"name\": \"Jones\", \"balance\": 24.98}, \n",
    "    {\"account\": 200, \"name\": \"Doe\", \"balance\": 345.67}]}\n",
    "  ```\n",
    "JSON grenzt Strings mit doppelten Anführungszeichen ab.\n",
    "\n"
   ]
  }
 ],
 "metadata": {
  "kernelspec": {
   "display_name": "Python 3.10.5 64-bit",
   "language": "python",
   "name": "python3"
  },
  "language_info": {
   "codemirror_mode": {
    "name": "ipython",
    "version": 3
   },
   "file_extension": ".py",
   "mimetype": "text/x-python",
   "name": "python",
   "nbconvert_exporter": "python",
   "pygments_lexer": "ipython3",
   "version": "3.10.7"
  },
  "vscode": {
   "interpreter": {
    "hash": "aee8b7b246df8f9039afb4144a1f6fd8d2ca17a180786b69acc140d282b71a49"
   }
  }
 },
 "nbformat": 4,
 "nbformat_minor": 5
}
