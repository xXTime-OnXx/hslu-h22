{
 "cells": [
  {
   "cell_type": "markdown",
   "id": "92e71f8f",
   "metadata": {},
   "source": [
    "# 11.2.5 Deserialisierung einer JSON Datei\n",
    "Die **`load`-Funktion** des `json`-Moduls liest den gesamten JSON-Inhalt seines Dateiobjekt-Arguments und wandelt  JSON in ein Python-Objekt um. Das ist bekannt als **Deserialisierung** der Daten."
   ]
  },
  {
   "cell_type": "code",
   "execution_count": null,
   "id": "77911209",
   "metadata": {},
   "outputs": [],
   "source": [
    "import json"
   ]
  },
  {
   "cell_type": "code",
   "execution_count": null,
   "id": "bef29844",
   "metadata": {},
   "outputs": [],
   "source": [
    "with open('accounts.json', 'r') as accounts:\n",
    "    accounts_json = json.load(accounts)"
   ]
  },
  {
   "cell_type": "code",
   "execution_count": null,
   "id": "e205c9ea",
   "metadata": {},
   "outputs": [],
   "source": [
    "accounts_json"
   ]
  },
  {
   "cell_type": "code",
   "execution_count": null,
   "id": "4b5c0241",
   "metadata": {},
   "outputs": [],
   "source": [
    "type(accounts_json)"
   ]
  },
  {
   "cell_type": "code",
   "execution_count": null,
   "id": "cc2d13bc",
   "metadata": {},
   "outputs": [],
   "source": [
    "accounts_json['accounts']"
   ]
  },
  {
   "cell_type": "code",
   "execution_count": null,
   "id": "dd180ad5",
   "metadata": {},
   "outputs": [],
   "source": [
    "accounts_json['accounts'][0]"
   ]
  },
  {
   "cell_type": "code",
   "execution_count": null,
   "id": "28ed49ea",
   "metadata": {},
   "outputs": [],
   "source": [
    "accounts_json['accounts'][1]"
   ]
  },
  {
   "cell_type": "markdown",
   "id": "2393feab",
   "metadata": {},
   "source": [
    "### Anzeigen eines Python Strings im JSON Format "
   ]
  },
  {
   "cell_type": "markdown",
   "id": "3088dab9",
   "metadata": {},
   "source": [
    "Die Funktion **`dumps`** des `json`-Moduls gibt eine Python-String-Repräsentation eines Objekts im JSON-Format zurück. `dumps` ist die Abkürzung für \"**dump string**\"."
   ]
  },
  {
   "cell_type": "code",
   "execution_count": null,
   "id": "dee6da75",
   "metadata": {},
   "outputs": [],
   "source": [
    "json.dumps(accounts_json)"
   ]
  },
  {
   "cell_type": "markdown",
   "id": "ba1f1a8c",
   "metadata": {},
   "source": [
    "#### Pretty Printing\n",
    "Mit dem Aufruf des `indent`-Schlüsselwortarguments werden Zeilenumbrüche und Einrückungen für eine schöne Druckausgabe im resultierenden String erzeugt."
   ]
  },
  {
   "cell_type": "code",
   "execution_count": null,
   "id": "e1f2964e",
   "metadata": {},
   "outputs": [],
   "source": [
    "print(json.dumps(accounts_json, indent=4))"
   ]
  },
  {
   "cell_type": "markdown",
   "id": "90fc846e",
   "metadata": {},
   "source": [
    "\n",
    "`indent` kann direkt beim Lesen der Datei verwendet werden:"
   ]
  },
  {
   "cell_type": "code",
   "execution_count": null,
   "id": "e33e91d1",
   "metadata": {},
   "outputs": [],
   "source": [
    "with open('accounts.json', mode='r') as accounts:\n",
    "    print(json.dumps(json.load(accounts), indent=4))"
   ]
  },
  {
   "cell_type": "markdown",
   "id": "1c48b1f7",
   "metadata": {},
   "source": [
    "\n",
    "`indent` kann auch mit der `dump`-Funktion verwenden, wenn in eine Datei geschrieben wird."
   ]
  },
  {
   "cell_type": "code",
   "execution_count": null,
   "id": "bd67b48e",
   "metadata": {},
   "outputs": [],
   "source": [
    "with open('accounts_formatted.json', mode='w') as af:\n",
    "    json.dump(accounts_json, af, indent=4)"
   ]
  },
  {
   "cell_type": "code",
   "execution_count": null,
   "id": "47f52657",
   "metadata": {},
   "outputs": [],
   "source": [
    "# macOS/Linux Users: View file contents\n",
    "!cat accounts_formatted.json"
   ]
  },
  {
   "cell_type": "code",
   "execution_count": null,
   "id": "c6087b42",
   "metadata": {},
   "outputs": [],
   "source": [
    "# Windows Users: View file contents\n",
    "!more accounts_formatted.json"
   ]
  }
 ],
 "metadata": {
  "kernelspec": {
   "display_name": "Python 3.10.5 64-bit",
   "language": "python",
   "name": "python3"
  },
  "language_info": {
   "codemirror_mode": {
    "name": "ipython",
    "version": 3
   },
   "file_extension": ".py",
   "mimetype": "text/x-python",
   "name": "python",
   "nbconvert_exporter": "python",
   "pygments_lexer": "ipython3",
   "version": "3.10.7"
  },
  "vscode": {
   "interpreter": {
    "hash": "aee8b7b246df8f9039afb4144a1f6fd8d2ca17a180786b69acc140d282b71a49"
   }
  }
 },
 "nbformat": 4,
 "nbformat_minor": 5
}
