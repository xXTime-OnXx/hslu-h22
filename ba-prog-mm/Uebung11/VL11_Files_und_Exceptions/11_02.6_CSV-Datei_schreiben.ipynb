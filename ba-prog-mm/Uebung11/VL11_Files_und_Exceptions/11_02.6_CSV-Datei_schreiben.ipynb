{
 "cells": [
  {
   "cell_type": "markdown",
   "id": "8a8a11db",
   "metadata": {},
   "source": [
    "# 11.2.6 Schreiben in eine CSV Datei\n",
    "* Das Modul **`csv`** bietet Funktionen für die Arbeit mit CSV-Dateien.\n",
    "* Die Dokumentation des `csv`-Moduls empfiehlt, CSV-Dateien mit dem zusätzlichen Schlüsselwortargument `newline=''` zu öffnen, um sicherzustellen, dass Zeilenumbrüche korrekt verarbeitet werden."
   ]
  },
  {
   "cell_type": "code",
   "execution_count": null,
   "id": "1b360f49",
   "metadata": {},
   "outputs": [],
   "source": [
    "import csv"
   ]
  },
  {
   "cell_type": "code",
   "execution_count": null,
   "id": "bd081b73",
   "metadata": {},
   "outputs": [],
   "source": [
    "with open('accounts.csv', mode='w', newline='') as accounts:\n",
    "    writer = csv.writer(accounts)\n",
    "    writer.writerow([100, 'Jones', 24.98])\n",
    "    writer.writerow([200, 'Doe', 345.67])\n",
    "    writer.writerow([300, 'White', 0.00])\n",
    "    writer.writerow([400, 'Stone', -42.16])\n",
    "    writer.writerow([500, 'Rich', 224.62])"
   ]
  },
  {
   "cell_type": "markdown",
   "id": "10ae0d69",
   "metadata": {},
   "source": [
    "* Die Dateierweiterung `.csv` bezeichnet eine Datei im CSV-Formt.\n",
    "* Die Funktion `writer` gibt ein Objekt zurück, das CSV-Daten in das angegebene Dateiobjekt schreibt.\n",
    "* Die `writerow` Methode erhält ein iterierbares Objekt (in unserem Fall eine Liste) zum speichern der Daten in der Datei.\n",
    "* Standardmässig trennt `writerow` Werte mit Kommas ab, aber sie können benuterdefinierte Trennzeichen angeben."
   ]
  },
  {
   "cell_type": "code",
   "execution_count": null,
   "id": "500af19d",
   "metadata": {},
   "outputs": [],
   "source": [
    "# macOS/Linux Users: View file contents\n",
    "!cat accounts.csv"
   ]
  },
  {
   "cell_type": "code",
   "execution_count": null,
   "id": "1dfdb606",
   "metadata": {},
   "outputs": [],
   "source": [
    "# Windows Users: View file contents\n",
    "!more accounts.csv"
   ]
  },
  {
   "cell_type": "markdown",
   "id": "d14c8620",
   "metadata": {},
   "source": [
    "### Methode `writewrows`\n",
    "Die obigen `writerow`-Aufrufe können durch einen **`writerows`**-Aufruf ersetzt werden, der eine durch Komma getrennte Liste von iterierbaren Objekten enthält, der die Datensätze representieren."
   ]
  },
  {
   "cell_type": "code",
   "execution_count": null,
   "id": "294a8143",
   "metadata": {},
   "outputs": [],
   "source": [
    "records = [[100, 'Jones', 24.98],\n",
    "           [200, 'Doe', 345.67], \n",
    "           [300, 'White', 0.00]]\n",
    "\n",
    "with open('accounts2.csv', 'w', newline='') as accounts:  \n",
    "    writer = csv.writer(accounts)\n",
    "    writer.writerows(records)"
   ]
  },
  {
   "cell_type": "code",
   "execution_count": null,
   "id": "19954a67",
   "metadata": {},
   "outputs": [],
   "source": [
    "# macOS/Linux Users: View file contents\n",
    "!cat accounts2.csv"
   ]
  },
  {
   "cell_type": "code",
   "execution_count": null,
   "id": "4c1ec0a8",
   "metadata": {},
   "outputs": [],
   "source": [
    "# Windows Users: View file contents\n",
    "!more accounts2.csv"
   ]
  },
  {
   "cell_type": "markdown",
   "id": "6bc3d3bb",
   "metadata": {},
   "source": [
    "### Schreiben von Zeichenketten, die Kommas enthalten\n",
    "Wenn Sie Daten schreiben, die Kommas in einer gegebenen Zeichenkette enthalten, schliesst `writerow` diese Zeichenkette in doppelte Anführungszeichen ein, um einen _einzigen_ Wert anzugeben."
   ]
  },
  {
   "cell_type": "code",
   "execution_count": null,
   "id": "69e94412",
   "metadata": {},
   "outputs": [],
   "source": [
    "with open('accounts3.csv', 'w', newline='') as accounts:\n",
    "    writer = csv.writer(accounts)\n",
    "    writer.writerow([100, 'Muster, Hans', 0.00])"
   ]
  },
  {
   "cell_type": "code",
   "execution_count": null,
   "id": "53c8754c",
   "metadata": {},
   "outputs": [],
   "source": [
    "# macOS/Linux Users: View file contents\n",
    "!cat accounts3.csv"
   ]
  },
  {
   "cell_type": "code",
   "execution_count": null,
   "id": "262d40a7",
   "metadata": {},
   "outputs": [],
   "source": [
    "# Windows Users: View file contents\n",
    "!more accounts3.csv"
   ]
  }
 ],
 "metadata": {
  "kernelspec": {
   "display_name": "Python 3.10.5 64-bit",
   "language": "python",
   "name": "python3"
  },
  "language_info": {
   "codemirror_mode": {
    "name": "ipython",
    "version": 3
   },
   "file_extension": ".py",
   "mimetype": "text/x-python",
   "name": "python",
   "nbconvert_exporter": "python",
   "pygments_lexer": "ipython3",
   "version": "3.10.5"
  },
  "vscode": {
   "interpreter": {
    "hash": "aee8b7b246df8f9039afb4144a1f6fd8d2ca17a180786b69acc140d282b71a49"
   }
  }
 },
 "nbformat": 4,
 "nbformat_minor": 5
}
