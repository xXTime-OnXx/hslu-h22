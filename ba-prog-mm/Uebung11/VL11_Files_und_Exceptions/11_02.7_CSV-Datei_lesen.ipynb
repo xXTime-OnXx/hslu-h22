{
 "cells": [
  {
   "cell_type": "markdown",
   "id": "24f28f81",
   "metadata": {},
   "source": [
    "# 11.2.7 Lesen aus einer CSV-Datei"
   ]
  },
  {
   "cell_type": "code",
   "execution_count": null,
   "id": "06dbd582",
   "metadata": {},
   "outputs": [],
   "source": [
    "import csv"
   ]
  },
  {
   "cell_type": "code",
   "execution_count": null,
   "id": "ced5fd6e",
   "metadata": {},
   "outputs": [],
   "source": [
    "with open('accounts.csv', 'r', newline='') as accounts:\n",
    "    print(f'{\"Account\":<10}{\"Name\":<10}{\"Balance\":>10}')\n",
    "    \n",
    "    reader = csv.reader(accounts)\n",
    "    for record in reader:\n",
    "        account, name, balance = record\n",
    "        print(f'{account:<10}{name:<10}{balance:>10}')"
   ]
  },
  {
   "cell_type": "markdown",
   "id": "cf9c5e7a",
   "metadata": {},
   "source": [
    "* Die Funktion `reader` des `csv`-Moduls gibt ein Objekt zurück, das Daten im CSV-Format aus dem gegebenen Dateiobjekt liest.\n",
    "* Das `reader`-Objekt ist iterierbar, d.h. es kann Datensatz für Datensatz gelesen werden."
   ]
  }
 ],
 "metadata": {
  "kernelspec": {
   "display_name": "Python 3.10.5 64-bit",
   "language": "python",
   "name": "python3"
  },
  "language_info": {
   "codemirror_mode": {
    "name": "ipython",
    "version": 3
   },
   "file_extension": ".py",
   "mimetype": "text/x-python",
   "name": "python",
   "nbconvert_exporter": "python",
   "pygments_lexer": "ipython3",
   "version": "3.10.5"
  },
  "vscode": {
   "interpreter": {
    "hash": "aee8b7b246df8f9039afb4144a1f6fd8d2ca17a180786b69acc140d282b71a49"
   }
  }
 },
 "nbformat": 4,
 "nbformat_minor": 5
}
