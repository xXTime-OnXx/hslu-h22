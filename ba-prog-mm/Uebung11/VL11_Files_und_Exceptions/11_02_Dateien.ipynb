{
 "cells": [
  {
   "cell_type": "markdown",
   "id": "03904a66",
   "metadata": {},
   "source": [
    "# 11.2 Dateien \n",
    "* Eine **Textdatei** ist eine **Folge von Zeichen**.\n",
    "* Eine **Binärdatei** (für Bilder, Videos und mehr) ist eine **Folge von Bytes**.\n",
    "* Das erste Zeichen in einer Textdatei oder das erste Byte in einer Binärdatei befindet sich an Position 0. In einer Datei mit **_n_** Zeichen oder Bytes ist daher die höchste Positionsnummer **_n_ - 1**.\n",
    "* Für jede Datei, die Sie **öffnen**, erzeugt Python ein **Dateiobjekt**, das Sie zur Interaktion mit der Datei verwenden."
   ]
  },
  {
   "cell_type": "markdown",
   "id": "9532bc23",
   "metadata": {},
   "source": [
    "### Textdatei\n",
    "<img src=\"img/text_file.png\" alt=\"Conceptual view of a file\" width=\"550\">"
   ]
  },
  {
   "cell_type": "markdown",
   "id": "bbda1f7b",
   "metadata": {},
   "source": [
    "### Binärdatei\n",
    "<img src=\"img/binary_file.png\" alt=\"Conceptual view of a file\" width=\"550\">"
   ]
  },
  {
   "cell_type": "markdown",
   "id": "85ce51f2",
   "metadata": {},
   "source": [
    "### Dateiende (End of File)\n",
    "Jedes Betriebssystem stellt einen Mechanismus zur Verfügung, um das Ende einer Datei zu kennzeichnen:\n",
    "* Einige verwenden eine Dateiende-Markierung;\n",
    "* Andere verwenden eine Zählung der gesamten Zeichen oder Bytes in der Datei.\n",
    "\n",
    "Programmiersprachen verbergen diese Betriebssystemdetails vor Ihnen."
   ]
  },
  {
   "cell_type": "markdown",
   "id": "75639ecb",
   "metadata": {},
   "source": [
    "### Standard-Dateiobjekte\n",
    "Wenn ein Python-Programm die Ausführung beginnt, erzeugt es drei **Standard-Dateiobjekte**:\n",
    "* **`sys.stdin`** — das **Standardeingabe-Dateiobjekt**\n",
    "* **`sys.stdout`** — das **Standardausgabe-Dateiobjekt**, und \n",
    "* **`sys.stderr`** — das **Standardfehler-Dateiobjekt**. \n",
    "\n",
    "<br>\n",
    "\n",
    "Die Funktion **`input`** benutzt **implizit** **`sys.stdin`**, um Benutzereingaben von der Tastatur zu erhalten.\n",
    "\n",
    "Die Funktion **`print`** gibt **implizit** an **`sys.stdout`** aus, das in der Kommandozeile erscheint.\n",
    "\n",
    "Python gibt **Programmfehler** und den Traceback **implizit** an **`sys.stderr`** aus.\n",
    "\n",
    "Importieren Sie das **`sys`-Modul**, wenn Sie in Ihrem Code **explizit** auf diese Objekte verweisen müssen. Dies ist jedoch selten der Fall."
   ]
  }
 ],
 "metadata": {
  "kernelspec": {
   "display_name": "Python 3.10.5 64-bit",
   "language": "python",
   "name": "python3"
  },
  "language_info": {
   "codemirror_mode": {
    "name": "ipython",
    "version": 3
   },
   "file_extension": ".py",
   "mimetype": "text/x-python",
   "name": "python",
   "nbconvert_exporter": "python",
   "pygments_lexer": "ipython3",
   "version": "3.10.7"
  },
  "vscode": {
   "interpreter": {
    "hash": "aee8b7b246df8f9039afb4144a1f6fd8d2ca17a180786b69acc140d282b71a49"
   }
  }
 },
 "nbformat": 4,
 "nbformat_minor": 5
}
