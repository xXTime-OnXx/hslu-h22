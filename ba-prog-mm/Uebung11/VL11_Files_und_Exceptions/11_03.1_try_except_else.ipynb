{
 "cells": [
  {
   "cell_type": "markdown",
   "id": "d286f1fe",
   "metadata": {},
   "source": [
    "# 11.3.1 Behandlung von Exceptions\n",
    "Exceptions können beim Auftreten durch Verwendung von `try`-Anweisungen und `except`-Klauseln behandelt werden.\n",
    "\n",
    "Der folgende Code implementiert eine Ausnahmebehandlung, um alle in diesem Fall auftretenden ZeroDivisionError's und ValueError's abzufangen und zu behandeln. Dies ermöglicht dem Benutzer, die Eingabe erneut einzugeben.\n"
   ]
  },
  {
   "cell_type": "code",
   "execution_count": null,
   "id": "da01eb9c",
   "metadata": {},
   "outputs": [],
   "source": [
    "\"\"\"Simple exception handling example.\"\"\"\n",
    "\n",
    "while True:\n",
    "    # attempt to convert and divide values\n",
    "    try:\n",
    "        number1 = int(input('Enter numerator: '))\n",
    "        number2 = int(input('Enter denominator: '))\n",
    "        result = number1 / number2\n",
    "    except ValueError:  # tried to convert non-numeric value to int\n",
    "        print('You must enter two integers\\n')\n",
    "    except ZeroDivisionError:  # denominator was 0\n",
    "        print('Attempted to divide by zero\\n')\n",
    "    else:  # executes only if no exceptions occur\n",
    "        print(f'{number1:.3f} / {number2:.3f} = {result:.3f}')\n",
    "        break  # terminate the loop"
   ]
  },
  {
   "cell_type": "markdown",
   "id": "38f2add5",
   "metadata": {},
   "source": [
    "### `try` Anweisung\n",
    "* Die `try`-Anweisungen ermöglichen die Ausnahmebehandlung;\n",
    "* Tritt in der Suite der `try`-Anweisung eine Ausnahme auf, dann kann sie duch eine der folgenden `except`-Klauseln behandelt werden."
   ]
  },
  {
   "cell_type": "markdown",
   "id": "22a1f61a",
   "metadata": {},
   "source": [
    "### `except` Klausel\n",
    "* Die `try`-Suite kann von einer oder mehreren `except`-Klauseln gefolgt werden;\n",
    "* Bekannt als **_exception handlers_**;\n",
    "* Jede `except`-Klausel gibt den **Typ der Ausnahme** an, die sie behandelt."
   ]
  },
  {
   "cell_type": "markdown",
   "id": "83f05c48",
   "metadata": {},
   "source": [
    "### `else` Klausel\n",
    "* Nach der letzten `except`-Klausel spezifiziert eine **optionale** `else`-Klausel Code, der nur dann ausgeführt wird, wenn der Code in der **`try`-Suite keine Exceptions ausgelöst hat**\n"
   ]
  },
  {
   "cell_type": "markdown",
   "id": "1c441530",
   "metadata": {},
   "source": [
    "###  Kontrollfluss beim Auftreten einer Ausnahme\n",
    "* Der Punkt im Programm, an dem eine Ausnahme auftritt, wird oft als **raise point** bezeichnet.\n",
    "* Wenn eine Ausnahme in einer `try`-Suite auftritt, wird die `try`-Suite sofort beendet.\n",
    "* Wenn auf die `try`-Suite `except`-Handler folgen, geht die Programmsteuerung auf den ersten über, der die Ausnahme behandeln kann.\n",
    "* Wenn es keinen `except` Handler für die aufgetretene Ausnahme gibt, findet ein Prozess namens **stack unwinding** statt (wird später besprochen).\n",
    "* Wenn eine `except`-Klausel die Ausnahme erfolgreich behandelt hat, wird die Programmausführung mit der `finally`-Klausel (falls es eine gibt) und dann mit der nächsten Anweisung nach der `try`-Anweisung fortgesetzt."
   ]
  },
  {
   "cell_type": "markdown",
   "id": "d1b31b10",
   "metadata": {},
   "source": [
    "###  Kontrollfluss für eine erfolgreiche Division \n",
    "* Wenn in der `try`-Suite keine Ausnahmen auftreten, wird die Programmausführung mit der `else`-Klausel fortgesetzt (falls es eine gibt); andernfalls wird die Programmausführung mit der nächsten Anweisung nach der `try`-Anweisung fortgesetzt."
   ]
  }
 ],
 "metadata": {
  "kernelspec": {
   "display_name": "Python 3 (ipykernel)",
   "language": "python",
   "name": "python3"
  },
  "language_info": {
   "codemirror_mode": {
    "name": "ipython",
    "version": 3
   },
   "file_extension": ".py",
   "mimetype": "text/x-python",
   "name": "python",
   "nbconvert_exporter": "python",
   "pygments_lexer": "ipython3",
   "version": "3.10.1"
  }
 },
 "nbformat": 4,
 "nbformat_minor": 5
}
