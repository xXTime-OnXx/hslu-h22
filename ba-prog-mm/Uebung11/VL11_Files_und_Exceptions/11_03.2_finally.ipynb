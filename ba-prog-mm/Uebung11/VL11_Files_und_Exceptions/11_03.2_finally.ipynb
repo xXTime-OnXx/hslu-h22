{
 "cells": [
  {
   "cell_type": "markdown",
   "id": "136d30cc",
   "metadata": {},
   "source": [
    "# 11.3.2 `finally` Klausel\n",
    "* Eine `try`-Anweisung kann als letzte Klausel eine `finally`-Klausel haben;\n",
    "* Die `finally` Klausel **wird in jedem Fall ausgeführt**."
   ]
  },
  {
   "cell_type": "markdown",
   "id": "afab881f",
   "metadata": {},
   "source": [
    "### Beispiel 1: keine Exception"
   ]
  },
  {
   "cell_type": "code",
   "execution_count": null,
   "id": "6f9a000a",
   "metadata": {},
   "outputs": [],
   "source": [
    "try:\n",
    "    print('try suite with no exceptions raised')\n",
    "except:\n",
    "    print('this will not execute')\n",
    "else:\n",
    "    print('else executes because no exceptions in the try suite')\n",
    "finally:  \n",
    "    print('finally always executes')"
   ]
  },
  {
   "cell_type": "markdown",
   "id": "aab41acc",
   "metadata": {},
   "source": [
    "### Beispiel 2: Exception "
   ]
  },
  {
   "cell_type": "code",
   "execution_count": null,
   "id": "b46a267b",
   "metadata": {},
   "outputs": [],
   "source": [
    "try:\n",
    "    print('try suite that raises an exception')\n",
    "    int('hello')\n",
    "    print('this will not execute')\n",
    "except ValueError:\n",
    "    print('a ValueError occurred')\n",
    "else:\n",
    "    print('else will not execute because an exception occurred')\n",
    "finally:  \n",
    "    print('finally always executes')"
   ]
  }
 ],
 "metadata": {
  "kernelspec": {
   "display_name": "Python 3 (ipykernel)",
   "language": "python",
   "name": "python3"
  },
  "language_info": {
   "codemirror_mode": {
    "name": "ipython",
    "version": 3
   },
   "file_extension": ".py",
   "mimetype": "text/x-python",
   "name": "python",
   "nbconvert_exporter": "python",
   "pygments_lexer": "ipython3",
   "version": "3.10.1"
  }
 },
 "nbformat": 4,
 "nbformat_minor": 5
}
