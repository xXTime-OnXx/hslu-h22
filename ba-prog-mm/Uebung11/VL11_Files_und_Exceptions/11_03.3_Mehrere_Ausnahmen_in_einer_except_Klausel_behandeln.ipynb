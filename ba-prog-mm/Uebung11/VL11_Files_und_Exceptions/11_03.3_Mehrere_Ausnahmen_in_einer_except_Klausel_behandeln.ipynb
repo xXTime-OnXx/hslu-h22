{
 "cells": [
  {
   "cell_type": "markdown",
   "id": "43f62341",
   "metadata": {},
   "source": [
    "# 11.3.3 Mehrere Exceptions in einer `except`-Klausel behandeln\n",
    "* Wenn mehrere `except`-Suites identisch sind, können Sie diese Ausnahme-Typen abfangen, indem Sie sie als **Tupel in einem _einzigen_ `except`-Handler** angeben:\n",
    "    > ```python\n",
    "    except (type1, type2, …) as variable_name:\n",
    "    ```\n",
    "* Die `as`-Klausel ist optional:\n",
    "    * Normalerweise müssen Programme nicht direkt auf das abgefangene Ausnahmeobjekt verweisen.\n",
    "    * Falls nötig, kann die Variable, die in der `as`-Klausel definiert wurde, verwendet werden, um auf das Ausnahmeobjekt in der `except`-Suite zuzugreifen."
   ]
  },
  {
   "cell_type": "code",
   "execution_count": null,
   "id": "de67d8e2",
   "metadata": {},
   "outputs": [],
   "source": [
    "while True:\n",
    "    # attempt to convert and divide values\n",
    "    try:\n",
    "        number1 = int(input('Enter numerator: '))\n",
    "        number2 = int(input('Enter denominator: '))\n",
    "        result = number1 / number2\n",
    "    except (ValueError, ZeroDivisionError) as ex:  \n",
    "        print(ex)\n",
    "        print('Please provide two positive integer values.\\n')\n",
    "    else:  # executes only if no exceptions occur\n",
    "        print(f'{number1:.3f} / {number2:.3f} = {result:.3f}')\n",
    "        break  # terminate the loop"
   ]
  }
 ],
 "metadata": {
  "kernelspec": {
   "display_name": "Python 3 (ipykernel)",
   "language": "python",
   "name": "python3"
  },
  "language_info": {
   "codemirror_mode": {
    "name": "ipython",
    "version": 3
   },
   "file_extension": ".py",
   "mimetype": "text/x-python",
   "name": "python",
   "nbconvert_exporter": "python",
   "pygments_lexer": "ipython3",
   "version": "3.10.1"
  }
 },
 "nbformat": 4,
 "nbformat_minor": 5
}
