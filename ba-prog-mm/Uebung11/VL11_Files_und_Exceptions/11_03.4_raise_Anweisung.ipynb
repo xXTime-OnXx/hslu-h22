{
 "cells": [
  {
   "cell_type": "markdown",
   "id": "b0f21dec",
   "metadata": {},
   "source": [
    "# 11.3.4 Explizites Auslösen einer Exception: Die `raise`-Anweisung\n",
    "Manchmal müssen Sie  Funktionen schreiben, die Ausnahmen auslösen, um Anrufer über auftretende Fehler zu informieren.\n",
    "\n",
    "Die  **`raise`**-Anweisung löst eine Exception aus: \n",
    "```python\n",
    "raise ExceptionClassName\n",
    "```\n",
    "\n",
    "\n",
    "* `raise` _ExceptonClassName_ erzeugt ein Objekt der angegebenen Exception-Klasse.\n",
    "* Der Name der Exception-Klasse  kann von Klammern gefolgt werden, die Argumente zur Initialisierung des Ausnahmeobjekts enthalten (typischerweise eine benutzerdefinierte Fehlermeldung).\n",
    "* Code, der eine Exception auslöst, sollte zuerst alle Ressourcen freigeben, die vor dem Auftreten der Exception geöffnet wurden.\n",
    "* Es wird empfohlen, dass Sie einen der vielen integrierten Ausnahme-Typen von Python verwenden (https://docs.python.org/3/library/exceptions.html)."
   ]
  },
  {
   "cell_type": "code",
   "execution_count": 5,
   "id": "b8d23594",
   "metadata": {},
   "outputs": [
    {
     "name": "stdout",
     "output_type": "stream",
     "text": [
      "test\n",
      "ValueException was raised\n"
     ]
    }
   ],
   "source": [
    "try:\n",
    "    raise ZeroDivisionError(\"test\")\n",
    "except Exception as ex:\n",
    "    print(ex)\n",
    "    print('ValueException was raised')\n",
    "    "
   ]
  }
 ],
 "metadata": {
  "kernelspec": {
   "display_name": "Python 3.10.8 ('venv': venv)",
   "language": "python",
   "name": "python3"
  },
  "language_info": {
   "codemirror_mode": {
    "name": "ipython",
    "version": 3
   },
   "file_extension": ".py",
   "mimetype": "text/x-python",
   "name": "python",
   "nbconvert_exporter": "python",
   "pygments_lexer": "ipython3",
   "version": "3.10.8"
  },
  "vscode": {
   "interpreter": {
    "hash": "d80cc920d25c1d92593b6aac86af4433dd7b5970d464c24070744c11223ad8fd"
   }
  }
 },
 "nbformat": 4,
 "nbformat_minor": 5
}
