{
 "cells": [
  {
   "cell_type": "markdown",
   "id": "a1d2d8cd",
   "metadata": {},
   "source": [
    "# 11.3.5 Abschliessende Bemerkungen"
   ]
  },
  {
   "cell_type": "markdown",
   "id": "07b5ffca",
   "metadata": {},
   "source": [
    "## Welche Exceptions gibt es bei einer Funktion oder Methode?\n",
    "Bevor Sie eine Funktion oder Methode verwenden, lesen Sie deren Online-API-Dokumentation\n",
    "* Gibt an, welche Ausnahmen (falls vorhanden) von der Funktion oder Methode ausgelöst werden;\n",
    "* Gibt Gründe an, warum solche Ausnahmen auftreten können.\n",
    "\n",
    "Lesen Sie als nächstes die Online-API-Dokumentation für jeden Ausnahme-Typ, um mehr über die möglichen Gründe für das Auftreten einer solchen Ausnahme zu erfahren."
   ]
  },
  {
   "cell_type": "markdown",
   "id": "8736233a",
   "metadata": {},
   "source": [
    "## Welcher Code solle in einer `try`-Suite untergebracht werden?\n",
    "* Für eine korrekte Granularität der Ausnahmebehandlung sollte jede `try`-Anweisung einen Codeabschnitt enthalten, der so klein ist, dass beim Auftreten einer Ausnahme der spezifische Kontext bekannt ist und die `except`-Handler die Ausnahme korrekt verarbeiten können.\n",
    "* Wenn viele Anweisungen in einer `try`-Suite die gleichen Ausnahmetypen auslösen könnten, sollten Sie stattdessen mehrere `try`-Anweisungen implementieren, um den Kontext jeder Ausnahme einzugrenzen."
   ]
  },
  {
   "cell_type": "markdown",
   "id": "1e7cb976",
   "metadata": {},
   "source": [
    "## Exceptions in `finally`-Suites\n",
    "* Das Auslösen einer Exception in einer `finally`-Suite kann zu subtilen, schwer zu findenden Problemen führen.\n",
    "* Eine `finally`-Suite sollte immer in einer `try`-Anweisung jeden Code einschliessen, der eine Ausnahme auslösen kann."
   ]
  }
 ],
 "metadata": {
  "kernelspec": {
   "display_name": "Python 3 (ipykernel)",
   "language": "python",
   "name": "python3"
  },
  "language_info": {
   "codemirror_mode": {
    "name": "ipython",
    "version": 3
   },
   "file_extension": ".py",
   "mimetype": "text/x-python",
   "name": "python",
   "nbconvert_exporter": "python",
   "pygments_lexer": "ipython3",
   "version": "3.10.1"
  }
 },
 "nbformat": 4,
 "nbformat_minor": 5
}
