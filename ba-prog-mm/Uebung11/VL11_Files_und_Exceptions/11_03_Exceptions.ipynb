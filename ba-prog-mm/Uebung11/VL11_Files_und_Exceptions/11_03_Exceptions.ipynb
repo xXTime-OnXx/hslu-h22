{
 "cells": [
  {
   "cell_type": "markdown",
   "id": "5cc215e5",
   "metadata": {},
   "source": [
    "# 11.3 Exceptions\n",
    "In einem Programm können verschiedene Arten von Ausnahmen auftreten.\n",
    "\n",
    "Eine Exception in IPython:\n",
    "* **beendet das Snippet**;\n",
    "* zeigt den **Traceback** der Exception an;\n",
    "* zeigt dann den nächsten Eingabeprompt `In []` an.\n",
    "\n",
    "Eine Exception in einem Script:\n",
    "* **beendet das Script**;\n",
    "* zeigt den **Traceback** an."
   ]
  },
  {
   "cell_type": "markdown",
   "id": "f8774b74",
   "metadata": {},
   "source": [
    "## Beispiele von Ausnahmen\n",
    "### FileNotFoundError\n",
    "Beim Versuch eine nicht existierende Datei zum Lesen mit den Modi `r` oder `r+` zu öffnen"
   ]
  },
  {
   "cell_type": "code",
   "execution_count": null,
   "id": "bcbccaee",
   "metadata": {},
   "outputs": [],
   "source": [
    "with open('file_na.txt', 'r') as file:\n",
    "    content = file.read()\n",
    "    print(content)"
   ]
  },
  {
   "cell_type": "markdown",
   "id": "e5b32083",
   "metadata": {},
   "source": [
    "### PermissionsError\n",
    "* Beim Versuch, eine Operation, für die Sie keine Erlaubnis haben, anzuwenden;\n",
    "* Beim Versuch, eine Datei zu öffnen, auf die Ihr Benutzeraccount nicht zugreifen darf;\n",
    "* Beim Erstellen einer Datei in einem Ordner, in dem Ihr Benutzeraccount keine Schreibberechtigung hat."
   ]
  },
  {
   "cell_type": "markdown",
   "id": "f4832c74",
   "metadata": {},
   "source": [
    "### ValueError im Umgang mit einer Datei\n",
    "Beim Versuch, in eine Datei zu schreiben, die bereits geschlossen wurde."
   ]
  },
  {
   "cell_type": "code",
   "execution_count": null,
   "id": "a6099d31",
   "metadata": {},
   "outputs": [],
   "source": [
    "with open('file.txt', 'w') as file:\n",
    "    file.write('Hello World\\n')\n",
    "\n",
    "file.write('This is a test.\\n')"
   ]
  },
  {
   "cell_type": "markdown",
   "id": "c0e0b204",
   "metadata": {},
   "source": [
    "### ZeroDivisionError\n",
    "\n"
   ]
  },
  {
   "cell_type": "code",
   "execution_count": null,
   "id": "9858571e",
   "metadata": {},
   "outputs": [],
   "source": [
    "10 / 0"
   ]
  },
  {
   "cell_type": "markdown",
   "id": "78bf89b1",
   "metadata": {},
   "source": [
    "###  ValueError aufgrund ungültiger Eingabe\n",
    "Die `int`-Funktion erzeugt einen `ValueError`, wenn Sie versuchen, eine Zeichenkette (wie `'Hallo'`), in eine Ganzzahl zu konvertieren."
   ]
  },
  {
   "cell_type": "code",
   "execution_count": null,
   "id": "2fdcb6ae",
   "metadata": {},
   "outputs": [],
   "source": [
    "value = int(input('Enter an integer: '))"
   ]
  }
 ],
 "metadata": {
  "kernelspec": {
   "display_name": "Python 3 (ipykernel)",
   "language": "python",
   "name": "python3"
  },
  "language_info": {
   "codemirror_mode": {
    "name": "ipython",
    "version": 3
   },
   "file_extension": ".py",
   "mimetype": "text/x-python",
   "name": "python",
   "nbconvert_exporter": "python",
   "pygments_lexer": "ipython3",
   "version": "3.10.1"
  }
 },
 "nbformat": 4,
 "nbformat_minor": 5
}
