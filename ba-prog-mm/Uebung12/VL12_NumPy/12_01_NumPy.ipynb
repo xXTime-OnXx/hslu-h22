{
 "cells": [
  {
   "cell_type": "markdown",
   "id": "2a4e45a1-1d19-40a4-97be-679f662fef19",
   "metadata": {},
   "source": [
    "# 12.1 NumPy"
   ]
  },
  {
   "cell_type": "markdown",
   "id": "2b18bfc2-4d51-40b7-ae15-136979211757",
   "metadata": {},
   "source": [
    "Die NumPy (Numerical Python) Bibliothek hat einen leistungsstarken, n-dimensionalen Array-Typ namens **`ndarray`** (numerical data array), der homogene Daten kapselt.<br>\n",
    "\n",
    "NumPy-Arrays (`ndarray`) erleichtern fortgeschrittene mathematische und ander Arten von Operationen mit einer grossen Anzahl von Daten. In der Regel werden solche Operationen performanter (bis zu 100-mal schneller) ausgeführt. NumPy-Arrays sind daher wichtig bei der Verarbeitung grosser Datenmengen, KI-Anwendungen, etc. Viele wissenschaftliche Datenbibiliotheken wie Pandas (Panel data), SciPy (Scientific Python), und Keras (für Deep Learning) bauen auf NumPy auf.\n",
    "\n",
    "\n",
    "Vergleich NumPy-Arrays vs. Python-Listen:\n",
    "* **NumPy-Arrays** haben bei der Erstellung eine **feste Grösse**. \n",
    "* Wird die Grösse eines `ndarray` geändert, wird ein neues Array erstellt und das ursprüngliche gelöscht.\n",
    "* Die **Elemente** in einem NumPy-Array müssen alle **vom gleichen Datentyp (d.h., homogen)** sein und haben daher im Speicher die gleiche Grösse.\n",
    "    * Ausnahme: Man kann Arrays aus (Python-, einschliesslich NumPy-) Objekten haben, wodurch Arrays mit unterschiedlich grossen Elementen möglich werden."
   ]
  },
  {
   "cell_type": "markdown",
   "id": "4e16caff-5b46-4fba-ac21-f1ee7fe6b81e",
   "metadata": {},
   "source": [
    "<br>\n",
    "\n",
    "## NumPy Dokumentaton\n",
    "<a href='https://numpy.org/doc/stable/index.html'>https://numpy.org/doc/stable/index.html</a>"
   ]
  }
 ],
 "metadata": {
  "kernelspec": {
   "display_name": "Python 3 (ipykernel)",
   "language": "python",
   "name": "python3"
  },
  "language_info": {
   "codemirror_mode": {
    "name": "ipython",
    "version": 3
   },
   "file_extension": ".py",
   "mimetype": "text/x-python",
   "name": "python",
   "nbconvert_exporter": "python",
   "pygments_lexer": "ipython3",
   "version": "3.10.5"
  }
 },
 "nbformat": 4,
 "nbformat_minor": 5
}
