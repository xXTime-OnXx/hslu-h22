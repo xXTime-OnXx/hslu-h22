{
 "cells": [
  {
   "cell_type": "markdown",
   "id": "af066c2f-2430-4da2-8953-2a2f123b4608",
   "metadata": {},
   "source": [
    "# 13. Pandas\n",
    "\n",
    "### Agenda \n",
    "* [13.1 Einführung in Data Science: Pandas `Series` und `DataFrame`'s](13_01_Einfuehrung_in_Pandas_Series_und_DataFrames.ipynb)\n",
    "* [13.2 Pandas `Series`](13_02_Pandas_Series.ipynb)\n",
    "* [13.3 DataFrame's](13_03_Pandas_DataFrames.ipynb)\n",
    "* [13.4 Titanic Desaster Dataset Analysis](13_04_Titanic-Disaster-Dataset-Analysis.ipynb)\n"
   ]
  }
 ],
 "metadata": {
  "kernelspec": {
   "display_name": "Python 3.10.8 ('venv': venv)",
   "language": "python",
   "name": "python3"
  },
  "language_info": {
   "codemirror_mode": {
    "name": "ipython",
    "version": 3
   },
   "file_extension": ".py",
   "mimetype": "text/x-python",
   "name": "python",
   "nbconvert_exporter": "python",
   "pygments_lexer": "ipython3",
   "version": "3.10.8"
  },
  "vscode": {
   "interpreter": {
    "hash": "d80cc920d25c1d92593b6aac86af4433dd7b5970d464c24070744c11223ad8fd"
   }
  }
 },
 "nbformat": 4,
 "nbformat_minor": 5
}
