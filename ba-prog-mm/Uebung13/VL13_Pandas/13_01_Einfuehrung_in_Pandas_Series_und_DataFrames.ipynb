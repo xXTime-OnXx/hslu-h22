{
 "cells": [
  {
   "cell_type": "markdown",
   "metadata": {},
   "source": [
    "# 13.1 Pandas Series und DataFrame's\n",
    "(Buch Kapitel  7.14)\n",
    "\n",
    "NumPy-Arrays sind für numerische Daten optimiert, auf die mit Integer-Indizes zugegreiffen wird.\n",
    "\n",
    "Big Data Anwendungen müssen jedoch folgendes unsterstützen:\n",
    "* **gemischte Datentypen**;\n",
    "* **benutzerdefinierte Indizierung**;\n",
    "* **Umgang mit fehlende Daten**, bzw. mit Daten, die nicht konsistent strukturiert sind;\n",
    "* Umgang mit Daten, die in einer Form manipuliert werden müssen, damit sie für die von Ihnen verwendeten Datenbanken und Datenanalysepakete geeignet sind.\n",
    "\n",
    "<br>\n",
    "\n",
    "**Pandas** \n",
    "* Ist die beliebteste **Bibliothek** für den Umgang mit solchen Daten;\n",
    "* Einlesen von Daten aus vielen Formaten;\n",
    "* Schreiben von Daten in viele Formate;\n",
    "* Bietet viele verschiedene Funktionen für die Analyse, Kalkulation und Manipulation von Daten;\n",
    "* Stellt die Werkzeuge zur Verfügung, um Data Science auf einem höheren Niveau zu betreiben, als es NumPy tut.\n",
    "\n",
    "\n",
    "==> Man kann sich Pandas irgenwie wie Excell in Python vorstellen\n",
    "\n",
    "<br>\n",
    "\n",
    "Zwei wichtige Typen:\n",
    "* __`Series`__ für eindimensionale Sammlungen;\n",
    "* __`DataFrames`__ für zweidimensionale Sammlungen.\n",
    "\n",
    "<br>\n",
    "\n",
    "**NumPy** und **pandas** sind eng miteinander verwandt:\n",
    "* `Series` und `DataFrame`'s verwenden intern `array`'s;\n",
    "* `Series` und `DataFrame`'s sind valide Argumente für viele NumPy Operationen;\n",
    "* `array`'s sind gültige Argumente für viele `Series` und `DataFrame` Operationen."
   ]
  }
 ],
 "metadata": {
  "kernelspec": {
   "display_name": "Python 3 (ipykernel)",
   "language": "python",
   "name": "python3"
  },
  "language_info": {
   "codemirror_mode": {
    "name": "ipython",
    "version": 3
   },
   "file_extension": ".py",
   "mimetype": "text/x-python",
   "name": "python",
   "nbconvert_exporter": "python",
   "pygments_lexer": "ipython3",
   "version": "3.10.5"
  }
 },
 "nbformat": 4,
 "nbformat_minor": 4
}
