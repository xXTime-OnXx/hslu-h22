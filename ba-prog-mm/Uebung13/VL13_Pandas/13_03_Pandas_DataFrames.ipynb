{
 "cells": [
  {
   "cell_type": "markdown",
   "id": "573598cd-83d3-4552-be05-9850ca772f0d",
   "metadata": {
    "tags": []
   },
   "source": [
    "# 13.3 Pandas `DataFrame`'s\n",
    "* `DataFrame`'s sind erweiterte zweidimensionale Arrays;\n",
    "* Sie können benutzerdefinierte Zeilen- und Spaltenindizes haben;\n",
    "* Sie können mit fehlenden Daten umgehen;\n",
    "* Jede Spalte in einem `DataFrame`ist eine `Series`."
   ]
  },
  {
   "cell_type": "markdown",
   "id": "e0ca52ab-05e7-44ed-ad3a-4613350e2374",
   "metadata": {},
   "source": [
    "### Inhalt\n",
    "1. Ersellen eines DataFrame aus einem Dictionary\n",
    "2. Benutzerdefinierte Indizes\n",
    "3. Auswahl von Spalten\n",
    "4. Auswahl von Zeilen\n",
    "5. Slices\n",
    "    * Auswsahl von Zeilen via Slices\n",
    "    * Auswählen von Teilmengen der Zeilen und Spalten\n",
    "6. Boolesche Indizierung\n",
    "7. Zugriff auf eine Zelle\n",
    "8. Deskriptive Statistik\n",
    "9. Transponieren\n",
    "10. Sortieren\n",
    "11. Arbeiten mit lokal gespeicherten CSV-Dateien"
   ]
  },
  {
   "cell_type": "markdown",
   "id": "0bdb01e3-32a7-4cbe-9fcc-d517cf571ced",
   "metadata": {},
   "source": [
    "## 1. Erstellen eines `DataFrame`"
   ]
  },
  {
   "cell_type": "code",
   "execution_count": null,
   "id": "f8ef0e2a-bb16-4f95-a10f-66fb59170499",
   "metadata": {},
   "outputs": [],
   "source": [
    "import pandas as pd"
   ]
  },
  {
   "cell_type": "code",
   "execution_count": null,
   "id": "d5f4db4e-4ce9-476c-97c0-498c414ee11a",
   "metadata": {},
   "outputs": [],
   "source": [
    "grades_dict = {'Wally': [87, 96, 70], \n",
    "               'Eva': [100, 87, 90], \n",
    "               'Sam': [94, 77, 90],\n",
    "               'Katy': [100, 81, 82], \n",
    "               'Bob': [83, 65, 85]}"
   ]
  },
  {
   "cell_type": "code",
   "execution_count": null,
   "id": "9b513041-af54-4178-9600-4ec5e87b3b92",
   "metadata": {},
   "outputs": [],
   "source": [
    "grades = pd.DataFrame(grades_dict)\n",
    "grades"
   ]
  },
  {
   "cell_type": "markdown",
   "id": "8306b2b6-17bd-40d3-9fb9-2ff92f2f775b",
   "metadata": {},
   "source": [
    "* Jede Spalte der Tabelle entspricht einer `Series`\n",
    "* Die `Series` wurden aus den key:value Paare aus dem Dictionary gebildet\n",
    "* Die erste Spalte (Indexspalte) enthält die Labels, die im Standardfall den Indizes der einzelnen Series entspricht\n",
    "\n",
    "&nbsp;"
   ]
  },
  {
   "cell_type": "markdown",
   "id": "44a42430-a358-495b-b3c2-fee67010a7b5",
   "metadata": {},
   "source": [
    "## 2. Benutzerdefinierte Indizes"
   ]
  },
  {
   "cell_type": "code",
   "execution_count": null,
   "id": "704fdbb3-e976-451e-bd22-d8df7cc2649a",
   "metadata": {},
   "outputs": [],
   "source": [
    "grades.index = ['Test1', 'Test2', 'Test3']"
   ]
  },
  {
   "cell_type": "code",
   "execution_count": null,
   "id": "1250525d-976e-49c4-b640-a0bc96cee65b",
   "metadata": {},
   "outputs": [],
   "source": [
    "grades"
   ]
  },
  {
   "cell_type": "markdown",
   "id": "793eb169-002d-4c77-abf9-b01b1d3b496f",
   "metadata": {},
   "source": [
    "## 3. Auswahl von Spalten und Zeilen"
   ]
  },
  {
   "cell_type": "markdown",
   "id": "69f3af94-408f-4dab-b8b1-f15cd7a9da2d",
   "metadata": {},
   "source": [
    "### Auswahl von Spalten"
   ]
  },
  {
   "cell_type": "markdown",
   "id": "c377493d-f131-4023-821c-99a29bab329f",
   "metadata": {},
   "source": [
    "Auswahl von Eva's Noten"
   ]
  },
  {
   "cell_type": "code",
   "execution_count": null,
   "id": "bc02b05c-e90a-4d37-bc94-eff871e69bd5",
   "metadata": {},
   "outputs": [],
   "source": [
    "grades['Eva']"
   ]
  },
  {
   "cell_type": "markdown",
   "id": "4c16bf42-3ac0-4481-a8ee-f538e087b459",
   "metadata": {},
   "source": [
    "Auswahl von Sam's Noten"
   ]
  },
  {
   "cell_type": "code",
   "execution_count": null,
   "id": "30515bc0-f039-4067-a980-204611d0d14f",
   "metadata": {},
   "outputs": [],
   "source": [
    "grades.Sam"
   ]
  },
  {
   "cell_type": "markdown",
   "id": "2d7c30bf-bdca-4426-8227-5b8d8e420ac0",
   "metadata": {},
   "source": [
    "### Auswahl von Zeilen"
   ]
  },
  {
   "cell_type": "code",
   "execution_count": null,
   "id": "6846699b-f69b-47fe-830d-d3b76bcc70e7",
   "metadata": {},
   "outputs": [],
   "source": [
    "grades"
   ]
  },
  {
   "cell_type": "markdown",
   "id": "812f7e01-89a3-458a-9a30-231303f805cd",
   "metadata": {},
   "source": [
    "* Die Pandas Dokumentation empfiehlt die Verwendung der Attribute `loc` und `iloc`, um auf Zeilen zuzugreifen\n",
    "* `loc`: Zugriff via Label\n",
    "* `iloc`: Zugriff via positionellem Index (int)\n",
    "\n",
    "&nbsp;"
   ]
  },
  {
   "cell_type": "markdown",
   "id": "79dd3a40-4273-46fe-9382-a06a64874459",
   "metadata": {},
   "source": [
    "Noten des Test1"
   ]
  },
  {
   "cell_type": "code",
   "execution_count": null,
   "id": "c358f6be-a792-499c-be83-5ccd81acc883",
   "metadata": {},
   "outputs": [],
   "source": [
    "grades.loc['Test1']"
   ]
  },
  {
   "cell_type": "markdown",
   "id": "1d9dc36f-2bb5-413d-9181-9750ce9121df",
   "metadata": {},
   "source": [
    "&nbsp;\n",
    "\n",
    "Noten des Test2"
   ]
  },
  {
   "cell_type": "code",
   "execution_count": null,
   "id": "645ff3bb-6b79-4aa7-8ca6-80b30350c537",
   "metadata": {
    "tags": []
   },
   "outputs": [],
   "source": [
    "grades.iloc[1]"
   ]
  },
  {
   "cell_type": "markdown",
   "id": "dde341eb-632d-4c64-a89c-38d0161e9918",
   "metadata": {},
   "source": [
    "## 4 Slices"
   ]
  },
  {
   "cell_type": "markdown",
   "id": "1a29b332-b290-429d-b876-951b4ed3dc1a",
   "metadata": {},
   "source": [
    "### Auswahl von Zeilen mittels Slices"
   ]
  },
  {
   "cell_type": "code",
   "execution_count": null,
   "id": "db5284ce-5589-49dc-a26d-ef24a4c6e72b",
   "metadata": {},
   "outputs": [],
   "source": [
    "grades"
   ]
  },
  {
   "cell_type": "markdown",
   "id": "287d2e8b-2179-407c-a0f1-a07b4125835e",
   "metadata": {},
   "source": [
    "Ein Slice mit String-Indizes schliesst das obere Bereichsende mit ein:"
   ]
  },
  {
   "cell_type": "code",
   "execution_count": null,
   "id": "389519e8-87cb-414e-9f87-1df11797b545",
   "metadata": {},
   "outputs": [],
   "source": [
    "grades.loc['Test1':'Test2']"
   ]
  },
  {
   "cell_type": "markdown",
   "id": "bc5438c1-74a9-4a68-a2bd-d26c612b2956",
   "metadata": {},
   "source": [
    "Ein Slice mit ganzzahligen Indizes (postitionelle Indizes) schliesst das obere Bereichsende nicht mit ein:"
   ]
  },
  {
   "cell_type": "code",
   "execution_count": null,
   "id": "8ff6ab0e-b725-4941-9a77-86cc947b34fa",
   "metadata": {},
   "outputs": [],
   "source": [
    "grades.iloc[0:2]"
   ]
  },
  {
   "cell_type": "code",
   "execution_count": null,
   "id": "8bcaf4cc-fd3c-4871-b338-900c7a8fe207",
   "metadata": {},
   "outputs": [],
   "source": [
    "grades.loc[['Test1', 'Test3']]"
   ]
  },
  {
   "cell_type": "code",
   "execution_count": null,
   "id": "95afe5ce-e49f-44c8-a8d9-574b9b575e6c",
   "metadata": {},
   "outputs": [],
   "source": [
    "grades.iloc[[0, 2]]"
   ]
  },
  {
   "cell_type": "markdown",
   "id": "d055e4a9-8162-4371-8c88-73095bb60e34",
   "metadata": {},
   "source": [
    "### Auswählen von Teilmengen der Zeilen und Spalten"
   ]
  },
  {
   "cell_type": "code",
   "execution_count": null,
   "id": "35770b87-fb61-42a3-9efc-ba3a8bfd751e",
   "metadata": {},
   "outputs": [],
   "source": [
    "grades"
   ]
  },
  {
   "cell_type": "code",
   "execution_count": null,
   "id": "da91eafd-bd54-4a9d-a128-c487e370d430",
   "metadata": {},
   "outputs": [],
   "source": [
    "grades.loc['Test1':'Test2', ['Eva', 'Katy']]"
   ]
  },
  {
   "cell_type": "code",
   "execution_count": null,
   "id": "6257a7f0-ec11-4678-9057-c05eff83c6f1",
   "metadata": {},
   "outputs": [],
   "source": [
    "grades.iloc[[0, 2], 0:3]"
   ]
  },
  {
   "cell_type": "markdown",
   "id": "5d67ad91-93a5-4d8e-9f29-2f8109a68986",
   "metadata": {},
   "source": [
    "## 5. Boolesche Indizierung"
   ]
  },
  {
   "cell_type": "markdown",
   "id": "e7833f5d-24d3-4fdf-991a-88a3a2208a99",
   "metadata": {},
   "source": [
    "Boolesche Indizierung ist eine der mächtigeren Auswahlfähigkeiten von Pandas."
   ]
  },
  {
   "cell_type": "code",
   "execution_count": null,
   "id": "e628a653-ac5d-45e9-a200-7b3527b12da8",
   "metadata": {},
   "outputs": [],
   "source": [
    "grades"
   ]
  },
  {
   "cell_type": "markdown",
   "id": "e5143d69-e6f2-4025-970c-8e2de121d9c2",
   "metadata": {},
   "source": [
    "Bsp. 1: Wählen Sie alle Noten, die grösser als 90 sind."
   ]
  },
  {
   "cell_type": "code",
   "execution_count": null,
   "id": "0fd62f0f-8245-4c39-a6c0-c906f6744d36",
   "metadata": {},
   "outputs": [],
   "source": [
    "grades[grades >= 90]"
   ]
  },
  {
   "cell_type": "markdown",
   "id": "b4b62304-c7c6-47a4-a8fd-540ed7ccf6b1",
   "metadata": {},
   "source": [
    "Noten, für die die Bedingung `False` ist, werden als `NaN` (not a number) im resultierenden `DataFrame` dargestellt.\n",
    "\n",
    "&nbsp;"
   ]
  },
  {
   "cell_type": "markdown",
   "id": "bc9ffa06-aa24-4a7b-84fb-5b543923f40e",
   "metadata": {},
   "source": [
    "Bsp. 2: Wählen Sie alle B-Noten im Bereich 80 - 90."
   ]
  },
  {
   "cell_type": "code",
   "execution_count": null,
   "id": "5ad1a213-6cbc-4019-8247-c1752acb3bc2",
   "metadata": {},
   "outputs": [],
   "source": [
    "grades[(grades >= 80) & (grades < 90)]"
   ]
  },
  {
   "cell_type": "markdown",
   "id": "d1639b08-7731-4ed3-b438-1ea952a522e0",
   "metadata": {},
   "source": [
    "* Pandas Boolesche Indizes kombinieren mehrere Bedingungen mit dem `&` Operator und _nicht_ mit dem`and` Operator. \n",
    "* Für `or` Bedingungen verwenden Sie `|`\n",
    "\n",
    "&nbsp;"
   ]
  },
  {
   "cell_type": "markdown",
   "id": "4f106861-4a1f-4eb9-8653-450f901cfb3f",
   "metadata": {},
   "source": [
    "## 6. Zugriff auf eine Zelle"
   ]
  },
  {
   "cell_type": "code",
   "execution_count": null,
   "id": "318fda2d-00b8-4906-9d25-51319c1c113c",
   "metadata": {},
   "outputs": [],
   "source": [
    "grades"
   ]
  },
  {
   "cell_type": "code",
   "execution_count": null,
   "id": "6fa7e240-350f-4095-b5d8-4f91767dce5f",
   "metadata": {},
   "outputs": [],
   "source": [
    "grades.at['Test2', 'Eva']"
   ]
  },
  {
   "cell_type": "code",
   "execution_count": null,
   "id": "fce83ae3-7981-462d-9ae4-26fd7d16452d",
   "metadata": {},
   "outputs": [],
   "source": [
    "grades.iat[2, 0]"
   ]
  },
  {
   "cell_type": "markdown",
   "id": "1df0dae4-cf3b-4ac2-a567-4b1bd5e1ace4",
   "metadata": {},
   "source": [
    "### Zuweisen von neuen Werten"
   ]
  },
  {
   "cell_type": "code",
   "execution_count": null,
   "id": "dd329d74-4e45-41d3-a5c3-caba708c3356",
   "metadata": {},
   "outputs": [],
   "source": [
    "grades"
   ]
  },
  {
   "cell_type": "code",
   "execution_count": null,
   "id": "27fafab2-6a78-4493-b07f-e16e4449eb40",
   "metadata": {},
   "outputs": [],
   "source": [
    "grades.at['Test2', 'Eva'] = 100\n",
    "grades"
   ]
  },
  {
   "cell_type": "code",
   "execution_count": null,
   "id": "d9eb7763-c7d3-4ea2-8929-9cea1f87aefd",
   "metadata": {},
   "outputs": [],
   "source": [
    "grades.iat[1, 2] = 87\n",
    "grades"
   ]
  },
  {
   "cell_type": "markdown",
   "id": "8df3c7a2-c111-4b38-b8da-441a554e4e3a",
   "metadata": {},
   "source": [
    "## 7. Descriptive Statistik"
   ]
  },
  {
   "cell_type": "code",
   "execution_count": null,
   "id": "7ac77d4f-88cf-4b12-9c09-d17a5e9e1ec9",
   "metadata": {},
   "outputs": [],
   "source": [
    "grades"
   ]
  },
  {
   "cell_type": "code",
   "execution_count": null,
   "id": "353dc8e4-f5bd-45e9-917c-26685f50824c",
   "metadata": {},
   "outputs": [],
   "source": [
    "grades.describe()"
   ]
  },
  {
   "cell_type": "code",
   "execution_count": null,
   "id": "921505a7-445a-401d-92c9-19386a226a24",
   "metadata": {},
   "outputs": [],
   "source": [
    "pd.set_option('display.precision', 2)"
   ]
  },
  {
   "cell_type": "code",
   "execution_count": null,
   "id": "76bb8489-2f65-46d8-ac55-8c1eee1b4ea9",
   "metadata": {},
   "outputs": [],
   "source": [
    "grades.describe()"
   ]
  },
  {
   "cell_type": "code",
   "execution_count": null,
   "id": "f6273adb-ea00-4097-af10-d68b017f9f06",
   "metadata": {
    "tags": []
   },
   "outputs": [],
   "source": [
    "grades.mean()"
   ]
  },
  {
   "cell_type": "code",
   "execution_count": null,
   "id": "800e773e-6e6a-4e0c-b0bc-98f9bc022643",
   "metadata": {},
   "outputs": [],
   "source": [
    "pd.reset_option('display.precision')"
   ]
  },
  {
   "cell_type": "code",
   "execution_count": null,
   "id": "c8a6b6eb-6014-4bd9-b75b-06355fc60291",
   "metadata": {},
   "outputs": [],
   "source": [
    "grades.describe()"
   ]
  },
  {
   "cell_type": "markdown",
   "id": "f21cc83f-72d4-4f1d-8a3a-6c1347962718",
   "metadata": {},
   "source": [
    "## 8. Transponieren"
   ]
  },
  {
   "cell_type": "code",
   "execution_count": null,
   "id": "28c16ea8-9c46-4872-a5ae-4539e3678e94",
   "metadata": {},
   "outputs": [],
   "source": [
    "grades"
   ]
  },
  {
   "cell_type": "code",
   "execution_count": null,
   "id": "b3e6d535-a0af-43c8-b2d6-b0bf5ea3e535",
   "metadata": {
    "tags": []
   },
   "outputs": [],
   "source": [
    "grades.T"
   ]
  },
  {
   "cell_type": "markdown",
   "id": "55391a04-7bf6-4ff4-a538-e57b05468c97",
   "metadata": {},
   "source": [
    "Wenn wir die Statistik nicht nach Schüler, sondern nach Test erhalten wollen:"
   ]
  },
  {
   "cell_type": "code",
   "execution_count": null,
   "id": "3f0d1c38-9879-43fe-9b82-6d5290eaab40",
   "metadata": {},
   "outputs": [],
   "source": [
    "grades.T.describe()"
   ]
  },
  {
   "cell_type": "code",
   "execution_count": null,
   "id": "c9d3a797-3a98-4c68-a943-89f20c479a91",
   "metadata": {},
   "outputs": [],
   "source": [
    "grades.T.mean()"
   ]
  },
  {
   "cell_type": "markdown",
   "id": "78a652d1-44bb-47f1-8e69-94a8ca2cda33",
   "metadata": {},
   "source": [
    "## 9. Sortieren"
   ]
  },
  {
   "cell_type": "code",
   "execution_count": null,
   "id": "ed338629-3971-4885-a672-e4111c36a902",
   "metadata": {},
   "outputs": [],
   "source": [
    "grades"
   ]
  },
  {
   "cell_type": "markdown",
   "id": "3305d005-a8a4-4234-9371-476fd5be17f9",
   "metadata": {},
   "source": [
    "### Sortieren nach Zeilen- und Spalten-Indizes"
   ]
  },
  {
   "cell_type": "code",
   "execution_count": null,
   "id": "3a570bf2-4c58-462d-9d1c-d703c9ea5a32",
   "metadata": {},
   "outputs": [],
   "source": [
    "grades.sort_index(ascending=False)"
   ]
  },
  {
   "cell_type": "code",
   "execution_count": null,
   "id": "0a202395-a725-41a6-83fe-ea200e393399",
   "metadata": {},
   "outputs": [],
   "source": [
    "grades.sort_index(axis=1)"
   ]
  },
  {
   "cell_type": "markdown",
   "id": "3c6baca3-133b-44dc-81c7-ff11dd46a5f0",
   "metadata": {
    "tags": []
   },
   "source": [
    "### Sortieren nach Zeilen und Spaltenwerten"
   ]
  },
  {
   "cell_type": "code",
   "execution_count": null,
   "id": "422f9362-3e11-4ad3-b1ca-98b9bd63f61d",
   "metadata": {},
   "outputs": [],
   "source": [
    "grades"
   ]
  },
  {
   "cell_type": "code",
   "execution_count": null,
   "id": "269df32b-43dd-44c9-9e8d-56086bb1aa29",
   "metadata": {},
   "outputs": [],
   "source": [
    "grades.sort_values(by='Test1', axis=1, ascending=False)"
   ]
  },
  {
   "cell_type": "code",
   "execution_count": null,
   "id": "574e670e-9113-443d-812e-e7550743ba23",
   "metadata": {},
   "outputs": [],
   "source": [
    "grades.T.sort_values(by='Test1', axis=0, ascending=False)"
   ]
  },
  {
   "cell_type": "code",
   "execution_count": null,
   "id": "dce40dc4-de28-41fb-91ad-922178008a8e",
   "metadata": {},
   "outputs": [],
   "source": [
    "grades"
   ]
  },
  {
   "cell_type": "code",
   "execution_count": null,
   "id": "5cc6976d-239b-47a3-8114-ec5c4033edb9",
   "metadata": {},
   "outputs": [],
   "source": [
    "grades.loc['Test1'].sort_values(ascending=False)"
   ]
  },
  {
   "cell_type": "markdown",
   "id": "d546f368-12b3-4e5a-bdc8-096616511369",
   "metadata": {
    "tags": []
   },
   "source": [
    "### Schlussbemerkung zum Sortieren\n",
    "* `sort_index` und `sort_values` liefern eine _Kopie_ des ursprünglichen `DataFrame`\n",
    "* Das könnte in einer grossen Datenanwendung erheblichen Speicherplatz erfordern\n",
    "* Sie können _die bestehenden Werte_ sortieren, indem Sie das Schlüsselwortargument `inplace=True` übergeben "
   ]
  },
  {
   "cell_type": "code",
   "execution_count": null,
   "id": "503f0e3a-7b3c-44a6-92ad-334750b438a1",
   "metadata": {},
   "outputs": [],
   "source": [
    "grades"
   ]
  },
  {
   "cell_type": "code",
   "execution_count": null,
   "id": "a7a5d72e-1022-4ce9-b658-b3a5c6775c49",
   "metadata": {},
   "outputs": [],
   "source": [
    "grades.sort_values(by='Test1', axis=1, inplace=True)\n",
    "grades"
   ]
  },
  {
   "cell_type": "markdown",
   "id": "ae80a0de-5249-498c-b84a-ba8d4cd8e5d8",
   "metadata": {
    "tags": []
   },
   "source": [
    "## 10. Arbeiten mit lokal gespeicherten CSV-Dateien"
   ]
  },
  {
   "cell_type": "code",
   "execution_count": null,
   "id": "bf59a24f-1492-4d76-bae8-b2c2bbc9cd6a",
   "metadata": {},
   "outputs": [],
   "source": [
    "# macOS/Linux Users: View file contents\n",
    "!cat accounts.csv\n",
    "\n",
    "# # Windows Users: View file contents\n",
    "# !more accounts.csv"
   ]
  },
  {
   "cell_type": "markdown",
   "id": "f27a8175-bdef-44e1-85cd-25d4e05015f5",
   "metadata": {},
   "source": [
    "### Laden des CSV-Datensatzes"
   ]
  },
  {
   "cell_type": "code",
   "execution_count": null,
   "id": "074529a3-1ca5-49e6-95da-619fa1c873ed",
   "metadata": {},
   "outputs": [],
   "source": [
    "data = pd.read_csv('accounts.csv', names=['account', 'name', 'balance'])"
   ]
  },
  {
   "cell_type": "code",
   "execution_count": null,
   "id": "4e29b082-cb1f-4194-997e-1b3cee4714fb",
   "metadata": {},
   "outputs": [],
   "source": [
    "data"
   ]
  },
  {
   "cell_type": "markdown",
   "id": "0d877bcf-5027-44b3-974e-a30a9f825dad",
   "metadata": {},
   "source": [
    "### Schreiben eines CSV-Datansatzes"
   ]
  },
  {
   "cell_type": "markdown",
   "id": "654e0b98-01bb-40a4-81ee-64a4ea0e628d",
   "metadata": {},
   "source": [
    "* `index=False` zeigt an, dass die Zeilennamen (0 - 4 links von der obigen Ausgabe des DataFrame's nicht in die Datei geschrieben werden\n",
    "* Die Spaltennamen werden geschrieben"
   ]
  },
  {
   "cell_type": "code",
   "execution_count": null,
   "id": "6a09fc5b-4299-431b-8244-471f25ab2b29",
   "metadata": {},
   "outputs": [],
   "source": [
    "data.to_csv('accounts_from_dataframe.csv', index=False, header=True)"
   ]
  },
  {
   "cell_type": "code",
   "execution_count": null,
   "id": "43a30c25-74f6-4991-9870-5feb8436e645",
   "metadata": {},
   "outputs": [],
   "source": [
    "# macOS/Linux Users: View file contents\n",
    "!cat accounts_from_dataframe.csv\n",
    "\n",
    "# # Windows Users: View file contents\n",
    "# !more accounts_from_dataframe.csv"
   ]
  },
  {
   "cell_type": "markdown",
   "id": "728807ce-a32c-443d-ba06-8a805bb56f6c",
   "metadata": {},
   "source": [
    "####  Wieder Einlesen, Spaltenüberschriften inklusive"
   ]
  },
  {
   "cell_type": "code",
   "execution_count": null,
   "id": "751b6368-fd4c-4cf1-a755-b8c3385e4541",
   "metadata": {},
   "outputs": [],
   "source": [
    "data2 = pd.read_csv('accounts_from_dataframe.csv')\n",
    "data2"
   ]
  }
 ],
 "metadata": {
  "kernelspec": {
   "display_name": "Python 3 (ipykernel)",
   "language": "python",
   "name": "python3"
  },
  "language_info": {
   "codemirror_mode": {
    "name": "ipython",
    "version": 3
   },
   "file_extension": ".py",
   "mimetype": "text/x-python",
   "name": "python",
   "nbconvert_exporter": "python",
   "pygments_lexer": "ipython3",
   "version": "3.10.5"
  }
 },
 "nbformat": 4,
 "nbformat_minor": 5
}
