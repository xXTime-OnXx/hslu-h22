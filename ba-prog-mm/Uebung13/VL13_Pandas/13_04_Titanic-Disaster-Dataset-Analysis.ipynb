{
 "cells": [
  {
   "cell_type": "markdown",
   "id": "359201cf-7158-496f-8c3e-95b95b32718d",
   "metadata": {},
   "source": [
    "# 13.4 Titanic Disaster Dataset Analysis"
   ]
  },
  {
   "cell_type": "code",
   "execution_count": null,
   "id": "f1bf1f96-622d-41aa-86f3-453fc5847a10",
   "metadata": {},
   "outputs": [],
   "source": [
    "import pandas as pd"
   ]
  },
  {
   "cell_type": "markdown",
   "id": "926794f9-1657-4b78-9e77-2bc75aa0d5aa",
   "metadata": {},
   "source": [
    "## Laden des Titanic-Datensatzes über einen URL"
   ]
  },
  {
   "cell_type": "markdown",
   "id": "aba2fc5e-e034-4046-af34-f7e302e0cfa4",
   "metadata": {},
   "source": [
    "Der Titanic Disaster Datensatz ist einer der beliebtesten Machine-Learning Datensätze.\n",
    "Er kann direkt aus GitHub geladen werden:"
   ]
  },
  {
   "cell_type": "code",
   "execution_count": null,
   "id": "565d8a21-6f84-48fd-acb4-6ec99fcc8d6d",
   "metadata": {},
   "outputs": [],
   "source": [
    "titanic = pd.read_csv('https://vincentarelbundock.github.io/Rdatasets/csv/carData/TitanicSurvival.csv')"
   ]
  },
  {
   "cell_type": "markdown",
   "id": "20b59ec6-22e9-4229-93a0-daf787671c59",
   "metadata": {},
   "source": [
    "* Der Datensatz enthält 1309 Einträge für Passagiere. \n",
    "* Bei grossen Datensätzen werden nur die ersten und letzten fünf Zeilen ausgegeben."
   ]
  },
  {
   "cell_type": "code",
   "execution_count": null,
   "id": "c48594f6-eb13-428b-b7d1-a3b96c11661a",
   "metadata": {},
   "outputs": [],
   "source": [
    "titanic"
   ]
  },
  {
   "cell_type": "code",
   "execution_count": null,
   "id": "23a10d7f-194c-4596-bb92-7a83a4c99711",
   "metadata": {},
   "outputs": [],
   "source": [
    "pd.set_option('display.precision', 2)"
   ]
  },
  {
   "cell_type": "code",
   "execution_count": null,
   "id": "3e643c86-08e1-4435-9154-128ae84c73a7",
   "metadata": {},
   "outputs": [],
   "source": [
    "titanic.head()"
   ]
  },
  {
   "cell_type": "code",
   "execution_count": null,
   "id": "6e35b277-d229-4f32-8359-611b6f694496",
   "metadata": {},
   "outputs": [],
   "source": [
    "titanic.tail()"
   ]
  },
  {
   "cell_type": "markdown",
   "id": "f23676c3-434e-4bec-9ad1-707b119e180d",
   "metadata": {
    "tags": []
   },
   "source": [
    "## Anpassen der Spaltennamen"
   ]
  },
  {
   "cell_type": "code",
   "execution_count": null,
   "id": "b2daca6d-f118-4116-b015-18337bc63ffc",
   "metadata": {},
   "outputs": [],
   "source": [
    "titanic.columns = ['name', 'survived', 'sex', 'age', 'class']"
   ]
  },
  {
   "cell_type": "code",
   "execution_count": null,
   "id": "04c80804-571d-44ed-b161-8e3d140ff180",
   "metadata": {},
   "outputs": [],
   "source": [
    "titanic.head()"
   ]
  },
  {
   "cell_type": "markdown",
   "id": "104dbca4-6fc5-4e66-b4a8-5cfeea6d68e2",
   "metadata": {},
   "source": [
    "## Einfache Datenanalyse"
   ]
  },
  {
   "cell_type": "code",
   "execution_count": null,
   "id": "bccb95b2-92da-491b-8804-84b0cf3eb7b6",
   "metadata": {},
   "outputs": [],
   "source": [
    "titanic.describe()"
   ]
  },
  {
   "cell_type": "markdown",
   "id": "060bbc29-693f-4be8-9934-c2522e27556f",
   "metadata": {},
   "source": [
    "* Der Aufruf von `describe` auf einem `DataFrame`, das sowohl numerische als auch nicht-numerische Spalten enthält, erzeugt beschreibende Statistiken _nur für die numerischen Spalten_. In diesem Fall nur die Spalte \"Alter\".\n",
    "* Bei der Durchführung der Berechnung ignoriert Pandas fehlende Daten (`NaN`). Daher weist `count` auch nur 1046.00 Daten aus.\n"
   ]
  },
  {
   "cell_type": "markdown",
   "id": "4e9c7706-31aa-486a-9e91-638ebbee2f94",
   "metadata": {},
   "source": [
    "&nbsp;\n",
    "\n",
    "Nehmen wir an, wir wollen eine Statistik über Menschen ermitteln, die überlebt haben:"
   ]
  },
  {
   "cell_type": "code",
   "execution_count": null,
   "id": "63ab6a4f-3859-4bc1-891c-4957ab8e30a9",
   "metadata": {},
   "outputs": [],
   "source": [
    "(titanic.survived == 'yes').describe()"
   ]
  },
  {
   "cell_type": "markdown",
   "id": "4c55e6ca-1ac3-4698-975f-f833380cc579",
   "metadata": {},
   "source": [
    "* Für nicht-numerische Daten zeigt `describe` andere Statistiken an, als für numerische Daten"
   ]
  },
  {
   "cell_type": "markdown",
   "id": "5366b77d-6f93-490c-a68b-879546728be3",
   "metadata": {},
   "source": [
    "## Alterhistogramm der Passagiere"
   ]
  },
  {
   "cell_type": "markdown",
   "id": "94d8667d-ba57-4685-8d92-486f2e9216c1",
   "metadata": {},
   "source": [
    "* Visualisierung hilft, Daten zu verstehen, bzw. kennen zu lernen\n",
    "* Pandas hat viele integrierte Visulisierungsfunktionen"
   ]
  },
  {
   "cell_type": "markdown",
   "id": "6e68ec2d-3970-430d-9134-99f1a668bf3d",
   "metadata": {},
   "source": [
    "* Ein **Histogramm** visulisiert die Verteilung der numerischen Daten über einen Wertebereich.\n",
    "* Die `hist`-Methode analysiert die Daten jeder numerischen Spalte und erzeugt ein separates Histogramm für jede numerische Spalte."
   ]
  },
  {
   "cell_type": "code",
   "execution_count": null,
   "id": "efb0dfaf-1a90-4bec-8c50-8189c546cacb",
   "metadata": {},
   "outputs": [],
   "source": [
    "histogram = titanic.hist()"
   ]
  }
 ],
 "metadata": {
  "kernelspec": {
   "display_name": "Python 3 (ipykernel)",
   "language": "python",
   "name": "python3"
  },
  "language_info": {
   "codemirror_mode": {
    "name": "ipython",
    "version": 3
   },
   "file_extension": ".py",
   "mimetype": "text/x-python",
   "name": "python",
   "nbconvert_exporter": "python",
   "pygments_lexer": "ipython3",
   "version": "3.10.5"
  }
 },
 "nbformat": 4,
 "nbformat_minor": 5
}
