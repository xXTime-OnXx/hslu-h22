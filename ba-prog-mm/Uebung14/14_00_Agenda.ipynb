{
 "cells": [
  {
   "cell_type": "markdown",
   "id": "16b583af-f267-4719-a664-fff2c5641e75",
   "metadata": {},
   "source": [
    "# 14 Matplotlib und Seaborn"
   ]
  },
  {
   "cell_type": "markdown",
   "id": "bd032bcf-9552-42a8-99d3-a365e2d09877",
   "metadata": {},
   "source": [
    "## Agenda\n",
    "* [14.1 Simulation und Visualisierung](14_01_Simulation_und_Visualisierung.ipynb)\n",
    "* [14.2 Statische Visualisierung](14_02_Statische_Visualisierung.ipynb)\n",
    "* [14.3 Befehlszeilenargumente](14_03_Befehlszeilenargumente.ipynb)\n"
   ]
  }
 ],
 "metadata": {
  "kernelspec": {
   "display_name": "Python 3 (ipykernel)",
   "language": "python",
   "name": "python3"
  },
  "language_info": {
   "codemirror_mode": {
    "name": "ipython",
    "version": 3
   },
   "file_extension": ".py",
   "mimetype": "text/x-python",
   "name": "python",
   "nbconvert_exporter": "python",
   "pygments_lexer": "ipython3",
   "version": "3.10.5"
  }
 },
 "nbformat": 4,
 "nbformat_minor": 5
}
