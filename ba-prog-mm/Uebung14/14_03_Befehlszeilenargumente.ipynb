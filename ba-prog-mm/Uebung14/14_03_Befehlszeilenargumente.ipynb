{
 "cells": [
  {
   "cell_type": "markdown",
   "id": "991b90d3-1bf3-4006-80cc-12fd7faf8039",
   "metadata": {},
   "source": [
    "# 14.3 Ausführen der Simulation aus einem Script mit Befehlszeilenargumente\n",
    "Wir wollen die oben hergeleitete Simulation so erweitern, dass sie jederzeit direkt aus einem File unter Angabe eines **Befehlszeilenarguments**, die die gewünschte Anzahl Würfe des Würfels spezifiziert.<br><br>\n",
    "Zum Beispiel soll die Simulation in einem Terminal gestartet werden für 6'000 Würfe, mittels folgendem Befehl: \n",
    "\n",
    "```python\n",
    "ipython RollDieWithArgument.py 6000\n",
    "```\n",
    "&nbsp;\n",
    "\n",
    "Wir erweitern das Script `RollDie.py` aus Kapitel 14.2 (RollDie.py) wie folgt und speichern es in der Datei `RollDieWithArgument.py`:\n",
    "* Verwendung des `sys` Moduls, um _Befehlszeilenargumente_ zu empfangen und an dem Programm zu übergeben\n",
    "* Anpassen der Zuweisung der Anzahl Würfe in die Variable `number_rolls`, wie folgt: `number_rolls = int(sys.argv[1])`\n",
    "* Ergänzung des Statments `plt.show()` am Ende des Scripts, um die Visualisierung in einem Fenster darzustellen, falls das Script direkt in IPython oder einem Terminal ausgeführt wird. \n",
    "\n",
    "\n",
    "<br>\n",
    "Das Script RollDieWithArguments.py kann nun entweder in IPython oder direkt im Jupyter Notebook ausgeführt werden."
   ]
  },
  {
   "cell_type": "markdown",
   "id": "3f8c9509-8b17-43e9-b22c-88cddd0d566b",
   "metadata": {},
   "source": [
    "<br>\n",
    "\n",
    "## Visualisierung direkt in Juputer Notebook darstellen\n",
    "\n",
    "Die Visulisierung wird direkt im Jupyter Notebook dargestellt, wenn das Script mittels `run` in einem Jupyter Notebook ausgeführt wird."
   ]
  },
  {
   "cell_type": "code",
   "execution_count": null,
   "id": "8cc70595-87a6-4901-a8f5-d29fe36868b5",
   "metadata": {},
   "outputs": [],
   "source": [
    "run RollDieWithArgument.py 600"
   ]
  },
  {
   "cell_type": "code",
   "execution_count": null,
   "id": "0d87d41a-f0ba-4b25-927c-dcafefdb94d8",
   "metadata": {},
   "outputs": [],
   "source": [
    "run RollDieWithArgument.py 6000"
   ]
  },
  {
   "cell_type": "code",
   "execution_count": null,
   "id": "ba48d55e-ab1c-434e-a91b-0778b228a889",
   "metadata": {},
   "outputs": [],
   "source": [
    "run RollDieWithArgument.py 6000000"
   ]
  }
 ],
 "metadata": {
  "kernelspec": {
   "display_name": "Python 3 (ipykernel)",
   "language": "python",
   "name": "python3"
  },
  "language_info": {
   "codemirror_mode": {
    "name": "ipython",
    "version": 3
   },
   "file_extension": ".py",
   "mimetype": "text/x-python",
   "name": "python",
   "nbconvert_exporter": "python",
   "pygments_lexer": "ipython3",
   "version": "3.10.5"
  }
 },
 "nbformat": 4,
 "nbformat_minor": 5
}
