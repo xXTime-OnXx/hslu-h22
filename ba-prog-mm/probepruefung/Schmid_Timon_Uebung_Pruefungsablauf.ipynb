{
 "cells": [
  {
   "cell_type": "markdown",
   "id": "3a8dc2f2-19a6-4526-9319-0d1e5a4b7a5f",
   "metadata": {},
   "source": [
    "# Übung Prüfungsablauf H22 - Lösung\n",
    "**20. Dezember 2022**"
   ]
  },
  {
   "cell_type": "markdown",
   "id": "01d456cc-20d4-465e-8e38-fbbac4864c87",
   "metadata": {
    "tags": []
   },
   "source": [
    "## Informationen zur Prüfung\n",
    "### Dauer: \n",
    "120 Min\n",
    "\n",
    "\n",
    "### Total mögliche Punktzahl:\n",
    "88 Punkte\n",
    "\n",
    "\n",
    "### Erlaubte Hilfsmittel\n",
    "Die Prüfung ist \"Open Book\". Erlaubt sind folgende Mittel:\n",
    "- Vorlesungsskript und gelöste Übungen\n",
    "- Persönliche Zusammenfassung\n",
    "- Python Standardbibliothek - https://docs.python.org/3/library/index.html\n",
    "- NumPy Dokumentation - https://numpy.org/doc/\n",
    "- Pandas Dokumentation - https://pandas.pydata.org/pandas-docs/stable/\n",
    "- Matplotlib Dokumentation - https://matplotlib.org\n",
    "- Seaborn Dokumentation - https://seaborn.pydata.org\n",
    "\n",
    "\n",
    "### Nicht erlaubt sind:\n",
    "- Bezug fremder Hilfe, oder Hilfe leisten (z.B. Ihre Ergebnisse teilen, Tipps geben, etc.)\n",
    "- Kommunikation mit Dritten während der Prüfung\n",
    "- Internetrecherche, abgesehen von den oben ausdrücklich erlaubten Seiten\n",
    "- Jede andere, nicht explizit erwähnte, unredliche Handlung\n",
    "\n",
    "\n",
    "### Instruktionen\n",
    "- Die Aufgaben können in beliebiger Reihenfolge gelöst werden\n",
    "- Auch Teillösungen werden bewertet\n",
    "- Fügen Sie die Lösung direkt unterhalb der Fragen ein\n",
    "- Speichern Sie die Prüfungsdatei mit Ihren Lösungen unter Verwendung folgender Namenskonvention: _**Nachname_Vorname_Uebung_Pruefungsablauf.ipynb**_\n",
    "- Laden Sie ihre Lösung fristgerecht in Ilias hoch\n",
    "- Falls die Abgabe wider Erwarten über Ilias nicht möglich, senden Sie die gelösten Aufgaben von Ihrer offiziellen HSLU-E-Mail-Adresse an <a href='mailto:philipp.toggweiler@hslu.ch'>philipp.toggweiler@hslu.ch</a>"
   ]
  },
  {
   "cell_type": "markdown",
   "id": "ea796990-b7d7-4501-9f40-8d289bc3c600",
   "metadata": {},
   "source": [
    "<br>\n",
    "\n",
    "<br>\n",
    "\n",
    "## Redlichkeitsbedingungen\n",
    "**Mit der Absolvierung der Prüfung bestätige ich, dass ich:**\n",
    "- die Prüfungen alleine und ohne unerlaubte fremde Hilfe absolviert habe,\n",
    "- die Lösungen und Resultate selbst hergeleitet habe,\n",
    "- keine anderen als die für die entsprechende Prüfung ausdrücklich vorgesehenen Hilfsmittel benutzt habe,\n",
    "- keine unerlaubte Kommunikation mit Dritten während der Prüfung geführt habe\n",
    "\n",
    "Bei Unredlichkeiten gilt der Artikel 39 der Studienordnung für Ausbildung an der Hochschule Luzern, FH Zentralschweiz (Nr. 521).\n",
    "\n",
    "&nbsp;\n",
    "\n",
    "&nbsp;\n",
    "<font color='red'>_**Datum, Name und Vorname**_</font>"
   ]
  },
  {
   "cell_type": "markdown",
   "id": "aa251667-6dd5-4050-bed8-2b5779069897",
   "metadata": {},
   "source": [
    "20.12.2022, Schmid Timon"
   ]
  },
  {
   "cell_type": "markdown",
   "id": "76179318-d402-4ced-b6bf-9ab2c1daf16c",
   "metadata": {},
   "source": [
    "&nbsp;\n",
    "\n",
    "# Aufgabe 1 (18 Punkte)\n",
    "Jedes Buch auf der Welt hat eine eindeutige ISBN (internationale Standardbuchnummer). Die letzte Ziffer ist die «Prüfsumme». Mit ihr kann die Korrektheit der ISBN überprüft werden.\n",
    "\n",
    "Eine ISBN-13 hat 13 Ziffern. Die «Prüfsumme», d.h. die letzte Ziffer, wird wie folgt berechnet:\n",
    "\n",
    "Wir nehmen die ersten 12 Ziffern und multiplizieren jede einzelne abwechselnd mit 1 oder 3. Dann wird die Summe durch 10 geteilt und der Rest ermittelt. Dieser Rest ist eine Ziffer zwischen 0 und 9. Wir subtrahieren diesen Rest von 10 und erhalten die gesuchte «Prüfsumme», und somit die letzte Ziffer der ISBN-13.\n",
    "\n",
    "\n",
    "#### Beispiel\n",
    "Wir nehmen die ISBN-13 eines Buches: 978-0-262-03800-3\n",
    "\n",
    "Nun gehen wir die ersten 12 Ziffern durch und multiplizieren jede abwechselnd mit 1 oder 3 und bilden die Summe:\n",
    "```\n",
    "9 + 7*3 + 8 + 0*3 + 2 + 6*3 + 2 + 0*3 + 3 + 8*3 + 0 + 0*3 = 87\n",
    "```\n",
    "\n",
    "Die Summe ist 87.\n",
    "Wir können diese durch 10 teilen und erhalten den Rest 7.\n",
    "Die Prüfsumme erhalten wir schliesslich, indem wir 10 – 7 = 3 berechnen.\n",
    "\n",
    "#### Ihre Aufgabe\n",
    "Schreiben Sie eine Funktion `validate_isbn13`, die eine ISBN-13 (ein String) als Argument annimmt und entweder `True` oder `False` zurückgibt, um anzuzeigen, ob es sich um eine gültige ISBN-13 handelt oder nicht.\n",
    "\n"
   ]
  },
  {
   "cell_type": "code",
   "execution_count": 15,
   "id": "1451c0b1-632e-4830-b069-97861ef1cfc6",
   "metadata": {},
   "outputs": [
    {
     "data": {
      "text/plain": [
       "True"
      ]
     },
     "execution_count": 15,
     "metadata": {},
     "output_type": "execute_result"
    }
   ],
   "source": [
    "def validate_isbn13(isbn_13: str):\n",
    "    numbers = list(map(lambda number: int(number), [*isbn_13.replace('-', '')]))\n",
    "    check_number = numbers.pop()\n",
    "    index = 0\n",
    "    sum = 0\n",
    "    for number in numbers:\n",
    "        if index % 2:\n",
    "            sum += number * 3\n",
    "        else:\n",
    "            sum += number\n",
    "        index += 1\n",
    "    \n",
    "    calculated_check_number = 10 - (sum % 10)\n",
    "    return check_number == calculated_check_number\n",
    "        \n",
    "validate_isbn13('978-0-262-03800-3')"
   ]
  },
  {
   "cell_type": "markdown",
   "id": "243676b4-8322-4269-8285-36500e9fd61e",
   "metadata": {
    "tags": []
   },
   "source": [
    "\n",
    "&nbsp;\n",
    "# Aufgabe 2 (8 Punkte)\n",
    "a) Erzeugen Sie einen (4 x 5)-Array welcher die geraden Ganzzahlwerte 2 bis 40 (inkl.) enthält und geben Sie den erzeugten Array aus."
   ]
  },
  {
   "cell_type": "markdown",
   "id": "9f7aaacb-9246-45bd-9de6-377da979314e",
   "metadata": {},
   "source": [
    "b) Erzeugen Sie mittels broadcasting einen (4 x 5)-Array, der die Quadratzahlen des Arrays aus Aufgabe a) enthält. Geben Sie den erzeugten Array aus."
   ]
  },
  {
   "cell_type": "markdown",
   "id": "b6249132-c810-4602-a544-5c2ef1af73e6",
   "metadata": {},
   "source": [
    "c) Selektieren Sie mittels Slicing die 2. und 5. Spalte des Arrays, welcher die Quadratzahlen aus Aufgabe b) enthält und geben Sie das Resultat aus.<br>\n",
    "NB: Die Spalte 1 hat den Index 0"
   ]
  },
  {
   "cell_type": "markdown",
   "id": "284046e4-127c-4266-b260-f7d796309509",
   "metadata": {},
   "source": [
    "d) Berechnen Sie die Durchschnittswerte jeder Spalte des Arrays, welcher die Quadratzahlen aus Aufgabe b) enthält und geben Sie das Resultat aus."
   ]
  },
  {
   "cell_type": "code",
   "execution_count": 3,
   "id": "8890b120-bf0f-46a7-96b5-810b71565dfe",
   "metadata": {},
   "outputs": [
    {
     "name": "stdout",
     "output_type": "stream",
     "text": [
      "[[ 2  4  6  8 10]\n",
      " [12 14 16 18 20]\n",
      " [22 24 26 28 30]\n",
      " [32 34 36 38 40]]\n"
     ]
    }
   ],
   "source": [
    "import numpy as np\n",
    "\n",
    "# a)\n",
    "a = np.arange(2, 41, 2).reshape(4, 5)\n",
    "print(a)"
   ]
  },
  {
   "cell_type": "code",
   "execution_count": 4,
   "id": "090fbc74-90df-4c42-9d40-fa0a651b58be",
   "metadata": {},
   "outputs": [
    {
     "name": "stdout",
     "output_type": "stream",
     "text": [
      "[[   4   16   36   64  100]\n",
      " [ 144  196  256  324  400]\n",
      " [ 484  576  676  784  900]\n",
      " [1024 1156 1296 1444 1600]]\n"
     ]
    }
   ],
   "source": [
    "# b)\n",
    "b = a ** 2\n",
    "print(b)"
   ]
  },
  {
   "cell_type": "code",
   "execution_count": 7,
   "id": "7d7636cd-f32e-4218-970a-fc3eb7bcf590",
   "metadata": {},
   "outputs": [
    {
     "name": "stdout",
     "output_type": "stream",
     "text": [
      "[[  16  100]\n",
      " [ 196  400]\n",
      " [ 576  900]\n",
      " [1156 1600]]\n"
     ]
    }
   ],
   "source": [
    "# c)\n",
    "c = b[:, 1:5:3]\n",
    "print(c)"
   ]
  },
  {
   "cell_type": "code",
   "execution_count": null,
   "id": "b76965c2-21ac-47be-8b4f-901398d3e05f",
   "metadata": {},
   "outputs": [],
   "source": [
    "# d)\n"
   ]
  },
  {
   "cell_type": "markdown",
   "id": "e9353075-9fc6-4135-a7da-5c9f8f98f79b",
   "metadata": {},
   "source": [
    "\n",
    "&nbsp;\n",
    "# Aufgabe 3 (22 Punkte)\n",
    "Implementieren Sie die Klassen `Rectangle` und `Square` mit folgenden Eigenschaften:\n",
    "* Beim Erzeugen eines `Rectangle`-Objekts soll die Länge und Breite des Rechtecks übergeben werden. Länge und Breite können jederzeit im Objekt geändert werden, dürfen jedoch nicht negativ oder gleich 0 sein.\n",
    "* Die `perimeter`-Methode, gibt den Umfang zurück.\n",
    "* Die `area`-Methode, gibt die Fläche zurück.\n",
    "* Die `__repr__`-Methode, gibt gem. dem aktuellen State z.B.  \"Rectangle(length: 5.0, width: 4.5)\" aus.\n",
    "* `Square` erbt von `Rectangle`\n",
    "* Beim Erzeugen eines `Square`-Objekts soll die Seitenlänge des Qaudrats übergeben werden. Diese kann jederzeit im Objekt geändert werden.\n",
    "* Die `__repr__`-Methode, gibt entsprechend dem aktuellen State z.B. \"Square(length: 2.0)\" aus.\n",
    "\n",
    "\n",
    "Schreiben Sie einen Test, der die Klassen und ihre Methoden polymorph testet."
   ]
  },
  {
   "cell_type": "code",
   "execution_count": 28,
   "id": "93827e45-910c-4995-85b4-12f9eb355e9f",
   "metadata": {},
   "outputs": [
    {
     "name": "stdout",
     "output_type": "stream",
     "text": [
      "Square(length: 2.0)\n"
     ]
    }
   ],
   "source": [
    "class Rectangle:\n",
    "\n",
    "    def __init__(self, width: float, length: float) -> None:\n",
    "        self.set_width(width)\n",
    "        self.set_length(length)\n",
    "\n",
    "    def set_width(self, width: float) -> None:\n",
    "        if width <= 0:\n",
    "            raise ValueError('width cannot be negativ or zero')\n",
    "        self.width = width\n",
    "\n",
    "    def set_length(self, length: float) -> None:\n",
    "        if length <= 0:\n",
    "            raise ValueError('length cannot be negativ or zero')\n",
    "        self.length = length\n",
    "\n",
    "    def perimeter(self) -> float:\n",
    "        return (self.width + self.length) * 2\n",
    "\n",
    "    def area(self) -> float:\n",
    "        return self.width * self.length\n",
    "\n",
    "    def __repr__(self) -> str:\n",
    "        return f'Rectangle(length: {self.length}, width: {self.width})'\n",
    "\n",
    "class Square(Rectangle):\n",
    "\n",
    "    def __init__(self, length: float) -> None:\n",
    "        super().__init__(length, length)\n",
    "\n",
    "    def set_length(self, length: float) -> None:\n",
    "        super().set_length(length)\n",
    "        super().set_width(length)\n",
    "\n",
    "    def __repr__(self) -> str:\n",
    "        return f'Square(length: {self.length})'\n",
    "\n",
    "rectangle = Rectangle(4.5, 5.0)\n",
    "assert str(rectangle) == 'Rectangle(length: 5.0, width: 4.5)'\n",
    "\n",
    "square = Square(2.0)\n",
    "assert str(square) == 'Square(length: 2.0)'"
   ]
  },
  {
   "cell_type": "markdown",
   "id": "8f5a20da-ad37-4190-8b5a-ad1daa8f2d51",
   "metadata": {},
   "source": [
    "&nbsp;\n",
    "\n",
    "# Aufgabe 4  (10 Punkte)\n",
    "a) Erstellen Sie mittels List-Comprehension eine Liste, die 10 zufällige Buchstaben aus dem Bereich ‘a’ – ‘f’ (inklusive) enthält.\n",
    "\n",
    "Führen Sie dann die folgenden Aufgaben aus und zeigen Sie Ihre Ergebnisse an:\n",
    "\n",
    "b) Sortieren Sie die Liste in absteigender Reihenfolge, ohne dabei die Ursprungsliste zu verändern.<br>\n",
    "c)   Sortieren Sie die eindeutigen (d.h. Duplikat freien) Werte in aufsteigender Reihenfolge. Die Ursprungsliste soll dabei nicht modifiziert werden.\n"
   ]
  },
  {
   "cell_type": "code",
   "execution_count": 32,
   "id": "2ba62d53-24b7-4c96-a7ec-4f8263f4bb64",
   "metadata": {},
   "outputs": [
    {
     "name": "stdout",
     "output_type": "stream",
     "text": [
      "['c', 'b', 'c', 'd', 'd', 'a', 'f', 'f', 'e', 'd']\n"
     ]
    }
   ],
   "source": [
    "# a) \n",
    "import random\n",
    "\n",
    "characters = ['a', 'b', 'c', 'd', 'e', 'f']\n",
    "random_characters = [characters[random.randint(0, len(characters) - 1)] for number in range(10)]\n",
    "print(random_characters)\n"
   ]
  },
  {
   "cell_type": "code",
   "execution_count": 34,
   "id": "0ab02915-e211-45e4-8ee9-ab1e5312dd1e",
   "metadata": {},
   "outputs": [
    {
     "name": "stdout",
     "output_type": "stream",
     "text": [
      "['f', 'f', 'e', 'd', 'd', 'd', 'c', 'c', 'b', 'a']\n",
      "['c', 'b', 'c', 'd', 'd', 'a', 'f', 'f', 'e', 'd']\n"
     ]
    }
   ],
   "source": [
    "# b)\n",
    "print(sorted(random_characters, reverse=True))"
   ]
  },
  {
   "cell_type": "code",
   "execution_count": 35,
   "id": "992b6dde-0c34-44fa-95ce-689492b482d3",
   "metadata": {
    "tags": []
   },
   "outputs": [
    {
     "data": {
      "text/plain": [
       "['a', 'b', 'c', 'd', 'e', 'f']"
      ]
     },
     "execution_count": 35,
     "metadata": {},
     "output_type": "execute_result"
    }
   ],
   "source": [
    "# c)\n",
    "sorted(set(random_characters))"
   ]
  },
  {
   "cell_type": "markdown",
   "id": "50321e40-360b-4e6b-8e42-a145794b7e22",
   "metadata": {
    "tags": []
   },
   "source": [
    "\n",
    "&nbsp;\n",
    "# Aufgabe 5 (22 Punke)\n",
    "Schere, Stein, Papier (auch als Schnik, Schnak, Schnuk bekannt) - ist ein sowohl bei Kindern als auch bei Erwachsenen beliebtes und weltweit verbreitetes Spiel.\n",
    "\n",
    "Zwei Spieler wählen je eins der drei möglichen Symbole _Schere_, _Stein_ oder _Papier_ und zeigen dieses dann auf ein Kommando gleichzeitig (schlagartig) mit Hilfe einer ihrer Hände an. Da jedes Symbol gegen ein anderes gewinnen oder verlieren kann, steht immer einer der Spieler als Gewinner fest. Zu Unentschieden kommt es, wenn beide Spieler dasselbe Symbol wählen. Das Spiel wird in diesem Fall wiederholt.  (Quelle: Wikiepedia)\n",
    "\n",
    "Schreiben Sie ein Programm, das Sentinel gesteuert beliebig oft wiederholt werden kann. Die Spielerin oder der Spieler soll via Prompt aufgefordert werden, ihre Wahl (Schere, Stein oder Papier) einzugeben. Dann wird intern für den Gegenspieler ebenfalls ein zufälliges Symbol ausgewählt und in der Folge der oder die Siegerin, oder das Untentschieden bekannt gebeben. Im Fall von Unentschieden wird nochmals widerholt, bis der oder die Gewinnerin bekannt ist."
   ]
  },
  {
   "cell_type": "code",
   "execution_count": 44,
   "id": "860af330-2ca1-4187-9a0d-4f69cdd6f496",
   "metadata": {},
   "outputs": [
    {
     "name": "stdout",
     "output_type": "stream",
     "text": [
      "stein\n",
      "schere\n",
      "Du hast gewonnen!\n"
     ]
    },
    {
     "ename": "ValueError",
     "evalue": "'' is not in list",
     "output_type": "error",
     "traceback": [
      "\u001b[1;31m---------------------------------------------------------------------------\u001b[0m",
      "\u001b[1;31mValueError\u001b[0m                                Traceback (most recent call last)",
      "Cell \u001b[1;32mIn [44], line 14\u001b[0m\n\u001b[0;32m     12\u001b[0m \u001b[39mwhile\u001b[39;00m \u001b[39mTrue\u001b[39;00m:\n\u001b[0;32m     13\u001b[0m     bot \u001b[39m=\u001b[39m options[random\u001b[39m.\u001b[39mrandint(\u001b[39m0\u001b[39m, \u001b[39mlen\u001b[39m(options) \u001b[39m-\u001b[39m \u001b[39m1\u001b[39m)]\n\u001b[1;32m---> 14\u001b[0m     player \u001b[39m=\u001b[39m get_player_input()\n\u001b[0;32m     15\u001b[0m     \u001b[39mprint\u001b[39m(player)\n\u001b[0;32m     16\u001b[0m     \u001b[39mprint\u001b[39m(bot)\n",
      "Cell \u001b[1;32mIn [44], line 9\u001b[0m, in \u001b[0;36mget_player_input\u001b[1;34m()\u001b[0m\n\u001b[0;32m      7\u001b[0m \u001b[39mwhile\u001b[39;00m \u001b[39mTrue\u001b[39;00m:\n\u001b[0;32m      8\u001b[0m     player \u001b[39m=\u001b[39m \u001b[39minput\u001b[39m(\u001b[39m'\u001b[39m\u001b[39mWaehle Schere, Stein oder Papier: \u001b[39m\u001b[39m'\u001b[39m)\u001b[39m.\u001b[39mlower()\n\u001b[1;32m----> 9\u001b[0m     \u001b[39mif\u001b[39;00m \u001b[39mnot\u001b[39;00m options\u001b[39m.\u001b[39;49mindex(player) \u001b[39m==\u001b[39m \u001b[39m-\u001b[39m\u001b[39m1\u001b[39m:\n\u001b[0;32m     10\u001b[0m         \u001b[39mreturn\u001b[39;00m player\n",
      "\u001b[1;31mValueError\u001b[0m: '' is not in list"
     ]
    }
   ],
   "source": [
    "import random\n",
    "\n",
    "\n",
    "options = ['schere', 'stein', 'papier']\n",
    "\n",
    "def get_player_input() -> str:\n",
    "    while True:\n",
    "        player = input('Waehle Schere, Stein oder Papier: ').lower()\n",
    "        if not options.index(player) == -1:\n",
    "            return player\n",
    "\n",
    "while True:\n",
    "    bot = options[random.randint(0, len(options) - 1)]\n",
    "    player = get_player_input()\n",
    "    print(player)\n",
    "    print(bot)\n",
    "\n",
    "    if player == bot:\n",
    "        print('Unentschieden, noch einmal!')\n",
    "    elif options.index(player) == 0 and options.index(bot) == 2:\n",
    "        print('Du hast gewonnen!')\n",
    "    elif options.index(bot) == 0 and options.index(player) == 2:\n",
    "        print('Du hast verloren!')\n",
    "    elif options.index(player) > options.index(bot):\n",
    "        print('Du hast gewonnen!')\n",
    "    else:\n",
    "        print('Du hast verloren!')\n",
    "    "
   ]
  },
  {
   "cell_type": "markdown",
   "id": "002479f8",
   "metadata": {},
   "source": [
    "&nbsp;\n",
    "\n",
    "# Aufgabe 6 (8 Punkte)\n",
    "Gegeben sei das folgende Dictionary:\n",
    "```\n",
    "temps = {'Mon': [68, 89], 'Tue': [71, 93], 'Wed': [66, 82], 'Thu': [75, 97], 'Fri': [62, 79]}\n",
    "```\n",
    "\n",
    "a) Konvertieren Sie das Dictionary in ein DataFrame mit dem Namen `temperatures` und den benutzerdefinierten Indizes \"Low\" und \"High\". Zeigen Sie das DataFrame an.\n",
    "\n",
    "b) Filtern Sie das DateFrame, so dass nur die Spalten für 'Mon', 'Tue' und 'Wed' ausgegeben werden.\n",
    "\n",
    "c) Zeigen Sie nur die niedrigsten Temperaturen für jeden Tag an. \n",
    "\n",
    "d) Berechnen Sie die Durchschnittstemperatur für jeden Tag.\n",
    "\n",
    "e) Berechnen Sie die durchschnittlichen Höchst- und Tiefsttemperaturen."
   ]
  },
  {
   "cell_type": "code",
   "execution_count": 48,
   "id": "2b2720a4",
   "metadata": {},
   "outputs": [
    {
     "data": {
      "text/html": [
       "<div>\n",
       "<style scoped>\n",
       "    .dataframe tbody tr th:only-of-type {\n",
       "        vertical-align: middle;\n",
       "    }\n",
       "\n",
       "    .dataframe tbody tr th {\n",
       "        vertical-align: top;\n",
       "    }\n",
       "\n",
       "    .dataframe thead th {\n",
       "        text-align: right;\n",
       "    }\n",
       "</style>\n",
       "<table border=\"1\" class=\"dataframe\">\n",
       "  <thead>\n",
       "    <tr style=\"text-align: right;\">\n",
       "      <th></th>\n",
       "      <th>Mon</th>\n",
       "      <th>Tue</th>\n",
       "      <th>Wed</th>\n",
       "      <th>Thu</th>\n",
       "      <th>Fri</th>\n",
       "    </tr>\n",
       "  </thead>\n",
       "  <tbody>\n",
       "    <tr>\n",
       "      <th>Low</th>\n",
       "      <td>68</td>\n",
       "      <td>71</td>\n",
       "      <td>66</td>\n",
       "      <td>75</td>\n",
       "      <td>62</td>\n",
       "    </tr>\n",
       "    <tr>\n",
       "      <th>High</th>\n",
       "      <td>89</td>\n",
       "      <td>93</td>\n",
       "      <td>82</td>\n",
       "      <td>97</td>\n",
       "      <td>79</td>\n",
       "    </tr>\n",
       "  </tbody>\n",
       "</table>\n",
       "</div>"
      ],
      "text/plain": [
       "      Mon  Tue  Wed  Thu  Fri\n",
       "Low    68   71   66   75   62\n",
       "High   89   93   82   97   79"
      ]
     },
     "execution_count": 48,
     "metadata": {},
     "output_type": "execute_result"
    }
   ],
   "source": [
    "# a)\n",
    "import pandas as pd\n",
    "\n",
    "temps = {'Mon': [68, 89], 'Tue': [71, 93], 'Wed': [66, 82], 'Thu': [75, 97], 'Fri': [62, 79]}\n",
    "\n",
    "temperatures = pd.DataFrame(temps)\n",
    "temperatures.index = ['Low', 'High']\n",
    "temperatures"
   ]
  },
  {
   "cell_type": "code",
   "execution_count": 53,
   "id": "e7a3ff0d",
   "metadata": {},
   "outputs": [
    {
     "data": {
      "text/html": [
       "<div>\n",
       "<style scoped>\n",
       "    .dataframe tbody tr th:only-of-type {\n",
       "        vertical-align: middle;\n",
       "    }\n",
       "\n",
       "    .dataframe tbody tr th {\n",
       "        vertical-align: top;\n",
       "    }\n",
       "\n",
       "    .dataframe thead th {\n",
       "        text-align: right;\n",
       "    }\n",
       "</style>\n",
       "<table border=\"1\" class=\"dataframe\">\n",
       "  <thead>\n",
       "    <tr style=\"text-align: right;\">\n",
       "      <th></th>\n",
       "      <th>Mon</th>\n",
       "      <th>Tue</th>\n",
       "      <th>Wed</th>\n",
       "    </tr>\n",
       "  </thead>\n",
       "  <tbody>\n",
       "    <tr>\n",
       "      <th>Low</th>\n",
       "      <td>68</td>\n",
       "      <td>71</td>\n",
       "      <td>66</td>\n",
       "    </tr>\n",
       "    <tr>\n",
       "      <th>High</th>\n",
       "      <td>89</td>\n",
       "      <td>93</td>\n",
       "      <td>82</td>\n",
       "    </tr>\n",
       "  </tbody>\n",
       "</table>\n",
       "</div>"
      ],
      "text/plain": [
       "      Mon  Tue  Wed\n",
       "Low    68   71   66\n",
       "High   89   93   82"
      ]
     },
     "execution_count": 53,
     "metadata": {},
     "output_type": "execute_result"
    }
   ],
   "source": [
    "# b)\n",
    "temperatures.iloc[[0, 1], 0:3]"
   ]
  },
  {
   "cell_type": "code",
   "execution_count": 54,
   "id": "0e2c95c2",
   "metadata": {},
   "outputs": [
    {
     "data": {
      "text/html": [
       "<div>\n",
       "<style scoped>\n",
       "    .dataframe tbody tr th:only-of-type {\n",
       "        vertical-align: middle;\n",
       "    }\n",
       "\n",
       "    .dataframe tbody tr th {\n",
       "        vertical-align: top;\n",
       "    }\n",
       "\n",
       "    .dataframe thead th {\n",
       "        text-align: right;\n",
       "    }\n",
       "</style>\n",
       "<table border=\"1\" class=\"dataframe\">\n",
       "  <thead>\n",
       "    <tr style=\"text-align: right;\">\n",
       "      <th></th>\n",
       "      <th>Mon</th>\n",
       "      <th>Tue</th>\n",
       "      <th>Wed</th>\n",
       "      <th>Thu</th>\n",
       "      <th>Fri</th>\n",
       "    </tr>\n",
       "  </thead>\n",
       "  <tbody>\n",
       "    <tr>\n",
       "      <th>Low</th>\n",
       "      <td>68</td>\n",
       "      <td>71</td>\n",
       "      <td>66</td>\n",
       "      <td>75</td>\n",
       "      <td>62</td>\n",
       "    </tr>\n",
       "  </tbody>\n",
       "</table>\n",
       "</div>"
      ],
      "text/plain": [
       "     Mon  Tue  Wed  Thu  Fri\n",
       "Low   68   71   66   75   62"
      ]
     },
     "execution_count": 54,
     "metadata": {},
     "output_type": "execute_result"
    }
   ],
   "source": [
    "# c)\n",
    "temperatures.iloc[[0]]"
   ]
  },
  {
   "cell_type": "code",
   "execution_count": 55,
   "id": "bfa26061",
   "metadata": {},
   "outputs": [
    {
     "data": {
      "text/plain": [
       "Mon    78.5\n",
       "Tue    82.0\n",
       "Wed    74.0\n",
       "Thu    86.0\n",
       "Fri    70.5\n",
       "dtype: float64"
      ]
     },
     "execution_count": 55,
     "metadata": {},
     "output_type": "execute_result"
    }
   ],
   "source": [
    "# d)\n",
    "temperatures.mean()"
   ]
  },
  {
   "cell_type": "code",
   "execution_count": 56,
   "id": "b10c4870",
   "metadata": {},
   "outputs": [
    {
     "data": {
      "text/plain": [
       "Low     68.4\n",
       "High    88.0\n",
       "dtype: float64"
      ]
     },
     "execution_count": 56,
     "metadata": {},
     "output_type": "execute_result"
    }
   ],
   "source": [
    "# e)\n",
    "temperatures.T.mean()\n"
   ]
  }
 ],
 "metadata": {
  "kernelspec": {
   "display_name": "Python 3.10.8 ('venv': venv)",
   "language": "python",
   "name": "python3"
  },
  "language_info": {
   "codemirror_mode": {
    "name": "ipython",
    "version": 3
   },
   "file_extension": ".py",
   "mimetype": "text/x-python",
   "name": "python",
   "nbconvert_exporter": "python",
   "pygments_lexer": "ipython3",
   "version": "3.10.8"
  },
  "vscode": {
   "interpreter": {
    "hash": "d80cc920d25c1d92593b6aac86af4433dd7b5970d464c24070744c11223ad8fd"
   }
  }
 },
 "nbformat": 4,
 "nbformat_minor": 5
}
