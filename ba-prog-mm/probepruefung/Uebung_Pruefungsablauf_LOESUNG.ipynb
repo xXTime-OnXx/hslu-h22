{
 "cells": [
  {
   "cell_type": "markdown",
   "id": "3a8dc2f2-19a6-4526-9319-0d1e5a4b7a5f",
   "metadata": {},
   "source": [
    "# Übung Prüfungsablauf H22 - Lösung\n",
    "**20. Dezember 2022**"
   ]
  },
  {
   "cell_type": "markdown",
   "id": "01d456cc-20d4-465e-8e38-fbbac4864c87",
   "metadata": {
    "tags": []
   },
   "source": [
    "## Informationen zur Prüfung\n",
    "### Dauer: \n",
    "120 Min\n",
    "\n",
    "\n",
    "### Total mögliche Punktzahl:\n",
    "88 Punkte\n",
    "\n",
    "\n",
    "### Erlaubte Hilfsmittel\n",
    "Die Prüfung ist \"Open Book\". Erlaubt sind folgende Mittel:\n",
    "- Vorlesungsskript und gelöste Übungen\n",
    "- Persönliche Zusammenfassung\n",
    "- Python Standardbibliothek - https://docs.python.org/3/library/index.html\n",
    "- NumPy Dokumentation - https://numpy.org/doc/\n",
    "- Pandas Dokumentation - https://pandas.pydata.org/pandas-docs/stable/\n",
    "- Matplotlib Dokumentation - https://matplotlib.org\n",
    "- Seaborn Dokumentation - https://seaborn.pydata.org\n",
    "\n",
    "\n",
    "### Nicht erlaubt sind:\n",
    "- Bezug fremder Hilfe, oder Hilfe leisten (z.B. Ihre Ergebnisse teilen, Tipps geben, etc.)\n",
    "- Kommunikation mit Dritten während der Prüfung\n",
    "- Internetrecherche, abgesehen von den oben ausdrücklich erlaubten Seiten\n",
    "- Jede andere, nicht explizit erwähnte, unredliche Handlung\n",
    "\n",
    "\n",
    "### Instruktionen\n",
    "- Die Aufgaben können in beliebiger Reihenfolge gelöst werden\n",
    "- Auch Teillösungen werden bewertet\n",
    "- Fügen Sie die Lösung direkt unterhalb der Fragen ein\n",
    "- Speichern Sie die Prüfungsdatei mit Ihren Lösungen unter Verwendung folgender Namenskonvention: _**Nachname_Vorname_Uebung_Pruefungsablauf.ipynb**_\n",
    "- Laden Sie ihre Lösung fristgerecht in Ilias hoch\n",
    "- Falls die Abgabe wider Erwarten über Ilias nicht möglich, senden Sie die gelösten Aufgaben von Ihrer offiziellen HSLU-E-Mail-Adresse an <a href='mailto:philipp.toggweiler@hslu.ch'>philipp.toggweiler@hslu.ch</a>"
   ]
  },
  {
   "cell_type": "markdown",
   "id": "ea796990-b7d7-4501-9f40-8d289bc3c600",
   "metadata": {},
   "source": [
    "<br>\n",
    "\n",
    "<br>\n",
    "\n",
    "## Redlichkeitsbedingungen\n",
    "**Mit der Absolvierung der Prüfung bestätige ich, dass ich:**\n",
    "- die Prüfungen alleine und ohne unerlaubte fremde Hilfe absolviert habe,\n",
    "- die Lösungen und Resultate selbst hergeleitet habe,\n",
    "- keine anderen als die für die entsprechende Prüfung ausdrücklich vorgesehenen Hilfsmittel benutzt habe,\n",
    "- keine unerlaubte Kommunikation mit Dritten während der Prüfung geführt habe\n",
    "\n",
    "Bei Unredlichkeiten gilt der Artikel 39 der Studienordnung für Ausbildung an der Hochschule Luzern, FH Zentralschweiz (Nr. 521).\n",
    "\n",
    "&nbsp;\n",
    "\n",
    "&nbsp;\n",
    "<font color='red'>_**Datum, Name und Vorname**_</font>"
   ]
  },
  {
   "cell_type": "markdown",
   "id": "aa251667-6dd5-4050-bed8-2b5779069897",
   "metadata": {},
   "source": []
  },
  {
   "cell_type": "markdown",
   "id": "76179318-d402-4ced-b6bf-9ab2c1daf16c",
   "metadata": {},
   "source": [
    "&nbsp;\n",
    "\n",
    "# Aufgabe 1 (18 Punkte)\n",
    "Jedes Buch auf der Welt hat eine eindeutige ISBN (internationale Standardbuchnummer). Die letzte Ziffer ist die «Prüfsumme». Mit ihr kann die Korrektheit der ISBN überprüft werden.\n",
    "\n",
    "Eine ISBN-13 hat 13 Ziffern. Die «Prüfsumme», d.h. die letzte Ziffer, wird wie folgt berechnet:\n",
    "\n",
    "Wir nehmen die ersten 12 Ziffern und multiplizieren jede einzelne abwechselnd mit 1 oder 3. Dann wird die Summe durch 10 geteilt und der Rest ermittelt. Dieser Rest ist eine Ziffer zwischen 0 und 9. Wir subtrahieren diesen Rest von 10 und erhalten die gesuchte «Prüfsumme», und somit die letzte Ziffer der ISBN-13.\n",
    "\n",
    "\n",
    "#### Beispiel\n",
    "Wir nehmen die ISBN-13 eines Buches: 978-0-262-03800-3\n",
    "\n",
    "Nun gehen wir die ersten 12 Ziffern durch und multiplizieren jede abwechselnd mit 1 oder 3 und bilden die Summe:\n",
    "```\n",
    "9 + 7*3 + 8 + 0*3 + 2 + 6*3 + 2 + 0*3 + 3 + 8*3 + 0 + 0*3 = 87\n",
    "```\n",
    "\n",
    "Die Summe ist 87.\n",
    "Wir können diese durch 10 teilen und erhalten den Rest 7.\n",
    "Die Prüfsumme erhalten wir schliesslich, indem wir 10 – 7 = 3 berechnen.\n",
    "\n",
    "#### Ihre Aufgabe\n",
    "Schreiben Sie eine Funktion `validate_isbn13`, die eine ISBN-13 (ein String) als Argument annimmt und entweder `True` oder `False` zurückgibt, um anzuzeigen, ob es sich um eine gültige ISBN-13 handelt oder nicht.\n",
    "\n"
   ]
  },
  {
   "cell_type": "code",
   "execution_count": null,
   "id": "1df07317-9f9f-48b0-88d9-366d27f1339e",
   "metadata": {},
   "outputs": [],
   "source": [
    "import re\n",
    "\n",
    "def validate_isbn13(isbn_13):\n",
    "    isbn_13 = re.sub(r'\\D', '', isbn_13)\n",
    "    \n",
    "    if len(isbn_13) != 13:\n",
    "        return False\n",
    "    \n",
    "    total = 0\n",
    "    for index, digit in enumerate(isbn_13[:-1]):\n",
    "        if index % 2 == 0:\n",
    "            total += int(digit)\n",
    "        else:\n",
    "            total += int(digit) * 3\n",
    "            \n",
    "    checksum = 10 - total % 10\n",
    "    \n",
    "    return True if checksum == int(isbn_13[-1]) else False\n",
    "            "
   ]
  },
  {
   "cell_type": "code",
   "execution_count": null,
   "id": "719309cf-6593-46e2-af68-bdb99918a394",
   "metadata": {},
   "outputs": [],
   "source": [
    "validate_isbn13('978-0-262-03800-3')"
   ]
  },
  {
   "cell_type": "markdown",
   "id": "243676b4-8322-4269-8285-36500e9fd61e",
   "metadata": {
    "tags": []
   },
   "source": [
    "\n",
    "&nbsp;\n",
    "# Aufgabe 2 (8 Punkte)\n",
    "a) Erzeugen Sie einen (4 x 5)-Array welcher die geraden Ganzzahlwerte 2 bis 40 (inkl.) enthält und geben Sie den erzeugten Array aus."
   ]
  },
  {
   "cell_type": "markdown",
   "id": "9f7aaacb-9246-45bd-9de6-377da979314e",
   "metadata": {},
   "source": [
    "b) Erzeugen Sie mittels broadcasting einen (4 x 5)-Array, der die Quadratzahlen des Arrays aus Aufgabe a) enthält. Geben Sie den erzeugten Array aus."
   ]
  },
  {
   "cell_type": "markdown",
   "id": "b6249132-c810-4602-a544-5c2ef1af73e6",
   "metadata": {},
   "source": [
    "c) Selektieren Sie mittels Slicing die 2. und 5. Spalte des Arrays, welcher die Quadratzahlen aus Aufgabe b) enthält und geben Sie das Resultat aus.<br>\n",
    "NB: Die Spalte 1 hat den Index 0"
   ]
  },
  {
   "cell_type": "markdown",
   "id": "284046e4-127c-4266-b260-f7d796309509",
   "metadata": {},
   "source": [
    "d) Berechnen Sie die Durchschnittswerte jeder Spalte des Arrays, welcher die Quadratzahlen aus Aufgabe b) enthält und geben Sie das Resultat aus."
   ]
  },
  {
   "cell_type": "code",
   "execution_count": null,
   "id": "e698af45-f750-42ec-b967-5a61973c913d",
   "metadata": {},
   "outputs": [],
   "source": [
    "# a)\n",
    "import numpy as np\n",
    "a = np.arange(2, 41, 2).reshape(4, 5)\n",
    "print(a)"
   ]
  },
  {
   "cell_type": "code",
   "execution_count": null,
   "id": "da9213a3-f0cd-478d-8611-0fdd3ab7945c",
   "metadata": {},
   "outputs": [],
   "source": [
    "# b)\n",
    "squares = a ** 2\n",
    "print(squares)"
   ]
  },
  {
   "cell_type": "code",
   "execution_count": null,
   "id": "a327148e-1c1d-4a99-a792-10b5a688c9cc",
   "metadata": {},
   "outputs": [],
   "source": [
    "# c)\n",
    "print(squares[:, [1, 4]])"
   ]
  },
  {
   "cell_type": "code",
   "execution_count": null,
   "id": "2518804b-53ab-413c-841f-fb60440c151b",
   "metadata": {},
   "outputs": [],
   "source": [
    "# d)\n",
    "print(squares.mean(axis=0))"
   ]
  },
  {
   "cell_type": "markdown",
   "id": "e9353075-9fc6-4135-a7da-5c9f8f98f79b",
   "metadata": {},
   "source": [
    "\n",
    "&nbsp;\n",
    "# Aufgabe 3 (22 Punkte)\n",
    "Implementieren Sie die Klassen `Rectangle` und `Square` mit folgenden Eigenschaften:\n",
    "* Beim Erzeugen eines `Rectangle`-Objekts soll die Länge und Breite des Rechtecks übergeben werden. Länge und Breite können jederzeit im Objekt geändert werden, dürfen jedoch nicht negativ oder gleich 0 sein.\n",
    "* Die `perimeter`-Methode, gibt den Umfang zurück.\n",
    "* Die `area`-Methode, gibt die Fläche zurück.\n",
    "* Die `__repr__`-Methode, gibt gem. dem aktuellen State z.B.  \"Rectangle(length: 5.0, width: 4.5)\" aus.\n",
    "* `Square` erbt von `Rectangle`\n",
    "* Beim Erzeugen eines `Square`-Objekts soll die Seitenlänge des Qaudrats übergeben werden. Diese kann jederzeit im Objekt geändert werden.\n",
    "* Die `__repr__`-Methode, gibt entsprechend dem aktuellen State z.B. \"Square(length: 2.0)\" aus.\n",
    "\n",
    "\n",
    "Schreiben Sie einen Test, der die Klassen und ihre Methoden polymorph testet."
   ]
  },
  {
   "cell_type": "code",
   "execution_count": null,
   "id": "b137b8ef-2757-42b2-bbec-6901890f3da1",
   "metadata": {},
   "outputs": [],
   "source": [
    "class Rectangle:\n",
    "    \n",
    "    def __init__(self, length, width):\n",
    "        self.length = length\n",
    "        self.width = width\n",
    "        \n",
    "    @property\n",
    "    def length(self):\n",
    "        return self._length\n",
    "   \n",
    "\n",
    "    @length.setter\n",
    "    def length(self, length):\n",
    "        if length <= 0.0:\n",
    "            raise ValueError('Length must be >= 0.0')\n",
    "            \n",
    "        self._length = length\n",
    "        \n",
    "        \n",
    "    @property\n",
    "    def width(self):\n",
    "        return self._width\n",
    "    \n",
    "    \n",
    "    @width.setter\n",
    "    def width(self, width):\n",
    "        if width <= 0.0:\n",
    "            raise ValueError('Width must be >= 0.0')\n",
    "        \n",
    "        self._width = width\n",
    "    \n",
    "    \n",
    "    def perimeter(self):\n",
    "        return 2 * self.length + 2 * self.width\n",
    "    \n",
    "    \n",
    "    def area(self):\n",
    "        return self.length * self.width\n",
    "    \n",
    "    \n",
    "    def __repr__(self):\n",
    "        return f'Rectangle(length: {self.length}, width: {self.width})'"
   ]
  },
  {
   "cell_type": "code",
   "execution_count": null,
   "id": "0b2f069a-bedf-4d40-b658-eb473a1ffdef",
   "metadata": {},
   "outputs": [],
   "source": [
    "class Square(Rectangle):\n",
    "    \n",
    "    def __init__(self, length):\n",
    "        super().__init__(length, length)\n",
    "    \n",
    "    @property\n",
    "    def length(self):\n",
    "        return self._length\n",
    "\n",
    "\n",
    "    @length.setter\n",
    "    def length(self, length):\n",
    "        if length <= 0.0:\n",
    "            raise ValueError('Length must be >= 0.0')\n",
    "            \n",
    "        self._length = length\n",
    "        self._width = length\n",
    "        \n",
    "        \n",
    "    def __repr__(self):\n",
    "        return f'Square(length: {self.length})'  "
   ]
  },
  {
   "cell_type": "code",
   "execution_count": null,
   "id": "c3721132-3c9e-4a00-a4dd-dd96d4bf8b7c",
   "metadata": {},
   "outputs": [],
   "source": [
    "rectangle = Rectangle(5.0, 4.0)\n",
    "square = Square(2.0)\n",
    "square.length = 3.0\n",
    "shapes = [rectangle, square]\n",
    "for shape in shapes:\n",
    "    print(shape)\n",
    "    print(f'Perimeter: {shape.perimeter()}')\n",
    "    print(f'Area: {shape.area()}')\n",
    "    print()"
   ]
  },
  {
   "cell_type": "markdown",
   "id": "8f5a20da-ad37-4190-8b5a-ad1daa8f2d51",
   "metadata": {},
   "source": [
    "&nbsp;\n",
    "\n",
    "# Aufgabe 4  (10 Punkte)\n",
    "a) Erstellen Sie mittels List-Comprehension eine Liste, die 10 zufällige Buchstaben aus dem Bereich ‘a’ – ‘f’ (inklusive) enthält.\n",
    "\n",
    "Führen Sie dann die folgenden Aufgaben aus und zeigen Sie Ihre Ergebnisse an:\n",
    "\n",
    "b) Sortieren Sie die Liste in absteigender Reihenfolge, ohne dabei die Ursprungsliste zu verändern.<br>\n",
    "c)   Sortieren Sie die eindeutigen (d.h. Duplikat freien) Werte in aufsteigender Reihenfolge. Die Ursprungsliste soll dabei nicht modifiziert werden.\n"
   ]
  },
  {
   "cell_type": "code",
   "execution_count": null,
   "id": "2ba62d53-24b7-4c96-a7ec-4f8263f4bb64",
   "metadata": {},
   "outputs": [],
   "source": [
    "# a) \n",
    "from numpy import random\n",
    "\n",
    "letters = list('abcdef')\n",
    "random_letters = [random.choice(letters) for i in range(10)]\n",
    "random_letters"
   ]
  },
  {
   "cell_type": "code",
   "execution_count": null,
   "id": "0ab02915-e211-45e4-8ee9-ab1e5312dd1e",
   "metadata": {},
   "outputs": [],
   "source": [
    "# b)\n",
    "sorted(random_letters, reverse=True)"
   ]
  },
  {
   "cell_type": "code",
   "execution_count": null,
   "id": "992b6dde-0c34-44fa-95ce-689492b482d3",
   "metadata": {
    "tags": []
   },
   "outputs": [],
   "source": [
    "# c)\n",
    "sorted(set(random_letters))"
   ]
  },
  {
   "cell_type": "markdown",
   "id": "50321e40-360b-4e6b-8e42-a145794b7e22",
   "metadata": {},
   "source": [
    "\n",
    "&nbsp;\n",
    "# Aufgabe 5 (22 Punke)\n",
    "Schere, Stein, Papier (auch als Schnik, Schnak, Schnuk bekannt) - ist ein sowohl bei Kindern als auch bei Erwachsenen beliebtes und weltweit verbreitetes Spiel.\n",
    "\n",
    "Zwei Spieler wählen je eins der drei möglichen Symbole _Schere_, _Stein_ oder _Papier_ und zeigen dieses dann auf ein Kommando gleichzeitig (schlagartig) mit Hilfe einer ihrer Hände an. Da jedes Symbol gegen ein anderes gewinnen oder verlieren kann, steht immer einer der Spieler als Gewinner fest. Zu Unentschieden kommt es, wenn beide Spieler dasselbe Symbol wählen. Das Spiel wird in diesem Fall wiederholt.  (Quelle: Wikiepedia)\n",
    "\n",
    "Schreiben Sie ein Programm, das Sentinel gesteuert beliebig oft wiederholt werden kann. Die Spielerin oder der Spieler soll via Prompt aufgefordert werden, ihre Wahl (Schere, Stein oder Papier) einzugeben. Dann wird intern für den Gegenspieler ebenfalls ein zufälliges Symbol ausgewählt und in der Folge der oder die Siegerin, oder das Untentschieden bekannt gebeben. Im Fall von Unentschieden wird nochmals widerholt, bis der oder die Gewinnerin bekannt ist."
   ]
  },
  {
   "cell_type": "code",
   "execution_count": null,
   "id": "dd2a2eea-8942-462b-a40b-f36ccab18f9e",
   "metadata": {},
   "outputs": [],
   "source": [
    "import random\n",
    "\n",
    "def prompt():\n",
    "    return 'Enter your choice: 0 for rock, 1 for paper, 2 for scissors'\n",
    "\n",
    "rps = ['Rock', 'Paper', 'Scissors']\n",
    "rock_eval = {0: 'Tie', 1: 'Loose', 2: 'Win'}\n",
    "paper_eval = {0: 'Win', 1: 'Tie', 2: 'Loose'}\n",
    "scissors_eval = {0: 'Loose', 1: 'Win', 2: 'Tie'}\n",
    "\n",
    "game_over = False\n",
    "\n",
    "print('Welcome to Rock, Paper, Scissors game\\n')\n",
    "while not game_over:\n",
    "    your_choice = input(prompt())\n",
    "    while your_choice not in ['0', '1', '2']:\n",
    "        your_choice = input(('Please enter 0 for rock, '\n",
    "                             '1 for paper, 2 for scissors'))\n",
    "\n",
    "    your_choice = int(your_choice)\n",
    "    opponent_choice = random.randrange(3)\n",
    "    \n",
    "    \n",
    "    if your_choice == 0:\n",
    "        result = rock_eval[opponent_choice]\n",
    "    elif your_choice == 1:\n",
    "        result = paper_eval[opponent_choice]\n",
    "    elif your_choice == 2:\n",
    "        result = scissors_eval[opponent_choice]\n",
    "    \n",
    "    print('Your choice: ' + rps[your_choice])\n",
    "    print('Opponent\\'s choice: ' + rps[opponent_choice])\n",
    "    if(result != 'Tie'):\n",
    "        print(f'You {result}!')\n",
    "    else:  \n",
    "        print(\"It's a tie. Try again.\")\n",
    "        continue\n",
    "\n",
    "    play_again = input('Play again (yes or no)? ')\n",
    "    \n",
    "    if play_again in ['n', 'no']:\n",
    "        game_over = True\n",
    "        \n",
    "print('Good bye. Thanks for playing!')"
   ]
  },
  {
   "cell_type": "markdown",
   "id": "002479f8",
   "metadata": {},
   "source": [
    "&nbsp;\n",
    "\n",
    "# Aufgabe 6 (8 Punkte)\n",
    "Gegeben sei das folgende Dictionary:\n",
    "```\n",
    "temps = {'Mon': [68, 89], 'Tue': [71, 93], 'Wed': [66, 82], 'Thu': [75, 97], 'Fri': [62, 79]}\n",
    "```\n",
    "\n",
    "a) Konvertieren Sie das Dictionary in ein DataFrame mit dem Namen `temperatures` und den benutzerdefinierten Indizes \"Low\" und \"High\". Zeigen Sie das DataFrame an.\n",
    "\n",
    "b) Filtern Sie das DateFrame, so dass nur die Spalten für 'Mon', 'Tue' und 'Wed' ausgegeben werden.\n",
    "\n",
    "c) Zeigen Sie nur die niedrigsten Temperaturen für jeden Tag an. \n",
    "\n",
    "d) Berechnen Sie die Durchschnittstemperatur für jeden Tag.\n",
    "\n",
    "e) Berechnen Sie die durchschnittlichen Höchst- und Tiefsttemperaturen."
   ]
  },
  {
   "cell_type": "code",
   "execution_count": null,
   "id": "2b2720a4",
   "metadata": {},
   "outputs": [],
   "source": [
    "# a)\n",
    "import pandas as pd\n",
    "\n",
    "temps = {'Mon': [68, 89], 'Tue': [71, 93], 'Wed': [66, 82], 'Thu': [75, 97], 'Fri': [62, 79]}\n",
    "temperatures = pd.DataFrame(temps, index=['Low', 'High'])\n",
    "print(temperatures)"
   ]
  },
  {
   "cell_type": "code",
   "execution_count": null,
   "id": "e7a3ff0d",
   "metadata": {},
   "outputs": [],
   "source": [
    "# b)\n",
    "temperatures.loc[:,'Mon':'Wed']"
   ]
  },
  {
   "cell_type": "code",
   "execution_count": null,
   "id": "0e2c95c2",
   "metadata": {},
   "outputs": [],
   "source": [
    "# c)\n",
    "temperatures.loc['Low']"
   ]
  },
  {
   "cell_type": "code",
   "execution_count": null,
   "id": "bfa26061",
   "metadata": {},
   "outputs": [],
   "source": [
    "# d)\n",
    "temperatures.mean()"
   ]
  },
  {
   "cell_type": "code",
   "execution_count": null,
   "id": "b10c4870",
   "metadata": {},
   "outputs": [],
   "source": [
    "# e)\n",
    "temperatures.mean(axis=1)"
   ]
  }
 ],
 "metadata": {
  "kernelspec": {
   "display_name": "venv",
   "language": "python",
   "name": "python3"
  },
  "language_info": {
   "codemirror_mode": {
    "name": "ipython",
    "version": 3
   },
   "file_extension": ".py",
   "mimetype": "text/x-python",
   "name": "python",
   "nbconvert_exporter": "python",
   "pygments_lexer": "ipython3",
   "version": "3.10.7 (v3.10.7:6cc6b13308, Sep  5 2022, 14:02:52) [Clang 13.0.0 (clang-1300.0.29.30)]"
  },
  "vscode": {
   "interpreter": {
    "hash": "023e4eadc93684ac1c8050cfafbde284d504370f1252686768eedecb22e3f812"
   }
  }
 },
 "nbformat": 4,
 "nbformat_minor": 5
}
