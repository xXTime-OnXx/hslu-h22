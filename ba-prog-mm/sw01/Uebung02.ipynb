{
 "cells": [
  {
   "cell_type": "markdown",
   "metadata": {
    "tags": []
   },
   "source": [
    "# Übung 2"
   ]
  },
  {
   "cell_type": "markdown",
   "metadata": {},
   "source": [
    "## Aufgabe 1\n",
    "a) Sind `score_4`, `3g` und `x` gültige Variablennamen? Begründen Sie."
   ]
  },
  {
   "cell_type": "markdown",
   "metadata": {},
   "source": [
    "3g ist kein gülter name die anderen schon"
   ]
  },
  {
   "cell_type": "markdown",
   "metadata": {},
   "source": [
    "b) Stimmt die Aussage, dass in verschachtelten Klammern der innerste Ausdruck zuletzt ausgewertet wird?"
   ]
  },
  {
   "cell_type": "markdown",
   "metadata": {},
   "source": [
    "nein zuerst"
   ]
  },
  {
   "cell_type": "markdown",
   "metadata": {},
   "source": [
    "c) Welchen Typ gibt die Anweisung `type(7.5 * 3)` zurück?"
   ]
  },
  {
   "cell_type": "markdown",
   "metadata": {},
   "source": [
    "float"
   ]
  },
  {
   "cell_type": "markdown",
   "metadata": {},
   "source": [
    "d) Werden alle Vergleichsoperatoren in der gleichen Priorität ausgewertet?"
   ]
  },
  {
   "cell_type": "markdown",
   "metadata": {},
   "source": [
    "nein"
   ]
  },
  {
   "cell_type": "markdown",
   "metadata": {},
   "source": [
    "## Aufgabe 2\n",
    "Welcher der folgenden Ausdrücke entspricht nicht der Gleichung y = a * x^3 + 7?\n",
    "\n",
    "```\n",
    "a) y = a * x * x * x + 7\n",
    "\n",
    "b) y = a * x ** 3 + 7\n",
    "\n",
    "c) y = a * (x * x * x) + 7\n",
    "\n",
    "d) y = a * x * (x * x + 7)\n",
    "```"
   ]
  },
  {
   "cell_type": "markdown",
   "metadata": {},
   "source": [
    "d"
   ]
  },
  {
   "cell_type": "markdown",
   "metadata": {},
   "source": [
    "## Aufgabe 3 \n",
    "Erhalten Sie bei der Berechung der folgenden Ausdrücke dasselbe Resulat? Sind einige der Klammern überflüssig?\n",
    "```\n",
    "a) 4 ** 3 ** 2\n",
    "b) (4 ** 3) ** 2\n",
    "c) 4 ** (3 ** 2)\n",
    "```"
   ]
  },
  {
   "cell_type": "markdown",
   "metadata": {},
   "source": [
    "b ist überflüssig udn c ist anders"
   ]
  },
  {
   "cell_type": "markdown",
   "metadata": {},
   "source": [
    "## Aufgabe 4\n",
    "Was wird mit folgendem Ausdruck ausgegeben?\n",
    "\n",
    "```\n",
    "print('int(5.2)', 'truncates 5.2 to', int(5.2))\n",
    "```\n"
   ]
  },
  {
   "cell_type": "markdown",
   "metadata": {},
   "source": [
    "int(5.2) truncates 5.2 to 5"
   ]
  },
  {
   "cell_type": "markdown",
   "metadata": {
    "tags": []
   },
   "source": [
    "## Aufgabe 5 \n",
    "Was wird mit folgendem Ausdruck ausgegeben?\n",
    "```\n",
    "print(\"\"\"This is a lengthy\n",
    "  multiline string containing\n",
    "a few lines \\\n",
    "of text\"\"\")\n",
    "```"
   ]
  },
  {
   "cell_type": "markdown",
   "metadata": {},
   "source": []
  },
  {
   "cell_type": "markdown",
   "metadata": {},
   "source": [
    "## Aufgabe 6\n",
    "Geben Sie für die Werte 47, 95, 73, 88 und 84 das Minimum, das Maximum und den Range am Bildschirm aus."
   ]
  },
  {
   "cell_type": "code",
   "execution_count": 8,
   "metadata": {},
   "outputs": [
    {
     "name": "stdout",
     "output_type": "stream",
     "text": [
      "minimum: 47\n",
      "maximum: 95\n",
      "range: 47 - 95\n"
     ]
    }
   ],
   "source": [
    "values = [47, 95, 73, 88, 84]\n",
    "print(\"minimum:\", min(values))\n",
    "print(\"maximum:\", max(values))\n",
    "print(f\"range: {min(values)} - {max(values)}\")"
   ]
  },
  {
   "cell_type": "markdown",
   "metadata": {
    "tags": []
   },
   "source": [
    "## Aufgabe 7\n",
    "Der folgende Code sollte eine ganze Zahl einlesen und der Variable `rating` zuweisen. Ist der Code korrekt?\n",
    "```\n",
    "rating = input('Enter an integer rating between 1 and 10: ')\n",
    "```"
   ]
  },
  {
   "cell_type": "markdown",
   "metadata": {},
   "source": [
    "rating wird einen string und keinen integer beinhalten"
   ]
  },
  {
   "cell_type": "markdown",
   "metadata": {},
   "source": [
    "## Aufgabe 8\n",
    "Ersetzten Sie den Kommentar im folgenden Code mit einer Anweisung, welche eine Meldung in der Form \"Congratulation! Your score of 91 earns you a grade 6\" auf dem Bildschirm ausgibt.\n"
   ]
  },
  {
   "cell_type": "code",
   "execution_count": 9,
   "metadata": {},
   "outputs": [
    {
     "name": "stdout",
     "output_type": "stream",
     "text": [
      "Congratulation! Your score of 91 earns you a grade 6\n"
     ]
    }
   ],
   "source": [
    "points = 91\n",
    "if points >= 90:\n",
    "    print(f'Congratulation! Your score of {points} earns you a grade 6')\n",
    "    # add here the missing statement"
   ]
  },
  {
   "cell_type": "markdown",
   "metadata": {},
   "source": [
    "## Aufgabe 9\n",
    "Geben Sie den Durchmesser, Umfang und Fläche eines Kreises mit Radius 2 auf dem Bildschirm aus. Verwenden Sie für diese Berechnung 3.14159 für Pi. Verwenden Sie folgende Formeln für die Berechnung der Ausgaben:\n",
    "\n",
    "diameter = 2 * r (r: radius)\n",
    "\n",
    "cicumference = 2 * pi * r\n",
    "\n",
    "area = pi*r^2"
   ]
  },
  {
   "cell_type": "code",
   "execution_count": 12,
   "metadata": {},
   "outputs": [
    {
     "name": "stdout",
     "output_type": "stream",
     "text": [
      "diameter:  4\n",
      "cicumference:  12.56636\n",
      "area:  12.56636\n"
     ]
    }
   ],
   "source": [
    "pi = 3.14159\n",
    "r = 2\n",
    "print('diameter: ', 2 * r)\n",
    "print('cicumference: ', pi * 2 * r)\n",
    "print('area: ', pi * r ** 2)"
   ]
  },
  {
   "cell_type": "markdown",
   "metadata": {},
   "source": [
    "## Aufgabe 10 \n",
    "Schreiben Sie ein Program, welches eine ganze Zahl einliest und Ihnen dann mitteilt, ob die eingegebene Zahl gerade oder ungerade ist."
   ]
  },
  {
   "cell_type": "code",
   "execution_count": 15,
   "metadata": {},
   "outputs": [
    {
     "name": "stdin",
     "output_type": "stream",
     "text": [
      "ganze zahl eingeben:  4\n"
     ]
    },
    {
     "name": "stdout",
     "output_type": "stream",
     "text": [
      "gerade zahl\n"
     ]
    }
   ],
   "source": [
    "number = int(input('ganze zahl eingeben: '))\n",
    "if number % 2:\n",
    "    print('ungerade zahl')\n",
    "else:\n",
    "    print('gerade zahl')\n",
    "    "
   ]
  },
  {
   "cell_type": "markdown",
   "metadata": {},
   "source": [
    "## Aufgabe 11 \n",
    "Schreiben Sie ein Programm, welches drei ganze Zahlen vom Benutzer einliest und dann die Summe, den Durchschnitt, das Produkt, die kleinste und grösste der Zahlen ausgibt."
   ]
  },
  {
   "cell_type": "code",
   "execution_count": 25,
   "metadata": {},
   "outputs": [
    {
     "name": "stdin",
     "output_type": "stream",
     "text": [
      "geben sie die 1. zahl ein:  23\n",
      "geben sie die 2. zahl ein:  2\n",
      "geben sie die 3. zahl ein:  5\n"
     ]
    },
    {
     "name": "stdout",
     "output_type": "stream",
     "text": [
      "Summe:  30\n",
      "Durchschnitt:  10.0\n",
      "Produkt:  230\n",
      "Kleinste Zahl:  2\n",
      "Grösste Zahl:  23\n"
     ]
    }
   ],
   "source": [
    "numbers = []\n",
    "for number in range(3):\n",
    "    user_input = input(f'geben sie die {number + 1}. zahl ein: ')\n",
    "    numbers.append(int(user_input))\n",
    "    \n",
    "product = 1\n",
    "for number in numbers:\n",
    "    product = product * number\n",
    "    \n",
    "print('Summe: ', sum(numbers))\n",
    "print('Durchschnitt: ', sum(numbers) / len(numbers))\n",
    "print('Produkt: ', product)\n",
    "print('Kleinste Zahl: ', min(numbers))\n",
    "print('Grösste Zahl: ', max(numbers))"
   ]
  },
  {
   "cell_type": "markdown",
   "metadata": {},
   "source": [
    "##  Aufgabe 12\n",
    "Schreiben Sie ein Programm, welches drei Fliesskomma-Zahlen einliest und diese dann in aufsteigender Reihenfolge am Bildschirm ausgibt."
   ]
  },
  {
   "cell_type": "code",
   "execution_count": 1,
   "metadata": {},
   "outputs": [
    {
     "name": "stdin",
     "output_type": "stream",
     "text": [
      "geben sie die 1. zahl ein:  2.5\n",
      "geben sie die 2. zahl ein:  222.321\n",
      "geben sie die 3. zahl ein:  2349.11\n"
     ]
    },
    {
     "name": "stdout",
     "output_type": "stream",
     "text": [
      "[2.5, 222.321, 2349.11]\n"
     ]
    }
   ],
   "source": [
    "numbers = []\n",
    "for number in range(3):\n",
    "    user_input = input(f'geben sie die {number + 1}. zahl ein: ')\n",
    "    numbers.append(float(user_input))\n",
    "    \n",
    "numbers.sort()\n",
    "\n",
    "print(numbers)"
   ]
  }
 ],
 "metadata": {
  "kernelspec": {
   "display_name": "Python 3 (ipykernel)",
   "language": "python",
   "name": "python3"
  },
  "language_info": {
   "codemirror_mode": {
    "name": "ipython",
    "version": 3
   },
   "file_extension": ".py",
   "mimetype": "text/x-python",
   "name": "python",
   "nbconvert_exporter": "python",
   "pygments_lexer": "ipython3",
   "version": "3.10.7"
  }
 },
 "nbformat": 4,
 "nbformat_minor": 4
}
