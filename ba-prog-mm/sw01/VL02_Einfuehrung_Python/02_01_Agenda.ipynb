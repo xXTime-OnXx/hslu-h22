{
 "cells": [
  {
   "cell_type": "markdown",
   "metadata": {},
   "source": [
    "# 2. Einführung in die Python-Programmierung\n",
    "In diesem Kapitel führen wir in die Python-Programmierung ein und stellen Beispiele vor, die die wichtigsten Merkmale der Sprache veranschaulichen.\n",
    "\n",
    "\n",
    "### Agenda\n",
    "* 2.2 [Variablen und Zuweisung von Werten](02_02_Variablen_und_Zuweisung.ipynb)\n",
    "* 2.3 [Arithmetische Operatoren](02_03_Arithmetische_Operatoren.ipynb)\n",
    "* 2.4 [Die `print` Funktion](02_04_print-Funktion.ipynb)\n",
    "* 2.5 [Dreifach-Anführungszeichen](02_05_Dreifach-Anfuehrungszeichen.ipynb)\n",
    "* 2.6 [Benutzerinput: Die `input`Funktion](02_06_input-Funktion.ipynb)\n",
    "* 2.7 [Eintscheidungen: Die `if`-Anweisung und Vergleichsoperatoren](02_07_Entscheidungen.ipynb)\n",
    "* 2.8 [Objekte und dynamische Typisierung](02_08_Objekte_und_dynamische_Typisierung.ipynb)\n",
    "* 2.9 [Die `min`- und `max`-Funktion](02_09_min-_und_max-Funktion.ipynb)"
   ]
  }
 ],
 "metadata": {
  "kernelspec": {
   "display_name": "Python 3 (ipykernel)",
   "language": "python",
   "name": "python3"
  },
  "language_info": {
   "codemirror_mode": {
    "name": "ipython",
    "version": 3
   },
   "file_extension": ".py",
   "mimetype": "text/x-python",
   "name": "python",
   "nbconvert_exporter": "python",
   "pygments_lexer": "ipython3",
   "version": "3.10.5"
  }
 },
 "nbformat": 4,
 "nbformat_minor": 4
}
