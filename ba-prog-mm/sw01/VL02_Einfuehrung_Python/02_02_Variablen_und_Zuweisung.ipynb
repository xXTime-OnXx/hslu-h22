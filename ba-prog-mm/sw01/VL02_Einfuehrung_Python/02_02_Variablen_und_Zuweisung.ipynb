{
 "cells": [
  {
   "cell_type": "markdown",
   "metadata": {},
   "source": [
    "# 2.2 Variablen and Zuweisung\n",
    "Wir können Werte zur späteren Verwendung im Code speichern, indem wir einer Variablen einen Wert zuweisen. Beispielsweise können wir die Variable x erstellen und das Zuweisungssymbol (=) verwenden, um x einen Wert zuzuweisen."
   ]
  },
  {
   "cell_type": "code",
   "execution_count": null,
   "metadata": {},
   "outputs": [],
   "source": [
    "x = 7   # x is assigned the value 7"
   ]
  },
  {
   "cell_type": "code",
   "execution_count": null,
   "metadata": {},
   "outputs": [],
   "source": [
    "y = 3"
   ]
  },
  {
   "cell_type": "markdown",
   "metadata": {},
   "source": [
    "Sie können jetzt die Werte von x und y in Ausdrücken verwenden:"
   ]
  },
  {
   "cell_type": "code",
   "execution_count": null,
   "metadata": {},
   "outputs": [],
   "source": [
    "x + y"
   ]
  },
  {
   "cell_type": "markdown",
   "metadata": {},
   "source": [
    "Häufig werden Sie Berechnungsergebnisse für eine spätere Verwendung speichern."
   ]
  },
  {
   "cell_type": "code",
   "execution_count": null,
   "metadata": {},
   "outputs": [],
   "source": [
    "total = x + y"
   ]
  },
  {
   "cell_type": "code",
   "execution_count": null,
   "metadata": {},
   "outputs": [],
   "source": [
    "total"
   ]
  },
  {
   "cell_type": "markdown",
   "metadata": {},
   "source": [
    "# Python Style\n",
    "Der _Style Guide for Python Code_ hilft Ihnen, Code zu schreiben, der den Konventionen von Python entspricht. Der Style Guide empfiehlt, ein Leerzeichen auf jeder Seite des Zuweisungssymbols = und binären Operatoren wie + einzufügen, um Programme lesbarer zu machen."
   ]
  },
  {
   "cell_type": "markdown",
   "metadata": {},
   "source": [
    "# Variablennamen\n",
    "* Variablennamen beginnen immer mit einem Kleinbuchstaben oder einem Unterstrich;\n",
    "* dürfen nicht mit einer Ziffer beginnen;\n",
    "* können Buchstaben, Ziffern und Unterstrich (\\_) enthalten;\n",
    "* Python ist **case-sensitiv**, d.h. **number** und **Number** sind unterschiedliche Varialen;\n",
    "*  Wenn der Variablenname aus mehreren Wörtern besteht, z.B. **speed_kmh**, dann verwenden Sie einen Unterstrich (\\_), um die Lesbarkeit zu verbessern."
   ]
  },
  {
   "cell_type": "markdown",
   "metadata": {},
   "source": [
    "# Typen\n",
    "Jeder Wert in Pyhton hat einen Datentyp, der angibt, welche Art von Daten der Wert darstellt. Sie können den Datentyp eines Wertes wie folgt anzeigen:"
   ]
  },
  {
   "cell_type": "code",
   "execution_count": null,
   "metadata": {},
   "outputs": [],
   "source": [
    "type(x)"
   ]
  },
  {
   "cell_type": "code",
   "execution_count": null,
   "metadata": {},
   "outputs": [],
   "source": [
    "type(10.5)"
   ]
  },
  {
   "cell_type": "markdown",
   "metadata": {},
   "source": [
    "Die Variable x enthält den ganzzahligen Wert 7 (aus Snippet [1]), so dass Python *int* (kurz für integer) anzeigt. Der Wert 10.5 ist eine Fliesskommazahl, d.h. eine Zahl mit einem Dezimalpunkt, so dass Python *float* anzeigt.\n",
    "\n",
    "Die Funktion `type` bestimmt den Typ eines Wertes. Eine Funktion führt eine Aufgabe aus, wenn Sie sie aufrufen, indem Sie ihren Namen, gefolgt von Klammern, schreiben. Die Klammern enthalten das Argument der Funktion - die Daten, die die `type`-Funktion zur Ausführung ihrer Aufgabe benötigt."
   ]
  }
 ],
 "metadata": {
  "kernelspec": {
   "display_name": "Python 3 (ipykernel)",
   "language": "python",
   "name": "python3"
  },
  "language_info": {
   "codemirror_mode": {
    "name": "ipython",
    "version": 3
   },
   "file_extension": ".py",
   "mimetype": "text/x-python",
   "name": "python",
   "nbconvert_exporter": "python",
   "pygments_lexer": "ipython3",
   "version": "3.10.7"
  }
 },
 "nbformat": 4,
 "nbformat_minor": 4
}
