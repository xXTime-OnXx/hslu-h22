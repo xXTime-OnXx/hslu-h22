{
 "cells": [
  {
   "cell_type": "markdown",
   "metadata": {},
   "source": [
    "# 2.3 Arithmetik\n",
    "Viele Programme führen arithmetische Berechnungen durch. Die folgende Tabelle fasst die arithmetischen Operatoren zusammen, die einige in der Algebra nicht verwendete Symbole enthalten.\n",
    "\n",
    "![Arithmetic Operators](ch02images/arithmetic_operators.png)\n",
    "\n"
   ]
  },
  {
   "cell_type": "markdown",
   "metadata": {},
   "source": [
    "## Multiplikation (*)"
   ]
  },
  {
   "cell_type": "code",
   "execution_count": null,
   "metadata": {},
   "outputs": [],
   "source": [
    "7 * 4"
   ]
  },
  {
   "cell_type": "markdown",
   "metadata": {},
   "source": [
    "## Potenz (**)\n",
    "Der Potenzierungsoperator (**) erhöht einen Wert um die Potenz eines anderen:"
   ]
  },
  {
   "cell_type": "code",
   "execution_count": null,
   "metadata": {},
   "outputs": [],
   "source": [
    "2 ** 3"
   ]
  },
  {
   "cell_type": "markdown",
   "metadata": {},
   "source": [
    "Um die Quadratwurzel zu berechnen, können Sie den Exponenten 1/2 (d.h. 0.5) verwenden:"
   ]
  },
  {
   "cell_type": "code",
   "execution_count": null,
   "metadata": {},
   "outputs": [],
   "source": [
    "9 ** (1/2)"
   ]
  },
  {
   "cell_type": "code",
   "execution_count": null,
   "metadata": {},
   "outputs": [],
   "source": [
    "9 ** 0.5"
   ]
  },
  {
   "cell_type": "markdown",
   "metadata": {},
   "source": [
    "## Division (/)\n",
    "Die Division (/) dividiert einen Zähler durch einen Nenner und ergibt eine Fliesskommazahl mit einem Dezimalpunkt."
   ]
  },
  {
   "cell_type": "code",
   "execution_count": null,
   "metadata": {},
   "outputs": [],
   "source": [
    "7 / 4"
   ]
  },
  {
   "cell_type": "code",
   "execution_count": null,
   "metadata": {},
   "outputs": [],
   "source": [
    "-13 / 4"
   ]
  },
  {
   "cell_type": "markdown",
   "metadata": {},
   "source": [
    "##  Ganzzahl-Division (//)\n",
    "Die Ganzahhl-Division (//) ist eine Division ohne Rest.\n",
    "Die Ganzzahl-Division dividiert einen Zähler durch einen Nenner, und gibt als Resultat die höchste _ganze_ Zahl zurück, die nicht grösser als das Ergebnis der echten Division ist. D.h., Python verwirft den Bruchteil."
   ]
  },
  {
   "cell_type": "code",
   "execution_count": null,
   "metadata": {},
   "outputs": [],
   "source": [
    "7 // 4"
   ]
  },
  {
   "cell_type": "code",
   "execution_count": null,
   "metadata": {},
   "outputs": [],
   "source": [
    "3 // 5"
   ]
  },
  {
   "cell_type": "code",
   "execution_count": null,
   "metadata": {},
   "outputs": [],
   "source": [
    "14 // 7"
   ]
  },
  {
   "cell_type": "code",
   "execution_count": null,
   "metadata": {},
   "outputs": [],
   "source": [
    "-13 // 4"
   ]
  },
  {
   "cell_type": "markdown",
   "metadata": {},
   "source": [
    "Die Ganzzahl-Division ergibt die nächste ganze Zahl zurück, die nicht grösser als -3.25 ist, also -4."
   ]
  },
  {
   "cell_type": "markdown",
   "metadata": {},
   "source": [
    "## Ausnahmen (Exceptions)\n",
    "\n",
    "### ZeroDivisionError\n",
    "Die Division durch Null mit / oder // ist nicht erlaubt und führt zu einer Ausnahme (Exception) - ein Zeichen dafür, dass ein Problem aufgetreten ist:"
   ]
  },
  {
   "cell_type": "code",
   "execution_count": null,
   "metadata": {},
   "outputs": [],
   "source": [
    "123 / 0"
   ]
  },
  {
   "cell_type": "markdown",
   "metadata": {},
   "source": [
    "Python meldet eine Ausnahme mit einem **Traceback**. Der Traceback in unserem Beispiel zeigt an, dass eine Ausnahme vom Typ _ZeroDivisionError_ aufgetreten ist.\n",
    "\n",
    "Im interaktiven Modus wird die Snippet-Nummer, die die Ausnahme verursacht hat durch `Cell In [11]` angegeben. \n",
    "\n",
    "Die Zeile, die mit ----> 1 beginnt, zeigt den Code, der die Ausnahme verursacht hat.\n",
    "Oft haben Snippets mehr als eine Codezeile - die 1 rechts von ----> zeigt an, dass die erste Codezeile innerhalb des Snippets die Ausnahme verursacht hat.\n",
    "\n",
    "Die letzte Zeile des Traceback zeigt die aufgetretene Ausnahme, gefolgt von einem Doppelpunkt (:) und einer Fehlermeldung mit weiteren Informationen über die Ausnahme an."
   ]
  },
  {
   "cell_type": "markdown",
   "metadata": {},
   "source": [
    "### NameError\n",
    "Eine Ausnahme tritt auch dann auf, wenn Sie versuchen, eine Variable zu verwenden, die Sie noch nicht erstellt haben. Das folgende Snippet versucht, der undefinierten Variable `z` den Wert 7 hinzuzufügen, was zu einem NameError führt:"
   ]
  },
  {
   "cell_type": "code",
   "execution_count": null,
   "metadata": {},
   "outputs": [],
   "source": [
    "z + 7"
   ]
  },
  {
   "cell_type": "markdown",
   "metadata": {},
   "source": [
    "## Modulo (Restwert) Operator (%)\n",
    "Der Python-Modulo-Operator (%) berechnet den Restwert, nachdem der linke Operand durch den rechten Operanden dividiert wurde:"
   ]
  },
  {
   "cell_type": "code",
   "execution_count": null,
   "metadata": {},
   "outputs": [],
   "source": [
    "17 % 5"
   ]
  },
  {
   "cell_type": "markdown",
   "metadata": {},
   "source": [
    "In diesem Fall ergibt 17 geteilt durch 5 einen Quotienten von 3 und einen Rest von 2.\n",
    "\n",
    "Dieser Operator wird am häufigsten bei ganzen Zahlen verwendet, kann aber auch mit anderen numerischen Typen verwendet werden:"
   ]
  },
  {
   "cell_type": "code",
   "execution_count": null,
   "metadata": {},
   "outputs": [],
   "source": [
    "7.5 % 3.5"
   ]
  },
  {
   "cell_type": "markdown",
   "metadata": {},
   "source": [
    "## Gruppierung von Ausdrücken mit Klammern\n",
    "Klammern gruppieren Python-Ausdrücke, analog wie sie in algebraischen Ausdrücken vorkommen. Zum Beispiel multipliziert der folgende Code das Resultat von 5 + 3 mit 10:"
   ]
  },
  {
   "cell_type": "code",
   "execution_count": null,
   "metadata": {},
   "outputs": [],
   "source": [
    "10 * (5 + 3)"
   ]
  },
  {
   "cell_type": "markdown",
   "metadata": {},
   "source": [
    "Ohne diese Klammern ist das Ergebnis anders:"
   ]
  },
  {
   "cell_type": "code",
   "execution_count": null,
   "metadata": {},
   "outputs": [],
   "source": [
    "10 * 5 + 3"
   ]
  },
  {
   "cell_type": "markdown",
   "metadata": {},
   "source": [
    "## Vorrangregeln von Operatoren\n",
    "#### 1. Ausdrücke in Klammern werden zuerst ausgewertet\n",
    "* Klammern haben die höchste Priorität. Sie können die Reihenfolge der Anweisung erzwingen\n",
    "* Bei verschachtelten Klammern, wird der innerste Ausdruck immer zuerst ausgewertet\n",
    "    * z.B. (a / (b - c))\n",
    "\n",
    "#### 2. Potenzierungs-Operationen werden als nächstes ausgewertet\n",
    "* Wenn ein Ausdruck mehrere Potenzierungsoperationen enthält, werden diese von rechts nach links ausgewertet (**rechtsassoziativ**)\n",
    "    * a ** b ** c, ist dasselbe wie a ** (b ** c)\n",
    "\n",
    "#### 3. Multiplikation, Division und Restwertberechnung werden als nächstes ausgewertet\n",
    "* Wenn ein Ausdruck mehrere Multiplikationen, Division, Ganzzahl-Division und Modulo-Operationen enthält, wendet Python diese von links nach rechts an (**linksassoziativ**)\n",
    "* Multiplikation, Division und Modulo haben die **gleiche Priorität**.\n",
    "\n",
    "#### 4. Addition und Subtraktion werden zuletzt ausgewertet\n",
    "* Wenn ein Ausdruck mehrere Additions- und Subtraktionsoperationen enthält, wendet Python diese von links nach rechts an (**linksassoziativ**). \n",
    "* Addition und Subtraktion haben die **gleiche Priorität**.\n",
    "\n",
    "Wir werden diese Regeln erweitern, wenn wir andere Operationen einführen.\n",
    "\n",
    "\n",
    "Komplette Liste: https://docs.python.org/3/reference/expressions.html#operator-precedence"
   ]
  },
  {
   "cell_type": "markdown",
   "metadata": {},
   "source": [
    "## Gruppierung von Operationen mittels Klammern"
   ]
  },
  {
   "cell_type": "code",
   "execution_count": null,
   "metadata": {},
   "outputs": [],
   "source": [
    "1 + 2 + 3"
   ]
  },
  {
   "cell_type": "code",
   "execution_count": null,
   "metadata": {},
   "outputs": [],
   "source": [
    "(1 + 2) + 3"
   ]
  },
  {
   "cell_type": "markdown",
   "metadata": {},
   "source": [
    "## Operandentypen haben Auswirkungen auf den Typ des Ergebnisses\n",
    "Jeder arithmetische Oparator kann mit Ganzzahlen und Fliesskommazahlen verwendet werden.\n",
    "\n",
    "Wenn beide Operanden ganze Zahlen sind: Ergebnis ist eine ganze Zahl - mit Ausnahme der Division (/), die immer eine Fliesskommazahl ergibt."
   ]
  },
  {
   "cell_type": "code",
   "execution_count": null,
   "metadata": {},
   "outputs": [],
   "source": [
    "2 * 3"
   ]
  },
  {
   "cell_type": "code",
   "execution_count": null,
   "metadata": {},
   "outputs": [],
   "source": [
    "6 / 2"
   ]
  },
  {
   "cell_type": "code",
   "execution_count": null,
   "metadata": {},
   "outputs": [],
   "source": [
    "6 // 2"
   ]
  },
  {
   "cell_type": "markdown",
   "metadata": {},
   "source": [
    "Wenn beide Operanden Fliesskommazahlen sind: Ergebnis ist eine Fliesskommazahl"
   ]
  },
  {
   "cell_type": "code",
   "execution_count": null,
   "metadata": {},
   "outputs": [],
   "source": [
    "3.0 * 2.0"
   ]
  },
  {
   "cell_type": "markdown",
   "metadata": {},
   "source": [
    "Ausdrücke gemischter Art, die eine ganze Zahl und eine Fliesskommazahl enthalten, erzeugen immer ein Fliesskommaergebnis."
   ]
  },
  {
   "cell_type": "code",
   "execution_count": null,
   "metadata": {},
   "outputs": [],
   "source": [
    "3 * 2.0"
   ]
  }
 ],
 "metadata": {
  "kernelspec": {
   "display_name": "Python 3 (ipykernel)",
   "language": "python",
   "name": "python3"
  },
  "language_info": {
   "codemirror_mode": {
    "name": "ipython",
    "version": 3
   },
   "file_extension": ".py",
   "mimetype": "text/x-python",
   "name": "python",
   "nbconvert_exporter": "python",
   "pygments_lexer": "ipython3",
   "version": "3.10.7"
  }
 },
 "nbformat": 4,
 "nbformat_minor": 4
}
