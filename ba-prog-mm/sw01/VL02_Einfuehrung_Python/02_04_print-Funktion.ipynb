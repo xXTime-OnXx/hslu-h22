{
 "cells": [
  {
   "cell_type": "markdown",
   "metadata": {},
   "source": [
    "# 2.4 Die print Funktion\n",
    "Die `print`-Funktion zeigt ihre Argumente als eine Textzeile an:"
   ]
  },
  {
   "cell_type": "code",
   "execution_count": null,
   "metadata": {},
   "outputs": [],
   "source": [
    "print('Welcome to Python!')"
   ]
  },
  {
   "cell_type": "code",
   "execution_count": null,
   "metadata": {},
   "outputs": [],
   "source": [
    "print(\"Welcome to Python!\")"
   ]
  },
  {
   "cell_type": "markdown",
   "metadata": {},
   "source": [
    "Wenn die Funktion`print` ihre Aufgabe abgeschlossen hat, positioniert sie den **Cursor am Anfang der nächsten Zeile**. Dies ähnelt dem, was passiert, wenn Sie während der Eingabe in einem Texteditor die Taste _Enter_ (oder _Return_) drücken."
   ]
  },
  {
   "cell_type": "markdown",
   "metadata": {},
   "source": [
    "## Drucken einer durch Komma getrennte Liste von Elementen\n",
    "Die `print`-Funktion kann eine **komma-separierte Liste von Argumenten** erhalten. In diesem Fall wird jedes Argument durch ein Leerzeichen von der nächsten getrennt angezeigt."
   ]
  },
  {
   "cell_type": "code",
   "execution_count": null,
   "metadata": {},
   "outputs": [],
   "source": [
    "print('Welcome', 'to', 'Python!')"
   ]
  },
  {
   "cell_type": "code",
   "execution_count": null,
   "metadata": {},
   "outputs": [],
   "source": [
    "print('A comma-separated list can ben useful, among other things,',\n",
    "     'to spread a long section of text over several lines. This ensures', \n",
    "     'that the source code can be printed on an A4 page.')"
   ]
  },
  {
   "cell_type": "code",
   "execution_count": null,
   "metadata": {},
   "outputs": [],
   "source": [
    "print('Sum is:', 7 + 3)"
   ]
  },
  {
   "cell_type": "markdown",
   "metadata": {},
   "source": [
    "## Drucken mehrerer Textzeilen\n",
    "Wenn ein Backslash (\\\\) in einer Zeichenfolge erscheint, wird er als **Escape-Zeichen** bezeichnet. Der Backslash und das unmittelbar darauf folgende Zeichen bilden eine **Escape-Sequenz**.\n",
    "Zum Beispiel steht `\\n` für eine Zeilenumbruchsequenz, die `print` anweist, den Ausgabecursor in die nächste Zeile zu verschieben."
   ]
  },
  {
   "cell_type": "code",
   "execution_count": null,
   "metadata": {},
   "outputs": [],
   "source": [
    "print('Welcome\\nto\\n\\nPython!')"
   ]
  },
  {
   "cell_type": "markdown",
   "metadata": {},
   "source": [
    "### Häufige Escape-Sequenzen "
   ]
  },
  {
   "cell_type": "markdown",
   "metadata": {},
   "source": [
    "![Escape_Sequences](ch02images/escape_sequences.png)"
   ]
  },
  {
   "cell_type": "markdown",
   "metadata": {},
   "source": [
    "## Drucken von Anführungszeichen in einer Zeichenfolge"
   ]
  },
  {
   "cell_type": "code",
   "execution_count": null,
   "metadata": {},
   "outputs": [],
   "source": [
    "print('He said: \"What a nice day we have.\"')"
   ]
  },
  {
   "cell_type": "code",
   "execution_count": null,
   "metadata": {},
   "outputs": [],
   "source": [
    "print(\"He said: \"What a nice day we have\"\")"
   ]
  },
  {
   "cell_type": "code",
   "execution_count": null,
   "metadata": {},
   "outputs": [],
   "source": [
    "print(\"He said: \\\"What a nice day we have.\\\"\")"
   ]
  },
  {
   "cell_type": "markdown",
   "metadata": {},
   "source": [
    "## Ignorieren eines Zeilenumbruchs in langer Zeichenfolge\n",
    "Sie können eine lange Zeichenfolge (oder eine lange Anweisung) auch auf mehrere Zeilen aufteilen, indem Sie einen Backslash `\\` in einer Zeile verwenden, um den Zeilenumbruch zu ignorieren."
   ]
  },
  {
   "cell_type": "code",
   "execution_count": null,
   "metadata": {},
   "outputs": [],
   "source": [
    "print('this is a long string, so we \\\n",
    "split it over two lines')"
   ]
  }
 ],
 "metadata": {
  "kernelspec": {
   "display_name": "Python 3 (ipykernel)",
   "language": "python",
   "name": "python3"
  },
  "language_info": {
   "codemirror_mode": {
    "name": "ipython",
    "version": 3
   },
   "file_extension": ".py",
   "mimetype": "text/x-python",
   "name": "python",
   "nbconvert_exporter": "python",
   "pygments_lexer": "ipython3",
   "version": "3.10.7"
  }
 },
 "nbformat": 4,
 "nbformat_minor": 4
}
