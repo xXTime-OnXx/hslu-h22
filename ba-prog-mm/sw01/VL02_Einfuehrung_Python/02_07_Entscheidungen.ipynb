{
 "cells": [
  {
   "cell_type": "markdown",
   "metadata": {},
   "source": [
    "# 2.7 Entscheidungen: Die `if`-Anweisung und Vergleichsoperatoren "
   ]
  },
  {
   "cell_type": "markdown",
   "metadata": {},
   "source": [
    "## Bedingung\n",
    "Eine Bedingung ist ein Boolescher Ausdruck, der zum Wert **True** oder **False** ausgewertet wird.\n",
    "`True` und `False` sind Schlüsselwörter. Sie sind für die Sprache von Python reserviert und dürfen nicht als Bezeichner verwendet werden.\n",
    "\n",
    "Häufig werden Sie Bedingungen mit Vergleichsoperatoren erstellen:\n",
    "\n",
    "![Comparison Operators](ch02images/comparison_operators.png)\n",
    "\n",
    "Die Operatoren >, <, >=, <=, == und != sind alle linksassoziativ und haben alle den gleichen Vorrang.\n"
   ]
  },
  {
   "cell_type": "code",
   "execution_count": null,
   "metadata": {},
   "outputs": [],
   "source": [
    "7 > 4"
   ]
  },
  {
   "cell_type": "code",
   "execution_count": null,
   "metadata": {},
   "outputs": [],
   "source": [
    "7 < 4"
   ]
  },
  {
   "cell_type": "code",
   "execution_count": null,
   "metadata": {},
   "outputs": [],
   "source": [
    "7 == 7"
   ]
  },
  {
   "cell_type": "markdown",
   "metadata": {},
   "source": [
    "Verwechseln Sie `==` nicht mit `=`.\n",
    "\n",
    "`==` ist ein Vergleichsoperator, während `=` das Zuweisungssymbol ist."
   ]
  },
  {
   "cell_type": "code",
   "execution_count": null,
   "metadata": {},
   "outputs": [],
   "source": [
    "7 = 7"
   ]
  },
  {
   "cell_type": "code",
   "execution_count": null,
   "metadata": {},
   "outputs": [],
   "source": [
    "x = 7"
   ]
  },
  {
   "cell_type": "code",
   "execution_count": null,
   "metadata": {},
   "outputs": [],
   "source": [
    "x"
   ]
  },
  {
   "cell_type": "markdown",
   "metadata": {},
   "source": [
    "## Verkettung von Vergleichen\n",
    "Sie können Vergleiche verketten, um zu prüfen, ob ein Wert in einem Bereich liegt."
   ]
  },
  {
   "cell_type": "code",
   "execution_count": null,
   "metadata": {},
   "outputs": [],
   "source": [
    "x = 3"
   ]
  },
  {
   "cell_type": "code",
   "execution_count": null,
   "metadata": {},
   "outputs": [],
   "source": [
    "1 <= x <= 5"
   ]
  },
  {
   "cell_type": "code",
   "execution_count": null,
   "metadata": {},
   "outputs": [],
   "source": [
    "x = 10"
   ]
  },
  {
   "cell_type": "code",
   "execution_count": null,
   "metadata": {},
   "outputs": [],
   "source": [
    "1 <= x <= 5"
   ]
  },
  {
   "cell_type": "markdown",
   "metadata": {},
   "source": [
    "## Entscheidungsfindung mit der if-Anweisung "
   ]
  },
  {
   "cell_type": "markdown",
   "metadata": {},
   "source": [
    "### if Statement\n",
    "Eine if-Anweisung besteht aus dem Schlüsselwort `if`, der zu prüfenden Bedingung und einem Doppelpunkt (:), gefolgt von einem eingerückten Block namens Suite.\n",
    "\n",
    "Jede Suite muss eine oder mehrere Anweisungen enthalten. Diese Anweisungen werden verarbeitet, wenn die Bedingung als wahr ausgewertet wird.\n",
    "\n",
    "Der _Style Guide for Python Code_ empfiehlt Einrückungen mit vier Leerzeichen.\n",
    "\n",
    "Hinweis: Das Vergessen des Doppelpunkts (:) nach der Bedingung ist ein häufiger Syntaxfehler."
   ]
  },
  {
   "cell_type": "code",
   "execution_count": null,
   "metadata": {},
   "outputs": [],
   "source": [
    "if 4 < 5:\n",
    "    print('4 is less than 5')"
   ]
  },
  {
   "cell_type": "code",
   "execution_count": null,
   "metadata": {},
   "outputs": [],
   "source": [
    "# decisions.py\n",
    "\"\"\"Comparing integers using if statements and comparison operators.\"\"\"\n",
    "\n",
    "print('Enter two integers, and I will tell you the relationhips they satisfy.')\n",
    "\n",
    "# read first integer\n",
    "number1 = int(input('Enter first integer: '))\n",
    "\n",
    "# read second integer\n",
    "number2 = int(input('Enter second integer: '))\n",
    "\n",
    "# Compare integers and print messages based on conditions that evaluate to True\n",
    "if number1 == number2:\n",
    "    print(number1, 'is equal to', number2)\n",
    "    \n",
    "if number1 != number2:\n",
    "    print(number1, 'is not equal to', number2)\n",
    "\n",
    "if number1 < number2:\n",
    "    print(number1, 'is less than', number2)\n",
    "    \n",
    "if number1 > number2:\n",
    "    print(number1, 'is greater than', number2)\n",
    "    \n",
    "if number1 <= number2:\n",
    "    print(number1, 'is less than or equal to', number2)\n",
    "    \n",
    "if number1 >= number2:\n",
    "    print(number1, 'is greater than or equal to', number2)"
   ]
  },
  {
   "cell_type": "code",
   "execution_count": null,
   "metadata": {},
   "outputs": [],
   "source": [
    "run decisions.py"
   ]
  },
  {
   "cell_type": "markdown",
   "metadata": {},
   "source": [
    "# Vorrang der von uns bisher vorgestellten Operatoren\n",
    "Die Tabelle listet die Operatoren von oben nach unten in abnehmender Rangfolge auf.\n",
    "\n",
    "![Operators_Precedence](ch02images/operators_precedence.png)\n",
    "\n",
    "Vollständige Liste: https://docs.python.org/3/reference/expressions.html#operator-precedence"
   ]
  }
 ],
 "metadata": {
  "kernelspec": {
   "display_name": "Python 3 (ipykernel)",
   "language": "python",
   "name": "python3"
  },
  "language_info": {
   "codemirror_mode": {
    "name": "ipython",
    "version": 3
   },
   "file_extension": ".py",
   "mimetype": "text/x-python",
   "name": "python",
   "nbconvert_exporter": "python",
   "pygments_lexer": "ipython3",
   "version": "3.10.5"
  }
 },
 "nbformat": 4,
 "nbformat_minor": 4
}
