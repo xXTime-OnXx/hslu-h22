{
 "cells": [
  {
   "cell_type": "markdown",
   "metadata": {},
   "source": [
    "# 2.9 Die min- und max-Funktion\n",
    "\n",
    "In Data Science werden Sie häufig deskriptive Statistik verwenden, um Ihre Daten zu beschreiben und zusammenzufassen. Zum Beispiel:\n",
    "* minimum - Der kleinste Wert in einer Sammlung von Werten.\n",
    "* maximum - Der größte Wert in einer Sammlung von Werten.\n",
    "* range - Der Wertebereich vom Minimum bis zum Maximum.\n",
    "* count - Die Anzahl der Werte in einer Sammlung von Werten.\n",
    "* sum - Die Summe der Werte in einer Sammlung.\n",
    "\n",
    "Im folgenden wollen wir die min- und max-Funktion einführen."
   ]
  },
  {
   "cell_type": "markdown",
   "metadata": {},
   "source": [
    "## Bestimmen des Minimums von drei Werten"
   ]
  },
  {
   "cell_type": "markdown",
   "metadata": {},
   "source": [
    "Zunächst bestimmen wir das Minimum von drei Werten durch ein eigenes Script."
   ]
  },
  {
   "cell_type": "code",
   "execution_count": null,
   "metadata": {},
   "outputs": [],
   "source": [
    "# calculate_minimum.py\n",
    "\"\"\"Find the minimum of three values.\"\"\"\n",
    "\n",
    "number1 = int(input('Enter first integer: '))\n",
    "number2 = int(input('Enter second integer: '))\n",
    "number3 = int(input('Enter third integer: '))\n",
    "\n",
    "minimum = number1\n",
    "\n",
    "if number2 < minimum:\n",
    "    minimum = number2\n",
    "    \n",
    "if number3 < minimum:\n",
    "    minimum = number3\n",
    "    \n",
    "print('Minimum value is', minimum)"
   ]
  },
  {
   "cell_type": "code",
   "execution_count": null,
   "metadata": {},
   "outputs": [],
   "source": [
    "run calculate_minimum.py"
   ]
  },
  {
   "cell_type": "markdown",
   "metadata": {},
   "source": [
    "## Bestimmung des Minimums und Maximums mit den Funktionen `min` und `max`\n",
    "Die integrierten Funktionen `min` und `max` berechnen das Minimum bzw. Maximum einer Sammlung von Werten. Sie können eine beliebige Anzahl von Argumenten empfangen."
   ]
  },
  {
   "cell_type": "code",
   "execution_count": null,
   "metadata": {},
   "outputs": [],
   "source": [
    "min(36, 27, 12)"
   ]
  },
  {
   "cell_type": "code",
   "execution_count": null,
   "metadata": {},
   "outputs": [],
   "source": [
    "max(26, 27, 12)"
   ]
  },
  {
   "cell_type": "markdown",
   "metadata": {},
   "source": [
    "Die Funktionen `min` und `max` sind Beispiele für ein funktionales Programmierkonzept namens **Reduktion**. Sie reduzieren eine **Sammlung von Werten** auf **einen einzigen Wert**.\n",
    "Andere Reduzierungen, die Sie sehen werden, umfassen **Summe**, **Durchschnitt**, **Varianz** und **Standardabweichung** einer Sammlung von Werten."
   ]
  }
 ],
 "metadata": {
  "kernelspec": {
   "display_name": "Python 3 (ipykernel)",
   "language": "python",
   "name": "python3"
  },
  "language_info": {
   "codemirror_mode": {
    "name": "ipython",
    "version": 3
   },
   "file_extension": ".py",
   "mimetype": "text/x-python",
   "name": "python",
   "nbconvert_exporter": "python",
   "pygments_lexer": "ipython3",
   "version": "3.10.5"
  }
 },
 "nbformat": 4,
 "nbformat_minor": 4
}
