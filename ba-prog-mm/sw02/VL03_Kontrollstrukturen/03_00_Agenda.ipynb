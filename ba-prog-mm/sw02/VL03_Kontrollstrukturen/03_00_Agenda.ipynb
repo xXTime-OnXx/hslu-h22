{
 "cells": [
  {
   "cell_type": "markdown",
   "metadata": {},
   "source": [
    "# 3. Kontrollanweisungen\n",
    "\n",
    "## Agenda\n",
    "* [3.5 `if`-Anweisung](03_05_if_Anweisung.ipynb)\n",
    "* [3.6.1 `if...else`-Anweisung](03_06_1_if_else_Anweisung.ipynb)\n",
    "* [3.6.2 `if...elif...else`-Answeisung](03_06_2_if_elif_else_Anweisung.ipynb)\n",
    "* [3.7 `while`-Anweisung](03_07_while_Anweisung.ipynb)\n",
    "* [3.8 `for`-Anweisung](03_08_for_Answeisung.ipynb)\n",
    "* [3.9 Erweiterte Zuweisung](03_09_Erweiterte_Zuweisung.ipynb)\n",
    "* [3.10 Sequenzgesteuerte Wiederholung](03_10_Sequenz-gesteuerte_Wiederholung.ipynb)\n",
    "* [3.11 Sentinelgesteuerte Wiederholung](03_11_Sentinel-gesteuerte_Wiederholung.ipynb)\n",
    "* [3.12 Verschachtelte Kontrollanweisungen](03_12_Verschachtelte_Kontrollanweisungen.ipynb)\n",
    "* [3.13 `range`-Funktion](03_13_range-Funktion.ipynb)\n",
    "* [3.15 `break`- und `continue`-Anweisungen](03_15_break-_und_continue-Anweisungen.ipynb)\n",
    "* [3.16 Boolesche Operatoren](03_16_Boolesche_Operatoren.ipynb)\n",
    "* [3.17 Die Mittelwert- (`mean`), Median- (`median`) und Modus- (`mode`) Funktion](03_17_mean-_median-_und_mode-Funktion.ipynb)"
   ]
  }
 ],
 "metadata": {
  "kernelspec": {
   "display_name": "Python 3 (ipykernel)",
   "language": "python",
   "name": "python3"
  },
  "language_info": {
   "codemirror_mode": {
    "name": "ipython",
    "version": 3
   },
   "file_extension": ".py",
   "mimetype": "text/x-python",
   "name": "python",
   "nbconvert_exporter": "python",
   "pygments_lexer": "ipython3",
   "version": "3.10.5"
  }
 },
 "nbformat": 4,
 "nbformat_minor": 4
}
