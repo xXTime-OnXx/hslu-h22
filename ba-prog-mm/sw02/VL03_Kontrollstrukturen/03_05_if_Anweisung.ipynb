{
 "cells": [
  {
   "cell_type": "markdown",
   "metadata": {},
   "source": [
    "# 3.5 if-Anweisung\n",
    "Angenommen, eine Prüfung wird mit der Punktzahl 60 bestanden.\n",
    "\n",
    "## if-Anweisung Flussdiagramm\n",
    "![if Statement Flowchart](ch03images/if_statement_flowchart.png)"
   ]
  },
  {
   "cell_type": "code",
   "execution_count": null,
   "metadata": {},
   "outputs": [],
   "source": [
    "grade = 85\n",
    "\n",
    "if grade >= 60:\n",
    "    print('Passed')"
   ]
  },
  {
   "cell_type": "markdown",
   "metadata": {},
   "source": [
    "## Einrückung einer Suite\n",
    "Das Einrücken einer Suite ist erforderlich, andernfalls tritt ein Einrückungsfehler (`IndentationError`) auf:"
   ]
  },
  {
   "cell_type": "code",
   "execution_count": null,
   "metadata": {},
   "outputs": [],
   "source": [
    "if grade >= 60:\n",
    "print('Passed')"
   ]
  },
  {
   "cell_type": "markdown",
   "metadata": {},
   "source": [
    "Ein IdentationError tritt auch auf, wenn Sie mehr als eine Anweisung in einer Suite haben und diese Anweisungen nicht die gleiche Einrückung haben:"
   ]
  },
  {
   "cell_type": "code",
   "execution_count": null,
   "metadata": {},
   "outputs": [],
   "source": [
    "if grade >= 60:\n",
    "    print('Passed')\n",
    "  print('Good job!')"
   ]
  },
  {
   "cell_type": "markdown",
   "metadata": {},
   "source": [
    "## Jeder Ausdruck kann entweder als Wahr oder Falsch interpretiert werden\n",
    "Sie können Entscheidungen auf jeden beliebigen Ausdruck stützen. Ein Wert ungleich Null ist wahr. Eine Null ist Falsch:"
   ]
  },
  {
   "cell_type": "code",
   "execution_count": null,
   "metadata": {},
   "outputs": [],
   "source": [
    "if 1:\n",
    "    print('Nonzero values are true, so this will print')"
   ]
  },
  {
   "cell_type": "code",
   "execution_count": null,
   "metadata": {},
   "outputs": [],
   "source": [
    "if 0:\n",
    "    print('Zero is false, so this will not print')"
   ]
  },
  {
   "cell_type": "markdown",
   "metadata": {},
   "source": [
    "Zeichenketten, die Zeichen enthalten, sind Wahr und leere Zeichenketten (`''`, `\"\"` oder `\"\"\"\"\"\"`) sind Falsch."
   ]
  },
  {
   "cell_type": "code",
   "execution_count": null,
   "metadata": {},
   "outputs": [],
   "source": [
    "if 'test':\n",
    "    print('Strings containing characters are True. Hence, this will print')"
   ]
  },
  {
   "cell_type": "code",
   "execution_count": null,
   "metadata": {},
   "outputs": [],
   "source": [
    "if '':\n",
    "    print('Empty Strings evaluate to false. Hence, this will not print')"
   ]
  }
 ],
 "metadata": {
  "kernelspec": {
   "display_name": "Python 3 (ipykernel)",
   "language": "python",
   "name": "python3"
  },
  "language_info": {
   "codemirror_mode": {
    "name": "ipython",
    "version": 3
   },
   "file_extension": ".py",
   "mimetype": "text/x-python",
   "name": "python",
   "nbconvert_exporter": "python",
   "pygments_lexer": "ipython3",
   "version": "3.10.5"
  }
 },
 "nbformat": 4,
 "nbformat_minor": 4
}
