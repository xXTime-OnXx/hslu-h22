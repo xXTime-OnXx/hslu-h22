{
 "cells": [
  {
   "cell_type": "markdown",
   "metadata": {},
   "source": [
    "# 3.6.2 if...elif...else Anweisung \n",
    "Sie können auch mehrere Fälle mit der if...elif...else-Anweisung testen.\n",
    "\n",
    "## if...elif...else-Anweisung Flussdiagramm\n",
    "![if elif else statement flowhart](ch03images/if_elif_else_statement_flowchart.png)"
   ]
  },
  {
   "cell_type": "code",
   "execution_count": null,
   "metadata": {
    "tags": []
   },
   "outputs": [],
   "source": [
    "grade = 77\n",
    "\n",
    "if grade >= 90:\n",
    "    print('A')\n",
    "elif grade >= 80:\n",
    "    print('B')\n",
    "elif grade >= 70:\n",
    "    print('C')\n",
    "elif grade >= 60:\n",
    "    print('D')\n",
    "else:\n",
    "    print('F')"
   ]
  },
  {
   "cell_type": "markdown",
   "metadata": {},
   "source": [
    "## else ist optional\n",
    "Das `else` in der `if...elif...else`-Anweisung ist optional. Wenn Sie es verwenden, können Sie Werte behandeln, die keine der vorhergehenden Bedingungen erfüllen. Andernfalls wird einfach die nächste Anweisung in der Folge nach der `if...elif`-Anweisung  ausgeführt. \n",
    "\n",
    "Bitte beachten Sie: Wenn Sie die `else`-Anweisung angeben, müssen Sie sie hinter die letzte `elif`-Anweisung setzen; andernfalls tritt ein SyntaxError auf."
   ]
  }
 ],
 "metadata": {
  "kernelspec": {
   "display_name": "Python 3 (ipykernel)",
   "language": "python",
   "name": "python3"
  },
  "language_info": {
   "codemirror_mode": {
    "name": "ipython",
    "version": 3
   },
   "file_extension": ".py",
   "mimetype": "text/x-python",
   "name": "python",
   "nbconvert_exporter": "python",
   "pygments_lexer": "ipython3",
   "version": "3.10.5"
  }
 },
 "nbformat": 4,
 "nbformat_minor": 4
}
