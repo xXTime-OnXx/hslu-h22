{
 "cells": [
  {
   "cell_type": "markdown",
   "metadata": {},
   "source": [
    "# 3.7 while-Anweisung  (Schleife)\n",
    "Die while-Anweisung erlaubt es Ihnen, eine oder mehrere Aktionen zu wiederholen, solange die Bedingung wahr bleibt. Eine solche Anweisung wird oft als Schleife bezeichnet.\n",
    "\n",
    "Besipiel:\n",
    "\n",
    "```\n",
    "    While there are more items on my shopping list\n",
    "        Buy next item and cross it off my list\n",
    "```\n",
    "\n",
    "\n",
    "\n",
    "## while-Statement Flussdiagramm\n",
    "Diese while-Anweisung wird verwendet, um die Potenz von 3 zu finden, die gerade grösser als 50 ist:\n",
    "\n",
    "\n",
    "![while statement flowchart](ch03images/while_statement_flowchart.png)"
   ]
  },
  {
   "cell_type": "code",
   "execution_count": null,
   "metadata": {},
   "outputs": [],
   "source": [
    "product = 1\n",
    "\n",
    "while product <= 50:\n",
    "    product = product * 3"
   ]
  },
  {
   "cell_type": "code",
   "execution_count": null,
   "metadata": {},
   "outputs": [],
   "source": [
    "product"
   ]
  }
 ],
 "metadata": {
  "kernelspec": {
   "display_name": "Python 3 (ipykernel)",
   "language": "python",
   "name": "python3"
  },
  "language_info": {
   "codemirror_mode": {
    "name": "ipython",
    "version": 3
   },
   "file_extension": ".py",
   "mimetype": "text/x-python",
   "name": "python",
   "nbconvert_exporter": "python",
   "pygments_lexer": "ipython3",
   "version": "3.10.5"
  }
 },
 "nbformat": 4,
 "nbformat_minor": 4
}
