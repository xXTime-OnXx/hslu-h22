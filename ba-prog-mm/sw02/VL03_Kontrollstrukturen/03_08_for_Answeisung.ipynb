{
 "cells": [
  {
   "cell_type": "markdown",
   "metadata": {},
   "source": [
    "# 3.8 for-Anweisung  (Schleife)\n",
    "Wie die `while`-Anweisung erlaubt Ihnen die `for`-Anweisung, eine oder mehrere Aktionen zu wiederholen. Die `for`-Anweisung führt ihre Aktion(en) **für jedes Element in einer Folge von Elementen** aus.\n",
    "\n",
    "# for-Anweisung Flussdiagramm\n",
    "Das Flussdiagramm des for-Statements ähnelt dem des while-Statements.\n",
    "![for statement flowchart](ch03images/for_statement_flowchart.png)"
   ]
  },
  {
   "cell_type": "markdown",
   "metadata": {},
   "source": [
    "Eine Zeichenfolge ist zum Beispiel eine Folge von einzelnen Zeichen.\n",
    "\n",
    "Lassen Sie uns die einzelnen Zeichen, welche im String 'Programming' enthalten sind, jeweils durch zwei Leerzeichen getrennt anzeigen:\n",
    "\n"
   ]
  },
  {
   "cell_type": "code",
   "execution_count": null,
   "metadata": {},
   "outputs": [],
   "source": [
    "for character in 'Programming':\n",
    "    print(character, end='  ')"
   ]
  },
  {
   "cell_type": "markdown",
   "metadata": {},
   "source": [
    "## Funktion print's `end` Schlüsselwort-Argument \n",
    "Die Funktion `print` zeigt ihr(e) Argument(e) an und bewegt dann den Cursor auf die nächste Zeile. Sie können dieses Verhalten mit dem Schlüsselwort-Argument `end` ändern.\n",
    "\n",
    "\n",
    "Wir haben zwei Leerzeichen `'   '` verwendet, so dass jeder Aufruf von `print` den Wert des Zeichens gefolgt von zwei Leerzeichen anzeigt. So werden alle Zeichen horizontal in der gleichen Zeile angezeigt.\n",
    "\n",
    "Python nennt `end` ein **keyword argument, bzw. Schlüsselwort-Argument**, aber `end` ist kein Python-Schlüsselwort. Schlüsselwort-Argumente werden manchmal auch **named arguments** genannt.\n",
    "\n",
    "Das Schlüsselwort-Argument `end` ist optional. Wenn Sie es nicht einschliessen, benutzt `print` standardmässig einen Zeilenumbruch (`'\\n'`).\n",
    "\n",
    "Der _Style Guide for Python Code_ empfiehlt, keine Leerzeichen um Schlüsselwort-Argumente zu setzen."
   ]
  },
  {
   "cell_type": "markdown",
   "metadata": {},
   "source": [
    "## Funktion print's `sep` Schlüsselwort-Argument \n",
    "Sie können das Schlüsselwort-Arguement `sep` (kurz für Separator) verwenden, um die Zeichenfolge anzugeben, die zwischen den Elementen erscheint, die `print` anzeigt.<br>Wenn Sie dieses Argument nicht angeben, verwendet `print` standardmässig ein Leerzeichen `' '`."
   ]
  },
  {
   "cell_type": "markdown",
   "metadata": {},
   "source": [
    "Beispiel: Anzeige von drei Zahlen, von denen jede durch ein Komma und einem Leerzeichen von der nächsten getrennt ist:"
   ]
  },
  {
   "cell_type": "code",
   "execution_count": null,
   "metadata": {},
   "outputs": [],
   "source": [
    "print(10, 20, 30, sep=', ')"
   ]
  },
  {
   "cell_type": "markdown",
   "metadata": {},
   "source": [
    "Um die Leerzeichen zwischen den einzelnen Argumenten zu entfernen, verwenden Sie eine leere Zeichenkette `''`."
   ]
  },
  {
   "cell_type": "code",
   "execution_count": null,
   "metadata": {},
   "outputs": [],
   "source": [
    "print(1, 2, 3, sep='')"
   ]
  },
  {
   "cell_type": "markdown",
   "metadata": {},
   "source": [
    "## Listen und Iteratoren\n",
    "Das Objekt, welches dem Schlüsselwort `in` folgt, muss iterierbar sein. Ein iterierbares Objekt ist ein Objekt, von dem die `for`-Anweisung jeweils Schritt für Schritt ein Element auf einmal nehmen kann, bis kein Element mehr übrig bleibt.\n",
    "\n",
    "Jeder String und jede Liste hat einen Iterator. Dieser wird von der `for`-Anweisung hinter der Kulisse verwendet, um jedes aufeinanderfolgende Element zu erhalten, bie es kein weiteres Element für die Verarbeitung mehr gibt.\n",
    "\n",
    "Ein Iterator ist wie ein Lesezeichen - er weiss immer, wo er sich in der Sequenz befindet, so dass er das nächste Element zurück geben kann, wenn er dazu aufgefordert wird.\n",
    "\n",
    "Python hat neben Strings noch andere iterierbare Objekte. Eines der gebräuchlichsten ist eine Liste. Eine Liste ist eine durch Komma getrennte Sammlung von Elementen in eckigen Klammern (`[ ]`).<br><br>\n",
    "<p>\n",
    "Das folgende Snippet berechnet die Summe der fünf ganzen Zahlen, welche in einer Liste enhalten sind:</p>"
   ]
  },
  {
   "cell_type": "code",
   "execution_count": null,
   "metadata": {},
   "outputs": [],
   "source": [
    "total = 0\n",
    "\n",
    "for number in [2, -3, 0, 17, 9]:\n",
    "    total = total + number"
   ]
  },
  {
   "cell_type": "code",
   "execution_count": null,
   "metadata": {},
   "outputs": [],
   "source": [
    "total"
   ]
  },
  {
   "cell_type": "markdown",
   "metadata": {},
   "source": [
    "## Die `range` Funktion\n",
    "Das folgende Snippet verwendet die `range`-Funktion, um genau 10 mal zu iterieren und die Werte 0 bis 9 anzuzeigen:"
   ]
  },
  {
   "cell_type": "code",
   "execution_count": null,
   "metadata": {},
   "outputs": [],
   "source": [
    "for counter in range(10):\n",
    "    print(counter, end='  ')"
   ]
  },
  {
   "cell_type": "markdown",
   "metadata": {},
   "source": [
    "Der Funktionsaufruf `range(10)` erzeugt ein iterierbares Objekt, das eine Folge von aufeinanderfolgenden ganzzahligen Werten repräsentiert.<br>\n",
    "Die Folge beginnt mit dem Wert 0 und endet mit dem Wert 9. D.h. der Wert `10` ist NICHT in der Folge enthalten. Der Funktonsaufruf `range(10)` definiert nur, dass total 10 Werte, also die Werte `0 - 9`, in der Folge enthalten sind. \n",
    "\n"
   ]
  },
  {
   "cell_type": "markdown",
   "metadata": {},
   "source": [
    "## Off-by-one Fehler\n",
    "Ein Logikfehler tritt auf, wenn Sie davon ausgehen, dass der Argumentwert im Bereich der generierten Folge enthalten ist.<br>\n",
    "Wenn Sie z.B. 9 als Bereichsargument angeben, in der Absicht eine Sequenz 0 - 9 zu erzeugen, wird `range` effektiv nur 0 - 8 erzeugen. Es fehlt also ein Wert. Daher nennt man diesen Logikfehler 'off-by-one Fehler'."
   ]
  }
 ],
 "metadata": {
  "kernelspec": {
   "display_name": "Python 3 (ipykernel)",
   "language": "python",
   "name": "python3"
  },
  "language_info": {
   "codemirror_mode": {
    "name": "ipython",
    "version": 3
   },
   "file_extension": ".py",
   "mimetype": "text/x-python",
   "name": "python",
   "nbconvert_exporter": "python",
   "pygments_lexer": "ipython3",
   "version": "3.10.5"
  }
 },
 "nbformat": 4,
 "nbformat_minor": 4
}
