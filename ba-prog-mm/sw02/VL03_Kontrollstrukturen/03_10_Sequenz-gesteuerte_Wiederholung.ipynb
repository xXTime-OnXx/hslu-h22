{
 "cells": [
  {
   "cell_type": "markdown",
   "metadata": {},
   "source": [
    "# 3.10 Sequenzgesteuerte Wiederholung \n",
    "\n",
    "## Anforderung\n",
    "Eine Anforderung beschreibt _was_ ein Programm tun soll.\n",
    "\n",
    "\n",
    "Wir wollen folgende Anforderung implementieren:\n",
    "\n",
    "> Eine Klasse von zehn Studenten nahm an einer Prüfung teil. Ihre Punktzahlen (gane Zahlen im Bereich von 0 - 100) sind 98, 76, 71, 87, 87, 90, 57, 79, 82, 94. Bestimmen Sie den Klassendurchschnitt.\n",
    "\n",
    "\n",
    "Vorgehen:\n",
    "1. Analyse der Anfoderung:\n",
    "    * Was wissen wir?\n",
    "        * Punktzahlen 98, 76, 71, 87, 87, 90, 57, 79, 82, 94 der zehn Studenten<br><br>\n",
    "    * Was wird erwartet?\n",
    "        * Berechnung und Ausgabe des Klassendurchschnitts    \n",
    "<br>&nbsp;          \n",
    "2. Wie können wir das Problem lösen?\n",
    "    * Berechungen?\n",
    "        * Durchschnitt = Summe der Punktzahlen / Anzahl Punktzahlen<br><br>\n",
    "    * Algoritmus?\n",
    "        * Berechung der Summe\n",
    "        * Ermitteln der Anzahl Summanden (z.B. mittels zählen der Summanden)\n",
    "        * Berechnung des Druchschnitts\n",
    "        * Ausgabe des Durchschnitts\n",
    "<br>&nbsp;\n",
    "3. Implementierung\n",
    "<br>&nbsp;\n",
    "4. Test\n",
    "<br>&nbsp;"
   ]
  },
  {
   "cell_type": "code",
   "execution_count": null,
   "metadata": {},
   "outputs": [],
   "source": [
    "\"\"\"Class average program with sequence-controlled repetition\"\"\"\n",
    "\n",
    "# initialization phase\n",
    "sum_of_grades = 0\n",
    "grade_counter = 0\n",
    "grades = [98, 76, 71, 87, 87, 90, 57, 79, 82, 94]\n",
    "\n",
    "# processing phase\n",
    "for grade in grades:\n",
    "    sum_of_grades += grade\n",
    "    grade_counter += 1\n",
    "    \n",
    "# termination phase\n",
    "average = sum_of_grades / grade_counter\n",
    "print(f'Class average is {average}')"
   ]
  },
  {
   "cell_type": "markdown",
   "metadata": {},
   "source": [
    "## Einführung in formatierte Zeichenketten\n",
    "Unser Programm verwendet einen einfachen f-String (kurz für formatierte Zeichenkette), um das Ergebnis zu formatieren, indem der Wert der Variable `average` in die Zeichenkette eingefügt wird.\n",
    "\n",
    "Der Buchstabe `f` vor dem einleitenden einfachen Anführungszeichen der Zeichenfolge zeigt an, dass es sich um einen f-String handelt.\n",
    "\n",
    "Sie geben an, wo Werte eingefügt werden sollen, indem Sie Platzhalter verwenden, die durch geschweifte Klammern (`{ }`) begrenzt sind.\n",
    "Der Platzhalter `{average}` konvertiert den Wert der Variablen `average` in eine Zeichenkettenrepräsentation und ersetzt dann `{average}` durch diesen Ersatztext.\n",
    "\n",
    "Ausdrücke mit Ersetzungstext können Werte, Variablen oder andere Ausdrücke, wie z.B. Berechnungen oder Funktionsaufrufe, enthalten."
   ]
  }
 ],
 "metadata": {
  "kernelspec": {
   "display_name": "Python 3 (ipykernel)",
   "language": "python",
   "name": "python3"
  },
  "language_info": {
   "codemirror_mode": {
    "name": "ipython",
    "version": 3
   },
   "file_extension": ".py",
   "mimetype": "text/x-python",
   "name": "python",
   "nbconvert_exporter": "python",
   "pygments_lexer": "ipython3",
   "version": "3.10.5"
  }
 },
 "nbformat": 4,
 "nbformat_minor": 4
}
