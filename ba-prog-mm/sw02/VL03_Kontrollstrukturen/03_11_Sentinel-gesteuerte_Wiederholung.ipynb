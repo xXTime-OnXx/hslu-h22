{
 "cells": [
  {
   "cell_type": "markdown",
   "metadata": {},
   "source": [
    "# 3.11 Sentinel-gesteuerte Wiederholung\n",
    "Nehmen Sie z.B. die folgende Anforderung:\n",
    "\n",
    "> Schreiben Sie ein Programm, welches den Mittelwert der Klasse für eine **beliebige Anzahl** von Punktzahlen berechnet, die von der Benutzerin eingegeben wird.\n",
    "\n",
    "Das Programm muss also eine willkürliche Anzahl von Punktzahlen entgegen nehmen und verarbeiten. Wie kann das Programm bestimmen, wann es die Verarbeitung von Punktzahlen stoppen soll, um dann zur Berechnung und Auflösung des Klassendurchschnitts überzugehen?\n",
    "\n",
    "Eine Möglichkeit, dieses Problem zu lösen, besteht darin, einen speziellen, sog. **Sentinel-Wert** (auch als **Signalwert**, **Dummy-Wert** oder **Flag-Wert** bezeichnet) zu verwenden, um das Ende der Dateneingabe anzuzeigen.\n",
    "\n",
    "\n",
    "Der oder die Benutzer:in gibt eine Punktzahl nach der anderen ein, bis alle Punktzahlen eingegeben sind. Dann wird die Eingabe beendet, in dem ein Sentinel-Wert eingegeben wird.\n",
    "\n",
    "Die Sentinel-gesteuerte Wiederholung wird oft als _unbestimmte Wiederholung_ bezeichnet, da die Anzahl der Wiederholungen _nicht_ bekannt ist, bevor die Schleife ausgeführt wird.\n",
    "\n",
    "Bemerkung: Ein Sentinel-Wert darf nicht mit einem akzeptablen Eingabewert verwechselt werden können."
   ]
  },
  {
   "cell_type": "code",
   "execution_count": null,
   "metadata": {},
   "outputs": [],
   "source": [
    "# class_average.py\n",
    "\"\"\"Class average program with sentinel-controlled iteration\"\"\"\n",
    "\n",
    "# initialization phase\n",
    "sum_of_grades = 0\n",
    "grade_counter = 0\n",
    "\n",
    "# processing phase\n",
    "grade = int(input('Enter grade, or -1 to end: '))\n",
    "\n",
    "while grade != -1:\n",
    "    sum_of_grades += grade\n",
    "    grade_counter += 1\n",
    "    grade = int(input('Enter grade, -1 to end: '))\n",
    "    \n",
    "# termination phase\n",
    "if grade_counter > 0:\n",
    "    average = sum_of_grades / grade_counter\n",
    "    print(f'Class average is {average:.2f}')\n",
    "else:\n",
    "    print('No grades were entered')"
   ]
  },
  {
   "cell_type": "code",
   "execution_count": null,
   "metadata": {},
   "outputs": [],
   "source": [
    "run class_average.py  #do not enter grades"
   ]
  },
  {
   "cell_type": "markdown",
   "metadata": {},
   "source": [
    "## Formatieren des Klassendurchschnitts mit zwei Dezimalstellen\n",
    "In unserem Script wurde der Klassendurchschnitt mit zwei Ziffern rechts vom Dezimalpunkt formatiert.\n",
    "\n",
    "Die Formatierung wurde mit **Doppelpunkt** `:` und einer **Formatangabe** `.2f` eingeleitet.\n",
    "\n",
    "\n",
    "\n",
    "Die Formatangabe `.2f` formatiert den Wert von `average` als Fliesskommazahl (`f`) mit zwei Nachkommapunkten (`.2`)\n",
    "\n",
    "Zum Beispiel wir das Resultat 85.666666 wird zu 85.67 formatiert. Und das Resultat 85.5 wird zu 85.50 formatiert."
   ]
  }
 ],
 "metadata": {
  "kernelspec": {
   "display_name": "Python 3 (ipykernel)",
   "language": "python",
   "name": "python3"
  },
  "language_info": {
   "codemirror_mode": {
    "name": "ipython",
    "version": 3
   },
   "file_extension": ".py",
   "mimetype": "text/x-python",
   "name": "python",
   "nbconvert_exporter": "python",
   "pygments_lexer": "ipython3",
   "version": "3.10.5"
  }
 },
 "nbformat": 4,
 "nbformat_minor": 4
}
