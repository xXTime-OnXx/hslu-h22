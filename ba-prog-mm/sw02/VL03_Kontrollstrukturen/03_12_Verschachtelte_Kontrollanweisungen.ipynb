{
 "cells": [
  {
   "cell_type": "markdown",
   "metadata": {},
   "source": [
    "# 3.12 Verschachtelte Kontrollanweisungen\n",
    "\n",
    "## Anforderung\n",
    "Eine Hochschule bietet einen Kurs an, der die Studierenden auf die staatliche Zulassungsprüfung für Immobilienmakler vorbereitet. Im vergangenen Jahr haben mehrere der Student:innen, die diesen Kurs absolviert haben, die Lizenzierungsprüfung abgelegt. Die Hochschule möchte nun wissen, wie gut ihre Student:innen bei der Prüfung abgeschnitten haben. \n",
    "Daher wurden Sie gebeten, ein Programm zu schreiben, das die Ergebnisse zusammenfasst. Sie haben eine Liste dieser 10 Student:innen erhalten. Neben jedem Namen ist eine 1 geschrieben, wenn die Prüfung bestanden wurde, andernfalls eine 2 (d.h., durchgefallen).\n",
    "\n",
    "Ihr Programm soll die Ergebnisse der Prüfung wie folgt analysieren:\n",
    "\n",
    ">1. Einlesen der Ergebnisse für 10 Student:innen: 1=pass, 2=fail\n",
    ">\n",
    ">2. Zählen der Anzahl der Testergebnisse jedes Typs\n",
    ">\n",
    ">3. Anzeigen der Zusammenfassung der Testergebnisse, d.h. Anzahl Student:innen, die bestanden haben, und die Anzahl Student:innen, die durchgefallen sind\n",
    ">\n",
    ">4. Wenn mehr als acht Student:innen die Prüfung bestanden haben, soll \"Bonus to instructor\" angezeigt werden"
   ]
  },
  {
   "cell_type": "code",
   "execution_count": null,
   "metadata": {},
   "outputs": [],
   "source": [
    "# examination-results.py\n",
    "\"\"\"Using nested control statements to analyze examination results.\"\"\"\n",
    "\n",
    "# initialize variables\n",
    "number_passed = 0\n",
    "number_failed = 0\n",
    "\n",
    "# process 10 students\n",
    "for student in range(10):\n",
    "    result = int(input(f'Enter result (1=pass, 2=fail) for student {student + 1}: '))\n",
    "    \n",
    "    if result == 1:\n",
    "        number_passed += 1\n",
    "    else: \n",
    "        number_failed += 1\n",
    "        \n",
    "# termination phase\n",
    "print('Passed:', number_passed)\n",
    "print('Failed:', number_failed)\n",
    "\n",
    "if number_passed > 8:\n",
    "    print('Bonus to instructor')"
   ]
  },
  {
   "cell_type": "code",
   "execution_count": null,
   "metadata": {},
   "outputs": [],
   "source": [
    "run examination_results.py"
   ]
  }
 ],
 "metadata": {
  "kernelspec": {
   "display_name": "Python 3 (ipykernel)",
   "language": "python",
   "name": "python3"
  },
  "language_info": {
   "codemirror_mode": {
    "name": "ipython",
    "version": 3
   },
   "file_extension": ".py",
   "mimetype": "text/x-python",
   "name": "python",
   "nbconvert_exporter": "python",
   "pygments_lexer": "ipython3",
   "version": "3.10.5"
  }
 },
 "nbformat": 4,
 "nbformat_minor": 4
}
