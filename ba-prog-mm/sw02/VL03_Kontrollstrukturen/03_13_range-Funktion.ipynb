{
 "cells": [
  {
   "cell_type": "markdown",
   "metadata": {
    "tags": []
   },
   "source": [
    "# 3.13 Die `range`-Funktion\n",
    "Die `range`-Funktion hat drei Ausprägungen:\n",
    "\n",
    "* Sie können die Funktion mit **nur einem Argument** aufrufen\n",
    "* Sie können die Funktion mit **zwei Argumenten** aufrufen, oder\n",
    "* Sie können die Funktion mit **drei Argumenten** aufrufen"
   ]
  },
  {
   "cell_type": "markdown",
   "metadata": {},
   "source": [
    "## range-Funktion mit einem Argument\n",
    "Die `range`-Funktion mit nur einem Argument erzeugt eine iterierbare Liste von aufeinanderfolgende ganze Zahlen von 0 bis zum Wert des Arguments, jedoch ohne diesen einzuschliessen."
   ]
  },
  {
   "cell_type": "code",
   "execution_count": null,
   "metadata": {},
   "outputs": [],
   "source": [
    "for number in range(10):\n",
    "    print(number, end='  ')"
   ]
  },
  {
   "cell_type": "markdown",
   "metadata": {},
   "source": [
    "\n",
    "## Range-Funktion mit zwei Argumenten\n",
    "Die `range`-Funktion mit zwei Argumenten erzeugt eine Sequenz von aufeinanderfolgenden ganzen Zahlen, beginnend beim Wert des ersten Arguments bis zum zweiten Argument, aber ohne diesen Wert einzuschliessen:"
   ]
  },
  {
   "cell_type": "code",
   "execution_count": null,
   "metadata": {},
   "outputs": [],
   "source": [
    "for number in range(5, 10):\n",
    "    print(number, end='  ')"
   ]
  },
  {
   "cell_type": "markdown",
   "metadata": {},
   "source": [
    "\n",
    "\n",
    "## Range-Funktion mit drei Argumenten\n",
    "Die `range`-Funktion mit drei Argumenten erzeugt eine Folge von ganzen Zahlen vom Wert des ersten Arguments bis zum Wert des zweiten Arguments, ohne diesen einzuschliessen, _inkrementiert_ um den Wert des dritten Arguments."
   ]
  },
  {
   "cell_type": "code",
   "execution_count": null,
   "metadata": {},
   "outputs": [],
   "source": [
    "for number in range(0, 10, 2):\n",
    "    print(number, end='  ')"
   ]
  },
  {
   "cell_type": "markdown",
   "metadata": {},
   "source": [
    "\n",
    "Wenn das dritte Argument negativ ist, geht die Sequenz vom Wert des ersten Arguments _abwärts_ bis zum Wert des zweiten Arguments, aber ohne diesen einzubeziehen. Das dritte Argument gibt dabei das _Dekrement_ an."
   ]
  },
  {
   "cell_type": "code",
   "execution_count": null,
   "metadata": {},
   "outputs": [],
   "source": [
    "for number in range(10, 0, -2):\n",
    "    print(number, end='  ')"
   ]
  }
 ],
 "metadata": {
  "kernelspec": {
   "display_name": "Python 3 (ipykernel)",
   "language": "python",
   "name": "python3"
  },
  "language_info": {
   "codemirror_mode": {
    "name": "ipython",
    "version": 3
   },
   "file_extension": ".py",
   "mimetype": "text/x-python",
   "name": "python",
   "nbconvert_exporter": "python",
   "pygments_lexer": "ipython3",
   "version": "3.10.5"
  }
 },
 "nbformat": 4,
 "nbformat_minor": 4
}
