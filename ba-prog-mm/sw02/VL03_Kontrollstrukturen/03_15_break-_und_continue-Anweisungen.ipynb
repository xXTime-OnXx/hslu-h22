{
 "cells": [
  {
   "cell_type": "markdown",
   "metadata": {},
   "source": [
    "# 3.15 `break`- und `continue`-Anweisungen\n",
    "Die `break`- und `continue`-Anweisungen ändern den Kontrollfluss einer Schleife."
   ]
  },
  {
   "cell_type": "markdown",
   "metadata": {},
   "source": [
    "## break-Anweisung\n",
    "Die Ausführung einer `break`-Anweisung in einer `while`- oder `for`-Schleife beendet diese sofort.\n",
    "\n",
    "Beispiel:\n",
    "Das folgende Snippet enthält eine Iteration, welche 100x ausgeführt werden soll.\n",
    "Aber, die Schlaufe wird beendet,sobald der Wert der Variable `number` 10 ist:"
   ]
  },
  {
   "cell_type": "code",
   "execution_count": null,
   "metadata": {},
   "outputs": [],
   "source": [
    "for number in range(100):\n",
    "    if number == 10:\n",
    "        break\n",
    "    print(number, end='  ')\n",
    "\n",
    "print()\n",
    "print('The exeution of the program continues, right after the for loop')"
   ]
  },
  {
   "cell_type": "markdown",
   "metadata": {},
   "source": [
    "\n",
    "\n",
    "\n",
    "## continue-Anweisung\n",
    "Die Ausführung einer `continue`-Anweisung in einer `while`- oder `for`-Schleife überspringt den Rest der Schleifenfolge. \n",
    "\n",
    "In einer `while`-Schleife wird die Bedingung neu getestet, um festzustellen, ob die Schleife weiter ausgeführt werden soll. \n",
    "\n",
    "In einer `for`-Schleife verarbeitet die Schleife den nächsten Wert in der Folge, falls vorhanden:"
   ]
  },
  {
   "cell_type": "code",
   "execution_count": null,
   "metadata": {},
   "outputs": [],
   "source": [
    "for number in range(10):\n",
    "    if number == 5:\n",
    "        continue\n",
    "    print(number, end='  ')"
   ]
  }
 ],
 "metadata": {
  "kernelspec": {
   "display_name": "Python 3 (ipykernel)",
   "language": "python",
   "name": "python3"
  },
  "language_info": {
   "codemirror_mode": {
    "name": "ipython",
    "version": 3
   },
   "file_extension": ".py",
   "mimetype": "text/x-python",
   "name": "python",
   "nbconvert_exporter": "python",
   "pygments_lexer": "ipython3",
   "version": "3.10.5"
  }
 },
 "nbformat": 4,
 "nbformat_minor": 4
}
