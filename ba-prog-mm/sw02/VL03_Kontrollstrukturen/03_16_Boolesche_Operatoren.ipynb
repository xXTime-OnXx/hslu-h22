{
 "cells": [
  {
   "cell_type": "markdown",
   "metadata": {},
   "source": [
    "# 3.16 Boolesche Operatoren\n",
    "Sie können Boolesche Operatoren verwenden, um komplexe Bedingungen zu bilden, indem Sie einfachere Bedingungen miteinander kombinieren."
   ]
  },
  {
   "cell_type": "markdown",
   "metadata": {},
   "source": [
    "## Boolescher Operator `and`\n",
    "Um zu gewährleisten, dass **von zwei Bedingungen _beide_ wahr** sind, bevor eine Anweisung ausgeführt wird, verwenden Sie den Booleschen `and`-Operator:"
   ]
  },
  {
   "cell_type": "code",
   "execution_count": null,
   "metadata": {},
   "outputs": [],
   "source": [
    "gender = 'female'\n",
    "age = 70\n",
    "\n",
    "if gender == 'female' and age >= 65:\n",
    "    print('Senior female')"
   ]
  },
  {
   "cell_type": "markdown",
   "metadata": {},
   "source": [
    "Die kombinierte Bedingung kann durch Hinzufügen überflüssiger (redundanter) Klammern deutlicher gemacht werden:"
   ]
  },
  {
   "cell_type": "code",
   "execution_count": null,
   "metadata": {},
   "outputs": [],
   "source": [
    "gender = 'female'\n",
    "age = 70\n",
    "\n",
    "if (gender == 'female') and (age >= 65):\n",
    "    print('Senior female')"
   ]
  },
  {
   "cell_type": "markdown",
   "metadata": {},
   "source": [
    "### Wahrheitstabelle des `and` Operators\n",
    "![truth_table_and](ch03images/truth_table_and.png)"
   ]
  },
  {
   "cell_type": "markdown",
   "metadata": {},
   "source": [
    "## Boolescher Operator `or`\n",
    "Verwenden Sie den Booleschen Operator `or`, um zu prüfen, ob **von zwei Bedingungen _eine oder beide_  wahr sind**."
   ]
  },
  {
   "cell_type": "code",
   "execution_count": null,
   "metadata": {},
   "outputs": [],
   "source": [
    "semester_average = 83\n",
    "final_exam = 95\n",
    "\n",
    "if semester_average >= 90 or final_exam >= 90:\n",
    "    print('Student gets an A')"
   ]
  },
  {
   "cell_type": "markdown",
   "metadata": {},
   "source": [
    "### Wahrheitstabelle des `or` Operators\n",
    "![truth_table_or](ch03images/truth_table_or.png)"
   ]
  },
  {
   "cell_type": "markdown",
   "metadata": {},
   "source": [
    "## Boolescher Operator `not`\n",
    "Der Boolesche `not`-Operator **invertiert das Ergebnis einer Bedingung**, d.h. `True` wird zu `False` und `False` wird zu `True`. Dies ist ein **unärer Operator** - er hat nur _einen_ Operanden."
   ]
  },
  {
   "cell_type": "code",
   "execution_count": null,
   "metadata": {},
   "outputs": [],
   "source": [
    "grade = 87\n",
    "\n",
    "if not grade == -1:\n",
    "    print('The next grade is', grade)"
   ]
  },
  {
   "cell_type": "markdown",
   "metadata": {},
   "source": [
    "Oft kann man die Verwendung von `not` vermeiden, indem man die Bedingung in einer \"natürlicheren\"  Weise ausdrückt:"
   ]
  },
  {
   "cell_type": "code",
   "execution_count": null,
   "metadata": {},
   "outputs": [],
   "source": [
    "if grade != -1:\n",
    "    print('The next grade is', grade)"
   ]
  },
  {
   "cell_type": "code",
   "execution_count": null,
   "metadata": {},
   "outputs": [],
   "source": [
    "game_over = False\n",
    "\n",
    "counter = 0\n",
    "\n",
    "while not game_over:\n",
    "    print('playing ...')\n",
    "    counter += 1\n",
    "    if counter == 3:\n",
    "        game_over = True\n",
    "\n",
    "print('game over')"
   ]
  },
  {
   "cell_type": "markdown",
   "metadata": {},
   "source": [
    "### Wahrheitstabelle des `not`-Operators\n",
    "![truth_table_not](ch03images/truth_table_not.png)"
   ]
  },
  {
   "cell_type": "markdown",
   "metadata": {},
   "source": [
    "## Short-circuit Auswertung\n",
    "Die short-circuit Auswertung erhöht die Performance.\n",
    "\n",
    "Python stoppt die Auswertung eines `and`-Ausdrucks, sobald klar ist, dass die gesamte Bedingung **False** ist."
   ]
  },
  {
   "cell_type": "code",
   "execution_count": null,
   "metadata": {},
   "outputs": [],
   "source": [
    "if False and True:\n",
    "    print('This will not be printed.')"
   ]
  },
  {
   "cell_type": "markdown",
   "metadata": {},
   "source": [
    "In ähnlicher Weise hört Python mit der Auswertung eines `or`-Ausdrucks auf, sobald klar ist, dass die gesamte Bedingung **True** ist."
   ]
  },
  {
   "cell_type": "code",
   "execution_count": null,
   "metadata": {},
   "outputs": [],
   "source": [
    "if True or False:\n",
    "    print('This will be printed.')"
   ]
  },
  {
   "cell_type": "markdown",
   "metadata": {},
   "source": [
    "## Vorrang und Gruppierung der bisher eingeführten Operatoren\n",
    "![precedence_and_grouping](ch03images/precedence_and_grouping_of_operators.png)"
   ]
  }
 ],
 "metadata": {
  "kernelspec": {
   "display_name": "Python 3 (ipykernel)",
   "language": "python",
   "name": "python3"
  },
  "language_info": {
   "codemirror_mode": {
    "name": "ipython",
    "version": 3
   },
   "file_extension": ".py",
   "mimetype": "text/x-python",
   "name": "python",
   "nbconvert_exporter": "python",
   "pygments_lexer": "ipython3",
   "version": "3.10.5"
  }
 },
 "nbformat": 4,
 "nbformat_minor": 4
}
