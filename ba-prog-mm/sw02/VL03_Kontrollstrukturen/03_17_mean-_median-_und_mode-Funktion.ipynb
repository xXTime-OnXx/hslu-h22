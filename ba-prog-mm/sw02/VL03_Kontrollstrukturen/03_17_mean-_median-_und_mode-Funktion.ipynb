{
 "cells": [
  {
   "cell_type": "markdown",
   "metadata": {},
   "source": [
    "# 3.17 Die Mittelwert-, Median- und Modus-Funktion\n",
    "* `mean` - Mittelwert: Der Durchschnittswert in einem Satz von Werten\n",
    "* `median` - Median: Der mittlere Wert, wenn alle Werte in sortierter Reihenfolge angeordnet sind\n",
    "* `mode` - Modus: Der am häufigsten vorkommende Wert\n",
    "\n",
    "Das **statistics**-Modul der Python-Standardbibliothek bietet Funktionen zur Berechnung von Mittelwert, Median und Modus."
   ]
  },
  {
   "cell_type": "code",
   "execution_count": null,
   "metadata": {},
   "outputs": [],
   "source": [
    "import statistics\n",
    "\n",
    "grades = [30, 10, 25, 5, 30]\n",
    "\n",
    "statistics.mean(grades)"
   ]
  },
  {
   "cell_type": "code",
   "execution_count": null,
   "metadata": {},
   "outputs": [],
   "source": [
    "statistics.median(grades)"
   ]
  },
  {
   "cell_type": "code",
   "execution_count": null,
   "metadata": {},
   "outputs": [],
   "source": [
    "statistics.mode(grades)"
   ]
  },
  {
   "cell_type": "markdown",
   "metadata": {},
   "source": [
    "Um zu bestätigen, dass der Median und der Modus korrekt sind, können Sie die integrierte Funktion `sorted` verwenden, um eine sortierte Liste von `grades`zu erhalten, deren Werte in aufsteigender Reihenfolge angeordnet sind:"
   ]
  },
  {
   "cell_type": "code",
   "execution_count": null,
   "metadata": {},
   "outputs": [],
   "source": [
    "sorted(grades)"
   ]
  },
  {
   "cell_type": "markdown",
   "metadata": {},
   "source": [
    "Die \"grades\"-Liste hat eine ungerade Anzahl von Werten, so dass \"Median\" den mittleren Wert (85) zurückgibt.\n",
    "Wenn die Anzahl der Werte der Liste gerade ist, gibt `mode` den _Durchschnitt_ der _zwei_ Mittelwerte zurück.\n",
    "\n",
    "Wenn Sie die sortierten Werte untersuchen, sehen Sie, dass 85 der `Modus` ist, weil er am häufigsten (zweimal) auftritt."
   ]
  }
 ],
 "metadata": {
  "kernelspec": {
   "display_name": "Python 3 (ipykernel)",
   "language": "python",
   "name": "python3"
  },
  "language_info": {
   "codemirror_mode": {
    "name": "ipython",
    "version": 3
   },
   "file_extension": ".py",
   "mimetype": "text/x-python",
   "name": "python",
   "nbconvert_exporter": "python",
   "pygments_lexer": "ipython3",
   "version": "3.10.5"
  }
 },
 "nbformat": 4,
 "nbformat_minor": 4
}
