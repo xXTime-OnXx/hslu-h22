{
 "cells": [
  {
   "cell_type": "markdown",
   "metadata": {
    "pycharm": {
     "name": "#%% md\n"
    }
   },
   "source": [
    "# 4.7 Übergabe von Argumenten an Funktionen\n",
    "* Python Argumente werden immer als Referenz übergeben (\"Pass by reference\")\n",
    "* Bei einem Funktionsaufruf kopiert Python die Referenz des Argumentobjekts in den entsprechenden Parameter"
   ]
  },
  {
   "cell_type": "markdown",
   "metadata": {
    "pycharm": {
     "name": "#%% md\n"
    }
   },
   "source": [
    "## Speicheradressen und Referenzen\n",
    "&nbsp;\n",
    "<img src=\"img/reference.png\" width='250'>"
   ]
  },
  {
   "cell_type": "markdown",
   "metadata": {
    "pycharm": {
     "name": "#%% md\n"
    }
   },
   "source": [
    "## Die `id` Funktion\n",
    "Gibt eine eindeutige Ganzzahl zurück, die das referenzierte Objekts im Speicher identifiziert.\n"
   ]
  },
  {
   "cell_type": "code",
   "execution_count": null,
   "metadata": {
    "collapsed": false,
    "jupyter": {
     "outputs_hidden": false
    },
    "pycharm": {
     "is_executing": true,
     "name": "#%%\n"
    }
   },
   "outputs": [],
   "source": [
    "x = 7\n",
    "id(x)   # Identität des Objekts - int Wert, der das Objekt im Speicher referenziert"
   ]
  },
  {
   "cell_type": "markdown",
   "metadata": {
    "pycharm": {
     "name": "#%% md\n"
    }
   },
   "source": [
    "&nbsp;\n",
    "\n",
    "## Übergabe eines Objekts an eine Funktion"
   ]
  },
  {
   "cell_type": "code",
   "execution_count": null,
   "metadata": {
    "collapsed": false,
    "jupyter": {
     "outputs_hidden": false
    },
    "pycharm": {
     "name": "#%%\n"
    }
   },
   "outputs": [],
   "source": [
    "def cube(number):\n",
    "    print('id(number):', id(number))\n",
    "    return number ** 3"
   ]
  },
  {
   "cell_type": "code",
   "execution_count": null,
   "metadata": {
    "collapsed": false,
    "jupyter": {
     "outputs_hidden": false
    },
    "pycharm": {
     "is_executing": true,
     "name": "#%%\n"
    }
   },
   "outputs": [],
   "source": [
    "cube(x)"
   ]
  },
  {
   "cell_type": "markdown",
   "metadata": {
    "pycharm": {
     "name": "#%% md\n"
    }
   },
   "source": [
    "Die Identität, die für den Parameter `number` angezeigt wird, ist dieselbe, wie zuvor für x. Das heisst, dass das Argument `x` und der Parameter `number` sich auf dasselbe Objekt beziehen, während `cube` ausgeführt wird.\n",
    "In anderen Worten: `x` und `number` referenzieren dasselbe Objekt."
   ]
  },
  {
   "cell_type": "markdown",
   "metadata": {
    "pycharm": {
     "name": "#%% md\n"
    }
   },
   "source": [
    "&nbsp;\n",
    "\n",
    "## Testen von Objekt-Identitäten mit dem `is` Operator\n",
    "Der `is` Operator gibt `True` zurück, wenn zwei Operanden dieselbe Identität haben."
   ]
  },
  {
   "cell_type": "code",
   "execution_count": null,
   "metadata": {
    "collapsed": false,
    "jupyter": {
     "outputs_hidden": false
    },
    "pycharm": {
     "is_executing": true,
     "name": "#%%\n"
    }
   },
   "outputs": [],
   "source": [
    "x = 7\n",
    "id(x)"
   ]
  },
  {
   "cell_type": "code",
   "execution_count": null,
   "metadata": {
    "collapsed": false,
    "jupyter": {
     "outputs_hidden": false
    },
    "pycharm": {
     "is_executing": true,
     "name": "#%%\n"
    }
   },
   "outputs": [],
   "source": [
    "def cube(number):\n",
    "    print('number is x:', number is x)  # x is a global variable\n",
    "    return number ** 3\n",
    "\n",
    "cube(x)"
   ]
  },
  {
   "cell_type": "markdown",
   "metadata": {
    "pycharm": {
     "name": "#%% md\n"
    }
   },
   "source": [
    "&nbsp;\n",
    "\n",
    "## Nicht-mutierbare Objekte als Argumente\n",
    "* Objekte vom Typ `str`, `int`, `float`, u.a. sind nicht mutierbar\n",
    "* Wird beim Aufruf einer Funktion eine Referenz zu einem nicht-mutierbaren Objekt übergeben, wird das ursprüngliche Objekt nicht überschrieben."
   ]
  },
  {
   "cell_type": "code",
   "execution_count": null,
   "metadata": {
    "collapsed": false,
    "jupyter": {
     "outputs_hidden": false
    },
    "pycharm": {
     "is_executing": true,
     "name": "#%%\n"
    }
   },
   "outputs": [],
   "source": [
    "x = 7\n",
    "id(x)"
   ]
  },
  {
   "cell_type": "code",
   "execution_count": null,
   "metadata": {
    "collapsed": false,
    "jupyter": {
     "outputs_hidden": false
    },
    "pycharm": {
     "name": "#%%\n"
    }
   },
   "outputs": [],
   "source": [
    "def cube(number):\n",
    "    print(f'id(number) before modifying number: {id(number)}')\n",
    "    number **= 3\n",
    "    print(f'id(number) after modifying number: {id(number)}')\n",
    "    return number"
   ]
  },
  {
   "cell_type": "code",
   "execution_count": null,
   "metadata": {
    "collapsed": false,
    "jupyter": {
     "outputs_hidden": false
    },
    "pycharm": {
     "is_executing": true,
     "name": "#%%\n"
    }
   },
   "outputs": [],
   "source": [
    "cube(x)"
   ]
  },
  {
   "cell_type": "code",
   "execution_count": null,
   "metadata": {
    "collapsed": false,
    "jupyter": {
     "outputs_hidden": false
    },
    "pycharm": {
     "is_executing": true,
     "name": "#%%\n"
    }
   },
   "outputs": [],
   "source": [
    "id(x)"
   ]
  },
  {
   "cell_type": "markdown",
   "metadata": {
    "pycharm": {
     "name": "#%% md\n"
    }
   },
   "source": [
    "&nbsp;\n",
    "\n",
    "## Mutierbare Objekte als Argumente\n",
    "* Listen sind mutierbare Objekte\n",
    "* Wird beim Aufruf einer Funktion eine Referenz auf ein mutierbares Objekt übergeben, kann das originale Objekt in der Funktion mutiert werden"
   ]
  },
  {
   "cell_type": "code",
   "execution_count": null,
   "metadata": {
    "collapsed": false,
    "jupyter": {
     "outputs_hidden": false
    },
    "pycharm": {
     "is_executing": true,
     "name": "#%%\n"
    }
   },
   "outputs": [],
   "source": [
    "my_list = [1, 2, 3]\n",
    "print(f'my_list before function call: {my_list}')\n",
    "\n",
    "def list_mutation_demo(param_list):\n",
    "    param_list.append(4)\n",
    "    print(f'my_list is param_list? {my_list is param_list}')\n",
    "    print(f'param_list: {param_list}')\n",
    "\n",
    "list_mutation_demo(my_list)\n",
    "print(f'my_list after function call: {my_list}')"
   ]
  }
 ],
 "metadata": {
  "kernelspec": {
   "display_name": "Python 3 (ipykernel)",
   "language": "python",
   "name": "python3"
  },
  "language_info": {
   "codemirror_mode": {
    "name": "ipython",
    "version": 3
   },
   "file_extension": ".py",
   "mimetype": "text/x-python",
   "name": "python",
   "nbconvert_exporter": "python",
   "pygments_lexer": "ipython3",
   "version": "3.10.5"
  }
 },
 "nbformat": 4,
 "nbformat_minor": 4
}
