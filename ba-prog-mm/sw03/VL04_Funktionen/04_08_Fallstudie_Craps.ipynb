{
 "cells": [
  {
   "cell_type": "markdown",
   "metadata": {
    "pycharm": {
     "name": "#%% md\n"
    }
   },
   "source": [
    "# 4.8 Fallstudie \"Craps\"\n",
    "\n",
    "\"Craps\" ist ein populäres Glücksspiel. Wir wollen es mit einem Programm simulieren."
   ]
  },
  {
   "cell_type": "markdown",
   "metadata": {
    "pycharm": {
     "name": "#%% md\n"
    }
   },
   "source": [
    "## Exkurs: Zufallszahlen\n",
    "\n",
    "Das integrierte Modul `random` bietet Funktionalität, um mit Zufallszahlen umzugehen.\n",
    "* Um es zu nutzen, muss es importiert werden.\n",
    "* Die Funktion `randrange` generiert eine Zufallszahl (int) im Bereich des ersten Argumentwerts bis zum zweiten Argumentwert (nicht eingeschossen).\n",
    "\n",
    "&nbsp;\n",
    "### Simulation eines Würfels:"
   ]
  },
  {
   "cell_type": "code",
   "execution_count": null,
   "metadata": {
    "collapsed": false,
    "jupyter": {
     "outputs_hidden": false
    },
    "pycharm": {
     "is_executing": true,
     "name": "#%%\n"
    }
   },
   "outputs": [],
   "source": [
    "import random\n",
    "\n",
    "for roll in range(10):\n",
    "    rolled_dots = random.randrange(1, 7)  # Ein Würfel kann zufällig die Augenzahl 1 - 6 würfeln\n",
    "    print(rolled_dots, end='   ')"
   ]
  },
  {
   "cell_type": "markdown",
   "metadata": {
    "pycharm": {
     "name": "#%% md\n"
    }
   },
   "source": [
    "&nbsp;\n",
    "### Reproduzierbare \"Zufallszahlen\", mittels `seed` Funktion\n",
    "Die Funktion `randrange` erzeugt in Wirklichkeit Pseudozufallszahlen, die auf einer internen Berechnung basieren. Diese beginnt mit einem numerischen Wert, der als **Seed** (Keim) bezeichnet wird.\n",
    "\n",
    "Der wiederholte Aufruf von `randrange` erzeugt eine Folge von Zahlen, die zufällig zu sein scheinen. Jedes Mal, wenn Sie Zufallszahlen generieren, verwendet Python intern einen anderen Startwert (Seed).\n",
    "\n",
    "Beim Debuggen von Logikfehlern in Programmen, die zufällig generierte Daten verwenden, kann es hilfreich sein, die gleiche Folge von Zufallszahlen zu verwenden, bis Sie die Logikfehler beseitigt haben. Dazu können Sie die **`seed`-Funktion** des Random-Moduls verwenden, um den Zufallszahlengenerator selbst mit einem Seed-Wert zu versehen. Dadurch wird `randrange` gezwungen, seine Pseudozufallszahlenfolge aus dem von Ihnen angegebenen Seed-Wert zu berechnen und liefert immer dieselbe Sequenz von Zahlen."
   ]
  },
  {
   "cell_type": "code",
   "execution_count": null,
   "metadata": {
    "collapsed": false,
    "jupyter": {
     "outputs_hidden": false
    },
    "pycharm": {
     "is_executing": true,
     "name": "#%%\n"
    }
   },
   "outputs": [],
   "source": [
    "random.seed(1)\n",
    "for roll in range(10):\n",
    "    print(random.randrange(1, 7), end=' ')\n",
    "\n",
    "print()\n",
    "\n",
    "for roll in range(10):    # Diese Schleife setzt die bisherige Pseudozahlenfolge fort\n",
    "    print(random.randrange(1, 7), end=' ')"
   ]
  },
  {
   "cell_type": "code",
   "execution_count": null,
   "metadata": {
    "collapsed": false,
    "jupyter": {
     "outputs_hidden": false
    },
    "pycharm": {
     "is_executing": true,
     "name": "#%%\n"
    }
   },
   "outputs": [],
   "source": [
    "random.seed(1)\n",
    "for roll in range(10):  # Diese Schleife beginnt die Pseudozahlenfolge mit dem Seed 1\n",
    "    print(random.randrange(1, 7), end=' ')\n",
    "\n",
    "print()\n",
    "\n",
    "random.seed(1)\n",
    "for roll in range(10):   # Diese Schleife beginnt die Pseudozahlenfolge wieder mit dem Seed 1\n",
    "    print(random.randrange(1, 7), end=' ')"
   ]
  },
  {
   "cell_type": "markdown",
   "metadata": {
    "pycharm": {
     "name": "#%% md\n"
    }
   },
   "source": [
    "&nbsp;\n",
    "## Das Glückspiel \"Craps\"\n",
    "Spielregeln:\n",
    "\n",
    "Zwei Würfel werden gleichzeitig geworfen. Wenn die Würfel zur Ruhe kommen, wird die Summe der Augenzahlen auf den beiden nach oben gerichteten Seiten berechnet.\n",
    "\n",
    "* **Sie gewinnen**, wenn die Summe beim ersten Wurf **7 oder 11** beträgt;\n",
    "* **Sie verlieren**, wenn die Summe beim ersten Wurf **2, 3, oder 12** beträgt (aka 'Craps')\n",
    "* **In den anderen Fällen** wird die **Punktzahl** aufgeschrieben und es muss solange weiter gewürfelt werden, bis feststeht, ob Sie das Spiel gewinnen oder verlieren:\n",
    "    * **Sie gewinnen**, wenn Sie die **gleiche Punktzahl nochmals werfen**;\n",
    "    * **Sie verlieren**, wenn Sie eine **7** werfen, bevor Sie Ihre Punktzahl erreichen."
   ]
  },
  {
   "cell_type": "code",
   "execution_count": null,
   "metadata": {
    "collapsed": false,
    "jupyter": {
     "outputs_hidden": false
    },
    "pycharm": {
     "is_executing": true,
     "name": "#%%\n"
    }
   },
   "outputs": [],
   "source": [
    "\"\"\"Simulating the dice game Craps\"\"\"\n",
    "\n",
    "import random\n",
    "\n",
    "def roll_dice():\n",
    "    \"\"\"Roll two dice and return their face value as a tuple.\"\"\"\n",
    "    die1 = random.randrange(1, 7)\n",
    "    die2 = random.randrange(1, 7)\n",
    "    return (die1, die2)   # pack die face values into a tuple\n",
    "\n",
    "def display_dice(dice):\n",
    "    \"\"\"Display one roll of the two dice\"\"\"\n",
    "    die1, die2 = dice   # unpack the tuple into variables die1 and die2\n",
    "    print(f'Player roled {die1} + {die2} = {sum(dice)}')\n",
    "\n",
    "\n",
    "\n",
    "die_values = roll_dice()   # first roll\n",
    "display_dice(die_values)\n",
    "\n",
    "# determine game status and point, based on first roll\n",
    "sum_of_dice = sum(die_values)\n",
    "\n",
    "if sum_of_dice in (7, 11): # win\n",
    "    game_status = 'WON'\n",
    "elif sum_of_dice in (2, 3, 12): # lose\n",
    "    game_status = 'LOST'\n",
    "else:  # remember point\n",
    "    game_status = 'CONTINUE'\n",
    "    my_point = sum_of_dice\n",
    "    print('Point is', my_point)\n",
    "\n",
    "\n",
    "# continue rolling until player wins or loses\n",
    "while game_status == 'CONTINUE':\n",
    "    die_values = roll_dice()\n",
    "    display_dice(die_values)\n",
    "    sum_of_dice = sum(die_values)\n",
    "\n",
    "    if sum_of_dice == my_point: # in by making point\n",
    "        game_status = 'WON'\n",
    "    elif sum_of_dice == 7:\n",
    "        game_status = 'LOST'\n",
    "\n",
    "\n",
    "# display \"wins\" or \"loses\" message\n",
    "if game_status == 'WON':\n",
    "    print('Player wins')\n",
    "else:\n",
    "    print('Player loses')"
   ]
  }
 ],
 "metadata": {
  "kernelspec": {
   "display_name": "Python 3 (ipykernel)",
   "language": "python",
   "name": "python3"
  },
  "language_info": {
   "codemirror_mode": {
    "name": "ipython",
    "version": 3
   },
   "file_extension": ".py",
   "mimetype": "text/x-python",
   "name": "python",
   "nbconvert_exporter": "python",
   "pygments_lexer": "ipython3",
   "version": "3.10.5"
  }
 },
 "nbformat": 4,
 "nbformat_minor": 4
}
