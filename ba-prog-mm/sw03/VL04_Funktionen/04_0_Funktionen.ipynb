{
 "cells": [
  {
   "cell_type": "markdown",
   "metadata": {
    "pycharm": {
     "name": "#%% md\n"
    }
   },
   "source": [
    "# 4. Funktionen"
   ]
  },
  {
   "cell_type": "markdown",
   "metadata": {
    "pycharm": {
     "name": "#%% md\n"
    }
   },
   "source": [
    "Grosse Programme können aus kleineren, handlicheren Teilen konstruiert werden.\n",
    "* Funktionen kapseln code;\n",
    "* Code kann an beliebigen Stellen im Programm wiederverwendet werden;\n",
    "* Reduziert Komplexität;\n",
    "* Macht es einfacher, Programme zu modifizieren."
   ]
  },
  {
   "cell_type": "markdown",
   "metadata": {
    "pycharm": {
     "name": "#%% md\n"
    }
   },
   "source": [
    "## Agenda\n",
    "1. [Definieren von Funktionen](04_01_Definieren_von_Funktionen.ipynb)\n",
    "2. [Funktionen mit mehreren Parametern](04_02_Funktionen_mit_mehreren_Parametern.ipynb)\n",
    "3. [Standard Parameterwerte](04_03_Standard_Parameterwerte.ipynb)\n",
    "4. [Schlüsselwort-Argumente](04_04_Schluesselwort-Argumente.ipynb)\n",
    "5. [Funktionen mit einer beliebigen Anzahl von Argumenten](04_05_Beliebige_Anzahl_Argumente.ipynb)\n",
    "6. [Scope: Geltungsbereichsregeln](04_06_Scope.ipynb)\n",
    "7. [Übergabe von Argumenten an Funktionen](04_07_Uebergabe_von_Argumenten_an_Funktionen.ipynb)\n",
    "8. [Fallstudie \"Craps\"](04_08_Fallstudie_Craps.ipynb)\n",
    "9. [Methoden](04_09_Methoden.ipynb)\n",
    "10. [Import: Ein tieferer Blick](04_10_import.ipynb)\n",
    "\n"
   ]
  }
 ],
 "metadata": {
  "kernelspec": {
   "display_name": "Python 3 (ipykernel)",
   "language": "python",
   "name": "python3"
  },
  "language_info": {
   "codemirror_mode": {
    "name": "ipython",
    "version": 3
   },
   "file_extension": ".py",
   "mimetype": "text/x-python",
   "name": "python",
   "nbconvert_exporter": "python",
   "pygments_lexer": "ipython3",
   "version": "3.10.5"
  }
 },
 "nbformat": 4,
 "nbformat_minor": 4
}
