{
 "cells": [
  {
   "cell_type": "markdown",
   "metadata": {
    "pycharm": {
     "name": "#%% md\n"
    }
   },
   "source": [
    "# 4.10 Import: Ein tieferer Blick\n",
    "Python gruppiert verwandte Funktionen, Daten und Klassen in sog. **Modulen**. Der Zugriff auf diese Inhalte erfordert oft einen Import."
   ]
  },
  {
   "cell_type": "markdown",
   "metadata": {
    "pycharm": {
     "name": "#%% md\n"
    }
   },
   "source": [
    "## Import eines Moduls\n",
    "Sie können ein Modul mit folgender Anweisung importieren:\n",
    "\n",
    "`import module_name`\n",
    "\n",
    "Sie können dann auf deren Funktionen über `module_name`, gefolgt von einem Punkt (`.`), gefolgt von der Funktion, die Sie verwenden möchten, zugreifen.\n",
    "\n",
    "Zum Beispiel:"
   ]
  },
  {
   "cell_type": "code",
   "execution_count": null,
   "metadata": {
    "collapsed": false,
    "jupyter": {
     "outputs_hidden": false
    },
    "pycharm": {
     "is_executing": true,
     "name": "#%%\n"
    }
   },
   "outputs": [],
   "source": [
    "import math\n",
    "\n",
    "x = math.ceil(1.1)  # return the smallest integer greater than or equal to x\n",
    "\n",
    "print(x)"
   ]
  },
  {
   "cell_type": "markdown",
   "metadata": {
    "pycharm": {
     "name": "#%% md\n"
    }
   },
   "source": [
    "## Einen Bezeichner von einem Modul importieren\n",
    "Wenn Sie einen bestimmten Bezeichner aus einem Modul importieren möchten, können Sie dies mit einer Anweisung wie dieser tun:\n",
    "\n",
    "`from module_name import identifier`\n",
    "\n",
    "Sie können dann den Bezeichner in Ihrem Code verwenden, ohne ihm den Modulnamen voranstellen zu müssen.\n",
    "\n",
    "Zum Beispiel:"
   ]
  },
  {
   "cell_type": "code",
   "execution_count": null,
   "metadata": {
    "collapsed": false,
    "jupyter": {
     "outputs_hidden": false
    },
    "pycharm": {
     "is_executing": true,
     "name": "#%%\n"
    }
   },
   "outputs": [],
   "source": [
    "from math import ceil\n",
    "\n",
    "x = ceil(1.1)\n",
    "\n",
    "print(x)"
   ]
  },
  {
   "cell_type": "markdown",
   "metadata": {
    "pycharm": {
     "name": "#%% md\n"
    }
   },
   "source": [
    "## Mehrere Bezeichner von einem Modul importieren\n",
    "Mit der `from...import`-Anweisung können Sie mehrere durch Komma getrennte Bezeichner aus einem Modul importieren und diese dann in Ihrem Code direkt verwenden, ohne ihnen den Modulnamen und einen Punkt (`.`) voranstellen zu müssen:"
   ]
  },
  {
   "cell_type": "code",
   "execution_count": null,
   "metadata": {
    "collapsed": false,
    "jupyter": {
     "outputs_hidden": false
    },
    "pycharm": {
     "name": "#%%\n"
    }
   },
   "outputs": [],
   "source": [
    "from math import ceil, floor\n",
    "\n",
    "ceil(10.3)"
   ]
  },
  {
   "cell_type": "code",
   "execution_count": null,
   "metadata": {
    "collapsed": false,
    "jupyter": {
     "outputs_hidden": false
    },
    "pycharm": {
     "name": "#%%\n"
    }
   },
   "outputs": [],
   "source": [
    "floor(10.7)"
   ]
  },
  {
   "cell_type": "markdown",
   "metadata": {
    "pycharm": {
     "name": "#%% md\n"
    }
   },
   "source": [
    "Der Versuch, eine Funktion zu verwenden, die nicht importiert wurde, verursacht einen `NameError`, der anzeigt, dass der Name nicht definiert ist."
   ]
  },
  {
   "cell_type": "markdown",
   "metadata": {
    "pycharm": {
     "name": "#%% md\n"
    }
   },
   "source": [
    "## Vorsicht: Vermeiden Sie Wildcard-Importe\n",
    "Sie können _alle_ in einem Modul definierten Bezeichner mit einem Wildcard-Import der folgenden Form importieren:\n",
    "\n",
    "`from modulename import *`\n",
    "\n",
    "Dies kann zu subtilen Fehlern führen, wenn Ihre eigenen Variablennamen gleich wie die Funktionsnamen lauten (Shadowing).\n",
    "\n",
    "Beispiel:"
   ]
  },
  {
   "cell_type": "code",
   "execution_count": null,
   "metadata": {
    "collapsed": false,
    "jupyter": {
     "outputs_hidden": false
    },
    "pycharm": {
     "name": "#%%\n"
    }
   },
   "outputs": [],
   "source": [
    "e = 'Emil'\n",
    "\n",
    "from math import *\n",
    "\n",
    "e  # Der Wildcard Import hat Ihre Variable e überschrieben"
   ]
  },
  {
   "cell_type": "markdown",
   "metadata": {
    "pycharm": {
     "name": "#%% md\n"
    }
   },
   "source": [
    "## Alias für Module oder Bezeichner\n",
    "Manchmal ist es hilfreich einen Alias für Module oder Bezeichner zu verwenden"
   ]
  },
  {
   "cell_type": "code",
   "execution_count": null,
   "metadata": {
    "collapsed": false,
    "jupyter": {
     "outputs_hidden": false
    },
    "pycharm": {
     "name": "#%%\n"
    }
   },
   "outputs": [],
   "source": [
    "import statistics as stats\n",
    "\n",
    "grades = [85, 93, 45, 87, 93]\n",
    "\n",
    "stats.mean(grades)"
   ]
  },
  {
   "cell_type": "code",
   "execution_count": null,
   "metadata": {
    "collapsed": false,
    "jupyter": {
     "outputs_hidden": false
    },
    "pycharm": {
     "name": "#%%\n"
    }
   },
   "outputs": [],
   "source": [
    "from statistics import mean as m\n",
    "\n",
    "grades = [10, 20]\n",
    "m(grades)"
   ]
  }
 ],
 "metadata": {
  "kernelspec": {
   "display_name": "Python 3 (ipykernel)",
   "language": "python",
   "name": "python3"
  },
  "language_info": {
   "codemirror_mode": {
    "name": "ipython",
    "version": 3
   },
   "file_extension": ".py",
   "mimetype": "text/x-python",
   "name": "python",
   "nbconvert_exporter": "python",
   "pygments_lexer": "ipython3",
   "version": "3.10.5"
  }
 },
 "nbformat": 4,
 "nbformat_minor": 4
}
