{
 "cells": [
  {
   "cell_type": "markdown",
   "metadata": {},
   "source": [
    "# 5.1 Einführung\n",
    "\n",
    "## Collections\n",
    "* Sammlungen von zusammen gehörender Datenelementen\n",
    "\n",
    "* Beispiele von Sammlungen:\n",
    "    * Lieblingslieder auf Ihrem Smartphone\n",
    "    * Liste der Kontaktpersonen\n",
    "    * Die Bücher einer Bibliothek\n",
    "    * Karten in einem Kartenspiel\n",
    "    * Spieler der Lieblingssportmannschaft\n",
    "    * Bestände in einem Investitionsportfolio\n",
    "    * Patienten in einer Krebsstudie \n",
    "    * Einkaufsliste\n",
    "\n",
    "&nbsp;    \n",
    "## Listen\n",
    "* Sind modifizierbar\n",
    "* können **dynamisch** ihre Grösse ändern, um neue Elemente aufzunehmen\n",
    "* speichern oft homogene Daten\n",
    "* können Elemente des gleichen Typs, aber auch Elemente unterschiedlichen Typs enthalten\n",
    "\n",
    "&nbsp;\n",
    "## Tupel\n",
    "* Sind _nicht_ modifizierbar\n",
    "* können analog zu Listen Elemente der gleichen oder verschiedener Typen enthalten"
   ]
  }
 ],
 "metadata": {
  "celltoolbar": "Slideshow",
  "kernelspec": {
   "display_name": "Python 3 (ipykernel)",
   "language": "python",
   "name": "python3"
  },
  "language_info": {
   "codemirror_mode": {
    "name": "ipython",
    "version": 3
   },
   "file_extension": ".py",
   "mimetype": "text/x-python",
   "name": "python",
   "nbconvert_exporter": "python",
   "pygments_lexer": "ipython3",
   "version": "3.9.7"
  }
 },
 "nbformat": 4,
 "nbformat_minor": 4
}
