{
 "cells": [
  {
   "cell_type": "markdown",
   "metadata": {},
   "source": [
    "# 5.7 Übergeben von Listen an Funktionen"
   ]
  },
  {
   "cell_type": "markdown",
   "metadata": {},
   "source": [
    "### Ganze Liste an eine Funktion übergeben"
   ]
  },
  {
   "cell_type": "code",
   "execution_count": null,
   "metadata": {},
   "outputs": [],
   "source": [
    "def modify_elements(items):\n",
    "    \"\"\"\"Multiplies all element values in items by 2.\"\"\"\n",
    "    for i in range(len(items)):\n",
    "        items[i] *= 2"
   ]
  },
  {
   "cell_type": "code",
   "execution_count": null,
   "metadata": {},
   "outputs": [],
   "source": [
    "numbers = [10, 3, 7, 1, 9]"
   ]
  },
  {
   "cell_type": "code",
   "execution_count": null,
   "metadata": {},
   "outputs": [],
   "source": [
    "modify_elements(numbers)"
   ]
  },
  {
   "cell_type": "code",
   "execution_count": null,
   "metadata": {},
   "outputs": [],
   "source": [
    "numbers"
   ]
  },
  {
   "cell_type": "markdown",
   "metadata": {},
   "source": [
    "### Übergeben eines Tupels an eine Funktion\n",
    "Wenn Sie ein Tupel an eine Funktion übergeben, führt der Versuch, die unveränderlichen Elemente des Tupels zu ändern, zu einem `TypeError`."
   ]
  },
  {
   "cell_type": "code",
   "execution_count": null,
   "metadata": {},
   "outputs": [],
   "source": [
    "numbers_tuple = (10, 20, 30)"
   ]
  },
  {
   "cell_type": "code",
   "execution_count": null,
   "metadata": {},
   "outputs": [],
   "source": [
    "numbers_tuple"
   ]
  },
  {
   "cell_type": "code",
   "execution_count": null,
   "metadata": {},
   "outputs": [],
   "source": [
    "modify_elements(numbers_tuple)"
   ]
  },
  {
   "cell_type": "markdown",
   "metadata": {},
   "source": [
    "### Eine Anmerkung zu Tracebacks\n",
    "* Ein Traceback zeigt Code an, der zu einer Ausnahme geführt hat.\n",
    "* Wenn eine Ausnahme in einem einzeiligen Snippet auftritt, wird ihr immer `----> 1` vorangestellt, was darauf hinweist, dass Zeile 1 (die einzige Zeile des Snippets) die Ausnahme verursacht hat. \n",
    "* Mehrzeilige Snippets wie eine Funktionsdefinition zeigen aufeinanderfolgende Zeilennummern, die bei 1 beginnen. \n",
    "* Die letzte mit `---->` gezeigte Codezeile verursachte die Ausnahme."
   ]
  }
 ],
 "metadata": {
  "kernelspec": {
   "display_name": "Python 3 (ipykernel)",
   "language": "python",
   "name": "python3"
  },
  "language_info": {
   "codemirror_mode": {
    "name": "ipython",
    "version": 3
   },
   "file_extension": ".py",
   "mimetype": "text/x-python",
   "name": "python",
   "nbconvert_exporter": "python",
   "pygments_lexer": "ipython3",
   "version": "3.10.5"
  }
 },
 "nbformat": 4,
 "nbformat_minor": 4
}
