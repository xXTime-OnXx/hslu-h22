{
 "cells": [
  {
   "cell_type": "markdown",
   "id": "7df46ec9-5897-41cc-b0a2-34655075acfc",
   "metadata": {
    "tags": []
   },
   "source": [
    "# 6. Listen und Tupel, Teil 2"
   ]
  },
  {
   "cell_type": "markdown",
   "id": "5d264363-a67e-4439-bca1-115940f253f2",
   "metadata": {},
   "source": [
    "## Agenda\n",
    "\n",
    "* [6.1   \tList Comprehensions](06_01_List_Comprehensions.ipynb)\n",
    "* [6.2   \tGenerator Expressions](06_02_Generator_Expressions.ipynb)\n",
    "* [6.3   \tFilter-, Map- und Reduce-Funktion](06_03_Filter_Map_Reduce.ipynb)\n",
    "* [6.4   \tWeitere Funktionen zur Sequenzverarbeitung](06_04_Weitere_Funktionen.ipynb)\n",
    "* [6.5   \tZweidimensionale Listen](06_05_2D_Listen.ipynb)"
   ]
  }
 ],
 "metadata": {
  "kernelspec": {
   "display_name": "Python 3 (ipykernel)",
   "language": "python",
   "name": "python3"
  },
  "language_info": {
   "codemirror_mode": {
    "name": "ipython",
    "version": 3
   },
   "file_extension": ".py",
   "mimetype": "text/x-python",
   "name": "python",
   "nbconvert_exporter": "python",
   "pygments_lexer": "ipython3",
   "version": "3.10.5"
  }
 },
 "nbformat": 4,
 "nbformat_minor": 5
}
