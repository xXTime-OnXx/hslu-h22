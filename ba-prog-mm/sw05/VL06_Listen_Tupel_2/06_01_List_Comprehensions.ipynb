{
 "cells": [
  {
   "cell_type": "markdown",
   "id": "6748c3ab-9870-457c-8699-f8eddad25e65",
   "metadata": {},
   "source": [
    "# 6.1 List Comprehensions\n",
    "Kompakter Weg zur Erstellung neuer Listen"
   ]
  },
  {
   "cell_type": "code",
   "execution_count": null,
   "id": "e37b9293-eb7c-4568-83cf-b99182f743e6",
   "metadata": {},
   "outputs": [],
   "source": [
    "list1 = []\n",
    "\n",
    "for item in range(1, 6):\n",
    "    list1.append(item)\n",
    "    \n",
    "list1"
   ]
  },
  {
   "cell_type": "markdown",
   "id": "e1bec462-6946-4537-8846-91f275f233ad",
   "metadata": {},
   "source": [
    "## Verwenden einer List Comprehension zur Erstellung einer Liste von ganzen Zahlen"
   ]
  },
  {
   "cell_type": "code",
   "execution_count": null,
   "id": "5befd0e2-d32c-45e8-9b98-b0ee7c01734e",
   "metadata": {},
   "outputs": [],
   "source": [
    "list2 = [item for item in range(1, 6)]"
   ]
  },
  {
   "cell_type": "code",
   "execution_count": null,
   "id": "73c06c08-dbd3-4373-8557-8bec730674e8",
   "metadata": {},
   "outputs": [],
   "source": [
    "list2"
   ]
  },
  {
   "cell_type": "markdown",
   "id": "7aafcdb7-335a-4788-b3f8-b5f010bf97b2",
   "metadata": {},
   "source": [
    "* Die **`for`-Klausel** iteriert über die durch `range(1, 6)` erzeugte Sequenz \n",
    "* Für jedes Element wertet die List Comprehension den Ausdruck links der for-Klausel aus und setzt das Resultat des Ausdrucks in die neue Liste"
   ]
  },
  {
   "cell_type": "markdown",
   "id": "51775caf-54e0-46b7-8016-8bb3fcbf390e",
   "metadata": {},
   "source": [
    "## Mapping\n",
    "* Ein Mapping bildet Ausgangswerte in neue Werte ab. \n",
    "* Die Anzahl Elemente (Werte) ändert sich dabei nicht.\n"
   ]
  },
  {
   "cell_type": "code",
   "execution_count": null,
   "id": "92c42958-2eae-4a43-9268-9f5288fd3728",
   "metadata": {},
   "outputs": [],
   "source": [
    "list3 = [item ** 3 for item in range(1, 6)]"
   ]
  },
  {
   "cell_type": "code",
   "execution_count": null,
   "id": "c3efc86d-ca89-43c1-963f-a1eaf8f24447",
   "metadata": {},
   "outputs": [],
   "source": [
    "list3"
   ]
  },
  {
   "cell_type": "markdown",
   "id": "30cc0511-648a-46a1-9183-d53910663796",
   "metadata": {},
   "source": [
    "## Filter\n",
    "* Es werden nur Werte ausgewählt, die eine Bedingung erfüllen. \n",
    "* Das Resultat enthält i.d.R. weniger Elemente als in den ursprünglichen Daten enthalten waren.\n"
   ]
  },
  {
   "cell_type": "code",
   "execution_count": null,
   "id": "666d3d44-b7c0-4439-a349-e19c7fd10c0b",
   "metadata": {},
   "outputs": [],
   "source": [
    "list4 = [item for item in range(1, 6) if item % 2 == 0]"
   ]
  },
  {
   "cell_type": "code",
   "execution_count": null,
   "id": "28c6e44d-2007-49d8-bc0d-b7d4e25d3f04",
   "metadata": {},
   "outputs": [],
   "source": [
    "list4"
   ]
  },
  {
   "cell_type": "markdown",
   "id": "d934aa10-76a3-4e82-907d-09fb26a054b0",
   "metadata": {},
   "source": [
    "## List Comprehension, die die Elemente einer anderen Liste verarbeitet"
   ]
  },
  {
   "cell_type": "markdown",
   "id": "64ec815d-74dd-4b0f-8339-a435879d8efb",
   "metadata": {
    "tags": []
   },
   "source": [
    "Die `for`-Klausel kann jedes iterierbare Objekt verarbeiten."
   ]
  },
  {
   "cell_type": "code",
   "execution_count": null,
   "id": "ba4abaf5-d1d9-4bf9-ab1d-639282e2f17c",
   "metadata": {},
   "outputs": [],
   "source": [
    "colors = ['red', 'orange', 'yellow', 'green', 'blue']"
   ]
  },
  {
   "cell_type": "code",
   "execution_count": null,
   "id": "b60c6cf8-969e-4970-bd94-9ed889e9cfd7",
   "metadata": {},
   "outputs": [],
   "source": [
    "colors2 = [item.upper() for item in colors]"
   ]
  },
  {
   "cell_type": "code",
   "execution_count": null,
   "id": "16b4edd9-b31c-4534-98b1-11c5d35207fc",
   "metadata": {},
   "outputs": [],
   "source": [
    "colors2"
   ]
  },
  {
   "cell_type": "markdown",
   "id": "19f81198-b96e-45a8-988b-c46dc5cab823",
   "metadata": {},
   "source": [
    "## Erzeugen einer Liste, deren Elemente Tupel sind"
   ]
  },
  {
   "cell_type": "code",
   "execution_count": null,
   "id": "f3b899dc-5db1-4d13-bf72-b1cb3eb00ade",
   "metadata": {},
   "outputs": [],
   "source": [
    "squares =  [(item, item ** 2) for item in range(5)]"
   ]
  },
  {
   "cell_type": "code",
   "execution_count": null,
   "id": "98fdf3b7-b0e3-4aa3-8e1e-57dad4fe99b6",
   "metadata": {},
   "outputs": [],
   "source": [
    "squares"
   ]
  },
  {
   "cell_type": "markdown",
   "id": "34986ca4-6e20-47ba-89fe-ba19c206dbd0",
   "metadata": {},
   "source": [
    "## Erzeugen einer Liste, die nur durch 3 teilbare Zahlen zwischen 1 - 30 enthält"
   ]
  },
  {
   "cell_type": "code",
   "execution_count": null,
   "id": "e6085ab5-fed4-4dde-b932-41489d5f3ab0",
   "metadata": {},
   "outputs": [],
   "source": [
    "multiples = [item for item in range(3, 30, 3)]"
   ]
  },
  {
   "cell_type": "code",
   "execution_count": null,
   "id": "ba628c5c-41c7-4148-8fe8-d485eb7f9661",
   "metadata": {},
   "outputs": [],
   "source": [
    "multiples"
   ]
  }
 ],
 "metadata": {
  "kernelspec": {
   "display_name": "Python 3 (ipykernel)",
   "language": "python",
   "name": "python3"
  },
  "language_info": {
   "codemirror_mode": {
    "name": "ipython",
    "version": 3
   },
   "file_extension": ".py",
   "mimetype": "text/x-python",
   "name": "python",
   "nbconvert_exporter": "python",
   "pygments_lexer": "ipython3",
   "version": "3.10.5"
  }
 },
 "nbformat": 4,
 "nbformat_minor": 5
}
