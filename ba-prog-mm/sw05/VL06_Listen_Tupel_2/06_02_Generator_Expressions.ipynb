{
 "cells": [
  {
   "cell_type": "markdown",
   "id": "52bb06a0-9518-47e5-be75-c17458bffd85",
   "metadata": {},
   "source": [
    "# 6.2 Generator Expressions\n",
    "\n",
    "List Comprehensions:\n",
    "* erstellen immer sofort die ganze Liste;\n",
    "* können bei grossen Listen viel Zeit in Anspurch nehmen;\n",
    "* können viel Speicherplatz belegen.\n",
    "<br><br>\n",
    "\n",
    "Generator Expressions:\n",
    "* Erzeugen ein iterierbares Generatorobjekt, das auf Nachfrage Werte liefert (aka **lazy evaluation**);\n",
    "* verringern Speicherverbrauch;\n",
    "* verbessern bei grossen Listen die Performance."
   ]
  },
  {
   "cell_type": "code",
   "execution_count": null,
   "id": "cd64d810-c1b7-4172-9bd7-a67a79180f67",
   "metadata": {},
   "outputs": [],
   "source": [
    "squares_of_odds = (x ** 2 for x in range(1_000) if x % 2)"
   ]
  },
  {
   "cell_type": "code",
   "execution_count": null,
   "id": "a9fbb9c3-bf5d-46a9-b63d-4c441f5d5220",
   "metadata": {},
   "outputs": [],
   "source": [
    "squares_of_odds"
   ]
  },
  {
   "cell_type": "code",
   "execution_count": null,
   "id": "1d3f6201-4fd7-49cc-b17f-bf0c6df9929b",
   "metadata": {
    "tags": []
   },
   "outputs": [],
   "source": [
    "for item in squares_of_odds:\n",
    "    print(item, end=' ')"
   ]
  },
  {
   "cell_type": "markdown",
   "id": "21fa2cc4-455d-4769-b20b-7b39bff0f347",
   "metadata": {},
   "source": [
    "**Achtung: Generator Objekte können nur einmal iteriert werden.**"
   ]
  },
  {
   "cell_type": "code",
   "execution_count": null,
   "id": "dd01f7eb-7195-4af4-b3ce-3008371ceccc",
   "metadata": {},
   "outputs": [],
   "source": [
    "list(squares_of_odds)"
   ]
  },
  {
   "cell_type": "code",
   "execution_count": null,
   "id": "6fb35d21-5972-4bac-a90c-1be007851bdf",
   "metadata": {
    "tags": []
   },
   "outputs": [],
   "source": [
    "squares_of_odds = (x ** 2 for x in range(1_000) if x % 2)"
   ]
  },
  {
   "cell_type": "code",
   "execution_count": null,
   "id": "0941a2b4-d003-49d2-b140-5e96d2d59375",
   "metadata": {
    "tags": []
   },
   "outputs": [],
   "source": [
    "[item for item in squares_of_odds if item % 55 == 0]  # nur diejenigen, die durch 55 teilbar sind"
   ]
  },
  {
   "cell_type": "markdown",
   "id": "2635e421-5b4b-4ae4-a5e6-f4e0c6827d55",
   "metadata": {},
   "source": [
    "<br>\n",
    "\n",
    "## Beispiel, um den Vorteil von Generator Expressions zu untermauern\n",
    "Wenn wir zum Beispiel eine Liste mit einer Million Elementen mit Hilfe einer List Comprehension erstellen würden, würde diese Liste mit einer Million Elementen sofort erstellt und der Speicher wäre mit den Elementen der Liste belegt. \n",
    "\n",
    "Wenn wir stattdessen einen Generatorausdruck für eine Million Elemente erstellen, können wir jeweils nur ein Element auf einmal anfordern, um etwas damit zu tun. Somit wird der Speicher jeweils nur für dieses eine Element belegt. Falls wir dann mittels Filter nur jedes 1000 Element bearbeiten möchten, dann brauchen wir im Endeffekt auch nur Speicher für diese 1000 Elemente."
   ]
  }
 ],
 "metadata": {
  "kernelspec": {
   "display_name": "Python 3 (ipykernel)",
   "language": "python",
   "name": "python3"
  },
  "language_info": {
   "codemirror_mode": {
    "name": "ipython",
    "version": 3
   },
   "file_extension": ".py",
   "mimetype": "text/x-python",
   "name": "python",
   "nbconvert_exporter": "python",
   "pygments_lexer": "ipython3",
   "version": "3.10.5"
  }
 },
 "nbformat": 4,
 "nbformat_minor": 5
}
