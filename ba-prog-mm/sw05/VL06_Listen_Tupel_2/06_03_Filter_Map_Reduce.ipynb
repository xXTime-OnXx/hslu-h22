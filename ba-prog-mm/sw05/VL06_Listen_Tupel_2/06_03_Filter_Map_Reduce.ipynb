{
 "cells": [
  {
   "cell_type": "markdown",
   "id": "395df06f-4df3-4750-8763-ec04436b5947",
   "metadata": {},
   "source": [
    "# 6.3 Filter, Map, and Reduce\n",
    "\n",
    "Funktionen in Python sind Objekte:\n",
    "* können an Variablen zugewiesen werden;\n",
    "* können als Argumente an Funktionen übergeben werden;\n",
    "* können von von Funktionen als Rückgabewert zurückgegeben werden.\n",
    "\n",
    "Man nennt Funktionen mit diesen Eigenschaften: **Funktionen höherer Ordnunng (higher-order functions)**"
   ]
  },
  {
   "cell_type": "code",
   "execution_count": null,
   "id": "e9209943-6f49-44f9-ab25-e42200eb9f45",
   "metadata": {},
   "outputs": [],
   "source": [
    "def is_odd(x):\n",
    "    \"\"\"Returns True only if x is odd.\"\"\"\n",
    "    return x % 2 != 0"
   ]
  },
  {
   "cell_type": "code",
   "execution_count": null,
   "id": "13a2c596-edee-41a8-8ea2-793f73a4266f",
   "metadata": {},
   "outputs": [],
   "source": [
    "odd = is_odd"
   ]
  },
  {
   "cell_type": "code",
   "execution_count": null,
   "id": "d28982af-77dc-495b-9173-be3294a8cd92",
   "metadata": {},
   "outputs": [],
   "source": [
    "type(odd)"
   ]
  },
  {
   "cell_type": "code",
   "execution_count": null,
   "id": "49664fe9-c5e0-4507-9425-aeeca06ebc14",
   "metadata": {},
   "outputs": [],
   "source": [
    "odd(5)"
   ]
  },
  {
   "cell_type": "markdown",
   "id": "c8f2bd83-9679-45b3-a3fe-3c485a5a1882",
   "metadata": {},
   "source": [
    "## Filter Funktion\n",
    "Filtern von Werten in einer Sequenz.\n",
    "\n",
    "Die Funktion `filter` besteht aus 2 Parameter:\n",
    "   * erwartet als erstes Argument eine Funktion, die True zurückgibt, wenn der Wert im Ergebnis des Filters enhalten sein soll;\n",
    "   * erwartet als zweites Argument eine iterierbares Objekt (eine Sequenz).\n",
    "\n",
    "```python\n",
    "filter(function, iterable)\n",
    "```\n",
    "\n",
    "`filter` konstruiert einen Iterator aus den Elementen von `iterable`, für die `function` True zurück gibt."
   ]
  },
  {
   "cell_type": "code",
   "execution_count": null,
   "id": "66b52004-63b3-43f9-be2d-fabcdd34b540",
   "metadata": {},
   "outputs": [],
   "source": [
    "numbers = list(range(10))"
   ]
  },
  {
   "cell_type": "code",
   "execution_count": null,
   "id": "eeff9bd8-f005-4d71-afc8-1e11cdeacfe5",
   "metadata": {},
   "outputs": [],
   "source": [
    "filter(is_odd, numbers)"
   ]
  },
  {
   "cell_type": "code",
   "execution_count": null,
   "id": "927fbedf-fbc6-4771-9250-5e7b496b5103",
   "metadata": {},
   "outputs": [],
   "source": [
    "list(filter(is_odd, numbers))"
   ]
  },
  {
   "cell_type": "markdown",
   "id": "0c38c9ba-665c-40db-9746-f9d7f1333522",
   "metadata": {},
   "source": [
    "Eine List Comprehension, oder ein -Generator liefert dasselbe Resultat:"
   ]
  },
  {
   "cell_type": "code",
   "execution_count": null,
   "id": "4a367417-b28c-4e1a-b649-e54ee4db0180",
   "metadata": {},
   "outputs": [],
   "source": [
    "[item for item in numbers if is_odd(item)]"
   ]
  },
  {
   "cell_type": "markdown",
   "id": "e555c226-1fab-4300-81b3-0c0880e728a9",
   "metadata": {},
   "source": [
    "### Verwenden einer Lambda Funktion\n",
    "* Anonyme Funktion (d.h., Funktion, ohne Funktionsnamen);\n",
    "* Kann beliebig viele Argumente entgegen nehmen, aber darf nur aus einer einzigen Anweisung bestehen;\n",
    "* Beginnt mit dem Schlüsselwort **`lambda`**, gefolgt von einer durch Komma getrennten Parameterliste, einem Doppelpunkt (`:`) und einem Ausdruck;\n",
    "* Ein `lambda` gibt _implizit_ den Wert seines Ausdrucks zurück. \n",
    "\n",
    "\n",
    "Syntax:\n",
    "``` python\n",
    "lambda arguments : expression\n",
    "```"
   ]
  },
  {
   "cell_type": "code",
   "execution_count": null,
   "id": "b37bf4d6-803d-440d-a6d5-c6c0d836dffe",
   "metadata": {},
   "outputs": [],
   "source": [
    "x = lambda a : a + 10"
   ]
  },
  {
   "cell_type": "code",
   "execution_count": null,
   "id": "e97c1017-2441-4561-ae0c-c42d24b9c557",
   "metadata": {},
   "outputs": [],
   "source": [
    "x(5)"
   ]
  },
  {
   "cell_type": "code",
   "execution_count": null,
   "id": "6b630377-502d-4d2b-a782-e3871b4f1625",
   "metadata": {},
   "outputs": [],
   "source": [
    "x = lambda a, b : a * b"
   ]
  },
  {
   "cell_type": "code",
   "execution_count": null,
   "id": "89933cd5-c36b-4df7-9e2b-66858c395688",
   "metadata": {},
   "outputs": [],
   "source": [
    "x(5, 6)"
   ]
  },
  {
   "cell_type": "code",
   "execution_count": null,
   "id": "0623b191-e45b-41eb-87e6-0f885c9d224f",
   "metadata": {},
   "outputs": [],
   "source": [
    "# Verwendung in einer Filter Funktion\n",
    "list(filter(lambda x : x % 2, numbers)) "
   ]
  },
  {
   "cell_type": "markdown",
   "id": "a2fa2b32-fa02-4bc2-87f0-22ba0dfbcad4",
   "metadata": {},
   "source": [
    "## Map Funktion\n",
    "Abbildung von Werten einer Sequenz auf neue Werte.\n",
    "\n",
    "```python\n",
    "map(function, iterable, ...)\n",
    "```\n",
    "\n",
    "Gibt einen Iterator zurück, der `function` auf jedes Element von `iterable` anwendet und das Ergebnis zurück gibt.\n",
    "Wenn zusätzliche `iterable` Argumente übergeben werden, muss `function` so viele Argumente annehmen und wird auf die Elemente aller `iterable` parallel angewendet. Bei mehrerern `iterable` hält der Iterator an, wenn das kürzeste `iterable` erschöpft ist."
   ]
  },
  {
   "cell_type": "code",
   "execution_count": null,
   "id": "245a2fc5-c01a-49aa-abfe-4d2e12f030e0",
   "metadata": {},
   "outputs": [],
   "source": [
    "numbers"
   ]
  },
  {
   "cell_type": "code",
   "execution_count": null,
   "id": "182ed3a1-88c4-434d-8b31-2d69db48ecb8",
   "metadata": {},
   "outputs": [],
   "source": [
    "list(map(lambda x : x ** 2, numbers))"
   ]
  },
  {
   "cell_type": "code",
   "execution_count": null,
   "id": "07dd50af-900e-496c-812e-dfc50fb5eacd",
   "metadata": {},
   "outputs": [],
   "source": [
    "numbers2 = list(range(10, 110, 10))\n",
    "numbers2"
   ]
  },
  {
   "cell_type": "code",
   "execution_count": null,
   "id": "4997949e-f4f4-4f49-b76a-671d480077d7",
   "metadata": {},
   "outputs": [],
   "source": [
    "list(map(lambda a, b: a + b, numbers, numbers2))"
   ]
  },
  {
   "cell_type": "markdown",
   "id": "5c22008f-2a6a-4178-b6af-848f3cb32a4e",
   "metadata": {},
   "source": [
    "## Reduce Funktion\n",
    "Reduktionen verarbeiten die Elemente einer Sequenz zu einem einzigen Wert. Beispiele: len, min, max, sum.\n",
    "\n",
    "```python\n",
    "functools.reduce(function, iterable[, initializer])\n",
    "```\n",
    "\n",
    "Wendet `function` mit zwei Argumenten kumulativ auf die Elemente von `iterable` an, um `iterable` auf einen einzigen Wert zu reduzieren.<br>\n",
    "Wenn der optionale `initializer` vorhanden ist, wird er in der Berechnung vor den Elementen von `iterable` plaziert und dient als Startwert. Im Fall wo `iterable` leer ist, wird der `initializer` zurück gegeben und verhindert damit einen TypeError."
   ]
  },
  {
   "cell_type": "code",
   "execution_count": null,
   "id": "e51525fb-df3e-4bd2-8109-d7746e8ef72d",
   "metadata": {},
   "outputs": [],
   "source": [
    "numbers = list(range(10))\n",
    "numbers"
   ]
  },
  {
   "cell_type": "code",
   "execution_count": null,
   "id": "4baef9ff-bf16-4720-bdb9-7020cd3ac569",
   "metadata": {},
   "outputs": [],
   "source": [
    "from functools import reduce\n",
    "\n",
    "reduce(lambda x, y : x + y, numbers)"
   ]
  },
  {
   "cell_type": "code",
   "execution_count": null,
   "id": "4ee323dc-cf18-456a-80c4-457432b7d24b",
   "metadata": {},
   "outputs": [],
   "source": [
    "numbers.clear()"
   ]
  },
  {
   "cell_type": "code",
   "execution_count": null,
   "id": "f42bcf43-6e0c-4eb6-865d-fc510df9e568",
   "metadata": {},
   "outputs": [],
   "source": [
    "reduce(lambda x, y : x + y, numbers)"
   ]
  },
  {
   "cell_type": "code",
   "execution_count": null,
   "id": "2c53dd41-4c94-47ae-8f48-0e1552995ae7",
   "metadata": {},
   "outputs": [],
   "source": [
    "reduce(lambda x, y : x + y, numbers, 0)"
   ]
  },
  {
   "cell_type": "markdown",
   "id": "e22f7f54-be37-4eb4-b113-488c5cbc9df1",
   "metadata": {},
   "source": [
    "## Beispiele"
   ]
  },
  {
   "cell_type": "markdown",
   "id": "ff5bd446-5d0e-4367-b45e-7918b43a5853",
   "metadata": {},
   "source": [
    "### Beispiel 1\n",
    "Gegeben ist eine Liste `numbers`, welche die Zahlen 1 - 15 enthält.\n",
    "\n",
    "Gesucht:\n",
    "1. Liste, die nur die geraden Zahlen enthält;\n",
    "2. Liste, die die Quadrate von `numbers` enthält;\n",
    "3. Liste, die nur die Quadrate der geraden Zahlen von `numbers` enthält.\n",
    "\n",
    "Lösen Sie die Aufgaben sowohl mittels filter- und map-Funktion, als auch mittels List Comprehension."
   ]
  },
  {
   "cell_type": "code",
   "execution_count": null,
   "id": "04b9920b-e1b9-4a0a-9006-36a55ba3f515",
   "metadata": {},
   "outputs": [],
   "source": [
    "numbers = list(range(1, 16))"
   ]
  },
  {
   "cell_type": "code",
   "execution_count": null,
   "id": "cce66b19-3809-41e8-8207-893c740a181d",
   "metadata": {},
   "outputs": [],
   "source": [
    "# 1. Liste, die nur die geraden Zahlen enthält\n",
    "list(filter(lambda x : x % 2 == 0, numbers))"
   ]
  },
  {
   "cell_type": "code",
   "execution_count": null,
   "id": "e0b54074-aa59-4285-9974-a6875c12c70c",
   "metadata": {},
   "outputs": [],
   "source": [
    "# list comprehension\n",
    "[item for item in numbers if item % 2 == 0]"
   ]
  },
  {
   "cell_type": "code",
   "execution_count": null,
   "id": "040847c6-daf3-40ce-a71f-384aaead3bac",
   "metadata": {},
   "outputs": [],
   "source": [
    "# 2. Liste, die die Quadrate von numbers enthält\n",
    "list(map(lambda x : x ** 2, numbers))"
   ]
  },
  {
   "cell_type": "code",
   "execution_count": null,
   "id": "8eaf6e5f-8d31-4d20-a6a0-812ecb0af3bb",
   "metadata": {},
   "outputs": [],
   "source": [
    "# list comprehension\n",
    "[item ** 2 for item in numbers]"
   ]
  },
  {
   "cell_type": "code",
   "execution_count": null,
   "id": "5c33b478-1546-4b96-85e6-268244fe917b",
   "metadata": {},
   "outputs": [],
   "source": [
    "# 3. Liste, die nur die Quadrate der geraden Zahlen von numbers enthält\n",
    "list(map(lambda x : x ** 2, filter(lambda x : x % 2 == 0, numbers)))"
   ]
  },
  {
   "cell_type": "code",
   "execution_count": null,
   "id": "7bbc1239-e286-46ad-b513-86d0b6402d4b",
   "metadata": {},
   "outputs": [],
   "source": [
    "[item ** 2 for item in numbers if item % 2 == 0]"
   ]
  },
  {
   "cell_type": "markdown",
   "id": "d76a92ee-d0a5-4b33-a4d0-bf186bb0a971",
   "metadata": {},
   "source": [
    "### Beispiel 2\n",
    "Bilde eine Liste von Tupeln, welche die Fahrenheit Temperatur, sowie die zugehörige Celsius Temperatur enthalten.\n",
    "\n",
    "Formel für die Umrechnung:  `Celsius = (Fahrenheit - 32) * (5/9)`"
   ]
  },
  {
   "cell_type": "code",
   "execution_count": null,
   "id": "ba9a0eec-cb1f-4c43-9ae6-d6dd9a8801da",
   "metadata": {},
   "outputs": [],
   "source": [
    "fahrenheit = [41, 32, 212]"
   ]
  },
  {
   "cell_type": "code",
   "execution_count": null,
   "id": "235a782e-3a14-4295-bf05-3c7afc68d7c8",
   "metadata": {},
   "outputs": [],
   "source": [
    "list(map(lambda x : (x, (x - 32) * 5 / 9), fahrenheit))"
   ]
  },
  {
   "cell_type": "code",
   "execution_count": null,
   "id": "e847b1d2-2ae9-467d-8aae-c848a8c27197",
   "metadata": {},
   "outputs": [],
   "source": [
    "[(f, (f - 32) * 5 / 9) for f in fahrenheit]"
   ]
  }
 ],
 "metadata": {
  "kernelspec": {
   "display_name": "Python 3 (ipykernel)",
   "language": "python",
   "name": "python3"
  },
  "language_info": {
   "codemirror_mode": {
    "name": "ipython",
    "version": 3
   },
   "file_extension": ".py",
   "mimetype": "text/x-python",
   "name": "python",
   "nbconvert_exporter": "python",
   "pygments_lexer": "ipython3",
   "version": "3.10.5"
  }
 },
 "nbformat": 4,
 "nbformat_minor": 5
}
