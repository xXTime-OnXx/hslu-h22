{
 "cells": [
  {
   "cell_type": "markdown",
   "id": "01bc3029-3dfd-4a44-9335-772cc8e0250a",
   "metadata": {},
   "source": [
    "# 6.4 Weitere Funktionen"
   ]
  },
  {
   "cell_type": "markdown",
   "id": "3085b46c-7ea8-4156-b28c-45b2365765b2",
   "metadata": {},
   "source": [
    "# key-Schlüsselwort-Argument Funktion\n",
    "Bsp. Finden von Minimal- und Maximalwerte"
   ]
  },
  {
   "cell_type": "code",
   "execution_count": null,
   "id": "b59e5e78-7d8e-4a95-8df8-2960e2c9953a",
   "metadata": {},
   "outputs": [],
   "source": [
    "'Red' < 'organge'   # Erwartung: False, da R nach o kommt im Alphabet"
   ]
  },
  {
   "cell_type": "markdown",
   "id": "a89a19a4-4faf-46cc-95b5-4539cdade14d",
   "metadata": {},
   "source": [
    "`'R'` kommt nach `'o'` im Alphabet, also könnte man erwarten, dass `'Red'` vor `'orange'` kommt und somit die obige Bedingung `False` ist. Zeichenketten werden aber anhand der ihnen zugrundeliegenden _numerischen Werte_ verglichen, und Kleinbuchstaben haben _höhere_ numerische Werte als Grossbuchstaben.\n",
    "\n",
    "Bestätigung mittels der integrierten Funktion **`ord`**:"
   ]
  },
  {
   "cell_type": "code",
   "execution_count": null,
   "id": "5adb01f5-9f3c-4b23-935f-4bbe46e5268b",
   "metadata": {},
   "outputs": [],
   "source": [
    "ord('R')  # integrierte Fkt ord gibt die zugrunde liegende Ordnungszahl zurück"
   ]
  },
  {
   "cell_type": "code",
   "execution_count": null,
   "id": "23dde8f8-53f9-483c-a0ba-b10894908ead",
   "metadata": {},
   "outputs": [],
   "source": [
    "ord('o')"
   ]
  },
  {
   "cell_type": "markdown",
   "id": "cc7708ea-8775-487d-b48b-d8aa9223f679",
   "metadata": {},
   "source": [
    "<br>\n",
    "\n",
    "Wir möchten die minimale und maximale Zeichenfolge in **alphabetischer Reihenfolge** bestimmen.\n",
    "\n",
    "Die Sortierreihenfolge kann mit dem Argument `key` bestimmt werden."
   ]
  },
  {
   "cell_type": "code",
   "execution_count": null,
   "id": "c6691e19-8797-4f1c-a56e-275bdd810169",
   "metadata": {},
   "outputs": [],
   "source": [
    "colors = ['Red', 'amber', 'Blue']   # alphabetische Reihenfolge: 'amber', 'Blue', 'Red'"
   ]
  },
  {
   "cell_type": "code",
   "execution_count": null,
   "id": "f1e61d75-af29-4a00-beef-2fe0813b9871",
   "metadata": {},
   "outputs": [],
   "source": [
    "min(colors)  # 'Blue', statt 'amber'"
   ]
  },
  {
   "cell_type": "code",
   "execution_count": null,
   "id": "802c8216-acd5-44ae-baff-e1ad4816981e",
   "metadata": {
    "tags": []
   },
   "outputs": [],
   "source": [
    "min(colors, key=lambda s : s.lower())"
   ]
  },
  {
   "cell_type": "code",
   "execution_count": null,
   "id": "5abbb563-bdcd-49d1-acb4-f14cd7f7f52b",
   "metadata": {},
   "outputs": [],
   "source": [
    "max(colors) # 'amber', statt 'Red'"
   ]
  },
  {
   "cell_type": "code",
   "execution_count": null,
   "id": "10a069e2-d7da-4967-a4cf-f42875613898",
   "metadata": {},
   "outputs": [],
   "source": [
    "max(colors, key=lambda s: s.lower())"
   ]
  },
  {
   "cell_type": "markdown",
   "id": "f60fa2db-dcae-4e4d-b614-c1394e5536ad",
   "metadata": {},
   "source": [
    "## reversed Funktion\n",
    "Gibt einen **Iterator** zurück, mit dem rückwärts durch die Sequenz iteriert werden kann. Die Original-Sequenz wird nicht verändert."
   ]
  },
  {
   "cell_type": "code",
   "execution_count": null,
   "id": "74687f63-2c4a-420c-9b4b-d2bf3cbed127",
   "metadata": {},
   "outputs": [],
   "source": [
    "numbers = list(range(1, 11))\n",
    "numbers"
   ]
  },
  {
   "cell_type": "markdown",
   "id": "54488048-233e-4b63-944c-37f1d891a6ae",
   "metadata": {},
   "source": [
    "Wir wollen eine Liste mit den Quadraten in umgekehrter Reihenfolge:"
   ]
  },
  {
   "cell_type": "code",
   "execution_count": null,
   "id": "e8ec87de-6178-4466-87f7-601ebc4218a2",
   "metadata": {},
   "outputs": [],
   "source": [
    "reversed_numbers = [item ** 2 for item in reversed(numbers)]"
   ]
  },
  {
   "cell_type": "code",
   "execution_count": null,
   "id": "743e1993-5062-425d-bffa-60b0f6b9c74f",
   "metadata": {},
   "outputs": [],
   "source": [
    "reversed_numbers"
   ]
  },
  {
   "cell_type": "markdown",
   "id": "afd6c67b-6ed0-4da0-9cde-770cc2ceb32d",
   "metadata": {},
   "source": [
    "Die Original-Liste wurde nicht verändert"
   ]
  },
  {
   "cell_type": "code",
   "execution_count": null,
   "id": "97ca794a-3333-4777-93dd-d4d4ec9bcbd6",
   "metadata": {},
   "outputs": [],
   "source": [
    "numbers"
   ]
  },
  {
   "cell_type": "markdown",
   "id": "53d0b0a5-cd3c-4e89-86a9-a990c6794635",
   "metadata": {},
   "source": [
    "## zip Funktion\n",
    "Kombinieren von iterierbaren Objekten zu Tupeln korrespondierender Elemente\n",
    "\n",
    "* `zip` ermöglicht die Iteration über mehrere Sequenzen zur gleichen Zeit\n",
    "* erzeugt einen **Iterator mit Tupeln**, die jeweils die **Elemente mit dem gleichen Index** enthalten"
   ]
  },
  {
   "cell_type": "code",
   "execution_count": null,
   "id": "f6b52c3f-a34f-46fc-aa18-ead4020319e0",
   "metadata": {},
   "outputs": [],
   "source": [
    "names = ['Bob', 'Sue', 'Amanda']"
   ]
  },
  {
   "cell_type": "code",
   "execution_count": null,
   "id": "291de259-fef1-4fbf-9ae6-2f7757462158",
   "metadata": {},
   "outputs": [],
   "source": [
    "grade_point_averages = [3.5, 4.0, 3.75]"
   ]
  },
  {
   "cell_type": "markdown",
   "id": "ab39c164-41d9-4515-ade2-525a1eb82243",
   "metadata": {},
   "source": [
    "Wir möchten in einer Iteration den Namen und die Durchschnittsnote der Studierenden ausgeben"
   ]
  },
  {
   "cell_type": "code",
   "execution_count": null,
   "id": "8e705ef5-5313-44b9-aecd-5686f8de897b",
   "metadata": {},
   "outputs": [],
   "source": [
    "zip(names, grade_point_averages)  # Gibt einen Iterator zurück"
   ]
  },
  {
   "cell_type": "code",
   "execution_count": null,
   "id": "cc338399-2ffe-4b63-b069-ee39b9e8b49d",
   "metadata": {},
   "outputs": [],
   "source": [
    "list(zip(names, grade_point_averages)) # Iterator enthält Tupel der Elemente mit gleichem Index der Original-Sequenzen"
   ]
  },
  {
   "cell_type": "code",
   "execution_count": null,
   "id": "8a9313d6-4950-4ceb-8716-6db8970cd32d",
   "metadata": {},
   "outputs": [],
   "source": [
    "for name, gpa in zip(names, grade_point_averages):\n",
    "    print(f'{name}: {gpa}')"
   ]
  },
  {
   "cell_type": "markdown",
   "id": "4d886fc6-0190-4aba-bc05-c99176e91887",
   "metadata": {},
   "source": [
    "NB: Die kürzeste Sequenz, die als Argument in `zip` übergeben wird, bestimmt die Anzahl der erzeugten Tupel"
   ]
  },
  {
   "cell_type": "code",
   "execution_count": null,
   "id": "4b127aa0-335e-46f0-b718-240cf211533c",
   "metadata": {},
   "outputs": [],
   "source": [
    "passed = [False, True, False, True]"
   ]
  },
  {
   "cell_type": "code",
   "execution_count": null,
   "id": "6ffbf5d4-d332-4b43-82ae-0ca8e707be8a",
   "metadata": {},
   "outputs": [],
   "source": [
    "for name, gpa, has_passed in zip(names, grade_point_averages, passed):\n",
    "    print(f'{name}: {gpa} {\"passed\" if has_passed else \"failed\"}')"
   ]
  }
 ],
 "metadata": {
  "kernelspec": {
   "display_name": "Python 3 (ipykernel)",
   "language": "python",
   "name": "python3"
  },
  "language_info": {
   "codemirror_mode": {
    "name": "ipython",
    "version": 3
   },
   "file_extension": ".py",
   "mimetype": "text/x-python",
   "name": "python",
   "nbconvert_exporter": "python",
   "pygments_lexer": "ipython3",
   "version": "3.10.5"
  }
 },
 "nbformat": 4,
 "nbformat_minor": 5
}
