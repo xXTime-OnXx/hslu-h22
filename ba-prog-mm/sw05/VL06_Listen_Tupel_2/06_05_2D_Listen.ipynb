{
 "cells": [
  {
   "cell_type": "markdown",
   "id": "4c21e3a8-6480-40f1-8288-6a00c3c76f90",
   "metadata": {},
   "source": [
    "# Zweidimensionale Listen\n",
    "* Listen können andere Listen als Elemente enthalten\n",
    "* Typische Verwendung: Darstellung von **Tabellen**, die aus in **Zeilen** und **Spalten** angeordneten Informationen bestehen."
   ]
  },
  {
   "cell_type": "code",
   "execution_count": null,
   "id": "cb0d2b3e-f48d-4db4-a04f-64caad3395f3",
   "metadata": {},
   "outputs": [],
   "source": [
    "a = [[77, 68, 86, 73], [96, 85, 89, 81], [70, 90, 86, 81]]"
   ]
  },
  {
   "cell_type": "code",
   "execution_count": null,
   "id": "abf7eca1-8ebe-4256-b87c-583cc51cd5df",
   "metadata": {},
   "outputs": [],
   "source": [
    "a"
   ]
  },
  {
   "cell_type": "markdown",
   "id": "3e1108e2-3aa4-4927-922f-67fb45767ec0",
   "metadata": {},
   "source": [
    "## Veranschaulichung der zweidimensionalen Liste\n",
    "\n",
    "<img src=\"img/2d_list.png\" width=\"550\" />"
   ]
  },
  {
   "cell_type": "markdown",
   "id": "1c3b6ccb-009a-46ff-b366-3ea063dce876",
   "metadata": {},
   "source": [
    "## Identifizieren der Elemente in einer zweidimensionalen Liste\n",
    "Um ein bestimmtes Tabellenelement zu identifizieren, geben wir _zwei_ Indizes an - der erste identifiziert die Zeile des Elements, der zweite die Spalte des Elements\n",
    "\n",
    "<img src=\"img/access_with_subscript_operator.png\" width=\"550\">\n",
    "\n"
   ]
  },
  {
   "cell_type": "code",
   "execution_count": null,
   "id": "6e72b30b-2e5d-4cfe-bc68-95d15bc213fa",
   "metadata": {},
   "outputs": [],
   "source": [
    "a[0][0]"
   ]
  },
  {
   "cell_type": "code",
   "execution_count": null,
   "id": "92cce8a5-8195-40a0-8251-23f69348b6e8",
   "metadata": {},
   "outputs": [],
   "source": [
    "a[1][0]"
   ]
  },
  {
   "cell_type": "markdown",
   "id": "20515ae7-ea95-49eb-8f8f-c4da90c59f6e",
   "metadata": {},
   "source": [
    "## Durch die Liste iterieren und Ausgeben der Elemente"
   ]
  },
  {
   "cell_type": "code",
   "execution_count": null,
   "id": "5b8083cf-a63a-4c42-b3e5-0663c485367f",
   "metadata": {},
   "outputs": [],
   "source": [
    "for row in a:\n",
    "    for item in row:\n",
    "        print(item, end=' ')\n",
    "    print()"
   ]
  },
  {
   "cell_type": "markdown",
   "id": "506015e6-c3e8-40a7-86e8-b0c0b874a1a1",
   "metadata": {},
   "source": [
    "### Ausgabe der Elemente mit den zugehörigen Indizes"
   ]
  },
  {
   "cell_type": "code",
   "execution_count": null,
   "id": "8c97f62c-cefd-4d6f-8464-73f9f656bc2e",
   "metadata": {},
   "outputs": [],
   "source": [
    "for i, row in enumerate(a):\n",
    "    for j, item in enumerate(row):\n",
    "        print(f'a[{i}][{j}] = {item}', end='   ')\n",
    "    print()"
   ]
  },
  {
   "cell_type": "markdown",
   "id": "483d4f8d-017e-4168-bc2d-c9b7abfdd065",
   "metadata": {},
   "source": [
    "* Die äussere `for`-Anweisung iteriert Zeile für Zeile über die Liste;\n",
    "* Während jeder Iteration der äusseren `for`-Anweisung iteriert die innere `for`-Anweisung über _jede_ Spalte in der aktuellen Zeile."
   ]
  }
 ],
 "metadata": {
  "kernelspec": {
   "display_name": "Python 3 (ipykernel)",
   "language": "python",
   "name": "python3"
  },
  "language_info": {
   "codemirror_mode": {
    "name": "ipython",
    "version": 3
   },
   "file_extension": ".py",
   "mimetype": "text/x-python",
   "name": "python",
   "nbconvert_exporter": "python",
   "pygments_lexer": "ipython3",
   "version": "3.10.5"
  }
 },
 "nbformat": 4,
 "nbformat_minor": 5
}
