{
 "cells": [
  {
   "cell_type": "markdown",
   "id": "774da0d3-6650-4a24-ac68-9773c2df2166",
   "metadata": {},
   "source": [
    "# 7.2.1 Sets vergleichen"
   ]
  },
  {
   "cell_type": "markdown",
   "id": "4f2d1b61-1d79-4096-a439-ff0e8b239ef6",
   "metadata": {
    "tags": []
   },
   "source": [
    "## Gleichheit\n",
    "* Zwei Sets sind gleich, wenn sie exakt die gleichen Elemente enthalten.\n",
    "* Da Set ungeordnet sind, spielt die Reihenfolge keine Rolle."
   ]
  },
  {
   "cell_type": "code",
   "execution_count": 1,
   "id": "44e72d65-7618-4d67-af8f-e43f10a63b72",
   "metadata": {},
   "outputs": [
    {
     "data": {
      "text/plain": [
       "True"
      ]
     },
     "execution_count": 1,
     "metadata": {},
     "output_type": "execute_result"
    }
   ],
   "source": [
    "{1, 3, 5} == {3, 5, 1}"
   ]
  },
  {
   "cell_type": "code",
   "execution_count": null,
   "id": "c4b109ca-8374-4943-9069-07b3cdcf3217",
   "metadata": {},
   "outputs": [],
   "source": [
    "{1, 3, 5} != {3, 5, 1}"
   ]
  },
  {
   "cell_type": "markdown",
   "id": "459ac99b-97fe-486a-8842-c4f2c50d3600",
   "metadata": {},
   "source": [
    "## Echte Teilmenge\n",
    "* Der `<` Operator testet, ob die Menge zu ihrer Linken eine **echte Teilmenge** der zu ihrer Rechten ist, d.h. alle Elemente im linken Operanden sind im rechten Operanden vorhanden, und **die Mengen sind nicht gleich**.\n",
    "\n",
    "![echte_Teilmente_Venn_Diagramm](img/echte_Teilmenge_Venn.png)"
   ]
  },
  {
   "cell_type": "code",
   "execution_count": 2,
   "id": "b9b5072d-9f72-48a5-8230-f7635ea12888",
   "metadata": {},
   "outputs": [
    {
     "data": {
      "text/plain": [
       "False"
      ]
     },
     "execution_count": 2,
     "metadata": {},
     "output_type": "execute_result"
    }
   ],
   "source": [
    "{1, 4, 8, 9, 11} < {9, 11, 4, 8, 1}"
   ]
  },
  {
   "cell_type": "code",
   "execution_count": null,
   "id": "65f79bc9-814d-410d-918d-9a7e6ae43e2c",
   "metadata": {},
   "outputs": [],
   "source": [
    "{1, 9, 11} < {9, 11, 4, 8, 1}"
   ]
  },
  {
   "cell_type": "markdown",
   "id": "bf3c008c-7e49-404f-ac85-d6a79b3b0426",
   "metadata": {
    "tags": []
   },
   "source": [
    "## Unechte Teilmenge\n",
    "* Der `<=` Operator testet, ob die Menge zu ihrer linken Seite eine **unechte Teilmenge** der Menge zu ihrer rechten Seite ist, d.h. alle Elemente im linken Operanden sind auch im rechten Operanden vorhanden, und **die Mengen könnten gleich sein**.\n",
    "\n",
    "![echte_Teilmente_Venn_Diagramm](img/unechte_Teilmenge_Venn.png)"
   ]
  },
  {
   "cell_type": "code",
   "execution_count": null,
   "id": "acaffdbc-7fa2-4765-b4b6-e0502fea4c65",
   "metadata": {},
   "outputs": [],
   "source": [
    "{1, 4, 8, 9, 11} <= {9, 11, 4, 8, 1}"
   ]
  },
  {
   "cell_type": "code",
   "execution_count": null,
   "id": "7f3189cb-0686-40e4-be66-5191f136d709",
   "metadata": {},
   "outputs": [],
   "source": [
    "{1, 9, 11} <= {9, 11, 4, 8, 1}"
   ]
  },
  {
   "cell_type": "markdown",
   "id": "065f5984-7cb1-4168-ad3a-da9238a2392b",
   "metadata": {},
   "source": [
    "<br>\n",
    "\n",
    "Die Set-Methode **`issubset`** prüft auch auf eine unechte Teilmenge. Das Argument kann ein beliebiges iterierbare Objekt sein, welches dann in der Folge in ein Set umgewandelt wird."
   ]
  },
  {
   "cell_type": "code",
   "execution_count": null,
   "id": "276b88a9-298b-430c-bf41-47699c9ccbd9",
   "metadata": {},
   "outputs": [],
   "source": [
    "{1, 4, 8, 9, 11}.issubset({9, 11, 4, 8, 1})"
   ]
  },
  {
   "cell_type": "code",
   "execution_count": null,
   "id": "40d79bd2-81ac-4c77-8355-19f0bfd46737",
   "metadata": {},
   "outputs": [],
   "source": [
    "{1, 9, 11}.issubset([9, 11, 4, 8, 1])"
   ]
  },
  {
   "cell_type": "markdown",
   "id": "adfea18f-b207-4883-a81e-fe325ff995ff",
   "metadata": {},
   "source": [
    "## Echte Obermenge"
   ]
  },
  {
   "cell_type": "code",
   "execution_count": null,
   "id": "17c970d8-a11f-4475-be9a-d3f1a59a2227",
   "metadata": {
    "tags": []
   },
   "outputs": [],
   "source": [
    "{1, 3, 5} > {3, 5, 1}"
   ]
  },
  {
   "cell_type": "code",
   "execution_count": null,
   "id": "720ce569-9ba6-4796-b4a7-7cbb3f54890f",
   "metadata": {},
   "outputs": [],
   "source": [
    "{1, 3, 5, 7} > {3, 5, 1}"
   ]
  },
  {
   "cell_type": "markdown",
   "id": "28498deb-f12b-4488-8178-4865e4939479",
   "metadata": {},
   "source": [
    "## Unechte Obermenge"
   ]
  },
  {
   "cell_type": "code",
   "execution_count": null,
   "id": "e044fb7a-d8a9-4c9a-ad42-73e1e5a70bfd",
   "metadata": {
    "tags": []
   },
   "outputs": [],
   "source": [
    "{1, 3, 5} >= {3, 5, 1}"
   ]
  },
  {
   "cell_type": "code",
   "execution_count": null,
   "id": "a8950732-8186-4aa7-8d98-b39a5148a10d",
   "metadata": {},
   "outputs": [],
   "source": [
    "{1, 3, 5} >= {3, 1}"
   ]
  },
  {
   "cell_type": "code",
   "execution_count": null,
   "id": "e2975b8a-4f43-43bc-bfa9-0b56c8ae6424",
   "metadata": {},
   "outputs": [],
   "source": [
    "{1, 3} >= {3, 1, 7}"
   ]
  },
  {
   "cell_type": "markdown",
   "id": "07d62cab-3902-452b-9381-e9347ad1694b",
   "metadata": {},
   "source": [
    "<br>\n",
    "\n",
    "Die Set-Methode **`issuperset`** prüft auf unechte Obermenge. Das Argument kann ein beliebiges iterierbare Objekt sein, welches dann in der Folge in ein Set umgewandelt wird."
   ]
  },
  {
   "cell_type": "code",
   "execution_count": null,
   "id": "7fa2476b-1878-4cae-806a-2ad88d99b7a9",
   "metadata": {},
   "outputs": [],
   "source": [
    "{1, 3, 5}.issuperset({3, 5, 1})"
   ]
  },
  {
   "cell_type": "code",
   "execution_count": null,
   "id": "e2dbde33-77a0-405e-8592-780695662672",
   "metadata": {},
   "outputs": [],
   "source": [
    "{1, 3, 5}.issuperset([1, 5, 3])"
   ]
  },
  {
   "cell_type": "code",
   "execution_count": null,
   "id": "987f83e8-fb19-4702-a483-39e572239d40",
   "metadata": {},
   "outputs": [],
   "source": [
    "{1, 3, 5}.issuperset({3, 2})"
   ]
  },
  {
   "cell_type": "code",
   "execution_count": null,
   "id": "76617872-655b-49e3-85bb-4f7709623057",
   "metadata": {},
   "outputs": [],
   "source": [
    "{'1', '3', '5'}.issuperset('135')"
   ]
  }
 ],
 "metadata": {
  "kernelspec": {
   "display_name": "Python 3.10.8 ('venv': venv)",
   "language": "python",
   "name": "python3"
  },
  "language_info": {
   "codemirror_mode": {
    "name": "ipython",
    "version": 3
   },
   "file_extension": ".py",
   "mimetype": "text/x-python",
   "name": "python",
   "nbconvert_exporter": "python",
   "pygments_lexer": "ipython3",
   "version": "3.10.8"
  },
  "vscode": {
   "interpreter": {
    "hash": "d80cc920d25c1d92593b6aac86af4433dd7b5970d464c24070744c11223ad8fd"
   }
  }
 },
 "nbformat": 4,
 "nbformat_minor": 5
}
