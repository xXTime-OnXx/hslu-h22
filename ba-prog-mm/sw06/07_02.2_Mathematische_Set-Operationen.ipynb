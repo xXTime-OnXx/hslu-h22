{
 "cells": [
  {
   "cell_type": "markdown",
   "id": "8dfd466a-a2e0-455b-a430-5452b1fb1424",
   "metadata": {},
   "source": [
    "# 7.2.2 Mathematische Set-Operatoren"
   ]
  },
  {
   "cell_type": "markdown",
   "id": "d7b532db-62a1-45c1-b70b-c94e85e42bad",
   "metadata": {},
   "source": [
    "# Vereinigung (Union)\n",
    "Die **Vereinigung** von zwei Mengen ist eine Menge, die aus allen eindeutigen Elementen aus beiden Mengen besteht.\n",
    "\n",
    "![Vereinigung_Venn_Diagramm](img/Vereinigung_Venn.png)"
   ]
  },
  {
   "cell_type": "markdown",
   "id": "7d662642-3269-492e-b2cd-78063183a81b",
   "metadata": {},
   "source": [
    "<br>\n",
    "\n",
    "Der **Union-Operator (`|`)** erfordert zwei Sets"
   ]
  },
  {
   "cell_type": "code",
   "execution_count": 1,
   "id": "00a6aa7f-dea4-4b21-a1d8-2d528bb8fbaa",
   "metadata": {},
   "outputs": [
    {
     "data": {
      "text/plain": [
       "{1, 2, 3, 4, 5}"
      ]
     },
     "execution_count": 1,
     "metadata": {},
     "output_type": "execute_result"
    }
   ],
   "source": [
    "{1, 3, 5} | {2, 3, 4}"
   ]
  },
  {
   "cell_type": "markdown",
   "id": "7101f2f2-de44-48db-a3d5-f808d701cced",
   "metadata": {},
   "source": [
    "<br>\n",
    "\n",
    "Die **`union` Methode** kann jedes iterierbare Objekt als Argument erhalten."
   ]
  },
  {
   "cell_type": "code",
   "execution_count": 2,
   "id": "06961933-596c-4e54-a02d-fcc95ca4808e",
   "metadata": {},
   "outputs": [
    {
     "data": {
      "text/plain": [
       "{1, 3, 5, 20, 40}"
      ]
     },
     "execution_count": 2,
     "metadata": {},
     "output_type": "execute_result"
    }
   ],
   "source": [
    "{1, 3, 5}.union([20, 20, 3, 40, 40])"
   ]
  },
  {
   "cell_type": "markdown",
   "id": "8899435f-32e9-4ea0-a333-5baf6454a2bb",
   "metadata": {
    "tags": []
   },
   "source": [
    "<br>\n",
    "\n",
    "## Schnittmenge (Intersection)\n",
    "Die **Schnittmenge** von zwei Mengen ist eine Menge, die aus allen eindeutigen Elementen besteht, die die beiden Mengen gemeinsam haben. \n",
    "\n",
    "![Durchschnitt_Venn_Diagramm](img/Durchschnitt_Venn.png)"
   ]
  },
  {
   "cell_type": "markdown",
   "id": "a78931db-a47c-4323-a0f2-800a431f8e95",
   "metadata": {
    "tags": []
   },
   "source": [
    "<br>\n",
    "\n",
    "Der **Intersection-Operator (`&`)** erfordert zwei Sets"
   ]
  },
  {
   "cell_type": "code",
   "execution_count": 3,
   "id": "5001a6cf-9d72-4700-8c11-a912ee3e4a76",
   "metadata": {},
   "outputs": [
    {
     "data": {
      "text/plain": [
       "{3}"
      ]
     },
     "execution_count": 3,
     "metadata": {},
     "output_type": "execute_result"
    }
   ],
   "source": [
    "{1, 3, 5} & {2, 3, 4}"
   ]
  },
  {
   "cell_type": "markdown",
   "id": "f11e505a-98b3-41d5-853c-3d27eb730c5a",
   "metadata": {},
   "source": [
    "<br>\n",
    "\n",
    "Die **`intersection` Methode** kann jedes iterierbare Objekt als Arugment erhalten."
   ]
  },
  {
   "cell_type": "code",
   "execution_count": 4,
   "id": "a858cb7c-7d26-48aa-9e1e-4a012253cdd5",
   "metadata": {},
   "outputs": [
    {
     "data": {
      "text/plain": [
       "{1, 3}"
      ]
     },
     "execution_count": 4,
     "metadata": {},
     "output_type": "execute_result"
    }
   ],
   "source": [
    "{1, 3, 5}.intersection([1, 2, 2, 3, 3, 4, 4])"
   ]
  },
  {
   "cell_type": "markdown",
   "id": "b73f6b0c-3077-49e2-8400-9a1154160b7f",
   "metadata": {},
   "source": [
    "<br>\n",
    "\n",
    "## Differenz (difference) \n",
    "Die **Differenz** zwischen zwei Mengen ist eine Menge, die aus den Elementen im linken Operanden besteht, die nicht im rechten Operanden enthalten sind. \n",
    "\n",
    "![Differenz_Venn_Diagramm](img/Differenz_Venn.png)"
   ]
  },
  {
   "cell_type": "markdown",
   "id": "dec29c3d-8dd9-41b2-ba56-ebf1ff1621dc",
   "metadata": {},
   "source": [
    "<br>\n",
    "\n",
    "Der **Differenz-Operator (`-`)** erfordert zwei Sets"
   ]
  },
  {
   "cell_type": "code",
   "execution_count": 5,
   "id": "02aaa629-f6cc-4c49-a84d-664204cb83cc",
   "metadata": {},
   "outputs": [
    {
     "data": {
      "text/plain": [
       "{1, 5}"
      ]
     },
     "execution_count": 5,
     "metadata": {},
     "output_type": "execute_result"
    }
   ],
   "source": [
    "{1, 3, 5} - {2, 3, 4}"
   ]
  },
  {
   "cell_type": "markdown",
   "id": "746ab3ed-621a-4f63-8087-9eeb25eb73f2",
   "metadata": {},
   "source": [
    "<br>\n",
    "\n",
    "Die **`difference` Methode** kann jedes iterierbare Objekt als Arugment erhalten."
   ]
  },
  {
   "cell_type": "code",
   "execution_count": 6,
   "id": "ef67ce4f-176d-4be3-90a5-54e24f1baea9",
   "metadata": {},
   "outputs": [
    {
     "data": {
      "text/plain": [
       "{1, 5, 7}"
      ]
     },
     "execution_count": 6,
     "metadata": {},
     "output_type": "execute_result"
    }
   ],
   "source": [
    "{1, 3, 5, 7}.difference([2, 2, 3, 3, 4, 4])"
   ]
  },
  {
   "cell_type": "markdown",
   "id": "50eb3b1c-b5b1-4628-a2b6-06d6e588e37a",
   "metadata": {},
   "source": [
    "<br>\n",
    "\n",
    "## Symmetrische Differenz (symmetric difference)\n",
    "Die **symmetrische Differenz** zwischen zwei Mengen ist eine Menge, die aus den Elementen beider Mengen besteht, die einander nicht gemeinsam sind. \n",
    "\n",
    "![Symmetrische_Differenz_Venn_Diagramm](img/Symmetrische_Differenz_Venn.png)"
   ]
  },
  {
   "cell_type": "markdown",
   "id": "cb5885f3-3990-496f-b442-d368d9ee291b",
   "metadata": {},
   "source": [
    "<br>\n",
    "\n",
    "Der **Symmetrische Differenz Operator (`^`)** erfordert zwei Sets"
   ]
  },
  {
   "cell_type": "code",
   "execution_count": 7,
   "id": "44c152ee-5a3c-43b7-9442-d004416d3621",
   "metadata": {},
   "outputs": [
    {
     "data": {
      "text/plain": [
       "{1, 2, 4, 5}"
      ]
     },
     "execution_count": 7,
     "metadata": {},
     "output_type": "execute_result"
    }
   ],
   "source": [
    "{1, 3, 5} ^ {2, 3, 4}"
   ]
  },
  {
   "cell_type": "markdown",
   "id": "8301cd2d-c82c-48ee-8446-a44f7d90a439",
   "metadata": {},
   "source": [
    "<br>\n",
    "\n",
    "Die **`symmetric_difference` Methode** kann jedes iterierbare Objekt als Arugment erhalten."
   ]
  },
  {
   "cell_type": "code",
   "execution_count": 8,
   "id": "7aae29be-66c7-428b-9902-45bc8125514c",
   "metadata": {},
   "outputs": [
    {
     "data": {
      "text/plain": [
       "{1, 2, 4, 5, 7}"
      ]
     },
     "execution_count": 8,
     "metadata": {},
     "output_type": "execute_result"
    }
   ],
   "source": [
    "{1, 3, 5, 7}.symmetric_difference([2, 2, 3, 3, 4, 4])"
   ]
  },
  {
   "cell_type": "markdown",
   "id": "844171b3-9ebc-4b16-93a3-60c82254f7b2",
   "metadata": {},
   "source": [
    "<br>\n",
    "\n",
    "## Disjunkte Mengen  (disjoint)\n",
    "Zwei Mengen sind **disjunkt**, wenn sie keine gemeinsamen Elemente haben. \n",
    "\n",
    "![Disjukte_Mengen_Venn_Diagramm](img/Disjunkt_Venn.png)"
   ]
  },
  {
   "cell_type": "markdown",
   "id": "305b2a2d-7d08-41da-a05b-fe8dd5c822af",
   "metadata": {},
   "source": [
    "<br>\n",
    "\n",
    "Die **`isdisjoint` Methode** kann jedes iterierbare Objekt als Argument erhalten."
   ]
  },
  {
   "cell_type": "code",
   "execution_count": 9,
   "id": "95f4ef56-f629-4557-9bad-9b50e8e0b3b8",
   "metadata": {},
   "outputs": [
    {
     "data": {
      "text/plain": [
       "True"
      ]
     },
     "execution_count": 9,
     "metadata": {},
     "output_type": "execute_result"
    }
   ],
   "source": [
    "{1, 3, 5}.isdisjoint({2, 4, 6})"
   ]
  },
  {
   "cell_type": "code",
   "execution_count": 10,
   "id": "f37eebb0-add2-49c0-bf6e-afb5e13aa0cf",
   "metadata": {},
   "outputs": [
    {
     "data": {
      "text/plain": [
       "False"
      ]
     },
     "execution_count": 10,
     "metadata": {},
     "output_type": "execute_result"
    }
   ],
   "source": [
    "{1, 3, 5}.isdisjoint({4, 6, 1})"
   ]
  },
  {
   "cell_type": "code",
   "execution_count": 11,
   "id": "c8e0de77-36f0-4663-981b-6957add08392",
   "metadata": {},
   "outputs": [
    {
     "data": {
      "text/plain": [
       "True"
      ]
     },
     "execution_count": 11,
     "metadata": {},
     "output_type": "execute_result"
    }
   ],
   "source": [
    "{2, 4}.isdisjoint([1, 3, 5, 7])"
   ]
  },
  {
   "cell_type": "markdown",
   "id": "cbb25fa1-8401-4243-986e-c234b1f3cf90",
   "metadata": {},
   "source": [
    "<br>\n",
    "\n",
    "## Erweiterte Zuweisungen\n",
    "* Erweiterte Vereinigungs-Zuweisung `|=`\n",
    "* Erweiterte Schnittmengen-Zuweisung `&=` \n",
    "* Erweiterte Differenz-Zuweisung `-=` \n",
    "* Erweiterte Symmetrische Differenz-Zuweisung `^=`"
   ]
  },
  {
   "cell_type": "markdown",
   "id": "75103954-a344-41d6-a328-99f3f979c2d8",
   "metadata": {},
   "source": [
    "<br>\n",
    "Zum Beispiel:"
   ]
  },
  {
   "cell_type": "code",
   "execution_count": 16,
   "id": "fac48acb-b4d7-4f11-9116-9d845086d78b",
   "metadata": {},
   "outputs": [],
   "source": [
    "numbers = {1, 3, 5}"
   ]
  },
  {
   "cell_type": "code",
   "execution_count": 18,
   "id": "866a8528-d6ab-4c64-8d35-c16628182c89",
   "metadata": {},
   "outputs": [],
   "source": [
    "numbers |= {2, 3, 4}"
   ]
  },
  {
   "cell_type": "code",
   "execution_count": 19,
   "id": "8d6d1578-af05-4e32-8919-80306cea3714",
   "metadata": {},
   "outputs": [
    {
     "data": {
      "text/plain": [
       "{1, 2, 3, 4, 5}"
      ]
     },
     "execution_count": 19,
     "metadata": {},
     "output_type": "execute_result"
    }
   ],
   "source": [
    "numbers"
   ]
  },
  {
   "cell_type": "markdown",
   "id": "827d6570-2b47-457c-b7b0-d0394ab75e16",
   "metadata": {},
   "source": [
    "<br>\n",
    "\n",
    "Entsprechende Methoden mit iterierbaren Argumenten:\n",
    "* `update`  (für Vereinigungs-Zuweisung))\n",
    "* `intersection_update` (für Schnittmengen-Zuweisung)\n",
    "* `difference_update` (für Differenz-Zuweisung)\n",
    "* `symmetric_difference_update` (für Symmetrische Differenz-Zuweisung)"
   ]
  }
 ],
 "metadata": {
  "kernelspec": {
   "display_name": "Python 3.10.8 ('venv': venv)",
   "language": "python",
   "name": "python3"
  },
  "language_info": {
   "codemirror_mode": {
    "name": "ipython",
    "version": 3
   },
   "file_extension": ".py",
   "mimetype": "text/x-python",
   "name": "python",
   "nbconvert_exporter": "python",
   "pygments_lexer": "ipython3",
   "version": "3.10.8"
  },
  "vscode": {
   "interpreter": {
    "hash": "d80cc920d25c1d92593b6aac86af4433dd7b5970d464c24070744c11223ad8fd"
   }
  }
 },
 "nbformat": 4,
 "nbformat_minor": 5
}
