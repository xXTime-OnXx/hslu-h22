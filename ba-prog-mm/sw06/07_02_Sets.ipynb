{
 "cells": [
  {
   "cell_type": "markdown",
   "id": "e5bac5fe-c3c9-4f4d-b9e1-d62a2443c47f",
   "metadata": {},
   "source": [
    "# 7.2 Sets (Mengen)\n",
    "Sammlung von ungeordneten, duplikatfreien Werten\n",
    "* **ungeordnet**: es gibt keine Indizes; kein direkter Zugriff auf Elemente; kein Slicing\n",
    "* **duplikatfrei**\n",
    "* **modifizierbar**: Hinzufzügen, Löschen, aber nicht ändern!\n",
    "* **Elemente** müssen **unveränderlich** sein\n",
    "* **Iterierbar**\n",
    "\n",
    "\n",
    "Anwendugen:\n",
    "* Duplikatelimierung\n",
    "* Mengenlehre: Vergleichen von Mengen; neue Mengen aus bestehenden Mengen erzeugen"
   ]
  },
  {
   "cell_type": "markdown",
   "id": "4b563fba-9a9d-4d95-92f2-268ed2ae0bd1",
   "metadata": {},
   "source": [
    "## Erstellen eines Set mit geschweiften Klammern"
   ]
  },
  {
   "cell_type": "code",
   "execution_count": null,
   "id": "b103d7f2-120e-46dd-97da-1b59c9feb7de",
   "metadata": {},
   "outputs": [],
   "source": [
    "colors = {'red', 'red', 'orange', 'yellow', 'green', 'blue'}"
   ]
  },
  {
   "cell_type": "code",
   "execution_count": null,
   "id": "b210622f-dbd3-4ad3-b00d-a6bda650760f",
   "metadata": {},
   "outputs": [],
   "source": [
    "colors  # Duplikate wurden eliminiert. NB: ungeordnet, auch wenn es auf den ersten Blick nicht so aussieht"
   ]
  },
  {
   "cell_type": "code",
   "execution_count": null,
   "id": "10a171f2-ece5-4e62-809d-c444756adf03",
   "metadata": {},
   "outputs": [],
   "source": [
    "type(colors)"
   ]
  },
  {
   "cell_type": "markdown",
   "id": "1df300fa-d2c8-40c8-9a01-6ff8f202432a",
   "metadata": {},
   "source": [
    "## Bestimmen der Länge eines Sets"
   ]
  },
  {
   "cell_type": "code",
   "execution_count": null,
   "id": "9b606771-281e-4f13-a85c-8cf721c9e78e",
   "metadata": {},
   "outputs": [],
   "source": [
    "len(colors)"
   ]
  },
  {
   "cell_type": "markdown",
   "id": "4dc7a76c-a7f5-43bc-81ab-df64bab72e87",
   "metadata": {},
   "source": [
    "## Prüfen, ob ein Wert in einem Set enthalten ist"
   ]
  },
  {
   "cell_type": "code",
   "execution_count": null,
   "id": "e2281106-972e-49a0-8d35-2843b5ba6363",
   "metadata": {},
   "outputs": [],
   "source": [
    "'red' in colors"
   ]
  },
  {
   "cell_type": "code",
   "execution_count": null,
   "id": "c3a78e36-dca8-4aaa-b238-42bf96600633",
   "metadata": {},
   "outputs": [],
   "source": [
    "'purple' in colors"
   ]
  },
  {
   "cell_type": "code",
   "execution_count": null,
   "id": "dbaedfc7-8b27-43b7-bda9-ef4c15309273",
   "metadata": {},
   "outputs": [],
   "source": [
    "'purple' not in colors"
   ]
  },
  {
   "cell_type": "markdown",
   "id": "1c444fd1-ffa6-46dc-9319-cd6318d4ea49",
   "metadata": {},
   "source": [
    "## Durch ein Set iterieren"
   ]
  },
  {
   "cell_type": "code",
   "execution_count": null,
   "id": "500cf6f4-8d07-47ee-8cc9-e6e1e90bc28e",
   "metadata": {},
   "outputs": [],
   "source": [
    "for color in colors:\n",
    "    print(color.upper(), end=' ')"
   ]
  },
  {
   "cell_type": "markdown",
   "id": "6775980d-c8e8-4d9b-b6bb-b5a7d8e7d3d9",
   "metadata": {},
   "source": [
    "## Erstellen eines Sets mit der integrierten `set`-Funktion"
   ]
  },
  {
   "cell_type": "code",
   "execution_count": null,
   "id": "36611768-2fb7-48fc-adc2-952a22a6b044",
   "metadata": {},
   "outputs": [],
   "source": [
    "numbers = list(range(10)) + list(range(5))"
   ]
  },
  {
   "cell_type": "code",
   "execution_count": null,
   "id": "46c3a6d6-078c-4e90-bd01-d9cf52b770dd",
   "metadata": {},
   "outputs": [],
   "source": [
    "numbers"
   ]
  },
  {
   "cell_type": "code",
   "execution_count": null,
   "id": "78c1391a-9dce-4bcd-9d99-044b6f694da3",
   "metadata": {},
   "outputs": [],
   "source": [
    "set(numbers)"
   ]
  },
  {
   "cell_type": "code",
   "execution_count": null,
   "id": "ff65613d-7aac-48e4-aec5-7a606d74b50c",
   "metadata": {},
   "outputs": [],
   "source": [
    "list(set(numbers))"
   ]
  },
  {
   "cell_type": "markdown",
   "id": "993927e7-6e90-45ef-82ac-8ebdd8e11fee",
   "metadata": {},
   "source": [
    "## Erzeugen eines Leeren Sets\n",
    "* Um eine leere Menge zu erstellen, muss die **`set()` Methode** verwendet werden, da **`{}` ein leeres Dictionary** darstellt.\n",
    "* Python zeigt eine leere Menge als `set()` an, um Verwechslungen mit einem leeren Dictionary (`{}`) zu vermeiden."
   ]
  },
  {
   "cell_type": "code",
   "execution_count": null,
   "id": "ddf83b22-2855-4287-bdeb-fe90e2db3f44",
   "metadata": {},
   "outputs": [],
   "source": [
    "numbers = set()"
   ]
  },
  {
   "cell_type": "code",
   "execution_count": null,
   "id": "f34b9260-b166-4f9d-b46e-4f3331ece6ca",
   "metadata": {},
   "outputs": [],
   "source": [
    "numbers"
   ]
  },
  {
   "cell_type": "markdown",
   "id": "bb995753-e74f-4821-9f45-c51f9280f44e",
   "metadata": {},
   "source": [
    "## Hinzufügen von Elementen"
   ]
  },
  {
   "cell_type": "code",
   "execution_count": null,
   "id": "fcdb8f2f-f761-459e-afe9-f0ce43b688bc",
   "metadata": {},
   "outputs": [],
   "source": [
    "numbers.add(10)"
   ]
  },
  {
   "cell_type": "code",
   "execution_count": null,
   "id": "5f1c57c3-1be9-45fa-a837-83e2e74ced25",
   "metadata": {},
   "outputs": [],
   "source": [
    "numbers"
   ]
  },
  {
   "cell_type": "code",
   "execution_count": null,
   "id": "64a13ff5-cf63-4612-bdc5-969c15562294",
   "metadata": {},
   "outputs": [],
   "source": [
    "numbers.update(range(10))"
   ]
  },
  {
   "cell_type": "code",
   "execution_count": null,
   "id": "8b5d8d53-2609-4db1-aa0e-d15ffd4845cb",
   "metadata": {},
   "outputs": [],
   "source": [
    "numbers"
   ]
  },
  {
   "cell_type": "markdown",
   "id": "d252f2ff-d299-4853-89f6-cbc450717b83",
   "metadata": {},
   "source": [
    "## Entfernen von Elementen"
   ]
  },
  {
   "cell_type": "markdown",
   "id": "62caf49a-8fa0-48ac-b957-8d5ecbe8e5d0",
   "metadata": {},
   "source": [
    "### remove Methode"
   ]
  },
  {
   "cell_type": "code",
   "execution_count": null,
   "id": "e6e5f091-88b5-4fba-84ce-8c23c394a683",
   "metadata": {},
   "outputs": [],
   "source": [
    "numbers.remove(2)"
   ]
  },
  {
   "cell_type": "code",
   "execution_count": null,
   "id": "d7d5f759-d5d9-4875-9766-be9b53a60f3f",
   "metadata": {},
   "outputs": [],
   "source": [
    "numbers"
   ]
  },
  {
   "cell_type": "code",
   "execution_count": null,
   "id": "bf96d9dc-9800-488d-82b9-01857230f121",
   "metadata": {},
   "outputs": [],
   "source": [
    "numbers.remove(18) # KeyError"
   ]
  },
  {
   "cell_type": "markdown",
   "id": "ceba9fc5-a506-472a-981e-350461cf5963",
   "metadata": {},
   "source": [
    "### discard Methode\n",
    "\n",
    "**`discard`** entfernt ihr Argument aus der Menge, aber verursacht **keine Error**, wenn der Wert nicht in der Menge ist."
   ]
  },
  {
   "cell_type": "code",
   "execution_count": null,
   "id": "3b03f8ca-65af-4a9c-8bf0-eb612e708cba",
   "metadata": {},
   "outputs": [],
   "source": [
    "numbers"
   ]
  },
  {
   "cell_type": "code",
   "execution_count": null,
   "id": "c2ac0663-a958-4bf6-b053-7a9c565518e8",
   "metadata": {},
   "outputs": [],
   "source": [
    "numbers.discard(18)"
   ]
  },
  {
   "cell_type": "code",
   "execution_count": null,
   "id": "a34d4555-6cb4-4a6d-9b20-511241ca767d",
   "metadata": {
    "tags": []
   },
   "outputs": [],
   "source": [
    "print(numbers.discard(17))"
   ]
  },
  {
   "cell_type": "code",
   "execution_count": null,
   "id": "3fc9cca0-4320-4393-8387-f9c9f400df6f",
   "metadata": {},
   "outputs": [],
   "source": [
    "numbers.discard(10)"
   ]
  },
  {
   "cell_type": "code",
   "execution_count": null,
   "id": "16f4f15b-1546-4b13-8d4a-57fd4879e855",
   "metadata": {},
   "outputs": [],
   "source": [
    "numbers"
   ]
  },
  {
   "cell_type": "markdown",
   "id": "8ae09201-8928-4de1-8737-f8f856389a24",
   "metadata": {},
   "source": [
    "### pop Methode\n",
    "Entfernt ein _beliebiges_ Mengenelement (da es ja keine Ordnung gibt) und gibt es zurück."
   ]
  },
  {
   "cell_type": "code",
   "execution_count": null,
   "id": "ea993d86-ae7d-4a2f-a3b0-304991f3864c",
   "metadata": {},
   "outputs": [],
   "source": [
    "numbers"
   ]
  },
  {
   "cell_type": "code",
   "execution_count": null,
   "id": "9fd5a965-a26f-4d73-b1cb-e62152b9cfc6",
   "metadata": {},
   "outputs": [],
   "source": [
    "numbers.pop()"
   ]
  },
  {
   "cell_type": "code",
   "execution_count": null,
   "id": "6831e542-0e29-4df8-a921-b2fed7249387",
   "metadata": {},
   "outputs": [],
   "source": [
    "numbers"
   ]
  },
  {
   "cell_type": "code",
   "execution_count": null,
   "id": "309aa3e8-8328-4664-8676-17f3848277e7",
   "metadata": {},
   "outputs": [],
   "source": [
    "numbers.pop()"
   ]
  },
  {
   "cell_type": "code",
   "execution_count": null,
   "id": "70f3cf44-7018-4da5-af97-47e232bca92e",
   "metadata": {},
   "outputs": [],
   "source": [
    "numbers"
   ]
  },
  {
   "cell_type": "markdown",
   "id": "958d1f4f-db38-4f1f-b2a1-15454d785f96",
   "metadata": {},
   "source": [
    "### clear Methode"
   ]
  },
  {
   "cell_type": "code",
   "execution_count": null,
   "id": "90b881ff-0e52-4eb4-b88b-a9b3768449f3",
   "metadata": {},
   "outputs": [],
   "source": [
    "numbers.clear()"
   ]
  },
  {
   "cell_type": "code",
   "execution_count": null,
   "id": "dddea06b-437b-4d87-8e62-f8d860967a87",
   "metadata": {},
   "outputs": [],
   "source": [
    "numbers"
   ]
  },
  {
   "cell_type": "markdown",
   "id": "bcc6ed24-6ae0-4e14-8a62-b08ba8147bc9",
   "metadata": {
    "tags": []
   },
   "source": [
    "## Set Comprehensions"
   ]
  },
  {
   "cell_type": "code",
   "execution_count": null,
   "id": "7c7dfa3b-b843-429b-875a-7fc1319eadce",
   "metadata": {},
   "outputs": [],
   "source": [
    "numbers = set(list(range(10)))"
   ]
  },
  {
   "cell_type": "code",
   "execution_count": null,
   "id": "030bec23-e23d-4181-b949-b6bc22118089",
   "metadata": {},
   "outputs": [],
   "source": [
    "numbers"
   ]
  },
  {
   "cell_type": "code",
   "execution_count": null,
   "id": "f59cb904-3326-4f2c-a83e-0d3b46f41dba",
   "metadata": {},
   "outputs": [],
   "source": [
    "evens = {item for item in numbers if item % 2 == 0} "
   ]
  },
  {
   "cell_type": "code",
   "execution_count": null,
   "id": "91beca7d-3b5f-41d0-8a49-ea332fcde0ee",
   "metadata": {},
   "outputs": [],
   "source": [
    "evens"
   ]
  },
  {
   "cell_type": "markdown",
   "id": "00d8bb1e-d4e0-4afb-92c1-baeb11668f6a",
   "metadata": {},
   "source": [
    "## Frozenset: Ein unveränderlicher Set-Typ\n",
    "* **Sets sind _mutierbar_**.\n",
    "* **Set _Elemente_ müssen _unveränderlich_** sein; daher kann ein Set keine anderen Sets als Elemente haben.\n",
    "* Ein **Frozenset** ist ein _unveränderliches_ Set - es kann nach seiner Erstellung nicht mehr geändert werden, daher kann ein Set _Frozensets_ als Elemente enthalten. \n",
    "* Die integrierte Funktion **`frozenset`** erzeugt ein Frozenset aus jedem iterierbaren Objekt."
   ]
  },
  {
   "cell_type": "code",
   "execution_count": null,
   "id": "ed39cead-caed-4680-a600-a78fbdd4d5eb",
   "metadata": {},
   "outputs": [],
   "source": [
    "mutable_set = set('123')"
   ]
  },
  {
   "cell_type": "code",
   "execution_count": null,
   "id": "26ade48a-270c-4bf2-9198-35f222d8a585",
   "metadata": {},
   "outputs": [],
   "source": [
    "mutable_set"
   ]
  },
  {
   "cell_type": "code",
   "execution_count": null,
   "id": "646b1897-13f0-4895-8eb6-a1e9633dc39a",
   "metadata": {},
   "outputs": [],
   "source": [
    "mutable_set.add(4)"
   ]
  },
  {
   "cell_type": "code",
   "execution_count": null,
   "id": "f6e8c33b-894d-4a40-8464-866a4dde7836",
   "metadata": {},
   "outputs": [],
   "source": [
    "mutable_set"
   ]
  },
  {
   "cell_type": "code",
   "execution_count": null,
   "id": "20401d0c-5361-4403-be03-684e3e228f12",
   "metadata": {},
   "outputs": [],
   "source": [
    "my_fset = frozenset(mutable_set)"
   ]
  },
  {
   "cell_type": "code",
   "execution_count": null,
   "id": "2c8f92bb-2632-47ab-9beb-bddf197a7bc9",
   "metadata": {},
   "outputs": [],
   "source": [
    "my_fset"
   ]
  },
  {
   "cell_type": "code",
   "execution_count": null,
   "id": "216a96cc-b1e0-4fa2-8192-7bc821683165",
   "metadata": {},
   "outputs": [],
   "source": [
    "my_fset.add(5)"
   ]
  },
  {
   "cell_type": "code",
   "execution_count": null,
   "id": "546cb950-81d6-4da3-abf0-475de56d585b",
   "metadata": {},
   "outputs": [],
   "source": [
    "my_fset.clear()"
   ]
  }
 ],
 "metadata": {
  "kernelspec": {
   "display_name": "Python 3 (ipykernel)",
   "language": "python",
   "name": "python3"
  },
  "language_info": {
   "codemirror_mode": {
    "name": "ipython",
    "version": 3
   },
   "file_extension": ".py",
   "mimetype": "text/x-python",
   "name": "python",
   "nbconvert_exporter": "python",
   "pygments_lexer": "ipython3",
   "version": "3.10.5"
  }
 },
 "nbformat": 4,
 "nbformat_minor": 5
}
