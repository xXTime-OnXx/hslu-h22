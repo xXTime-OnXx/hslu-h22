{
 "cells": [
  {
   "cell_type": "markdown",
   "metadata": {},
   "source": [
    "# 8. Zeichenketten und Reguläre Ausdrücke"
   ]
  },
  {
   "cell_type": "markdown",
   "metadata": {
    "pycharm": {
     "name": "#%% md\n"
    }
   },
   "source": [
    "## Agenda"
   ]
  },
  {
   "cell_type": "markdown",
   "metadata": {
    "jp-MarkdownHeadingCollapsed": true,
    "pycharm": {
     "name": "#%% md\n"
    },
    "tags": []
   },
   "source": [
    "### Teil 1 - Zeichenketten\n",
    "    8.1 Formatieren von Zeichenketten\n",
    "    8.2 Verkettung und Wiederholung\n",
    "    8.3 Entfernen von Leerzeichen\n",
    "    8.4 Ändern der Grossschreibung\n",
    "    8.5 Vergleichsoperatoren\n",
    "    8.6 Suche nach Substrings\n",
    "    8.7 Ersetzen von Substrings\n",
    "    8.8 Aufspalten und Verbinden\n",
    "    8.9 Zeichen und Zeichen-Testmethoden\n",
    "    8.10 Raw-Strings"
   ]
  },
  {
   "cell_type": "markdown",
   "metadata": {
    "pycharm": {
     "name": "#%% md\n"
    }
   },
   "source": [
    "### Teil 2 - Reguläre Ausdrücke\n",
    "    8.11 Einführung in RE\n",
    "    8.12 Die `fullmatch`-Funktion\n",
    "    8.13 Die `sub`- und `split`-Funktion\n",
    "    8.14 Weitere Suchfunktionen"
   ]
  }
 ],
 "metadata": {
  "celltoolbar": "Slideshow",
  "kernelspec": {
   "display_name": "Python 3 (ipykernel)",
   "language": "python",
   "name": "python3"
  },
  "language_info": {
   "codemirror_mode": {
    "name": "ipython",
    "version": 3
   },
   "file_extension": ".py",
   "mimetype": "text/x-python",
   "name": "python",
   "nbconvert_exporter": "python",
   "pygments_lexer": "ipython3",
   "version": "3.10.1"
  }
 },
 "nbformat": 4,
 "nbformat_minor": 4
}
