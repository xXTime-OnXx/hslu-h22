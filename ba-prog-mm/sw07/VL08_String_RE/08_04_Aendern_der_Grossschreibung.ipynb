{
 "cells": [
  {
   "cell_type": "markdown",
   "metadata": {},
   "source": [
    "# 8.4 Ändern der Grossschreibung"
   ]
  },
  {
   "cell_type": "markdown",
   "metadata": {},
   "source": [
    "## Nur das erste Zeichen einer Zeichenfolge gross schreiben\n",
    "Die Methode **`capitalize`** gibt eine neue Zeichenkette zurück, bei der nur der erste Buchstabe grossgeschrieben wird. Dies wird manchmal als **Satzgrossschreibung** bezeichnet."
   ]
  },
  {
   "cell_type": "code",
   "execution_count": null,
   "metadata": {},
   "outputs": [],
   "source": [
    "'happy birthday'.capitalize()"
   ]
  },
  {
   "cell_type": "markdown",
   "metadata": {},
   "source": [
    "## Grossschreibung des ersten Zeichens jedes Wortes in einer Zeichenfolge\n",
    "Die Methode **`title`** gibt eine neue Zeichenkette zurück, bei der das erste Zeichen jedes Wortes gross geschrieben ist. Diese wird manchmal auch als **Buchtitel-Grossschreibung** bezeichnet."
   ]
  },
  {
   "cell_type": "code",
   "execution_count": null,
   "metadata": {},
   "outputs": [],
   "source": [
    "'strings: a deeper look'.title()"
   ]
  }
 ],
 "metadata": {
  "kernelspec": {
   "display_name": "Python 3.10.5 64-bit",
   "language": "python",
   "name": "python3"
  },
  "language_info": {
   "codemirror_mode": {
    "name": "ipython",
    "version": 3
   },
   "file_extension": ".py",
   "mimetype": "text/x-python",
   "name": "python",
   "nbconvert_exporter": "python",
   "pygments_lexer": "ipython3",
   "version": "3.10.5"
  },
  "vscode": {
   "interpreter": {
    "hash": "aee8b7b246df8f9039afb4144a1f6fd8d2ca17a180786b69acc140d282b71a49"
   }
  }
 },
 "nbformat": 4,
 "nbformat_minor": 4
}
