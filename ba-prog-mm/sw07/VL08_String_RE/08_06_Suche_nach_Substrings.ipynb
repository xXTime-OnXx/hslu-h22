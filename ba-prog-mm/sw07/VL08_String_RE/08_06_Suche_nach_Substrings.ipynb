{
 "cells": [
  {
   "cell_type": "markdown",
   "metadata": {},
   "source": [
    "# 8.6 Suche nach Substrings\n",
    "Sie können eine Zeichenfolge nach einer **Teilzeichenfolge** durchsuchen, um\n",
    "   * die  Anzahl der Vorkommnisse zu zählen;\n",
    "   * festzustellen, ob eine Zeichenkette eine Teilzeichenkette enthält;\n",
    "   * den Index zu bestimmen, an dem sich eine Teilzeichenkette in einer Zeichenkette befindet.\n",
    "    \n",
    "&nbsp; \n",
    "Jede in diesem Abschnitt gezeigte Methode vergleicht die Zeichen mit ihren zugrunde liegenden numerischen Werten."
   ]
  },
  {
   "cell_type": "markdown",
   "metadata": {},
   "source": [
    "## Vorkommen zählen\n",
    "**`count`** gibt zurück, wie oft sein Argument in einer Zeichenkette vorkommt."
   ]
  },
  {
   "cell_type": "code",
   "execution_count": null,
   "metadata": {},
   "outputs": [],
   "source": [
    "sentence = 'to be or not to be that is the question'"
   ]
  },
  {
   "cell_type": "code",
   "execution_count": null,
   "metadata": {},
   "outputs": [],
   "source": [
    "sentence.count('to')"
   ]
  },
  {
   "cell_type": "markdown",
   "metadata": {},
   "source": [
    "Wenn Sie als zweites Argument einen **Start-Index** angeben, durchsucht `count` nur den Teilabschnitt <i>**string`[start_index : ]`**</i>"
   ]
  },
  {
   "cell_type": "code",
   "execution_count": null,
   "metadata": {},
   "outputs": [],
   "source": [
    "sentence.count('to', 12)"
   ]
  },
  {
   "cell_type": "markdown",
   "metadata": {},
   "source": [
    "Wenn Sie als zweites und drittes Argument den **Start-Index** und **End-Index** angeben, durchsucht `count` nur den Teilabschnitt <i>**string`[start_index : end_index]`**</i>"
   ]
  },
  {
   "cell_type": "code",
   "execution_count": null,
   "metadata": {},
   "outputs": [],
   "source": [
    "sentence.count('that', 12, 23)"
   ]
  },
  {
   "cell_type": "markdown",
   "metadata": {},
   "source": [
    "NB: Wie `count` haben auch die anderen in diesem Abschnitt vorgestellten Zeichenkettenmethoden jeweils Argumente **start index** und **end index**.\n",
    "\n",
    "&nbsp;"
   ]
  },
  {
   "cell_type": "markdown",
   "metadata": {},
   "source": [
    "## Bestimmen, ob eine Zeichenfolge eine Teilzeichenfolge enthält\n",
    "Um zu prüfen, ob eine Zeichenkette eine Teilzeichenkette enthält, verwenden Sie den Operator `in` oder `not in`."
   ]
  },
  {
   "cell_type": "code",
   "execution_count": null,
   "metadata": {},
   "outputs": [],
   "source": [
    "sentence"
   ]
  },
  {
   "cell_type": "code",
   "execution_count": null,
   "metadata": {},
   "outputs": [],
   "source": [
    "'that' in sentence"
   ]
  },
  {
   "cell_type": "code",
   "execution_count": null,
   "metadata": {},
   "outputs": [],
   "source": [
    "'THAT' in sentence"
   ]
  },
  {
   "cell_type": "code",
   "execution_count": null,
   "metadata": {},
   "outputs": [],
   "source": [
    "'THAT' not in sentence"
   ]
  },
  {
   "cell_type": "markdown",
   "metadata": {},
   "source": [
    "## Lokalisieren einer Teilzeichenfolge am Anfang oder Ende einer Zeichenfolge"
   ]
  },
  {
   "cell_type": "markdown",
   "metadata": {
    "pycharm": {
     "name": "#%% md\n"
    }
   },
   "source": [
    "**`startswith`** gibt `True` zurück, wenn die Zeichenkette mit einer angegebenen Teilzeichenkette beginnt."
   ]
  },
  {
   "cell_type": "code",
   "execution_count": null,
   "metadata": {},
   "outputs": [],
   "source": [
    "sentence"
   ]
  },
  {
   "cell_type": "code",
   "execution_count": null,
   "metadata": {
    "tags": []
   },
   "outputs": [],
   "source": [
    "sentence.startswith('to')"
   ]
  },
  {
   "cell_type": "code",
   "execution_count": null,
   "metadata": {},
   "outputs": [],
   "source": [
    "sentence.startswith('be')"
   ]
  },
  {
   "cell_type": "markdown",
   "metadata": {},
   "source": [
    "`startswith` kann auch ein Tupel von Teilzeichenketten enthalten, die überprüft werden."
   ]
  },
  {
   "cell_type": "code",
   "execution_count": null,
   "metadata": {},
   "outputs": [],
   "source": [
    "sentence.capitalize().startswith(('to', 'To'))"
   ]
  },
  {
   "cell_type": "markdown",
   "metadata": {
    "pycharm": {
     "name": "#%% md\n"
    }
   },
   "source": [
    "**`endswith`** gibt `True` zurück, wenn die Zeichenkette mit einer angegebenen Teilzeichenkette endet."
   ]
  },
  {
   "cell_type": "code",
   "execution_count": null,
   "metadata": {},
   "outputs": [],
   "source": [
    "sentence.endswith('question')"
   ]
  },
  {
   "cell_type": "code",
   "execution_count": null,
   "metadata": {},
   "outputs": [],
   "source": [
    "sentence.endswith('quest')"
   ]
  },
  {
   "cell_type": "markdown",
   "metadata": {},
   "source": [
    "`endswith` kann ebenfalls eine Tupel von Teilzeichenketten enthalten, die überprüft werden."
   ]
  },
  {
   "cell_type": "code",
   "execution_count": null,
   "metadata": {},
   "outputs": [],
   "source": [
    "sentence.title().endswith(('question', 'Question'))"
   ]
  },
  {
   "cell_type": "markdown",
   "metadata": {},
   "source": [
    "## Lokalisieren einer Teilzeichenfolge in einer Zeichenfolge\n",
    "**`index`** sucht nach einer Teilzeichenkette innerhalb einer Zeichenkette und gibt den ersten Index zurück, bei dem die Teilzeichenkette gefunden wird; andernfalls tritt ein `ValueError` auf:"
   ]
  },
  {
   "cell_type": "code",
   "execution_count": null,
   "metadata": {},
   "outputs": [],
   "source": [
    "sentence"
   ]
  },
  {
   "cell_type": "code",
   "execution_count": null,
   "metadata": {},
   "outputs": [],
   "source": [
    "sentence.index('be')"
   ]
  },
  {
   "cell_type": "code",
   "execution_count": null,
   "metadata": {},
   "outputs": [],
   "source": [
    "sentence.index('hello')"
   ]
  },
  {
   "cell_type": "markdown",
   "metadata": {},
   "source": [
    "**`rindex`** führt die gleiche Operation wie `index` aus, sucht jedoch vom Ende der Zeichenkette aus"
   ]
  },
  {
   "cell_type": "code",
   "execution_count": null,
   "metadata": {},
   "outputs": [],
   "source": [
    "sentence.rindex('be')"
   ]
  },
  {
   "cell_type": "code",
   "execution_count": null,
   "metadata": {},
   "outputs": [],
   "source": [
    "sentence.rindex('hello')"
   ]
  },
  {
   "cell_type": "markdown",
   "metadata": {},
   "source": [
    "**`find`** und **`rfind`** erfüllen die gleichen Aufgaben wie `index` und `rindex`, geben aber `-1` zurück, wenn die Teilzeichenkette nicht gefunden wird."
   ]
  },
  {
   "cell_type": "code",
   "execution_count": null,
   "metadata": {},
   "outputs": [],
   "source": [
    "sentence"
   ]
  },
  {
   "cell_type": "code",
   "execution_count": null,
   "metadata": {},
   "outputs": [],
   "source": [
    "sentence.find('hello')"
   ]
  },
  {
   "cell_type": "code",
   "execution_count": null,
   "metadata": {},
   "outputs": [],
   "source": [
    "sentence.rfind('hello')"
   ]
  }
 ],
 "metadata": {
  "kernelspec": {
   "display_name": "Python 3.10.5 64-bit",
   "language": "python",
   "name": "python3"
  },
  "language_info": {
   "codemirror_mode": {
    "name": "ipython",
    "version": 3
   },
   "file_extension": ".py",
   "mimetype": "text/x-python",
   "name": "python",
   "nbconvert_exporter": "python",
   "pygments_lexer": "ipython3",
   "version": "3.10.5"
  },
  "vscode": {
   "interpreter": {
    "hash": "aee8b7b246df8f9039afb4144a1f6fd8d2ca17a180786b69acc140d282b71a49"
   }
  }
 },
 "nbformat": 4,
 "nbformat_minor": 4
}
