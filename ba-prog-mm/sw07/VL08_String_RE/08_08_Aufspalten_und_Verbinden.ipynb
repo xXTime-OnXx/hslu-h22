{
 "cells": [
  {
   "cell_type": "markdown",
   "metadata": {},
   "source": [
    "# 8.8 Aufspalten und Verbinden von Strings\n",
    "**Tokens** werden normalerweise durch Leerstellen wie Leerzeichen, Tabulatoren und Zeilenumbrüche getrennt, obwohl auch andere Zeichen verwendet werden können. Die Trennzeichen werden als **Delimiter** bezeichnet."
   ]
  },
  {
   "cell_type": "markdown",
   "metadata": {},
   "source": [
    "## Aufspalten von Zeichenketten (`split` und `rsplit`)\n",
    "Um eine Zeichenkette an einem benutzerdefinierten Delimiter aufzuspalten, geben Sie die **Delimiter-Zeichenkette** an, die `split` verwenden soll, um die Zeichenkette aufzuteilen"
   ]
  },
  {
   "cell_type": "code",
   "execution_count": null,
   "metadata": {},
   "outputs": [],
   "source": [
    "letters = 'A, B, C, D'"
   ]
  },
  {
   "cell_type": "code",
   "execution_count": null,
   "metadata": {},
   "outputs": [],
   "source": [
    "letters.split(', ')"
   ]
  },
  {
   "cell_type": "markdown",
   "metadata": {},
   "source": [
    "Geben Sie die **maximale Anzahl von Aufteilungen** mit einer Ganzzahl als **zweites Argument** an.\n",
    "* Es werden **maxsplit + 1** Elemente in einer Liste zurückgegeben;\n",
    "* Das letzte Token entspricht dem Rest der Zeichenkette."
   ]
  },
  {
   "cell_type": "code",
   "execution_count": null,
   "metadata": {},
   "outputs": [],
   "source": [
    "letters.split(', ', 2)"
   ]
  },
  {
   "cell_type": "markdown",
   "metadata": {},
   "source": [
    "**`rsplit`** führt die gleiche Aufgabe wie `split` aus, verarbeitet aber die maximale Anzahl von Splits vom Ende der Zeichenkette zum Anfang"
   ]
  },
  {
   "cell_type": "code",
   "execution_count": null,
   "metadata": {},
   "outputs": [],
   "source": [
    "letters.rsplit(', ', 2)"
   ]
  },
  {
   "cell_type": "markdown",
   "metadata": {},
   "source": [
    "## Zeichenketten verbinden (`join`)\n",
    "**`join`** verbindet die Zeichenketten die im iterierbaren Objekt des Arguments enthalten sind. Das Trennzeichen zwischen den verketteten Elementen ist die Zeichenkette, auf der Sie `join` aufrufen"
   ]
  },
  {
   "cell_type": "code",
   "execution_count": null,
   "metadata": {},
   "outputs": [],
   "source": [
    "letters_list = ['A', 'B', 'C', 'D']"
   ]
  },
  {
   "cell_type": "code",
   "execution_count": null,
   "metadata": {},
   "outputs": [],
   "source": [
    "'_'.join(letters_list)"
   ]
  },
  {
   "cell_type": "markdown",
   "metadata": {},
   "source": [
    "Verbinden Sie die Ergebnisse einer List-Comprehension, die eine Liste von Zeichenfolgen erstellt"
   ]
  },
  {
   "cell_type": "code",
   "execution_count": null,
   "metadata": {
    "tags": []
   },
   "outputs": [],
   "source": [
    "', '.join([str(i) for i in range(10)])"
   ]
  },
  {
   "cell_type": "markdown",
   "metadata": {},
   "source": [
    "## String-Methoden `partition` und `rpartition`\n",
    "String-Methode **`partition`** spaltet eine Zeichenkette in ein Tupel von drei Zeichenketten, basierend auf dem _Separator_-Argument der Methode:\n",
    "1. der Teil der Originalzeichenkette vor dem Trennzeichen\n",
    "2. das Trennzeichen selbst\n",
    "3. der Teil der Zeichenkette nach dem Trennzeichen"
   ]
  },
  {
   "cell_type": "code",
   "execution_count": null,
   "metadata": {},
   "outputs": [],
   "source": [
    "'Amanda: 89, 97, 92'.partition(': ')"
   ]
  },
  {
   "cell_type": "markdown",
   "metadata": {},
   "source": [
    "Um nach dem Trennzeichen vom Ende der Zeichenkette zu suchen, verwenden Sie die Methode **`rpartition`**"
   ]
  },
  {
   "cell_type": "code",
   "execution_count": null,
   "metadata": {},
   "outputs": [],
   "source": [
    "url = 'http://www.deitel.com/books/PyCDS/table_of_contents.html'"
   ]
  },
  {
   "cell_type": "code",
   "execution_count": null,
   "metadata": {},
   "outputs": [],
   "source": [
    "rest_of_url, separator, document = url.rpartition('/')"
   ]
  },
  {
   "cell_type": "code",
   "execution_count": null,
   "metadata": {},
   "outputs": [],
   "source": [
    "document"
   ]
  },
  {
   "cell_type": "code",
   "execution_count": null,
   "metadata": {},
   "outputs": [],
   "source": [
    "rest_of_url"
   ]
  },
  {
   "cell_type": "markdown",
   "metadata": {},
   "source": [
    "## String Methode `splitlines`\n",
    "**`splitlines`** gibt eine Liste neuer Zeichenketten zurück, die Textzeilen darstellen, die bei jedem Zeilenumbruchzeichen in der ursprünglichen Zeichenkette geteilt wurden."
   ]
  },
  {
   "cell_type": "code",
   "execution_count": null,
   "metadata": {},
   "outputs": [],
   "source": [
    "lines = \"\"\"This is line 1\n",
    "This is line2\n",
    "This is line3\"\"\""
   ]
  },
  {
   "cell_type": "code",
   "execution_count": null,
   "metadata": {},
   "outputs": [],
   "source": [
    "lines"
   ]
  },
  {
   "cell_type": "code",
   "execution_count": null,
   "metadata": {},
   "outputs": [],
   "source": [
    "lines.splitlines()"
   ]
  },
  {
   "cell_type": "markdown",
   "metadata": {},
   "source": [
    "Bei der Übergabe von `True` an `splitlines` bleiben die Zeilenumbrüche erhalten."
   ]
  },
  {
   "cell_type": "code",
   "execution_count": null,
   "metadata": {},
   "outputs": [],
   "source": [
    "lines.splitlines(True)"
   ]
  }
 ],
 "metadata": {
  "kernelspec": {
   "display_name": "Python 3.10.5 64-bit",
   "language": "python",
   "name": "python3"
  },
  "language_info": {
   "codemirror_mode": {
    "name": "ipython",
    "version": 3
   },
   "file_extension": ".py",
   "mimetype": "text/x-python",
   "name": "python",
   "nbconvert_exporter": "python",
   "pygments_lexer": "ipython3",
   "version": "3.10.5"
  },
  "vscode": {
   "interpreter": {
    "hash": "aee8b7b246df8f9039afb4144a1f6fd8d2ca17a180786b69acc140d282b71a49"
   }
  }
 },
 "nbformat": 4,
 "nbformat_minor": 4
}
