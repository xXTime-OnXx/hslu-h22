{
 "cells": [
  {
   "cell_type": "markdown",
   "metadata": {},
   "source": [
    "# 8.9 Zeichen und Zeichen-Testmethoden\n",
    "Python bietet String-Methoden zum Testen, ob eine Zeichenkette bestimmten Merkmalen entspricht.<br>\n",
    "NB: In Python ist ein Zeichen einfach ein Ein-Zeichen-String.\n"
   ]
  },
  {
   "cell_type": "markdown",
   "metadata": {
    "pycharm": {
     "name": "#%% md\n"
    }
   },
   "source": [
    "**`isdigit`** gibt `True` zurück, wenn die Zeichenkette, auf der Sie die Methode aufrufen, nur die Ziffern-Zeichen (`0`-`9`) enthält."
   ]
  },
  {
   "cell_type": "code",
   "execution_count": null,
   "metadata": {},
   "outputs": [],
   "source": [
    "'-27'.isdigit()"
   ]
  },
  {
   "cell_type": "code",
   "execution_count": null,
   "metadata": {},
   "outputs": [],
   "source": [
    "'27'.isdigit()"
   ]
  },
  {
   "cell_type": "markdown",
   "metadata": {},
   "source": [
    "**`isalnum`** gibt `True` zurück, wenn die Zeichenkette, auf der Sie die Methode aufrufen, alphanumerisch ist (nur Ziffern und Buchstaben)"
   ]
  },
  {
   "cell_type": "code",
   "execution_count": null,
   "metadata": {},
   "outputs": [],
   "source": [
    "'A9876'.isalnum()"
   ]
  },
  {
   "cell_type": "code",
   "execution_count": null,
   "metadata": {},
   "outputs": [],
   "source": [
    "'123 Main Street'.isalnum()"
   ]
  },
  {
   "cell_type": "markdown",
   "metadata": {},
   "source": [
    "<br>\n",
    "\n",
    "## Tabelle von Zeichen-Prüfmethoden"
   ]
  },
  {
   "cell_type": "markdown",
   "metadata": {
    "pycharm": {
     "name": "#%% md\n"
    }
   },
   "source": [
    "| String-Methode   | Beschreibung                                                                                                                 |\n",
    "|------------------|-----------------------------------------------------------------------------------------|\n",
    "| `isalnum()`      | Gibt `True` zurück, wenn die Zeichenkette nur _alphanumerische_ Zeichen enthält (d.h. Ziffern und Buchstaben).               |\n",
    "| `isalpha()`      | Gibt `True` zurück, wenn die Zeichenkette nur _alphabetische_ Zeichen (d.h. Buchstaben) enthält.                             |\n",
    "| `isdecimal()`    | Gibt `True` zurück, wenn die Zeichenkette nur _dezimale ganzzahlige_ Zeichen enthält (d.h. zur Basis 10 ) und kein + oder - Zeichen enthält. |\n",
    "| `isdigit()`      | Gibt `True` zurück, wenn die Zeichenkette nur Ziffern enthält (z.B. '0', '1', '2').                                          |\n",
    "| `isidentifier()` | Gibt `True` zurück, wenn die Zeichenkette einen gültigen _Bezeichner_ darstellt.                                             |\n",
    "| `islower()`      | Gibt `True` zurück, wenn alle alphabetischen Zeichen in der Zeichenkette _Kleinbuchstaben_ sind (z.B. `'a'`, `'b'`, `'c'`).  |\n",
    "| `isnumeric()`    | Gibt `True` zurück, wenn die Zeichen in der Zeichenkette einen _numerischen Wert_ ohne ein + oder - Zeichen und ohne Dezimalpunkt darstellen. |\n",
    "| `isspace()`      | Gibt `True` zurück, wenn die Zeichenkette nur _Whitespace_-Zeichen enthält.                                                  |\n",
    "| `istitle()`      | Gibt `True` zurück, wenn das erste Zeichen jedes Wortes in der Zeichenkette das einzige Grossbuchstaben-Zeichen im Wort ist. |\n",
    "| `isupper()`      | Gibt `True` zurück, wenn alle alphabetischen Zeichen in der Zeichenkette _Grossbuchstaben_ sind (z.B. `'A'`, `'B'`, `'C'`).  |"
   ]
  }
 ],
 "metadata": {
  "kernelspec": {
   "display_name": "Python 3.10.5 64-bit",
   "language": "python",
   "name": "python3"
  },
  "language_info": {
   "codemirror_mode": {
    "name": "ipython",
    "version": 3
   },
   "file_extension": ".py",
   "mimetype": "text/x-python",
   "name": "python",
   "nbconvert_exporter": "python",
   "pygments_lexer": "ipython3",
   "version": "3.10.5"
  },
  "vscode": {
   "interpreter": {
    "hash": "aee8b7b246df8f9039afb4144a1f6fd8d2ca17a180786b69acc140d282b71a49"
   }
  }
 },
 "nbformat": 4,
 "nbformat_minor": 4
}
