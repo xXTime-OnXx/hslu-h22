{
 "cells": [
  {
   "cell_type": "markdown",
   "metadata": {},
   "source": [
    "# 8.11 Einführung in Reguläre Ausdrücke (Regular Expressions)\n",
    "Ein **regulärer Ausdruck** beschreibt ein **Suchmuster**, um **übereinstimmende** Zeichen in Zeichenketten zu identifizieren.<br>\n",
    "Sie können Ihnen helfen:\n",
    "   * Daten aus unstrukturiertem Text zu extrahieren;\n",
    "   * Daten zu bereinigen;\n",
    "   * Daten in andere Formate zu transformieren;\n",
    "   * Daten zu validieren."
   ]
  },
  {
   "cell_type": "markdown",
   "metadata": {},
   "source": [
    "### Daten extrahieren (aka Scraping)\n",
    "* z.B. das Auffinden aller URLs in einer Webseite\n",
    "* Bem.: Vielleicht bevorzugen Sie dafür Werkzeuge wie BeautifulSoup, XPath und lxml"
   ]
  },
  {
   "cell_type": "markdown",
   "metadata": {},
   "source": [
    "### Daten bereinigen\n",
    "* z.B. Entfernen nicht benötigter Daten;\n",
    "* Entfernen doppelter Daten;\n",
    "* Umgang mit unvollständigen Daten; \n",
    "* Korrektur von Tippfehlern; \n",
    "* Gewährleistung konsistenter Datenformate; \n",
    "* Umgang mit Ausreissern;\n",
    "* etc."
   ]
  },
  {
   "cell_type": "markdown",
   "metadata": {},
   "source": [
    "### Daten in andere Formate transformieren\n",
    "* z.B. Neuformatierung von Daten, die als tabulator- oder durch Leerzeichen getrennte Werte erfasst wurden, in kommagetrennte Werte (CSV) für eine Anwendung, die Daten im CSV-Format erfordert."
   ]
  },
  {
   "cell_type": "markdown",
   "metadata": {},
   "source": [
    "### Validierung von Daten\n",
    "* Eine U.S. **Postleitzahl** besteht aus fünf Ziffern (z.B. 02215) oder fünf Ziffern, gefolgt von einem Bindestrich und vier weiteren Ziffern (z.B. 02215-4775).\n",
    "* Ein **Nachname** enthält nur Buchstaben, Leerzeichen, Apostrophe und Bindestriche.\n",
    "* Eine **E-Mail-Adresse** enthält nur die erlaubten Zeichen in der erlaubten Reihenfolge.\n",
    "* Eine U.S.-**Sozialversicherungsnummer** besteht aus drei Ziffern, einem Bindestrich, zwei Ziffern, einem Bindestrich und vier Ziffern und hält sich an andere Regeln bezüglich der spezifischen Nummern, die in jeder Zifferngruppe verwendet werden können."
   ]
  },
  {
   "cell_type": "markdown",
   "metadata": {},
   "source": [
    "### Regular Expressions Libraries\n",
    "Sie müssen selten Ihre eigenen regulären Ausdrücke erstellen. Es gibt Repositories von bestehenden regulären Ausdrücken, die Sie kopieren und verwenden können:\n",
    "* `https://regex101.com` \n",
    "* `http://www.regexlib.com` \n",
    "* `https://www.regular-expressions.info` "
   ]
  },
  {
   "cell_type": "markdown",
   "metadata": {},
   "source": [
    "### Python `re` Dokumentation\n",
    "https://docs.python.org/3.10/library/re.html#"
   ]
  }
 ],
 "metadata": {
  "kernelspec": {
   "display_name": "Python 3.10.5 64-bit",
   "language": "python",
   "name": "python3"
  },
  "language_info": {
   "codemirror_mode": {
    "name": "ipython",
    "version": 3
   },
   "file_extension": ".py",
   "mimetype": "text/x-python",
   "name": "python",
   "nbconvert_exporter": "python",
   "pygments_lexer": "ipython3",
   "version": "3.10.5"
  },
  "vscode": {
   "interpreter": {
    "hash": "aee8b7b246df8f9039afb4144a1f6fd8d2ca17a180786b69acc140d282b71a49"
   }
  }
 },
 "nbformat": 4,
 "nbformat_minor": 4
}
