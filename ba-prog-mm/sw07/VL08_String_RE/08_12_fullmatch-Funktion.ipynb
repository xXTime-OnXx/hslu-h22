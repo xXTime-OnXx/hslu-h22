{
 "cells": [
  {
   "cell_type": "markdown",
   "metadata": {},
   "source": [
    "# 8.12 re Modul- und die Funktion `fullmatch`\n",
    "**`re.fullmatch(pattern, string, flags=0) --> re.Match obj | None`** \n",
    "* Prüft, ob die **ganze** Zeichenkette `string` mit dem **Pattern** (regulärer Ausdruck) übereinstimmt;\n",
    "* Gibt entweder ein `re.Match object`, das den übereinstimmenden Text enthält, oder `None` zurück;\n",
    "* Das optionale flags-Schlüsselwortargument kann verwendet werden, um die Suche näher zu spezifizieren. Zum Beispiel `flags=re.I` ignoriert die Gross-/Kleinschreibung.\n",
    "\n",
    "\n",
    "* Ein regulärer Ausdruck kann aus Folgendem bestehen:\n",
    "    * normalen Zeichenketten (Literalen);\n",
    "    * Metazeichen;\n",
    "    * Vordefinierten Zeichenklassen;\n",
    "    * Benutzerdefinierten Zeichenklassen, und\n",
    "    * Quantifizierer."
   ]
  },
  {
   "cell_type": "code",
   "execution_count": null,
   "metadata": {},
   "outputs": [],
   "source": [
    "import re"
   ]
  },
  {
   "cell_type": "markdown",
   "metadata": {},
   "source": [
    "## Vergleichen von Literalen"
   ]
  },
  {
   "cell_type": "code",
   "execution_count": null,
   "metadata": {},
   "outputs": [],
   "source": [
    "pattern = '02215'"
   ]
  },
  {
   "cell_type": "code",
   "execution_count": null,
   "metadata": {},
   "outputs": [],
   "source": [
    "print(re.fullmatch(pattern, '02215'))"
   ]
  },
  {
   "cell_type": "code",
   "execution_count": null,
   "metadata": {},
   "outputs": [],
   "source": [
    "print(re.fullmatch(pattern, '022156'))"
   ]
  },
  {
   "cell_type": "code",
   "execution_count": null,
   "metadata": {},
   "outputs": [],
   "source": [
    "'Match' if re.fullmatch(pattern, '02215') else 'No match'"
   ]
  },
  {
   "cell_type": "code",
   "execution_count": null,
   "metadata": {},
   "outputs": [],
   "source": [
    "'Match' if re.fullmatch(pattern, '51220') else 'No match'"
   ]
  },
  {
   "cell_type": "code",
   "execution_count": null,
   "metadata": {},
   "outputs": [],
   "source": [
    "'Match' if re.fullmatch(pattern, '022150') else 'No match'"
   ]
  },
  {
   "cell_type": "markdown",
   "metadata": {},
   "source": [
    "## Metazeichen, Zeichenklassen und Quantifizierer"
   ]
  },
  {
   "cell_type": "markdown",
   "metadata": {},
   "source": [
    "### Metazeichen"
   ]
  },
  {
   "cell_type": "markdown",
   "metadata": {},
   "source": [
    "| Metazeichen für reguläre Ausdrücke\n",
    "| --------\n",
    "| `[]  `  `{}  `  `()  `  `\\  `  `*  `  `+  `  `^  `  `$  `  `?  `  `.  `  `\\|`"
   ]
  },
  {
   "cell_type": "markdown",
   "metadata": {},
   "source": [
    "* **`[]` Metazeichen** werden für benuzterdefinierte Zeichenklassen verwendet, die ein einzelnes Zeichen aus einer Menge von Möglichkeiten representieren;\n",
    "* **`{}` Metazeichen** werden für **Quantifizierer** verwendet;\n",
    "* **`()` Metazeichen** werden für Gruppierung verwendet;\n",
    "* Das **`\\` Metazeichen** wird als Escape-Zeichen verwendet. Es beginnt z.B. jede vordefinierte **Zeichenklasse**. Oder es stellt sicher, dass ein Metazeichen innerhalb eines Patterns als **literaler Wert** interpretiert wird, wie z.B. Backslash (`\\\\`), oder Dollar Zeichen (`\\$`).\n",
    "* Das **`*` Metazeichen** steht für 0..n Vorkommen eines Zeichens;\n",
    "* Das **`+` Metazeichen** steht für 1..n Vorkommen eines Zeichens;\n",
    "* Das **`^` Metazeichen** ist kontextbezogen. Es bedeutet entweder ein Anfang-String-Anker, oder `not`, wenn es innerhalb einer benutzerdefinierten Zeichnenklasse verwendet wird;\n",
    "* Das **`$` Metazeichen** ist ein Ende-String-Anker;\n",
    "* Das **`?` Metazeichen** steht für 0, oder 1 Vorkommen eines Zeichens;\n",
    "* Das **`.` Metazeichen** steht für genau 1 Vorkommen eines Zeichens;\n",
    "* Das **`|` Metazeichen** wird für entweder/oder Patterns verwendet."
   ]
  },
  {
   "cell_type": "markdown",
   "metadata": {},
   "source": [
    "### Vordefinierte Zeichenklassen\n",
    "Eine Zeichenklasse ist eine regulärer Ausdruck, der mit **genau einem** definierten Zeichen übereinstimmt. Zum Beispiel ist **`\\d`** eine Zeichenklasse, die eine Ziffer (0-9) darstellt. "
   ]
  },
  {
   "cell_type": "markdown",
   "metadata": {},
   "source": [
    "| Zeichenklasse\t| Übereinstimmung\n",
    "| ------------\t| ------------\n",
    "| `\\d`\t| Beliebige Ziffer (0-9).\n",
    "| `\\D`\t| Jedes Zeichen, das _nicht_ eine Ziffer ist.\n",
    "| `\\s`\t| Jedes beliebige Whitespace-Zeichen (wie z.B. Leerzeichen, Tabulatoren und Zeilenumbrüche).\n",
    "| `\\S`\t| Jedes Zeichen, das _nicht_ ein Whitespace-Zeichen ist.\n",
    "| `\\w`\t| Jedes **Wortzeichen** (auch als **alphanumerisches Zeichen** bezeichnet), d.h. jeder Gross- oder Kleinbuchstabe, jede Ziffer oder ein Unterstrich\n",
    "| `\\W`\t| Jedes Zeichen, das _nicht_ ein Wortzeichen ist."
   ]
  },
  {
   "cell_type": "markdown",
   "metadata": {},
   "source": [
    "### Quantifizierer\n",
    "* Quantifizierer beziehen sich immer auf das vorangehende Zeichen (oder Zeichenklasse).\n",
    "* Neben den oben genannten Metazeichen `*`, `+`, `?` und `.` gibt es noch folgende Variante:\n",
    "    * `{n}` - genau n aufeinanderfolgende Zeichen;\n",
    "    * `{n, }` - mindestens n Vorkommen eines Zeichens\n",
    "    * `{n, m}` - mindestens n, max. m folgende Zeichen"
   ]
  },
  {
   "cell_type": "code",
   "execution_count": null,
   "metadata": {},
   "outputs": [],
   "source": [
    "'Valid' if re.fullmatch(r'\\d{5}', '02215') else 'Invalid'"
   ]
  },
  {
   "cell_type": "code",
   "execution_count": null,
   "metadata": {},
   "outputs": [],
   "source": [
    "'Valid' if re.fullmatch(r'\\d{5}', '9876') else 'Invalid'"
   ]
  },
  {
   "cell_type": "markdown",
   "metadata": {},
   "source": [
    "### Benutzerdefinierte Zeichenklassen  `[]`\n",
    "* Eckige Klammern, `[]`, definieren eine **benutzerdefinierte Zeichenklasse**, die einem **einzelnen** Zeichen entspricht\n",
    "* `[aeiou]` entspricht einem Kleinbuchstaben-Vokal\n",
    "* `[A-Z]` entspricht einem Grossbuchstaben\n",
    "* `[a-z]` entspricht einem Kleinbuchstaben \n",
    "* `[a-zA-Z]` passt zu jedem Klein- oder Großbuchstaben"
   ]
  },
  {
   "cell_type": "code",
   "execution_count": null,
   "metadata": {},
   "outputs": [],
   "source": [
    "'Match' if re.fullmatch('[*+$]', '*') else 'No match'"
   ]
  },
  {
   "cell_type": "code",
   "execution_count": null,
   "metadata": {},
   "outputs": [],
   "source": [
    "'Match' if re.fullmatch('[*+$]', '!') else 'No match'"
   ]
  },
  {
   "cell_type": "markdown",
   "metadata": {},
   "source": [
    "### Der `*` Quantifizierer\n",
    "Der `*` Quantifizierer steht für null oder mehrere Vorkommen eines Zeichens überein."
   ]
  },
  {
   "cell_type": "code",
   "execution_count": null,
   "metadata": {},
   "outputs": [],
   "source": [
    "'Valid' if re.fullmatch('[A-Z][a-z]*', 'Wally') else 'Invalid'"
   ]
  },
  {
   "cell_type": "code",
   "execution_count": null,
   "metadata": {},
   "outputs": [],
   "source": [
    "'Valid' if re.fullmatch('[A-Z][a-z]*', 'eva') else 'Invalid'"
   ]
  },
  {
   "cell_type": "markdown",
   "metadata": {},
   "source": [
    "### Das `^` Metazeichen innerhalb einer benutzerdefinierten Zeichenklasse\n",
    "Innerhalb einer benutzerdefinierten Zeichenklasse angewendet, hat das `^` Zeichen die Bedeutung einer Negation (`not`)."
   ]
  },
  {
   "cell_type": "code",
   "execution_count": null,
   "metadata": {},
   "outputs": [],
   "source": [
    "'Match' if re.fullmatch('[^a-z]', 'A') else 'No match'"
   ]
  },
  {
   "cell_type": "code",
   "execution_count": null,
   "metadata": {},
   "outputs": [],
   "source": [
    "'Match' if re.fullmatch('[^a-z]', 'a') else 'No match'"
   ]
  },
  {
   "cell_type": "markdown",
   "metadata": {},
   "source": [
    "### Der `+` Quantifizierer\n",
    "Der `+` Quantifizierer stimmt mit **einem oder mehreren** Vorkommen eines Zeichens überein."
   ]
  },
  {
   "cell_type": "code",
   "execution_count": null,
   "metadata": {},
   "outputs": [],
   "source": [
    "'Valid' if re.fullmatch('[A-Z][a-z]+', 'Wally') else 'Invalid'"
   ]
  },
  {
   "cell_type": "code",
   "execution_count": null,
   "metadata": {},
   "outputs": [],
   "source": [
    "'Valid' if re.fullmatch('[A-Z][a-z]+', 'E') else 'Invalid'"
   ]
  },
  {
   "cell_type": "markdown",
   "metadata": {},
   "source": [
    "### Der `?` Quantifizierer\n",
    "Der `?` Quantifizierer stimmt mit **null oder einem Vorkommen** eines Zeichens überein."
   ]
  },
  {
   "cell_type": "code",
   "execution_count": null,
   "metadata": {},
   "outputs": [],
   "source": [
    "'Match' if re.fullmatch('labell?ed', 'labeled') else 'No match'"
   ]
  },
  {
   "cell_type": "code",
   "execution_count": null,
   "metadata": {},
   "outputs": [],
   "source": [
    "'Match' if re.fullmatch('labell?ed', 'labelled') else 'No match'"
   ]
  },
  {
   "cell_type": "code",
   "execution_count": null,
   "metadata": {},
   "outputs": [],
   "source": [
    "'Match' if re.fullmatch('labell?ed', 'labellled') else 'No match'"
   ]
  },
  {
   "cell_type": "markdown",
   "metadata": {},
   "source": [
    "* `labell?ed` stimmt mit `labelled` (der englischen Rechtschreibung) und `labeled` (der englischen Rechtschreibung der USA) überein, aber nicht mit dem falsch geschriebenen Wort `labellled`.\n",
    "* `l?` zeigt an, dass entweder **kein oder ein einziges l** vorkommen darf."
   ]
  },
  {
   "cell_type": "markdown",
   "metadata": {},
   "source": [
    "### Genua n Vorkommen eines Zeichens `{n}`\n",
    "Sie können **genua _n_ Vorkommen** eines Teilausdrucks mit dem **`{n}` Quantifizierer** überprüfen."
   ]
  },
  {
   "cell_type": "code",
   "execution_count": null,
   "metadata": {},
   "outputs": [],
   "source": [
    "'Match' if re.fullmatch(r'\\d{5}', '12345') else 'No match'"
   ]
  },
  {
   "cell_type": "code",
   "execution_count": null,
   "metadata": {},
   "outputs": [],
   "source": [
    "'Match' if re.fullmatch(r'\\d{5}', '1234') else 'No match'"
   ]
  },
  {
   "cell_type": "code",
   "execution_count": null,
   "metadata": {},
   "outputs": [],
   "source": [
    "'Match' if re.fullmatch(r'\\d{5}', '123456') else 'No match'"
   ]
  },
  {
   "cell_type": "markdown",
   "metadata": {},
   "source": [
    "### Mindestens n Vorkommen eines Zeichens `{n, }`\n",
    "Sie können **mindestens _n_ Vorkommen** eines Teilausdrucks mit dem **`{n,}` Quantifizierer** überprüfen."
   ]
  },
  {
   "cell_type": "code",
   "execution_count": null,
   "metadata": {},
   "outputs": [],
   "source": [
    "'Match' if re.fullmatch(r'\\d{3,}', '123') else 'No match'"
   ]
  },
  {
   "cell_type": "code",
   "execution_count": null,
   "metadata": {},
   "outputs": [],
   "source": [
    "'Match' if re.fullmatch(r'\\d{3,}', '1234567890') else 'No match'"
   ]
  },
  {
   "cell_type": "code",
   "execution_count": null,
   "metadata": {},
   "outputs": [],
   "source": [
    "'Match' if re.fullmatch(r'\\d{3,}', '12') else 'No match'"
   ]
  },
  {
   "cell_type": "markdown",
   "metadata": {},
   "source": [
    "### Mindestens n, max. m Vorkommen eines Zeichens `{n, m}`\n",
    "Sie können **zwischen _n_ und _m_ (inklusive) Vorkommen** eines Teilausdrucks mit dem **`{n,m}` Quantifizierer** überprüfen."
   ]
  },
  {
   "cell_type": "code",
   "execution_count": null,
   "metadata": {},
   "outputs": [],
   "source": [
    "'Match' if re.fullmatch(r'\\d{3,6}', '123') else 'No match'"
   ]
  },
  {
   "cell_type": "code",
   "execution_count": null,
   "metadata": {},
   "outputs": [],
   "source": [
    "'Match' if re.fullmatch(r'\\d{3,6}', '123456') else 'No match'"
   ]
  },
  {
   "cell_type": "code",
   "execution_count": null,
   "metadata": {},
   "outputs": [],
   "source": [
    "'Match' if re.fullmatch(r'\\d{3,6}', '1234567') else 'No match'"
   ]
  },
  {
   "cell_type": "code",
   "execution_count": null,
   "metadata": {},
   "outputs": [],
   "source": [
    "'Match' if re.fullmatch(r'\\d{3,6}', '12') else 'No match'"
   ]
  }
 ],
 "metadata": {
  "kernelspec": {
   "display_name": "Python 3.10.5 64-bit",
   "language": "python",
   "name": "python3"
  },
  "language_info": {
   "codemirror_mode": {
    "name": "ipython",
    "version": 3
   },
   "file_extension": ".py",
   "mimetype": "text/x-python",
   "name": "python",
   "nbconvert_exporter": "python",
   "pygments_lexer": "ipython3",
   "version": "3.10.5"
  },
  "vscode": {
   "interpreter": {
    "hash": "aee8b7b246df8f9039afb4144a1f6fd8d2ca17a180786b69acc140d282b71a49"
   }
  }
 },
 "nbformat": 4,
 "nbformat_minor": 4
}
