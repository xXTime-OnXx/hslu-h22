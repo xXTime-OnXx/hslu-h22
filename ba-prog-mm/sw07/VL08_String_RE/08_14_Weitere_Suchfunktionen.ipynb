{
 "cells": [
  {
   "cell_type": "markdown",
   "metadata": {},
   "source": [
    "# 8.14 Weitere Suchfunktionen; Zugriff auf Treffer"
   ]
  },
  {
   "cell_type": "markdown",
   "metadata": {},
   "source": [
    "## Funktion `search` - Finden der ersten Übereinstimmung irgendwo in einer Zeichenfolge\n",
    "**`re.search(pattern, string, flags=0) --> re.Match obj | None`**\n",
    "* **`search`** sucht in einer Zeichenkette nach dem **ersten** Vorkommen einer Teilzeichenkette, die mit einem regulären Ausdruck übereinstimmt, und gibt ein **Match-Objekt** zurück, falls die übereinstimmende Teilzeichenkette enthalten ist, andernfalls **None**.\n",
    "* Die **`group`**-Methode des Match-Objekts gibt die Teilzeichenkette zurück."
   ]
  },
  {
   "cell_type": "code",
   "execution_count": null,
   "metadata": {
    "tags": []
   },
   "outputs": [],
   "source": [
    "import re"
   ]
  },
  {
   "cell_type": "code",
   "execution_count": null,
   "metadata": {},
   "outputs": [],
   "source": [
    "result = re.search('Python', 'Python is fun')"
   ]
  },
  {
   "cell_type": "code",
   "execution_count": null,
   "metadata": {},
   "outputs": [],
   "source": [
    "result.group() if result else 'not found'"
   ]
  },
  {
   "cell_type": "markdown",
   "metadata": {},
   "source": [
    "<br>\n",
    "\n",
    "`search` gibt `None` zurück, wenn die Zeichenkette das Muster _nicht_ enthält."
   ]
  },
  {
   "cell_type": "code",
   "execution_count": null,
   "metadata": {},
   "outputs": [],
   "source": [
    "result2 = re.search('fun!', 'Python is fun')"
   ]
  },
  {
   "cell_type": "code",
   "execution_count": null,
   "metadata": {},
   "outputs": [],
   "source": [
    "result2.group() if result2 else 'not found'"
   ]
  },
  {
   "cell_type": "markdown",
   "metadata": {
    "tags": []
   },
   "source": [
    "### Ignorieren der Gross-/Kleinschreibung mit dem optionalen `flags`-Schlüsselwortargument\n",
    "**`re.search(pattern, string, flags=0) --> re.Match obj | None`**\n",
    "* Viele `re` Modulfunktionen erhalten ein optionales `flags`-Schlüsselwortargument.\n",
    "* Mit `flags` kann spezifiziert werden, wie reguläre Ausdrücke abgeglichen werden sollen."
   ]
  },
  {
   "cell_type": "code",
   "execution_count": null,
   "metadata": {},
   "outputs": [],
   "source": [
    "result3 = re.search('Sam', 'SAM WHITE', flags=re.IGNORECASE)"
   ]
  },
  {
   "cell_type": "code",
   "execution_count": null,
   "metadata": {},
   "outputs": [],
   "source": [
    "result3.group() if result3 else 'not found'"
   ]
  },
  {
   "cell_type": "markdown",
   "metadata": {},
   "source": [
    "`flags=re.I` ist die Kurzschreibweise für `flags=re.IGNORECASE`"
   ]
  },
  {
   "cell_type": "code",
   "execution_count": null,
   "metadata": {},
   "outputs": [],
   "source": [
    "result4 = re.search('Anna', 'ANNAN WHITE', flags=re.I)\n",
    "result4.group()"
   ]
  },
  {
   "cell_type": "markdown",
   "metadata": {},
   "source": [
    "### Metazeichen, die Übereinstimmungen auf den Anfang oder das Ende einer Zeichenfolge beschränken\n",
    "**`^` Metazeichen** am Anfang eines regulären Ausdrucks (und nicht innerhalb eckiger Klammern) ist ein **Anker**. Das bewirkt, dass der reguläre Ausdruck nur mit dem _Anfang_ einer Zeichenkette verglichen wird. "
   ]
  },
  {
   "cell_type": "code",
   "execution_count": null,
   "metadata": {},
   "outputs": [],
   "source": [
    "result = re.search('^Python', 'Python is fun')"
   ]
  },
  {
   "cell_type": "code",
   "execution_count": null,
   "metadata": {},
   "outputs": [],
   "source": [
    "result.group() if result else 'not found'"
   ]
  },
  {
   "cell_type": "code",
   "execution_count": null,
   "metadata": {},
   "outputs": [],
   "source": [
    "result = re.search('^fun', 'Python is fun')"
   ]
  },
  {
   "cell_type": "code",
   "execution_count": null,
   "metadata": {},
   "outputs": [],
   "source": [
    "result.group() if result else 'not found'"
   ]
  },
  {
   "cell_type": "markdown",
   "metadata": {},
   "source": [
    "<br>\n",
    "\n",
    "Das **`$` Metazeichen** am Ende eines regulären Ausdrucks ist ein **Anker**, der anzeigt, dass der reguläre Ausdruck nur mit dem _Ende_ einer Zeichenkette verglichen wird."
   ]
  },
  {
   "cell_type": "code",
   "execution_count": null,
   "metadata": {},
   "outputs": [],
   "source": [
    "result = re.search('Python$', 'Python is fun')"
   ]
  },
  {
   "cell_type": "code",
   "execution_count": null,
   "metadata": {},
   "outputs": [],
   "source": [
    "result.group() if result else 'not found'"
   ]
  },
  {
   "cell_type": "code",
   "execution_count": null,
   "metadata": {},
   "outputs": [],
   "source": [
    "result = re.search('fun$', 'Python is fun')"
   ]
  },
  {
   "cell_type": "code",
   "execution_count": null,
   "metadata": {},
   "outputs": [],
   "source": [
    "result.group() if result else 'not found'"
   ]
  },
  {
   "cell_type": "markdown",
   "metadata": {},
   "source": [
    "## Funktion `findall` und `finditer` - Alle Übereinstimmungen in einer Zeichenfolge finden\n",
    "**`findall(pattern, string, flags=0) --> list`**\n",
    "* **`findall`** findet **jede** passende Teilzeichenkette in einer Zeichenkette;\n",
    "* Gibt eine Liste der übereinstimmenden Teilzeichenketten zurück."
   ]
  },
  {
   "cell_type": "code",
   "execution_count": null,
   "metadata": {},
   "outputs": [],
   "source": [
    "contact = 'Wally White, Home: 555-555-1234, Work: 555-555-4321'"
   ]
  },
  {
   "cell_type": "code",
   "execution_count": null,
   "metadata": {},
   "outputs": [],
   "source": [
    "re.findall(r'\\d{3}-\\d{3}-\\d{4}', contact)"
   ]
  },
  {
   "cell_type": "markdown",
   "metadata": {},
   "source": [
    "<br>\n",
    "\n",
    "**`finditer(pattern, string, flags=0) --> iterator`**\n",
    "* **`finditer`** funktioniert wie `findall`, gibt aber ein **Iterator** von Match-Objekten zurück"
   ]
  },
  {
   "cell_type": "code",
   "execution_count": null,
   "metadata": {},
   "outputs": [],
   "source": [
    "iterator = re.finditer(r'\\d{3}-\\d{3}-\\d{4}', contact)"
   ]
  },
  {
   "cell_type": "code",
   "execution_count": null,
   "metadata": {},
   "outputs": [],
   "source": [
    "iterator"
   ]
  },
  {
   "cell_type": "code",
   "execution_count": null,
   "metadata": {},
   "outputs": [],
   "source": [
    "for phone in iterator:\n",
    "    print(phone.group())"
   ]
  },
  {
   "cell_type": "markdown",
   "metadata": {},
   "source": [
    "## Erfassen von Substrings in einer Übereinstimmung\n",
    "Verwenden Sie **Klammer-Metazeichen**`(` und`)`, um Teilzeichenketten in einer Übereinstimmung zu erfassen."
   ]
  },
  {
   "cell_type": "code",
   "execution_count": null,
   "metadata": {},
   "outputs": [],
   "source": [
    "text = 'Charlie Peterson, e-mail: charlie@peterson.com'"
   ]
  },
  {
   "cell_type": "code",
   "execution_count": null,
   "metadata": {},
   "outputs": [],
   "source": [
    "pattern = r'([A-Z][a-z]+ [A-Z][a-z]+), e-mail: (\\w+@\\w+\\.\\w{2,3})'"
   ]
  },
  {
   "cell_type": "code",
   "execution_count": null,
   "metadata": {},
   "outputs": [],
   "source": [
    "result = re.search(pattern, text)\n",
    "print(result)"
   ]
  },
  {
   "cell_type": "markdown",
   "metadata": {},
   "source": [
    "* Der reguläre Ausdruck gibt zwei zu erfassende Teilzeichenketten an, die jeweils durch die Metazeichen `(` und `)` gekennzeichnet sind.\n",
    "* `(` und `)` haben _keinen_ Einfluss darauf, ob das `Muster` in der Zeichenkette `text` gefunden wird.\n",
    "* Die Funktion `Match` gibt ein Match-Objekt _nur_ dann zurück, wenn das _ganze_ `Muster` in der Zeichenkette `text` gefunden wird.\n",
    "Die Methode  **`groups`** des Match-Objekts gibt ein **Tupel** der erfassten Teilzeichenketten zurück."
   ]
  },
  {
   "cell_type": "code",
   "execution_count": null,
   "metadata": {},
   "outputs": [],
   "source": [
    "result.groups()"
   ]
  },
  {
   "cell_type": "markdown",
   "metadata": {},
   "source": [
    "* Die **\"group\"**-Methode des `match\"-Objekts gibt die _gesamte_ Übereinstimmung als eine einzige Zeichenkette zurück"
   ]
  },
  {
   "cell_type": "code",
   "execution_count": null,
   "metadata": {},
   "outputs": [],
   "source": [
    "result.group()"
   ]
  },
  {
   "cell_type": "markdown",
   "metadata": {},
   "source": [
    "* Greifen Sie auf jede erfasste Teilzeichenkette zu, indem Sie eine ganze Zahl an die `Gruppe`-Methode übergeben"
   ]
  },
  {
   "cell_type": "code",
   "execution_count": null,
   "metadata": {},
   "outputs": [],
   "source": [
    "result.group(1)"
   ]
  },
  {
   "cell_type": "code",
   "execution_count": null,
   "metadata": {},
   "outputs": [],
   "source": [
    "result.group(2) "
   ]
  }
 ],
 "metadata": {
  "kernelspec": {
   "display_name": "Python 3.10.5 64-bit",
   "language": "python",
   "name": "python3"
  },
  "language_info": {
   "codemirror_mode": {
    "name": "ipython",
    "version": 3
   },
   "file_extension": ".py",
   "mimetype": "text/x-python",
   "name": "python",
   "nbconvert_exporter": "python",
   "pygments_lexer": "ipython3",
   "version": "3.10.5"
  },
  "vscode": {
   "interpreter": {
    "hash": "aee8b7b246df8f9039afb4144a1f6fd8d2ca17a180786b69acc140d282b71a49"
   }
  }
 },
 "nbformat": 4,
 "nbformat_minor": 4
}
