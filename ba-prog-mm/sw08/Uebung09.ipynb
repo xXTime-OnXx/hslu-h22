{
 "cells": [
  {
   "cell_type": "markdown",
   "metadata": {},
   "source": [
    "# Übung 9"
   ]
  },
  {
   "cell_type": "markdown",
   "metadata": {},
   "source": [
    "## Aufgabe 1\n",
    "Modifizieren Sie die Klasse `Accounts` im Modul `account` wie folgt:\n",
    "* Benennen Sie die Attribute so um, dass sie mit einem Underscore (\\_) beginnen, um gemäss Python-Konvention anzudeuten, dass diese Attribute nur intern benutzt werden sollen.\n",
    "* Fügen Sie read-only Properties hinzu um die Werte in den Attributen zu lesen.\n",
    "* Fügen Sie eine Methode `withdraw` hinzu, um Geld vom Konto abzuheben. Stellen Sie dabei sicher, dass das Konto nicht überzogen werden kann. Überprüfen Sie auch, dass das der Bezugsbetrag positiv ist.\n",
    "\n",
    "Testen Sie anschliessend Ihre aktualisierte Klasse.\n",
    "\n",
    "Sind die umbenannten Attribute nun schreibgeschützt? Versuchen Sie ihnen Werte direkt zuzuweisen."
   ]
  },
  {
   "cell_type": "code",
   "execution_count": null,
   "metadata": {},
   "outputs": [],
   "source": [
    "from account import Account, Decimal"
   ]
  },
  {
   "cell_type": "code",
   "execution_count": null,
   "metadata": {},
   "outputs": [],
   "source": []
  },
  {
   "cell_type": "markdown",
   "metadata": {},
   "source": [
    "## Aufgabe 2\n",
    "Fügen Sie der Klasse `Time` im Modul `timewithproperties` ein read-only Property `universal_str` hinzu, das eine String-Repräsentation von `Time` im 24h-Format mit jeweils zwei Ziffern für Stunden, Minuten und Sekunden zurückgibt. Zum Beispiel gibt die Methode `universal_str` einen String '06:30:00' zurück.\n",
    "Testen Sie Ihre aktualisierte Klasse."
   ]
  },
  {
   "cell_type": "code",
   "execution_count": null,
   "metadata": {},
   "outputs": [],
   "source": [
    "from timewithproperties import Time"
   ]
  },
  {
   "cell_type": "code",
   "execution_count": null,
   "metadata": {},
   "outputs": [],
   "source": []
  },
  {
   "cell_type": "markdown",
   "metadata": {},
   "source": [
    "## Aufgabe 3\n",
    "\n",
    "Modifizieren Sie die interne Repräsentation der Klasse `Time` im Modul `timewithproperties2.py` so, dass die Zeit intern als Sekunden seit Mitternacht in einer Variable `_total_seconds` gespeichert wird. Ersetzten Sie daher die bestehenden Attribute `_hour`, `_minute` und `_second` durch `_total_seconds`. Passen Sie anschliessend die bestehenden Properties und Methoden an, damit die Zeit nach wie vor wie bisher gesetzt, oder ausgegeben werden kann.\n",
    "\n",
    "Führen Sie die folgenden Statements einmal mit der ursprünglichen `Time` Klasse und einmal mit der aktualisierten `Time` Klasse aus, um zu ziegen, dass die beiden Klassen austauschbar sind."
   ]
  },
  {
   "cell_type": "markdown",
   "metadata": {},
   "source": [
    "##### Statements ausgeführt auf der ursprünglichen `Time` Klasse "
   ]
  },
  {
   "cell_type": "code",
   "execution_count": null,
   "metadata": {},
   "outputs": [],
   "source": [
    "from timewithproperties import Time"
   ]
  },
  {
   "cell_type": "code",
   "execution_count": null,
   "metadata": {},
   "outputs": [],
   "source": [
    "wake_up = Time(hour=14, minute=3, second=11)"
   ]
  },
  {
   "cell_type": "code",
   "execution_count": null,
   "metadata": {},
   "outputs": [],
   "source": [
    "wake_up"
   ]
  },
  {
   "cell_type": "code",
   "execution_count": null,
   "metadata": {},
   "outputs": [],
   "source": [
    "print(wake_up)"
   ]
  },
  {
   "cell_type": "code",
   "execution_count": null,
   "metadata": {},
   "outputs": [],
   "source": [
    "print(wake_up.universal_str)  # Bedingung: Aufgabe 2 ist schon gelöst"
   ]
  },
  {
   "cell_type": "markdown",
   "metadata": {},
   "source": [
    "##### Statements ausgeführt auf der aktualisierten `Time` Klasse"
   ]
  },
  {
   "cell_type": "code",
   "execution_count": null,
   "metadata": {},
   "outputs": [],
   "source": [
    "from timewithproperties2 import Time"
   ]
  },
  {
   "cell_type": "code",
   "execution_count": null,
   "metadata": {},
   "outputs": [],
   "source": [
    "wake_up2 = Time(hour=14, minute=3, second=11)"
   ]
  },
  {
   "cell_type": "code",
   "execution_count": null,
   "metadata": {},
   "outputs": [],
   "source": [
    "wake_up2"
   ]
  },
  {
   "cell_type": "code",
   "execution_count": null,
   "metadata": {},
   "outputs": [],
   "source": [
    "print(wake_up2)"
   ]
  },
  {
   "cell_type": "code",
   "execution_count": null,
   "metadata": {},
   "outputs": [],
   "source": [
    "print(wake_up2.universal_str)"
   ]
  },
  {
   "cell_type": "markdown",
   "metadata": {},
   "source": [
    "## Aufgabe 4\n",
    "Ein Kreis hat einen Punkt in seiner Mitte. \n",
    "\n",
    "Erstellen Sie eine Klasse `Point`, die ein (x, y)-Koordinatenpaar darstellt. Implementieren Sie die Methode `move`, welche x- und y- Koordinatenwerte empfängt und die neue Position des Punktes festlegt. Implementiere Sie auch die Methode `__repr__`.\n",
    "\n",
    "\n",
    "Erstellen Sie dann eine Klasse `Circle`, deren Attribute `_point` (ein Punkt, der den Mittelpunkt des Kreises darstellt) und `_radius` sind. Der Mittelpunkt kann gelesen werden, der Radius kann gelesen und geschrieben werden und muss positiv (d.h, > 0) sein.\n",
    "\n",
    "\n",
    "Implementieren Sie die Methode `move`, die x- und y-Koordinatenwerte empfängt und eine neue Position für den Kreis festlegt, indem sie die `move` Methode ihres `Point`-Objekts aufruft. \n",
    "Implementieren Sie zudem auch die `__repr__` Methode.\n",
    "\n",
    "\n",
    "Testen Sie Ihre `Circle`-Klasse, indem Sie ein `Circle`-Objekt erstellen, seine Repräsentation (durch impliziten Aufruf der `__repr__` Methode) anzeigen, anschliessend den Kreis verschieben und seine Repräsentation erneut anzeigen."
   ]
  },
  {
   "cell_type": "code",
   "execution_count": null,
   "metadata": {},
   "outputs": [],
   "source": []
  },
  {
   "cell_type": "markdown",
   "metadata": {},
   "source": [
    "## Aufgabe 5\n",
    "Implementieren Sie folgende digitale Uhr:\n",
    "\n",
    "![ClockDisplay](images/ClockDisplay.png)\n",
    "\n",
    "* `ClockDisplay` kann aus zwei `NumberDisplay` zusammengesetzt werden.\n",
    "* Das nennt man **Komposition**\n",
    "\n",
    "\n",
    "![NumberDisplay](images/NumberDisplay.png)\n",
    "\n",
    "* Die beiden 2-stelligen Anzeigen (`NumberDisplay`) haben ähnliches Verhalten:\n",
    "    * eine Instanz zeigt 00 - 23\n",
    "    * die andere Instanz zeigt 00 - 59\n",
    "    * beide inkrementieren um 1\n",
    "    * beide beginnen wieder bei 00, wenn die Obergrenze erreicht ist\n",
    "\n",
    "\n",
    "Stellen Sie sicher, dass die Klasse `ClockDisplay` eine `time_tick` Methode enthält, welche \n",
    "beim Aufruf die Zeit um eine Minute vorstellt."
   ]
  }
 ],
 "metadata": {
  "kernelspec": {
   "display_name": "Python 3.10.8 ('venv': venv)",
   "language": "python",
   "name": "python3"
  },
  "language_info": {
   "codemirror_mode": {
    "name": "ipython",
    "version": 3
   },
   "file_extension": ".py",
   "mimetype": "text/x-python",
   "name": "python",
   "nbconvert_exporter": "python",
   "pygments_lexer": "ipython3",
   "version": "3.10.8"
  },
  "vscode": {
   "interpreter": {
    "hash": "d80cc920d25c1d92593b6aac86af4433dd7b5970d464c24070744c11223ad8fd"
   }
  }
 },
 "nbformat": 4,
 "nbformat_minor": 4
}
