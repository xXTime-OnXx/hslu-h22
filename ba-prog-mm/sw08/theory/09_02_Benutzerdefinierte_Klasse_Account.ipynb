{
 "cells": [
  {
   "cell_type": "markdown",
   "id": "f3e72660-1755-4aa6-8c81-f7b7d8c2eab7",
   "metadata": {},
   "source": [
    "# 9.2 Benutzerdefinierte Klasse `Account`"
   ]
  },
  {
   "cell_type": "markdown",
   "id": "415525b6-2940-44e6-a4af-738ce0d35294",
   "metadata": {},
   "source": [
    "* Die Klasse `Account` hat einen Besitzer und einen Kontostand.\n",
    "* Es kann Geld auf das Konto einbezahlt werden. Der Betrag muss positiv sein."
   ]
  },
  {
   "cell_type": "markdown",
   "id": "25dd48a2-55b2-444c-a7df-b3d8012798a6",
   "metadata": {
    "tags": []
   },
   "source": [
    "## Klassendefinition\n",
    "* Eine Klassendefinition beginnt mt dem Schlüsselwort **`class`** gefolgt vom Namen der Klasse und einem Doppelpunkt (:). Das wird **class header** genannt.\n",
    "* Der **Python Style Guide** empfiehlt, dass Klassennamen in **\"PascalCase\"** gschrieben werden, d.h. ein Klassennamen beginnt mit einem Grossbuchstaben und falls sich der Name aus mehreren Wörtern zusammensetzt, beginnt jedes Wort mit einem Grossbuchstaben. Zum Beispiel:\n",
    "    * CardDeck\n",
    "    * ComissionEmployee\n",
    "* Jedes Statement in einer class-Suite ist eingerückt\n",
    "* Jede Klasse ist typischerweise mit einem **Docstring** beschrieben. Der Docstring folgt unmittelbar auf den _class header_."
   ]
  },
  {
   "cell_type": "code",
   "execution_count": null,
   "id": "6531723b-f4eb-4c2d-9a3c-3e2de707f27b",
   "metadata": {},
   "outputs": [],
   "source": [
    "class Account:\n",
    "    \"\"\"Account class for maintaining a bank account balance.\"\"\"\n",
    "    pass"
   ]
  },
  {
   "cell_type": "markdown",
   "id": "f9d18742-58eb-48e7-8a6f-868cfffc256c",
   "metadata": {
    "tags": []
   },
   "source": [
    "Um den Klassen-Docstring in iPython zu sehen, können Sie folgendes Statement aufrufen:"
   ]
  },
  {
   "cell_type": "code",
   "execution_count": null,
   "id": "d2ea4a41-4e22-44ad-8771-c806ff7101ee",
   "metadata": {},
   "outputs": [],
   "source": [
    "Account?"
   ]
  },
  {
   "cell_type": "markdown",
   "id": "7579c78d-3748-40de-85d0-e8a45f7f4dc8",
   "metadata": {},
   "source": [
    "Der Datentyp einer Klasse ist `type`"
   ]
  },
  {
   "cell_type": "code",
   "execution_count": null,
   "id": "568005fe-5fa8-4d6c-b46f-a4fd772f37f7",
   "metadata": {},
   "outputs": [],
   "source": [
    "type(Account)"
   ]
  },
  {
   "cell_type": "markdown",
   "id": "9ef4f3ab-aff9-465e-bbfc-7ae3d0eb5742",
   "metadata": {},
   "source": [
    "## Die Spezialmethode `__init__`\n",
    "Die Methode **`__init__`** wird automatisch aufgerufen, wenn ein neues Objekt erzeugt wird. Sie deklariert und initialisiert die Attribute des Objekts (d.h. einer Instanz)."
   ]
  },
  {
   "cell_type": "code",
   "execution_count": null,
   "id": "5cd55fad-3ebd-4691-8663-b2f75eeb0d5c",
   "metadata": {},
   "outputs": [],
   "source": [
    "class Account:\n",
    "    \"\"\"Account class for maintaining a bank account balance.\"\"\"\n",
    "    \n",
    "    def __init__(self, name, balance=0.0):\n",
    "        \"\"\"Initialize an Account object.\"\"\"\n",
    "        \n",
    "        # if balance is less than 0.0, raise an exeption\n",
    "        if balance < 0.0:\n",
    "            raise ValueError('Initial balance must be >= to 0.00')\n",
    "        \n",
    "        self.name = name\n",
    "        self.balance = balance\n"
   ]
  },
  {
   "cell_type": "markdown",
   "id": "01083b8e-43a1-429d-9d8b-9a24e288a8c3",
   "metadata": {},
   "source": [
    "* Wenn Sie eine Methode für ein bestimmtes Objekt aufrufen, übergibt Python implizit als erstes Argument eine Referenz auf dieses Objekt. Daher müssen alle Methoden als erstes Argument `self` enthalten.\n",
    "* Die `__init__` Methode von `Account` erwartet zudem ein Argument für die Initialisierung vom Namen des Besitzers und ein optionales Argument, um das Saldo zu initialisieren.\n",
    "* Wenn ein Objekt erstellt wird, hat es noch keine **Attribute**. Sie werden **dynamisch** über eine Zuweisung der folgenden Form hinzugefügt: \n",
    "\n",
    "    ```python \n",
    "        self.attribute_name = value\n",
    "        \n",
    "    ``` \n",
    "    \n",
    "    \n",
    "* `self.name` und `self.balance` sind also die **Attribute** der Klasse `Account`. `name` und `balance` sind keine Attribute, sondern **Parameter**, bzw. **lokale Variablen**.\n",
    "\n",
    "\n",
    "* **`__init__`** muss immer **`None`** zurückgeben, sonst wird ein **`TypeError`** ausgelöst.\n",
    "\n",
    "\n",
    "\n",
    "\n",
    "\n",
    "\n",
    "* Python Klassen können viele Spezialmethoden, wie z.B. `__init__`, `__str__`, etc. definieren. Spezialmethoden beginnen immer mit zwei Underscores (\\__) im Methodennamen und werden **\"Dunders\"** (Dobule Underscores) genannt. Hier finden Sie eine Übersicht über die [Spezialmethoden](https://docs.python.org/3/reference/datamodel.html#special-method-names)."
   ]
  },
  {
   "cell_type": "markdown",
   "id": "cb61fab4-d09c-46b7-be5a-2e0a15e5f91c",
   "metadata": {},
   "source": [
    "## Erstellen von Account-Instanzen (Objekten) mittels \"constructor expression\"\n"
   ]
  },
  {
   "cell_type": "code",
   "execution_count": null,
   "id": "7f451d2b-dcdf-4221-aadd-570b612c4151",
   "metadata": {},
   "outputs": [],
   "source": [
    "account1 = Account('Hans Muster')\n",
    "account2 = Account('Petra Maier', 1000.00)"
   ]
  },
  {
   "cell_type": "markdown",
   "id": "e697551c-1bfb-4cd5-998b-ee324625d79e",
   "metadata": {},
   "source": [
    "## Lesen von Werten (Daten)"
   ]
  },
  {
   "cell_type": "code",
   "execution_count": null,
   "id": "8ae801e9-4e26-47cd-9a7e-c159cf998ef2",
   "metadata": {},
   "outputs": [],
   "source": [
    "account1.name"
   ]
  },
  {
   "cell_type": "code",
   "execution_count": null,
   "id": "ba2aac9d-240a-442c-b0a2-491b3f7eb616",
   "metadata": {},
   "outputs": [],
   "source": [
    "account1.balance"
   ]
  },
  {
   "cell_type": "code",
   "execution_count": null,
   "id": "a82fb72c-ae9f-4507-947c-d6a3d487fd0b",
   "metadata": {},
   "outputs": [],
   "source": [
    "account2.name"
   ]
  },
  {
   "cell_type": "code",
   "execution_count": null,
   "id": "b4018faf-edc3-4dc8-a1e5-3d51676a0d20",
   "metadata": {},
   "outputs": [],
   "source": [
    "account2.balance"
   ]
  },
  {
   "cell_type": "code",
   "execution_count": null,
   "id": "cb4dc014-b872-41d0-b682-eb9b25cbde4a",
   "metadata": {},
   "outputs": [],
   "source": [
    "vars(account1)"
   ]
  },
  {
   "cell_type": "code",
   "execution_count": null,
   "id": "23c961ef-bbe6-4811-9fbd-899806026f8a",
   "metadata": {},
   "outputs": [],
   "source": [
    "vars(account2)"
   ]
  },
  {
   "cell_type": "markdown",
   "id": "4496f26a-bf42-4279-8388-2f1ccb6f36f8",
   "metadata": {},
   "source": [
    "## Schreiben von Werten (Daten)"
   ]
  },
  {
   "cell_type": "code",
   "execution_count": null,
   "id": "6da1cd4a-f9d9-4fe6-a95e-4a2eb63f09f8",
   "metadata": {},
   "outputs": [],
   "source": [
    "account2.name = 'Petra Meier'  # Korrektur des Nachnamen von 'Maier' zu 'Meier'"
   ]
  },
  {
   "cell_type": "code",
   "execution_count": null,
   "id": "eb78cfa3-fe48-482a-b365-994bfa932077",
   "metadata": {},
   "outputs": [],
   "source": [
    "account2.name"
   ]
  },
  {
   "cell_type": "code",
   "execution_count": null,
   "id": "3259afea-40fc-4e54-8685-6a299397fe1f",
   "metadata": {},
   "outputs": [],
   "source": [
    "account1.balance = 250.0"
   ]
  },
  {
   "cell_type": "code",
   "execution_count": null,
   "id": "60218d17-7796-47b0-905f-ac044dfc1c07",
   "metadata": {},
   "outputs": [],
   "source": [
    "account1.balance"
   ]
  },
  {
   "cell_type": "markdown",
   "id": "798d2fae-c170-4914-b927-4001adf8f085",
   "metadata": {},
   "source": [
    "## Methoden\n",
    "Methoden sind fast wie reguläre Funktionen. Der einzige Unterschied ist:\n",
    "1. Methoden funktionieren nur auf einem Objekt\n",
    "2. Der erste Parameter in jeder Methodendefinition is `self`\n",
    "\n",
    "<br>&nbsp;\n",
    "Wir wollen zwei Methoden implementieren:\n",
    "1. Methode `Deposit`, die einen positiven Betrag zum Konto hinzufügt. Der Aufruf der Methode mit einem negativen Betrag führt zu einem `ValueError`.\n",
    "2. Ausgabe des Kontoinhabers in der Form: _'Nachnahme, Vorname'_\n"
   ]
  },
  {
   "cell_type": "code",
   "execution_count": null,
   "id": "df057e39-5d98-464c-b7a1-5f3aa48ac751",
   "metadata": {},
   "outputs": [],
   "source": [
    "class Account:\n",
    "    \"\"\"Account class for maintaining a bank account balance.\"\"\"\n",
    "    \n",
    "    def __init__(self, name, balance=0.0):\n",
    "        \"\"\"Initialize an Account object.\"\"\"\n",
    "        \n",
    "        # if balance is less than 0.0, raise an exeption\n",
    "        if balance < 0.0:\n",
    "            raise ValueError('Initial balance must be >= to 0.00')\n",
    "        \n",
    "        self.name = name\n",
    "        self.balance = balance\n",
    "        \n",
    "    \n",
    "    def deposit(self, amount):\n",
    "        \"\"\"Deposit money to the account.\"\"\"\n",
    "        if amount < 0.0:\n",
    "            raise ValueError(f\"It's not possible to deposit. Amount must be positive, \"\n",
    "                             f\"but was {amount}.\")\n",
    "        \n",
    "        self.balance += amount\n",
    "        \n",
    "    \n",
    "    def account_holder(self):\n",
    "        \"\"\"Return account holder name in the form: 'family name, first name'\"\"\" \n",
    "        return ', '.join(reversed(self.name.split()))"
   ]
  },
  {
   "cell_type": "code",
   "execution_count": null,
   "id": "24e599ff-8bdd-428c-b37b-cdef5c259f34",
   "metadata": {},
   "outputs": [],
   "source": [
    "account1 = Account('Hans Muster')\n",
    "account2 = Account('Petra Maier', 1000.00)"
   ]
  },
  {
   "cell_type": "code",
   "execution_count": null,
   "id": "6263a2d6-4f53-40b3-beaa-5c225564b3d4",
   "metadata": {},
   "outputs": [],
   "source": [
    "vars(account1)"
   ]
  },
  {
   "cell_type": "code",
   "execution_count": null,
   "id": "32b94b4c-61a5-438e-91a6-c77bf27dd34b",
   "metadata": {},
   "outputs": [],
   "source": [
    "account1.deposit(10.00)"
   ]
  },
  {
   "cell_type": "code",
   "execution_count": null,
   "id": "fa79e388-7512-4d0a-a26a-f9a5efa47044",
   "metadata": {},
   "outputs": [],
   "source": [
    "account1.deposit(-99.00)"
   ]
  },
  {
   "cell_type": "code",
   "execution_count": null,
   "id": "a6531c0d-8038-432f-9d2f-469e7b4bc14e",
   "metadata": {},
   "outputs": [],
   "source": [
    "account1.account_holder()"
   ]
  },
  {
   "cell_type": "markdown",
   "id": "0590f7a8-9234-4806-aaf1-db4488afc548",
   "metadata": {
    "tags": []
   },
   "source": [
    "## Die Spezialmethode `__str__`\n"
   ]
  },
  {
   "cell_type": "code",
   "execution_count": null,
   "id": "263e0b41-8f60-414e-a9f0-dc62f46653d7",
   "metadata": {},
   "outputs": [],
   "source": [
    "vars(account1)"
   ]
  },
  {
   "cell_type": "code",
   "execution_count": null,
   "id": "f25f9c50-b603-4d08-8730-5540e217ce32",
   "metadata": {},
   "outputs": [],
   "source": [
    "print(account1)"
   ]
  },
  {
   "cell_type": "markdown",
   "id": "0f13ad90-f578-4fb7-9065-864f99980a56",
   "metadata": {},
   "source": [
    "Wir können einen aussagekräftige Ausgabe erzeugen, indem wir die Spezialmethode `__str__` implementieren."
   ]
  },
  {
   "cell_type": "code",
   "execution_count": null,
   "id": "487712c0-a409-4be8-9ea5-1b0d175cce0d",
   "metadata": {},
   "outputs": [],
   "source": [
    "class Account:\n",
    "    \"\"\"Account class for maintaining a bank account balance.\"\"\"\n",
    "    \n",
    "    def __init__(self, name, balance=0.0):\n",
    "        \"\"\"Initialize an Account object.\"\"\"\n",
    "        \n",
    "        # if balance is less than 0.0, raise an exeption\n",
    "        if balance < 0.0:\n",
    "            raise ValueError('Initial balance must be >= to 0.00')\n",
    "        \n",
    "        self.name = name\n",
    "        self.balance = balance\n",
    "        \n",
    "    \n",
    "    def deposit(self, amount):\n",
    "        \"\"\"Deposit money to the account.\"\"\"\n",
    "        if amount < 0.0:\n",
    "            raise ValueError(f\"It's not possible to deposit. Amount must be positive, \"\n",
    "                             f\"but was {amount}.\")\n",
    "        \n",
    "        self.balance += amount\n",
    "        \n",
    "    \n",
    "    def account_holder(self):\n",
    "        \"\"\"Return account holder name in the form: 'family name, first name'\"\"\" \n",
    "        return ', '.join(reversed(self.name.split()))\n",
    "    \n",
    "    \n",
    "    def __str__(self):\n",
    "        \"\"\"Return a string representing the Account instance.\"\"\"\n",
    "        return f\"Account of {self.name}. Balance is {self.balance:.2f}.\""
   ]
  },
  {
   "cell_type": "code",
   "execution_count": null,
   "id": "6bea6d29-0857-4b8e-a3f9-12ff2f311009",
   "metadata": {},
   "outputs": [],
   "source": [
    "account1 = Account('Hans Muster')\n",
    "account2 = Account('Petra Meier', 1000.00)"
   ]
  },
  {
   "cell_type": "code",
   "execution_count": null,
   "id": "8b070d75-a99e-4577-915b-d1f2f580e535",
   "metadata": {},
   "outputs": [],
   "source": [
    "print(account1)"
   ]
  },
  {
   "cell_type": "code",
   "execution_count": null,
   "id": "01d53457-ed43-4869-bf7b-5f7d873fa659",
   "metadata": {},
   "outputs": [],
   "source": [
    "print(account2)"
   ]
  },
  {
   "cell_type": "markdown",
   "id": "99335fb3-46d9-4dcd-8704-2394eb675489",
   "metadata": {},
   "source": [
    "## Die Spezialmethode `__repr__`"
   ]
  },
  {
   "cell_type": "code",
   "execution_count": null,
   "id": "73d86df5-a210-4bcc-ab21-2859a2bb325f",
   "metadata": {},
   "outputs": [],
   "source": [
    "account1"
   ]
  },
  {
   "cell_type": "markdown",
   "id": "7de0d5a4-e738-49b8-a94e-9eeb42e85e9a",
   "metadata": {},
   "source": [
    "Die Spezialmethode `__repr__` kann eine aussgekräftige Ausgabe für Entwickler erzeugen. Diese entspricht typischerweise der \"constructor expression\"."
   ]
  },
  {
   "cell_type": "code",
   "execution_count": null,
   "id": "ab9ec472-9a69-4dfd-ae73-0caa0af84a43",
   "metadata": {},
   "outputs": [],
   "source": [
    "class Account:\n",
    "    \"\"\"Account class for maintaining a bank account balance.\"\"\"\n",
    "    \n",
    "    def __init__(self, name, balance=0.0):\n",
    "        \"\"\"Initialize an Account object.\"\"\"\n",
    "        \n",
    "        # if balance is less than 0.0, raise an exeption\n",
    "        if balance < 0.0:\n",
    "            raise ValueError('Initial balance must be >= to 0.00')\n",
    "        \n",
    "        self.name = name\n",
    "        self.balance = balance\n",
    "        \n",
    "    \n",
    "    def deposit(self, amount):\n",
    "        \"\"\"Deposit money to the account.\"\"\"\n",
    "        if amount < 0.0:\n",
    "            raise ValueError(f\"It's not possible to deposit. Amount must be positive, \"\n",
    "                             f\"but was {amount}.\")\n",
    "        \n",
    "        self.balance += amount\n",
    "        \n",
    "    \n",
    "    def account_holder(self):\n",
    "        \"\"\"Return account holder name in the form: 'family name, first name'\"\"\" \n",
    "        return ', '.join(reversed(self.name.split()))\n",
    "    \n",
    "    \n",
    "    def __str__(self):\n",
    "        \"\"\"Return a string representing the Account instance.\"\"\"\n",
    "        return f\"Account of {self.name}. Balance is {self.balance:.2f}.\"\n",
    "    \n",
    "    \n",
    "    def __repr__(self):\n",
    "        \"\"\"Return constructor expression for the actual Account instance.\"\"\"\n",
    "        return f\"Account(name='{self.name}', balance={self.balance:.2f})\"\n",
    "    "
   ]
  },
  {
   "cell_type": "code",
   "execution_count": null,
   "id": "40ef5675-9619-495d-acfa-d21a02206973",
   "metadata": {},
   "outputs": [],
   "source": [
    "account1 = Account('Hans Muster')\n",
    "account2 = Account('Petra Meier', 1000.00)"
   ]
  },
  {
   "cell_type": "code",
   "execution_count": null,
   "id": "9f67db17-88fe-4b0e-8169-625f35f2071d",
   "metadata": {},
   "outputs": [],
   "source": [
    "print(account1)"
   ]
  },
  {
   "cell_type": "code",
   "execution_count": null,
   "id": "5de0fd75-a41d-43b2-b5d2-f4c49fa5adf1",
   "metadata": {},
   "outputs": [],
   "source": [
    "account2"
   ]
  },
  {
   "cell_type": "markdown",
   "id": "a7534a27-2396-42ed-835d-15dcdfe00dd7",
   "metadata": {},
   "source": [
    "## Merken Sie sich folgendes zu `__str__` und `__repr__`\n",
    "1. Wenn Sie eine Instanz in IPython direkt auswerten, wird die interne Spezialmethode `__repr__` aufgerufen und ausgeführt.\n",
    "2. Wenn Sie eine Instanz  direkt der print-Funktion übergeben, wird die interne Spezialmethode `__str__` aufgerufen und ausgeführt, sofern sie implementiert ist. Andernfalls wird `__repr__` aufgerufen.\n",
    "3. Sie sollten grundätzlich in jeder Klasse `__str__` und `__repr__` implementieren."
   ]
  },
  {
   "cell_type": "markdown",
   "id": "2c14c249-e78e-482d-abe9-e05841ca8afe",
   "metadata": {},
   "source": [
    "## Properties\n",
    "Properties werden zur Zugriffssteuerung auf Attribute eingesetzt.\n",
    "\n",
    "\n",
    "\n",
    "Unsere Aktuelle Implementierung von `Account` stellt sicher, dass wir beim Erzeugen einer Instanz kein negatives Saldo `balance` setzen können. Allerdings ist es derzeit möglich, das Attribut `balance` direkt mit einem negativen Wert zu überschreiben.\n"
   ]
  },
  {
   "cell_type": "code",
   "execution_count": null,
   "id": "98c28cf0-1e98-43bb-8087-748b39e50d0a",
   "metadata": {},
   "outputs": [],
   "source": [
    "account = Account('Andrea Muster', 1000.00)"
   ]
  },
  {
   "cell_type": "code",
   "execution_count": null,
   "id": "7351e30c-d916-402c-bd5b-3d99e768dce6",
   "metadata": {},
   "outputs": [],
   "source": [
    "account.balance = -500.00"
   ]
  },
  {
   "cell_type": "code",
   "execution_count": null,
   "id": "c865c384-dfab-431d-a39b-ca1762a96be6",
   "metadata": {},
   "outputs": [],
   "source": [
    "account.balance"
   ]
  },
  {
   "cell_type": "markdown",
   "id": "9f690548-e3a3-4672-b4d7-dc460af21615",
   "metadata": {},
   "source": [
    "\n",
    "\n",
    "Um dieses Problem zu lösen, müssen wir den Zugriff auf Attribute steuern. Wir wollen in diesem Fall folgendes sicherstellen:\n",
    "\n",
    "1. Nach dem Erstellen einer Instanz kann der Wert vom Attribut `balance` jederzeit gelesen werden.\n",
    "2. Es kann nicht direkt in das Attribut `balance` geschrieben werden, d.h. `balance` ist **READ ONLY**. Um das Saldo zu erhöhen, haben wir ja die Methode `deposit` zur Verfügung. \n",
    "3. Um Geld abzuheben, können wir später noch eine Methode `withdraw` implementieren."
   ]
  },
  {
   "cell_type": "markdown",
   "id": "f93a8428-ad64-496c-99ef-c0c403e7f3e3",
   "metadata": {},
   "source": [
    "## \"READ ONLY\" Zugriff auf das `balance`-Attribut definiern\n",
    "Zunächst ist zu sagen, dass es keine Möglichkeit gibt, den Zugriff auf Attribute absolut zu beschränken. In Python wird alles als **öffentlich** angesehen.\n",
    "\n",
    "Es gibt aber eine **Konvention**, um anzugeben, dass ein Attribut als **nur für den internen Gebrauch** zu betrachten ist, d.h., dass dieses Attribut nicht direkt zu verwenden (Lesen oder Schreiben) ist.\n",
    "\n",
    "Hierzu wird dem Attributnamen ein **Unterstrich (\\_)** vorne angefügt, wie z.B.:\n",
    "```python\n",
    "    self._balance = balance\n",
    "```\n",
    "\n",
    "Mittels einem **Property** wird nun sichergestellt, dass der Wert des Saldos weiterhin mit dem üblichen Zugriff `instanzname.balance` ausgelesen werden kann.\n",
    "\n",
    "Ein **read-Property** (aka getter Property) ist eine mit **@property** annotierte Methode, die den Wert eines internen Attributs ausliest und zurück gibt.\n",
    "\n",
    "\n"
   ]
  },
  {
   "cell_type": "code",
   "execution_count": null,
   "id": "17d7002d-9858-4e3e-aa39-0a1b636af8a7",
   "metadata": {},
   "outputs": [],
   "source": [
    "class Account:\n",
    "    \"\"\"Account class for maintaining a bank account balance.\"\"\"\n",
    "    \n",
    "    def __init__(self, name, balance=0.0):\n",
    "        \"\"\"Initialize an Account object.\"\"\"\n",
    "        \n",
    "        # if balance is less than 0.0, raise an exeption\n",
    "        if balance < 0.0:\n",
    "            raise ValueError('Initial balance must be >= to 0.00')\n",
    "        \n",
    "        self.name = name\n",
    "        self._balance = balance  # Kennzeichne das Saldo nur für internen Gebrauch\n",
    " \n",
    "\n",
    "    @property\n",
    "    def balance(self):  \n",
    "        \"\"\"Return the balance.\"\"\"\n",
    "        return self._balance\n",
    "    \n",
    "    \n",
    "    def deposit(self, amount):\n",
    "        \"\"\"Deposit money to the account.\"\"\"\n",
    "        if amount < 0.0:\n",
    "            raise ValueError(f\"It's not possible to deposit. Amount must be positive, \"\n",
    "                             f\"but was {amount}.\")\n",
    "        \n",
    "        self.balance += amount\n",
    "        \n",
    "    \n",
    "    def account_holder(self):\n",
    "        \"\"\"Return account holder name in the form: 'family name, first name'\"\"\" \n",
    "        return ', '.join(reversed(self.name.split()))\n",
    "    \n",
    "    \n",
    "    def __str__(self):\n",
    "        \"\"\"Return a string representing the Account instance.\"\"\"\n",
    "        return f\"Account of {self.name}. Balance is {self.balance:.2f}.\"\n",
    "    \n",
    "    \n",
    "    def __repr__(self):\n",
    "        \"\"\"Return constructor expression for the actual Account instance.\"\"\"\n",
    "        return f\"Account(name='{self.name}', balance={self.balance:.2f})\"\n",
    "    "
   ]
  },
  {
   "cell_type": "code",
   "execution_count": null,
   "id": "11afc4a6-369d-4ed8-b2ac-2cc7d5889e93",
   "metadata": {},
   "outputs": [],
   "source": [
    "account = Account('Andrea Muster', 1000.0)"
   ]
  },
  {
   "cell_type": "markdown",
   "id": "e829a5ec-2c5e-405a-a296-7d4bd627a5e6",
   "metadata": {},
   "source": [
    "Wenn wir nun mit `account.balance` das Saldo lesen wollen, dass wird im Hintergrund implizit das Read-Property `balance` aufgerufen. Der Zugriff sieht wie ein reguläres Attribut aus, ist aber ein Methodenaufruf."
   ]
  },
  {
   "cell_type": "code",
   "execution_count": null,
   "id": "3cccc61a-e372-4785-964a-f3761ef9e564",
   "metadata": {},
   "outputs": [],
   "source": [
    "account.balance"
   ]
  },
  {
   "cell_type": "code",
   "execution_count": null,
   "id": "2bd71c46-5249-43ce-9f25-5be67dcbb92e",
   "metadata": {},
   "outputs": [],
   "source": [
    "account.balance = 1000"
   ]
  },
  {
   "cell_type": "markdown",
   "id": "b7e891c7-6718-4616-b2ec-2cf8fc14cd62",
   "metadata": {},
   "source": [
    "<br>\n",
    "\n",
    "Es gibt auch **write-Properties** (aka Setter-Properties), um in interne Attribute zu schreiben.  Der Schreibzugriff sieht da ebenfalls wie ein Zugriff auf ein reguläres Attribut aus, ruft aber im Hintegrund die entsprechende Methode auf. Das schauen wir uns im nächsten Kapitel an.\n",
    "\n",
    "<br>\n",
    "\n",
    "### Merke\n",
    "1. Attribute, die mit einem Unterstrich (\\_) beginnen, gelten als \"privat\". Auf diese soll nicht direkt zugegriffen werden.\n",
    "2. Attribute, die nicht mit Unterstrich beginnen, gelten als öffentlich.</font>\n",
    "\n"
   ]
  }
 ],
 "metadata": {
  "kernelspec": {
   "display_name": "Python 3 (ipykernel)",
   "language": "python",
   "name": "python3"
  },
  "language_info": {
   "codemirror_mode": {
    "name": "ipython",
    "version": 3
   },
   "file_extension": ".py",
   "mimetype": "text/x-python",
   "name": "python",
   "nbconvert_exporter": "python",
   "pygments_lexer": "ipython3",
   "version": "3.10.5"
  },
  "vscode": {
   "interpreter": {
    "hash": "aee8b7b246df8f9039afb4144a1f6fd8d2ca17a180786b69acc140d282b71a49"
   }
  }
 },
 "nbformat": 4,
 "nbformat_minor": 5
}
