{
 "cells": [
  {
   "cell_type": "markdown",
   "metadata": {},
   "source": [
    "# 10.4 Duck Typing und Polymorphismus\n",
    "* Die meisten objektorientierten Programmiersprachen erfordern vererbungsbasierte \"ist ein\"-Beziehungen, um polymorphes Verhalten zu erreichen\n",
    "* Python unterstützt auch das **Duck-Typing**, das in der Python-Dokumentation wie folgt beschrieben wird:\n",
    "> _Ein Programmierstil, der nicht auf den Typ eines Objekts schaut, um festzustellen, ob es die richtige Schnittstelle hat; stattdessen wird die Methode oder das Attribut einfach aufgerufen oder verwendet (\"Wenn es wie eine Ente aussieht und wie eine Ente quakt, muss es eine Ente sein.\")_. \n",
    "* Wenn ein Objekt zur Ausführungszeit verarbeitet wird, spielt sein Typ keine Rolle.  Solange das Objekt das Datenattribut, die Eigenschaft oder die Methode (mit den entsprechenden Parametern) hat, auf die Sie zugreifen möchten, funktioniert der Code."
   ]
  },
  {
   "cell_type": "code",
   "execution_count": null,
   "metadata": {},
   "outputs": [],
   "source": [
    "class Person:\n",
    "    def __init__(self, name):\n",
    "        self.name = name\n",
    "        \n",
    "    def greet(self):\n",
    "        print(f'Hello {self.name}.')\n",
    "        \n",
    "    def __repr__(self):\n",
    "        return f'{self.__class__.__name__}(name={self.name})'\n",
    "    \n",
    "    def __str__(self):\n",
    "        return f'I am a {self.__class__.__name__}. My name is {self.name}.'"
   ]
  },
  {
   "cell_type": "code",
   "execution_count": null,
   "metadata": {},
   "outputs": [],
   "source": [
    "class Duck:\n",
    "    \n",
    "    def greet(self):\n",
    "        print('Quack, quaack, quaaack')\n",
    "        \n",
    "    def __repr__(self):\n",
    "        return f'Duck()'\n",
    "    \n",
    "    def __str__(self):\n",
    "        return \"I am a Duck.\""
   ]
  },
  {
   "cell_type": "code",
   "execution_count": null,
   "metadata": {},
   "outputs": [],
   "source": [
    "p = Person('Theo')"
   ]
  },
  {
   "cell_type": "code",
   "execution_count": null,
   "metadata": {},
   "outputs": [],
   "source": [
    "d = Duck()"
   ]
  },
  {
   "cell_type": "code",
   "execution_count": null,
   "metadata": {},
   "outputs": [],
   "source": [
    "objects_that_can_greet = [p, d]"
   ]
  },
  {
   "cell_type": "code",
   "execution_count": null,
   "metadata": {},
   "outputs": [],
   "source": [
    "for one_object in objects_that_can_greet:\n",
    "    one_object.greet()"
   ]
  },
  {
   "cell_type": "code",
   "execution_count": null,
   "metadata": {},
   "outputs": [],
   "source": [
    "for one_object in objects_that_can_greet:\n",
    "    print(one_object)"
   ]
  },
  {
   "cell_type": "markdown",
   "metadata": {},
   "source": [
    "<br>\n",
    "\n",
    "Das funktioniert gut, solange die Liste nur Objekte enthält, die folgende Eigenschaft besitzen:\n",
    "* sie können mit `print` angezeigt werden (d.h. sie haben eine String-Repräsentation)\n",
    "* sie haben eine `greet`-Methode, die ohne Argumente aufgerufen werden kann"
   ]
  }
 ],
 "metadata": {
  "kernelspec": {
   "display_name": "Python 3 (ipykernel)",
   "language": "python",
   "name": "python3"
  },
  "language_info": {
   "codemirror_mode": {
    "name": "ipython",
    "version": 3
   },
   "file_extension": ".py",
   "mimetype": "text/x-python",
   "name": "python",
   "nbconvert_exporter": "python",
   "pygments_lexer": "ipython3",
   "version": "3.10.5"
  },
  "vscode": {
   "interpreter": {
    "hash": "aee8b7b246df8f9039afb4144a1f6fd8d2ca17a180786b69acc140d282b71a49"
   }
  }
 },
 "nbformat": 4,
 "nbformat_minor": 4
}
