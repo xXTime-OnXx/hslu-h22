{
 "cells": [
  {
   "cell_type": "markdown",
   "id": "powerful-confusion",
   "metadata": {},
   "source": [
    "# 11. Files und Exceptions"
   ]
  },
  {
   "cell_type": "markdown",
   "id": "athletic-extension",
   "metadata": {},
   "source": [
    "## Agenda\n",
    "\n",
    "* [11.1 Einführung](11_01_Einfuehrung.ipynb)\n",
    "* [11.2 Dateien](11_02_Dateien.ipynb)\n",
    "    * [11.2.1 Textdatei schreiben](11_02.1_Textdatei_schreiben.ipynb)\n",
    "    * [11.2.2 Textdatei lesen](11_02.2_Textdatei_lesen.ipynb)\n",
    "    * [11.2.3 Textdatei aktualisieren](11_02.3_Textdatei_aktualisieren.ipynb)\n",
    "    * [11.2.4 JSON Serialisierung](11_02.4_JSON_Serialisierung.ipynb)\n",
    "    * [11.2.5 JSON Deserialisierung](11_02.5_JSON_Deserialisierung.ipynb)\n",
    "    * [11.2.6 CSV-Datei schreiben](11_02.6_CSV-Datei_schreiben.ipynb)\n",
    "    * [11.2.7 CSV-Datei lesen](11_02.7_CSV-Datei_lesen.ipynb)\n",
    "    * [11.2.8 Datei-Öffnungsmodi](11_02.8_Datei_Oeffnungsmodi.ipynb)\n",
    "* [11.3 Exceptions](11_03_Exceptions.ipynb)\n",
    "    * [11.3.1 try ... except ... else](11_03.1_try_except_else.ipynb)\n",
    "    * [11.3.2 finally-Klausel](11_03.2_finally.ipynb)\n",
    "    * [11.3.3 Mehrere Ausnahmen in einer except-Klausel behandeln](11_03.3_Mehrere_Ausnahmen_in_einer_except_Klausel_behandeln.ipynb)\n",
    "    * [11.3.4 raise-Anweisung](11_03.4_raise_Anweisung.ipynb)\n",
    "    * [11.3.5 Abschliessende Bemerkungen](11_03.5_Abschliessende_Bemerkungen.ipynb)\n",
    "\n"
   ]
  }
 ],
 "metadata": {
  "kernelspec": {
   "display_name": "Python 3.10.5 64-bit",
   "language": "python",
   "name": "python3"
  },
  "language_info": {
   "codemirror_mode": {
    "name": "ipython",
    "version": 3
   },
   "file_extension": ".py",
   "mimetype": "text/x-python",
   "name": "python",
   "nbconvert_exporter": "python",
   "pygments_lexer": "ipython3",
   "version": "3.10.5"
  },
  "vscode": {
   "interpreter": {
    "hash": "aee8b7b246df8f9039afb4144a1f6fd8d2ca17a180786b69acc140d282b71a49"
   }
  }
 },
 "nbformat": 4,
 "nbformat_minor": 5
}
