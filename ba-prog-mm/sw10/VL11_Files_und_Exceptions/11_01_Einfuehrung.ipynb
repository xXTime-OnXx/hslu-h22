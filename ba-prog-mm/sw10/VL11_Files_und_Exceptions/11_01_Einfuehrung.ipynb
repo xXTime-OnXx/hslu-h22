{
 "cells": [
  {
   "cell_type": "markdown",
   "id": "recorded-hunter",
   "metadata": {},
   "source": [
    "# 11.1 Einführung"
   ]
  },
  {
   "cell_type": "markdown",
   "id": "subjective-facility",
   "metadata": {},
   "source": [
    "## Dateien\n",
    "Variablen, Listen, Tupel, Dictionary, Sets, Arrays, etc. bieten nur eine **_temporäre_** Datenspeicherung. Die Daten gehen verloren, wenn das Programm beendet wird.\n",
    "\n",
    "Daten, die in **Dateien** gespeichert sind, sind **persistent**. Computer speichern Dateien auf sekundären Speichergeräten (Solid-State-Laufwerke, Festplatten und weitere).\n",
    "\n",
    "<br>\n",
    "\n",
    "Wir betrachten Textdateien in mehreren gängigen Formaten:\n",
    "* einfacher Text (plain text)\n",
    "* JSON (JavaScript Object Notation)\n",
    "* CSV (comma-separated values)\n",
    "\n",
    "<br>\n",
    "\n",
    "**JSON** wird verwendet, um Objekte zu **serialisieren** und zu **deserialisieren**, um sie \n",
    "* auf einem Sekundärspeicher zu speichern, oder \n",
    "* über das Internet zu übertragen.\n",
    "\n",
    "<br>\n",
    "\n",
    "**CSV** Dateien werden sehr oft in Data Science verwendet\n",
    "* Python Standard Library `csv` Modul\n",
    "* pandas Library"
   ]
  },
  {
   "cell_type": "markdown",
   "id": "chronic-integrity",
   "metadata": {},
   "source": [
    "## Freigabe von Resourcen\n",
    "Programme fordern normalerweise während der Programmausführung Ressourcen (wie Dateien) an. Oft sind diese nur begrenzt verfügbar oder können jeweils nur von einem Programm genutzt werden. Daher müssen Sie nach der Benutzung wieder frei geben werden.\n",
    "\n",
    "Sie werden sehen, wie Sie durch Andwendung der **`with`-Anweisung** sicherstellen können, dass Resourcen entweder nach Gebrauch, oder beim Auftreten einer Exception, automatisch frei gegeben werden können."
   ]
  },
  {
   "cell_type": "markdown",
   "id": "leading-broadcast",
   "metadata": {},
   "source": [
    "## Exception handling\n",
    "Eine Exception entsteht aufgrund eines Ausführungszeitproblems, Zum Beispiel: `ZeroDivisionError`, `NameError`, `ValueError`, `StatisticsError`, `TypeError`, `IndexError`, `KeyError` und `RuntimeError`.\n",
    "\n",
    "Exceptions können beim Auftreten durch Verwendung von `try`-Anweisungen und `except`-Klauseln behandelt werden. Das stellt sicher, dass Programme _robust_ und _fehlertolerant_ sind und in der Folge trotz Auftreten eines Fehlers weiter ausgeführt, oder anständig beendet werden können."
   ]
  }
 ],
 "metadata": {
  "kernelspec": {
   "display_name": "Python 3.10.5 64-bit",
   "language": "python",
   "name": "python3"
  },
  "language_info": {
   "codemirror_mode": {
    "name": "ipython",
    "version": 3
   },
   "file_extension": ".py",
   "mimetype": "text/x-python",
   "name": "python",
   "nbconvert_exporter": "python",
   "pygments_lexer": "ipython3",
   "version": "3.10.5"
  },
  "vscode": {
   "interpreter": {
    "hash": "aee8b7b246df8f9039afb4144a1f6fd8d2ca17a180786b69acc140d282b71a49"
   }
  }
 },
 "nbformat": 4,
 "nbformat_minor": 5
}
