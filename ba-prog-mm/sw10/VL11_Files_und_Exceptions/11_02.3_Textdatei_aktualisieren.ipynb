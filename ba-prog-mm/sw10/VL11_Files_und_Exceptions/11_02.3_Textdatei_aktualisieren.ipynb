{
 "cells": [
  {
   "cell_type": "markdown",
   "id": "299e8b7c",
   "metadata": {},
   "source": [
    "# 11.2.3 Aktualisieren einer Textdatei\n",
    "* Formatierte Daten, die in eine Textdatei geschrieben wurden, können nicht ohne das Risiko der Überschreibung anderer Daten geändert werden.\n",
    "* Wenn der Name `'White'` in `accounts.txt` in `'Williams'` geändert werden muss, kann der alte Name nicht einfach überschrieben werden.\n",
    "* Der Originaldatensatz für `White` wird gespeichert als\n",
    "    >```Python\n",
    "    300 White 0.00\n",
    "    ```\n",
    "* Wenn Sie den Namen `'White'` mit dem Namen `'Williams'` überschreiben, wird der Datensatz zu\n",
    "    >```Python\n",
    "    300 Williams00\n",
    "    ```\n",
    "* Die Zeichen hinter dem zweiten \"i\" in \"Williams\" überschreiben andere Zeichen in der Zeile.\n",
    "* Das Problem ist, dass Datensätze und ihre Felder in der Grösse variieren können."
   ]
  },
  {
   "cell_type": "markdown",
   "id": "27e97926",
   "metadata": {},
   "source": [
    "### Vorgehen\n",
    "\n",
    "Um den vorhergehenden Namen zu ändern, können wir:\n",
    "1. die Datensätze vor `300 White 0.00` in eine temporäre Datei kopieren; \n",
    "2. den aktualisierten und korrekt formatierten Datensatz für Konto 300 in die temporäre Datei schreiben;\n",
    "3. die Datensätze nach `300 White 0.00` kopieren und in die temporäre Datei einfügen;\n",
    "4. die alte Datei löschen und \n",
    "5. die temporäre Datei umbenennen, um den Namen der Originaldatei zu verwenden.\n",
    "\n",
    "\n",
    "* Das Erfordert die Verarbeitung _jedes_ Datensatzes in der Datei, auch wenn Sie nur einen Datensatz aktualisieren müssen.\n",
    "* Es ist effizienter, wenn eine Anwendung viele Datensätze in einem Durchgang der Datei aktualisiert."
   ]
  },
  {
   "cell_type": "markdown",
   "id": "c76bb631",
   "metadata": {},
   "source": [
    "### Aktualisierung von `accounts.txt` \n",
    "Aktualisierung des Namens im Datensatz `'300'` von `'White'` zu `'Williams'`:"
   ]
  },
  {
   "cell_type": "code",
   "execution_count": null,
   "id": "51c569bb",
   "metadata": {},
   "outputs": [],
   "source": [
    "accounts = open('accounts.txt', 'r')"
   ]
  },
  {
   "cell_type": "code",
   "execution_count": null,
   "id": "4af93e8e",
   "metadata": {},
   "outputs": [],
   "source": [
    "temp_file = open('temp_file.txt', 'w')"
   ]
  },
  {
   "cell_type": "code",
   "execution_count": null,
   "id": "21a7b12f",
   "metadata": {},
   "outputs": [],
   "source": [
    "with accounts, temp_file:\n",
    "    for record in accounts:\n",
    "        account, name, balance = record.split()\n",
    "        if account != '300':\n",
    "            temp_file.write(record)\n",
    "        else:\n",
    "            new_record = ' '.join([account, 'Williams', balance])\n",
    "            temp_file.write(new_record + '\\n')"
   ]
  },
  {
   "cell_type": "markdown",
   "id": "188599bd",
   "metadata": {},
   "source": [
    "\n",
    "Die `with`-Anweisung verwaltet zwei Ressourcenobjekte, die in einer durch Kommas getrennten Liste nach `with` angegeben werden:\n",
    "* Wenn das Konto nicht `'300'` ist, schreiben Sie `record` (der einen Zeilenumbruch enthält) in `temp_file`;\n",
    "* Andernfalls stellen Sie den neuen Datensatz zusammen, der `'Williams'` anstelle von `'White'` enthält, und schreiben Sie ihn in das `temp_file`."
   ]
  },
  {
   "cell_type": "code",
   "execution_count": null,
   "id": "987cc5dc",
   "metadata": {},
   "outputs": [],
   "source": [
    "# macOS/Linux Users: View file contents\n",
    "!cat temp_file.txt"
   ]
  },
  {
   "cell_type": "code",
   "execution_count": null,
   "id": "2be5646c",
   "metadata": {},
   "outputs": [],
   "source": [
    "# Windows Users: View file contents\n",
    "!more temp_file.txt"
   ]
  },
  {
   "cell_type": "markdown",
   "id": "71957bef",
   "metadata": {},
   "source": [
    "### `os` Modul Dateiverarbeitungsfunktionen\n",
    "Um die Aktualisierung abzuschliessen, löschen Sie die alte Datei `accounts.txt` und benennen Sie dann `temp_file.txt` in `accounts.txt` um."
   ]
  },
  {
   "cell_type": "code",
   "execution_count": null,
   "id": "cfb638bb",
   "metadata": {},
   "outputs": [],
   "source": [
    "import os"
   ]
  },
  {
   "cell_type": "code",
   "execution_count": null,
   "id": "a070a87f",
   "metadata": {},
   "outputs": [],
   "source": [
    "os.remove('accounts.txt')"
   ]
  },
  {
   "cell_type": "markdown",
   "id": "cfb16cd3",
   "metadata": {},
   "source": [
    "Benutzen Sie die Funktion **`rename`**, um die temporäre Datei in `'accounts.txt'` umzubenennen."
   ]
  },
  {
   "cell_type": "code",
   "execution_count": null,
   "id": "ca5ee727",
   "metadata": {},
   "outputs": [],
   "source": [
    "os.rename('temp_file.txt', 'accounts.txt')"
   ]
  },
  {
   "cell_type": "code",
   "execution_count": null,
   "id": "58a23b6b",
   "metadata": {},
   "outputs": [],
   "source": [
    "# macOS/Linux Users: View file contents\n",
    "!cat accounts.txt"
   ]
  },
  {
   "cell_type": "code",
   "execution_count": null,
   "id": "c3e6ac0e",
   "metadata": {
    "tags": []
   },
   "outputs": [],
   "source": [
    "# Windows Users: View file contents\n",
    "!more accounts.txt"
   ]
  }
 ],
 "metadata": {
  "kernelspec": {
   "display_name": "Python 3.10.5 64-bit",
   "language": "python",
   "name": "python3"
  },
  "language_info": {
   "codemirror_mode": {
    "name": "ipython",
    "version": 3
   },
   "file_extension": ".py",
   "mimetype": "text/x-python",
   "name": "python",
   "nbconvert_exporter": "python",
   "pygments_lexer": "ipython3",
   "version": "3.10.7"
  },
  "vscode": {
   "interpreter": {
    "hash": "aee8b7b246df8f9039afb4144a1f6fd8d2ca17a180786b69acc140d282b71a49"
   }
  }
 },
 "nbformat": 4,
 "nbformat_minor": 5
}
