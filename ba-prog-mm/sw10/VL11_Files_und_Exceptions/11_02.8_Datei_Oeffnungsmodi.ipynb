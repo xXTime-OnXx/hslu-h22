{
 "cells": [
  {
   "cell_type": "markdown",
   "id": "ffeb481f",
   "metadata": {},
   "source": [
    "# 11.2.8 Datei-Öffnungsmodi"
   ]
  },
  {
   "cell_type": "markdown",
   "id": "6fcd5e99",
   "metadata": {},
   "source": [
    "\n",
    "| Mode | Description\n",
    "| ------ | ------\n",
    "| `'r'` | Öffnet eine Textdatei zum Lesen. Dies ist die Standardeinstellung, wenn Sie beim Aufruf von open  den Datei-Öffnen-Modus nicht explizit angeben. \n",
    "| `'w'` | Öffnet eine Textdatei zum Schreiben. Vorhandene Dateiinhalte werden _gelöscht_. Die Datei wird erstellt, wenn sie nicht existiert.\n",
    "| **`'a'`** | Öffnet  eine Textdatei zum Anhängen am Ende. Die Datei wird erstellt,  wenn sie nicht existiert. Neue Daten werden an das Ende der Datei geschrieben. \n",
    "| **`'r+'`** | Öffnet eine Textdatei zum Lesen und Schreiben. \n",
    "| **`'w+'`** | Öffnet eine Textdatei zum Lesen und Schreiben. Vorhandene Dateiinhalte werden _gelöscht_. Die Datei wird erstellt, wenn sie nicht existiert.\n",
    "| **`'a+'`** | Öffnet eine Textdatei, zum Lesen und Erweitern. Neue Daten werden an das Ende der Datei geschrieben. Die Datei wird erstellt, wenn sie nicht existiert.\n",
    "\n",
    "&nbsp;\n",
    "* Lesemodi erzeugen einen `FileNotFoundError`, wenn die Datei nicht existiert.\n",
    "* Jeder Textdatei-Modus hat einen entsprechenden Binärdatei-Modus, der mit `b` angegeben ist, wie in `'rb'` oder `'wb+'`."
   ]
  }
 ],
 "metadata": {
  "kernelspec": {
   "display_name": "Python 3.10.5 64-bit",
   "language": "python",
   "name": "python3"
  },
  "language_info": {
   "codemirror_mode": {
    "name": "ipython",
    "version": 3
   },
   "file_extension": ".py",
   "mimetype": "text/x-python",
   "name": "python",
   "nbconvert_exporter": "python",
   "pygments_lexer": "ipython3",
   "version": "3.10.5"
  },
  "vscode": {
   "interpreter": {
    "hash": "aee8b7b246df8f9039afb4144a1f6fd8d2ca17a180786b69acc140d282b71a49"
   }
  }
 },
 "nbformat": 4,
 "nbformat_minor": 5
}
