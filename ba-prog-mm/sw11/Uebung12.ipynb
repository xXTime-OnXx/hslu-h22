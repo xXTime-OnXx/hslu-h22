{
 "cells": [
  {
   "cell_type": "markdown",
   "metadata": {},
   "source": [
    "# Übung 12"
   ]
  },
  {
   "cell_type": "markdown",
   "metadata": {},
   "source": [
    "## Aufgabe 1\n",
    "Füllen Sie ein 2-mal-3-Array mit Einsen, ein 3-mal-3-Array mit Nullen und ein 2-mal-5-Array mit der Zahl Sieben."
   ]
  },
  {
   "cell_type": "code",
   "execution_count": null,
   "metadata": {},
   "outputs": [],
   "source": [
    " "
   ]
  },
  {
   "cell_type": "markdown",
   "metadata": {},
   "source": [
    "## Aufgabe 2\n",
    "Erstellen Sie ein 2-mal-2-Array mit den Zahlen 0-3. Wenden Sie Broadcasting an, um jede der folgenden Operationen mit dem Original-Array durchzuführen:\n",
    "\n",
    "1. Quadrieren Sie jedes Element des Arrays.\n",
    "\n",
    "2. Fügen Sie 7 zu jedem Element des Arrays hinzu.\n",
    "\n",
    "3. Multiplizieren Sie jedes Element des Arrays mit 2."
   ]
  },
  {
   "cell_type": "code",
   "execution_count": null,
   "metadata": {},
   "outputs": [],
   "source": []
  },
  {
   "cell_type": "markdown",
   "metadata": {},
   "source": [
    "## Aufgabe 3\n",
    "Erstellen Sie ein 3-mal-3-Array mit den geraden ganzen Zahlen von 2 bis und mit 18. Erstellen Sie einen zweiten 3-mal-3-Array, der die ganzen Zahlen von 9 bis 1 enthält, und multiplizieren Sie dann den ersten Array mit dem zweiten."
   ]
  },
  {
   "cell_type": "code",
   "execution_count": null,
   "metadata": {},
   "outputs": [],
   "source": []
  },
  {
   "cell_type": "markdown",
   "metadata": {},
   "source": [
    "## Aufgabe 4 \n",
    "Erstellen Sie ein 2-mal-3-Array mit den ersten sechs Potenzen von 2 (d.h. 2 ** 1, 2 ** 2, 2 ** 3, etc.). Verflachen Sie das Array zuerst mit der Methode `flatten`, dann mit `ravel`. Zeigen Sie in jedem Fall das Ergebnis an und zeigen Sie dann den ursprünglichen Array an, um zu zeigen, dass er nicht geändert wurde."
   ]
  },
  {
   "cell_type": "code",
   "execution_count": null,
   "metadata": {},
   "outputs": [],
   "source": []
  },
  {
   "cell_type": "markdown",
   "metadata": {},
   "source": [
    "## Aufgabe 5\n",
    "Erforschen Sie in der NumPy-Dokumentation die Array-Methode `astype`, die die Elemente eines Arrays in einen anderen Typ konvertiert. Verwenden Sie `linspace`  und `reshape`, um ein 2-mal-3-Array mit den Werten 1.1, 2.2, ..., 6.6 zu erstellen. Verwenden Sie dann die Methode `astype`, um den Array in ein Array mit ganzen Zahlen zu konvertieren."
   ]
  },
  {
   "cell_type": "code",
   "execution_count": null,
   "metadata": {},
   "outputs": [],
   "source": []
  },
  {
   "cell_type": "markdown",
   "metadata": {},
   "source": [
    "## Aufgabe 6\n",
    "Erstellen Sie ein Array mit den Werten 1-15, formen Sie ihn in einen 3-mal-5-Array um und verwenden Sie dann Indexierungs- und Slicing-Techniken, um jede der folgenden Operationen durchzuführen:\n",
    "\n",
    "1. Wählen Sie Zeile mit Index 2.\n",
    "\n",
    "2. Wählen Sie Spalte mit Index 4.\n",
    "\n",
    "3. Wählen Sie die Zeilen mit Index 0 und 1.\n",
    "\n",
    "4. Wählen Sie die Spalten mit Index 2 - 4.\n",
    "\n",
    "5. Wählen Sie das Element aus, das sich in Zeile mit Index 1 und Spalte mit Index 4 befindet.\n",
    "\n",
    "6. Wählen Sie alle Elemente aus den Zeilen mit Index 1 und 2, die sich in den Spalten mit Index 0, 2 und 4 befinden.\n",
    "\n"
   ]
  },
  {
   "cell_type": "code",
   "execution_count": null,
   "metadata": {},
   "outputs": [],
   "source": []
  },
  {
   "cell_type": "markdown",
   "metadata": {},
   "source": [
    "## Aufgabe 7\n",
    "Erstellen Sie die zweidimensionalen Arrays\n",
    "```\n",
    "array1 = np.array([[0, 1], [2, 3]])\n",
    "array2 = np.array([[4, 5], [6, 7]])\n",
    "```\n",
    "1. Verwenden Sie vertikales Stapeln, um den 4 x 2-Array namens array3 zu erstellen, wobei array1 auf array2 gestapelt wird.\n",
    "\n",
    "2. Verwenden Sie horizontales Stapeln, um den 2 x 4-Array namens array4 zu erstellen, wobei array2 rechts von array1 liegt.\n",
    "\n",
    "3. Verwenden Sie vertikales Stapeln mit zwei Kopien von array4, um ein 4 x 4-Array namens array5 zu erstellen.\n",
    "\n",
    "4. Verwenden Sie horizontales Stapeln mit zwei Kopien von array3, um ein 4 x 4-Array namens array6 zu erstellen.\n",
    "\n"
   ]
  },
  {
   "cell_type": "code",
   "execution_count": null,
   "metadata": {},
   "outputs": [],
   "source": []
  },
  {
   "cell_type": "markdown",
   "metadata": {
    "tags": []
   },
   "source": [
    "## Aufgabe 8\n",
    "Die in Python integrierten Listen- und Dictionary-Typen verfügen über Kopiermethoden, die flache Kopien erstellen. \n",
    "\n",
    "\n",
    "Verwenden Sie das folgende `dictionary`.\n",
    "```\n",
    "dictionary = {'Sophia': [97, 88]}\n",
    "```\n",
    "und zeigen Sie, dass die Kopiermethode eines `dictionary` tatsächlich eine flache Kopie erstellt. Rufen Sie dazu `copy` auf, um die flache Kopie zu erstellen, ändern Sie die im Original-`dictionary` gespeicherte Liste und zeigen Sie dann beide `dictionary`'s an, um zu zeigen, dass Sie den gleichen Inhalt haben.\n",
    "\n",
    "Als nächstes verwenden Sie die `deepcopy`-Funktion des `copy`-Moduls, um eine tiefe Kopie des Wörterbuchs zu erstellen. Ändern Sie die im Original-`dictionary` gespeicherte Liste und zeigen Sie dann beide `dictionary`'s an, um nachzuweisen, dass jedes seine eigenen Daten hat.\n",
    "\n"
   ]
  },
  {
   "cell_type": "code",
   "execution_count": null,
   "metadata": {},
   "outputs": [],
   "source": []
  }
 ],
 "metadata": {
  "kernelspec": {
   "display_name": "venv",
   "language": "python",
   "name": "python3"
  },
  "language_info": {
   "codemirror_mode": {
    "name": "ipython",
    "version": 3
   },
   "file_extension": ".py",
   "mimetype": "text/x-python",
   "name": "python",
   "nbconvert_exporter": "python",
   "pygments_lexer": "ipython3",
   "version": "3.10.7 (v3.10.7:6cc6b13308, Sep  5 2022, 14:02:52) [Clang 13.0.0 (clang-1300.0.29.30)]"
  },
  "vscode": {
   "interpreter": {
    "hash": "023e4eadc93684ac1c8050cfafbde284d504370f1252686768eedecb22e3f812"
   }
  }
 },
 "nbformat": 4,
 "nbformat_minor": 4
}
