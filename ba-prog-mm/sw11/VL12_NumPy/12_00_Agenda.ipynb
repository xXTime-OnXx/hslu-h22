{
 "cells": [
  {
   "cell_type": "markdown",
   "metadata": {
    "slideshow": {
     "slide_type": "slide"
    }
   },
   "source": [
    "# 12. Array-orientierte Programmierung mit NumPy"
   ]
  },
  {
   "cell_type": "markdown",
   "metadata": {
    "slideshow": {
     "slide_type": "slide"
    }
   },
   "source": [
    "## Agenda \n",
    "* [12.1 NumPy](12_01_NumPy.ipynb)\n",
    "* [12.2 Erstellen von Arrays aus vorhandenen Daten](12_02_Erstellen_von_Arrays_aus_vorhandenen_Daten.ipynb)\n",
    "* [12.3 Array-Attribute](12_03_Array-Attribute.ipynb)\n",
    "* [12.4 Füllen von Arrays mit bestimmten Werten](12_04_Fuellen_von_Arrays_mit_bestimmten_Werten.ipynb)\n",
    "* [12.5 Erstellen von Arrays aus Bereichen](12_05_Erstellen_von_Arrays_aus_Bereichen.ipynb)\n",
    "* [12.6 Array-Operatoren](12_06_Array_Operatoren.ipynb)\n",
    "* [12.7 NumPy Berechnungsmethoden](12_07_NumPy_Berechnungsmethoden.ipynb)\n",
    "* [12.8 Universelle Funktionen](12_08_Universelle_Funktionen.ipynb)\n",
    "* [12.9 Indizierung und Slicing ](12_09_Indizierung_und_Slicing.ipynb)\n",
    "* [12.10 Views](12_10_Views.ipynb)\n",
    "* [12.11 Deep Copies](12_11_Deep_Copies.ipynb)\n",
    "* [12.12 Umformung und Transponierung](12_12_Umformung_und_Transponierung.ipynb)"
   ]
  }
 ],
 "metadata": {
  "celltoolbar": "Slideshow",
  "kernelspec": {
   "display_name": "Python 3 (ipykernel)",
   "language": "python",
   "name": "python3"
  },
  "language_info": {
   "codemirror_mode": {
    "name": "ipython",
    "version": 3
   },
   "file_extension": ".py",
   "mimetype": "text/x-python",
   "name": "python",
   "nbconvert_exporter": "python",
   "pygments_lexer": "ipython3",
   "version": "3.10.5"
  }
 },
 "nbformat": 4,
 "nbformat_minor": 4
}
