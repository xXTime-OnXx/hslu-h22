{
 "cells": [
  {
   "cell_type": "markdown",
   "metadata": {},
   "source": [
    "# Übung 13"
   ]
  },
  {
   "cell_type": "markdown",
   "metadata": {},
   "source": [
    "## Aufgabe 1"
   ]
  },
  {
   "cell_type": "markdown",
   "metadata": {
    "tags": []
   },
   "source": [
    "Führen Sie die folgenden Aufgaben mit Pandas Series durch:"
   ]
  },
  {
   "cell_type": "markdown",
   "metadata": {},
   "source": [
    "1. Erstellen Sie eine Series aus der Liste [7, 11, 13, 17]."
   ]
  },
  {
   "cell_type": "code",
   "execution_count": null,
   "metadata": {},
   "outputs": [],
   "source": []
  },
  {
   "cell_type": "markdown",
   "metadata": {},
   "source": [
    "2. Erstellen Sie eine Series mit fünf Elementen, die alle 100.0 sind."
   ]
  },
  {
   "cell_type": "code",
   "execution_count": null,
   "metadata": {},
   "outputs": [],
   "source": []
  },
  {
   "cell_type": "markdown",
   "metadata": {},
   "source": [
    "3. Erstellen Sie eine Series mit 20 Elementen, die alle Zufallszahlen im Bereich von 0 bis 100 (inkl.) sind. Verwenden Sie die Methode `describe`, um die grundlegenden beschreibenden Statistiken der Series zu erstellen."
   ]
  },
  {
   "cell_type": "code",
   "execution_count": null,
   "metadata": {},
   "outputs": [],
   "source": []
  },
  {
   "cell_type": "markdown",
   "metadata": {},
   "source": [
    "4. Erstellen Sie eine Series namens `temperatures` die die Fliesskommawerte 37.0, 37.1, 37.9 und 36.6 enthält. Definieren Sie mit dem Index-Schlüsselwortargument die benutzerdefinierten Indizes 'Julie', 'Charlie', 'Sam' und 'Andrea'."
   ]
  },
  {
   "cell_type": "code",
   "execution_count": null,
   "metadata": {},
   "outputs": [],
   "source": []
  },
  {
   "cell_type": "markdown",
   "metadata": {},
   "source": [
    "5. Bilden Sie ein Dictionary aus den Namen und Werten aus Aufgabe 1.4 und verwenden Sie es dann zur Initialisierung einer Series."
   ]
  },
  {
   "cell_type": "code",
   "execution_count": null,
   "metadata": {},
   "outputs": [],
   "source": []
  },
  {
   "cell_type": "markdown",
   "metadata": {},
   "source": [
    "&nbsp;\n",
    "## Aufgabe 2"
   ]
  },
  {
   "cell_type": "markdown",
   "metadata": {},
   "source": [
    "Führen Sie die folgenden Aufgaben mit Pandas DataFrames aus:"
   ]
  },
  {
   "cell_type": "markdown",
   "metadata": {},
   "source": [
    "1. Erstellen Sie ein DataFrame namens `temperatures` aus einem Dictionary mit jeweils drei Temperaturmesswerten für 'Maxine', 'James' und 'Amanda'."
   ]
  },
  {
   "cell_type": "code",
   "execution_count": null,
   "metadata": {},
   "outputs": [],
   "source": []
  },
  {
   "cell_type": "markdown",
   "metadata": {},
   "source": [
    "2. Erzeugen Sie das DataFrame `temperatures` aus Aufgabe 2.1 erneut mit benutzerdefinierten Indizes unter Verwendung des Index-Schlüsselwortarguments und einer Liste, die 'Morning', 'Afternoon' und 'Evening' enthält."
   ]
  },
  {
   "cell_type": "code",
   "execution_count": null,
   "metadata": {},
   "outputs": [],
   "source": []
  },
  {
   "cell_type": "markdown",
   "metadata": {},
   "source": [
    "3. Wählen Sie aus `temperatures` die Spalte mit den Temperaturmesswerten für 'Maxine' aus."
   ]
  },
  {
   "cell_type": "code",
   "execution_count": null,
   "metadata": {},
   "outputs": [],
   "source": []
  },
  {
   "cell_type": "markdown",
   "metadata": {},
   "source": [
    "4. Wählen Sie aus `temperatures`die Reihe der \"Morning\"-Temperaturmesswerte aus."
   ]
  },
  {
   "cell_type": "code",
   "execution_count": null,
   "metadata": {},
   "outputs": [],
   "source": []
  },
  {
   "cell_type": "markdown",
   "metadata": {
    "tags": []
   },
   "source": [
    "5. Wählen Sie aus `temperatures` die Zeilen für die Temperaturmessungen \"Morning\" und \"Evening\" aus."
   ]
  },
  {
   "cell_type": "code",
   "execution_count": null,
   "metadata": {},
   "outputs": [],
   "source": []
  },
  {
   "cell_type": "markdown",
   "metadata": {
    "tags": []
   },
   "source": [
    "6. Wählen Sie aus `temperatures` die Spalten mit den Temperaturmesswerten für 'Amanda' und 'Maxine' aus."
   ]
  },
  {
   "cell_type": "code",
   "execution_count": null,
   "metadata": {},
   "outputs": [],
   "source": []
  },
  {
   "cell_type": "markdown",
   "metadata": {},
   "source": [
    "7. Wählen Sie aus `temperatures` die Elemente für 'Amanda' und 'Maxine' am Morgen und am Nachmittag aus."
   ]
  },
  {
   "cell_type": "code",
   "execution_count": null,
   "metadata": {},
   "outputs": [],
   "source": []
  },
  {
   "cell_type": "markdown",
   "metadata": {},
   "source": [
    "8. Verwenden Sie die Methode `describe`, um beschreibende Statistiken über Temperaturen zu erstellen."
   ]
  },
  {
   "cell_type": "code",
   "execution_count": null,
   "metadata": {},
   "outputs": [],
   "source": []
  },
  {
   "cell_type": "markdown",
   "metadata": {},
   "source": [
    "9.  Transponieren Sie `temperatures`"
   ]
  },
  {
   "cell_type": "code",
   "execution_count": null,
   "metadata": {},
   "outputs": [],
   "source": []
  },
  {
   "cell_type": "markdown",
   "metadata": {},
   "source": [
    "10. Sortieren Sie `temperatures` so, dass die Spaltennamen alphabetisch geordnet sind."
   ]
  },
  {
   "cell_type": "code",
   "execution_count": null,
   "metadata": {},
   "outputs": [],
   "source": []
  },
  {
   "cell_type": "markdown",
   "metadata": {
    "tags": []
   },
   "source": [
    "&nbsp;\n",
    "## Aufgabe 3\n"
   ]
  },
  {
   "cell_type": "markdown",
   "metadata": {},
   "source": [
    "a) Laden Sie die Datei `grades.csv` in ein `DataFrame` und zeigen Sie sie dann an."
   ]
  },
  {
   "cell_type": "code",
   "execution_count": null,
   "metadata": {},
   "outputs": [],
   "source": []
  },
  {
   "cell_type": "markdown",
   "metadata": {},
   "source": [
    "b) Fügen Sie im `DataFrame` eine Zeile mit den folgenden Werten hinzu:\n",
    "\n",
    "```\n",
    "ID = 4\n",
    "Name = 'Müller'\n",
    "Note = 4.0\n",
    "```"
   ]
  },
  {
   "cell_type": "code",
   "execution_count": null,
   "metadata": {},
   "outputs": [],
   "source": []
  },
  {
   "cell_type": "markdown",
   "metadata": {
    "tags": []
   },
   "source": [
    "c) Speichern Sie die Daten des `DataFrame`'s ohne der Index-Spalte wieder in der Datei `grades.csv`."
   ]
  },
  {
   "cell_type": "code",
   "execution_count": null,
   "metadata": {},
   "outputs": [],
   "source": []
  },
  {
   "cell_type": "markdown",
   "metadata": {
    "tags": []
   },
   "source": [
    "&nbsp;\n",
    "## Aufgabe 4\n"
   ]
  },
  {
   "cell_type": "markdown",
   "metadata": {},
   "source": [
    "Der Datensatz `diamonds.csv` enthält Informationen zu 53'940 Diamanten, einschliesslich Karat, Schliff, Farbe, Reinheit, Tiefe, Tafel (flache Oberfläche), Preis und x-, y- und z-Masse.\n",
    "Die `Kaggle`-Web page für diesen Datensatz beschreibt den Inhalt jeder Spalte: https://www.kaggle.com/shivam2503/diamonds.\n",
    "\n",
    "\n",
    "Führen Sie die folgenden Aufgaben zur Analyse des Diamanten-Datensatzes durch:"
   ]
  },
  {
   "cell_type": "markdown",
   "metadata": {
    "tags": []
   },
   "source": [
    "1. Laden Sie den Datensatz in ein Pandas `DataFrame` mit der folgenden Anweisung, die die erste Spalte jedes Datensatzes als Zeilenindex verwendet:\n",
    "\n",
    "```python\n",
    "    df = pd.read_csv('diamonds.csv', index_col=0)\n",
    "``` "
   ]
  },
  {
   "cell_type": "code",
   "execution_count": null,
   "metadata": {},
   "outputs": [],
   "source": []
  },
  {
   "cell_type": "markdown",
   "metadata": {},
   "source": [
    "2. Zeigen Sie die ersten sieben Zeilen des `DataFrame` an."
   ]
  },
  {
   "cell_type": "code",
   "execution_count": null,
   "metadata": {},
   "outputs": [],
   "source": []
  },
  {
   "cell_type": "markdown",
   "metadata": {},
   "source": [
    "3. Zeigen Sie die letzten sieben Zeilen des `DataFrame` an."
   ]
  },
  {
   "cell_type": "code",
   "execution_count": null,
   "metadata": {},
   "outputs": [],
   "source": []
  },
  {
   "cell_type": "markdown",
   "metadata": {},
   "source": [
    "4. Verwenden Sie die `DataFrame`-Methode `describe` (die nur die numerischen Spalten betrachtet), um die deskriptiven Statistiken für die numerischen Spalten - _carat_, _depth_, _table_, _price_, _x_, _y_, _z_ - zu berechnen."
   ]
  },
  {
   "cell_type": "code",
   "execution_count": null,
   "metadata": {},
   "outputs": [],
   "source": []
  },
  {
   "cell_type": "markdown",
   "metadata": {},
   "source": [
    "5. Verwenden Sie die `Series`-Methode `describe`, um die deskriptive Statistik für die kategorialen Datenspalten (Text) zu ermitteln, d.h. für _cut_, _color_ und _clarity_."
   ]
  },
  {
   "cell_type": "code",
   "execution_count": null,
   "metadata": {},
   "outputs": [],
   "source": []
  },
  {
   "cell_type": "markdown",
   "metadata": {},
   "source": [
    "6. Was sind die eindeutigen Kategoriewerte (verwenden Sie die `Series`-Methode `unique`."
   ]
  },
  {
   "cell_type": "code",
   "execution_count": null,
   "metadata": {},
   "outputs": [],
   "source": []
  },
  {
   "cell_type": "markdown",
   "metadata": {},
   "source": [
    "7. Rufen Sie die `hist`-Methode Ihres `DataFrame`'s auf, um die Histogramme jeder numerischen Datenspalte anzuzeigen."
   ]
  },
  {
   "cell_type": "code",
   "execution_count": null,
   "metadata": {},
   "outputs": [],
   "source": []
  }
 ],
 "metadata": {
  "kernelspec": {
   "display_name": "Python 3 (ipykernel)",
   "language": "python",
   "name": "python3"
  },
  "language_info": {
   "codemirror_mode": {
    "name": "ipython",
    "version": 3
   },
   "file_extension": ".py",
   "mimetype": "text/x-python",
   "name": "python",
   "nbconvert_exporter": "python",
   "pygments_lexer": "ipython3",
   "version": "3.10.5"
  }
 },
 "nbformat": 4,
 "nbformat_minor": 4
}
