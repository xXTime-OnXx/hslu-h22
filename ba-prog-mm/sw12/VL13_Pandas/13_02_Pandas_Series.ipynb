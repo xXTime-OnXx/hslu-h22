{
 "cells": [
  {
   "cell_type": "markdown",
   "id": "bc98c1e9-0560-4848-8c05-70f86302d0ef",
   "metadata": {
    "tags": []
   },
   "source": [
    "# 13.2 Pandas Series\n",
    "* `Series` sind erweiterte eindimensionale Arrays;\n",
    "* Sie unterstützen benuterdefinierte Indexierung;\n",
    "* Sie können mit fehlenden Daten umgehen."
   ]
  },
  {
   "cell_type": "markdown",
   "id": "489d6bf5-249b-41bf-b3d9-fba9ab4bb863",
   "metadata": {},
   "source": [
    "### Inhalt\n",
    "1. Erstellen und Zugriff auf eine `Series` mit Standardindizes\n",
    "2. Erstellen und Zugriff auf eine `Series` mit benutzerdefinierten Indizes\n",
    "3. Slices\n",
    "4. `loc` und `iloc` Properties\n",
    "5. Erstellen einer `Series`, wo alle Elemente den gleichen Wert haben\n",
    "6. Erstellen deskriptiver Statistiken für eine `Series`\n",
    "7. `Series` Attribute\n",
    "8. `Series` `str`-Accessor\n",
    "9. Boolesche Indizierung\n",
    "10. Benutzerdefinierte Index-Duplikate\n",
    "\n",
    "&nbsp;"
   ]
  },
  {
   "cell_type": "code",
   "execution_count": null,
   "id": "423329d6-a910-4fab-beb8-641eef6dcbd6",
   "metadata": {},
   "outputs": [],
   "source": [
    "import pandas as pd"
   ]
  },
  {
   "cell_type": "markdown",
   "id": "4814f740-2d5e-4bb3-8dc3-f705efe910fc",
   "metadata": {},
   "source": [
    "## 1. Erstellen und Zugriff auf eine `Series` mit Satandardindizes"
   ]
  },
  {
   "cell_type": "markdown",
   "id": "895ebb0b-bec2-47ba-a946-98ed60ee6b81",
   "metadata": {},
   "source": [
    "### Erstellen einer `Series` mit Standardindizes"
   ]
  },
  {
   "cell_type": "markdown",
   "id": "4ed75527-bf9f-4af2-a0f2-f6550ef9f75d",
   "metadata": {},
   "source": [
    "Standardmässig hat eine `Series` ganzzahlige Indizes, die mit 0 starten und fortlaufend sind."
   ]
  },
  {
   "cell_type": "code",
   "execution_count": null,
   "id": "f37609ef-1397-4bf8-ab51-adfd01fd4806",
   "metadata": {},
   "outputs": [],
   "source": [
    "grades = pd.Series([87, 100, 94])"
   ]
  },
  {
   "cell_type": "code",
   "execution_count": null,
   "id": "c8039d15-0837-45b6-876a-dccdb6d4d574",
   "metadata": {},
   "outputs": [],
   "source": [
    "grades"
   ]
  },
  {
   "cell_type": "markdown",
   "id": "64aa3fb5-3503-40e0-9e8f-22d76d27fa7d",
   "metadata": {
    "tags": []
   },
   "source": [
    "### Zugriff auf ein `Series` Element mittels Index"
   ]
  },
  {
   "cell_type": "code",
   "execution_count": null,
   "id": "3966fc6d-54dc-49a2-bc03-a86075a25fa5",
   "metadata": {},
   "outputs": [],
   "source": [
    "grades[0]  # Achtung: das ist nicht der Zugriff auf den positionellen Index, sondern auf das Label 0 "
   ]
  },
  {
   "cell_type": "code",
   "execution_count": null,
   "id": "397bc959-6548-4e03-bbfa-86940a836581",
   "metadata": {},
   "outputs": [],
   "source": [
    "grades[1]"
   ]
  },
  {
   "cell_type": "markdown",
   "id": "919c06a9-942c-4f48-8fdb-f809fc2e158a",
   "metadata": {},
   "source": [
    "## 2. Erstellen und Zugriff auf eine `Series` mit benutzerdefinierten Indizes"
   ]
  },
  {
   "cell_type": "markdown",
   "id": "6b56abcf-7c43-4923-b00d-de65a652d716",
   "metadata": {},
   "source": [
    "### Erstellen einer `Series` mit benutzerdefinierten Indizes"
   ]
  },
  {
   "cell_type": "markdown",
   "id": "4ce7afd7-a436-442c-aec6-c311ab9ec7d7",
   "metadata": {},
   "source": [
    "Sie können benutzerdefinierte Indizes mit dem `index`-Schlüsselwortargument erstellen."
   ]
  },
  {
   "cell_type": "code",
   "execution_count": null,
   "id": "d5519565-196b-432d-8318-6c496bea6097",
   "metadata": {
    "tags": []
   },
   "outputs": [],
   "source": [
    "grades = pd.Series([87, 100, 94], index=['Wally', 'Eva', 'Sam'])"
   ]
  },
  {
   "cell_type": "code",
   "execution_count": null,
   "id": "1f526e62-95ff-49f7-9810-7e82b4817856",
   "metadata": {},
   "outputs": [],
   "source": [
    "grades"
   ]
  },
  {
   "cell_type": "code",
   "execution_count": null,
   "id": "b906c113-7553-4b13-8b34-d302c129fefd",
   "metadata": {},
   "outputs": [],
   "source": [
    "pd.Series([87, 100, 94], index='Wally Eva Sam'.split())"
   ]
  },
  {
   "cell_type": "code",
   "execution_count": null,
   "id": "d956e7ae-0696-40e0-9b10-bec5d22bb591",
   "metadata": {},
   "outputs": [],
   "source": [
    "pd.Series({'Wally': 87, 'Eva':100, 'Sam': 94})"
   ]
  },
  {
   "cell_type": "markdown",
   "id": "d5dc055e-e7c1-484a-9f50-d71427a4753b",
   "metadata": {},
   "source": [
    "### Zugriff auf ein `Series` Element mittels benutzerdefinierter Index"
   ]
  },
  {
   "cell_type": "code",
   "execution_count": null,
   "id": "ec16ac8a-0601-4f1f-a858-48695ec88a7c",
   "metadata": {},
   "outputs": [],
   "source": [
    "grades['Wally']"
   ]
  },
  {
   "cell_type": "code",
   "execution_count": null,
   "id": "d33cafb9-1208-4ef8-8da9-17743c1ec2d9",
   "metadata": {},
   "outputs": [],
   "source": [
    "grades['Sam']"
   ]
  },
  {
   "cell_type": "markdown",
   "id": "4c799bc6-d2b9-4507-9b4d-ae8d0df2138e",
   "metadata": {},
   "source": [
    "### Zugriff auf ein `Series` Element mittels Attribute\n",
    "Wenn benuterdefinierte Indizes vom Typ `String` sind, die gültige Python Bezeichner darstellen, dann fügt Pandas sie automatisch der `Series` als Attribut hinzu. Sie können dann auf die Werte über die Attribute zugreifen."
   ]
  },
  {
   "cell_type": "code",
   "execution_count": null,
   "id": "f01bfcc6-66f5-440a-96a8-4c69c55c7763",
   "metadata": {},
   "outputs": [],
   "source": [
    "grades.Wally"
   ]
  },
  {
   "cell_type": "code",
   "execution_count": null,
   "id": "42de843c-8aa8-4552-b155-6e999b1b7a00",
   "metadata": {},
   "outputs": [],
   "source": [
    "grades.Eva"
   ]
  },
  {
   "cell_type": "code",
   "execution_count": null,
   "id": "5b527f73-bb01-4baf-9249-3467076e0a5b",
   "metadata": {
    "tags": []
   },
   "outputs": [],
   "source": [
    "test = pd.Series([1, 2, 3], index='_a b 1c'.split())\n",
    "test"
   ]
  },
  {
   "cell_type": "code",
   "execution_count": null,
   "id": "7899b61c-daee-4234-9b7f-20f510519e60",
   "metadata": {},
   "outputs": [],
   "source": [
    "test._a"
   ]
  },
  {
   "cell_type": "code",
   "execution_count": null,
   "id": "c48a4d6e-28a8-4b46-80b9-09498bc778b1",
   "metadata": {},
   "outputs": [],
   "source": [
    "test.b"
   ]
  },
  {
   "cell_type": "code",
   "execution_count": null,
   "id": "8677b0f6-4da0-44f2-b318-5e872abcc672",
   "metadata": {},
   "outputs": [],
   "source": [
    "test.1c"
   ]
  },
  {
   "cell_type": "markdown",
   "id": "c1f717f0-5718-4197-a19d-5acb79466da2",
   "metadata": {},
   "source": [
    "\n",
    "### Zugriff auf ein `Series` Element mittels positionellem Index\n",
    "Zugriff auf die Elemente kann neben benutzerdefiniertem Index auch über einen positionellen Index (0, 1, 2, ...) erfolgen."
   ]
  },
  {
   "cell_type": "code",
   "execution_count": null,
   "id": "d8b415d5-1944-48b8-be27-2f958f81eb25",
   "metadata": {},
   "outputs": [],
   "source": [
    "grades"
   ]
  },
  {
   "cell_type": "code",
   "execution_count": null,
   "id": "d7776e4f-0e9d-4b99-b30b-787b74c16ca5",
   "metadata": {},
   "outputs": [],
   "source": [
    "grades[0] #  Wenn alle Label (benutzerdefinierte Indizes) Strings sind, dann wird 0 als positioneller Index verstanden"
   ]
  },
  {
   "cell_type": "code",
   "execution_count": null,
   "id": "d5ba70b5-74db-4dfa-bf3a-1b5c18028574",
   "metadata": {},
   "outputs": [],
   "source": [
    "grades[2]"
   ]
  },
  {
   "cell_type": "code",
   "execution_count": null,
   "id": "5a16c925-b512-4ed8-b2ac-3188d48197b0",
   "metadata": {},
   "outputs": [],
   "source": [
    "grades[-1]"
   ]
  },
  {
   "cell_type": "code",
   "execution_count": null,
   "id": "00c7ee16-9be1-4866-b824-29e9d20fcd37",
   "metadata": {
    "tags": []
   },
   "outputs": [],
   "source": [
    "s1 = pd.Series([100, 200, 300], index=['a', 1 , 2]) # Benutzerdef Indizes bestehen aus str und int\n",
    "s1"
   ]
  },
  {
   "cell_type": "code",
   "execution_count": null,
   "id": "bfee81d1-94b0-4b9b-b22f-424cb296bbbd",
   "metadata": {},
   "outputs": [],
   "source": [
    "s1['a']"
   ]
  },
  {
   "cell_type": "code",
   "execution_count": null,
   "id": "f4c159ab-1a1c-4284-9d3a-43fdbf88a643",
   "metadata": {},
   "outputs": [],
   "source": [
    "s1[0]"
   ]
  },
  {
   "cell_type": "code",
   "execution_count": null,
   "id": "8cd1fe77-7da9-4ac7-a7bc-313af30e82dc",
   "metadata": {},
   "outputs": [],
   "source": [
    "s1[1]"
   ]
  },
  {
   "cell_type": "code",
   "execution_count": null,
   "id": "0b6b921a-1b36-4052-b5e6-a13e633dd8b1",
   "metadata": {},
   "outputs": [],
   "source": [
    "s1[-1]"
   ]
  },
  {
   "cell_type": "code",
   "execution_count": null,
   "id": "b1cbadf3-af55-44b0-988a-44f98e96de0f",
   "metadata": {
    "tags": []
   },
   "outputs": [],
   "source": [
    "s2 = pd.Series([100, 200, 300], index='a 1 2'.split())  # alle benutzerdef. Indizes sind Strings\n",
    "s2"
   ]
  },
  {
   "cell_type": "code",
   "execution_count": null,
   "id": "0b4c9a14-1562-4fd8-9534-e82ac8dbe955",
   "metadata": {},
   "outputs": [],
   "source": [
    "s2['a']"
   ]
  },
  {
   "cell_type": "code",
   "execution_count": null,
   "id": "daeb2580-129b-4e43-9b30-07d657f3f647",
   "metadata": {},
   "outputs": [],
   "source": [
    "s2['1']"
   ]
  },
  {
   "cell_type": "code",
   "execution_count": null,
   "id": "a059d687-485a-41c4-86d8-a05bc1862532",
   "metadata": {},
   "outputs": [],
   "source": [
    "s2[0]"
   ]
  },
  {
   "cell_type": "code",
   "execution_count": null,
   "id": "277890d1-e2c7-4226-9f36-c49cb40851bd",
   "metadata": {},
   "outputs": [],
   "source": [
    "s2[1]"
   ]
  },
  {
   "cell_type": "code",
   "execution_count": null,
   "id": "5bf8a89d-504a-459d-ac80-cbf520b4ffe5",
   "metadata": {},
   "outputs": [],
   "source": [
    "s2[-1]"
   ]
  },
  {
   "cell_type": "markdown",
   "id": "ab808174-5c44-4801-8297-dc4d528c2194",
   "metadata": {},
   "source": [
    "## 3. Slices"
   ]
  },
  {
   "cell_type": "code",
   "execution_count": null,
   "id": "3e3e104e-e9e2-402b-a75d-f1759aa539e1",
   "metadata": {},
   "outputs": [],
   "source": [
    "import numpy as np"
   ]
  },
  {
   "cell_type": "code",
   "execution_count": null,
   "id": "7c553535-2080-47ac-b81a-42763643930f",
   "metadata": {},
   "outputs": [],
   "source": [
    "s = pd.Series(np.random.randint(0, 100, 5))  # Achtung: Bei np.random.randint ist die Obergrenze exklusiv\n",
    "s"
   ]
  },
  {
   "cell_type": "code",
   "execution_count": null,
   "id": "4c7d7d5b-ca0f-48e3-aa01-d315516e00e7",
   "metadata": {},
   "outputs": [],
   "source": [
    "s[:3]"
   ]
  },
  {
   "cell_type": "code",
   "execution_count": null,
   "id": "fc056cbc-4800-4429-8888-96c73975ea59",
   "metadata": {},
   "outputs": [],
   "source": [
    "s[2:]"
   ]
  },
  {
   "cell_type": "code",
   "execution_count": null,
   "id": "0e77270c-07bc-415a-a449-407cc45afb26",
   "metadata": {},
   "outputs": [],
   "source": [
    "s[[0, 2]]"
   ]
  },
  {
   "cell_type": "code",
   "execution_count": null,
   "id": "2943b4d9-d408-4f82-b8a0-9eb5cf5bd334",
   "metadata": {},
   "outputs": [],
   "source": [
    "s[-1] # -1 wird als Label (und nicht als positioneller Index) verstanden. Label -1 gibt es aber nicht"
   ]
  },
  {
   "cell_type": "code",
   "execution_count": null,
   "id": "35059d14-4185-4e88-b452-06228d5aa552",
   "metadata": {},
   "outputs": [],
   "source": [
    "s"
   ]
  },
  {
   "cell_type": "code",
   "execution_count": null,
   "id": "3e311d9f-a24e-433b-b2bd-24c59cc54d21",
   "metadata": {},
   "outputs": [],
   "source": [
    "s.index = list('abcde')"
   ]
  },
  {
   "cell_type": "code",
   "execution_count": null,
   "id": "6a068082-2e55-42f9-8e0f-670eabaa6629",
   "metadata": {},
   "outputs": [],
   "source": [
    "s"
   ]
  },
  {
   "cell_type": "code",
   "execution_count": null,
   "id": "99548a6a-f59e-4ee1-bc36-f03cb8d73251",
   "metadata": {
    "tags": []
   },
   "outputs": [],
   "source": [
    "s['a':'c']  # 'c' ist inklusive!"
   ]
  },
  {
   "cell_type": "code",
   "execution_count": null,
   "id": "f6528d9d-affe-4640-9ad7-9dfa6e0079c9",
   "metadata": {},
   "outputs": [],
   "source": [
    "s['d':'b':-1]"
   ]
  },
  {
   "cell_type": "code",
   "execution_count": null,
   "id": "ced2e045-88e5-409d-889f-6fc852f5e282",
   "metadata": {},
   "outputs": [],
   "source": [
    "s[['b', 'd']]"
   ]
  },
  {
   "cell_type": "code",
   "execution_count": null,
   "id": "6f2c6329-7f89-48fd-8231-dbc64e2e8e43",
   "metadata": {},
   "outputs": [],
   "source": [
    "s[-1] # Hier wird -1 nicht als Label sondern als positioneller Index verstanden"
   ]
  },
  {
   "cell_type": "markdown",
   "id": "55383d88-93b8-4f44-be21-842617a9a641",
   "metadata": {},
   "source": [
    "## 4. `loc` und `iloc` Properties\n",
    "* Das ist die empfohlene Art auf Indizes zuzugreifen.\n",
    "* `loc` - Zugriff auf ein Element mittels Label (z.B. benutzerdefinierte Indizes)\n",
    "* `iloc` - Zugriff auf ein Element via positioneller Index (int)\n"
   ]
  },
  {
   "cell_type": "code",
   "execution_count": null,
   "id": "2f67f1ad-2cf5-4cf7-b7a7-58fb15896cd8",
   "metadata": {},
   "outputs": [],
   "source": [
    "s"
   ]
  },
  {
   "cell_type": "code",
   "execution_count": null,
   "id": "38aa5803-b5f7-4ce7-bd9a-8c726858ca3d",
   "metadata": {},
   "outputs": [],
   "source": [
    "s.loc['b']"
   ]
  },
  {
   "cell_type": "code",
   "execution_count": null,
   "id": "3c94e028-3596-48aa-8585-2775bd11d365",
   "metadata": {},
   "outputs": [],
   "source": [
    "s.loc['c':'d']"
   ]
  },
  {
   "cell_type": "code",
   "execution_count": null,
   "id": "0a2fee58-8625-4b6f-bcd9-3ca0f4ff660b",
   "metadata": {},
   "outputs": [],
   "source": [
    "s.iloc[0]"
   ]
  },
  {
   "cell_type": "code",
   "execution_count": null,
   "id": "94f8e44e-7bca-4404-8877-addb174c06be",
   "metadata": {},
   "outputs": [],
   "source": [
    "s.iloc[-1]"
   ]
  },
  {
   "cell_type": "code",
   "execution_count": null,
   "id": "b1c41cfc-663f-4afe-8cec-cf45f28ddcee",
   "metadata": {},
   "outputs": [],
   "source": [
    "s.index = range(5)\n",
    "s"
   ]
  },
  {
   "cell_type": "code",
   "execution_count": null,
   "id": "db169f76-072f-4084-b735-b4b9a303ddd8",
   "metadata": {},
   "outputs": [],
   "source": [
    "s.loc[4]"
   ]
  },
  {
   "cell_type": "code",
   "execution_count": null,
   "id": "7065c1c5-8063-43bf-ac83-feac2412f490",
   "metadata": {},
   "outputs": [],
   "source": [
    "s.iloc[-1]"
   ]
  },
  {
   "cell_type": "markdown",
   "id": "29c829a3-e20c-4ce3-ad14-d461b0dbcc53",
   "metadata": {},
   "source": [
    "## 5. Erstellen einer `Series`, wo alle Elemente den gleichen Wert haben"
   ]
  },
  {
   "cell_type": "code",
   "execution_count": null,
   "id": "3c5f4b06-72d6-40d8-bbbd-91b717b4ce61",
   "metadata": {},
   "outputs": [],
   "source": [
    "pd.Series(90.7, index=range(3))"
   ]
  },
  {
   "cell_type": "code",
   "execution_count": null,
   "id": "67d85e12-0e82-4040-a643-3c72f557ae1e",
   "metadata": {},
   "outputs": [],
   "source": [
    "pd.Series('Test', index='A B C D'.split())"
   ]
  },
  {
   "cell_type": "markdown",
   "id": "752c5214-e2ce-4bfb-96cb-5c564372654a",
   "metadata": {},
   "source": [
    "## 6. Erstellung deskriptiver Statistiken für eine Series"
   ]
  },
  {
   "cell_type": "code",
   "execution_count": null,
   "id": "6dba2312-0ab2-4a21-ad45-c1ef52224add",
   "metadata": {},
   "outputs": [],
   "source": [
    "s = pd.Series([10, 20 , np.NaN , 30])\n",
    "s"
   ]
  },
  {
   "cell_type": "code",
   "execution_count": null,
   "id": "cd678f91-853c-444c-b132-007fe3c00366",
   "metadata": {},
   "outputs": [],
   "source": [
    "s.size"
   ]
  },
  {
   "cell_type": "code",
   "execution_count": null,
   "id": "898eec8e-6137-474d-9b3f-d7567c932a6d",
   "metadata": {},
   "outputs": [],
   "source": [
    "s.count()"
   ]
  },
  {
   "cell_type": "code",
   "execution_count": null,
   "id": "033c9c2d-f79f-43bd-b975-5704f9c91698",
   "metadata": {
    "tags": []
   },
   "outputs": [],
   "source": [
    "s.sum()"
   ]
  },
  {
   "cell_type": "code",
   "execution_count": null,
   "id": "338e0aa6-3a8c-45fc-98c4-b00f6e207cae",
   "metadata": {},
   "outputs": [],
   "source": [
    "s.sum() / s.count()  # Arithmetisches Mittel"
   ]
  },
  {
   "cell_type": "code",
   "execution_count": null,
   "id": "2f3d823b-938d-43d2-aaf5-6d3478a32737",
   "metadata": {
    "tags": []
   },
   "outputs": [],
   "source": [
    "s.mean()"
   ]
  },
  {
   "cell_type": "code",
   "execution_count": null,
   "id": "7dbfbacf-1219-450c-9d68-c97f4cae7670",
   "metadata": {},
   "outputs": [],
   "source": [
    "s.min()"
   ]
  },
  {
   "cell_type": "code",
   "execution_count": null,
   "id": "8afc0363-6dca-4fec-90a2-57b9b155238c",
   "metadata": {},
   "outputs": [],
   "source": [
    "s.max()"
   ]
  },
  {
   "cell_type": "code",
   "execution_count": null,
   "id": "a731d490-806f-4ed2-b750-0f44430accae",
   "metadata": {},
   "outputs": [],
   "source": [
    "s.std()"
   ]
  },
  {
   "cell_type": "code",
   "execution_count": null,
   "id": "75c67126-985a-4c5c-ba59-5c33efed03f7",
   "metadata": {},
   "outputs": [],
   "source": [
    "s.describe()"
   ]
  },
  {
   "cell_type": "markdown",
   "id": "e2654906-079c-45f3-b914-f8316bc4c550",
   "metadata": {},
   "source": [
    "<br> \n",
    "\n",
    "Quartile:\n",
    "   * 50% stellt den Median der Sortierten Werte dar\n",
    "   * 25% stellt den Median der ersten Hälfte der Sortierten Werte dar\n",
    "   * 75% stelle den Median der zweiten Hälfte der sortierten Werte dar\n",
    "   * NB: Wenn es für die Quartile zwei mittlere Elemente gibt, dann ist ihr Durchschnitt der Median dieses Quartils"
   ]
  },
  {
   "cell_type": "markdown",
   "id": "2ea8781c-0da0-4d76-9342-8ecec331b3fc",
   "metadata": {},
   "source": [
    "## 7. `Series` Attribute"
   ]
  },
  {
   "cell_type": "code",
   "execution_count": null,
   "id": "712234b1-c9c4-45e3-9178-af64b57c2ff0",
   "metadata": {},
   "outputs": [],
   "source": [
    "grades"
   ]
  },
  {
   "cell_type": "markdown",
   "id": "4001033c-f0ee-46ea-ba8d-8a8f79ac939e",
   "metadata": {},
   "source": [
    "Das `dtype` Attribut gibt den Elementtyp des zugrunde liegenden Arrays zurück"
   ]
  },
  {
   "cell_type": "code",
   "execution_count": null,
   "id": "5922c791-1e4e-4b3e-b0c2-80b3365c5b5b",
   "metadata": {},
   "outputs": [],
   "source": [
    "grades.dtype"
   ]
  },
  {
   "cell_type": "markdown",
   "id": "c3395047-cd5e-4204-b997-4ed948213f73",
   "metadata": {},
   "source": [
    "Das `values` Attribut gibt den zugrunde liegende Array zurück"
   ]
  },
  {
   "cell_type": "code",
   "execution_count": null,
   "id": "3222d8c0-1a92-4a0a-95d2-7df55698eee1",
   "metadata": {},
   "outputs": [],
   "source": [
    "grades.values"
   ]
  },
  {
   "cell_type": "code",
   "execution_count": null,
   "id": "65ca1088-2cd0-40bf-9570-4f4239c49303",
   "metadata": {
    "tags": []
   },
   "outputs": [],
   "source": [
    "grades.index"
   ]
  },
  {
   "cell_type": "code",
   "execution_count": null,
   "id": "7ec5b3bb-cb96-4327-bdcb-302669435028",
   "metadata": {},
   "outputs": [],
   "source": [
    "grades.size"
   ]
  },
  {
   "cell_type": "markdown",
   "id": "1d5a1381-e769-4507-aa36-5bd908ef3aa5",
   "metadata": {},
   "source": [
    "## 8. `Series` `str`-Accessor\n",
    "In einer Series von Strings können Sie den `str`-Accessor verwenden, um String-Methoden auf jedem Elementen aufzurufen.\n",
    "Sie erhalten eine `Series` zurück, die das entsprechende Resultat enthält.\n"
   ]
  },
  {
   "cell_type": "code",
   "execution_count": null,
   "id": "e3756fb2-46db-48bc-936d-ad0f84f57435",
   "metadata": {},
   "outputs": [],
   "source": [
    "s = pd.Series('Alpha Bravo Charlie Delta'.split())\n",
    "s"
   ]
  },
  {
   "cell_type": "code",
   "execution_count": null,
   "id": "980a1587-1732-470b-baaa-b30d3beb90fd",
   "metadata": {},
   "outputs": [],
   "source": [
    "s.str"
   ]
  },
  {
   "cell_type": "code",
   "execution_count": null,
   "id": "66616455-c8ca-434f-819c-b656d6cd0105",
   "metadata": {},
   "outputs": [],
   "source": [
    "s.str.contains('a')"
   ]
  },
  {
   "cell_type": "code",
   "execution_count": null,
   "id": "68ee7a94-1045-4ce3-af89-e976b36a3b00",
   "metadata": {},
   "outputs": [],
   "source": [
    "s.str.upper()"
   ]
  },
  {
   "cell_type": "code",
   "execution_count": null,
   "id": "36176c89-ff5e-4a89-92cb-efe6dca8f56e",
   "metadata": {},
   "outputs": [],
   "source": [
    "s.str.len()"
   ]
  },
  {
   "cell_type": "markdown",
   "id": "aadf9655-6c02-4336-9805-5e303fe7cc8b",
   "metadata": {},
   "source": [
    "#### Verkettung von String Operationen"
   ]
  },
  {
   "cell_type": "code",
   "execution_count": null,
   "id": "b1dc764d-f9ed-459e-b6f6-cd5e0aa2691f",
   "metadata": {
    "tags": []
   },
   "outputs": [],
   "source": [
    "s.str.lower().str.startswith('a')"
   ]
  },
  {
   "cell_type": "markdown",
   "id": "d9a83984-e5c3-4267-a740-b7000ea832f2",
   "metadata": {},
   "source": [
    "## 9. Boolesche Indizierung"
   ]
  },
  {
   "cell_type": "code",
   "execution_count": null,
   "id": "dca9cf01-33e2-469d-8434-274448390076",
   "metadata": {},
   "outputs": [],
   "source": [
    "s = pd.Series([100, 200, 200, 400])\n",
    "s"
   ]
  },
  {
   "cell_type": "code",
   "execution_count": null,
   "id": "c85d6749-da96-4e3c-b1fe-7e30f78d28ba",
   "metadata": {},
   "outputs": [],
   "source": [
    "s[s == 200]"
   ]
  },
  {
   "cell_type": "code",
   "execution_count": null,
   "id": "da101af0-9421-4928-b627-aaad5528be15",
   "metadata": {},
   "outputs": [],
   "source": [
    "s[s < 250]"
   ]
  },
  {
   "cell_type": "code",
   "execution_count": null,
   "id": "08edf514-ccf9-4edd-a77d-805f0f008cff",
   "metadata": {},
   "outputs": [],
   "source": [
    "s[s % 2 == 1]"
   ]
  },
  {
   "cell_type": "code",
   "execution_count": null,
   "id": "33cf8779-45fd-412b-8614-6ec6970aaa76",
   "metadata": {},
   "outputs": [],
   "source": [
    "s[s > 200]"
   ]
  },
  {
   "cell_type": "code",
   "execution_count": null,
   "id": "264bf786-ea3e-4485-88ff-02213586593f",
   "metadata": {},
   "outputs": [],
   "source": [
    "s[(s < 200) | (s > 200)]"
   ]
  },
  {
   "cell_type": "markdown",
   "id": "99403a55-1fbe-4a09-91ae-17c02902af4e",
   "metadata": {
    "tags": []
   },
   "source": [
    "## 10. Benutzerdefinierte Index-Duplikate sind möglich"
   ]
  },
  {
   "cell_type": "code",
   "execution_count": null,
   "id": "17f24e93-790a-4114-aa67-fd3430e4ec09",
   "metadata": {},
   "outputs": [],
   "source": [
    "s = pd.Series([10, 20 , 30, 40, 50], index=list('abcab'))\n",
    "s"
   ]
  },
  {
   "cell_type": "code",
   "execution_count": null,
   "id": "0af5eff1-d30d-4352-ab3b-207afe237246",
   "metadata": {
    "tags": []
   },
   "outputs": [],
   "source": [
    "s.index"
   ]
  },
  {
   "cell_type": "code",
   "execution_count": null,
   "id": "fc388c96-56a6-40b5-ad7a-fb306826fb39",
   "metadata": {},
   "outputs": [],
   "source": [
    "s.loc['c']"
   ]
  },
  {
   "cell_type": "code",
   "execution_count": null,
   "id": "8e7008d9-f62f-4bfa-9795-3e01c5c7660b",
   "metadata": {
    "tags": []
   },
   "outputs": [],
   "source": [
    "s.loc['a']"
   ]
  },
  {
   "cell_type": "code",
   "execution_count": null,
   "id": "77329253-414b-4d6c-abdb-76f0e6802308",
   "metadata": {},
   "outputs": [],
   "source": [
    "s.loc['a':'c']  # Das geht aufgrund der Duplikate nicht"
   ]
  }
 ],
 "metadata": {
  "kernelspec": {
   "display_name": "Python 3 (ipykernel)",
   "language": "python",
   "name": "python3"
  },
  "language_info": {
   "codemirror_mode": {
    "name": "ipython",
    "version": 3
   },
   "file_extension": ".py",
   "mimetype": "text/x-python",
   "name": "python",
   "nbconvert_exporter": "python",
   "pygments_lexer": "ipython3",
   "version": "3.10.5"
  }
 },
 "nbformat": 4,
 "nbformat_minor": 5
}
