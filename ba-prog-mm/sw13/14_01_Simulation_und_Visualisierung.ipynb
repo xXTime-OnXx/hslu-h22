{
 "cells": [
  {
   "cell_type": "markdown",
   "id": "fb308a23-b8fc-4f3e-95a3-71b7ab86ee6b",
   "metadata": {},
   "source": [
    "# 14.1 Simulation und Visualisierung\n",
    "(Buch Kapitel 5.17)"
   ]
  },
  {
   "cell_type": "markdown",
   "id": "ed5a40dd-b267-42c7-bb1f-5a346e76e5e2",
   "metadata": {},
   "source": [
    "* Visualisierungen helfen Ihnen beim \"Kennenlernen\" Ihrer Daten. \n",
    "* Effiziente Möglichkeit, Daten zu verstehen."
   ]
  },
  {
   "cell_type": "markdown",
   "id": "dd840d68-4985-4fa0-b815-43c7c6502316",
   "metadata": {},
   "source": [
    "## Beispielgrafiken der Würfe eines Würfels\n",
    "* Bei einem Würfel wird jede Würfelseite gleichwahrscheinlich geworfen.\n",
    "* Daher ist die Wahrscheinlichkeit, dass eine Seite gewürfelt wird <font color=blue>**1/6 = 16.667%**</font>.\n",
    "\n",
    "Das wollen wir mit einer Simulation überprüfen.\n"
   ]
  },
  {
   "cell_type": "markdown",
   "id": "d1496351-24ca-4b06-aec1-6d9db08e0822",
   "metadata": {},
   "source": [
    "### Balkendiagramm (bar plot) für 600 Würfe eines Würfels\n",
    "* Bei perfekter Verteilung würden wir eine **Häufigkeit von 100 pro Würfelseite** erwarten.\n",
    "* Bei einer kleinen Anzahl von Würfen (z.B. 600 Würfen) tritt jedoch i.d.R. keine Gleichverteilung der gewürfelten Augenzahlen ein. Das können wir im Balkendiagramm gut aufzeigen.\n",
    "\n",
    "<img src='images/Seaborn_01.png' width=600>\n"
   ]
  },
  {
   "cell_type": "markdown",
   "id": "5827c18b-8ab0-4bdc-8b6e-65c446a8ac65",
   "metadata": {},
   "source": [
    "&nbsp;\n",
    "\n",
    "### Balkendiagramm (bar plot) für 60'000 Würfe eines Würfels\n",
    "* Wir würden eine eine **Häufigkeit von ca. 10'000 pro Würfelseite** erwarten.\n",
    "* Wir erkennen im Balkendiagramm, dass sich die Balken schon etwas mehr an **1/6 = 16.667%** annähern.\n",
    "\n",
    "<img src='images/Seaborn_02.png' width=600>"
   ]
  },
  {
   "cell_type": "markdown",
   "id": "c57f849a-012d-444c-b5e8-b062dc5a7d70",
   "metadata": {},
   "source": [
    "&nbsp;\n",
    "\n",
    "### Balkendiagramm (bar plot) für 6'000'000 Würfe eines Würfels\n",
    "* Wir erwarten eine **Häufigkeit von ca. 1'000'000 pro Würfelseite**.\n",
    "* Bei 6'000'000 Würfen sind die alle Balken annähern bei **1/6 = 16.667%**.\n",
    "* Das nennt man das **\"Gesetz der grossen Zahlen\"**.\n",
    "\n",
    "<img src='images/Seaborn_03.png' width=600>"
   ]
  },
  {
   "cell_type": "markdown",
   "id": "e8918077-15b8-4e18-b45f-e4744c0aeab8",
   "metadata": {
    "tags": []
   },
   "source": [
    "<br>\n",
    "\n",
    "## Matplotlib\n",
    "\n",
    "`Matplotlib` ist eien sehr gute und weit verbreitete Visualisierungsbibliothek in Python.\n",
    "\n",
    "\n",
    "https://matplotlib.org\n",
    "\n"
   ]
  },
  {
   "cell_type": "markdown",
   "id": "1b38fd82-c53b-4d59-8689-1760da19712f",
   "metadata": {
    "tags": []
   },
   "source": [
    "## Seaborn\n",
    "`Seaborn` ist ebenfalls eine Visualisierungsbibliothek, die über `Matplotlib` aufgebaut ist und viele Matplotlib-Operationen vereinfacht.\n",
    "\n",
    "https://seaborn.pydata.org"
   ]
  }
 ],
 "metadata": {
  "kernelspec": {
   "display_name": "Python 3 (ipykernel)",
   "language": "python",
   "name": "python3"
  },
  "language_info": {
   "codemirror_mode": {
    "name": "ipython",
    "version": 3
   },
   "file_extension": ".py",
   "mimetype": "text/x-python",
   "name": "python",
   "nbconvert_exporter": "python",
   "pygments_lexer": "ipython3",
   "version": "3.10.5"
  }
 },
 "nbformat": 4,
 "nbformat_minor": 5
}
