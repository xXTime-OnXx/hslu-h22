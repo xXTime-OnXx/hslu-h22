{
 "cells": [
  {
   "cell_type": "markdown",
   "id": "2434bd78-8268-4efc-a777-c8763d736b06",
   "metadata": {},
   "source": [
    "# 14.2 Statische Visualisierung mit Matplotlib und Seaborn\n",
    "Wir wollen die Würfe eines Würfels simulieren und mittle Matplotlib und Seaborn grafisch darstellen.\n",
    "\n",
    "Hier eine Beispielgrafik für 600 Würfelwürfe:\n",
    "\n",
    "<img src='images/Seaborn_01.png' width=600>"
   ]
  },
  {
   "cell_type": "markdown",
   "id": "24139d44-3670-430b-9b12-3c385b8b0b58",
   "metadata": {},
   "source": [
    "&nbsp;\n",
    "\n",
    "Unsere Simulation verwendet folgende Bibliotheken:\n",
    "\n",
    "* `matplotlib.pyplot` enthält die von uns verwendeten Grafikfunktionen der Matplotlib-Bibilothek\n",
    "* `seaborn` enthält die von uns verwendeten Grafikfunktionen der Seaborn-Bibliothek\n",
    "* `numpy` importieren wir, weil wir die Funktion `unique` in userer Simulation verwenden wollen\n",
    "* `random`, importieren wir, um die Würfe eines Würfels zu simulieren\n",
    "\n"
   ]
  },
  {
   "cell_type": "code",
   "execution_count": null,
   "id": "7d75cae8-da5e-4176-9440-95655054a099",
   "metadata": {},
   "outputs": [],
   "source": [
    "import matplotlib.pyplot as plt\n",
    "import seaborn as sns\n",
    "import numpy as np\n",
    "import random"
   ]
  },
  {
   "cell_type": "markdown",
   "id": "ac020567-3d6c-45b9-a4b3-ef8b0c81ce13",
   "metadata": {},
   "source": [
    "&nbsp;\n",
    "\n",
    "## Einlesen wie oft ein Würfel gewürfelt werden soll"
   ]
  },
  {
   "cell_type": "code",
   "execution_count": null,
   "id": "e5aeb6be-14ac-4ee4-9f4f-8ce3e66a081e",
   "metadata": {},
   "outputs": [],
   "source": [
    "# input how often the die should be rolled\n",
    "number_rolls = int(input('Wie oft soll der Würfel gewürfelt werden?'))"
   ]
  },
  {
   "cell_type": "markdown",
   "id": "2e932689-260b-437f-98d9-6985c6a3805d",
   "metadata": {},
   "source": [
    "&nbsp;\n",
    "\n",
    "## Würfeln und Ermitteln der Würfelhäufigkeiten"
   ]
  },
  {
   "cell_type": "code",
   "execution_count": null,
   "id": "8e73d46b-dbd4-4e29-9f3d-e4a6b25d53ba",
   "metadata": {},
   "outputs": [],
   "source": [
    "# simulate the die rolls\n",
    "rolls = [random.randrange(1, 7) for i in range(number_rolls)]"
   ]
  },
  {
   "cell_type": "code",
   "execution_count": null,
   "id": "8a266cc5-1e3d-4e6e-8418-db74b9ef1d6f",
   "metadata": {},
   "outputs": [],
   "source": [
    "values, frequencies = np.unique(rolls, return_counts=True)"
   ]
  },
  {
   "cell_type": "markdown",
   "id": "f39a3181-06e2-448b-b4d8-21b9eb2bc2cf",
   "metadata": {},
   "source": [
    "* NumPy's **`unique` Funktion** erwartet ein `ndarray` Argument und gibt ein `ndarray` zurück. \n",
    "* Wenn Sie eine Liste übergeben, konvertiert NumPy diese in ein `ndarray`. `ndarray` ist viel performanter, als eine Liste. \n",
    "* Das Schlüsselwort-Argument **`return_counts`**`=True` weist `unique` an, die Anzahl der Vorkommnisse jedes einzelnen Wertes zu zählen\n",
    "* In diesem Fall gibt `unique` ein **Tupel von zwei eindimensionalen** `ndarray`'s zurück, die die **sortierten eindeutigen Werte** bzw. ihre entsprechenden Häufigkeiten enthalten. "
   ]
  },
  {
   "cell_type": "code",
   "execution_count": null,
   "id": "9686df44-32e7-4f76-ad75-5e04467a4001",
   "metadata": {},
   "outputs": [],
   "source": [
    "np.unique(rolls, return_counts=True)"
   ]
  },
  {
   "cell_type": "markdown",
   "id": "98332dcc-4644-4092-8fce-5338fe95c142",
   "metadata": {},
   "source": [
    "<br>\n",
    "\n",
    "## Das Balkendiagramm (bar plot)\n",
    "\n",
    "<img src=\"images/Seaborn_01.png\" width=\"500\">"
   ]
  },
  {
   "cell_type": "code",
   "execution_count": null,
   "id": "20623287-008f-4d06-8acc-c0cbb2c65aba",
   "metadata": {},
   "outputs": [],
   "source": [
    "# create a title for the bar plot\n",
    "title = f'{number_rolls:,} Mal Würfeln eines Würfels'\n",
    "\n",
    "# overwrite the default style white with no grid\n",
    "sns.set_style('whitegrid')\n",
    "\n",
    "# create and display the bar plot\n",
    "axes = sns.barplot(x=values, y=frequencies, palette='bright')\n",
    "\n",
    "# set the title of the plot\n",
    "axes.set_title(title)\n",
    "\n",
    "# label the axes\n",
    "axes.set(xlabel='Augenzahl', ylabel='Häufigkeit')\n",
    "\n",
    "# scale the y-axis to add room for text above bars\n",
    "axes.set_ylim(top=max(frequencies) * 1.15)\n",
    "\n",
    "# create and display the text for each bar\n",
    "for bar, frequency in zip(axes.patches, frequencies):\n",
    "    text_x = bar.get_x() + bar.get_width() / 2.0\n",
    "    text_y = bar.get_height()\n",
    "    text = f'{frequency:,}\\n{frequency / number_rolls:.3%}'\n",
    "    axes.text(text_x, text_y, text, fontsize=11, ha='center', va='bottom')"
   ]
  },
  {
   "cell_type": "markdown",
   "id": "2e95d2ec-65d1-4b68-a83b-dc7a343d1bac",
   "metadata": {},
   "source": [
    "&nbsp;\n",
    "\n",
    "## Zusammenführen der Codesnippets zu einem Script mittels IPython Magic `%recall`\n",
    "\n",
    "Bemerkung: Die Zahlen im der folgenden `%recall`-Magic beziehen sich auf die Nummern der ausgeführten Zellen, das heisst die Zelle mit Ausführungsnummer 2, 3, 4, 5 und 7. D.h. wir gehen davon aus, dass die vorhergehendenb Codezellen nur einmal, sequentiell ausgeführt wurden."
   ]
  },
  {
   "cell_type": "code",
   "execution_count": null,
   "id": "7e4241b2-b27d-402a-8fc3-6336d78cdc40",
   "metadata": {},
   "outputs": [],
   "source": [
    "%recall 1-4 + 6"
   ]
  },
  {
   "cell_type": "markdown",
   "id": "0b8dcc81-3cd8-4ae4-a9cf-c3f8c446ed44",
   "metadata": {},
   "source": [
    "&nbsp;\n",
    "\n",
    "## Speichern des Scripts in einer Datei mittels IPython Magie `%save`\n",
    "\n",
    "Die folgende Anweisung speichert den Code der ausgeführten Zelle 9 in einer Datei mit dem Namen `RollDie.py`."
   ]
  },
  {
   "cell_type": "code",
   "execution_count": null,
   "id": "f46bcb75-949d-42c5-b423-e198c3ac0002",
   "metadata": {},
   "outputs": [],
   "source": [
    "%save RollDie.py 8"
   ]
  },
  {
   "cell_type": "code",
   "execution_count": null,
   "id": "ebe04147-eba8-400c-ba12-bea8113c8a4d",
   "metadata": {},
   "outputs": [],
   "source": [
    "run RollDie.py"
   ]
  }
 ],
 "metadata": {
  "kernelspec": {
   "display_name": "Python 3 (ipykernel)",
   "language": "python",
   "name": "python3"
  },
  "language_info": {
   "codemirror_mode": {
    "name": "ipython",
    "version": 3
   },
   "file_extension": ".py",
   "mimetype": "text/x-python",
   "name": "python",
   "nbconvert_exporter": "python",
   "pygments_lexer": "ipython3",
   "version": "3.10.5"
  }
 },
 "nbformat": 4,
 "nbformat_minor": 5
}
